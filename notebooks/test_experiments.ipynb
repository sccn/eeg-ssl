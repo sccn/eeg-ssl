{
 "cells": [
  {
   "cell_type": "code",
   "execution_count": 20,
   "id": "d0d0a5eb-9934-451c-9476-3dd5dd2456e2",
   "metadata": {},
   "outputs": [
    {
     "name": "stdout",
     "output_type": "stream",
     "text": [
      "The autoreload extension is already loaded. To reload it, use:\n",
      "  %reload_ext autoreload\n"
     ]
    }
   ],
   "source": [
    "import os\n",
    "import sys\n",
    "import wandb\n",
    "sys.path.insert(0,'../')\n",
    "from libs.ssl_dataloader import *\n",
    "from libs.ssl_model import *\n",
    "from libs.ssl_utils import *\n",
    "from libs import eeg_utils\n",
    "from sklearn.model_selection import train_test_split\n",
    "# Use these commands in the same cell to autoreload local library source code\n",
    "# https://stackoverflow.com/questions/45807760/change-source-code-and-update-jupyter-notebook-but-retain-variables\n",
    "%load_ext autoreload\n",
    "%autoreload 2"
   ]
  },
  {
   "cell_type": "code",
   "execution_count": 2,
   "id": "09086d0e",
   "metadata": {},
   "outputs": [
    {
     "data": {
      "text/plain": [
       "True"
      ]
     },
     "execution_count": 2,
     "metadata": {},
     "output_type": "execute_result"
    }
   ],
   "source": [
    "torch.cuda.is_available()"
   ]
  },
  {
   "cell_type": "code",
   "execution_count": 26,
   "id": "37abe91b",
   "metadata": {},
   "outputs": [
    {
     "name": "stderr",
     "output_type": "stream",
     "text": [
      "Failed to detect the name of this notebook, you can set it manually with the WANDB_NOTEBOOK_NAME environment variable to enable code saving.\n"
     ]
    },
    {
     "name": "stderr",
     "output_type": "stream",
     "text": [
      "\u001b[34m\u001b[1mwandb\u001b[0m: Currently logged in as: \u001b[33mdt-young112\u001b[0m (\u001b[33msccn\u001b[0m). Use \u001b[1m`wandb login --relogin`\u001b[0m to force relogin\n"
     ]
    },
    {
     "data": {
      "text/plain": [
       "True"
      ]
     },
     "execution_count": 26,
     "metadata": {},
     "output_type": "execute_result"
    }
   ],
   "source": [
    "wandb.login()"
   ]
  },
  {
   "cell_type": "code",
   "execution_count": null,
   "id": "536132a4",
   "metadata": {},
   "outputs": [],
   "source": [
    "wandb.init(\n",
    "      # Set the project where this run will be logged\n",
    "      project=\"hbn-ssl\", \n",
    "      # We pass a run name (otherwise it’ll be randomly assigned, like sunshine-lollypop-10)\n",
    "    #   name=f\"experiment_{run}\", \n",
    "      # Track hyperparameters and run metadata\n",
    "      config={\n",
    "        \"n_subjects\": 500,\n",
    "        \"window\": 5,\n",
    "        'mask_prob':0.3,\n",
    "        'num_epochs': 10,\n",
    "        'batch_size': 30,\n",
    "        'epochs': 10\n",
    "      })\n",
    "config = wandb.config"
   ]
  },
  {
   "cell_type": "code",
   "execution_count": 16,
   "id": "a547510c",
   "metadata": {},
   "outputs": [],
   "source": [
    "def get_subjects(basedir):\n",
    "    files = np.array([i for i in os.listdir(basedir) if i.split('.')[-1] == 'set'])\n",
    "    subjects = np.array([i.split('_')[0] for i in os.listdir(basedir) if i.split('.')[-1] == 'set'])\n",
    "    return subjects, files\n",
    "\n",
    "subjects, files = get_subjects(\"/mnt/nemar/child-mind-rest\")\n",
    "subj_train, subj_test, files_train, files_test = train_test_split(subjects, files, test_size=0.1, random_state=1)\n",
    "subj_train, subj_val, files_train, files_val = train_test_split(subj_train, files_train, test_size=0.22, random_state=1) # 0.22 x 0.9 = 0.2"
   ]
  },
  {
   "cell_type": "code",
   "execution_count": 23,
   "id": "e776e462-fe14-45a0-9eb3-df1cb2374aeb",
   "metadata": {
    "tags": []
   },
   "outputs": [],
   "source": [
    "SFREQ = 128\n",
    "dataset = MaskedContrastiveLearningDataset(\n",
    "        data_dir = \"/mnt/nemar/child-mind-rest\",\n",
    "        # subjects = subj_train.tolist(),\n",
    "        n_subjects=100,\n",
    "        x_params = {\n",
    "            'sfreq': SFREQ,\n",
    "            'window': 2\n",
    "        },\n",
    "    )"
   ]
  },
  {
   "cell_type": "code",
   "execution_count": 10,
   "id": "a3a2cc31",
   "metadata": {},
   "outputs": [
    {
     "name": "stdout",
     "output_type": "stream",
     "text": [
      "8400\n"
     ]
    }
   ],
   "source": [
    "torch.set_num_threads(1)\n",
    "print(len(list(torch.utils.data.DataLoader(dataset, num_workers=0))))"
   ]
  },
  {
   "cell_type": "code",
   "execution_count": 9,
   "id": "75e5da3e",
   "metadata": {},
   "outputs": [
    {
     "name": "stdout",
     "output_type": "stream",
     "text": [
      "8400\n"
     ]
    }
   ],
   "source": [
    "torch.set_num_threads(1)\n",
    "print(len(list(torch.utils.data.DataLoader(dataset, num_workers=24))))"
   ]
  },
  {
   "cell_type": "code",
   "execution_count": 11,
   "id": "47c53071",
   "metadata": {},
   "outputs": [
    {
     "name": "stdout",
     "output_type": "stream",
     "text": [
      "8400\n"
     ]
    }
   ],
   "source": [
    "torch.set_num_threads(1)\n",
    "print(len(list(torch.utils.data.DataLoader(dataset, num_workers=12))))"
   ]
  },
  {
   "cell_type": "code",
   "execution_count": 12,
   "id": "7837eb7b",
   "metadata": {},
   "outputs": [
    {
     "name": "stdout",
     "output_type": "stream",
     "text": [
      "8400\n"
     ]
    }
   ],
   "source": [
    "torch.set_num_threads(1)\n",
    "print(len(list(torch.utils.data.DataLoader(dataset, num_workers=6))))"
   ]
  },
  {
   "cell_type": "code",
   "execution_count": 13,
   "id": "dad3ecc9",
   "metadata": {},
   "outputs": [
    {
     "name": "stdout",
     "output_type": "stream",
     "text": [
      "8400\n"
     ]
    }
   ],
   "source": [
    "torch.set_num_threads(1)\n",
    "print(len(list(torch.utils.data.DataLoader(dataset, num_workers=3))))"
   ]
  },
  {
   "cell_type": "code",
   "execution_count": 14,
   "id": "e9649765",
   "metadata": {},
   "outputs": [
    {
     "name": "stdout",
     "output_type": "stream",
     "text": [
      "8400\n"
     ]
    }
   ],
   "source": [
    "torch.set_num_threads(1)\n",
    "print(len(list(torch.utils.data.DataLoader(dataset, num_workers=30))))"
   ]
  },
  {
   "cell_type": "code",
   "execution_count": 24,
   "id": "df20071b",
   "metadata": {},
   "outputs": [
    {
     "name": "stderr",
     "output_type": "stream",
     "text": [
      "/home/dung/eeg-ssl/.venv/lib/python3.10/site-packages/torch/nn/utils/weight_norm.py:30: UserWarning: torch.nn.utils.weight_norm is deprecated in favor of torch.nn.utils.parametrizations.weight_norm.\n",
      "  warnings.warn(\"torch.nn.utils.weight_norm is deprecated in favor of torch.nn.utils.parametrizations.weight_norm.\")\n"
     ]
    },
    {
     "name": "stdout",
     "output_type": "stream",
     "text": [
      "torch.Size([128, 768, 52]) ('NDARYR771VED', 'NDAREK395BM3', 'NDARFN553LUV', 'NDARYR771VED', 'NDAREK395BM3', 'NDARFN553LUV', 'NDARYR771VED', 'NDAREK395BM3', 'NDARFN553LUV', 'NDARYR771VED', 'NDAREK395BM3', 'NDARFN553LUV', 'NDARYR771VED', 'NDAREK395BM3', 'NDARFN553LUV', 'NDARYR771VED', 'NDAREK395BM3', 'NDARFN553LUV', 'NDARYR771VED', 'NDAREK395BM3', 'NDARFN553LUV', 'NDARYR771VED', 'NDAREK395BM3', 'NDARFN553LUV', 'NDARYR771VED', 'NDAREK395BM3', 'NDARFN553LUV', 'NDARYR771VED', 'NDAREK395BM3', 'NDARFN553LUV', 'NDARYR771VED', 'NDAREK395BM3', 'NDARFN553LUV', 'NDARYR771VED', 'NDAREK395BM3', 'NDARFN553LUV', 'NDARYR771VED', 'NDAREK395BM3', 'NDARFN553LUV', 'NDARYR771VED', 'NDAREK395BM3', 'NDARFN553LUV', 'NDARYR771VED', 'NDAREK395BM3', 'NDARFN553LUV', 'NDARYR771VED', 'NDAREK395BM3', 'NDARFN553LUV', 'NDARYR771VED', 'NDAREK395BM3', 'NDARFN553LUV', 'NDARYR771VED', 'NDAREK395BM3', 'NDARFN553LUV', 'NDARYR771VED', 'NDAREK395BM3', 'NDARFN553LUV', 'NDARYR771VED', 'NDAREK395BM3', 'NDARFN553LUV', 'NDARYR771VED', 'NDAREK395BM3', 'NDARFN553LUV', 'NDARYR771VED', 'NDAREK395BM3', 'NDARFN553LUV', 'NDARYR771VED', 'NDAREK395BM3', 'NDARFN553LUV', 'NDARYR771VED', 'NDAREK395BM3', 'NDARFN553LUV', 'NDARYR771VED', 'NDAREK395BM3', 'NDARFN553LUV', 'NDARYR771VED', 'NDAREK395BM3', 'NDARFN553LUV', 'NDARYR771VED', 'NDAREK395BM3', 'NDARFN553LUV', 'NDARYR771VED', 'NDAREK395BM3', 'NDARFN553LUV', 'NDARYR771VED', 'NDAREK395BM3', 'NDARFN553LUV', 'NDARYR771VED', 'NDAREK395BM3', 'NDARFN553LUV', 'NDARYR771VED', 'NDAREK395BM3', 'NDARFN553LUV', 'NDARYR771VED', 'NDAREK395BM3', 'NDARFN553LUV', 'NDARYR771VED', 'NDAREK395BM3', 'NDARFN553LUV', 'NDARYR771VED', 'NDAREK395BM3', 'NDARFN553LUV', 'NDARYR771VED', 'NDAREK395BM3', 'NDARFN553LUV', 'NDARYR771VED', 'NDAREK395BM3', 'NDARFN553LUV', 'NDARYR771VED', 'NDAREK395BM3', 'NDARFN553LUV', 'NDARYR771VED', 'NDAREK395BM3', 'NDARFN553LUV', 'NDARYR771VED', 'NDAREK395BM3', 'NDARFN553LUV', 'NDARYR771VED', 'NDAREK395BM3', 'NDARFN553LUV', 'NDARYR771VED', 'NDAREK395BM3', 'NDARFN553LUV', 'NDARYR771VED', 'NDAREK395BM3', 'NDARFN553LUV', 'NDARYR771VED', 'NDAREK395BM3')\n",
      "Took 3.174973964691162 second(s)\n",
      "torch.Size([128, 768, 52]) ('NDARFN553LUV', 'NDARYR771VED', 'NDAREK395BM3', 'NDARFN553LUV', 'NDARYR771VED', 'NDAREK395BM3', 'NDARFN553LUV', 'NDARYR771VED', 'NDAREK395BM3', 'NDARFN553LUV', 'NDARYR771VED', 'NDAREK395BM3', 'NDARFN553LUV', 'NDARYR771VED', 'NDAREK395BM3', 'NDARFN553LUV', 'NDARYR771VED', 'NDAREK395BM3', 'NDARFN553LUV', 'NDARYR771VED', 'NDAREK395BM3', 'NDARFN553LUV', 'NDARYR771VED', 'NDAREK395BM3', 'NDARFN553LUV', 'NDARYR771VED', 'NDAREK395BM3', 'NDARFN553LUV', 'NDARYR771VED', 'NDAREK395BM3', 'NDARFN553LUV', 'NDARYR771VED', 'NDAREK395BM3', 'NDARFN553LUV', 'NDARYR771VED', 'NDAREK395BM3', 'NDARFN553LUV', 'NDARYR771VED', 'NDAREK395BM3', 'NDARFN553LUV', 'NDARYR771VED', 'NDAREK395BM3', 'NDARFN553LUV', 'NDARYR771VED', 'NDAREK395BM3', 'NDARFN553LUV', 'NDARYR771VED', 'NDAREK395BM3', 'NDARFN553LUV', 'NDARYR771VED', 'NDAREK395BM3', 'NDARFN553LUV', 'NDARYR771VED', 'NDAREK395BM3', 'NDARFN553LUV', 'NDARYR771VED', 'NDAREK395BM3', 'NDARFN553LUV', 'NDARYR771VED', 'NDAREK395BM3', 'NDARFN553LUV', 'NDARYR771VED', 'NDAREK395BM3', 'NDARFN553LUV', 'NDARYR771VED', 'NDAREK395BM3', 'NDARFN553LUV', 'NDARYR771VED', 'NDAREK395BM3', 'NDARFN553LUV', 'NDARYR771VED', 'NDAREK395BM3', 'NDARFN553LUV', 'NDARYR771VED', 'NDAREK395BM3', 'NDARFN553LUV', 'NDARYR771VED', 'NDAREK395BM3', 'NDARFN553LUV', 'NDARYR771VED', 'NDAREK395BM3', 'NDARFN553LUV', 'NDARYR771VED', 'NDAREK395BM3', 'NDARFN553LUV', 'NDARYR771VED', 'NDAREK395BM3', 'NDARFN553LUV', 'NDARYR771VED', 'NDAREK395BM3', 'NDARFN553LUV', 'NDARYR771VED', 'NDAREK395BM3', 'NDARFN553LUV', 'NDARYR771VED', 'NDAREK395BM3', 'NDARFN553LUV', 'NDARYR771VED', 'NDAREK395BM3', 'NDARFN553LUV', 'NDARYR771VED', 'NDAREK395BM3', 'NDARFN553LUV', 'NDARYR771VED', 'NDAREK395BM3', 'NDARFN553LUV', 'NDARYR771VED', 'NDAREK395BM3', 'NDARFN553LUV', 'NDARYR771VED', 'NDAREK395BM3', 'NDARFN553LUV', 'NDARYR771VED', 'NDAREK395BM3', 'NDARFN553LUV', 'NDARYR771VED', 'NDAREK395BM3', 'NDARFN553LUV', 'NDARYR771VED', 'NDAREK395BM3', 'NDARFN553LUV', 'NDARYR771VED', 'NDAREK395BM3', 'NDARFN553LUV', 'NDARJG300HWH', 'NDARLR586MPX', 'NDARJY747PRJ', 'NDARJG300HWH')\n",
      "Took 3.019763469696045 second(s)\n",
      "torch.Size([128, 768, 52]) ('NDARLR586MPX', 'NDARJY747PRJ', 'NDARJG300HWH', 'NDARLR586MPX', 'NDARJY747PRJ', 'NDARJG300HWH', 'NDARLR586MPX', 'NDARJY747PRJ', 'NDARJG300HWH', 'NDARLR586MPX', 'NDARJY747PRJ', 'NDARJG300HWH', 'NDARLR586MPX', 'NDARJY747PRJ', 'NDARJG300HWH', 'NDARLR586MPX', 'NDARJY747PRJ', 'NDARJG300HWH', 'NDARLR586MPX', 'NDARJY747PRJ', 'NDARJG300HWH', 'NDARLR586MPX', 'NDARJY747PRJ', 'NDARJG300HWH', 'NDARLR586MPX', 'NDARJY747PRJ', 'NDARJG300HWH', 'NDARLR586MPX', 'NDARJY747PRJ', 'NDARJG300HWH', 'NDARLR586MPX', 'NDARJY747PRJ', 'NDARJG300HWH', 'NDARLR586MPX', 'NDARJY747PRJ', 'NDARJG300HWH', 'NDARLR586MPX', 'NDARJY747PRJ', 'NDARJG300HWH', 'NDARLR586MPX', 'NDARJY747PRJ', 'NDARJG300HWH', 'NDARLR586MPX', 'NDARJY747PRJ', 'NDARJG300HWH', 'NDARLR586MPX', 'NDARJY747PRJ', 'NDARJG300HWH', 'NDARLR586MPX', 'NDARJY747PRJ', 'NDARJG300HWH', 'NDARLR586MPX', 'NDARJY747PRJ', 'NDARJG300HWH', 'NDARLR586MPX', 'NDARJY747PRJ', 'NDARJG300HWH', 'NDARLR586MPX', 'NDARJY747PRJ', 'NDARJG300HWH', 'NDARLR586MPX', 'NDARJY747PRJ', 'NDARJG300HWH', 'NDARLR586MPX', 'NDARJY747PRJ', 'NDARJG300HWH', 'NDARLR586MPX', 'NDARJY747PRJ', 'NDARJG300HWH', 'NDARLR586MPX', 'NDARJY747PRJ', 'NDARJG300HWH', 'NDARLR586MPX', 'NDARJY747PRJ', 'NDARJG300HWH', 'NDARLR586MPX', 'NDARJY747PRJ', 'NDARJG300HWH', 'NDARLR586MPX', 'NDARJY747PRJ', 'NDARJG300HWH', 'NDARLR586MPX', 'NDARJY747PRJ', 'NDARJG300HWH', 'NDARLR586MPX', 'NDARJY747PRJ', 'NDARJG300HWH', 'NDARLR586MPX', 'NDARJY747PRJ', 'NDARJG300HWH', 'NDARLR586MPX', 'NDARJY747PRJ', 'NDARJG300HWH', 'NDARLR586MPX', 'NDARJY747PRJ', 'NDARJG300HWH', 'NDARLR586MPX', 'NDARJY747PRJ', 'NDARJG300HWH', 'NDARLR586MPX', 'NDARJY747PRJ', 'NDARJG300HWH', 'NDARLR586MPX', 'NDARJY747PRJ', 'NDARJG300HWH', 'NDARLR586MPX', 'NDARJY747PRJ', 'NDARJG300HWH', 'NDARLR586MPX', 'NDARJY747PRJ', 'NDARJG300HWH', 'NDARLR586MPX', 'NDARJY747PRJ', 'NDARJG300HWH', 'NDARLR586MPX', 'NDARJY747PRJ', 'NDARJG300HWH', 'NDARLR586MPX', 'NDARJY747PRJ', 'NDARJG300HWH', 'NDARLR586MPX', 'NDARJY747PRJ', 'NDARJG300HWH', 'NDARLR586MPX', 'NDARJY747PRJ', 'NDARJG300HWH', 'NDARLR586MPX', 'NDARJY747PRJ')\n",
      "Took 0.019953012466430664 second(s)\n",
      "torch.Size([128, 768, 52]) ('NDARJG300HWH', 'NDARLR586MPX', 'NDARJY747PRJ', 'NDARJG300HWH', 'NDARLR586MPX', 'NDARJY747PRJ', 'NDARJG300HWH', 'NDARLR586MPX', 'NDARJY747PRJ', 'NDARJG300HWH', 'NDARLR586MPX', 'NDARJY747PRJ', 'NDARJG300HWH', 'NDARLR586MPX', 'NDARJY747PRJ', 'NDARJG300HWH', 'NDARLR586MPX', 'NDARJY747PRJ', 'NDARJG300HWH', 'NDARLR586MPX', 'NDARJY747PRJ', 'NDARJG300HWH', 'NDARLR586MPX', 'NDARJY747PRJ', 'NDARJG300HWH', 'NDARLR586MPX', 'NDARJY747PRJ', 'NDARJG300HWH', 'NDARLR586MPX', 'NDARJY747PRJ', 'NDARJG300HWH', 'NDARLR586MPX', 'NDARJY747PRJ', 'NDARJG300HWH', 'NDARLR586MPX', 'NDARJY747PRJ', 'NDARJG300HWH', 'NDARLR586MPX', 'NDARJY747PRJ', 'NDARJG300HWH', 'NDARLR586MPX', 'NDARJY747PRJ', 'NDARJG300HWH', 'NDARLR586MPX', 'NDARJY747PRJ', 'NDARJG300HWH', 'NDARLR586MPX', 'NDARJY747PRJ', 'NDARJG300HWH', 'NDARLR586MPX', 'NDARJY747PRJ', 'NDARJG300HWH', 'NDARLR586MPX', 'NDARJY747PRJ', 'NDARJG300HWH', 'NDARLR586MPX', 'NDARJY747PRJ', 'NDARJG300HWH', 'NDARLR586MPX', 'NDARJY747PRJ', 'NDARJG300HWH', 'NDARLR586MPX', 'NDARJY747PRJ', 'NDARJG300HWH', 'NDARLR586MPX', 'NDARJY747PRJ', 'NDARJG300HWH', 'NDARLR586MPX', 'NDARJY747PRJ', 'NDARJG300HWH', 'NDARLR586MPX', 'NDARJY747PRJ', 'NDARJG300HWH', 'NDARLR586MPX', 'NDARJY747PRJ', 'NDARJG300HWH', 'NDARLR586MPX', 'NDARJY747PRJ', 'NDARJG300HWH', 'NDARLR586MPX', 'NDARJY747PRJ', 'NDARJG300HWH', 'NDARLR586MPX', 'NDARJY747PRJ', 'NDARJG300HWH', 'NDARLR586MPX', 'NDARJY747PRJ', 'NDARJG300HWH', 'NDARLR586MPX', 'NDARJY747PRJ', 'NDARJG300HWH', 'NDARLR586MPX', 'NDARJY747PRJ', 'NDARJG300HWH', 'NDARLR586MPX', 'NDARJY747PRJ', 'NDARJG300HWH', 'NDARLR586MPX', 'NDARJY747PRJ', 'NDARJG300HWH', 'NDARLR586MPX', 'NDARJY747PRJ', 'NDARJG300HWH', 'NDARLR586MPX', 'NDARJY747PRJ', 'NDARJG300HWH', 'NDARLR586MPX', 'NDARJY747PRJ', 'NDARJG300HWH', 'NDARLR586MPX', 'NDARJY747PRJ', 'NDARJG300HWH', 'NDARLR586MPX', 'NDARJY747PRJ', 'NDARJG300HWH', 'NDARLR586MPX', 'NDARJY747PRJ', 'NDARJG300HWH', 'NDARLR586MPX', 'NDARJY747PRJ', 'NDARGZ207NNA', 'NDAREC480KFA', 'NDARUJ894ZXG', 'NDARGZ207NNA', 'NDAREC480KFA', 'NDARUJ894ZXG', 'NDARGZ207NNA', 'NDAREC480KFA')\n",
      "Took 2.885910749435425 second(s)\n",
      "torch.Size([128, 768, 52]) ('NDARUJ894ZXG', 'NDARGZ207NNA', 'NDAREC480KFA', 'NDARUJ894ZXG', 'NDARGZ207NNA', 'NDAREC480KFA', 'NDARUJ894ZXG', 'NDARGZ207NNA', 'NDAREC480KFA', 'NDARUJ894ZXG', 'NDARGZ207NNA', 'NDAREC480KFA', 'NDARUJ894ZXG', 'NDARGZ207NNA', 'NDAREC480KFA', 'NDARUJ894ZXG', 'NDARGZ207NNA', 'NDAREC480KFA', 'NDARUJ894ZXG', 'NDARGZ207NNA', 'NDAREC480KFA', 'NDARUJ894ZXG', 'NDARGZ207NNA', 'NDAREC480KFA', 'NDARUJ894ZXG', 'NDARGZ207NNA', 'NDAREC480KFA', 'NDARUJ894ZXG', 'NDARGZ207NNA', 'NDAREC480KFA', 'NDARUJ894ZXG', 'NDARGZ207NNA', 'NDAREC480KFA', 'NDARUJ894ZXG', 'NDARGZ207NNA', 'NDAREC480KFA', 'NDARUJ894ZXG', 'NDARGZ207NNA', 'NDAREC480KFA', 'NDARUJ894ZXG', 'NDARGZ207NNA', 'NDAREC480KFA', 'NDARUJ894ZXG', 'NDARGZ207NNA', 'NDAREC480KFA', 'NDARUJ894ZXG', 'NDARGZ207NNA', 'NDAREC480KFA', 'NDARUJ894ZXG', 'NDARGZ207NNA', 'NDAREC480KFA', 'NDARUJ894ZXG', 'NDARGZ207NNA', 'NDAREC480KFA', 'NDARUJ894ZXG', 'NDARGZ207NNA', 'NDAREC480KFA', 'NDARUJ894ZXG', 'NDARGZ207NNA', 'NDAREC480KFA', 'NDARUJ894ZXG', 'NDARGZ207NNA', 'NDAREC480KFA', 'NDARUJ894ZXG', 'NDARGZ207NNA', 'NDAREC480KFA', 'NDARUJ894ZXG', 'NDARGZ207NNA', 'NDAREC480KFA', 'NDARUJ894ZXG', 'NDARGZ207NNA', 'NDAREC480KFA', 'NDARUJ894ZXG', 'NDARGZ207NNA', 'NDAREC480KFA', 'NDARUJ894ZXG', 'NDARGZ207NNA', 'NDAREC480KFA', 'NDARUJ894ZXG', 'NDARGZ207NNA', 'NDAREC480KFA', 'NDARUJ894ZXG', 'NDARGZ207NNA', 'NDAREC480KFA', 'NDARUJ894ZXG', 'NDARGZ207NNA', 'NDAREC480KFA', 'NDARUJ894ZXG', 'NDARGZ207NNA', 'NDAREC480KFA', 'NDARUJ894ZXG', 'NDARGZ207NNA', 'NDAREC480KFA', 'NDARUJ894ZXG', 'NDARGZ207NNA', 'NDAREC480KFA', 'NDARUJ894ZXG', 'NDARGZ207NNA', 'NDAREC480KFA', 'NDARUJ894ZXG', 'NDARGZ207NNA', 'NDAREC480KFA', 'NDARUJ894ZXG', 'NDARGZ207NNA', 'NDAREC480KFA', 'NDARUJ894ZXG', 'NDARGZ207NNA', 'NDAREC480KFA', 'NDARUJ894ZXG', 'NDARGZ207NNA', 'NDAREC480KFA', 'NDARUJ894ZXG', 'NDARGZ207NNA', 'NDAREC480KFA', 'NDARUJ894ZXG', 'NDARGZ207NNA', 'NDAREC480KFA', 'NDARUJ894ZXG', 'NDARGZ207NNA', 'NDAREC480KFA', 'NDARUJ894ZXG', 'NDARGZ207NNA', 'NDAREC480KFA', 'NDARUJ894ZXG', 'NDARGZ207NNA', 'NDAREC480KFA', 'NDARUJ894ZXG', 'NDARGZ207NNA')\n",
      "Took 0.02009439468383789 second(s)\n"
     ]
    },
    {
     "ename": "KeyboardInterrupt",
     "evalue": "",
     "output_type": "error",
     "traceback": [
      "\u001b[0;31m---------------------------------------------------------------------------\u001b[0m",
      "\u001b[0;31mModuleNotFoundError\u001b[0m                       Traceback (most recent call last)",
      "File \u001b[0;32m~/eeg-ssl/.venv/lib/python3.10/site-packages/mne/utils/check.py:382\u001b[0m, in \u001b[0;36m_soft_import\u001b[0;34m(name, purpose, strict)\u001b[0m\n\u001b[1;32m    381\u001b[0m \u001b[38;5;28;01mtry\u001b[39;00m:\n\u001b[0;32m--> 382\u001b[0m     mod \u001b[38;5;241m=\u001b[39m \u001b[43mimport_module\u001b[49m\u001b[43m(\u001b[49m\u001b[43mname\u001b[49m\u001b[43m)\u001b[49m\n\u001b[1;32m    383\u001b[0m     \u001b[38;5;28;01mreturn\u001b[39;00m mod\n",
      "File \u001b[0;32m/usr/lib/python3.10/importlib/__init__.py:126\u001b[0m, in \u001b[0;36mimport_module\u001b[0;34m(name, package)\u001b[0m\n\u001b[1;32m    125\u001b[0m         level \u001b[38;5;241m+\u001b[39m\u001b[38;5;241m=\u001b[39m \u001b[38;5;241m1\u001b[39m\n\u001b[0;32m--> 126\u001b[0m \u001b[38;5;28;01mreturn\u001b[39;00m \u001b[43m_bootstrap\u001b[49m\u001b[38;5;241;43m.\u001b[39;49m\u001b[43m_gcd_import\u001b[49m\u001b[43m(\u001b[49m\u001b[43mname\u001b[49m\u001b[43m[\u001b[49m\u001b[43mlevel\u001b[49m\u001b[43m:\u001b[49m\u001b[43m]\u001b[49m\u001b[43m,\u001b[49m\u001b[43m \u001b[49m\u001b[43mpackage\u001b[49m\u001b[43m,\u001b[49m\u001b[43m \u001b[49m\u001b[43mlevel\u001b[49m\u001b[43m)\u001b[49m\n",
      "File \u001b[0;32m<frozen importlib._bootstrap>:1050\u001b[0m, in \u001b[0;36m_gcd_import\u001b[0;34m(name, package, level)\u001b[0m\n",
      "File \u001b[0;32m<frozen importlib._bootstrap>:1027\u001b[0m, in \u001b[0;36m_find_and_load\u001b[0;34m(name, import_)\u001b[0m\n",
      "File \u001b[0;32m<frozen importlib._bootstrap>:1004\u001b[0m, in \u001b[0;36m_find_and_load_unlocked\u001b[0;34m(name, import_)\u001b[0m\n",
      "\u001b[0;31mModuleNotFoundError\u001b[0m: No module named 'pymatreader'",
      "\nDuring handling of the above exception, another exception occurred:\n",
      "\u001b[0;31mRuntimeError\u001b[0m                              Traceback (most recent call last)",
      "File \u001b[0;32m~/eeg-ssl/.venv/lib/python3.10/site-packages/mne/io/eeglab/_eeglab.py:74\u001b[0m, in \u001b[0;36m_readmat\u001b[0;34m(fname, uint16_codec)\u001b[0m\n\u001b[1;32m     73\u001b[0m \u001b[38;5;28;01mtry\u001b[39;00m:\n\u001b[0;32m---> 74\u001b[0m     read_mat \u001b[38;5;241m=\u001b[39m \u001b[43m_import_pymatreader_funcs\u001b[49m\u001b[43m(\u001b[49m\u001b[38;5;124;43m\"\u001b[39;49m\u001b[38;5;124;43mEEGLAB I/O\u001b[39;49m\u001b[38;5;124;43m\"\u001b[39;49m\u001b[43m)\u001b[49m\n\u001b[1;32m     75\u001b[0m \u001b[38;5;28;01mexcept\u001b[39;00m \u001b[38;5;167;01mRuntimeError\u001b[39;00m:  \u001b[38;5;66;03m# pymatreader not installed\u001b[39;00m\n",
      "File \u001b[0;32m~/eeg-ssl/.venv/lib/python3.10/site-packages/mne/utils/check.py:175\u001b[0m, in \u001b[0;36m_import_pymatreader_funcs\u001b[0;34m(purpose)\u001b[0m\n\u001b[1;32m    174\u001b[0m \u001b[38;5;28;01mdef\u001b[39;00m \u001b[38;5;21m_import_pymatreader_funcs\u001b[39m(purpose):\n\u001b[0;32m--> 175\u001b[0m     pymatreader \u001b[38;5;241m=\u001b[39m \u001b[43m_soft_import\u001b[49m\u001b[43m(\u001b[49m\u001b[38;5;124;43m\"\u001b[39;49m\u001b[38;5;124;43mpymatreader\u001b[39;49m\u001b[38;5;124;43m\"\u001b[39;49m\u001b[43m,\u001b[49m\u001b[43m \u001b[49m\u001b[43mpurpose\u001b[49m\u001b[43m)\u001b[49m\n\u001b[1;32m    176\u001b[0m     \u001b[38;5;28;01mreturn\u001b[39;00m pymatreader\u001b[38;5;241m.\u001b[39mread_mat\n",
      "File \u001b[0;32m~/eeg-ssl/.venv/lib/python3.10/site-packages/mne/utils/check.py:386\u001b[0m, in \u001b[0;36m_soft_import\u001b[0;34m(name, purpose, strict)\u001b[0m\n\u001b[1;32m    385\u001b[0m \u001b[38;5;28;01mif\u001b[39;00m strict:\n\u001b[0;32m--> 386\u001b[0m     \u001b[38;5;28;01mraise\u001b[39;00m \u001b[38;5;167;01mRuntimeError\u001b[39;00m(\n\u001b[1;32m    387\u001b[0m         \u001b[38;5;124mf\u001b[39m\u001b[38;5;124m\"\u001b[39m\u001b[38;5;124mFor \u001b[39m\u001b[38;5;132;01m{\u001b[39;00mpurpose\u001b[38;5;132;01m}\u001b[39;00m\u001b[38;5;124m to work, the \u001b[39m\u001b[38;5;132;01m{\u001b[39;00mname\u001b[38;5;132;01m}\u001b[39;00m\u001b[38;5;124m module is needed, \u001b[39m\u001b[38;5;124m\"\u001b[39m\n\u001b[1;32m    388\u001b[0m         \u001b[38;5;241m+\u001b[39m \u001b[38;5;124m\"\u001b[39m\u001b[38;5;124mbut it could not be imported.\u001b[39m\u001b[38;5;130;01m\\n\u001b[39;00m\u001b[38;5;124m\"\u001b[39m\n\u001b[1;32m    389\u001b[0m         \u001b[38;5;241m+\u001b[39m \u001b[38;5;124m\"\u001b[39m\u001b[38;5;130;01m\\n\u001b[39;00m\u001b[38;5;124m\"\u001b[39m\u001b[38;5;241m.\u001b[39mjoin(\n\u001b[1;32m    390\u001b[0m             (\n\u001b[1;32m    391\u001b[0m                 indent(\n\u001b[1;32m    392\u001b[0m                     \u001b[38;5;124m\"\u001b[39m\u001b[38;5;124muse the following installation method \u001b[39m\u001b[38;5;124m\"\u001b[39m\n\u001b[1;32m    393\u001b[0m                     \u001b[38;5;124m\"\u001b[39m\u001b[38;5;124mappropriate for your environment:\u001b[39m\u001b[38;5;124m\"\u001b[39m\n\u001b[1;32m    394\u001b[0m                 ),\n\u001b[1;32m    395\u001b[0m                 indent(\u001b[38;5;124mf\u001b[39m\u001b[38;5;124m\"\u001b[39m\u001b[38;5;124m'\u001b[39m\u001b[38;5;124mpip install \u001b[39m\u001b[38;5;132;01m{\u001b[39;00mpip_name\u001b[38;5;132;01m}\u001b[39;00m\u001b[38;5;124m'\u001b[39m\u001b[38;5;124m\"\u001b[39m),\n\u001b[1;32m    396\u001b[0m                 indent(\u001b[38;5;124mf\u001b[39m\u001b[38;5;124m\"\u001b[39m\u001b[38;5;124m'\u001b[39m\u001b[38;5;124mconda install -c conda-forge \u001b[39m\u001b[38;5;132;01m{\u001b[39;00mpip_name\u001b[38;5;132;01m}\u001b[39;00m\u001b[38;5;124m'\u001b[39m\u001b[38;5;124m\"\u001b[39m),\n\u001b[1;32m    397\u001b[0m             )\n\u001b[1;32m    398\u001b[0m         )\n\u001b[1;32m    399\u001b[0m     )\n\u001b[1;32m    400\u001b[0m \u001b[38;5;28;01melse\u001b[39;00m:\n",
      "\u001b[0;31mRuntimeError\u001b[0m: For EEGLAB I/O to work, the pymatreader module is needed, but it could not be imported.\n              use the following installation method appropriate for your environment:\n              'pip install pymatreader'\n              'conda install -c conda-forge pymatreader'",
      "\nDuring handling of the above exception, another exception occurred:\n",
      "\u001b[0;31mKeyboardInterrupt\u001b[0m                         Traceback (most recent call last)",
      "Cell \u001b[0;32mIn[24], line 9\u001b[0m\n\u001b[1;32m      7\u001b[0m \u001b[38;5;28;01mfor\u001b[39;00m e \u001b[38;5;129;01min\u001b[39;00m \u001b[38;5;28mrange\u001b[39m(\u001b[38;5;241m1\u001b[39m):\n\u001b[1;32m      8\u001b[0m     start_time \u001b[38;5;241m=\u001b[39m time\u001b[38;5;241m.\u001b[39mtime()\n\u001b[0;32m----> 9\u001b[0m     \u001b[38;5;28;01mfor\u001b[39;00m t, (samples, subj) \u001b[38;5;129;01min\u001b[39;00m \u001b[38;5;28menumerate\u001b[39m(dataloader):\n\u001b[1;32m     10\u001b[0m         \u001b[38;5;66;03m# shuffling_indices = list(range(samples.shape[0]))\u001b[39;00m\n\u001b[1;32m     11\u001b[0m         \u001b[38;5;66;03m# np.random.shuffle(shuffling_indices)\u001b[39;00m\n\u001b[1;32m     12\u001b[0m         \u001b[38;5;66;03m# y = np.array(y)[shuffling_indices]\u001b[39;00m\n\u001b[1;32m     13\u001b[0m         \u001b[38;5;66;03m# shuffling_indices = torch.tensor(shuffling_indices)\u001b[39;00m\n\u001b[1;32m     14\u001b[0m         \u001b[38;5;66;03m# samples = torch.index_select(samples, 0, shuffling_indices)\u001b[39;00m\n\u001b[1;32m     16\u001b[0m         samples \u001b[38;5;241m=\u001b[39m samples\u001b[38;5;241m.\u001b[39mto(device\u001b[38;5;241m=\u001b[39mdevice, dtype\u001b[38;5;241m=\u001b[39mtorch\u001b[38;5;241m.\u001b[39mfloat32)\n\u001b[1;32m     17\u001b[0m         \u001b[38;5;28mprint\u001b[39m(model(samples)\u001b[38;5;241m.\u001b[39mshape, subj)\n",
      "File \u001b[0;32m~/eeg-ssl/.venv/lib/python3.10/site-packages/torch/utils/data/dataloader.py:630\u001b[0m, in \u001b[0;36m_BaseDataLoaderIter.__next__\u001b[0;34m(self)\u001b[0m\n\u001b[1;32m    627\u001b[0m \u001b[38;5;28;01mif\u001b[39;00m \u001b[38;5;28mself\u001b[39m\u001b[38;5;241m.\u001b[39m_sampler_iter \u001b[38;5;129;01mis\u001b[39;00m \u001b[38;5;28;01mNone\u001b[39;00m:\n\u001b[1;32m    628\u001b[0m     \u001b[38;5;66;03m# TODO(https://github.com/pytorch/pytorch/issues/76750)\u001b[39;00m\n\u001b[1;32m    629\u001b[0m     \u001b[38;5;28mself\u001b[39m\u001b[38;5;241m.\u001b[39m_reset()  \u001b[38;5;66;03m# type: ignore[call-arg]\u001b[39;00m\n\u001b[0;32m--> 630\u001b[0m data \u001b[38;5;241m=\u001b[39m \u001b[38;5;28;43mself\u001b[39;49m\u001b[38;5;241;43m.\u001b[39;49m\u001b[43m_next_data\u001b[49m\u001b[43m(\u001b[49m\u001b[43m)\u001b[49m\n\u001b[1;32m    631\u001b[0m \u001b[38;5;28mself\u001b[39m\u001b[38;5;241m.\u001b[39m_num_yielded \u001b[38;5;241m+\u001b[39m\u001b[38;5;241m=\u001b[39m \u001b[38;5;241m1\u001b[39m\n\u001b[1;32m    632\u001b[0m \u001b[38;5;28;01mif\u001b[39;00m \u001b[38;5;28mself\u001b[39m\u001b[38;5;241m.\u001b[39m_dataset_kind \u001b[38;5;241m==\u001b[39m _DatasetKind\u001b[38;5;241m.\u001b[39mIterable \u001b[38;5;129;01mand\u001b[39;00m \\\n\u001b[1;32m    633\u001b[0m         \u001b[38;5;28mself\u001b[39m\u001b[38;5;241m.\u001b[39m_IterableDataset_len_called \u001b[38;5;129;01mis\u001b[39;00m \u001b[38;5;129;01mnot\u001b[39;00m \u001b[38;5;28;01mNone\u001b[39;00m \u001b[38;5;129;01mand\u001b[39;00m \\\n\u001b[1;32m    634\u001b[0m         \u001b[38;5;28mself\u001b[39m\u001b[38;5;241m.\u001b[39m_num_yielded \u001b[38;5;241m>\u001b[39m \u001b[38;5;28mself\u001b[39m\u001b[38;5;241m.\u001b[39m_IterableDataset_len_called:\n",
      "File \u001b[0;32m~/eeg-ssl/.venv/lib/python3.10/site-packages/torch/utils/data/dataloader.py:674\u001b[0m, in \u001b[0;36m_SingleProcessDataLoaderIter._next_data\u001b[0;34m(self)\u001b[0m\n\u001b[1;32m    672\u001b[0m \u001b[38;5;28;01mdef\u001b[39;00m \u001b[38;5;21m_next_data\u001b[39m(\u001b[38;5;28mself\u001b[39m):\n\u001b[1;32m    673\u001b[0m     index \u001b[38;5;241m=\u001b[39m \u001b[38;5;28mself\u001b[39m\u001b[38;5;241m.\u001b[39m_next_index()  \u001b[38;5;66;03m# may raise StopIteration\u001b[39;00m\n\u001b[0;32m--> 674\u001b[0m     data \u001b[38;5;241m=\u001b[39m \u001b[38;5;28;43mself\u001b[39;49m\u001b[38;5;241;43m.\u001b[39;49m\u001b[43m_dataset_fetcher\u001b[49m\u001b[38;5;241;43m.\u001b[39;49m\u001b[43mfetch\u001b[49m\u001b[43m(\u001b[49m\u001b[43mindex\u001b[49m\u001b[43m)\u001b[49m  \u001b[38;5;66;03m# may raise StopIteration\u001b[39;00m\n\u001b[1;32m    675\u001b[0m     \u001b[38;5;28;01mif\u001b[39;00m \u001b[38;5;28mself\u001b[39m\u001b[38;5;241m.\u001b[39m_pin_memory:\n\u001b[1;32m    676\u001b[0m         data \u001b[38;5;241m=\u001b[39m _utils\u001b[38;5;241m.\u001b[39mpin_memory\u001b[38;5;241m.\u001b[39mpin_memory(data, \u001b[38;5;28mself\u001b[39m\u001b[38;5;241m.\u001b[39m_pin_memory_device)\n",
      "File \u001b[0;32m~/eeg-ssl/.venv/lib/python3.10/site-packages/torch/utils/data/_utils/fetch.py:32\u001b[0m, in \u001b[0;36m_IterableDatasetFetcher.fetch\u001b[0;34m(self, possibly_batched_index)\u001b[0m\n\u001b[1;32m     30\u001b[0m \u001b[38;5;28;01mfor\u001b[39;00m _ \u001b[38;5;129;01min\u001b[39;00m possibly_batched_index:\n\u001b[1;32m     31\u001b[0m     \u001b[38;5;28;01mtry\u001b[39;00m:\n\u001b[0;32m---> 32\u001b[0m         data\u001b[38;5;241m.\u001b[39mappend(\u001b[38;5;28;43mnext\u001b[39;49m\u001b[43m(\u001b[49m\u001b[38;5;28;43mself\u001b[39;49m\u001b[38;5;241;43m.\u001b[39;49m\u001b[43mdataset_iter\u001b[49m\u001b[43m)\u001b[49m)\n\u001b[1;32m     33\u001b[0m     \u001b[38;5;28;01mexcept\u001b[39;00m \u001b[38;5;167;01mStopIteration\u001b[39;00m:\n\u001b[1;32m     34\u001b[0m         \u001b[38;5;28mself\u001b[39m\u001b[38;5;241m.\u001b[39mended \u001b[38;5;241m=\u001b[39m \u001b[38;5;28;01mTrue\u001b[39;00m\n",
      "File \u001b[0;32m~/eeg-ssl/notebooks/../libs/ssl_dataloader.py:98\u001b[0m, in \u001b[0;36mMaskedContrastiveLearningDataset.__iter__\u001b[0;34m(self)\u001b[0m\n\u001b[1;32m     96\u001b[0m max_length \u001b[38;5;241m=\u001b[39m \u001b[38;5;241m0\u001b[39m\n\u001b[1;32m     97\u001b[0m \u001b[38;5;28;01mfor\u001b[39;00m s \u001b[38;5;129;01min\u001b[39;00m \u001b[38;5;28mrange\u001b[39m(subjects_per_batch):\n\u001b[0;32m---> 98\u001b[0m     data \u001b[38;5;241m=\u001b[39m \u001b[38;5;28;43mself\u001b[39;49m\u001b[38;5;241;43m.\u001b[39;49m\u001b[43mpreload_raw\u001b[49m\u001b[43m(\u001b[49m\u001b[38;5;28;43mself\u001b[39;49m\u001b[38;5;241;43m.\u001b[39;49m\u001b[43mfiles\u001b[49m\u001b[43m[\u001b[49m\u001b[43mi\u001b[49m\u001b[38;5;241;43m+\u001b[39;49m\u001b[43ms\u001b[49m\u001b[43m]\u001b[49m\u001b[43m)\u001b[49m \n\u001b[1;32m     99\u001b[0m     \u001b[38;5;28;01mif\u001b[39;00m data\u001b[38;5;241m.\u001b[39mshape[\u001b[38;5;241m-\u001b[39m\u001b[38;5;241m1\u001b[39m] \u001b[38;5;241m>\u001b[39m max_length:\n\u001b[1;32m    100\u001b[0m         max_length \u001b[38;5;241m=\u001b[39m data\u001b[38;5;241m.\u001b[39mshape[\u001b[38;5;241m-\u001b[39m\u001b[38;5;241m1\u001b[39m]\n",
      "File \u001b[0;32m~/eeg-ssl/notebooks/../libs/ssl_dataloader.py:129\u001b[0m, in \u001b[0;36mMaskedContrastiveLearningDataset.preload_raw\u001b[0;34m(self, raw_file)\u001b[0m\n\u001b[1;32m    128\u001b[0m \u001b[38;5;28;01mdef\u001b[39;00m \u001b[38;5;21mpreload_raw\u001b[39m(\u001b[38;5;28mself\u001b[39m, raw_file):\n\u001b[0;32m--> 129\u001b[0m     EEG \u001b[38;5;241m=\u001b[39m \u001b[43mmne\u001b[49m\u001b[38;5;241;43m.\u001b[39;49m\u001b[43mio\u001b[49m\u001b[38;5;241;43m.\u001b[39;49m\u001b[43mread_raw_eeglab\u001b[49m\u001b[43m(\u001b[49m\u001b[43mos\u001b[49m\u001b[38;5;241;43m.\u001b[39;49m\u001b[43mpath\u001b[49m\u001b[38;5;241;43m.\u001b[39;49m\u001b[43mjoin\u001b[49m\u001b[43m(\u001b[49m\u001b[38;5;28;43mself\u001b[39;49m\u001b[38;5;241;43m.\u001b[39;49m\u001b[43mbasedir\u001b[49m\u001b[43m,\u001b[49m\u001b[43m \u001b[49m\u001b[43mraw_file\u001b[49m\u001b[43m)\u001b[49m\u001b[43m,\u001b[49m\u001b[43m \u001b[49m\u001b[43mpreload\u001b[49m\u001b[38;5;241;43m=\u001b[39;49m\u001b[38;5;28;43;01mTrue\u001b[39;49;00m\u001b[43m,\u001b[49m\u001b[43m \u001b[49m\u001b[43mverbose\u001b[49m\u001b[38;5;241;43m=\u001b[39;49m\u001b[38;5;124;43m'\u001b[39;49m\u001b[38;5;124;43merror\u001b[39;49m\u001b[38;5;124;43m'\u001b[39;49m\u001b[43m)\u001b[49m\n\u001b[1;32m    130\u001b[0m     mat_data \u001b[38;5;241m=\u001b[39m EEG\u001b[38;5;241m.\u001b[39mget_data()\n\u001b[1;32m    132\u001b[0m     \u001b[38;5;28;01mif\u001b[39;00m \u001b[38;5;28mlen\u001b[39m(mat_data\u001b[38;5;241m.\u001b[39mshape) \u001b[38;5;241m>\u001b[39m \u001b[38;5;241m2\u001b[39m:\n",
      "File \u001b[0;32m~/eeg-ssl/.venv/lib/python3.10/site-packages/mne/io/eeglab/eeglab.py:332\u001b[0m, in \u001b[0;36mread_raw_eeglab\u001b[0;34m(input_fname, eog, preload, uint16_codec, montage_units, verbose)\u001b[0m\n\u001b[1;32m    288\u001b[0m \u001b[38;5;129m@fill_doc\u001b[39m\n\u001b[1;32m    289\u001b[0m \u001b[38;5;28;01mdef\u001b[39;00m \u001b[38;5;21mread_raw_eeglab\u001b[39m(\n\u001b[1;32m    290\u001b[0m     input_fname,\n\u001b[0;32m   (...)\u001b[0m\n\u001b[1;32m    295\u001b[0m     verbose\u001b[38;5;241m=\u001b[39m\u001b[38;5;28;01mNone\u001b[39;00m,\n\u001b[1;32m    296\u001b[0m ):\n\u001b[1;32m    297\u001b[0m \u001b[38;5;250m    \u001b[39m\u001b[38;5;124mr\u001b[39m\u001b[38;5;124;03m\"\"\"Read an EEGLAB .set file.\u001b[39;00m\n\u001b[1;32m    298\u001b[0m \n\u001b[1;32m    299\u001b[0m \u001b[38;5;124;03m    Parameters\u001b[39;00m\n\u001b[0;32m   (...)\u001b[0m\n\u001b[1;32m    330\u001b[0m \u001b[38;5;124;03m    .. versionadded:: 0.11.0\u001b[39;00m\n\u001b[1;32m    331\u001b[0m \u001b[38;5;124;03m    \"\"\"\u001b[39;00m\n\u001b[0;32m--> 332\u001b[0m     \u001b[38;5;28;01mreturn\u001b[39;00m \u001b[43mRawEEGLAB\u001b[49m\u001b[43m(\u001b[49m\n\u001b[1;32m    333\u001b[0m \u001b[43m        \u001b[49m\u001b[43minput_fname\u001b[49m\u001b[38;5;241;43m=\u001b[39;49m\u001b[43minput_fname\u001b[49m\u001b[43m,\u001b[49m\n\u001b[1;32m    334\u001b[0m \u001b[43m        \u001b[49m\u001b[43mpreload\u001b[49m\u001b[38;5;241;43m=\u001b[39;49m\u001b[43mpreload\u001b[49m\u001b[43m,\u001b[49m\n\u001b[1;32m    335\u001b[0m \u001b[43m        \u001b[49m\u001b[43meog\u001b[49m\u001b[38;5;241;43m=\u001b[39;49m\u001b[43meog\u001b[49m\u001b[43m,\u001b[49m\n\u001b[1;32m    336\u001b[0m \u001b[43m        \u001b[49m\u001b[43muint16_codec\u001b[49m\u001b[38;5;241;43m=\u001b[39;49m\u001b[43muint16_codec\u001b[49m\u001b[43m,\u001b[49m\n\u001b[1;32m    337\u001b[0m \u001b[43m        \u001b[49m\u001b[43mmontage_units\u001b[49m\u001b[38;5;241;43m=\u001b[39;49m\u001b[43mmontage_units\u001b[49m\u001b[43m,\u001b[49m\n\u001b[1;32m    338\u001b[0m \u001b[43m        \u001b[49m\u001b[43mverbose\u001b[49m\u001b[38;5;241;43m=\u001b[39;49m\u001b[43mverbose\u001b[49m\u001b[43m,\u001b[49m\n\u001b[1;32m    339\u001b[0m \u001b[43m    \u001b[49m\u001b[43m)\u001b[49m\n",
      "File \u001b[0;32m<decorator-gen-237>:10\u001b[0m, in \u001b[0;36m__init__\u001b[0;34m(self, input_fname, eog, preload, uint16_codec, montage_units, verbose)\u001b[0m\n",
      "File \u001b[0;32m~/eeg-ssl/.venv/lib/python3.10/site-packages/mne/io/eeglab/eeglab.py:454\u001b[0m, in \u001b[0;36mRawEEGLAB.__init__\u001b[0;34m(self, input_fname, eog, preload, uint16_codec, montage_units, verbose)\u001b[0m\n\u001b[1;32m    442\u001b[0m \u001b[38;5;129m@verbose\u001b[39m\n\u001b[1;32m    443\u001b[0m \u001b[38;5;28;01mdef\u001b[39;00m \u001b[38;5;21m__init__\u001b[39m(\n\u001b[1;32m    444\u001b[0m     \u001b[38;5;28mself\u001b[39m,\n\u001b[0;32m   (...)\u001b[0m\n\u001b[1;32m    451\u001b[0m     verbose\u001b[38;5;241m=\u001b[39m\u001b[38;5;28;01mNone\u001b[39;00m,\n\u001b[1;32m    452\u001b[0m ):  \u001b[38;5;66;03m# noqa: D102\u001b[39;00m\n\u001b[1;32m    453\u001b[0m     input_fname \u001b[38;5;241m=\u001b[39m \u001b[38;5;28mstr\u001b[39m(_check_fname(input_fname, \u001b[38;5;124m\"\u001b[39m\u001b[38;5;124mread\u001b[39m\u001b[38;5;124m\"\u001b[39m, \u001b[38;5;28;01mTrue\u001b[39;00m, \u001b[38;5;124m\"\u001b[39m\u001b[38;5;124minput_fname\u001b[39m\u001b[38;5;124m\"\u001b[39m))\n\u001b[0;32m--> 454\u001b[0m     eeg \u001b[38;5;241m=\u001b[39m \u001b[43m_check_load_mat\u001b[49m\u001b[43m(\u001b[49m\u001b[43minput_fname\u001b[49m\u001b[43m,\u001b[49m\u001b[43m \u001b[49m\u001b[43muint16_codec\u001b[49m\u001b[43m)\u001b[49m\n\u001b[1;32m    455\u001b[0m     \u001b[38;5;28;01mif\u001b[39;00m eeg\u001b[38;5;241m.\u001b[39mtrials \u001b[38;5;241m!=\u001b[39m \u001b[38;5;241m1\u001b[39m:\n\u001b[1;32m    456\u001b[0m         \u001b[38;5;28;01mraise\u001b[39;00m \u001b[38;5;167;01mTypeError\u001b[39;00m(\n\u001b[1;32m    457\u001b[0m             \u001b[38;5;124m\"\u001b[39m\u001b[38;5;124mThe number of trials is \u001b[39m\u001b[38;5;132;01m%d\u001b[39;00m\u001b[38;5;124m. It must be 1 for raw\u001b[39m\u001b[38;5;124m\"\u001b[39m\n\u001b[1;32m    458\u001b[0m             \u001b[38;5;124m\"\u001b[39m\u001b[38;5;124m files. Please use `mne.io.read_epochs_eeglab` if\u001b[39m\u001b[38;5;124m\"\u001b[39m\n\u001b[1;32m    459\u001b[0m             \u001b[38;5;124m\"\u001b[39m\u001b[38;5;124m the .set file contains epochs.\u001b[39m\u001b[38;5;124m\"\u001b[39m \u001b[38;5;241m%\u001b[39m eeg\u001b[38;5;241m.\u001b[39mtrials\n\u001b[1;32m    460\u001b[0m         )\n",
      "File \u001b[0;32m~/eeg-ssl/.venv/lib/python3.10/site-packages/mne/io/eeglab/eeglab.py:78\u001b[0m, in \u001b[0;36m_check_load_mat\u001b[0;34m(fname, uint16_codec)\u001b[0m\n\u001b[1;32m     76\u001b[0m \u001b[38;5;28;01mdef\u001b[39;00m \u001b[38;5;21m_check_load_mat\u001b[39m(fname, uint16_codec):\n\u001b[1;32m     77\u001b[0m \u001b[38;5;250m    \u001b[39m\u001b[38;5;124;03m\"\"\"Check if the mat struct contains 'EEG'.\"\"\"\u001b[39;00m\n\u001b[0;32m---> 78\u001b[0m     eeg \u001b[38;5;241m=\u001b[39m \u001b[43m_readmat\u001b[49m\u001b[43m(\u001b[49m\u001b[43mfname\u001b[49m\u001b[43m,\u001b[49m\u001b[43m \u001b[49m\u001b[43muint16_codec\u001b[49m\u001b[38;5;241;43m=\u001b[39;49m\u001b[43muint16_codec\u001b[49m\u001b[43m)\u001b[49m\n\u001b[1;32m     79\u001b[0m     \u001b[38;5;28;01mif\u001b[39;00m \u001b[38;5;124m\"\u001b[39m\u001b[38;5;124mALLEEG\u001b[39m\u001b[38;5;124m\"\u001b[39m \u001b[38;5;129;01min\u001b[39;00m eeg:\n\u001b[1;32m     80\u001b[0m         \u001b[38;5;28;01mraise\u001b[39;00m \u001b[38;5;167;01mNotImplementedError\u001b[39;00m(\n\u001b[1;32m     81\u001b[0m             \u001b[38;5;124m\"\u001b[39m\u001b[38;5;124mLoading an ALLEEG array is not supported. Please contact\u001b[39m\u001b[38;5;124m\"\u001b[39m\n\u001b[1;32m     82\u001b[0m             \u001b[38;5;124m\"\u001b[39m\u001b[38;5;124mmne-python developers for more information.\u001b[39m\u001b[38;5;124m\"\u001b[39m\n\u001b[1;32m     83\u001b[0m         )\n",
      "File \u001b[0;32m~/eeg-ssl/.venv/lib/python3.10/site-packages/mne/io/eeglab/_eeglab.py:76\u001b[0m, in \u001b[0;36m_readmat\u001b[0;34m(fname, uint16_codec)\u001b[0m\n\u001b[1;32m     74\u001b[0m     read_mat \u001b[38;5;241m=\u001b[39m _import_pymatreader_funcs(\u001b[38;5;124m\"\u001b[39m\u001b[38;5;124mEEGLAB I/O\u001b[39m\u001b[38;5;124m\"\u001b[39m)\n\u001b[1;32m     75\u001b[0m \u001b[38;5;28;01mexcept\u001b[39;00m \u001b[38;5;167;01mRuntimeError\u001b[39;00m:  \u001b[38;5;66;03m# pymatreader not installed\u001b[39;00m\n\u001b[0;32m---> 76\u001b[0m     eeg \u001b[38;5;241m=\u001b[39m \u001b[43mloadmat\u001b[49m\u001b[43m(\u001b[49m\u001b[43mfname\u001b[49m\u001b[43m,\u001b[49m\u001b[43m \u001b[49m\u001b[43msqueeze_me\u001b[49m\u001b[38;5;241;43m=\u001b[39;49m\u001b[38;5;28;43;01mTrue\u001b[39;49;00m\u001b[43m,\u001b[49m\u001b[43m \u001b[49m\u001b[43mmat_dtype\u001b[49m\u001b[38;5;241;43m=\u001b[39;49m\u001b[38;5;28;43;01mFalse\u001b[39;49;00m\u001b[43m)\u001b[49m\n\u001b[1;32m     77\u001b[0m     \u001b[38;5;28;01mreturn\u001b[39;00m _check_for_scipy_mat_struct(eeg)\n\u001b[1;32m     78\u001b[0m \u001b[38;5;28;01melse\u001b[39;00m:\n",
      "File \u001b[0;32m~/eeg-ssl/.venv/lib/python3.10/site-packages/scipy/io/matlab/_mio.py:227\u001b[0m, in \u001b[0;36mloadmat\u001b[0;34m(file_name, mdict, appendmat, **kwargs)\u001b[0m\n\u001b[1;32m    225\u001b[0m \u001b[38;5;28;01mwith\u001b[39;00m _open_file_context(file_name, appendmat) \u001b[38;5;28;01mas\u001b[39;00m f:\n\u001b[1;32m    226\u001b[0m     MR, _ \u001b[38;5;241m=\u001b[39m mat_reader_factory(f, \u001b[38;5;241m*\u001b[39m\u001b[38;5;241m*\u001b[39mkwargs)\n\u001b[0;32m--> 227\u001b[0m     matfile_dict \u001b[38;5;241m=\u001b[39m \u001b[43mMR\u001b[49m\u001b[38;5;241;43m.\u001b[39;49m\u001b[43mget_variables\u001b[49m\u001b[43m(\u001b[49m\u001b[43mvariable_names\u001b[49m\u001b[43m)\u001b[49m\n\u001b[1;32m    229\u001b[0m \u001b[38;5;28;01mif\u001b[39;00m mdict \u001b[38;5;129;01mis\u001b[39;00m \u001b[38;5;129;01mnot\u001b[39;00m \u001b[38;5;28;01mNone\u001b[39;00m:\n\u001b[1;32m    230\u001b[0m     mdict\u001b[38;5;241m.\u001b[39mupdate(matfile_dict)\n",
      "File \u001b[0;32m~/eeg-ssl/.venv/lib/python3.10/site-packages/scipy/io/matlab/_mio5.py:330\u001b[0m, in \u001b[0;36mMatFile5Reader.get_variables\u001b[0;34m(self, variable_names)\u001b[0m\n\u001b[1;32m    328\u001b[0m     \u001b[38;5;28;01mcontinue\u001b[39;00m\n\u001b[1;32m    329\u001b[0m \u001b[38;5;28;01mtry\u001b[39;00m:\n\u001b[0;32m--> 330\u001b[0m     res \u001b[38;5;241m=\u001b[39m \u001b[38;5;28;43mself\u001b[39;49m\u001b[38;5;241;43m.\u001b[39;49m\u001b[43mread_var_array\u001b[49m\u001b[43m(\u001b[49m\u001b[43mhdr\u001b[49m\u001b[43m,\u001b[49m\u001b[43m \u001b[49m\u001b[43mprocess\u001b[49m\u001b[43m)\u001b[49m\n\u001b[1;32m    331\u001b[0m \u001b[38;5;28;01mexcept\u001b[39;00m MatReadError \u001b[38;5;28;01mas\u001b[39;00m err:\n\u001b[1;32m    332\u001b[0m     warnings\u001b[38;5;241m.\u001b[39mwarn(\n\u001b[1;32m    333\u001b[0m         \u001b[38;5;124m'\u001b[39m\u001b[38;5;124mUnreadable variable \u001b[39m\u001b[38;5;124m\"\u001b[39m\u001b[38;5;132;01m%s\u001b[39;00m\u001b[38;5;124m\"\u001b[39m\u001b[38;5;124m, because \u001b[39m\u001b[38;5;124m\"\u001b[39m\u001b[38;5;132;01m%s\u001b[39;00m\u001b[38;5;124m\"\u001b[39m\u001b[38;5;124m'\u001b[39m \u001b[38;5;241m%\u001b[39m\n\u001b[1;32m    334\u001b[0m         (name, err),\n\u001b[1;32m    335\u001b[0m         \u001b[38;5;167;01mWarning\u001b[39;00m, stacklevel\u001b[38;5;241m=\u001b[39m\u001b[38;5;241m2\u001b[39m)\n",
      "File \u001b[0;32m~/eeg-ssl/.venv/lib/python3.10/site-packages/scipy/io/matlab/_mio5.py:290\u001b[0m, in \u001b[0;36mMatFile5Reader.read_var_array\u001b[0;34m(self, header, process)\u001b[0m\n\u001b[1;32m    273\u001b[0m \u001b[38;5;28;01mdef\u001b[39;00m \u001b[38;5;21mread_var_array\u001b[39m(\u001b[38;5;28mself\u001b[39m, header, process\u001b[38;5;241m=\u001b[39m\u001b[38;5;28;01mTrue\u001b[39;00m):\n\u001b[1;32m    274\u001b[0m \u001b[38;5;250m    \u001b[39m\u001b[38;5;124;03m''' Read array, given `header`\u001b[39;00m\n\u001b[1;32m    275\u001b[0m \n\u001b[1;32m    276\u001b[0m \u001b[38;5;124;03m    Parameters\u001b[39;00m\n\u001b[0;32m   (...)\u001b[0m\n\u001b[1;32m    288\u001b[0m \u001b[38;5;124;03m       `process`.\u001b[39;00m\n\u001b[1;32m    289\u001b[0m \u001b[38;5;124;03m    '''\u001b[39;00m\n\u001b[0;32m--> 290\u001b[0m     \u001b[38;5;28;01mreturn\u001b[39;00m \u001b[38;5;28;43mself\u001b[39;49m\u001b[38;5;241;43m.\u001b[39;49m\u001b[43m_matrix_reader\u001b[49m\u001b[38;5;241;43m.\u001b[39;49m\u001b[43marray_from_header\u001b[49m\u001b[43m(\u001b[49m\u001b[43mheader\u001b[49m\u001b[43m,\u001b[49m\u001b[43m \u001b[49m\u001b[43mprocess\u001b[49m\u001b[43m)\u001b[49m\n",
      "File \u001b[0;32m_mio5_utils.pyx:665\u001b[0m, in \u001b[0;36mscipy.io.matlab._mio5_utils.VarReader5.array_from_header\u001b[0;34m()\u001b[0m\n",
      "File \u001b[0;32m_mio5_utils.pyx:734\u001b[0m, in \u001b[0;36mscipy.io.matlab._mio5_utils.VarReader5.array_from_header\u001b[0;34m()\u001b[0m\n",
      "File \u001b[0;32m_mio_utils.pyx:11\u001b[0m, in \u001b[0;36mscipy.io.matlab._mio_utils.squeeze_element\u001b[0;34m()\u001b[0m\n",
      "File \u001b[0;32m_mio_utils.pyx:18\u001b[0m, in \u001b[0;36mscipy.io.matlab._mio_utils.squeeze_element\u001b[0;34m()\u001b[0m\n",
      "File \u001b[0;32m~/eeg-ssl/.venv/lib/python3.10/site-packages/numpy/core/fromnumeric.py:1487\u001b[0m, in \u001b[0;36m_squeeze_dispatcher\u001b[0;34m(a, axis)\u001b[0m\n\u001b[1;32m   1482\u001b[0m     a \u001b[38;5;241m=\u001b[39m concatenate((a,) \u001b[38;5;241m*\u001b[39m repeats)[:new_size]\n\u001b[1;32m   1484\u001b[0m     \u001b[38;5;28;01mreturn\u001b[39;00m reshape(a, new_shape)\n\u001b[0;32m-> 1487\u001b[0m \u001b[38;5;28;01mdef\u001b[39;00m \u001b[38;5;21m_squeeze_dispatcher\u001b[39m(a, axis\u001b[38;5;241m=\u001b[39m\u001b[38;5;28;01mNone\u001b[39;00m):\n\u001b[1;32m   1488\u001b[0m     \u001b[38;5;28;01mreturn\u001b[39;00m (a,)\n\u001b[1;32m   1491\u001b[0m \u001b[38;5;129m@array_function_dispatch\u001b[39m(_squeeze_dispatcher)\n\u001b[1;32m   1492\u001b[0m \u001b[38;5;28;01mdef\u001b[39;00m \u001b[38;5;21msqueeze\u001b[39m(a, axis\u001b[38;5;241m=\u001b[39m\u001b[38;5;28;01mNone\u001b[39;00m):\n",
      "\u001b[0;31mKeyboardInterrupt\u001b[0m: "
     ]
    }
   ],
   "source": [
    "import time\n",
    "dataloader = torch.utils.data.DataLoader(dataset, batch_size=128, num_workers=0)\n",
    "device = torch.device('cuda' if torch.cuda.is_available() else 'cpu')\n",
    "model = Wav2VecBrainModel()\n",
    "model.to(device=device)\n",
    "model.train()\n",
    "for e in range(1):\n",
    "    start_time = time.time()\n",
    "    for t, (samples, subj) in enumerate(dataloader):\n",
    "        shuffling_indices = list(range(samples.shape[0]))\n",
    "        np.random.shuffle(shuffling_indices)\n",
    "        subj = np.array(subj)[shuffling_indices]\n",
    "        shuffling_indices = torch.tensor(shuffling_indices)\n",
    "        samples = torch.index_select(samples, 0, shuffling_indices)\n",
    "\n",
    "        samples = samples.to(device=device, dtype=torch.float32)\n",
    "        print(model(samples).shape, subj)\n",
    "        print('Took %s second(s)' % (time.time() - start_time))\n",
    "        start_time = time.time()"
   ]
  },
  {
   "cell_type": "code",
   "execution_count": 7,
   "id": "e40c4c9f",
   "metadata": {},
   "outputs": [
    {
     "ename": "NotImplementedError",
     "evalue": "Subclasses of Dataset should implement __getitem__.",
     "output_type": "error",
     "traceback": [
      "\u001b[0;31m---------------------------------------------------------------------------\u001b[0m",
      "\u001b[0;31mNotImplementedError\u001b[0m                       Traceback (most recent call last)",
      "Cell \u001b[0;32mIn[7], line 2\u001b[0m\n\u001b[1;32m      1\u001b[0m \u001b[38;5;66;03m# print('Length of dataset', len(dataset))\u001b[39;00m\n\u001b[0;32m----> 2\u001b[0m \u001b[38;5;28mprint\u001b[39m(\u001b[38;5;124m'\u001b[39m\u001b[38;5;124mX dim\u001b[39m\u001b[38;5;124m'\u001b[39m, \u001b[43mdataset\u001b[49m\u001b[43m[\u001b[49m\u001b[38;5;241;43m0\u001b[39;49m\u001b[43m]\u001b[49m[\u001b[38;5;241m0\u001b[39m]\u001b[38;5;241m.\u001b[39mshape)\n\u001b[1;32m      3\u001b[0m \u001b[38;5;28mprint\u001b[39m(\u001b[38;5;124m'\u001b[39m\u001b[38;5;124mY\u001b[39m\u001b[38;5;124m'\u001b[39m, dataset[\u001b[38;5;241m0\u001b[39m][\u001b[38;5;241m1\u001b[39m])\n\u001b[1;32m      4\u001b[0m eeg_utils\u001b[38;5;241m.\u001b[39mplot_raw_eeg(dataset[\u001b[38;5;241m5\u001b[39m][\u001b[38;5;241m0\u001b[39m], \u001b[38;5;241m128\u001b[39m)\n",
      "File \u001b[0;32m~/eeg-ssl/.venv/lib/python3.10/site-packages/torch/utils/data/dataset.py:61\u001b[0m, in \u001b[0;36mDataset.__getitem__\u001b[0;34m(self, index)\u001b[0m\n\u001b[1;32m     60\u001b[0m \u001b[38;5;28;01mdef\u001b[39;00m \u001b[38;5;21m__getitem__\u001b[39m(\u001b[38;5;28mself\u001b[39m, index) \u001b[38;5;241m-\u001b[39m\u001b[38;5;241m>\u001b[39m T_co:\n\u001b[0;32m---> 61\u001b[0m     \u001b[38;5;28;01mraise\u001b[39;00m \u001b[38;5;167;01mNotImplementedError\u001b[39;00m(\u001b[38;5;124m\"\u001b[39m\u001b[38;5;124mSubclasses of Dataset should implement __getitem__.\u001b[39m\u001b[38;5;124m\"\u001b[39m)\n",
      "\u001b[0;31mNotImplementedError\u001b[0m: Subclasses of Dataset should implement __getitem__."
     ]
    }
   ],
   "source": [
    "# print('Length of dataset', len(dataset))\n",
    "print('X dim', dataset[0][0].shape)\n",
    "print('Y', dataset[0][1])\n",
    "eeg_utils.plot_raw_eeg(dataset[5][0], 128)"
   ]
  },
  {
   "cell_type": "code",
   "execution_count": 23,
   "id": "7ea54991",
   "metadata": {},
   "outputs": [
    {
     "name": "stdout",
     "output_type": "stream",
     "text": [
      "Training on  cuda\n",
      "Epoch 0, Iteration 0, loss = 3.7844\n",
      "Epoch 0, Iteration 100, loss = nan\n",
      "Epoch 0, Iteration 200, loss = nan\n"
     ]
    },
    {
     "ename": "KeyboardInterrupt",
     "evalue": "",
     "output_type": "error",
     "traceback": [
      "\u001b[0;31m---------------------------------------------------------------------------\u001b[0m",
      "\u001b[0;31mKeyboardInterrupt\u001b[0m                         Traceback (most recent call last)",
      "Cell \u001b[0;32mIn[23], line 12\u001b[0m\n\u001b[1;32m      1\u001b[0m model \u001b[38;5;241m=\u001b[39m Wav2VecBrainModel()\n\u001b[1;32m      2\u001b[0m task \u001b[38;5;241m=\u001b[39m MaskedContrastiveLearningTask(dataset, \n\u001b[1;32m      3\u001b[0m         task_params\u001b[38;5;241m=\u001b[39m{\n\u001b[1;32m      4\u001b[0m             \u001b[38;5;124m'\u001b[39m\u001b[38;5;124mmask_prob\u001b[39m\u001b[38;5;124m'\u001b[39m:\u001b[38;5;241m0.3\u001b[39m\n\u001b[0;32m   (...)\u001b[0m\n\u001b[1;32m     10\u001b[0m         }\n\u001b[1;32m     11\u001b[0m )\n\u001b[0;32m---> 12\u001b[0m trained_model \u001b[38;5;241m=\u001b[39m \u001b[43mtask\u001b[49m\u001b[38;5;241;43m.\u001b[39;49m\u001b[43mtrain\u001b[49m\u001b[43m(\u001b[49m\u001b[43mmodel\u001b[49m\u001b[43m)\u001b[49m\n",
      "File \u001b[0;32m~/eeg-ssl/notebooks/../libs/ssl_utils.py:127\u001b[0m, in \u001b[0;36mMaskedContrastiveLearningTask.train\u001b[0;34m(self, model, train_params)\u001b[0m\n\u001b[1;32m    125\u001b[0m \u001b[38;5;28;01mfor\u001b[39;00m t, (samples, _) \u001b[38;5;129;01min\u001b[39;00m \u001b[38;5;28menumerate\u001b[39m(dataloader_train):\n\u001b[1;32m    126\u001b[0m     samples \u001b[38;5;241m=\u001b[39m samples\u001b[38;5;241m.\u001b[39mto(device\u001b[38;5;241m=\u001b[39m\u001b[38;5;28mself\u001b[39m\u001b[38;5;241m.\u001b[39mdevice, dtype\u001b[38;5;241m=\u001b[39mtorch\u001b[38;5;241m.\u001b[39mfloat32)\n\u001b[0;32m--> 127\u001b[0m     predictions, masked_latents \u001b[38;5;241m=\u001b[39m \u001b[38;5;28;43mself\u001b[39;49m\u001b[38;5;241;43m.\u001b[39;49m\u001b[43mforward\u001b[49m\u001b[43m(\u001b[49m\u001b[43mmodel\u001b[49m\u001b[43m,\u001b[49m\u001b[43m \u001b[49m\u001b[43msamples\u001b[49m\u001b[43m)\u001b[49m\n\u001b[1;32m    128\u001b[0m     loss \u001b[38;5;241m=\u001b[39m \u001b[38;5;28mself\u001b[39m\u001b[38;5;241m.\u001b[39mloss(predictions, masked_latents)\n\u001b[1;32m    129\u001b[0m     optimizer\u001b[38;5;241m.\u001b[39mzero_grad()\n",
      "File \u001b[0;32m~/eeg-ssl/notebooks/../libs/ssl_utils.py:80\u001b[0m, in \u001b[0;36mMaskedContrastiveLearningTask.forward\u001b[0;34m(self, model, x)\u001b[0m\n\u001b[1;32m     78\u001b[0m \u001b[38;5;66;03m# context encoder_outputs of the masked input\u001b[39;00m\n\u001b[1;32m     79\u001b[0m predicted_masked_latent \u001b[38;5;241m=\u001b[39m context_encoder_outputs[:,:,masked_indices] \u001b[38;5;66;03m# N x D x K\u001b[39;00m\n\u001b[0;32m---> 80\u001b[0m \u001b[38;5;28;01mif\u001b[39;00m \u001b[38;5;28mself\u001b[39m\u001b[38;5;241m.\u001b[39mverbose: \n\u001b[1;32m     81\u001b[0m     \u001b[38;5;28mprint\u001b[39m(\u001b[38;5;124m'\u001b[39m\u001b[38;5;124mpredicted context encoder outputs shape\u001b[39m\u001b[38;5;124m'\u001b[39m, predicted_masked_latent\u001b[38;5;241m.\u001b[39mshape)\n\u001b[1;32m     82\u001b[0m \u001b[38;5;28;01mreturn\u001b[39;00m predicted_masked_latent, true_masked_embeddings\n",
      "\u001b[0;31mKeyboardInterrupt\u001b[0m: "
     ]
    }
   ],
   "source": [
    "model = Wav2VecBrainModel()\n",
    "task = MaskedContrastiveLearningTask(dataset, \n",
    "        task_params={\n",
    "            'mask_prob': config.mask_prob\n",
    "        },\n",
    "        train_params={\n",
    "            'num_epochs': config.epochs,\n",
    "            'batch_size': config.batch_size,\n",
    "            'print_every': 100\n",
    "        }\n",
    ")\n",
    "trained_model = task.train(model)"
   ]
  },
  {
   "cell_type": "code",
   "execution_count": null,
   "id": "e1250539",
   "metadata": {},
   "outputs": [],
   "source": []
  },
  {
   "cell_type": "code",
   "execution_count": null,
   "id": "3da535f6",
   "metadata": {},
   "outputs": [],
   "source": []
  }
 ],
 "metadata": {
  "kernelspec": {
   "display_name": "Python 3 (ipykernel)",
   "language": "python",
   "name": "python3"
  },
  "language_info": {
   "codemirror_mode": {
    "name": "ipython",
    "version": 3
   },
   "file_extension": ".py",
   "mimetype": "text/x-python",
   "name": "python",
   "nbconvert_exporter": "python",
   "pygments_lexer": "ipython3",
   "version": "3.10.12"
  }
 },
 "nbformat": 4,
 "nbformat_minor": 5
}

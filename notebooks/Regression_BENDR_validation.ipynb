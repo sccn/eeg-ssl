{
 "cells": [
  {
   "cell_type": "code",
   "execution_count": 1,
   "id": "1d12c2e8",
   "metadata": {},
   "outputs": [],
   "source": [
    "import sys\n",
    "sys.path.insert(0,'../')\n",
    "from libs.ssl_task import CPC, Regression\n",
    "from libs.ssl_data import SSLHBNDataModule\n",
    "%load_ext autoreload\n",
    "%autoreload 2"
   ]
  },
  {
   "cell_type": "code",
   "execution_count": 2,
   "id": "e57d4387",
   "metadata": {},
   "outputs": [
    {
     "name": "stderr",
     "output_type": "stream",
     "text": [
      "GPU available: True (cuda), used: True\n",
      "TPU available: False, using: 0 TPU cores\n",
      "HPU available: False, using: 0 HPUs\n"
     ]
    },
    {
     "name": "stderr",
     "output_type": "stream",
     "text": [
      "You are using a CUDA device ('NVIDIA GeForce RTX 4090') that has Tensor Cores. To properly utilize them, you should set `torch.set_float32_matmul_precision('medium' | 'high')` which will trade-off precision for performance. For more details, read https://pytorch.org/docs/stable/generated/torch.set_float32_matmul_precision.html#torch.set_float32_matmul_precision\n"
     ]
    },
    {
     "name": "stdout",
     "output_type": "stream",
     "text": [
      "Train releases: ['ds005506', 'ds005507', 'ds005508', 'ds005509', 'ds005511', 'ds005512', 'ds005514', 'ds005515', 'ds005516']\n",
      "Validation release: ds005505\n",
      "Test release: ds005510\n"
     ]
    },
    {
     "name": "stderr",
     "output_type": "stream",
     "text": [
      "LOCAL_RANK: 0 - CUDA_VISIBLE_DEVICES: [0]\n"
     ]
    },
    {
     "data": {
      "application/vnd.jupyter.widget-view+json": {
       "model_id": "65e6ef0409884d4e8b259af63ff50952",
       "version_major": 2,
       "version_minor": 0
      },
      "text/plain": [
       "Validation: |          | 0/? [00:00<?, ?it/s]"
      ]
     },
     "metadata": {},
     "output_type": "display_data"
    },
    {
     "name": "stderr",
     "output_type": "stream",
     "text": [
      "/home/dung/eeg-ssl/.venv/lib/python3.10/site-packages/sklearn/neural_network/_multilayer_perceptron.py:691: ConvergenceWarning: Stochastic Optimizer: Maximum iterations (100) reached and the optimization hasn't converged yet.\n",
      "  warnings.warn(\n"
     ]
    },
    {
     "data": {
      "text/html": [
       "<pre style=\"white-space:pre;overflow-x:auto;line-height:normal;font-family:Menlo,'DejaVu Sans Mono',consolas,'Courier New',monospace\">┏━━━━━━━━━━━━━━━━━━━━━━━━━━━━━━━━━━━━━━━━━━━━━━━┳━━━━━━━━━━━━━━━━━━━━━━━━━━━━━━━━━━━━━━━━━━━━━━━┓\n",
       "┃<span style=\"font-weight: bold\">                Validate metric                </span>┃<span style=\"font-weight: bold\">                 DataLoader 0                  </span>┃\n",
       "┡━━━━━━━━━━━━━━━━━━━━━━━━━━━━━━━━━━━━━━━━━━━━━━━╇━━━━━━━━━━━━━━━━━━━━━━━━━━━━━━━━━━━━━━━━━━━━━━━┩\n",
       "│<span style=\"color: #008080; text-decoration-color: #008080\">              val_Regressor/NRMSE              </span>│<span style=\"color: #800080; text-decoration-color: #800080\">              10.441920273516926               </span>│\n",
       "│<span style=\"color: #008080; text-decoration-color: #008080\">               val_Regressor/R2                </span>│<span style=\"color: #800080; text-decoration-color: #800080\">              0.9680606328168483               </span>│\n",
       "│<span style=\"color: #008080; text-decoration-color: #008080\">           val_Regressor/concordance           </span>│<span style=\"color: #800080; text-decoration-color: #800080\">               0.983873310717675               </span>│\n",
       "│<span style=\"color: #008080; text-decoration-color: #008080\">               val_Regressor/mae               </span>│<span style=\"color: #800080; text-decoration-color: #800080\">              0.12131948619108895              </span>│\n",
       "│<span style=\"color: #008080; text-decoration-color: #008080\">               val_Regressor/mse               </span>│<span style=\"color: #800080; text-decoration-color: #800080\">              0.0241662836977839               </span>│\n",
       "│<span style=\"color: #008080; text-decoration-color: #008080\">         val_Regressor/subject_iqr_iqr         </span>│<span style=\"color: #800080; text-decoration-color: #800080\">              0.02332974784076214              </span>│\n",
       "│<span style=\"color: #008080; text-decoration-color: #008080\">        val_Regressor/subject_iqr_mean         </span>│<span style=\"color: #800080; text-decoration-color: #800080\">              0.18389856815338135              </span>│\n",
       "│<span style=\"color: #008080; text-decoration-color: #008080\">       val_Regressor/subject_iqr_median        </span>│<span style=\"color: #800080; text-decoration-color: #800080\">              0.1832335740327835               </span>│\n",
       "│<span style=\"color: #008080; text-decoration-color: #008080\">         val_Regressor/subject_iqr_std         </span>│<span style=\"color: #800080; text-decoration-color: #800080\">              0.01943778246641159              </span>│\n",
       "│<span style=\"color: #008080; text-decoration-color: #008080\">         val_Regressor/subject_std_iqr         </span>│<span style=\"color: #800080; text-decoration-color: #800080\">             0.011696393601596355              </span>│\n",
       "│<span style=\"color: #008080; text-decoration-color: #008080\">        val_Regressor/subject_std_mean         </span>│<span style=\"color: #800080; text-decoration-color: #800080\">              0.1422167420387268               </span>│\n",
       "│<span style=\"color: #008080; text-decoration-color: #008080\">       val_Regressor/subject_std_median        </span>│<span style=\"color: #800080; text-decoration-color: #800080\">              0.13901790976524353              </span>│\n",
       "│<span style=\"color: #008080; text-decoration-color: #008080\">         val_Regressor/subject_std_std         </span>│<span style=\"color: #800080; text-decoration-color: #800080\">             0.021764235571026802              </span>│\n",
       "│<span style=\"color: #008080; text-decoration-color: #008080\">     val_Regressor/subject_with_mean_NRMSE     </span>│<span style=\"color: #800080; text-decoration-color: #800080\">              -3.3319017152499693              </span>│\n",
       "│<span style=\"color: #008080; text-decoration-color: #008080\">      val_Regressor/subject_with_mean_R2       </span>│<span style=\"color: #800080; text-decoration-color: #800080\">              0.9954485379791327               </span>│\n",
       "│<span style=\"color: #008080; text-decoration-color: #008080\">  val_Regressor/subject_with_mean_concordance  </span>│<span style=\"color: #800080; text-decoration-color: #800080\">              0.9976830515022751               </span>│\n",
       "│<span style=\"color: #008080; text-decoration-color: #008080\">      val_Regressor/subject_with_mean_mae      </span>│<span style=\"color: #800080; text-decoration-color: #800080\">              0.05456203949704357              </span>│\n",
       "│<span style=\"color: #008080; text-decoration-color: #008080\">      val_Regressor/subject_with_mean_mse      </span>│<span style=\"color: #800080; text-decoration-color: #800080\">             0.0035697109823581968             </span>│\n",
       "│<span style=\"color: #008080; text-decoration-color: #008080\">    val_Regressor/subject_with_median_NRMSE    </span>│<span style=\"color: #800080; text-decoration-color: #800080\">              -3.2587262096172336              </span>│\n",
       "│<span style=\"color: #008080; text-decoration-color: #008080\">     val_Regressor/subject_with_median_R2      </span>│<span style=\"color: #800080; text-decoration-color: #800080\">              0.9956462618413991               </span>│\n",
       "│<span style=\"color: #008080; text-decoration-color: #008080\"> val_Regressor/subject_with_median_concordance </span>│<span style=\"color: #800080; text-decoration-color: #800080\">              0.9977877123578973               </span>│\n",
       "│<span style=\"color: #008080; text-decoration-color: #008080\">     val_Regressor/subject_with_median_mae     </span>│<span style=\"color: #800080; text-decoration-color: #800080\">              0.0527911259204193               </span>│\n",
       "│<span style=\"color: #008080; text-decoration-color: #008080\">     val_Regressor/subject_with_median_mse     </span>│<span style=\"color: #800080; text-decoration-color: #800080\">             0.0034146361867495086             </span>│\n",
       "└───────────────────────────────────────────────┴───────────────────────────────────────────────┘\n",
       "</pre>\n"
      ],
      "text/plain": [
       "┏━━━━━━━━━━━━━━━━━━━━━━━━━━━━━━━━━━━━━━━━━━━━━━━┳━━━━━━━━━━━━━━━━━━━━━━━━━━━━━━━━━━━━━━━━━━━━━━━┓\n",
       "┃\u001b[1m \u001b[0m\u001b[1m               Validate metric               \u001b[0m\u001b[1m \u001b[0m┃\u001b[1m \u001b[0m\u001b[1m                DataLoader 0                 \u001b[0m\u001b[1m \u001b[0m┃\n",
       "┡━━━━━━━━━━━━━━━━━━━━━━━━━━━━━━━━━━━━━━━━━━━━━━━╇━━━━━━━━━━━━━━━━━━━━━━━━━━━━━━━━━━━━━━━━━━━━━━━┩\n",
       "│\u001b[36m \u001b[0m\u001b[36m             val_Regressor/NRMSE             \u001b[0m\u001b[36m \u001b[0m│\u001b[35m \u001b[0m\u001b[35m             10.441920273516926              \u001b[0m\u001b[35m \u001b[0m│\n",
       "│\u001b[36m \u001b[0m\u001b[36m              val_Regressor/R2               \u001b[0m\u001b[36m \u001b[0m│\u001b[35m \u001b[0m\u001b[35m             0.9680606328168483              \u001b[0m\u001b[35m \u001b[0m│\n",
       "│\u001b[36m \u001b[0m\u001b[36m          val_Regressor/concordance          \u001b[0m\u001b[36m \u001b[0m│\u001b[35m \u001b[0m\u001b[35m              0.983873310717675              \u001b[0m\u001b[35m \u001b[0m│\n",
       "│\u001b[36m \u001b[0m\u001b[36m              val_Regressor/mae              \u001b[0m\u001b[36m \u001b[0m│\u001b[35m \u001b[0m\u001b[35m             0.12131948619108895             \u001b[0m\u001b[35m \u001b[0m│\n",
       "│\u001b[36m \u001b[0m\u001b[36m              val_Regressor/mse              \u001b[0m\u001b[36m \u001b[0m│\u001b[35m \u001b[0m\u001b[35m             0.0241662836977839              \u001b[0m\u001b[35m \u001b[0m│\n",
       "│\u001b[36m \u001b[0m\u001b[36m        val_Regressor/subject_iqr_iqr        \u001b[0m\u001b[36m \u001b[0m│\u001b[35m \u001b[0m\u001b[35m             0.02332974784076214             \u001b[0m\u001b[35m \u001b[0m│\n",
       "│\u001b[36m \u001b[0m\u001b[36m       val_Regressor/subject_iqr_mean        \u001b[0m\u001b[36m \u001b[0m│\u001b[35m \u001b[0m\u001b[35m             0.18389856815338135             \u001b[0m\u001b[35m \u001b[0m│\n",
       "│\u001b[36m \u001b[0m\u001b[36m      val_Regressor/subject_iqr_median       \u001b[0m\u001b[36m \u001b[0m│\u001b[35m \u001b[0m\u001b[35m             0.1832335740327835              \u001b[0m\u001b[35m \u001b[0m│\n",
       "│\u001b[36m \u001b[0m\u001b[36m        val_Regressor/subject_iqr_std        \u001b[0m\u001b[36m \u001b[0m│\u001b[35m \u001b[0m\u001b[35m             0.01943778246641159             \u001b[0m\u001b[35m \u001b[0m│\n",
       "│\u001b[36m \u001b[0m\u001b[36m        val_Regressor/subject_std_iqr        \u001b[0m\u001b[36m \u001b[0m│\u001b[35m \u001b[0m\u001b[35m            0.011696393601596355             \u001b[0m\u001b[35m \u001b[0m│\n",
       "│\u001b[36m \u001b[0m\u001b[36m       val_Regressor/subject_std_mean        \u001b[0m\u001b[36m \u001b[0m│\u001b[35m \u001b[0m\u001b[35m             0.1422167420387268              \u001b[0m\u001b[35m \u001b[0m│\n",
       "│\u001b[36m \u001b[0m\u001b[36m      val_Regressor/subject_std_median       \u001b[0m\u001b[36m \u001b[0m│\u001b[35m \u001b[0m\u001b[35m             0.13901790976524353             \u001b[0m\u001b[35m \u001b[0m│\n",
       "│\u001b[36m \u001b[0m\u001b[36m        val_Regressor/subject_std_std        \u001b[0m\u001b[36m \u001b[0m│\u001b[35m \u001b[0m\u001b[35m            0.021764235571026802             \u001b[0m\u001b[35m \u001b[0m│\n",
       "│\u001b[36m \u001b[0m\u001b[36m    val_Regressor/subject_with_mean_NRMSE    \u001b[0m\u001b[36m \u001b[0m│\u001b[35m \u001b[0m\u001b[35m             -3.3319017152499693             \u001b[0m\u001b[35m \u001b[0m│\n",
       "│\u001b[36m \u001b[0m\u001b[36m     val_Regressor/subject_with_mean_R2      \u001b[0m\u001b[36m \u001b[0m│\u001b[35m \u001b[0m\u001b[35m             0.9954485379791327              \u001b[0m\u001b[35m \u001b[0m│\n",
       "│\u001b[36m \u001b[0m\u001b[36m val_Regressor/subject_with_mean_concordance \u001b[0m\u001b[36m \u001b[0m│\u001b[35m \u001b[0m\u001b[35m             0.9976830515022751              \u001b[0m\u001b[35m \u001b[0m│\n",
       "│\u001b[36m \u001b[0m\u001b[36m     val_Regressor/subject_with_mean_mae     \u001b[0m\u001b[36m \u001b[0m│\u001b[35m \u001b[0m\u001b[35m             0.05456203949704357             \u001b[0m\u001b[35m \u001b[0m│\n",
       "│\u001b[36m \u001b[0m\u001b[36m     val_Regressor/subject_with_mean_mse     \u001b[0m\u001b[36m \u001b[0m│\u001b[35m \u001b[0m\u001b[35m            0.0035697109823581968            \u001b[0m\u001b[35m \u001b[0m│\n",
       "│\u001b[36m \u001b[0m\u001b[36m   val_Regressor/subject_with_median_NRMSE   \u001b[0m\u001b[36m \u001b[0m│\u001b[35m \u001b[0m\u001b[35m             -3.2587262096172336             \u001b[0m\u001b[35m \u001b[0m│\n",
       "│\u001b[36m \u001b[0m\u001b[36m    val_Regressor/subject_with_median_R2     \u001b[0m\u001b[36m \u001b[0m│\u001b[35m \u001b[0m\u001b[35m             0.9956462618413991              \u001b[0m\u001b[35m \u001b[0m│\n",
       "│\u001b[36m \u001b[0m\u001b[36mval_Regressor/subject_with_median_concordance\u001b[0m\u001b[36m \u001b[0m│\u001b[35m \u001b[0m\u001b[35m             0.9977877123578973              \u001b[0m\u001b[35m \u001b[0m│\n",
       "│\u001b[36m \u001b[0m\u001b[36m    val_Regressor/subject_with_median_mae    \u001b[0m\u001b[36m \u001b[0m│\u001b[35m \u001b[0m\u001b[35m             0.0527911259204193              \u001b[0m\u001b[35m \u001b[0m│\n",
       "│\u001b[36m \u001b[0m\u001b[36m    val_Regressor/subject_with_median_mse    \u001b[0m\u001b[36m \u001b[0m│\u001b[35m \u001b[0m\u001b[35m            0.0034146361867495086            \u001b[0m\u001b[35m \u001b[0m│\n",
       "└───────────────────────────────────────────────┴───────────────────────────────────────────────┘\n"
      ]
     },
     "metadata": {},
     "output_type": "display_data"
    },
    {
     "data": {
      "text/plain": [
       "[{'val_Regressor/R2': 0.9680606328168483,\n",
       "  'val_Regressor/concordance': 0.983873310717675,\n",
       "  'val_Regressor/NRMSE': 10.441920273516926,\n",
       "  'val_Regressor/mse': 0.0241662836977839,\n",
       "  'val_Regressor/mae': 0.12131948619108895,\n",
       "  'val_Regressor/subject_with_mean_R2': 0.9954485379791327,\n",
       "  'val_Regressor/subject_with_median_R2': 0.9956462618413991,\n",
       "  'val_Regressor/subject_with_mean_concordance': 0.9976830515022751,\n",
       "  'val_Regressor/subject_with_median_concordance': 0.9977877123578973,\n",
       "  'val_Regressor/subject_with_mean_NRMSE': -3.3319017152499693,\n",
       "  'val_Regressor/subject_with_median_NRMSE': -3.2587262096172336,\n",
       "  'val_Regressor/subject_with_mean_mse': 0.0035697109823581968,\n",
       "  'val_Regressor/subject_with_median_mse': 0.0034146361867495086,\n",
       "  'val_Regressor/subject_with_mean_mae': 0.05456203949704357,\n",
       "  'val_Regressor/subject_with_median_mae': 0.0527911259204193,\n",
       "  'val_Regressor/subject_iqr_mean': 0.18389856815338135,\n",
       "  'val_Regressor/subject_iqr_median': 0.1832335740327835,\n",
       "  'val_Regressor/subject_iqr_std': 0.01943778246641159,\n",
       "  'val_Regressor/subject_iqr_iqr': 0.02332974784076214,\n",
       "  'val_Regressor/subject_std_mean': 0.1422167420387268,\n",
       "  'val_Regressor/subject_std_median': 0.13901790976524353,\n",
       "  'val_Regressor/subject_std_std': 0.021764235571026802,\n",
       "  'val_Regressor/subject_std_iqr': 0.011696393601596355}]"
      ]
     },
     "execution_count": 2,
     "metadata": {},
     "output_type": "execute_result"
    }
   ],
   "source": [
    "# load config from runs/config_CPC.yaml\n",
    "import yaml\n",
    "import lightning as L\n",
    "with open('../runs/config_Regression.yaml', 'r') as f:\n",
    "    config = yaml.safe_load(f)\n",
    "\n",
    "ssl_task = Regression()\n",
    "config['data']['ssl_task'] = ssl_task\n",
    "config['data']['window_len_s'] = 2\n",
    "config['data']['num_workers'] = 2\n",
    "\n",
    "# remove projection head\n",
    "config['model']['init_args']['encoder_kwargs']['final_layer'] = False\n",
    "config['model']['init_args']['projection_head'] = False\n",
    "\n",
    "config['trainer']['callbacks'] = None\n",
    "config['trainer']['logger'] = None\n",
    "\n",
    "trainer = L.Trainer(**config['trainer'])\n",
    "model = Regression.RegressionLit(**config['model']['init_args'])\n",
    "litDataModule = SSLHBNDataModule(**config['data'])\n",
    "litDataModule.setup(stage='validate')\n",
    "\n",
    "trainer.validate(model, litDataModule)"
   ]
  },
  {
   "cell_type": "code",
   "execution_count": 13,
   "id": "c45ba0cf",
   "metadata": {},
   "outputs": [
    {
     "name": "stderr",
     "output_type": "stream",
     "text": [
      "GPU available: True (cuda), used: True\n",
      "TPU available: False, using: 0 TPU cores\n",
      "HPU available: False, using: 0 HPUs\n"
     ]
    },
    {
     "name": "stdout",
     "output_type": "stream",
     "text": [
      "Train releases: ['ds005506', 'ds005507', 'ds005508', 'ds005509', 'ds005511', 'ds005512', 'ds005514', 'ds005515', 'ds005516']\n",
      "Validation release: ds005505\n",
      "Test release: ds005510\n"
     ]
    },
    {
     "name": "stderr",
     "output_type": "stream",
     "text": [
      "LOCAL_RANK: 0 - CUDA_VISIBLE_DEVICES: [0]\n"
     ]
    },
    {
     "data": {
      "application/vnd.jupyter.widget-view+json": {
       "model_id": "5349d019df944c8cbd10fa8717fb87cb",
       "version_major": 2,
       "version_minor": 0
      },
      "text/plain": [
       "Validation: |          | 0/? [00:00<?, ?it/s]"
      ]
     },
     "metadata": {},
     "output_type": "display_data"
    },
    {
     "data": {
      "text/html": [
       "<pre style=\"white-space:pre;overflow-x:auto;line-height:normal;font-family:Menlo,'DejaVu Sans Mono',consolas,'Courier New',monospace\">┏━━━━━━━━━━━━━━━━━━━━━━━━━━━━━━━━━━━━━━━━━━━━━━━┳━━━━━━━━━━━━━━━━━━━━━━━━━━━━━━━━━━━━━━━━━━━━━━━┓\n",
       "┃<span style=\"font-weight: bold\">                Validate metric                </span>┃<span style=\"font-weight: bold\">                 DataLoader 0                  </span>┃\n",
       "┡━━━━━━━━━━━━━━━━━━━━━━━━━━━━━━━━━━━━━━━━━━━━━━━╇━━━━━━━━━━━━━━━━━━━━━━━━━━━━━━━━━━━━━━━━━━━━━━━┩\n",
       "│<span style=\"color: #008080; text-decoration-color: #008080\">              val_Regressor/NRMSE              </span>│<span style=\"color: #800080; text-decoration-color: #800080\">               60.47444534301758               </span>│\n",
       "│<span style=\"color: #008080; text-decoration-color: #008080\">               val_Regressor/R2                </span>│<span style=\"color: #800080; text-decoration-color: #800080\">             -0.07129573822021484              </span>│\n",
       "│<span style=\"color: #008080; text-decoration-color: #008080\">           val_Regressor/concordance           </span>│<span style=\"color: #800080; text-decoration-color: #800080\">             0.002421010984107852              </span>│\n",
       "│<span style=\"color: #008080; text-decoration-color: #008080\">               val_Regressor/mae               </span>│<span style=\"color: #800080; text-decoration-color: #800080\">              0.7353934049606323               </span>│\n",
       "│<span style=\"color: #008080; text-decoration-color: #008080\">               val_Regressor/mse               </span>│<span style=\"color: #800080; text-decoration-color: #800080\">              0.8105745315551758               </span>│\n",
       "│<span style=\"color: #008080; text-decoration-color: #008080\">         val_Regressor/subject_iqr_iqr         </span>│<span style=\"color: #800080; text-decoration-color: #800080\">             0.027806835249066353              </span>│\n",
       "│<span style=\"color: #008080; text-decoration-color: #008080\">        val_Regressor/subject_iqr_mean         </span>│<span style=\"color: #800080; text-decoration-color: #800080\">              0.24425628781318665              </span>│\n",
       "│<span style=\"color: #008080; text-decoration-color: #008080\">       val_Regressor/subject_iqr_median        </span>│<span style=\"color: #800080; text-decoration-color: #800080\">              0.24259880185127258              </span>│\n",
       "│<span style=\"color: #008080; text-decoration-color: #008080\">         val_Regressor/subject_iqr_std         </span>│<span style=\"color: #800080; text-decoration-color: #800080\">             0.023253608494997025              </span>│\n",
       "│<span style=\"color: #008080; text-decoration-color: #008080\">         val_Regressor/subject_std_iqr         </span>│<span style=\"color: #800080; text-decoration-color: #800080\">              0.0146559476852417               </span>│\n",
       "│<span style=\"color: #008080; text-decoration-color: #008080\">        val_Regressor/subject_std_mean         </span>│<span style=\"color: #800080; text-decoration-color: #800080\">              0.1820879876613617               </span>│\n",
       "│<span style=\"color: #008080; text-decoration-color: #008080\">       val_Regressor/subject_std_median        </span>│<span style=\"color: #800080; text-decoration-color: #800080\">              0.1820320188999176               </span>│\n",
       "│<span style=\"color: #008080; text-decoration-color: #008080\">         val_Regressor/subject_std_std         </span>│<span style=\"color: #800080; text-decoration-color: #800080\">             0.011501796543598175              </span>│\n",
       "│<span style=\"color: #008080; text-decoration-color: #008080\">     val_Regressor/subject_with_mean_NRMSE     </span>│<span style=\"color: #800080; text-decoration-color: #800080\">              -50.38437271118164               </span>│\n",
       "│<span style=\"color: #008080; text-decoration-color: #008080\">      val_Regressor/subject_with_mean_R2       </span>│<span style=\"color: #800080; text-decoration-color: #800080\">             -0.040778398513793945             </span>│\n",
       "│<span style=\"color: #008080; text-decoration-color: #008080\">  val_Regressor/subject_with_mean_concordance  </span>│<span style=\"color: #800080; text-decoration-color: #800080\">             0.002113032853230834              </span>│\n",
       "│<span style=\"color: #008080; text-decoration-color: #008080\">      val_Regressor/subject_with_mean_mae      </span>│<span style=\"color: #800080; text-decoration-color: #800080\">              0.7418538928031921               </span>│\n",
       "│<span style=\"color: #008080; text-decoration-color: #008080\">      val_Regressor/subject_with_mean_mse      </span>│<span style=\"color: #800080; text-decoration-color: #800080\">               0.816282331943512               </span>│\n",
       "│<span style=\"color: #008080; text-decoration-color: #008080\">    val_Regressor/subject_with_median_NRMSE    </span>│<span style=\"color: #800080; text-decoration-color: #800080\">              -50.404571533203125              </span>│\n",
       "│<span style=\"color: #008080; text-decoration-color: #008080\">     val_Regressor/subject_with_median_R2      </span>│<span style=\"color: #800080; text-decoration-color: #800080\">             -0.041613101959228516             </span>│\n",
       "│<span style=\"color: #008080; text-decoration-color: #008080\"> val_Regressor/subject_with_median_concordance </span>│<span style=\"color: #800080; text-decoration-color: #800080\">             0.0021602788474410772             </span>│\n",
       "│<span style=\"color: #008080; text-decoration-color: #008080\">     val_Regressor/subject_with_median_mae     </span>│<span style=\"color: #800080; text-decoration-color: #800080\">               0.742459774017334               </span>│\n",
       "│<span style=\"color: #008080; text-decoration-color: #008080\">     val_Regressor/subject_with_median_mse     </span>│<span style=\"color: #800080; text-decoration-color: #800080\">              0.8169370293617249               </span>│\n",
       "└───────────────────────────────────────────────┴───────────────────────────────────────────────┘\n",
       "</pre>\n"
      ],
      "text/plain": [
       "┏━━━━━━━━━━━━━━━━━━━━━━━━━━━━━━━━━━━━━━━━━━━━━━━┳━━━━━━━━━━━━━━━━━━━━━━━━━━━━━━━━━━━━━━━━━━━━━━━┓\n",
       "┃\u001b[1m \u001b[0m\u001b[1m               Validate metric               \u001b[0m\u001b[1m \u001b[0m┃\u001b[1m \u001b[0m\u001b[1m                DataLoader 0                 \u001b[0m\u001b[1m \u001b[0m┃\n",
       "┡━━━━━━━━━━━━━━━━━━━━━━━━━━━━━━━━━━━━━━━━━━━━━━━╇━━━━━━━━━━━━━━━━━━━━━━━━━━━━━━━━━━━━━━━━━━━━━━━┩\n",
       "│\u001b[36m \u001b[0m\u001b[36m             val_Regressor/NRMSE             \u001b[0m\u001b[36m \u001b[0m│\u001b[35m \u001b[0m\u001b[35m              60.47444534301758              \u001b[0m\u001b[35m \u001b[0m│\n",
       "│\u001b[36m \u001b[0m\u001b[36m              val_Regressor/R2               \u001b[0m\u001b[36m \u001b[0m│\u001b[35m \u001b[0m\u001b[35m            -0.07129573822021484             \u001b[0m\u001b[35m \u001b[0m│\n",
       "│\u001b[36m \u001b[0m\u001b[36m          val_Regressor/concordance          \u001b[0m\u001b[36m \u001b[0m│\u001b[35m \u001b[0m\u001b[35m            0.002421010984107852             \u001b[0m\u001b[35m \u001b[0m│\n",
       "│\u001b[36m \u001b[0m\u001b[36m              val_Regressor/mae              \u001b[0m\u001b[36m \u001b[0m│\u001b[35m \u001b[0m\u001b[35m             0.7353934049606323              \u001b[0m\u001b[35m \u001b[0m│\n",
       "│\u001b[36m \u001b[0m\u001b[36m              val_Regressor/mse              \u001b[0m\u001b[36m \u001b[0m│\u001b[35m \u001b[0m\u001b[35m             0.8105745315551758              \u001b[0m\u001b[35m \u001b[0m│\n",
       "│\u001b[36m \u001b[0m\u001b[36m        val_Regressor/subject_iqr_iqr        \u001b[0m\u001b[36m \u001b[0m│\u001b[35m \u001b[0m\u001b[35m            0.027806835249066353             \u001b[0m\u001b[35m \u001b[0m│\n",
       "│\u001b[36m \u001b[0m\u001b[36m       val_Regressor/subject_iqr_mean        \u001b[0m\u001b[36m \u001b[0m│\u001b[35m \u001b[0m\u001b[35m             0.24425628781318665             \u001b[0m\u001b[35m \u001b[0m│\n",
       "│\u001b[36m \u001b[0m\u001b[36m      val_Regressor/subject_iqr_median       \u001b[0m\u001b[36m \u001b[0m│\u001b[35m \u001b[0m\u001b[35m             0.24259880185127258             \u001b[0m\u001b[35m \u001b[0m│\n",
       "│\u001b[36m \u001b[0m\u001b[36m        val_Regressor/subject_iqr_std        \u001b[0m\u001b[36m \u001b[0m│\u001b[35m \u001b[0m\u001b[35m            0.023253608494997025             \u001b[0m\u001b[35m \u001b[0m│\n",
       "│\u001b[36m \u001b[0m\u001b[36m        val_Regressor/subject_std_iqr        \u001b[0m\u001b[36m \u001b[0m│\u001b[35m \u001b[0m\u001b[35m             0.0146559476852417              \u001b[0m\u001b[35m \u001b[0m│\n",
       "│\u001b[36m \u001b[0m\u001b[36m       val_Regressor/subject_std_mean        \u001b[0m\u001b[36m \u001b[0m│\u001b[35m \u001b[0m\u001b[35m             0.1820879876613617              \u001b[0m\u001b[35m \u001b[0m│\n",
       "│\u001b[36m \u001b[0m\u001b[36m      val_Regressor/subject_std_median       \u001b[0m\u001b[36m \u001b[0m│\u001b[35m \u001b[0m\u001b[35m             0.1820320188999176              \u001b[0m\u001b[35m \u001b[0m│\n",
       "│\u001b[36m \u001b[0m\u001b[36m        val_Regressor/subject_std_std        \u001b[0m\u001b[36m \u001b[0m│\u001b[35m \u001b[0m\u001b[35m            0.011501796543598175             \u001b[0m\u001b[35m \u001b[0m│\n",
       "│\u001b[36m \u001b[0m\u001b[36m    val_Regressor/subject_with_mean_NRMSE    \u001b[0m\u001b[36m \u001b[0m│\u001b[35m \u001b[0m\u001b[35m             -50.38437271118164              \u001b[0m\u001b[35m \u001b[0m│\n",
       "│\u001b[36m \u001b[0m\u001b[36m     val_Regressor/subject_with_mean_R2      \u001b[0m\u001b[36m \u001b[0m│\u001b[35m \u001b[0m\u001b[35m            -0.040778398513793945            \u001b[0m\u001b[35m \u001b[0m│\n",
       "│\u001b[36m \u001b[0m\u001b[36m val_Regressor/subject_with_mean_concordance \u001b[0m\u001b[36m \u001b[0m│\u001b[35m \u001b[0m\u001b[35m            0.002113032853230834             \u001b[0m\u001b[35m \u001b[0m│\n",
       "│\u001b[36m \u001b[0m\u001b[36m     val_Regressor/subject_with_mean_mae     \u001b[0m\u001b[36m \u001b[0m│\u001b[35m \u001b[0m\u001b[35m             0.7418538928031921              \u001b[0m\u001b[35m \u001b[0m│\n",
       "│\u001b[36m \u001b[0m\u001b[36m     val_Regressor/subject_with_mean_mse     \u001b[0m\u001b[36m \u001b[0m│\u001b[35m \u001b[0m\u001b[35m              0.816282331943512              \u001b[0m\u001b[35m \u001b[0m│\n",
       "│\u001b[36m \u001b[0m\u001b[36m   val_Regressor/subject_with_median_NRMSE   \u001b[0m\u001b[36m \u001b[0m│\u001b[35m \u001b[0m\u001b[35m             -50.404571533203125             \u001b[0m\u001b[35m \u001b[0m│\n",
       "│\u001b[36m \u001b[0m\u001b[36m    val_Regressor/subject_with_median_R2     \u001b[0m\u001b[36m \u001b[0m│\u001b[35m \u001b[0m\u001b[35m            -0.041613101959228516            \u001b[0m\u001b[35m \u001b[0m│\n",
       "│\u001b[36m \u001b[0m\u001b[36mval_Regressor/subject_with_median_concordance\u001b[0m\u001b[36m \u001b[0m│\u001b[35m \u001b[0m\u001b[35m            0.0021602788474410772            \u001b[0m\u001b[35m \u001b[0m│\n",
       "│\u001b[36m \u001b[0m\u001b[36m    val_Regressor/subject_with_median_mae    \u001b[0m\u001b[36m \u001b[0m│\u001b[35m \u001b[0m\u001b[35m              0.742459774017334              \u001b[0m\u001b[35m \u001b[0m│\n",
       "│\u001b[36m \u001b[0m\u001b[36m    val_Regressor/subject_with_median_mse    \u001b[0m\u001b[36m \u001b[0m│\u001b[35m \u001b[0m\u001b[35m             0.8169370293617249              \u001b[0m\u001b[35m \u001b[0m│\n",
       "└───────────────────────────────────────────────┴───────────────────────────────────────────────┘\n"
      ]
     },
     "metadata": {},
     "output_type": "display_data"
    },
    {
     "data": {
      "text/plain": [
       "[{'val_Regressor/R2': -0.07129573822021484,\n",
       "  'val_Regressor/concordance': 0.002421010984107852,\n",
       "  'val_Regressor/NRMSE': 60.47444534301758,\n",
       "  'val_Regressor/mse': 0.8105745315551758,\n",
       "  'val_Regressor/mae': 0.7353934049606323,\n",
       "  'val_Regressor/subject_with_mean_R2': -0.040778398513793945,\n",
       "  'val_Regressor/subject_with_median_R2': -0.041613101959228516,\n",
       "  'val_Regressor/subject_with_mean_concordance': 0.002113032853230834,\n",
       "  'val_Regressor/subject_with_median_concordance': 0.0021602788474410772,\n",
       "  'val_Regressor/subject_with_mean_NRMSE': -50.38437271118164,\n",
       "  'val_Regressor/subject_with_median_NRMSE': -50.404571533203125,\n",
       "  'val_Regressor/subject_with_mean_mse': 0.816282331943512,\n",
       "  'val_Regressor/subject_with_median_mse': 0.8169370293617249,\n",
       "  'val_Regressor/subject_with_mean_mae': 0.7418538928031921,\n",
       "  'val_Regressor/subject_with_median_mae': 0.742459774017334,\n",
       "  'val_Regressor/subject_iqr_mean': 0.24425628781318665,\n",
       "  'val_Regressor/subject_iqr_median': 0.24259880185127258,\n",
       "  'val_Regressor/subject_iqr_std': 0.023253608494997025,\n",
       "  'val_Regressor/subject_iqr_iqr': 0.027806835249066353,\n",
       "  'val_Regressor/subject_std_mean': 0.1820879876613617,\n",
       "  'val_Regressor/subject_std_median': 0.1820320188999176,\n",
       "  'val_Regressor/subject_std_std': 0.011501796543598175,\n",
       "  'val_Regressor/subject_std_iqr': 0.0146559476852417}]"
      ]
     },
     "execution_count": 13,
     "metadata": {},
     "output_type": "execute_result"
    }
   ],
   "source": [
    "# load config from runs/config_CPC.yaml\n",
    "import yaml\n",
    "import lightning as L\n",
    "with open('../runs/config_Regression.yaml', 'r') as f:\n",
    "    config = yaml.safe_load(f)\n",
    "\n",
    "ssl_task = Regression()\n",
    "config['data']['ssl_task'] = ssl_task\n",
    "config['data']['window_len_s'] = 2\n",
    "config['data']['num_workers'] = 2\n",
    "\n",
    "# remove projection head\n",
    "config['model']['init_args']['encoder_kwargs']['final_layer'] = True\n",
    "config['model']['init_args']['encoder_kwargs']['n_times'] = 2*250\n",
    "config['model']['init_args']['projection_head'] = True\n",
    "\n",
    "config['trainer']['callbacks'] = None\n",
    "config['trainer']['logger'] = None\n",
    "\n",
    "trainer = L.Trainer(**config['trainer'])\n",
    "model = Regression.RegressionLit(**config['model']['init_args'])\n",
    "litDataModule = SSLHBNDataModule(**config['data'])\n",
    "litDataModule.setup(stage='validate')\n",
    "trainer.validate(model, litDataModule)\n"
   ]
  },
  {
   "cell_type": "code",
   "execution_count": null,
   "id": "c7140582",
   "metadata": {},
   "outputs": [],
   "source": []
  }
 ],
 "metadata": {
  "kernelspec": {
   "display_name": ".venv",
   "language": "python",
   "name": "python3"
  },
  "language_info": {
   "codemirror_mode": {
    "name": "ipython",
    "version": 3
   },
   "file_extension": ".py",
   "mimetype": "text/x-python",
   "name": "python",
   "nbconvert_exporter": "python",
   "pygments_lexer": "ipython3",
   "version": "3.10.12"
  }
 },
 "nbformat": 4,
 "nbformat_minor": 5
}

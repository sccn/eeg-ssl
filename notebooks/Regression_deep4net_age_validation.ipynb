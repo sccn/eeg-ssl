{
 "cells": [
  {
   "cell_type": "code",
   "execution_count": 1,
   "id": "1d12c2e8",
   "metadata": {},
   "outputs": [],
   "source": [
    "import sys\n",
    "sys.path.insert(0,'../')\n",
    "from libs.ssl_task import CPC, Regression\n",
    "from libs.ssl_data import SSLHBNDataModule\n",
    "from libs.evaluation import train_projection_layer_for_eval\n",
    "%load_ext autoreload\n",
    "%autoreload 2"
   ]
  },
  {
   "cell_type": "code",
   "execution_count": 4,
   "id": "5e83e2f9",
   "metadata": {},
   "outputs": [
    {
     "name": "stderr",
     "output_type": "stream",
     "text": [
      "\u001b[34m\u001b[1mwandb\u001b[0m: Currently logged in as: \u001b[33mdt-young112\u001b[0m (\u001b[33msccn\u001b[0m) to \u001b[32mhttps://api.wandb.ai\u001b[0m. Use \u001b[1m`wandb login --relogin`\u001b[0m to force relogin\n",
      "\u001b[34m\u001b[1mwandb\u001b[0m: Using wandb-core as the SDK backend.  Please refer to https://wandb.me/wandb-core for more information.\n"
     ]
    },
    {
     "data": {
      "text/html": [
       "Tracking run with wandb version 0.19.6"
      ],
      "text/plain": [
       "<IPython.core.display.HTML object>"
      ]
     },
     "metadata": {},
     "output_type": "display_data"
    },
    {
     "data": {
      "text/html": [
       "Run data is saved locally in <code>/home/dung/eeg-ssl/notebooks/wandb/run-20250513_183751-a4dt41sn</code>"
      ],
      "text/plain": [
       "<IPython.core.display.HTML object>"
      ]
     },
     "metadata": {},
     "output_type": "display_data"
    },
    {
     "data": {
      "text/html": [
       "Syncing run <strong><a href='https://wandb.ai/sccn/eeg-ssl/runs/a4dt41sn' target=\"_blank\">trim-shape-180</a></strong> to <a href='https://wandb.ai/sccn/eeg-ssl' target=\"_blank\">Weights & Biases</a> (<a href='https://wandb.me/developer-guide' target=\"_blank\">docs</a>)<br>"
      ],
      "text/plain": [
       "<IPython.core.display.HTML object>"
      ]
     },
     "metadata": {},
     "output_type": "display_data"
    },
    {
     "data": {
      "text/html": [
       " View project at <a href='https://wandb.ai/sccn/eeg-ssl' target=\"_blank\">https://wandb.ai/sccn/eeg-ssl</a>"
      ],
      "text/plain": [
       "<IPython.core.display.HTML object>"
      ]
     },
     "metadata": {},
     "output_type": "display_data"
    },
    {
     "data": {
      "text/html": [
       " View run at <a href='https://wandb.ai/sccn/eeg-ssl/runs/a4dt41sn' target=\"_blank\">https://wandb.ai/sccn/eeg-ssl/runs/a4dt41sn</a>"
      ],
      "text/plain": [
       "<IPython.core.display.HTML object>"
      ]
     },
     "metadata": {},
     "output_type": "display_data"
    }
   ],
   "source": [
    "import wandb\n",
    "run = wandb.init(project=\"eeg-ssl\", job_type=\"training\")"
   ]
  },
  {
   "cell_type": "code",
   "execution_count": 5,
   "id": "d63b3438",
   "metadata": {},
   "outputs": [
    {
     "name": "stderr",
     "output_type": "stream",
     "text": [
      "\u001b[34m\u001b[1mwandb\u001b[0m:   1 of 1 files downloaded.  \n",
      "\u001b[34m\u001b[1mwandb\u001b[0m:   1 of 1 files downloaded.  \n",
      "\u001b[34m\u001b[1mwandb\u001b[0m:   1 of 1 files downloaded.  \n",
      "\u001b[34m\u001b[1mwandb\u001b[0m:   1 of 1 files downloaded.  \n",
      "\u001b[34m\u001b[1mwandb\u001b[0m:   1 of 1 files downloaded.  \n",
      "\u001b[34m\u001b[1mwandb\u001b[0m:   1 of 1 files downloaded.  \n",
      "\u001b[34m\u001b[1mwandb\u001b[0m:   1 of 1 files downloaded.  \n",
      "\u001b[34m\u001b[1mwandb\u001b[0m:   1 of 1 files downloaded.  \n",
      "\u001b[34m\u001b[1mwandb\u001b[0m:   1 of 1 files downloaded.  \n",
      "\u001b[34m\u001b[1mwandb\u001b[0m:   1 of 1 files downloaded.  \n"
     ]
    }
   ],
   "source": [
    "import os\n",
    "model = \"e3ropwvz\" \n",
    "artifact_dir = f'artifacts/model-{model}'\n",
    "num_version = 10\n",
    "for version in range(num_version):\n",
    "    if os.path.exists(f'{artifact_dir}:v{version}'):\n",
    "        print(f\"Artifact directory {artifact_dir}:v{version} already exists. Skipping download.\")\n",
    "        continue\n",
    "    else:\n",
    "        artifact = run.use_artifact(f'sccn/hbn-regression/model-{model}:v{version}', type='model')\n",
    "        artifact_dir = artifact.download()"
   ]
  },
  {
   "cell_type": "code",
   "execution_count": 2,
   "id": "e57d4387",
   "metadata": {},
   "outputs": [],
   "source": [
    "# load config from runs/config_CPC.yaml\n",
    "import yaml\n",
    "import lightning as L\n",
    "with open('../runs/config_Regression.yaml', 'r') as f:\n",
    "    config = yaml.safe_load(f)\n",
    "\n",
    "ssl_task = Regression()\n",
    "config['data']['ssl_task'] = ssl_task\n",
    "config['data']['target_label'] = 'age'\n",
    "config['data']['train_percent'] = 0.2\n",
    "\n",
    "litDataModule = SSLHBNDataModule(**config['data'])\n",
    "litDataModule.setup(stage='fit')"
   ]
  },
  {
   "cell_type": "code",
   "execution_count": null,
   "id": "3a8a8d82",
   "metadata": {},
   "outputs": [
    {
     "name": "stdout",
     "output_type": "stream",
     "text": [
      "Baseline score with no trained model\n",
      "Number of datasets: 519\n",
      "Number of examples: 107105\n",
      "Using regression model: Sequential(\n",
      "  (conv_classifier): Conv2d(200, 1, kernel_size=(1, 1), stride=(1, 1))\n",
      "  (squeeze): SqueezeFinalOutput(\n",
      "    (squeeze): Rearrange('b c t 1 -> b c t')\n",
      "  )\n",
      ")\n"
     ]
    },
    {
     "name": "stderr",
     "output_type": "stream",
     "text": [
      "  0%|          | 0/450 [00:00<?, ?it/s]"
     ]
    },
    {
     "name": "stderr",
     "output_type": "stream",
     "text": [
      "100%|██████████| 450/450 [00:02<00:00, 161.50it/s]\n"
     ]
    },
    {
     "name": "stdout",
     "output_type": "stream",
     "text": [
      "Validation scores:\n",
      "\tR2: -9.4036\n",
      "\tconcordance: 0.0012\n",
      "\tmse: 132.8159\n",
      "\tmae: 10.5630\n",
      "loading model version 0\n",
      "Number of datasets: 519\n",
      "Number of examples: 107105\n",
      "Using regression model: Sequential(\n",
      "  (conv_classifier): Conv2d(200, 1, kernel_size=(1, 1), stride=(1, 1))\n",
      "  (squeeze): SqueezeFinalOutput(\n",
      "    (squeeze): Rearrange('b c t 1 -> b c t')\n",
      "  )\n",
      ")\n"
     ]
    },
    {
     "name": "stderr",
     "output_type": "stream",
     "text": [
      "100%|██████████| 450/450 [00:03<00:00, 149.86it/s]\n",
      "/home/dung/eeg-ssl/.venv/lib/python3.10/site-packages/torchmetrics/utilities/prints.py:43: UserWarning: The variance of predictions or target is close to zero. This can cause instability in Pearson correlationcoefficient, leading to wrong results. Consider re-scaling the input if possible or computing using alarger dtype (currently using torch.float32).\n",
      "  warnings.warn(*args, **kwargs)  # noqa: B028\n"
     ]
    },
    {
     "name": "stdout",
     "output_type": "stream",
     "text": [
      "Validation scores:\n",
      "\tR2: -0.8285\n",
      "\tconcordance: 0.0000\n",
      "\tmse: 23.3432\n",
      "\tmae: 3.6366\n",
      "loading model version 1\n",
      "Number of datasets: 519\n",
      "Number of examples: 107105\n",
      "Using regression model: Sequential(\n",
      "  (conv_classifier): Conv2d(200, 1, kernel_size=(1, 1), stride=(1, 1))\n",
      "  (squeeze): SqueezeFinalOutput(\n",
      "    (squeeze): Rearrange('b c t 1 -> b c t')\n",
      "  )\n",
      ")\n"
     ]
    },
    {
     "name": "stderr",
     "output_type": "stream",
     "text": [
      "100%|██████████| 450/450 [00:02<00:00, 159.91it/s]\n"
     ]
    },
    {
     "name": "stdout",
     "output_type": "stream",
     "text": [
      "Validation scores:\n",
      "\tR2: -0.8285\n",
      "\tconcordance: 0.0000\n",
      "\tmse: 23.3432\n",
      "\tmae: 3.6366\n",
      "loading model version 2\n",
      "Number of datasets: 519\n",
      "Number of examples: 107105\n",
      "Using regression model: Sequential(\n",
      "  (conv_classifier): Conv2d(200, 1, kernel_size=(1, 1), stride=(1, 1))\n",
      "  (squeeze): SqueezeFinalOutput(\n",
      "    (squeeze): Rearrange('b c t 1 -> b c t')\n",
      "  )\n",
      ")\n"
     ]
    },
    {
     "name": "stderr",
     "output_type": "stream",
     "text": [
      "100%|██████████| 450/450 [00:02<00:00, 162.62it/s]\n"
     ]
    },
    {
     "name": "stdout",
     "output_type": "stream",
     "text": [
      "Validation scores:\n",
      "\tR2: -0.2267\n",
      "\tconcordance: -0.0000\n",
      "\tmse: 15.6610\n",
      "\tmae: 3.0044\n",
      "loading model version 3\n",
      "Number of datasets: 519\n",
      "Number of examples: 107105\n",
      "Using regression model: Sequential(\n",
      "  (conv_classifier): Conv2d(200, 1, kernel_size=(1, 1), stride=(1, 1))\n",
      "  (squeeze): SqueezeFinalOutput(\n",
      "    (squeeze): Rearrange('b c t 1 -> b c t')\n",
      "  )\n",
      ")\n"
     ]
    },
    {
     "name": "stderr",
     "output_type": "stream",
     "text": [
      "100%|██████████| 450/450 [00:02<00:00, 163.35it/s]\n"
     ]
    },
    {
     "name": "stdout",
     "output_type": "stream",
     "text": [
      "Validation scores:\n",
      "\tR2: -0.0905\n",
      "\tconcordance: 0.0000\n",
      "\tmse: 13.9213\n",
      "\tmae: 2.8992\n",
      "loading model version 4\n",
      "Number of datasets: 519\n",
      "Number of examples: 107105\n",
      "Using regression model: Sequential(\n",
      "  (conv_classifier): Conv2d(200, 1, kernel_size=(1, 1), stride=(1, 1))\n",
      "  (squeeze): SqueezeFinalOutput(\n",
      "    (squeeze): Rearrange('b c t 1 -> b c t')\n",
      "  )\n",
      ")\n"
     ]
    },
    {
     "name": "stderr",
     "output_type": "stream",
     "text": [
      "100%|██████████| 450/450 [00:02<00:00, 161.19it/s]\n"
     ]
    },
    {
     "name": "stdout",
     "output_type": "stream",
     "text": [
      "Validation scores:\n",
      "\tR2: -0.0309\n",
      "\tconcordance: 0.0000\n",
      "\tmse: 13.1606\n",
      "\tmae: 2.8874\n",
      "loading model version 5\n",
      "Number of datasets: 519\n",
      "Number of examples: 107105\n",
      "Using regression model: Sequential(\n",
      "  (conv_classifier): Conv2d(200, 1, kernel_size=(1, 1), stride=(1, 1))\n",
      "  (squeeze): SqueezeFinalOutput(\n",
      "    (squeeze): Rearrange('b c t 1 -> b c t')\n",
      "  )\n",
      ")\n"
     ]
    },
    {
     "name": "stderr",
     "output_type": "stream",
     "text": [
      "100%|██████████| 450/450 [00:02<00:00, 163.55it/s]\n"
     ]
    },
    {
     "name": "stdout",
     "output_type": "stream",
     "text": [
      "Validation scores:\n",
      "\tR2: -0.0127\n",
      "\tconcordance: nan\n",
      "\tmse: 12.9289\n",
      "\tmae: 2.9020\n",
      "loading model version 6\n",
      "Number of datasets: 519\n",
      "Number of examples: 107105\n",
      "Using regression model: Sequential(\n",
      "  (conv_classifier): Conv2d(200, 1, kernel_size=(1, 1), stride=(1, 1))\n",
      "  (squeeze): SqueezeFinalOutput(\n",
      "    (squeeze): Rearrange('b c t 1 -> b c t')\n",
      "  )\n",
      ")\n"
     ]
    },
    {
     "name": "stderr",
     "output_type": "stream",
     "text": [
      "100%|██████████| 450/450 [00:02<00:00, 156.87it/s]\n"
     ]
    },
    {
     "name": "stdout",
     "output_type": "stream",
     "text": [
      "Validation scores:\n",
      "\tR2: -0.0020\n",
      "\tconcordance: 0.0000\n",
      "\tmse: 12.7922\n",
      "\tmae: 2.9323\n",
      "loading model version 7\n",
      "Number of datasets: 519\n",
      "Number of examples: 107105\n",
      "Using regression model: Sequential(\n",
      "  (conv_classifier): Conv2d(200, 1, kernel_size=(1, 1), stride=(1, 1))\n",
      "  (squeeze): SqueezeFinalOutput(\n",
      "    (squeeze): Rearrange('b c t 1 -> b c t')\n",
      "  )\n",
      ")\n"
     ]
    },
    {
     "name": "stderr",
     "output_type": "stream",
     "text": [
      "100%|██████████| 450/450 [00:02<00:00, 157.42it/s]\n"
     ]
    },
    {
     "name": "stdout",
     "output_type": "stream",
     "text": [
      "Validation scores:\n",
      "\tR2: -0.0853\n",
      "\tconcordance: -0.0000\n",
      "\tmse: 13.8554\n",
      "\tmae: 2.8955\n",
      "loading model version 8\n",
      "Number of datasets: 519\n",
      "Number of examples: 107105\n",
      "Using regression model: Sequential(\n",
      "  (conv_classifier): Conv2d(200, 1, kernel_size=(1, 1), stride=(1, 1))\n",
      "  (squeeze): SqueezeFinalOutput(\n",
      "    (squeeze): Rearrange('b c t 1 -> b c t')\n",
      "  )\n",
      ")\n"
     ]
    },
    {
     "name": "stderr",
     "output_type": "stream",
     "text": [
      "100%|██████████| 450/450 [00:02<00:00, 161.10it/s]\n"
     ]
    },
    {
     "name": "stdout",
     "output_type": "stream",
     "text": [
      "Validation scores:\n",
      "\tR2: -0.1145\n",
      "\tconcordance: -0.0000\n",
      "\tmse: 14.2281\n",
      "\tmae: 2.9189\n",
      "loading model version 9\n",
      "Number of datasets: 519\n",
      "Number of examples: 107105\n",
      "Using regression model: Sequential(\n",
      "  (conv_classifier): Conv2d(200, 1, kernel_size=(1, 1), stride=(1, 1))\n",
      "  (squeeze): SqueezeFinalOutput(\n",
      "    (squeeze): Rearrange('b c t 1 -> b c t')\n",
      "  )\n",
      ")\n"
     ]
    },
    {
     "name": "stderr",
     "output_type": "stream",
     "text": [
      "100%|██████████| 450/450 [00:02<00:00, 161.66it/s]"
     ]
    },
    {
     "name": "stdout",
     "output_type": "stream",
     "text": [
      "Validation scores:\n",
      "\tR2: -0.2900\n",
      "\tconcordance: 0.0000\n",
      "\tmse: 16.4688\n",
      "\tmae: 3.0578\n"
     ]
    },
    {
     "name": "stderr",
     "output_type": "stream",
     "text": [
      "\n"
     ]
    }
   ],
   "source": [
    "from sklearn import linear_model\n",
    "regressor = linear_model.LinearRegression()\n",
    "scores = []\n",
    "print('Baseline score with no trained model')\n",
    "model = Regression.RegressionLit(**config['model']['init_args'])\n",
    "score = train_projection_layer_for_eval(model, regressor=model.encoder.final_layer, train_dataloader=litDataModule.train_dataloader(), val_dataloader=litDataModule.val_dataloader())\n",
    "\n",
    "model_id = 'e3ropwvz'\n",
    "for version in range(10):\n",
    "    print(f'loading model version {version}')\n",
    "    model = Regression.RegressionLit.load_from_checkpoint(f'/home/dung/eeg-ssl/notebooks/artifacts/model-{model_id}:v{version}/model.ckpt')\n",
    "    score = train_projection_layer_for_eval(model, regressor=model.encoder.final_layer, train_dataloader=litDataModule.train_dataloader(), val_dataloader=litDataModule.val_dataloader())"
   ]
  },
  {
   "cell_type": "code",
   "execution_count": null,
   "id": "c7140582",
   "metadata": {},
   "outputs": [],
   "source": []
  }
 ],
 "metadata": {
  "kernelspec": {
   "display_name": ".venv",
   "language": "python",
   "name": "python3"
  },
  "language_info": {
   "codemirror_mode": {
    "name": "ipython",
    "version": 3
   },
   "file_extension": ".py",
   "mimetype": "text/x-python",
   "name": "python",
   "nbconvert_exporter": "python",
   "pygments_lexer": "ipython3",
   "version": "3.10.12"
  }
 },
 "nbformat": 4,
 "nbformat_minor": 5
}

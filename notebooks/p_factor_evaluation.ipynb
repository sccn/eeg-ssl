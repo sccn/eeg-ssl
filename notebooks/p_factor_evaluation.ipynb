{
 "cells": [
  {
   "cell_type": "code",
   "execution_count": 1,
   "metadata": {},
   "outputs": [],
   "source": [
    "import sys\n",
    "sys.path.insert(0,'../')\n",
    "from libs.ssl_task import RelativePositioning\n",
    "from libs.ssl_data import SSLHBNDataModule\n",
    "# import lightning as L\n",
    "import torch\n",
    "%load_ext autoreload\n",
    "%autoreload 2"
   ]
  },
  {
   "cell_type": "code",
   "execution_count": 6,
   "metadata": {},
   "outputs": [
    {
     "name": "stderr",
     "output_type": "stream",
     "text": [
      "\u001b[34m\u001b[1mwandb\u001b[0m:   1 of 1 files downloaded.  \n"
     ]
    }
   ],
   "source": [
    "import wandb\n",
    "run = wandb.init()\n",
    "artifact = run.use_artifact('dt-young112/eeg-ssl/model-ndmxtwb2:best', type='model')\n",
    "artifact_dir = artifact.download()"
   ]
  },
  {
   "cell_type": "code",
   "execution_count": 7,
   "metadata": {},
   "outputs": [
    {
     "name": "stderr",
     "output_type": "stream",
     "text": [
      "/home/dung/eeg-ssl/.venv/lib/python3.10/site-packages/lightning/pytorch/utilities/parsing.py:209: Attribute 'encoder' is an instance of `nn.Module` and is already saved during checkpointing. It is recommended to ignore them using `self.save_hyperparameters(ignore=['encoder'])`.\n"
     ]
    }
   ],
   "source": [
    "litDataModule = SSLHBNDataModule(target_label='p_factor')\n",
    "litDataModule.setup(stage='test')\n",
    "val_data = litDataModule.test_dataloader()\n",
    "model = RelativePositioning.RelativePositioningLit.load_from_checkpoint(\"artifacts/model-ndmxtwb2:v0/model.ckpt\")"
   ]
  },
  {
   "cell_type": "code",
   "execution_count": 9,
   "metadata": {},
   "outputs": [],
   "source": [
    "model.eval()\n",
    "embeds = []\n",
    "labels = []\n",
    "for batch in val_data:\n",
    "    x, y, _ = batch\n",
    "    z = model.embed(x.to(device='cuda'))\n",
    "    embeds.append(z.cpu())\n",
    "    labels.append(y.cpu())\n",
    "    \n",
    "embeds = torch.cat(embeds, dim=0).detach().cpu()\n",
    "labels = torch.cat(labels, dim=0).detach().cpu()\n",
    "\n",
    "from sklearn.linear_model import LinearRegression\n",
    "regr = LinearRegression()\n",
    "regr.fit(embeds, labels)\n",
    "preds = regr.predict(embeds)\n"
   ]
  },
  {
   "cell_type": "code",
   "execution_count": null,
   "metadata": {},
   "outputs": [
    {
     "data": {
      "text/plain": [
       "0.9769622683525085"
      ]
     },
     "execution_count": 12,
     "metadata": {},
     "output_type": "execute_result"
    }
   ],
   "source": [
    "regr.score(embeds, labels) # best possible score is 1.0"
   ]
  },
  {
   "cell_type": "code",
   "execution_count": 11,
   "metadata": {},
   "outputs": [
    {
     "data": {
      "text/plain": [
       "[(-1.3279724, tensor(-1.2340, dtype=torch.float64)),\n",
       " (-1.1798935, tensor(-1.2340, dtype=torch.float64)),\n",
       " (-1.130127, tensor(-1.2340, dtype=torch.float64)),\n",
       " (-1.6467667, tensor(-1.2340, dtype=torch.float64)),\n",
       " (-1.1446152, tensor(-1.2340, dtype=torch.float64)),\n",
       " (-1.1305962, tensor(-1.2340, dtype=torch.float64)),\n",
       " (-1.1209068, tensor(-1.2340, dtype=torch.float64)),\n",
       " (-1.0896797, tensor(-1.2340, dtype=torch.float64)),\n",
       " (-1.1802559, tensor(-1.2340, dtype=torch.float64)),\n",
       " (-1.1976433, tensor(-1.2340, dtype=torch.float64)),\n",
       " (-1.0953751, tensor(-1.2340, dtype=torch.float64)),\n",
       " (-1.3006248, tensor(-1.2340, dtype=torch.float64)),\n",
       " (-1.2373543, tensor(-1.2340, dtype=torch.float64)),\n",
       " (-1.1238823, tensor(-1.2340, dtype=torch.float64)),\n",
       " (-1.3816566, tensor(-1.2340, dtype=torch.float64)),\n",
       " (-1.3261743, tensor(-1.2340, dtype=torch.float64)),\n",
       " (-1.1793246, tensor(-1.2340, dtype=torch.float64)),\n",
       " (-0.90618134, tensor(-1.2340, dtype=torch.float64)),\n",
       " (-1.210681, tensor(-1.2340, dtype=torch.float64)),\n",
       " (-1.11829, tensor(-1.2340, dtype=torch.float64)),\n",
       " (-1.1405144, tensor(-1.2340, dtype=torch.float64)),\n",
       " (-1.19489, tensor(-1.2340, dtype=torch.float64)),\n",
       " (-1.2227073, tensor(-1.2340, dtype=torch.float64)),\n",
       " (-1.1559367, tensor(-1.2340, dtype=torch.float64)),\n",
       " (-1.0681477, tensor(-1.2340, dtype=torch.float64)),\n",
       " (-1.0995789, tensor(-1.2340, dtype=torch.float64)),\n",
       " (-1.2947559, tensor(-1.2340, dtype=torch.float64)),\n",
       " (-1.2727985, tensor(-1.2340, dtype=torch.float64)),\n",
       " (-1.2759686, tensor(-1.2340, dtype=torch.float64)),\n",
       " (-1.2559547, tensor(-1.2340, dtype=torch.float64)),\n",
       " (-1.2274246, tensor(-1.2340, dtype=torch.float64)),\n",
       " (-1.3110142, tensor(-1.2340, dtype=torch.float64)),\n",
       " (-1.2950058, tensor(-1.2340, dtype=torch.float64)),\n",
       " (-1.3106728, tensor(-1.2340, dtype=torch.float64)),\n",
       " (-1.1402931, tensor(-1.2340, dtype=torch.float64)),\n",
       " (-1.1852684, tensor(-1.2340, dtype=torch.float64)),\n",
       " (-1.1368675, tensor(-1.2340, dtype=torch.float64)),\n",
       " (-1.3413849, tensor(-1.2340, dtype=torch.float64)),\n",
       " (-1.243866, tensor(-1.2340, dtype=torch.float64)),\n",
       " (-1.3414154, tensor(-1.2340, dtype=torch.float64)),\n",
       " (-1.238697, tensor(-1.2340, dtype=torch.float64)),\n",
       " (-1.0574226, tensor(-1.2340, dtype=torch.float64)),\n",
       " (0.95096326, tensor(0.9710, dtype=torch.float64)),\n",
       " (1.0313649, tensor(0.9710, dtype=torch.float64)),\n",
       " (0.89023924, tensor(0.9710, dtype=torch.float64)),\n",
       " (1.0266259, tensor(0.9710, dtype=torch.float64)),\n",
       " (0.7352412, tensor(0.9710, dtype=torch.float64)),\n",
       " (1.0093143, tensor(0.9710, dtype=torch.float64)),\n",
       " (1.0265009, tensor(0.9710, dtype=torch.float64)),\n",
       " (0.85326815, tensor(0.9710, dtype=torch.float64)),\n",
       " (0.97826004, tensor(0.9710, dtype=torch.float64)),\n",
       " (1.1015415, tensor(0.9710, dtype=torch.float64)),\n",
       " (1.0340195, tensor(0.9710, dtype=torch.float64)),\n",
       " (0.8373833, tensor(0.9710, dtype=torch.float64)),\n",
       " (0.8585644, tensor(0.9710, dtype=torch.float64)),\n",
       " (0.70157766, tensor(0.9710, dtype=torch.float64)),\n",
       " (0.9901407, tensor(0.9710, dtype=torch.float64)),\n",
       " (0.99986935, tensor(0.9710, dtype=torch.float64)),\n",
       " (1.0205464, tensor(0.9710, dtype=torch.float64)),\n",
       " (0.9551039, tensor(0.9710, dtype=torch.float64)),\n",
       " (0.8823254, tensor(0.9710, dtype=torch.float64)),\n",
       " (0.9545088, tensor(0.9710, dtype=torch.float64)),\n",
       " (0.87690353, tensor(0.9710, dtype=torch.float64)),\n",
       " (0.91288614, tensor(0.9710, dtype=torch.float64)),\n",
       " (0.87428, tensor(0.9710, dtype=torch.float64)),\n",
       " (0.9576185, tensor(0.9710, dtype=torch.float64)),\n",
       " (0.8362627, tensor(0.9710, dtype=torch.float64)),\n",
       " (1.0847607, tensor(0.9710, dtype=torch.float64)),\n",
       " (0.9055619, tensor(0.9710, dtype=torch.float64)),\n",
       " (0.8591652, tensor(0.9710, dtype=torch.float64)),\n",
       " (0.45713758, tensor(0.9710, dtype=torch.float64)),\n",
       " (1.0701208, tensor(0.9710, dtype=torch.float64)),\n",
       " (1.1992934, tensor(0.9710, dtype=torch.float64)),\n",
       " (0.93839884, tensor(0.9710, dtype=torch.float64)),\n",
       " (0.9366729, tensor(0.9710, dtype=torch.float64)),\n",
       " (1.1442523, tensor(0.9710, dtype=torch.float64)),\n",
       " (1.0666385, tensor(0.9710, dtype=torch.float64)),\n",
       " (1.0255616, tensor(0.9710, dtype=torch.float64)),\n",
       " (-0.034160614, tensor(-0.0670, dtype=torch.float64)),\n",
       " (0.114637375, tensor(-0.0670, dtype=torch.float64)),\n",
       " (0.10925007, tensor(-0.0670, dtype=torch.float64)),\n",
       " (-0.14263535, tensor(-0.0670, dtype=torch.float64)),\n",
       " (-0.036050797, tensor(-0.0670, dtype=torch.float64)),\n",
       " (-0.12501144, tensor(-0.0670, dtype=torch.float64)),\n",
       " (-0.056461334, tensor(-0.0670, dtype=torch.float64)),\n",
       " (-0.32298088, tensor(-0.0670, dtype=torch.float64)),\n",
       " (-0.04515648, tensor(-0.0670, dtype=torch.float64)),\n",
       " (0.07905388, tensor(-0.0670, dtype=torch.float64)),\n",
       " (-0.26286697, tensor(-0.0670, dtype=torch.float64)),\n",
       " (-0.2718506, tensor(-0.0670, dtype=torch.float64)),\n",
       " (0.06886387, tensor(-0.0670, dtype=torch.float64)),\n",
       " (-0.039685726, tensor(-0.0670, dtype=torch.float64)),\n",
       " (0.052045822, tensor(-0.0670, dtype=torch.float64)),\n",
       " (-0.049326897, tensor(-0.0670, dtype=torch.float64)),\n",
       " (-0.19145203, tensor(-0.0670, dtype=torch.float64)),\n",
       " (-0.05343914, tensor(-0.0670, dtype=torch.float64)),\n",
       " (-0.14544868, tensor(-0.0670, dtype=torch.float64)),\n",
       " (-0.0023579597, tensor(-0.0670, dtype=torch.float64)),\n",
       " (-0.33953857, tensor(-0.0670, dtype=torch.float64)),\n",
       " (-0.17472982, tensor(-0.0670, dtype=torch.float64)),\n",
       " (-0.004858494, tensor(-0.0670, dtype=torch.float64)),\n",
       " (-0.13197422, tensor(-0.0670, dtype=torch.float64)),\n",
       " (0.16751671, tensor(-0.0670, dtype=torch.float64)),\n",
       " (-0.23478031, tensor(-0.0670, dtype=torch.float64)),\n",
       " (0.44428396, tensor(-0.0670, dtype=torch.float64)),\n",
       " (-0.11593008, tensor(-0.0670, dtype=torch.float64)),\n",
       " (0.023740768, tensor(-0.0670, dtype=torch.float64)),\n",
       " (-0.12357664, tensor(-0.0670, dtype=torch.float64)),\n",
       " (-0.026444435, tensor(-0.0670, dtype=torch.float64)),\n",
       " (0.08559942, tensor(-0.0670, dtype=torch.float64)),\n",
       " (-0.44039154, tensor(-0.0670, dtype=torch.float64))]"
      ]
     },
     "execution_count": 11,
     "metadata": {},
     "output_type": "execute_result"
    }
   ],
   "source": [
    "list(zip(preds, labels))"
   ]
  },
  {
   "cell_type": "code",
   "execution_count": null,
   "metadata": {},
   "outputs": [],
   "source": []
  }
 ],
 "metadata": {
  "kernelspec": {
   "display_name": ".venv",
   "language": "python",
   "name": "python3"
  },
  "language_info": {
   "codemirror_mode": {
    "name": "ipython",
    "version": 3
   },
   "file_extension": ".py",
   "mimetype": "text/x-python",
   "name": "python",
   "nbconvert_exporter": "python",
   "pygments_lexer": "ipython3",
   "version": "3.10.12"
  }
 },
 "nbformat": 4,
 "nbformat_minor": 2
}

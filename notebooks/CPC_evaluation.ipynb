{
 "cells": [
  {
   "cell_type": "code",
   "execution_count": 1,
   "id": "d6f27599",
   "metadata": {},
   "outputs": [],
   "source": [
    "import sys\n",
    "sys.path.insert(0,'../')\n",
    "from libs.ssl_task import CPC\n",
    "from libs.ssl_data import SSLHBNDataModule\n",
    "%load_ext autoreload\n",
    "%autoreload 2"
   ]
  },
  {
   "cell_type": "code",
   "execution_count": 13,
   "id": "a2599ccb",
   "metadata": {},
   "outputs": [
    {
     "name": "stderr",
     "output_type": "stream",
     "text": [
      "\u001b[34m\u001b[1mwandb\u001b[0m: Currently logged in as: \u001b[33mdt-young112\u001b[0m (\u001b[33msccn\u001b[0m) to \u001b[32mhttps://api.wandb.ai\u001b[0m. Use \u001b[1m`wandb login --relogin`\u001b[0m to force relogin\n",
      "\u001b[34m\u001b[1mwandb\u001b[0m: Using wandb-core as the SDK backend.  Please refer to https://wandb.me/wandb-core for more information.\n"
     ]
    },
    {
     "data": {
      "text/html": [
       "Tracking run with wandb version 0.19.6"
      ],
      "text/plain": [
       "<IPython.core.display.HTML object>"
      ]
     },
     "metadata": {},
     "output_type": "display_data"
    },
    {
     "data": {
      "text/html": [
       "Run data is saved locally in <code>/home/dung/eeg-ssl/notebooks/wandb/run-20250507_103124-ehq7eypy</code>"
      ],
      "text/plain": [
       "<IPython.core.display.HTML object>"
      ]
     },
     "metadata": {},
     "output_type": "display_data"
    },
    {
     "data": {
      "text/html": [
       "Syncing run <strong><a href='https://wandb.ai/sccn/eeg-ssl-notebooks/runs/ehq7eypy' target=\"_blank\">happy-dew-7</a></strong> to <a href='https://wandb.ai/sccn/eeg-ssl-notebooks' target=\"_blank\">Weights & Biases</a> (<a href='https://wandb.me/developer-guide' target=\"_blank\">docs</a>)<br>"
      ],
      "text/plain": [
       "<IPython.core.display.HTML object>"
      ]
     },
     "metadata": {},
     "output_type": "display_data"
    },
    {
     "data": {
      "text/html": [
       " View project at <a href='https://wandb.ai/sccn/eeg-ssl-notebooks' target=\"_blank\">https://wandb.ai/sccn/eeg-ssl-notebooks</a>"
      ],
      "text/plain": [
       "<IPython.core.display.HTML object>"
      ]
     },
     "metadata": {},
     "output_type": "display_data"
    },
    {
     "data": {
      "text/html": [
       " View run at <a href='https://wandb.ai/sccn/eeg-ssl-notebooks/runs/ehq7eypy' target=\"_blank\">https://wandb.ai/sccn/eeg-ssl-notebooks/runs/ehq7eypy</a>"
      ],
      "text/plain": [
       "<IPython.core.display.HTML object>"
      ]
     },
     "metadata": {},
     "output_type": "display_data"
    },
    {
     "name": "stderr",
     "output_type": "stream",
     "text": [
      "\u001b[34m\u001b[1mwandb\u001b[0m: Downloading large artifact model-0cu5slnx:v0, 1800.34MB. 1 files... \n",
      "\u001b[34m\u001b[1mwandb\u001b[0m:   1 of 1 files downloaded.  \n",
      "Done. 0:0:2.9\n"
     ]
    },
    {
     "name": "stdout",
     "output_type": "stream",
     "text": [
      "Artifact directory /home/dung/eeg-ssl/notebooks/artifacts/model-0cu5slnx:v0 already exists. Skipping download.\n"
     ]
    }
   ],
   "source": [
    "import wandb\n",
    "import os\n",
    "run = wandb.init()\n",
    "artifact_dir = 'artifacts/model-0cu5slnx'\n",
    "for version in range(10):\n",
    "    if os.path.exists(artifact_dir):\n",
    "        print(f\"Artifact directory {artifact_dir} already exists. Skipping download.\")\n",
    "        break\n",
    "    artifact = run.use_artifact(f'sccn/eeg-ssl/model-0cu5slnx:v{version}', type='model')\n",
    "    artifact_dir = artifact.download()"
   ]
  },
  {
   "cell_type": "code",
   "execution_count": 2,
   "id": "23f6abde",
   "metadata": {},
   "outputs": [
    {
     "name": "stderr",
     "output_type": "stream",
     "text": [
      "GPU available: True (cuda), used: True\n",
      "TPU available: False, using: 0 TPU cores\n",
      "HPU available: False, using: 0 HPUs\n"
     ]
    }
   ],
   "source": [
    "# load config from runs/config_CPC.yaml\n",
    "import yaml\n",
    "import lightning as L\n",
    "with open('../runs/config_CPC.yaml', 'r') as f:\n",
    "    config = yaml.safe_load(f)\n",
    "\n",
    "ssl_task = CPC()\n",
    "config['data']['ssl_task'] = ssl_task\n",
    "config['data']['window_len_s'] = 20\n",
    "config['data']['num_workers'] = 2\n",
    "\n",
    "config['model']['init_args']['contextualizer_path'] = 'libs.ssl_model.BENDRContextualizer'\n",
    "config['model']['init_args']['contextualizer_kwargs'] = {'in_features': 512, 'start_token': None}\n",
    "\n",
    "config['trainer']['callbacks'] = None\n",
    "config['trainer']['logger'] = None\n",
    "\n",
    "trainer = L.Trainer(**config['trainer'])\n",
    "cpc_model = CPC.CPCLit(downsampling_factor=96, **config['model']['init_args'])"
   ]
  },
  {
   "cell_type": "code",
   "execution_count": null,
   "id": "9e7f440b",
   "metadata": {},
   "outputs": [],
   "source": [
    "from collections import defaultdict\n",
    "attributes = ['p_factor']\n",
    "version_scores = defaultdict(list)\n",
    "for attr in attributes:\n",
    "    config['data']['target_label'] = attr\n",
    "    print('Loading data module...')\n",
    "    litDataModule = SSLHBNDataModule(**config['data'])\n",
    "    litDataModule.setup(stage='fit')\n",
    "\n",
    "    artifact_dir = 'artifacts/model-0cu5slnx'\n",
    "    for version in range(10):\n",
    "        artifact_path = f'{artifact_dir}:v{version}/model.ckpt'\n",
    "        print(f'Loading model from {artifact_path}...')\n",
    "        scores = trainer.validate(model=cpc_model, ckpt_path=artifact_path, datamodule=litDataModule)\n",
    "        version_scores[attr].append(scores)\n"
   ]
  },
  {
   "cell_type": "code",
   "execution_count": 6,
   "id": "91bcbe4f",
   "metadata": {},
   "outputs": [],
   "source": [
    "metrics = ['val_Regressor/mae', 'val_Regressor/subject_with_mean_mae']"
   ]
  },
  {
   "cell_type": "code",
   "execution_count": 11,
   "id": "a2d3712f",
   "metadata": {},
   "outputs": [
    {
     "name": "stdout",
     "output_type": "stream",
     "text": [
      "[{'val_loss_epoch': 0.014139841310679913, 'val_Regressor/R2': 0.3281303968041406, 'val_Regressor/concordance': 0.41836470152561833, 'val_Regressor/NRMSE': 50.32090192390024, 'val_Regressor/mse': 0.510043524914169, 'val_Regressor/mae': 0.5694009267860362, 'val_Regressor/subject_with_mean_R2': 0.40828329554569764, 'val_Regressor/subject_with_median_R2': 0.37182480861835876, 'val_Regressor/subject_with_mean_concordance': 0.44685581782396844, 'val_Regressor/subject_with_median_concordance': 0.4099946640198024, 'val_Regressor/subject_with_mean_NRMSE': -37.9903798040602, 'val_Regressor/subject_with_median_NRMSE': -39.14327066468587, 'val_Regressor/subject_with_mean_mse': 0.4640833228204816, 'val_Regressor/subject_with_median_mse': 0.4926777086657324, 'val_Regressor/subject_with_mean_mae': 0.5440849974128646, 'val_Regressor/subject_with_median_mae': 0.5569376696864649, 'val_Regressor/subject_iqr_mean': 0.315483957529068, 'val_Regressor/subject_iqr_median': 0.3113628029823303, 'val_Regressor/subject_iqr_std': 0.08874429762363434, 'val_Regressor/subject_iqr_iqr': 0.1018896996974945, 'val_Regressor/subject_std_mean': 0.24281978607177734, 'val_Regressor/subject_std_median': 0.2377353459596634, 'val_Regressor/subject_std_std': 0.04779452085494995, 'val_Regressor/subject_std_iqr': 0.05986421927809715}]\n",
      "[{'val_loss_epoch': 0.00919339619576931, 'val_Regressor/R2': 0.2466874415781587, 'val_Regressor/concordance': 0.3286715944996485, 'val_Regressor/NRMSE': 53.28359563158192, 'val_Regressor/mse': 0.5718701825949115, 'val_Regressor/mae': 0.6044525112807495, 'val_Regressor/subject_with_mean_R2': 0.3201563124220772, 'val_Regressor/subject_with_median_R2': 0.27767025196279704, 'val_Regressor/subject_with_mean_concordance': 0.3491973898014171, 'val_Regressor/subject_with_median_concordance': 0.3034767357597819, 'val_Regressor/subject_with_mean_NRMSE': -40.721264471861886, 'val_Regressor/subject_with_median_NRMSE': -41.97439749748937, 'val_Regressor/subject_with_mean_mse': 0.5332013025061689, 'val_Regressor/subject_with_median_mse': 0.5665231133711811, 'val_Regressor/subject_with_mean_mae': 0.5806748222489772, 'val_Regressor/subject_with_median_mae': 0.5974538284000236, 'val_Regressor/subject_iqr_mean': 0.2906227707862854, 'val_Regressor/subject_iqr_median': 0.2800375819206238, 'val_Regressor/subject_iqr_std': 0.08443024009466171, 'val_Regressor/subject_iqr_iqr': 0.09094822406768799, 'val_Regressor/subject_std_mean': 0.23119080066680908, 'val_Regressor/subject_std_median': 0.2234671413898468, 'val_Regressor/subject_std_std': 0.04863019287586212, 'val_Regressor/subject_std_iqr': 0.06188923865556717}]\n",
      "[{'val_loss_epoch': 0.006489122752100229, 'val_Regressor/R2': 0.2299957493722229, 'val_Regressor/concordance': 0.307098504664928, 'val_Regressor/NRMSE': 53.87068293875568, 'val_Regressor/mse': 0.5845415246068167, 'val_Regressor/mae': 0.6112823556578965, 'val_Regressor/subject_with_mean_R2': 0.2951903093646757, 'val_Regressor/subject_with_median_R2': 0.2811153188677743, 'val_Regressor/subject_with_mean_concordance': 0.32347732504127985, 'val_Regressor/subject_with_median_concordance': 0.3087085612082558, 'val_Regressor/subject_with_mean_NRMSE': -41.462229751163456, 'val_Regressor/subject_with_median_NRMSE': -41.87418188326541, 'val_Regressor/subject_with_mean_mse': 0.5527821349707693, 'val_Regressor/subject_with_median_mse': 0.5638211479127695, 'val_Regressor/subject_with_mean_mae': 0.591804430935958, 'val_Regressor/subject_with_median_mae': 0.5986649638917184, 'val_Regressor/subject_iqr_mean': 0.27249056100845337, 'val_Regressor/subject_iqr_median': 0.2660251259803772, 'val_Regressor/subject_iqr_std': 0.07911034673452377, 'val_Regressor/subject_iqr_iqr': 0.10839994251728058, 'val_Regressor/subject_std_mean': 0.21681971848011017, 'val_Regressor/subject_std_median': 0.21553225815296173, 'val_Regressor/subject_std_std': 0.03496552258729935, 'val_Regressor/subject_std_iqr': 0.04909215494990349}]\n",
      "[{'val_loss_epoch': 0.0036792196333408356, 'val_Regressor/R2': 0.2022329994986053, 'val_Regressor/concordance': 0.27912141102706434, 'val_Regressor/NRMSE': 54.833245753142094, 'val_Regressor/mse': 0.6056173564936813, 'val_Regressor/mae': 0.6257247617027408, 'val_Regressor/subject_with_mean_R2': 0.27175317374883345, 'val_Regressor/subject_with_median_R2': 0.2700755676467035, 'val_Regressor/subject_with_mean_concordance': 0.2962426722621088, 'val_Regressor/subject_with_median_concordance': 0.2941088274644443, 'val_Regressor/subject_with_mean_NRMSE': -42.14596680804974, 'val_Regressor/subject_with_median_NRMSE': -42.19448309150847, 'val_Regressor/subject_with_mean_mse': 0.5711638769295758, 'val_Regressor/subject_with_median_mse': 0.5724796231446136, 'val_Regressor/subject_with_mean_mae': 0.6044715646370402, 'val_Regressor/subject_with_median_mae': 0.6083157782771281, 'val_Regressor/subject_iqr_mean': 0.2929227352142334, 'val_Regressor/subject_iqr_median': 0.2858266830444336, 'val_Regressor/subject_iqr_std': 0.08806204050779343, 'val_Regressor/subject_iqr_iqr': 0.11958914995193481, 'val_Regressor/subject_std_mean': 0.22075356543064117, 'val_Regressor/subject_std_median': 0.2166898101568222, 'val_Regressor/subject_std_std': 0.0429127961397171, 'val_Regressor/subject_std_iqr': 0.05071583390235901}]\n",
      "[{'val_loss_epoch': 0.0036236217711120844, 'val_Regressor/R2': 0.20551550244619, 'val_Regressor/concordance': 0.29930647417270284, 'val_Regressor/NRMSE': 54.72032066335434, 'val_Regressor/mse': 0.6031254750840096, 'val_Regressor/mae': 0.6239941162459447, 'val_Regressor/subject_with_mean_R2': 0.2978439159642893, 'val_Regressor/subject_with_median_R2': 0.3021527204385229, 'val_Regressor/subject_with_mean_concordance': 0.32574376494208196, 'val_Regressor/subject_with_median_concordance': 0.33074955940909545, 'val_Regressor/subject_with_mean_NRMSE': -41.384103553542545, 'val_Regressor/subject_with_median_NRMSE': -41.25693068004896, 'val_Regressor/subject_with_mean_mse': 0.5507009117115025, 'val_Regressor/subject_with_median_mse': 0.547321517006683, 'val_Regressor/subject_with_mean_mae': 0.5937056602070604, 'val_Regressor/subject_with_median_mae': 0.5940169332173735, 'val_Regressor/subject_iqr_mean': 0.3297238051891327, 'val_Regressor/subject_iqr_median': 0.32309097051620483, 'val_Regressor/subject_iqr_std': 0.0946137085556984, 'val_Regressor/subject_iqr_iqr': 0.11117608845233917, 'val_Regressor/subject_std_mean': 0.2548080086708069, 'val_Regressor/subject_std_median': 0.2483418881893158, 'val_Regressor/subject_std_std': 0.047817412763834, 'val_Regressor/subject_std_iqr': 0.053105078637599945}]\n",
      "[{'val_loss_epoch': 0.002507973462343216, 'val_Regressor/R2': 0.19747154526781052, 'val_Regressor/concordance': 0.28146732508700467, 'val_Regressor/NRMSE': 54.996637806598926, 'val_Regressor/mse': 0.6092319699365879, 'val_Regressor/mae': 0.6293774133306003, 'val_Regressor/subject_with_mean_R2': 0.27928629116570225, 'val_Regressor/subject_with_median_R2': 0.2674242783456009, 'val_Regressor/subject_with_mean_concordance': 0.3037271456880642, 'val_Regressor/subject_with_median_concordance': 0.29161306520567604, 'val_Regressor/subject_with_mean_NRMSE': -41.92741739307044, 'val_Regressor/subject_with_median_NRMSE': -42.27104470195667, 'val_Regressor/subject_with_mean_mse': 0.5652556540659988, 'val_Regressor/subject_with_median_mse': 0.5745590289470048, 'val_Regressor/subject_with_mean_mae': 0.6052404652816676, 'val_Regressor/subject_with_median_mae': 0.6121117620238611, 'val_Regressor/subject_iqr_mean': 0.2996056079864502, 'val_Regressor/subject_iqr_median': 0.289537638425827, 'val_Regressor/subject_iqr_std': 0.08378630876541138, 'val_Regressor/subject_iqr_iqr': 0.09968382120132446, 'val_Regressor/subject_std_mean': 0.23866507411003113, 'val_Regressor/subject_std_median': 0.23409464955329895, 'val_Regressor/subject_std_std': 0.04684259742498398, 'val_Regressor/subject_std_iqr': 0.06621629744768143}]\n",
      "[{'val_loss_epoch': 0.0028838885482400656, 'val_Regressor/R2': 0.16496445132943216, 'val_Regressor/concordance': 0.24670455874594938, 'val_Regressor/NRMSE': 56.099424004883666, 'val_Regressor/mse': 0.6339094262438547, 'val_Regressor/mae': 0.6434638390813906, 'val_Regressor/subject_with_mean_R2': 0.2486383999775046, 'val_Regressor/subject_with_median_R2': 0.23758987563703549, 'val_Regressor/subject_with_mean_concordance': 0.2684125787570893, 'val_Regressor/subject_with_median_concordance': 0.2574304323126168, 'val_Regressor/subject_with_mean_NRMSE': -42.809604771762686, 'val_Regressor/subject_with_median_NRMSE': -43.12320668022961, 'val_Regressor/subject_with_mean_mse': 0.5892927905419351, 'val_Regressor/subject_with_median_mse': 0.5979581465300114, 'val_Regressor/subject_with_mean_mae': 0.619639511573089, 'val_Regressor/subject_with_median_mae': 0.6247784033336997, 'val_Regressor/subject_iqr_mean': 0.31019601225852966, 'val_Regressor/subject_iqr_median': 0.30108439922332764, 'val_Regressor/subject_iqr_std': 0.09422991424798965, 'val_Regressor/subject_iqr_iqr': 0.14123749732971191, 'val_Regressor/subject_std_mean': 0.24079495668411255, 'val_Regressor/subject_std_median': 0.23697082698345184, 'val_Regressor/subject_std_std': 0.04622848704457283, 'val_Regressor/subject_std_iqr': 0.0663938969373703}]\n",
      "[{'val_loss_epoch': 0.0025387885980308056, 'val_Regressor/R2': 0.1642258179324928, 'val_Regressor/concordance': 0.24736419862025993, 'val_Regressor/NRMSE': 56.12422998407084, 'val_Regressor/mse': 0.6344701528783122, 'val_Regressor/mae': 0.6462910169594706, 'val_Regressor/subject_with_mean_R2': 0.24656778042314598, 'val_Regressor/subject_with_median_R2': 0.23182180642102435, 'val_Regressor/subject_with_mean_concordance': 0.2675530392434759, 'val_Regressor/subject_with_median_concordance': 0.25301432502782495, 'val_Regressor/subject_with_mean_NRMSE': -42.86855203368274, 'val_Regressor/subject_with_median_NRMSE': -43.28602518408996, 'val_Regressor/subject_with_mean_mse': 0.5909167771487862, 'val_Regressor/subject_with_median_mse': 0.6024820423535943, 'val_Regressor/subject_with_mean_mae': 0.6262874792503151, 'val_Regressor/subject_with_median_mae': 0.6323036567131596, 'val_Regressor/subject_iqr_mean': 0.3100067377090454, 'val_Regressor/subject_iqr_median': 0.3029060661792755, 'val_Regressor/subject_iqr_std': 0.08398623764514923, 'val_Regressor/subject_iqr_iqr': 0.11504114419221878, 'val_Regressor/subject_std_mean': 0.2421547919511795, 'val_Regressor/subject_std_median': 0.2393907755613327, 'val_Regressor/subject_std_std': 0.04434812441468239, 'val_Regressor/subject_std_iqr': 0.0668857991695404}]\n",
      "[{'val_loss_epoch': 0.0038505338598042727, 'val_Regressor/R2': 0.14598206099248578, 'val_Regressor/concordance': 0.24995871720504198, 'val_Regressor/NRMSE': 56.73347907161195, 'val_Regressor/mse': 0.6483197303158048, 'val_Regressor/mae': 0.6473869286481662, 'val_Regressor/subject_with_mean_R2': 0.2437846226576813, 'val_Regressor/subject_with_median_R2': 0.22086430870142815, 'val_Regressor/subject_with_mean_concordance': 0.2695814762418725, 'val_Regressor/subject_with_median_concordance': 0.2438821043097736, 'val_Regressor/subject_with_mean_NRMSE': -42.94765667078089, 'val_Regressor/subject_with_median_NRMSE': -43.59365372296211, 'val_Regressor/subject_with_mean_mse': 0.5930996073680574, 'val_Regressor/subject_with_median_mse': 0.6110760061765317, 'val_Regressor/subject_with_mean_mae': 0.6173979087323668, 'val_Regressor/subject_with_median_mae': 0.6268024201926287, 'val_Regressor/subject_iqr_mean': 0.3457787036895752, 'val_Regressor/subject_iqr_median': 0.3419804275035858, 'val_Regressor/subject_iqr_std': 0.09966003149747849, 'val_Regressor/subject_iqr_iqr': 0.14242343604564667, 'val_Regressor/subject_std_mean': 0.2655564844608307, 'val_Regressor/subject_std_median': 0.26443472504615784, 'val_Regressor/subject_std_std': 0.04863664135336876, 'val_Regressor/subject_std_iqr': 0.05903026461601257}]\n",
      "[{'val_loss_epoch': 0.0031940951012074947, 'val_Regressor/R2': 0.17290082490466707, 'val_Regressor/concordance': 0.25438516137894146, 'val_Regressor/NRMSE': 55.83219650346335, 'val_Regressor/mse': 0.6278846024773173, 'val_Regressor/mae': 0.6379371138576936, 'val_Regressor/subject_with_mean_R2': 0.2545028138284344, 'val_Regressor/subject_with_median_R2': 0.2515147158365042, 'val_Regressor/subject_with_mean_concordance': 0.27485695163507906, 'val_Regressor/subject_with_median_concordance': 0.27437799880378877, 'val_Regressor/subject_with_mean_NRMSE': -42.64221198048535, 'val_Regressor/subject_with_median_NRMSE': -42.72758566494871, 'val_Regressor/subject_with_mean_mse': 0.5846933316355927, 'val_Regressor/subject_with_median_mse': 0.5870368964438349, 'val_Regressor/subject_with_mean_mae': 0.6196376776264624, 'val_Regressor/subject_with_median_mae': 0.6172259843973985, 'val_Regressor/subject_iqr_mean': 0.32110437750816345, 'val_Regressor/subject_iqr_median': 0.31867608428001404, 'val_Regressor/subject_iqr_std': 0.08268202841281891, 'val_Regressor/subject_iqr_iqr': 0.12576240301132202, 'val_Regressor/subject_std_mean': 0.24221476912498474, 'val_Regressor/subject_std_median': 0.24257110059261322, 'val_Regressor/subject_std_std': 0.03843051195144653, 'val_Regressor/subject_std_iqr': 0.04866524040699005}]\n"
     ]
    },
    {
     "data": {
      "image/png": "[encoded data removed]",
      "text/plain": [
       "<Figure size 1200x600 with 1 Axes>"
      ]
     },
     "metadata": {},
     "output_type": "display_data"
    }
   ],
   "source": [
    "# plot the metrics for each version from scores\n",
    "import matplotlib.pyplot as plt\n",
    "import numpy as np\n",
    "import pandas as pd\n",
    "import seaborn as sns\n",
    "import matplotlib\n",
    "import matplotlib.pyplot as plt\n",
    "import matplotlib.ticker as ticker\n",
    "\n",
    "def plot_metrics(scores, metrics, attributes):\n",
    "    # Create a DataFrame to hold the scores\n",
    "    data = []\n",
    "    # for version, score in enumerate(scores):\n",
    "    for attr, score in scores.items():\n",
    "        for version, version_score in enumerate(score):\n",
    "            print(version_score)\n",
    "            for metric in metrics:\n",
    "                    data.append({\n",
    "                        'version': version,\n",
    "                        'metric': metric,\n",
    "                        'attribute': attr,\n",
    "                        'value': version_score[0][metric]\n",
    "                    })\n",
    "    df = pd.DataFrame(data)\n",
    "\n",
    "    # Set the figure size\n",
    "    plt.figure(figsize=(12, 6))\n",
    "\n",
    "    # Create a bar plot\n",
    "    sns.barplot(x='version', y='value', hue='metric', data=df)\n",
    "\n",
    "    # Set the title and labels\n",
    "    plt.title('Model Performance by Version')\n",
    "    plt.xlabel('Version')\n",
    "    plt.ylabel('Value')\n",
    "\n",
    "    # Show the legend\n",
    "    plt.legend(title='Metric')\n",
    "\n",
    "    # Show the plot\n",
    "    plt.show()\n",
    "plot_metrics(version_scores, metrics, attributes)"
   ]
  },
  {
   "cell_type": "code",
   "execution_count": null,
   "id": "b36d1d34",
   "metadata": {},
   "outputs": [],
   "source": []
  },
  {
   "cell_type": "code",
   "execution_count": null,
   "id": "0a14e981",
   "metadata": {},
   "outputs": [],
   "source": []
  }
 ],
 "metadata": {
  "kernelspec": {
   "display_name": ".venv",
   "language": "python",
   "name": "python3"
  },
  "language_info": {
   "codemirror_mode": {
    "name": "ipython",
    "version": 3
   },
   "file_extension": ".py",
   "mimetype": "text/x-python",
   "name": "python",
   "nbconvert_exporter": "python",
   "pygments_lexer": "ipython3",
   "version": "3.10.12"
  }
 },
 "nbformat": 4,
 "nbformat_minor": 5
}

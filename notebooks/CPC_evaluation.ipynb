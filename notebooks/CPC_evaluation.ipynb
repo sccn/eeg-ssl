{
 "cells": [
  {
   "cell_type": "code",
   "execution_count": 1,
   "id": "d6f27599",
   "metadata": {},
   "outputs": [],
   "source": [
    "import sys\n",
    "sys.path.insert(0,'../')\n",
    "from libs.ssl_task import CPC\n",
    "from libs.ssl_data import SSLHBNDataModule\n",
    "%load_ext autoreload\n",
    "%autoreload 2"
   ]
  },
  {
   "cell_type": "code",
   "execution_count": 5,
   "id": "a2599ccb",
   "metadata": {},
   "outputs": [
    {
     "name": "stderr",
     "output_type": "stream",
     "text": [
      "\u001b[34m\u001b[1mwandb\u001b[0m: Currently logged in as: \u001b[33mdt-young112\u001b[0m (\u001b[33msccn\u001b[0m) to \u001b[32mhttps://api.wandb.ai\u001b[0m. Use \u001b[1m`wandb login --relogin`\u001b[0m to force relogin\n",
      "\u001b[34m\u001b[1mwandb\u001b[0m: Using wandb-core as the SDK backend.  Please refer to https://wandb.me/wandb-core for more information.\n"
     ]
    },
    {
     "data": {
      "text/html": [
       "Tracking run with wandb version 0.19.6"
      ],
      "text/plain": [
       "<IPython.core.display.HTML object>"
      ]
     },
     "metadata": {},
     "output_type": "display_data"
    },
    {
     "data": {
      "text/html": [
       "Run data is saved locally in <code>/home/dung/eeg-ssl/notebooks/wandb/run-20250507_115557-w0bcdq0u</code>"
      ],
      "text/plain": [
       "<IPython.core.display.HTML object>"
      ]
     },
     "metadata": {},
     "output_type": "display_data"
    },
    {
     "data": {
      "text/html": [
       "Syncing run <strong><a href='https://wandb.ai/sccn/eeg-ssl/runs/w0bcdq0u' target=\"_blank\">deft-river-161</a></strong> to <a href='https://wandb.ai/sccn/eeg-ssl' target=\"_blank\">Weights & Biases</a> (<a href='https://wandb.me/developer-guide' target=\"_blank\">docs</a>)<br>"
      ],
      "text/plain": [
       "<IPython.core.display.HTML object>"
      ]
     },
     "metadata": {},
     "output_type": "display_data"
    },
    {
     "data": {
      "text/html": [
       " View project at <a href='https://wandb.ai/sccn/eeg-ssl' target=\"_blank\">https://wandb.ai/sccn/eeg-ssl</a>"
      ],
      "text/plain": [
       "<IPython.core.display.HTML object>"
      ]
     },
     "metadata": {},
     "output_type": "display_data"
    },
    {
     "data": {
      "text/html": [
       " View run at <a href='https://wandb.ai/sccn/eeg-ssl/runs/w0bcdq0u' target=\"_blank\">https://wandb.ai/sccn/eeg-ssl/runs/w0bcdq0u</a>"
      ],
      "text/plain": [
       "<IPython.core.display.HTML object>"
      ]
     },
     "metadata": {},
     "output_type": "display_data"
    }
   ],
   "source": [
    "import wandb\n",
    "run = wandb.init(project=\"eeg-ssl\", job_type=\"training\")"
   ]
  },
  {
   "cell_type": "code",
   "execution_count": 2,
   "id": "169b4bb9",
   "metadata": {},
   "outputs": [
    {
     "name": "stdout",
     "output_type": "stream",
     "text": [
      "Artifact directory artifacts/model-3k5y24ev:v0 already exists. Skipping download.\n",
      "Artifact directory artifacts/model-3k5y24ev:v1 already exists. Skipping download.\n",
      "Artifact directory artifacts/model-3k5y24ev:v2 already exists. Skipping download.\n",
      "Artifact directory artifacts/model-3k5y24ev:v3 already exists. Skipping download.\n",
      "Artifact directory artifacts/model-3k5y24ev:v4 already exists. Skipping download.\n",
      "Artifact directory artifacts/model-3k5y24ev:v5 already exists. Skipping download.\n",
      "Artifact directory artifacts/model-3k5y24ev:v6 already exists. Skipping download.\n",
      "Artifact directory artifacts/model-3k5y24ev:v7 already exists. Skipping download.\n",
      "Artifact directory artifacts/model-3k5y24ev:v8 already exists. Skipping download.\n",
      "Artifact directory artifacts/model-3k5y24ev:v9 already exists. Skipping download.\n",
      "Artifact directory artifacts/model-3k5y24ev:v10 already exists. Skipping download.\n",
      "Artifact directory artifacts/model-3k5y24ev:v11 already exists. Skipping download.\n",
      "Artifact directory artifacts/model-3k5y24ev:v12 already exists. Skipping download.\n",
      "Artifact directory artifacts/model-3k5y24ev:v13 already exists. Skipping download.\n",
      "Artifact directory artifacts/model-3k5y24ev:v14 already exists. Skipping download.\n",
      "Artifact directory artifacts/model-3k5y24ev:v15 already exists. Skipping download.\n",
      "Artifact directory artifacts/model-3k5y24ev:v16 already exists. Skipping download.\n",
      "Artifact directory artifacts/model-3k5y24ev:v17 already exists. Skipping download.\n",
      "Artifact directory artifacts/model-3k5y24ev:v18 already exists. Skipping download.\n",
      "Artifact directory artifacts/model-3k5y24ev:v19 already exists. Skipping download.\n",
      "Artifact directory artifacts/model-3k5y24ev:v20 already exists. Skipping download.\n",
      "Artifact directory artifacts/model-3k5y24ev:v21 already exists. Skipping download.\n",
      "Artifact directory artifacts/model-3k5y24ev:v22 already exists. Skipping download.\n",
      "Artifact directory artifacts/model-3k5y24ev:v23 already exists. Skipping download.\n",
      "Artifact directory artifacts/model-3k5y24ev:v24 already exists. Skipping download.\n",
      "Artifact directory artifacts/model-3k5y24ev:v25 already exists. Skipping download.\n",
      "Artifact directory artifacts/model-3k5y24ev:v26 already exists. Skipping download.\n",
      "Artifact directory artifacts/model-3k5y24ev:v27 already exists. Skipping download.\n",
      "Artifact directory artifacts/model-3k5y24ev:v28 already exists. Skipping download.\n",
      "Artifact directory artifacts/model-3k5y24ev:v29 already exists. Skipping download.\n",
      "Artifact directory artifacts/model-3k5y24ev:v30 already exists. Skipping download.\n"
     ]
    }
   ],
   "source": [
    "import os\n",
    "model = \"3k5y24ev\"\n",
    "artifact_dir = f'artifacts/model-{model}'\n",
    "num_version = 11 if model == \"0cu5slnx\" else 31\n",
    "for version in range(num_version):\n",
    "    if os.path.exists(f'{artifact_dir}:v{version}'):\n",
    "        print(f\"Artifact directory {artifact_dir}:v{version} already exists. Skipping download.\")\n",
    "        continue\n",
    "    else:\n",
    "        artifact = run.use_artifact(f'sccn/eeg-ssl/model-{model}:v{version}', type='model')\n",
    "        artifact_dir = artifact.download()"
   ]
  },
  {
   "cell_type": "code",
   "execution_count": 3,
   "id": "23f6abde",
   "metadata": {},
   "outputs": [
    {
     "name": "stderr",
     "output_type": "stream",
     "text": [
      "GPU available: True (cuda), used: True\n",
      "TPU available: False, using: 0 TPU cores\n",
      "HPU available: False, using: 0 HPUs\n"
     ]
    }
   ],
   "source": [
    "# load config from runs/config_CPC.yaml\n",
    "import yaml\n",
    "import lightning as L\n",
    "with open('../runs/config_CPC.yaml', 'r') as f:\n",
    "    config = yaml.safe_load(f)\n",
    "\n",
    "ssl_task = CPC()\n",
    "config['data']['ssl_task'] = ssl_task\n",
    "config['data']['window_len_s'] = 20\n",
    "config['data']['num_workers'] = 2\n",
    "\n",
    "if model == \"0cu5slnx\":\n",
    "    config['model']['init_args']['contextualizer_path'] = 'libs.ssl_model.BENDRContextualizer'\n",
    "    config['model']['init_args']['contextualizer_kwargs'] = {'in_features': 512, 'start_token': None}\n",
    "elif model == \"3k5y24ev\":\n",
    "    config['model']['init_args']['contextualizer_path'] = 'libs.ssl_model.BENDRLSTM'\n",
    "    config['model']['init_args']['contextualizer_kwargs'] = {'in_features': 512}\n",
    "\n",
    "config['trainer']['callbacks'] = None\n",
    "config['trainer']['logger'] = None\n",
    "\n",
    "trainer = L.Trainer(**config['trainer'])\n",
    "cpc_model = CPC.CPCLit(downsampling_factor=96, **config['model']['init_args'])"
   ]
  },
  {
   "cell_type": "code",
   "execution_count": null,
   "id": "9e7f440b",
   "metadata": {},
   "outputs": [
    {
     "name": "stdout",
     "output_type": "stream",
     "text": [
      "Loading data module...\n",
      "Loading model from artifacts/model-3k5y24ev:v0/model.ckpt...\n",
      "Using datasets: ['ds005505', 'ds005506', 'ds005507', 'ds005508', 'ds005509', 'ds005511', 'ds005512', 'ds005514', 'ds005515', 'ds005516']\n",
      "Validation release: ds005505\n",
      "Test release: ds005510\n"
     ]
    },
    {
     "name": "stderr",
     "output_type": "stream",
     "text": [
      "Restoring states from the checkpoint path at artifacts/model-3k5y24ev:v0/model.ckpt\n",
      "/home/dung/eeg-ssl/.venv/lib/python3.10/site-packages/lightning/pytorch/trainer/call.py:277: Be aware that when using `ckpt_path`, callbacks used to create the checkpoint need to be provided during `Trainer` instantiation. Please add the following callbacks: [\"ModelCheckpoint{'monitor': None, 'mode': 'min', 'every_n_train_steps': 0, 'every_n_epochs': 3, 'train_time_interval': None}\"].\n",
      "LOCAL_RANK: 0 - CUDA_VISIBLE_DEVICES: [0]\n",
      "Loaded model weights from the checkpoint at artifacts/model-3k5y24ev:v0/model.ckpt\n"
     ]
    },
    {
     "name": "stdout",
     "output_type": "stream",
     "text": [
      "test sampler None\n"
     ]
    },
    {
     "data": {
      "application/vnd.jupyter.widget-view+json": {
       "model_id": "5968af47960b461caae5027b01750bb7",
       "version_major": 2,
       "version_minor": 0
      },
      "text/plain": [
       "Testing: |          | 0/? [00:00<?, ?it/s]"
      ]
     },
     "metadata": {},
     "output_type": "display_data"
    },
    {
     "name": "stdout",
     "output_type": "stream",
     "text": [
      "test_step\n"
     ]
    },
    {
     "name": "stderr",
     "output_type": "stream",
     "text": [
      "/home/dung/eeg-ssl/.venv/lib/python3.10/site-packages/lightning/pytorch/utilities/data.py:79: Trying to infer the `batch_size` from an ambiguous collection. The batch size we found is 128. To avoid any miscalculations, use `self.log(..., batch_size=batch_size)`.\n"
     ]
    },
    {
     "name": "stdout",
     "output_type": "stream",
     "text": [
      "test_step\n",
      "test_step\n",
      "test_step\n",
      "test_step\n",
      "test_step\n",
      "test_step\n",
      "test_step\n",
      "test_step\n",
      "test_step\n",
      "test_step\n",
      "test_step\n",
      "test_step\n",
      "test_step\n",
      "test_step\n",
      "test_step\n",
      "test_step\n",
      "test_step\n",
      "test_step\n",
      "test_step\n",
      "test_step\n"
     ]
    },
    {
     "name": "stderr",
     "output_type": "stream",
     "text": [
      "/home/dung/eeg-ssl/.venv/lib/python3.10/site-packages/lightning/pytorch/utilities/data.py:79: Trying to infer the `batch_size` from an ambiguous collection. The batch size we found is 28. To avoid any miscalculations, use `self.log(..., batch_size=batch_size)`.\n"
     ]
    },
    {
     "data": {
      "text/html": [
       "<pre style=\"white-space:pre;overflow-x:auto;line-height:normal;font-family:Menlo,'DejaVu Sans Mono',consolas,'Courier New',monospace\">┏━━━━━━━━━━━━━━━━━━━━━━━━━━━━━━━━━━━━━━━━━━━━━━━┳━━━━━━━━━━━━━━━━━━━━━━━━━━━━━━━━━━━━━━━━━━━━━━━┓\n",
       "┃<span style=\"font-weight: bold\">                  Test metric                  </span>┃<span style=\"font-weight: bold\">                 DataLoader 0                  </span>┃\n",
       "┡━━━━━━━━━━━━━━━━━━━━━━━━━━━━━━━━━━━━━━━━━━━━━━━╇━━━━━━━━━━━━━━━━━━━━━━━━━━━━━━━━━━━━━━━━━━━━━━━┩\n",
       "│<span style=\"color: #008080; text-decoration-color: #008080\">              val_Regressor/NRMSE              </span>│<span style=\"color: #800080; text-decoration-color: #800080\">              0.35599822143690896              </span>│\n",
       "│<span style=\"color: #008080; text-decoration-color: #008080\">               val_Regressor/R2                </span>│<span style=\"color: #800080; text-decoration-color: #800080\">              0.0163177711118363               </span>│\n",
       "│<span style=\"color: #008080; text-decoration-color: #008080\">           val_Regressor/concordance           </span>│<span style=\"color: #800080; text-decoration-color: #800080\">              0.03593284093466325              </span>│\n",
       "│<span style=\"color: #008080; text-decoration-color: #008080\">               val_Regressor/mae               </span>│<span style=\"color: #800080; text-decoration-color: #800080\">              3.1956985073718664               </span>│\n",
       "│<span style=\"color: #008080; text-decoration-color: #008080\">               val_Regressor/mse               </span>│<span style=\"color: #800080; text-decoration-color: #800080\">              14.742429030275442               </span>│\n",
       "│<span style=\"color: #008080; text-decoration-color: #008080\">         val_Regressor/subject_iqr_iqr         </span>│<span style=\"color: #800080; text-decoration-color: #800080\">              0.28724992275238037              </span>│\n",
       "│<span style=\"color: #008080; text-decoration-color: #008080\">        val_Regressor/subject_iqr_mean         </span>│<span style=\"color: #800080; text-decoration-color: #800080\">              0.6124417185783386               </span>│\n",
       "│<span style=\"color: #008080; text-decoration-color: #008080\">       val_Regressor/subject_iqr_median        </span>│<span style=\"color: #800080; text-decoration-color: #800080\">              0.5597726106643677               </span>│\n",
       "│<span style=\"color: #008080; text-decoration-color: #008080\">         val_Regressor/subject_iqr_std         </span>│<span style=\"color: #800080; text-decoration-color: #800080\">              0.21147479116916656              </span>│\n",
       "│<span style=\"color: #008080; text-decoration-color: #008080\">         val_Regressor/subject_std_iqr         </span>│<span style=\"color: #800080; text-decoration-color: #800080\">              0.1292703002691269               </span>│\n",
       "│<span style=\"color: #008080; text-decoration-color: #008080\">        val_Regressor/subject_std_mean         </span>│<span style=\"color: #800080; text-decoration-color: #800080\">              0.49153679609298706              </span>│\n",
       "│<span style=\"color: #008080; text-decoration-color: #008080\">       val_Regressor/subject_std_median        </span>│<span style=\"color: #800080; text-decoration-color: #800080\">              0.4860832691192627               </span>│\n",
       "│<span style=\"color: #008080; text-decoration-color: #008080\">         val_Regressor/subject_std_std         </span>│<span style=\"color: #800080; text-decoration-color: #800080\">              0.13866767287254333              </span>│\n",
       "│<span style=\"color: #008080; text-decoration-color: #008080\">     val_Regressor/subject_with_mean_NRMSE     </span>│<span style=\"color: #800080; text-decoration-color: #800080\">              0.3463819817158704               </span>│\n",
       "│<span style=\"color: #008080; text-decoration-color: #008080\">      val_Regressor/subject_with_mean_R2       </span>│<span style=\"color: #800080; text-decoration-color: #800080\">             0.032508508830744964              </span>│\n",
       "│<span style=\"color: #008080; text-decoration-color: #008080\">  val_Regressor/subject_with_mean_concordance  </span>│<span style=\"color: #800080; text-decoration-color: #800080\">              0.03610872587552038              </span>│\n",
       "│<span style=\"color: #008080; text-decoration-color: #008080\">      val_Regressor/subject_with_mean_mae      </span>│<span style=\"color: #800080; text-decoration-color: #800080\">              3.1105294819279647               </span>│\n",
       "│<span style=\"color: #008080; text-decoration-color: #008080\">      val_Regressor/subject_with_mean_mse      </span>│<span style=\"color: #800080; text-decoration-color: #800080\">              13.834190506447369               </span>│\n",
       "│<span style=\"color: #008080; text-decoration-color: #008080\">    val_Regressor/subject_with_median_NRMSE    </span>│<span style=\"color: #800080; text-decoration-color: #800080\">              0.34771221384541473              </span>│\n",
       "│<span style=\"color: #008080; text-decoration-color: #008080\">     val_Regressor/subject_with_median_R2      </span>│<span style=\"color: #800080; text-decoration-color: #800080\">              0.02506320517775329              </span>│\n",
       "│<span style=\"color: #008080; text-decoration-color: #008080\"> val_Regressor/subject_with_median_concordance </span>│<span style=\"color: #800080; text-decoration-color: #800080\">              0.02925815887473049              </span>│\n",
       "│<span style=\"color: #008080; text-decoration-color: #008080\">     val_Regressor/subject_with_median_mae     </span>│<span style=\"color: #800080; text-decoration-color: #800080\">              3.1269370950029685               </span>│\n",
       "│<span style=\"color: #008080; text-decoration-color: #008080\">     val_Regressor/subject_with_median_mse     </span>│<span style=\"color: #800080; text-decoration-color: #800080\">               13.94065113173861               </span>│\n",
       "│<span style=\"color: #008080; text-decoration-color: #008080\">                val_loss_epoch                 </span>│<span style=\"color: #800080; text-decoration-color: #800080\">              0.03504680469632149              </span>│\n",
       "└───────────────────────────────────────────────┴───────────────────────────────────────────────┘\n",
       "</pre>\n"
      ],
      "text/plain": [
       "┏━━━━━━━━━━━━━━━━━━━━━━━━━━━━━━━━━━━━━━━━━━━━━━━┳━━━━━━━━━━━━━━━━━━━━━━━━━━━━━━━━━━━━━━━━━━━━━━━┓\n",
       "┃\u001b[1m \u001b[0m\u001b[1m                 Test metric                 \u001b[0m\u001b[1m \u001b[0m┃\u001b[1m \u001b[0m\u001b[1m                DataLoader 0                 \u001b[0m\u001b[1m \u001b[0m┃\n",
       "┡━━━━━━━━━━━━━━━━━━━━━━━━━━━━━━━━━━━━━━━━━━━━━━━╇━━━━━━━━━━━━━━━━━━━━━━━━━━━━━━━━━━━━━━━━━━━━━━━┩\n",
       "│\u001b[36m \u001b[0m\u001b[36m             val_Regressor/NRMSE             \u001b[0m\u001b[36m \u001b[0m│\u001b[35m \u001b[0m\u001b[35m             0.35599822143690896             \u001b[0m\u001b[35m \u001b[0m│\n",
       "│\u001b[36m \u001b[0m\u001b[36m              val_Regressor/R2               \u001b[0m\u001b[36m \u001b[0m│\u001b[35m \u001b[0m\u001b[35m             0.0163177711118363              \u001b[0m\u001b[35m \u001b[0m│\n",
       "│\u001b[36m \u001b[0m\u001b[36m          val_Regressor/concordance          \u001b[0m\u001b[36m \u001b[0m│\u001b[35m \u001b[0m\u001b[35m             0.03593284093466325             \u001b[0m\u001b[35m \u001b[0m│\n",
       "│\u001b[36m \u001b[0m\u001b[36m              val_Regressor/mae              \u001b[0m\u001b[36m \u001b[0m│\u001b[35m \u001b[0m\u001b[35m             3.1956985073718664              \u001b[0m\u001b[35m \u001b[0m│\n",
       "│\u001b[36m \u001b[0m\u001b[36m              val_Regressor/mse              \u001b[0m\u001b[36m \u001b[0m│\u001b[35m \u001b[0m\u001b[35m             14.742429030275442              \u001b[0m\u001b[35m \u001b[0m│\n",
       "│\u001b[36m \u001b[0m\u001b[36m        val_Regressor/subject_iqr_iqr        \u001b[0m\u001b[36m \u001b[0m│\u001b[35m \u001b[0m\u001b[35m             0.28724992275238037             \u001b[0m\u001b[35m \u001b[0m│\n",
       "│\u001b[36m \u001b[0m\u001b[36m       val_Regressor/subject_iqr_mean        \u001b[0m\u001b[36m \u001b[0m│\u001b[35m \u001b[0m\u001b[35m             0.6124417185783386              \u001b[0m\u001b[35m \u001b[0m│\n",
       "│\u001b[36m \u001b[0m\u001b[36m      val_Regressor/subject_iqr_median       \u001b[0m\u001b[36m \u001b[0m│\u001b[35m \u001b[0m\u001b[35m             0.5597726106643677              \u001b[0m\u001b[35m \u001b[0m│\n",
       "│\u001b[36m \u001b[0m\u001b[36m        val_Regressor/subject_iqr_std        \u001b[0m\u001b[36m \u001b[0m│\u001b[35m \u001b[0m\u001b[35m             0.21147479116916656             \u001b[0m\u001b[35m \u001b[0m│\n",
       "│\u001b[36m \u001b[0m\u001b[36m        val_Regressor/subject_std_iqr        \u001b[0m\u001b[36m \u001b[0m│\u001b[35m \u001b[0m\u001b[35m             0.1292703002691269              \u001b[0m\u001b[35m \u001b[0m│\n",
       "│\u001b[36m \u001b[0m\u001b[36m       val_Regressor/subject_std_mean        \u001b[0m\u001b[36m \u001b[0m│\u001b[35m \u001b[0m\u001b[35m             0.49153679609298706             \u001b[0m\u001b[35m \u001b[0m│\n",
       "│\u001b[36m \u001b[0m\u001b[36m      val_Regressor/subject_std_median       \u001b[0m\u001b[36m \u001b[0m│\u001b[35m \u001b[0m\u001b[35m             0.4860832691192627              \u001b[0m\u001b[35m \u001b[0m│\n",
       "│\u001b[36m \u001b[0m\u001b[36m        val_Regressor/subject_std_std        \u001b[0m\u001b[36m \u001b[0m│\u001b[35m \u001b[0m\u001b[35m             0.13866767287254333             \u001b[0m\u001b[35m \u001b[0m│\n",
       "│\u001b[36m \u001b[0m\u001b[36m    val_Regressor/subject_with_mean_NRMSE    \u001b[0m\u001b[36m \u001b[0m│\u001b[35m \u001b[0m\u001b[35m             0.3463819817158704              \u001b[0m\u001b[35m \u001b[0m│\n",
       "│\u001b[36m \u001b[0m\u001b[36m     val_Regressor/subject_with_mean_R2      \u001b[0m\u001b[36m \u001b[0m│\u001b[35m \u001b[0m\u001b[35m            0.032508508830744964             \u001b[0m\u001b[35m \u001b[0m│\n",
       "│\u001b[36m \u001b[0m\u001b[36m val_Regressor/subject_with_mean_concordance \u001b[0m\u001b[36m \u001b[0m│\u001b[35m \u001b[0m\u001b[35m             0.03610872587552038             \u001b[0m\u001b[35m \u001b[0m│\n",
       "│\u001b[36m \u001b[0m\u001b[36m     val_Regressor/subject_with_mean_mae     \u001b[0m\u001b[36m \u001b[0m│\u001b[35m \u001b[0m\u001b[35m             3.1105294819279647              \u001b[0m\u001b[35m \u001b[0m│\n",
       "│\u001b[36m \u001b[0m\u001b[36m     val_Regressor/subject_with_mean_mse     \u001b[0m\u001b[36m \u001b[0m│\u001b[35m \u001b[0m\u001b[35m             13.834190506447369              \u001b[0m\u001b[35m \u001b[0m│\n",
       "│\u001b[36m \u001b[0m\u001b[36m   val_Regressor/subject_with_median_NRMSE   \u001b[0m\u001b[36m \u001b[0m│\u001b[35m \u001b[0m\u001b[35m             0.34771221384541473             \u001b[0m\u001b[35m \u001b[0m│\n",
       "│\u001b[36m \u001b[0m\u001b[36m    val_Regressor/subject_with_median_R2     \u001b[0m\u001b[36m \u001b[0m│\u001b[35m \u001b[0m\u001b[35m             0.02506320517775329             \u001b[0m\u001b[35m \u001b[0m│\n",
       "│\u001b[36m \u001b[0m\u001b[36mval_Regressor/subject_with_median_concordance\u001b[0m\u001b[36m \u001b[0m│\u001b[35m \u001b[0m\u001b[35m             0.02925815887473049             \u001b[0m\u001b[35m \u001b[0m│\n",
       "│\u001b[36m \u001b[0m\u001b[36m    val_Regressor/subject_with_median_mae    \u001b[0m\u001b[36m \u001b[0m│\u001b[35m \u001b[0m\u001b[35m             3.1269370950029685              \u001b[0m\u001b[35m \u001b[0m│\n",
       "│\u001b[36m \u001b[0m\u001b[36m    val_Regressor/subject_with_median_mse    \u001b[0m\u001b[36m \u001b[0m│\u001b[35m \u001b[0m\u001b[35m              13.94065113173861              \u001b[0m\u001b[35m \u001b[0m│\n",
       "│\u001b[36m \u001b[0m\u001b[36m               val_loss_epoch                \u001b[0m\u001b[36m \u001b[0m│\u001b[35m \u001b[0m\u001b[35m             0.03504680469632149             \u001b[0m\u001b[35m \u001b[0m│\n",
       "└───────────────────────────────────────────────┴───────────────────────────────────────────────┘\n"
      ]
     },
     "metadata": {},
     "output_type": "display_data"
    },
    {
     "name": "stdout",
     "output_type": "stream",
     "text": [
      "Loading model from artifacts/model-3k5y24ev:v1/model.ckpt...\n",
      "Using datasets: ['ds005505', 'ds005506', 'ds005507', 'ds005508', 'ds005509', 'ds005511', 'ds005512', 'ds005514', 'ds005515', 'ds005516']\n",
      "Validation release: ds005505\n",
      "Test release: ds005510\n"
     ]
    },
    {
     "name": "stderr",
     "output_type": "stream",
     "text": [
      "Restoring states from the checkpoint path at artifacts/model-3k5y24ev:v1/model.ckpt\n",
      "/home/dung/eeg-ssl/.venv/lib/python3.10/site-packages/lightning/pytorch/trainer/call.py:277: Be aware that when using `ckpt_path`, callbacks used to create the checkpoint need to be provided during `Trainer` instantiation. Please add the following callbacks: [\"ModelCheckpoint{'monitor': None, 'mode': 'min', 'every_n_train_steps': 0, 'every_n_epochs': 3, 'train_time_interval': None}\"].\n",
      "LOCAL_RANK: 0 - CUDA_VISIBLE_DEVICES: [0]\n",
      "Loaded model weights from the checkpoint at artifacts/model-3k5y24ev:v1/model.ckpt\n"
     ]
    },
    {
     "name": "stdout",
     "output_type": "stream",
     "text": [
      "test sampler None\n"
     ]
    },
    {
     "data": {
      "application/vnd.jupyter.widget-view+json": {
       "model_id": "2b84bce8e4634a2e9b969615a0dddcbd",
       "version_major": 2,
       "version_minor": 0
      },
      "text/plain": [
       "Testing: |          | 0/? [00:00<?, ?it/s]"
      ]
     },
     "metadata": {},
     "output_type": "display_data"
    },
    {
     "name": "stdout",
     "output_type": "stream",
     "text": [
      "test_step\n",
      "test_step\n",
      "test_step\n",
      "test_step\n",
      "test_step\n",
      "test_step\n",
      "test_step\n",
      "test_step\n",
      "test_step\n",
      "test_step\n",
      "test_step\n",
      "test_step\n",
      "test_step\n",
      "test_step\n",
      "test_step\n",
      "test_step\n",
      "test_step\n",
      "test_step\n",
      "test_step\n",
      "test_step\n",
      "test_step\n"
     ]
    },
    {
     "data": {
      "text/html": [
       "<pre style=\"white-space:pre;overflow-x:auto;line-height:normal;font-family:Menlo,'DejaVu Sans Mono',consolas,'Courier New',monospace\">┏━━━━━━━━━━━━━━━━━━━━━━━━━━━━━━━━━━━━━━━━━━━━━━━┳━━━━━━━━━━━━━━━━━━━━━━━━━━━━━━━━━━━━━━━━━━━━━━━┓\n",
       "┃<span style=\"font-weight: bold\">                  Test metric                  </span>┃<span style=\"font-weight: bold\">                 DataLoader 0                  </span>┃\n",
       "┡━━━━━━━━━━━━━━━━━━━━━━━━━━━━━━━━━━━━━━━━━━━━━━━╇━━━━━━━━━━━━━━━━━━━━━━━━━━━━━━━━━━━━━━━━━━━━━━━┩\n",
       "│<span style=\"color: #008080; text-decoration-color: #008080\">              val_Regressor/NRMSE              </span>│<span style=\"color: #800080; text-decoration-color: #800080\">              0.3576521918270152               </span>│\n",
       "│<span style=\"color: #008080; text-decoration-color: #008080\">               val_Regressor/R2                </span>│<span style=\"color: #800080; text-decoration-color: #800080\">             0.007156148018054087              </span>│\n",
       "│<span style=\"color: #008080; text-decoration-color: #008080\">           val_Regressor/concordance           </span>│<span style=\"color: #800080; text-decoration-color: #800080\">              0.03197758457155394              </span>│\n",
       "│<span style=\"color: #008080; text-decoration-color: #008080\">               val_Regressor/mae               </span>│<span style=\"color: #800080; text-decoration-color: #800080\">               3.200655047372236               </span>│\n",
       "│<span style=\"color: #008080; text-decoration-color: #008080\">               val_Regressor/mse               </span>│<span style=\"color: #800080; text-decoration-color: #800080\">              14.879734121590223               </span>│\n",
       "│<span style=\"color: #008080; text-decoration-color: #008080\">         val_Regressor/subject_iqr_iqr         </span>│<span style=\"color: #800080; text-decoration-color: #800080\">              0.27438023686408997              </span>│\n",
       "│<span style=\"color: #008080; text-decoration-color: #008080\">        val_Regressor/subject_iqr_mean         </span>│<span style=\"color: #800080; text-decoration-color: #800080\">              0.6910269260406494               </span>│\n",
       "│<span style=\"color: #008080; text-decoration-color: #008080\">       val_Regressor/subject_iqr_median        </span>│<span style=\"color: #800080; text-decoration-color: #800080\">              0.6621837615966797               </span>│\n",
       "│<span style=\"color: #008080; text-decoration-color: #008080\">         val_Regressor/subject_iqr_std         </span>│<span style=\"color: #800080; text-decoration-color: #800080\">              0.2096266746520996               </span>│\n",
       "│<span style=\"color: #008080; text-decoration-color: #008080\">         val_Regressor/subject_std_iqr         </span>│<span style=\"color: #800080; text-decoration-color: #800080\">              0.14948078989982605              </span>│\n",
       "│<span style=\"color: #008080; text-decoration-color: #008080\">        val_Regressor/subject_std_mean         </span>│<span style=\"color: #800080; text-decoration-color: #800080\">               0.551798939704895               </span>│\n",
       "│<span style=\"color: #008080; text-decoration-color: #008080\">       val_Regressor/subject_std_median        </span>│<span style=\"color: #800080; text-decoration-color: #800080\">               0.538686215877533               </span>│\n",
       "│<span style=\"color: #008080; text-decoration-color: #008080\">         val_Regressor/subject_std_std         </span>│<span style=\"color: #800080; text-decoration-color: #800080\">              0.12680883705615997              </span>│\n",
       "│<span style=\"color: #008080; text-decoration-color: #008080\">     val_Regressor/subject_with_mean_NRMSE     </span>│<span style=\"color: #800080; text-decoration-color: #800080\">              0.3472883800895413               </span>│\n",
       "│<span style=\"color: #008080; text-decoration-color: #008080\">      val_Regressor/subject_with_mean_R2       </span>│<span style=\"color: #800080; text-decoration-color: #800080\">             0.027438498717442528              </span>│\n",
       "│<span style=\"color: #008080; text-decoration-color: #008080\">  val_Regressor/subject_with_mean_concordance  </span>│<span style=\"color: #800080; text-decoration-color: #800080\">              0.03214230328295074              </span>│\n",
       "│<span style=\"color: #008080; text-decoration-color: #008080\">      val_Regressor/subject_with_mean_mae      </span>│<span style=\"color: #800080; text-decoration-color: #800080\">              3.1174160749116124               </span>│\n",
       "│<span style=\"color: #008080; text-decoration-color: #008080\">      val_Regressor/subject_with_mean_mse      </span>│<span style=\"color: #800080; text-decoration-color: #800080\">               13.90668673656126               </span>│\n",
       "│<span style=\"color: #008080; text-decoration-color: #008080\">    val_Regressor/subject_with_median_NRMSE    </span>│<span style=\"color: #800080; text-decoration-color: #800080\">              0.34850244670247715              </span>│\n",
       "│<span style=\"color: #008080; text-decoration-color: #008080\">     val_Regressor/subject_with_median_R2      </span>│<span style=\"color: #800080; text-decoration-color: #800080\">             0.020626763092156164              </span>│\n",
       "│<span style=\"color: #008080; text-decoration-color: #008080\"> val_Regressor/subject_with_median_concordance </span>│<span style=\"color: #800080; text-decoration-color: #800080\">             0.025927831733110845              </span>│\n",
       "│<span style=\"color: #008080; text-decoration-color: #008080\">     val_Regressor/subject_with_median_mae     </span>│<span style=\"color: #800080; text-decoration-color: #800080\">              3.1228472430315866               </span>│\n",
       "│<span style=\"color: #008080; text-decoration-color: #008080\">     val_Regressor/subject_with_median_mse     </span>│<span style=\"color: #800080; text-decoration-color: #800080\">              14.004087953191993               </span>│\n",
       "│<span style=\"color: #008080; text-decoration-color: #008080\">                val_loss_epoch                 </span>│<span style=\"color: #800080; text-decoration-color: #800080\">              0.00789710134267807              </span>│\n",
       "└───────────────────────────────────────────────┴───────────────────────────────────────────────┘\n",
       "</pre>\n"
      ],
      "text/plain": [
       "┏━━━━━━━━━━━━━━━━━━━━━━━━━━━━━━━━━━━━━━━━━━━━━━━┳━━━━━━━━━━━━━━━━━━━━━━━━━━━━━━━━━━━━━━━━━━━━━━━┓\n",
       "┃\u001b[1m \u001b[0m\u001b[1m                 Test metric                 \u001b[0m\u001b[1m \u001b[0m┃\u001b[1m \u001b[0m\u001b[1m                DataLoader 0                 \u001b[0m\u001b[1m \u001b[0m┃\n",
       "┡━━━━━━━━━━━━━━━━━━━━━━━━━━━━━━━━━━━━━━━━━━━━━━━╇━━━━━━━━━━━━━━━━━━━━━━━━━━━━━━━━━━━━━━━━━━━━━━━┩\n",
       "│\u001b[36m \u001b[0m\u001b[36m             val_Regressor/NRMSE             \u001b[0m\u001b[36m \u001b[0m│\u001b[35m \u001b[0m\u001b[35m             0.3576521918270152              \u001b[0m\u001b[35m \u001b[0m│\n",
       "│\u001b[36m \u001b[0m\u001b[36m              val_Regressor/R2               \u001b[0m\u001b[36m \u001b[0m│\u001b[35m \u001b[0m\u001b[35m            0.007156148018054087             \u001b[0m\u001b[35m \u001b[0m│\n",
       "│\u001b[36m \u001b[0m\u001b[36m          val_Regressor/concordance          \u001b[0m\u001b[36m \u001b[0m│\u001b[35m \u001b[0m\u001b[35m             0.03197758457155394             \u001b[0m\u001b[35m \u001b[0m│\n",
       "│\u001b[36m \u001b[0m\u001b[36m              val_Regressor/mae              \u001b[0m\u001b[36m \u001b[0m│\u001b[35m \u001b[0m\u001b[35m              3.200655047372236              \u001b[0m\u001b[35m \u001b[0m│\n",
       "│\u001b[36m \u001b[0m\u001b[36m              val_Regressor/mse              \u001b[0m\u001b[36m \u001b[0m│\u001b[35m \u001b[0m\u001b[35m             14.879734121590223              \u001b[0m\u001b[35m \u001b[0m│\n",
       "│\u001b[36m \u001b[0m\u001b[36m        val_Regressor/subject_iqr_iqr        \u001b[0m\u001b[36m \u001b[0m│\u001b[35m \u001b[0m\u001b[35m             0.27438023686408997             \u001b[0m\u001b[35m \u001b[0m│\n",
       "│\u001b[36m \u001b[0m\u001b[36m       val_Regressor/subject_iqr_mean        \u001b[0m\u001b[36m \u001b[0m│\u001b[35m \u001b[0m\u001b[35m             0.6910269260406494              \u001b[0m\u001b[35m \u001b[0m│\n",
       "│\u001b[36m \u001b[0m\u001b[36m      val_Regressor/subject_iqr_median       \u001b[0m\u001b[36m \u001b[0m│\u001b[35m \u001b[0m\u001b[35m             0.6621837615966797              \u001b[0m\u001b[35m \u001b[0m│\n",
       "│\u001b[36m \u001b[0m\u001b[36m        val_Regressor/subject_iqr_std        \u001b[0m\u001b[36m \u001b[0m│\u001b[35m \u001b[0m\u001b[35m             0.2096266746520996              \u001b[0m\u001b[35m \u001b[0m│\n",
       "│\u001b[36m \u001b[0m\u001b[36m        val_Regressor/subject_std_iqr        \u001b[0m\u001b[36m \u001b[0m│\u001b[35m \u001b[0m\u001b[35m             0.14948078989982605             \u001b[0m\u001b[35m \u001b[0m│\n",
       "│\u001b[36m \u001b[0m\u001b[36m       val_Regressor/subject_std_mean        \u001b[0m\u001b[36m \u001b[0m│\u001b[35m \u001b[0m\u001b[35m              0.551798939704895              \u001b[0m\u001b[35m \u001b[0m│\n",
       "│\u001b[36m \u001b[0m\u001b[36m      val_Regressor/subject_std_median       \u001b[0m\u001b[36m \u001b[0m│\u001b[35m \u001b[0m\u001b[35m              0.538686215877533              \u001b[0m\u001b[35m \u001b[0m│\n",
       "│\u001b[36m \u001b[0m\u001b[36m        val_Regressor/subject_std_std        \u001b[0m\u001b[36m \u001b[0m│\u001b[35m \u001b[0m\u001b[35m             0.12680883705615997             \u001b[0m\u001b[35m \u001b[0m│\n",
       "│\u001b[36m \u001b[0m\u001b[36m    val_Regressor/subject_with_mean_NRMSE    \u001b[0m\u001b[36m \u001b[0m│\u001b[35m \u001b[0m\u001b[35m             0.3472883800895413              \u001b[0m\u001b[35m \u001b[0m│\n",
       "│\u001b[36m \u001b[0m\u001b[36m     val_Regressor/subject_with_mean_R2      \u001b[0m\u001b[36m \u001b[0m│\u001b[35m \u001b[0m\u001b[35m            0.027438498717442528             \u001b[0m\u001b[35m \u001b[0m│\n",
       "│\u001b[36m \u001b[0m\u001b[36m val_Regressor/subject_with_mean_concordance \u001b[0m\u001b[36m \u001b[0m│\u001b[35m \u001b[0m\u001b[35m             0.03214230328295074             \u001b[0m\u001b[35m \u001b[0m│\n",
       "│\u001b[36m \u001b[0m\u001b[36m     val_Regressor/subject_with_mean_mae     \u001b[0m\u001b[36m \u001b[0m│\u001b[35m \u001b[0m\u001b[35m             3.1174160749116124              \u001b[0m\u001b[35m \u001b[0m│\n",
       "│\u001b[36m \u001b[0m\u001b[36m     val_Regressor/subject_with_mean_mse     \u001b[0m\u001b[36m \u001b[0m│\u001b[35m \u001b[0m\u001b[35m              13.90668673656126              \u001b[0m\u001b[35m \u001b[0m│\n",
       "│\u001b[36m \u001b[0m\u001b[36m   val_Regressor/subject_with_median_NRMSE   \u001b[0m\u001b[36m \u001b[0m│\u001b[35m \u001b[0m\u001b[35m             0.34850244670247715             \u001b[0m\u001b[35m \u001b[0m│\n",
       "│\u001b[36m \u001b[0m\u001b[36m    val_Regressor/subject_with_median_R2     \u001b[0m\u001b[36m \u001b[0m│\u001b[35m \u001b[0m\u001b[35m            0.020626763092156164             \u001b[0m\u001b[35m \u001b[0m│\n",
       "│\u001b[36m \u001b[0m\u001b[36mval_Regressor/subject_with_median_concordance\u001b[0m\u001b[36m \u001b[0m│\u001b[35m \u001b[0m\u001b[35m            0.025927831733110845             \u001b[0m\u001b[35m \u001b[0m│\n",
       "│\u001b[36m \u001b[0m\u001b[36m    val_Regressor/subject_with_median_mae    \u001b[0m\u001b[36m \u001b[0m│\u001b[35m \u001b[0m\u001b[35m             3.1228472430315866              \u001b[0m\u001b[35m \u001b[0m│\n",
       "│\u001b[36m \u001b[0m\u001b[36m    val_Regressor/subject_with_median_mse    \u001b[0m\u001b[36m \u001b[0m│\u001b[35m \u001b[0m\u001b[35m             14.004087953191993              \u001b[0m\u001b[35m \u001b[0m│\n",
       "│\u001b[36m \u001b[0m\u001b[36m               val_loss_epoch                \u001b[0m\u001b[36m \u001b[0m│\u001b[35m \u001b[0m\u001b[35m             0.00789710134267807             \u001b[0m\u001b[35m \u001b[0m│\n",
       "└───────────────────────────────────────────────┴───────────────────────────────────────────────┘\n"
      ]
     },
     "metadata": {},
     "output_type": "display_data"
    },
    {
     "name": "stdout",
     "output_type": "stream",
     "text": [
      "Loading model from artifacts/model-3k5y24ev:v2/model.ckpt...\n",
      "Using datasets: ['ds005505', 'ds005506', 'ds005507', 'ds005508', 'ds005509', 'ds005511', 'ds005512', 'ds005514', 'ds005515', 'ds005516']\n",
      "Validation release: ds005505\n",
      "Test release: ds005510\n"
     ]
    },
    {
     "name": "stderr",
     "output_type": "stream",
     "text": [
      "Restoring states from the checkpoint path at artifacts/model-3k5y24ev:v2/model.ckpt\n",
      "/home/dung/eeg-ssl/.venv/lib/python3.10/site-packages/lightning/pytorch/trainer/call.py:277: Be aware that when using `ckpt_path`, callbacks used to create the checkpoint need to be provided during `Trainer` instantiation. Please add the following callbacks: [\"ModelCheckpoint{'monitor': None, 'mode': 'min', 'every_n_train_steps': 0, 'every_n_epochs': 3, 'train_time_interval': None}\"].\n",
      "LOCAL_RANK: 0 - CUDA_VISIBLE_DEVICES: [0]\n",
      "Loaded model weights from the checkpoint at artifacts/model-3k5y24ev:v2/model.ckpt\n"
     ]
    },
    {
     "name": "stdout",
     "output_type": "stream",
     "text": [
      "test sampler None\n"
     ]
    },
    {
     "data": {
      "application/vnd.jupyter.widget-view+json": {
       "model_id": "f704887b41374fd7b0e5b8b0d7058ac7",
       "version_major": 2,
       "version_minor": 0
      },
      "text/plain": [
       "Testing: |          | 0/? [00:00<?, ?it/s]"
      ]
     },
     "metadata": {},
     "output_type": "display_data"
    },
    {
     "name": "stdout",
     "output_type": "stream",
     "text": [
      "test_step\n",
      "test_step\n",
      "test_step\n",
      "test_step\n",
      "test_step\n",
      "test_step\n",
      "test_step\n",
      "test_step\n",
      "test_step\n",
      "test_step\n",
      "test_step\n",
      "test_step\n",
      "test_step\n",
      "test_step\n",
      "test_step\n",
      "test_step\n",
      "test_step\n",
      "test_step\n",
      "test_step\n",
      "test_step\n",
      "test_step\n"
     ]
    },
    {
     "data": {
      "text/html": [
       "<pre style=\"white-space:pre;overflow-x:auto;line-height:normal;font-family:Menlo,'DejaVu Sans Mono',consolas,'Courier New',monospace\">┏━━━━━━━━━━━━━━━━━━━━━━━━━━━━━━━━━━━━━━━━━━━━━━━┳━━━━━━━━━━━━━━━━━━━━━━━━━━━━━━━━━━━━━━━━━━━━━━━┓\n",
       "┃<span style=\"font-weight: bold\">                  Test metric                  </span>┃<span style=\"font-weight: bold\">                 DataLoader 0                  </span>┃\n",
       "┡━━━━━━━━━━━━━━━━━━━━━━━━━━━━━━━━━━━━━━━━━━━━━━━╇━━━━━━━━━━━━━━━━━━━━━━━━━━━━━━━━━━━━━━━━━━━━━━━┩\n",
       "│<span style=\"color: #008080; text-decoration-color: #008080\">              val_Regressor/NRMSE              </span>│<span style=\"color: #800080; text-decoration-color: #800080\">              0.35740970668597566              </span>│\n",
       "│<span style=\"color: #008080; text-decoration-color: #008080\">               val_Regressor/R2                </span>│<span style=\"color: #800080; text-decoration-color: #800080\">             0.008501970992400576              </span>│\n",
       "│<span style=\"color: #008080; text-decoration-color: #008080\">           val_Regressor/concordance           </span>│<span style=\"color: #800080; text-decoration-color: #800080\">             0.042164041294209975              </span>│\n",
       "│<span style=\"color: #008080; text-decoration-color: #008080\">               val_Regressor/mae               </span>│<span style=\"color: #800080; text-decoration-color: #800080\">               3.175626552222244               </span>│\n",
       "│<span style=\"color: #008080; text-decoration-color: #008080\">               val_Regressor/mse               </span>│<span style=\"color: #800080; text-decoration-color: #800080\">              14.859564295294751               </span>│\n",
       "│<span style=\"color: #008080; text-decoration-color: #008080\">         val_Regressor/subject_iqr_iqr         </span>│<span style=\"color: #800080; text-decoration-color: #800080\">              0.2493864744901657               </span>│\n",
       "│<span style=\"color: #008080; text-decoration-color: #008080\">        val_Regressor/subject_iqr_mean         </span>│<span style=\"color: #800080; text-decoration-color: #800080\">              0.7248105406761169               </span>│\n",
       "│<span style=\"color: #008080; text-decoration-color: #008080\">       val_Regressor/subject_iqr_median        </span>│<span style=\"color: #800080; text-decoration-color: #800080\">               0.682108461856842               </span>│\n",
       "│<span style=\"color: #008080; text-decoration-color: #008080\">         val_Regressor/subject_iqr_std         </span>│<span style=\"color: #800080; text-decoration-color: #800080\">              0.32476022839546204              </span>│\n",
       "│<span style=\"color: #008080; text-decoration-color: #008080\">         val_Regressor/subject_std_iqr         </span>│<span style=\"color: #800080; text-decoration-color: #800080\">              0.19242629408836365              </span>│\n",
       "│<span style=\"color: #008080; text-decoration-color: #008080\">        val_Regressor/subject_std_mean         </span>│<span style=\"color: #800080; text-decoration-color: #800080\">              0.6077951788902283               </span>│\n",
       "│<span style=\"color: #008080; text-decoration-color: #008080\">       val_Regressor/subject_std_median        </span>│<span style=\"color: #800080; text-decoration-color: #800080\">              0.5409395694732666               </span>│\n",
       "│<span style=\"color: #008080; text-decoration-color: #008080\">         val_Regressor/subject_std_std         </span>│<span style=\"color: #800080; text-decoration-color: #800080\">              0.21544773876667023              </span>│\n",
       "│<span style=\"color: #008080; text-decoration-color: #008080\">     val_Regressor/subject_with_mean_NRMSE     </span>│<span style=\"color: #800080; text-decoration-color: #800080\">              0.3455684667513849               </span>│\n",
       "│<span style=\"color: #008080; text-decoration-color: #008080\">      val_Regressor/subject_with_mean_R2       </span>│<span style=\"color: #800080; text-decoration-color: #800080\">             0.037047685751771864              </span>│\n",
       "│<span style=\"color: #008080; text-decoration-color: #008080\">  val_Regressor/subject_with_mean_concordance  </span>│<span style=\"color: #800080; text-decoration-color: #800080\">              0.04450785111159446              </span>│\n",
       "│<span style=\"color: #008080; text-decoration-color: #008080\">      val_Regressor/subject_with_mean_mae      </span>│<span style=\"color: #800080; text-decoration-color: #800080\">              3.0815493578769155               </span>│\n",
       "│<span style=\"color: #008080; text-decoration-color: #008080\">      val_Regressor/subject_with_mean_mse      </span>│<span style=\"color: #800080; text-decoration-color: #800080\">              13.769284676431164               </span>│\n",
       "│<span style=\"color: #008080; text-decoration-color: #008080\">    val_Regressor/subject_with_median_NRMSE    </span>│<span style=\"color: #800080; text-decoration-color: #800080\">               0.347079674971699               </span>│\n",
       "│<span style=\"color: #008080; text-decoration-color: #008080\">     val_Regressor/subject_with_median_R2      </span>│<span style=\"color: #800080; text-decoration-color: #800080\">             0.028607081277361335              </span>│\n",
       "│<span style=\"color: #008080; text-decoration-color: #008080\"> val_Regressor/subject_with_median_concordance </span>│<span style=\"color: #800080; text-decoration-color: #800080\">             0.035737793212818676              </span>│\n",
       "│<span style=\"color: #008080; text-decoration-color: #008080\">     val_Regressor/subject_with_median_mae     </span>│<span style=\"color: #800080; text-decoration-color: #800080\">               3.10522036053794                </span>│\n",
       "│<span style=\"color: #008080; text-decoration-color: #008080\">     val_Regressor/subject_with_median_mse     </span>│<span style=\"color: #800080; text-decoration-color: #800080\">              13.889977138695041               </span>│\n",
       "│<span style=\"color: #008080; text-decoration-color: #008080\">                val_loss_epoch                 </span>│<span style=\"color: #800080; text-decoration-color: #800080\">             0.004296422470360994              </span>│\n",
       "└───────────────────────────────────────────────┴───────────────────────────────────────────────┘\n",
       "</pre>\n"
      ],
      "text/plain": [
       "┏━━━━━━━━━━━━━━━━━━━━━━━━━━━━━━━━━━━━━━━━━━━━━━━┳━━━━━━━━━━━━━━━━━━━━━━━━━━━━━━━━━━━━━━━━━━━━━━━┓\n",
       "┃\u001b[1m \u001b[0m\u001b[1m                 Test metric                 \u001b[0m\u001b[1m \u001b[0m┃\u001b[1m \u001b[0m\u001b[1m                DataLoader 0                 \u001b[0m\u001b[1m \u001b[0m┃\n",
       "┡━━━━━━━━━━━━━━━━━━━━━━━━━━━━━━━━━━━━━━━━━━━━━━━╇━━━━━━━━━━━━━━━━━━━━━━━━━━━━━━━━━━━━━━━━━━━━━━━┩\n",
       "│\u001b[36m \u001b[0m\u001b[36m             val_Regressor/NRMSE             \u001b[0m\u001b[36m \u001b[0m│\u001b[35m \u001b[0m\u001b[35m             0.35740970668597566             \u001b[0m\u001b[35m \u001b[0m│\n",
       "│\u001b[36m \u001b[0m\u001b[36m              val_Regressor/R2               \u001b[0m\u001b[36m \u001b[0m│\u001b[35m \u001b[0m\u001b[35m            0.008501970992400576             \u001b[0m\u001b[35m \u001b[0m│\n",
       "│\u001b[36m \u001b[0m\u001b[36m          val_Regressor/concordance          \u001b[0m\u001b[36m \u001b[0m│\u001b[35m \u001b[0m\u001b[35m            0.042164041294209975             \u001b[0m\u001b[35m \u001b[0m│\n",
       "│\u001b[36m \u001b[0m\u001b[36m              val_Regressor/mae              \u001b[0m\u001b[36m \u001b[0m│\u001b[35m \u001b[0m\u001b[35m              3.175626552222244              \u001b[0m\u001b[35m \u001b[0m│\n",
       "│\u001b[36m \u001b[0m\u001b[36m              val_Regressor/mse              \u001b[0m\u001b[36m \u001b[0m│\u001b[35m \u001b[0m\u001b[35m             14.859564295294751              \u001b[0m\u001b[35m \u001b[0m│\n",
       "│\u001b[36m \u001b[0m\u001b[36m        val_Regressor/subject_iqr_iqr        \u001b[0m\u001b[36m \u001b[0m│\u001b[35m \u001b[0m\u001b[35m             0.2493864744901657              \u001b[0m\u001b[35m \u001b[0m│\n",
       "│\u001b[36m \u001b[0m\u001b[36m       val_Regressor/subject_iqr_mean        \u001b[0m\u001b[36m \u001b[0m│\u001b[35m \u001b[0m\u001b[35m             0.7248105406761169              \u001b[0m\u001b[35m \u001b[0m│\n",
       "│\u001b[36m \u001b[0m\u001b[36m      val_Regressor/subject_iqr_median       \u001b[0m\u001b[36m \u001b[0m│\u001b[35m \u001b[0m\u001b[35m              0.682108461856842              \u001b[0m\u001b[35m \u001b[0m│\n",
       "│\u001b[36m \u001b[0m\u001b[36m        val_Regressor/subject_iqr_std        \u001b[0m\u001b[36m \u001b[0m│\u001b[35m \u001b[0m\u001b[35m             0.32476022839546204             \u001b[0m\u001b[35m \u001b[0m│\n",
       "│\u001b[36m \u001b[0m\u001b[36m        val_Regressor/subject_std_iqr        \u001b[0m\u001b[36m \u001b[0m│\u001b[35m \u001b[0m\u001b[35m             0.19242629408836365             \u001b[0m\u001b[35m \u001b[0m│\n",
       "│\u001b[36m \u001b[0m\u001b[36m       val_Regressor/subject_std_mean        \u001b[0m\u001b[36m \u001b[0m│\u001b[35m \u001b[0m\u001b[35m             0.6077951788902283              \u001b[0m\u001b[35m \u001b[0m│\n",
       "│\u001b[36m \u001b[0m\u001b[36m      val_Regressor/subject_std_median       \u001b[0m\u001b[36m \u001b[0m│\u001b[35m \u001b[0m\u001b[35m             0.5409395694732666              \u001b[0m\u001b[35m \u001b[0m│\n",
       "│\u001b[36m \u001b[0m\u001b[36m        val_Regressor/subject_std_std        \u001b[0m\u001b[36m \u001b[0m│\u001b[35m \u001b[0m\u001b[35m             0.21544773876667023             \u001b[0m\u001b[35m \u001b[0m│\n",
       "│\u001b[36m \u001b[0m\u001b[36m    val_Regressor/subject_with_mean_NRMSE    \u001b[0m\u001b[36m \u001b[0m│\u001b[35m \u001b[0m\u001b[35m             0.3455684667513849              \u001b[0m\u001b[35m \u001b[0m│\n",
       "│\u001b[36m \u001b[0m\u001b[36m     val_Regressor/subject_with_mean_R2      \u001b[0m\u001b[36m \u001b[0m│\u001b[35m \u001b[0m\u001b[35m            0.037047685751771864             \u001b[0m\u001b[35m \u001b[0m│\n",
       "│\u001b[36m \u001b[0m\u001b[36m val_Regressor/subject_with_mean_concordance \u001b[0m\u001b[36m \u001b[0m│\u001b[35m \u001b[0m\u001b[35m             0.04450785111159446             \u001b[0m\u001b[35m \u001b[0m│\n",
       "│\u001b[36m \u001b[0m\u001b[36m     val_Regressor/subject_with_mean_mae     \u001b[0m\u001b[36m \u001b[0m│\u001b[35m \u001b[0m\u001b[35m             3.0815493578769155              \u001b[0m\u001b[35m \u001b[0m│\n",
       "│\u001b[36m \u001b[0m\u001b[36m     val_Regressor/subject_with_mean_mse     \u001b[0m\u001b[36m \u001b[0m│\u001b[35m \u001b[0m\u001b[35m             13.769284676431164              \u001b[0m\u001b[35m \u001b[0m│\n",
       "│\u001b[36m \u001b[0m\u001b[36m   val_Regressor/subject_with_median_NRMSE   \u001b[0m\u001b[36m \u001b[0m│\u001b[35m \u001b[0m\u001b[35m              0.347079674971699              \u001b[0m\u001b[35m \u001b[0m│\n",
       "│\u001b[36m \u001b[0m\u001b[36m    val_Regressor/subject_with_median_R2     \u001b[0m\u001b[36m \u001b[0m│\u001b[35m \u001b[0m\u001b[35m            0.028607081277361335             \u001b[0m\u001b[35m \u001b[0m│\n",
       "│\u001b[36m \u001b[0m\u001b[36mval_Regressor/subject_with_median_concordance\u001b[0m\u001b[36m \u001b[0m│\u001b[35m \u001b[0m\u001b[35m            0.035737793212818676             \u001b[0m\u001b[35m \u001b[0m│\n",
       "│\u001b[36m \u001b[0m\u001b[36m    val_Regressor/subject_with_median_mae    \u001b[0m\u001b[36m \u001b[0m│\u001b[35m \u001b[0m\u001b[35m              3.10522036053794               \u001b[0m\u001b[35m \u001b[0m│\n",
       "│\u001b[36m \u001b[0m\u001b[36m    val_Regressor/subject_with_median_mse    \u001b[0m\u001b[36m \u001b[0m│\u001b[35m \u001b[0m\u001b[35m             13.889977138695041              \u001b[0m\u001b[35m \u001b[0m│\n",
       "│\u001b[36m \u001b[0m\u001b[36m               val_loss_epoch                \u001b[0m\u001b[36m \u001b[0m│\u001b[35m \u001b[0m\u001b[35m            0.004296422470360994             \u001b[0m\u001b[35m \u001b[0m│\n",
       "└───────────────────────────────────────────────┴───────────────────────────────────────────────┘\n"
      ]
     },
     "metadata": {},
     "output_type": "display_data"
    },
    {
     "name": "stdout",
     "output_type": "stream",
     "text": [
      "Loading model from artifacts/model-3k5y24ev:v3/model.ckpt...\n",
      "Using datasets: ['ds005505', 'ds005506', 'ds005507', 'ds005508', 'ds005509', 'ds005511', 'ds005512', 'ds005514', 'ds005515', 'ds005516']\n",
      "Validation release: ds005505\n",
      "Test release: ds005510\n"
     ]
    },
    {
     "name": "stderr",
     "output_type": "stream",
     "text": [
      "Restoring states from the checkpoint path at artifacts/model-3k5y24ev:v3/model.ckpt\n",
      "/home/dung/eeg-ssl/.venv/lib/python3.10/site-packages/lightning/pytorch/trainer/call.py:277: Be aware that when using `ckpt_path`, callbacks used to create the checkpoint need to be provided during `Trainer` instantiation. Please add the following callbacks: [\"ModelCheckpoint{'monitor': None, 'mode': 'min', 'every_n_train_steps': 0, 'every_n_epochs': 3, 'train_time_interval': None}\"].\n",
      "LOCAL_RANK: 0 - CUDA_VISIBLE_DEVICES: [0]\n",
      "Loaded model weights from the checkpoint at artifacts/model-3k5y24ev:v3/model.ckpt\n"
     ]
    },
    {
     "name": "stdout",
     "output_type": "stream",
     "text": [
      "test sampler None\n"
     ]
    },
    {
     "data": {
      "application/vnd.jupyter.widget-view+json": {
       "model_id": "2d34deaa00804844adcb82a0419955f4",
       "version_major": 2,
       "version_minor": 0
      },
      "text/plain": [
       "Testing: |          | 0/? [00:00<?, ?it/s]"
      ]
     },
     "metadata": {},
     "output_type": "display_data"
    },
    {
     "name": "stdout",
     "output_type": "stream",
     "text": [
      "test_step\n",
      "test_step\n",
      "test_step\n",
      "test_step\n",
      "test_step\n",
      "test_step\n",
      "test_step\n",
      "test_step\n",
      "test_step\n",
      "test_step\n",
      "test_step\n",
      "test_step\n",
      "test_step\n",
      "test_step\n",
      "test_step\n",
      "test_step\n",
      "test_step\n",
      "test_step\n",
      "test_step\n",
      "test_step\n",
      "test_step\n"
     ]
    },
    {
     "data": {
      "text/html": [
       "<pre style=\"white-space:pre;overflow-x:auto;line-height:normal;font-family:Menlo,'DejaVu Sans Mono',consolas,'Courier New',monospace\">┏━━━━━━━━━━━━━━━━━━━━━━━━━━━━━━━━━━━━━━━━━━━━━━━┳━━━━━━━━━━━━━━━━━━━━━━━━━━━━━━━━━━━━━━━━━━━━━━━┓\n",
       "┃<span style=\"font-weight: bold\">                  Test metric                  </span>┃<span style=\"font-weight: bold\">                 DataLoader 0                  </span>┃\n",
       "┡━━━━━━━━━━━━━━━━━━━━━━━━━━━━━━━━━━━━━━━━━━━━━━━╇━━━━━━━━━━━━━━━━━━━━━━━━━━━━━━━━━━━━━━━━━━━━━━━┩\n",
       "│<span style=\"color: #008080; text-decoration-color: #008080\">              val_Regressor/NRMSE              </span>│<span style=\"color: #800080; text-decoration-color: #800080\">              0.3565016807006001               </span>│\n",
       "│<span style=\"color: #008080; text-decoration-color: #008080\">               val_Regressor/R2                </span>│<span style=\"color: #800080; text-decoration-color: #800080\">              0.01353352056012691              </span>│\n",
       "│<span style=\"color: #008080; text-decoration-color: #008080\">           val_Regressor/concordance           </span>│<span style=\"color: #800080; text-decoration-color: #800080\">             0.040191940422077035              </span>│\n",
       "│<span style=\"color: #008080; text-decoration-color: #008080\">               val_Regressor/mae               </span>│<span style=\"color: #800080; text-decoration-color: #800080\">              3.1883766634551436               </span>│\n",
       "│<span style=\"color: #008080; text-decoration-color: #008080\">               val_Regressor/mse               </span>│<span style=\"color: #800080; text-decoration-color: #800080\">              14.784156546495263               </span>│\n",
       "│<span style=\"color: #008080; text-decoration-color: #008080\">         val_Regressor/subject_iqr_iqr         </span>│<span style=\"color: #800080; text-decoration-color: #800080\">              0.2459002286195755               </span>│\n",
       "│<span style=\"color: #008080; text-decoration-color: #008080\">        val_Regressor/subject_iqr_mean         </span>│<span style=\"color: #800080; text-decoration-color: #800080\">              0.6455152630805969               </span>│\n",
       "│<span style=\"color: #008080; text-decoration-color: #008080\">       val_Regressor/subject_iqr_median        </span>│<span style=\"color: #800080; text-decoration-color: #800080\">              0.6132871508598328               </span>│\n",
       "│<span style=\"color: #008080; text-decoration-color: #008080\">         val_Regressor/subject_iqr_std         </span>│<span style=\"color: #800080; text-decoration-color: #800080\">              0.26621538400650024              </span>│\n",
       "│<span style=\"color: #008080; text-decoration-color: #008080\">         val_Regressor/subject_std_iqr         </span>│<span style=\"color: #800080; text-decoration-color: #800080\">              0.15597864985466003              </span>│\n",
       "│<span style=\"color: #008080; text-decoration-color: #008080\">        val_Regressor/subject_std_mean         </span>│<span style=\"color: #800080; text-decoration-color: #800080\">              0.5498286485671997               </span>│\n",
       "│<span style=\"color: #008080; text-decoration-color: #008080\">       val_Regressor/subject_std_median        </span>│<span style=\"color: #800080; text-decoration-color: #800080\">              0.48968276381492615              </span>│\n",
       "│<span style=\"color: #008080; text-decoration-color: #008080\">         val_Regressor/subject_std_std         </span>│<span style=\"color: #800080; text-decoration-color: #800080\">              0.2000867873430252               </span>│\n",
       "│<span style=\"color: #008080; text-decoration-color: #008080\">     val_Regressor/subject_with_mean_NRMSE     </span>│<span style=\"color: #800080; text-decoration-color: #800080\">              0.3458345032048772               </span>│\n",
       "│<span style=\"color: #008080; text-decoration-color: #008080\">      val_Regressor/subject_with_mean_R2       </span>│<span style=\"color: #800080; text-decoration-color: #800080\">             0.035564454185925354              </span>│\n",
       "│<span style=\"color: #008080; text-decoration-color: #008080\">  val_Regressor/subject_with_mean_concordance  </span>│<span style=\"color: #800080; text-decoration-color: #800080\">             0.040367618042488354              </span>│\n",
       "│<span style=\"color: #008080; text-decoration-color: #008080\">      val_Regressor/subject_with_mean_mae      </span>│<span style=\"color: #800080; text-decoration-color: #800080\">               3.095367284245257               </span>│\n",
       "│<span style=\"color: #008080; text-decoration-color: #008080\">      val_Regressor/subject_with_mean_mse      </span>│<span style=\"color: #800080; text-decoration-color: #800080\">              13.790493450083838               </span>│\n",
       "│<span style=\"color: #008080; text-decoration-color: #008080\">    val_Regressor/subject_with_median_NRMSE    </span>│<span style=\"color: #800080; text-decoration-color: #800080\">              0.34819177795992845              </span>│\n",
       "│<span style=\"color: #008080; text-decoration-color: #008080\">     val_Regressor/subject_with_median_R2      </span>│<span style=\"color: #800080; text-decoration-color: #800080\">             0.022372088210745433              </span>│\n",
       "│<span style=\"color: #008080; text-decoration-color: #008080\"> val_Regressor/subject_with_median_concordance </span>│<span style=\"color: #800080; text-decoration-color: #800080\">              0.02638410518059681              </span>│\n",
       "│<span style=\"color: #008080; text-decoration-color: #008080\">     val_Regressor/subject_with_median_mae     </span>│<span style=\"color: #800080; text-decoration-color: #800080\">               3.117965405864179               </span>│\n",
       "│<span style=\"color: #008080; text-decoration-color: #008080\">     val_Regressor/subject_with_median_mse     </span>│<span style=\"color: #800080; text-decoration-color: #800080\">               13.9791314957899                </span>│\n",
       "│<span style=\"color: #008080; text-decoration-color: #008080\">                val_loss_epoch                 </span>│<span style=\"color: #800080; text-decoration-color: #800080\">             0.005141068249940872              </span>│\n",
       "└───────────────────────────────────────────────┴───────────────────────────────────────────────┘\n",
       "</pre>\n"
      ],
      "text/plain": [
       "┏━━━━━━━━━━━━━━━━━━━━━━━━━━━━━━━━━━━━━━━━━━━━━━━┳━━━━━━━━━━━━━━━━━━━━━━━━━━━━━━━━━━━━━━━━━━━━━━━┓\n",
       "┃\u001b[1m \u001b[0m\u001b[1m                 Test metric                 \u001b[0m\u001b[1m \u001b[0m┃\u001b[1m \u001b[0m\u001b[1m                DataLoader 0                 \u001b[0m\u001b[1m \u001b[0m┃\n",
       "┡━━━━━━━━━━━━━━━━━━━━━━━━━━━━━━━━━━━━━━━━━━━━━━━╇━━━━━━━━━━━━━━━━━━━━━━━━━━━━━━━━━━━━━━━━━━━━━━━┩\n",
       "│\u001b[36m \u001b[0m\u001b[36m             val_Regressor/NRMSE             \u001b[0m\u001b[36m \u001b[0m│\u001b[35m \u001b[0m\u001b[35m             0.3565016807006001              \u001b[0m\u001b[35m \u001b[0m│\n",
       "│\u001b[36m \u001b[0m\u001b[36m              val_Regressor/R2               \u001b[0m\u001b[36m \u001b[0m│\u001b[35m \u001b[0m\u001b[35m             0.01353352056012691             \u001b[0m\u001b[35m \u001b[0m│\n",
       "│\u001b[36m \u001b[0m\u001b[36m          val_Regressor/concordance          \u001b[0m\u001b[36m \u001b[0m│\u001b[35m \u001b[0m\u001b[35m            0.040191940422077035             \u001b[0m\u001b[35m \u001b[0m│\n",
       "│\u001b[36m \u001b[0m\u001b[36m              val_Regressor/mae              \u001b[0m\u001b[36m \u001b[0m│\u001b[35m \u001b[0m\u001b[35m             3.1883766634551436              \u001b[0m\u001b[35m \u001b[0m│\n",
       "│\u001b[36m \u001b[0m\u001b[36m              val_Regressor/mse              \u001b[0m\u001b[36m \u001b[0m│\u001b[35m \u001b[0m\u001b[35m             14.784156546495263              \u001b[0m\u001b[35m \u001b[0m│\n",
       "│\u001b[36m \u001b[0m\u001b[36m        val_Regressor/subject_iqr_iqr        \u001b[0m\u001b[36m \u001b[0m│\u001b[35m \u001b[0m\u001b[35m             0.2459002286195755              \u001b[0m\u001b[35m \u001b[0m│\n",
       "│\u001b[36m \u001b[0m\u001b[36m       val_Regressor/subject_iqr_mean        \u001b[0m\u001b[36m \u001b[0m│\u001b[35m \u001b[0m\u001b[35m             0.6455152630805969              \u001b[0m\u001b[35m \u001b[0m│\n",
       "│\u001b[36m \u001b[0m\u001b[36m      val_Regressor/subject_iqr_median       \u001b[0m\u001b[36m \u001b[0m│\u001b[35m \u001b[0m\u001b[35m             0.6132871508598328              \u001b[0m\u001b[35m \u001b[0m│\n",
       "│\u001b[36m \u001b[0m\u001b[36m        val_Regressor/subject_iqr_std        \u001b[0m\u001b[36m \u001b[0m│\u001b[35m \u001b[0m\u001b[35m             0.26621538400650024             \u001b[0m\u001b[35m \u001b[0m│\n",
       "│\u001b[36m \u001b[0m\u001b[36m        val_Regressor/subject_std_iqr        \u001b[0m\u001b[36m \u001b[0m│\u001b[35m \u001b[0m\u001b[35m             0.15597864985466003             \u001b[0m\u001b[35m \u001b[0m│\n",
       "│\u001b[36m \u001b[0m\u001b[36m       val_Regressor/subject_std_mean        \u001b[0m\u001b[36m \u001b[0m│\u001b[35m \u001b[0m\u001b[35m             0.5498286485671997              \u001b[0m\u001b[35m \u001b[0m│\n",
       "│\u001b[36m \u001b[0m\u001b[36m      val_Regressor/subject_std_median       \u001b[0m\u001b[36m \u001b[0m│\u001b[35m \u001b[0m\u001b[35m             0.48968276381492615             \u001b[0m\u001b[35m \u001b[0m│\n",
       "│\u001b[36m \u001b[0m\u001b[36m        val_Regressor/subject_std_std        \u001b[0m\u001b[36m \u001b[0m│\u001b[35m \u001b[0m\u001b[35m             0.2000867873430252              \u001b[0m\u001b[35m \u001b[0m│\n",
       "│\u001b[36m \u001b[0m\u001b[36m    val_Regressor/subject_with_mean_NRMSE    \u001b[0m\u001b[36m \u001b[0m│\u001b[35m \u001b[0m\u001b[35m             0.3458345032048772              \u001b[0m\u001b[35m \u001b[0m│\n",
       "│\u001b[36m \u001b[0m\u001b[36m     val_Regressor/subject_with_mean_R2      \u001b[0m\u001b[36m \u001b[0m│\u001b[35m \u001b[0m\u001b[35m            0.035564454185925354             \u001b[0m\u001b[35m \u001b[0m│\n",
       "│\u001b[36m \u001b[0m\u001b[36m val_Regressor/subject_with_mean_concordance \u001b[0m\u001b[36m \u001b[0m│\u001b[35m \u001b[0m\u001b[35m            0.040367618042488354             \u001b[0m\u001b[35m \u001b[0m│\n",
       "│\u001b[36m \u001b[0m\u001b[36m     val_Regressor/subject_with_mean_mae     \u001b[0m\u001b[36m \u001b[0m│\u001b[35m \u001b[0m\u001b[35m              3.095367284245257              \u001b[0m\u001b[35m \u001b[0m│\n",
       "│\u001b[36m \u001b[0m\u001b[36m     val_Regressor/subject_with_mean_mse     \u001b[0m\u001b[36m \u001b[0m│\u001b[35m \u001b[0m\u001b[35m             13.790493450083838              \u001b[0m\u001b[35m \u001b[0m│\n",
       "│\u001b[36m \u001b[0m\u001b[36m   val_Regressor/subject_with_median_NRMSE   \u001b[0m\u001b[36m \u001b[0m│\u001b[35m \u001b[0m\u001b[35m             0.34819177795992845             \u001b[0m\u001b[35m \u001b[0m│\n",
       "│\u001b[36m \u001b[0m\u001b[36m    val_Regressor/subject_with_median_R2     \u001b[0m\u001b[36m \u001b[0m│\u001b[35m \u001b[0m\u001b[35m            0.022372088210745433             \u001b[0m\u001b[35m \u001b[0m│\n",
       "│\u001b[36m \u001b[0m\u001b[36mval_Regressor/subject_with_median_concordance\u001b[0m\u001b[36m \u001b[0m│\u001b[35m \u001b[0m\u001b[35m             0.02638410518059681             \u001b[0m\u001b[35m \u001b[0m│\n",
       "│\u001b[36m \u001b[0m\u001b[36m    val_Regressor/subject_with_median_mae    \u001b[0m\u001b[36m \u001b[0m│\u001b[35m \u001b[0m\u001b[35m              3.117965405864179              \u001b[0m\u001b[35m \u001b[0m│\n",
       "│\u001b[36m \u001b[0m\u001b[36m    val_Regressor/subject_with_median_mse    \u001b[0m\u001b[36m \u001b[0m│\u001b[35m \u001b[0m\u001b[35m              13.9791314957899               \u001b[0m\u001b[35m \u001b[0m│\n",
       "│\u001b[36m \u001b[0m\u001b[36m               val_loss_epoch                \u001b[0m\u001b[36m \u001b[0m│\u001b[35m \u001b[0m\u001b[35m            0.005141068249940872             \u001b[0m\u001b[35m \u001b[0m│\n",
       "└───────────────────────────────────────────────┴───────────────────────────────────────────────┘\n"
      ]
     },
     "metadata": {},
     "output_type": "display_data"
    },
    {
     "name": "stdout",
     "output_type": "stream",
     "text": [
      "Loading model from artifacts/model-3k5y24ev:v4/model.ckpt...\n",
      "Using datasets: ['ds005505', 'ds005506', 'ds005507', 'ds005508', 'ds005509', 'ds005511', 'ds005512', 'ds005514', 'ds005515', 'ds005516']\n",
      "Validation release: ds005505\n",
      "Test release: ds005510\n"
     ]
    },
    {
     "name": "stderr",
     "output_type": "stream",
     "text": [
      "Restoring states from the checkpoint path at artifacts/model-3k5y24ev:v4/model.ckpt\n",
      "/home/dung/eeg-ssl/.venv/lib/python3.10/site-packages/lightning/pytorch/trainer/call.py:277: Be aware that when using `ckpt_path`, callbacks used to create the checkpoint need to be provided during `Trainer` instantiation. Please add the following callbacks: [\"ModelCheckpoint{'monitor': None, 'mode': 'min', 'every_n_train_steps': 0, 'every_n_epochs': 3, 'train_time_interval': None}\"].\n",
      "LOCAL_RANK: 0 - CUDA_VISIBLE_DEVICES: [0]\n",
      "Loaded model weights from the checkpoint at artifacts/model-3k5y24ev:v4/model.ckpt\n"
     ]
    },
    {
     "name": "stdout",
     "output_type": "stream",
     "text": [
      "test sampler None\n"
     ]
    },
    {
     "data": {
      "application/vnd.jupyter.widget-view+json": {
       "model_id": "729fcb04f20e47debc821d794c375311",
       "version_major": 2,
       "version_minor": 0
      },
      "text/plain": [
       "Testing: |          | 0/? [00:00<?, ?it/s]"
      ]
     },
     "metadata": {},
     "output_type": "display_data"
    },
    {
     "name": "stdout",
     "output_type": "stream",
     "text": [
      "test_step\n",
      "test_step\n",
      "test_step\n",
      "test_step\n",
      "test_step\n",
      "test_step\n",
      "test_step\n",
      "test_step\n",
      "test_step\n",
      "test_step\n",
      "test_step\n",
      "test_step\n",
      "test_step\n",
      "test_step\n",
      "test_step\n",
      "test_step\n",
      "test_step\n",
      "test_step\n",
      "test_step\n",
      "test_step\n",
      "test_step\n"
     ]
    },
    {
     "data": {
      "text/html": [
       "<pre style=\"white-space:pre;overflow-x:auto;line-height:normal;font-family:Menlo,'DejaVu Sans Mono',consolas,'Courier New',monospace\">┏━━━━━━━━━━━━━━━━━━━━━━━━━━━━━━━━━━━━━━━━━━━━━━━┳━━━━━━━━━━━━━━━━━━━━━━━━━━━━━━━━━━━━━━━━━━━━━━━┓\n",
       "┃<span style=\"font-weight: bold\">                  Test metric                  </span>┃<span style=\"font-weight: bold\">                 DataLoader 0                  </span>┃\n",
       "┡━━━━━━━━━━━━━━━━━━━━━━━━━━━━━━━━━━━━━━━━━━━━━━━╇━━━━━━━━━━━━━━━━━━━━━━━━━━━━━━━━━━━━━━━━━━━━━━━┩\n",
       "│<span style=\"color: #008080; text-decoration-color: #008080\">              val_Regressor/NRMSE              </span>│<span style=\"color: #800080; text-decoration-color: #800080\">              0.3549940173686622               </span>│\n",
       "│<span style=\"color: #008080; text-decoration-color: #008080\">               val_Regressor/R2                </span>│<span style=\"color: #800080; text-decoration-color: #800080\">             0.021859509315505843              </span>│\n",
       "│<span style=\"color: #008080; text-decoration-color: #008080\">           val_Regressor/concordance           </span>│<span style=\"color: #800080; text-decoration-color: #800080\">              0.04892902691439617              </span>│\n",
       "│<span style=\"color: #008080; text-decoration-color: #008080\">               val_Regressor/mae               </span>│<span style=\"color: #800080; text-decoration-color: #800080\">               3.178633422417257               </span>│\n",
       "│<span style=\"color: #008080; text-decoration-color: #008080\">               val_Regressor/mse               </span>│<span style=\"color: #800080; text-decoration-color: #800080\">               14.6593750929645                </span>│\n",
       "│<span style=\"color: #008080; text-decoration-color: #008080\">         val_Regressor/subject_iqr_iqr         </span>│<span style=\"color: #800080; text-decoration-color: #800080\">              0.3014642000198364               </span>│\n",
       "│<span style=\"color: #008080; text-decoration-color: #008080\">        val_Regressor/subject_iqr_mean         </span>│<span style=\"color: #800080; text-decoration-color: #800080\">              0.7485020160675049               </span>│\n",
       "│<span style=\"color: #008080; text-decoration-color: #008080\">       val_Regressor/subject_iqr_median        </span>│<span style=\"color: #800080; text-decoration-color: #800080\">              0.7416715621948242               </span>│\n",
       "│<span style=\"color: #008080; text-decoration-color: #008080\">         val_Regressor/subject_iqr_std         </span>│<span style=\"color: #800080; text-decoration-color: #800080\">              0.2214808315038681               </span>│\n",
       "│<span style=\"color: #008080; text-decoration-color: #008080\">         val_Regressor/subject_std_iqr         </span>│<span style=\"color: #800080; text-decoration-color: #800080\">              0.1315385401248932               </span>│\n",
       "│<span style=\"color: #008080; text-decoration-color: #008080\">        val_Regressor/subject_std_mean         </span>│<span style=\"color: #800080; text-decoration-color: #800080\">              0.5694742798805237               </span>│\n",
       "│<span style=\"color: #008080; text-decoration-color: #008080\">       val_Regressor/subject_std_median        </span>│<span style=\"color: #800080; text-decoration-color: #800080\">              0.5517802238464355               </span>│\n",
       "│<span style=\"color: #008080; text-decoration-color: #008080\">         val_Regressor/subject_std_std         </span>│<span style=\"color: #800080; text-decoration-color: #800080\">              0.1300908923149109               </span>│\n",
       "│<span style=\"color: #008080; text-decoration-color: #008080\">     val_Regressor/subject_with_mean_NRMSE     </span>│<span style=\"color: #800080; text-decoration-color: #800080\">              0.3445957561470569               </span>│\n",
       "│<span style=\"color: #008080; text-decoration-color: #008080\">      val_Regressor/subject_with_mean_R2       </span>│<span style=\"color: #800080; text-decoration-color: #800080\">              0.04246111745381198              </span>│\n",
       "│<span style=\"color: #008080; text-decoration-color: #008080\">  val_Regressor/subject_with_mean_concordance  </span>│<span style=\"color: #800080; text-decoration-color: #800080\">             0.048359893737886676              </span>│\n",
       "│<span style=\"color: #008080; text-decoration-color: #008080\">      val_Regressor/subject_with_mean_mae      </span>│<span style=\"color: #800080; text-decoration-color: #800080\">              3.0881976974202705               </span>│\n",
       "│<span style=\"color: #008080; text-decoration-color: #008080\">      val_Regressor/subject_with_mean_mse      </span>│<span style=\"color: #800080; text-decoration-color: #800080\">              13.691877850486724               </span>│\n",
       "│<span style=\"color: #008080; text-decoration-color: #008080\">    val_Regressor/subject_with_median_NRMSE    </span>│<span style=\"color: #800080; text-decoration-color: #800080\">              0.3454683075544016               </span>│\n",
       "│<span style=\"color: #008080; text-decoration-color: #008080\">     val_Regressor/subject_with_median_R2      </span>│<span style=\"color: #800080; text-decoration-color: #800080\">              0.03760580700725036              </span>│\n",
       "│<span style=\"color: #008080; text-decoration-color: #008080\"> val_Regressor/subject_with_median_concordance </span>│<span style=\"color: #800080; text-decoration-color: #800080\">              0.04420269715212023              </span>│\n",
       "│<span style=\"color: #008080; text-decoration-color: #008080\">     val_Regressor/subject_with_median_mae     </span>│<span style=\"color: #800080; text-decoration-color: #800080\">               3.096787758139453               </span>│\n",
       "│<span style=\"color: #008080; text-decoration-color: #008080\">     val_Regressor/subject_with_median_mse     </span>│<span style=\"color: #800080; text-decoration-color: #800080\">              13.761304083480773               </span>│\n",
       "│<span style=\"color: #008080; text-decoration-color: #008080\">                val_loss_epoch                 </span>│<span style=\"color: #800080; text-decoration-color: #800080\">             0.0038220579735934734             </span>│\n",
       "└───────────────────────────────────────────────┴───────────────────────────────────────────────┘\n",
       "</pre>\n"
      ],
      "text/plain": [
       "┏━━━━━━━━━━━━━━━━━━━━━━━━━━━━━━━━━━━━━━━━━━━━━━━┳━━━━━━━━━━━━━━━━━━━━━━━━━━━━━━━━━━━━━━━━━━━━━━━┓\n",
       "┃\u001b[1m \u001b[0m\u001b[1m                 Test metric                 \u001b[0m\u001b[1m \u001b[0m┃\u001b[1m \u001b[0m\u001b[1m                DataLoader 0                 \u001b[0m\u001b[1m \u001b[0m┃\n",
       "┡━━━━━━━━━━━━━━━━━━━━━━━━━━━━━━━━━━━━━━━━━━━━━━━╇━━━━━━━━━━━━━━━━━━━━━━━━━━━━━━━━━━━━━━━━━━━━━━━┩\n",
       "│\u001b[36m \u001b[0m\u001b[36m             val_Regressor/NRMSE             \u001b[0m\u001b[36m \u001b[0m│\u001b[35m \u001b[0m\u001b[35m             0.3549940173686622              \u001b[0m\u001b[35m \u001b[0m│\n",
       "│\u001b[36m \u001b[0m\u001b[36m              val_Regressor/R2               \u001b[0m\u001b[36m \u001b[0m│\u001b[35m \u001b[0m\u001b[35m            0.021859509315505843             \u001b[0m\u001b[35m \u001b[0m│\n",
       "│\u001b[36m \u001b[0m\u001b[36m          val_Regressor/concordance          \u001b[0m\u001b[36m \u001b[0m│\u001b[35m \u001b[0m\u001b[35m             0.04892902691439617             \u001b[0m\u001b[35m \u001b[0m│\n",
       "│\u001b[36m \u001b[0m\u001b[36m              val_Regressor/mae              \u001b[0m\u001b[36m \u001b[0m│\u001b[35m \u001b[0m\u001b[35m              3.178633422417257              \u001b[0m\u001b[35m \u001b[0m│\n",
       "│\u001b[36m \u001b[0m\u001b[36m              val_Regressor/mse              \u001b[0m\u001b[36m \u001b[0m│\u001b[35m \u001b[0m\u001b[35m              14.6593750929645               \u001b[0m\u001b[35m \u001b[0m│\n",
       "│\u001b[36m \u001b[0m\u001b[36m        val_Regressor/subject_iqr_iqr        \u001b[0m\u001b[36m \u001b[0m│\u001b[35m \u001b[0m\u001b[35m             0.3014642000198364              \u001b[0m\u001b[35m \u001b[0m│\n",
       "│\u001b[36m \u001b[0m\u001b[36m       val_Regressor/subject_iqr_mean        \u001b[0m\u001b[36m \u001b[0m│\u001b[35m \u001b[0m\u001b[35m             0.7485020160675049              \u001b[0m\u001b[35m \u001b[0m│\n",
       "│\u001b[36m \u001b[0m\u001b[36m      val_Regressor/subject_iqr_median       \u001b[0m\u001b[36m \u001b[0m│\u001b[35m \u001b[0m\u001b[35m             0.7416715621948242              \u001b[0m\u001b[35m \u001b[0m│\n",
       "│\u001b[36m \u001b[0m\u001b[36m        val_Regressor/subject_iqr_std        \u001b[0m\u001b[36m \u001b[0m│\u001b[35m \u001b[0m\u001b[35m             0.2214808315038681              \u001b[0m\u001b[35m \u001b[0m│\n",
       "│\u001b[36m \u001b[0m\u001b[36m        val_Regressor/subject_std_iqr        \u001b[0m\u001b[36m \u001b[0m│\u001b[35m \u001b[0m\u001b[35m             0.1315385401248932              \u001b[0m\u001b[35m \u001b[0m│\n",
       "│\u001b[36m \u001b[0m\u001b[36m       val_Regressor/subject_std_mean        \u001b[0m\u001b[36m \u001b[0m│\u001b[35m \u001b[0m\u001b[35m             0.5694742798805237              \u001b[0m\u001b[35m \u001b[0m│\n",
       "│\u001b[36m \u001b[0m\u001b[36m      val_Regressor/subject_std_median       \u001b[0m\u001b[36m \u001b[0m│\u001b[35m \u001b[0m\u001b[35m             0.5517802238464355              \u001b[0m\u001b[35m \u001b[0m│\n",
       "│\u001b[36m \u001b[0m\u001b[36m        val_Regressor/subject_std_std        \u001b[0m\u001b[36m \u001b[0m│\u001b[35m \u001b[0m\u001b[35m             0.1300908923149109              \u001b[0m\u001b[35m \u001b[0m│\n",
       "│\u001b[36m \u001b[0m\u001b[36m    val_Regressor/subject_with_mean_NRMSE    \u001b[0m\u001b[36m \u001b[0m│\u001b[35m \u001b[0m\u001b[35m             0.3445957561470569              \u001b[0m\u001b[35m \u001b[0m│\n",
       "│\u001b[36m \u001b[0m\u001b[36m     val_Regressor/subject_with_mean_R2      \u001b[0m\u001b[36m \u001b[0m│\u001b[35m \u001b[0m\u001b[35m             0.04246111745381198             \u001b[0m\u001b[35m \u001b[0m│\n",
       "│\u001b[36m \u001b[0m\u001b[36m val_Regressor/subject_with_mean_concordance \u001b[0m\u001b[36m \u001b[0m│\u001b[35m \u001b[0m\u001b[35m            0.048359893737886676             \u001b[0m\u001b[35m \u001b[0m│\n",
       "│\u001b[36m \u001b[0m\u001b[36m     val_Regressor/subject_with_mean_mae     \u001b[0m\u001b[36m \u001b[0m│\u001b[35m \u001b[0m\u001b[35m             3.0881976974202705              \u001b[0m\u001b[35m \u001b[0m│\n",
       "│\u001b[36m \u001b[0m\u001b[36m     val_Regressor/subject_with_mean_mse     \u001b[0m\u001b[36m \u001b[0m│\u001b[35m \u001b[0m\u001b[35m             13.691877850486724              \u001b[0m\u001b[35m \u001b[0m│\n",
       "│\u001b[36m \u001b[0m\u001b[36m   val_Regressor/subject_with_median_NRMSE   \u001b[0m\u001b[36m \u001b[0m│\u001b[35m \u001b[0m\u001b[35m             0.3454683075544016              \u001b[0m\u001b[35m \u001b[0m│\n",
       "│\u001b[36m \u001b[0m\u001b[36m    val_Regressor/subject_with_median_R2     \u001b[0m\u001b[36m \u001b[0m│\u001b[35m \u001b[0m\u001b[35m             0.03760580700725036             \u001b[0m\u001b[35m \u001b[0m│\n",
       "│\u001b[36m \u001b[0m\u001b[36mval_Regressor/subject_with_median_concordance\u001b[0m\u001b[36m \u001b[0m│\u001b[35m \u001b[0m\u001b[35m             0.04420269715212023             \u001b[0m\u001b[35m \u001b[0m│\n",
       "│\u001b[36m \u001b[0m\u001b[36m    val_Regressor/subject_with_median_mae    \u001b[0m\u001b[36m \u001b[0m│\u001b[35m \u001b[0m\u001b[35m              3.096787758139453              \u001b[0m\u001b[35m \u001b[0m│\n",
       "│\u001b[36m \u001b[0m\u001b[36m    val_Regressor/subject_with_median_mse    \u001b[0m\u001b[36m \u001b[0m│\u001b[35m \u001b[0m\u001b[35m             13.761304083480773              \u001b[0m\u001b[35m \u001b[0m│\n",
       "│\u001b[36m \u001b[0m\u001b[36m               val_loss_epoch                \u001b[0m\u001b[36m \u001b[0m│\u001b[35m \u001b[0m\u001b[35m            0.0038220579735934734            \u001b[0m\u001b[35m \u001b[0m│\n",
       "└───────────────────────────────────────────────┴───────────────────────────────────────────────┘\n"
      ]
     },
     "metadata": {},
     "output_type": "display_data"
    },
    {
     "name": "stdout",
     "output_type": "stream",
     "text": [
      "Loading model from artifacts/model-3k5y24ev:v5/model.ckpt...\n",
      "Using datasets: ['ds005505', 'ds005506', 'ds005507', 'ds005508', 'ds005509', 'ds005511', 'ds005512', 'ds005514', 'ds005515', 'ds005516']\n",
      "Validation release: ds005505\n",
      "Test release: ds005510\n"
     ]
    },
    {
     "name": "stderr",
     "output_type": "stream",
     "text": [
      "Restoring states from the checkpoint path at artifacts/model-3k5y24ev:v5/model.ckpt\n",
      "/home/dung/eeg-ssl/.venv/lib/python3.10/site-packages/lightning/pytorch/trainer/call.py:277: Be aware that when using `ckpt_path`, callbacks used to create the checkpoint need to be provided during `Trainer` instantiation. Please add the following callbacks: [\"ModelCheckpoint{'monitor': None, 'mode': 'min', 'every_n_train_steps': 0, 'every_n_epochs': 3, 'train_time_interval': None}\"].\n",
      "LOCAL_RANK: 0 - CUDA_VISIBLE_DEVICES: [0]\n",
      "Loaded model weights from the checkpoint at artifacts/model-3k5y24ev:v5/model.ckpt\n"
     ]
    },
    {
     "name": "stdout",
     "output_type": "stream",
     "text": [
      "test sampler None\n"
     ]
    },
    {
     "data": {
      "application/vnd.jupyter.widget-view+json": {
       "model_id": "0328e31230284c528b367bc2aea96505",
       "version_major": 2,
       "version_minor": 0
      },
      "text/plain": [
       "Testing: |          | 0/? [00:00<?, ?it/s]"
      ]
     },
     "metadata": {},
     "output_type": "display_data"
    },
    {
     "name": "stdout",
     "output_type": "stream",
     "text": [
      "test_step\n",
      "test_step\n",
      "test_step\n",
      "test_step\n",
      "test_step\n",
      "test_step\n",
      "test_step\n",
      "test_step\n",
      "test_step\n",
      "test_step\n",
      "test_step\n",
      "test_step\n",
      "test_step\n",
      "test_step\n",
      "test_step\n",
      "test_step\n",
      "test_step\n",
      "test_step\n",
      "test_step\n",
      "test_step\n",
      "test_step\n"
     ]
    },
    {
     "data": {
      "text/html": [
       "<pre style=\"white-space:pre;overflow-x:auto;line-height:normal;font-family:Menlo,'DejaVu Sans Mono',consolas,'Courier New',monospace\">┏━━━━━━━━━━━━━━━━━━━━━━━━━━━━━━━━━━━━━━━━━━━━━━━┳━━━━━━━━━━━━━━━━━━━━━━━━━━━━━━━━━━━━━━━━━━━━━━━┓\n",
       "┃<span style=\"font-weight: bold\">                  Test metric                  </span>┃<span style=\"font-weight: bold\">                 DataLoader 0                  </span>┃\n",
       "┡━━━━━━━━━━━━━━━━━━━━━━━━━━━━━━━━━━━━━━━━━━━━━━━╇━━━━━━━━━━━━━━━━━━━━━━━━━━━━━━━━━━━━━━━━━━━━━━━┩\n",
       "│<span style=\"color: #008080; text-decoration-color: #008080\">              val_Regressor/NRMSE              </span>│<span style=\"color: #800080; text-decoration-color: #800080\">              0.35697465895530434              </span>│\n",
       "│<span style=\"color: #008080; text-decoration-color: #008080\">               val_Regressor/R2                </span>│<span style=\"color: #800080; text-decoration-color: #800080\">              0.01091425266929913              </span>│\n",
       "│<span style=\"color: #008080; text-decoration-color: #008080\">           val_Regressor/concordance           </span>│<span style=\"color: #800080; text-decoration-color: #800080\">              0.04907842553967645              </span>│\n",
       "│<span style=\"color: #008080; text-decoration-color: #008080\">               val_Regressor/mae               </span>│<span style=\"color: #800080; text-decoration-color: #800080\">               3.190852375193776               </span>│\n",
       "│<span style=\"color: #008080; text-decoration-color: #008080\">               val_Regressor/mse               </span>│<span style=\"color: #800080; text-decoration-color: #800080\">              14.823411470349537               </span>│\n",
       "│<span style=\"color: #008080; text-decoration-color: #008080\">         val_Regressor/subject_iqr_iqr         </span>│<span style=\"color: #800080; text-decoration-color: #800080\">              0.30793872475624084              </span>│\n",
       "│<span style=\"color: #008080; text-decoration-color: #008080\">        val_Regressor/subject_iqr_mean         </span>│<span style=\"color: #800080; text-decoration-color: #800080\">              0.9128612279891968               </span>│\n",
       "│<span style=\"color: #008080; text-decoration-color: #008080\">       val_Regressor/subject_iqr_median        </span>│<span style=\"color: #800080; text-decoration-color: #800080\">               0.871960461139679               </span>│\n",
       "│<span style=\"color: #008080; text-decoration-color: #008080\">         val_Regressor/subject_iqr_std         </span>│<span style=\"color: #800080; text-decoration-color: #800080\">               0.269711971282959               </span>│\n",
       "│<span style=\"color: #008080; text-decoration-color: #008080\">         val_Regressor/subject_std_iqr         </span>│<span style=\"color: #800080; text-decoration-color: #800080\">              0.20214545726776123              </span>│\n",
       "│<span style=\"color: #008080; text-decoration-color: #008080\">        val_Regressor/subject_std_mean         </span>│<span style=\"color: #800080; text-decoration-color: #800080\">              0.6869246363639832               </span>│\n",
       "│<span style=\"color: #008080; text-decoration-color: #008080\">       val_Regressor/subject_std_median        </span>│<span style=\"color: #800080; text-decoration-color: #800080\">              0.6668659448623657               </span>│\n",
       "│<span style=\"color: #008080; text-decoration-color: #008080\">         val_Regressor/subject_std_std         </span>│<span style=\"color: #800080; text-decoration-color: #800080\">              0.14338132739067078              </span>│\n",
       "│<span style=\"color: #008080; text-decoration-color: #008080\">     val_Regressor/subject_with_mean_NRMSE     </span>│<span style=\"color: #800080; text-decoration-color: #800080\">              0.3447137398049294               </span>│\n",
       "│<span style=\"color: #008080; text-decoration-color: #008080\">      val_Regressor/subject_with_mean_R2       </span>│<span style=\"color: #800080; text-decoration-color: #800080\">             0.041805315528983145              </span>│\n",
       "│<span style=\"color: #008080; text-decoration-color: #008080\">  val_Regressor/subject_with_mean_concordance  </span>│<span style=\"color: #800080; text-decoration-color: #800080\">              0.04947137613163709              </span>│\n",
       "│<span style=\"color: #008080; text-decoration-color: #008080\">      val_Regressor/subject_with_mean_mae      </span>│<span style=\"color: #800080; text-decoration-color: #800080\">               3.094459853473427               </span>│\n",
       "│<span style=\"color: #008080; text-decoration-color: #008080\">      val_Regressor/subject_with_mean_mse      </span>│<span style=\"color: #800080; text-decoration-color: #800080\">              13.701255182324147               </span>│\n",
       "│<span style=\"color: #008080; text-decoration-color: #008080\">    val_Regressor/subject_with_median_NRMSE    </span>│<span style=\"color: #800080; text-decoration-color: #800080\">              0.3458302297595584               </span>│\n",
       "│<span style=\"color: #008080; text-decoration-color: #008080\">     val_Regressor/subject_with_median_R2      </span>│<span style=\"color: #800080; text-decoration-color: #800080\">              0.03558828892228649              </span>│\n",
       "│<span style=\"color: #008080; text-decoration-color: #008080\"> val_Regressor/subject_with_median_concordance </span>│<span style=\"color: #800080; text-decoration-color: #800080\">              0.04421832828446011              </span>│\n",
       "│<span style=\"color: #008080; text-decoration-color: #008080\">     val_Regressor/subject_with_median_mae     </span>│<span style=\"color: #800080; text-decoration-color: #800080\">              3.1126704490473274               </span>│\n",
       "│<span style=\"color: #008080; text-decoration-color: #008080\">     val_Regressor/subject_with_median_mse     </span>│<span style=\"color: #800080; text-decoration-color: #800080\">              13.790152636457567               </span>│\n",
       "│<span style=\"color: #008080; text-decoration-color: #008080\">                val_loss_epoch                 </span>│<span style=\"color: #800080; text-decoration-color: #800080\">             0.0034747819881886244             </span>│\n",
       "└───────────────────────────────────────────────┴───────────────────────────────────────────────┘\n",
       "</pre>\n"
      ],
      "text/plain": [
       "┏━━━━━━━━━━━━━━━━━━━━━━━━━━━━━━━━━━━━━━━━━━━━━━━┳━━━━━━━━━━━━━━━━━━━━━━━━━━━━━━━━━━━━━━━━━━━━━━━┓\n",
       "┃\u001b[1m \u001b[0m\u001b[1m                 Test metric                 \u001b[0m\u001b[1m \u001b[0m┃\u001b[1m \u001b[0m\u001b[1m                DataLoader 0                 \u001b[0m\u001b[1m \u001b[0m┃\n",
       "┡━━━━━━━━━━━━━━━━━━━━━━━━━━━━━━━━━━━━━━━━━━━━━━━╇━━━━━━━━━━━━━━━━━━━━━━━━━━━━━━━━━━━━━━━━━━━━━━━┩\n",
       "│\u001b[36m \u001b[0m\u001b[36m             val_Regressor/NRMSE             \u001b[0m\u001b[36m \u001b[0m│\u001b[35m \u001b[0m\u001b[35m             0.35697465895530434             \u001b[0m\u001b[35m \u001b[0m│\n",
       "│\u001b[36m \u001b[0m\u001b[36m              val_Regressor/R2               \u001b[0m\u001b[36m \u001b[0m│\u001b[35m \u001b[0m\u001b[35m             0.01091425266929913             \u001b[0m\u001b[35m \u001b[0m│\n",
       "│\u001b[36m \u001b[0m\u001b[36m          val_Regressor/concordance          \u001b[0m\u001b[36m \u001b[0m│\u001b[35m \u001b[0m\u001b[35m             0.04907842553967645             \u001b[0m\u001b[35m \u001b[0m│\n",
       "│\u001b[36m \u001b[0m\u001b[36m              val_Regressor/mae              \u001b[0m\u001b[36m \u001b[0m│\u001b[35m \u001b[0m\u001b[35m              3.190852375193776              \u001b[0m\u001b[35m \u001b[0m│\n",
       "│\u001b[36m \u001b[0m\u001b[36m              val_Regressor/mse              \u001b[0m\u001b[36m \u001b[0m│\u001b[35m \u001b[0m\u001b[35m             14.823411470349537              \u001b[0m\u001b[35m \u001b[0m│\n",
       "│\u001b[36m \u001b[0m\u001b[36m        val_Regressor/subject_iqr_iqr        \u001b[0m\u001b[36m \u001b[0m│\u001b[35m \u001b[0m\u001b[35m             0.30793872475624084             \u001b[0m\u001b[35m \u001b[0m│\n",
       "│\u001b[36m \u001b[0m\u001b[36m       val_Regressor/subject_iqr_mean        \u001b[0m\u001b[36m \u001b[0m│\u001b[35m \u001b[0m\u001b[35m             0.9128612279891968              \u001b[0m\u001b[35m \u001b[0m│\n",
       "│\u001b[36m \u001b[0m\u001b[36m      val_Regressor/subject_iqr_median       \u001b[0m\u001b[36m \u001b[0m│\u001b[35m \u001b[0m\u001b[35m              0.871960461139679              \u001b[0m\u001b[35m \u001b[0m│\n",
       "│\u001b[36m \u001b[0m\u001b[36m        val_Regressor/subject_iqr_std        \u001b[0m\u001b[36m \u001b[0m│\u001b[35m \u001b[0m\u001b[35m              0.269711971282959              \u001b[0m\u001b[35m \u001b[0m│\n",
       "│\u001b[36m \u001b[0m\u001b[36m        val_Regressor/subject_std_iqr        \u001b[0m\u001b[36m \u001b[0m│\u001b[35m \u001b[0m\u001b[35m             0.20214545726776123             \u001b[0m\u001b[35m \u001b[0m│\n",
       "│\u001b[36m \u001b[0m\u001b[36m       val_Regressor/subject_std_mean        \u001b[0m\u001b[36m \u001b[0m│\u001b[35m \u001b[0m\u001b[35m             0.6869246363639832              \u001b[0m\u001b[35m \u001b[0m│\n",
       "│\u001b[36m \u001b[0m\u001b[36m      val_Regressor/subject_std_median       \u001b[0m\u001b[36m \u001b[0m│\u001b[35m \u001b[0m\u001b[35m             0.6668659448623657              \u001b[0m\u001b[35m \u001b[0m│\n",
       "│\u001b[36m \u001b[0m\u001b[36m        val_Regressor/subject_std_std        \u001b[0m\u001b[36m \u001b[0m│\u001b[35m \u001b[0m\u001b[35m             0.14338132739067078             \u001b[0m\u001b[35m \u001b[0m│\n",
       "│\u001b[36m \u001b[0m\u001b[36m    val_Regressor/subject_with_mean_NRMSE    \u001b[0m\u001b[36m \u001b[0m│\u001b[35m \u001b[0m\u001b[35m             0.3447137398049294              \u001b[0m\u001b[35m \u001b[0m│\n",
       "│\u001b[36m \u001b[0m\u001b[36m     val_Regressor/subject_with_mean_R2      \u001b[0m\u001b[36m \u001b[0m│\u001b[35m \u001b[0m\u001b[35m            0.041805315528983145             \u001b[0m\u001b[35m \u001b[0m│\n",
       "│\u001b[36m \u001b[0m\u001b[36m val_Regressor/subject_with_mean_concordance \u001b[0m\u001b[36m \u001b[0m│\u001b[35m \u001b[0m\u001b[35m             0.04947137613163709             \u001b[0m\u001b[35m \u001b[0m│\n",
       "│\u001b[36m \u001b[0m\u001b[36m     val_Regressor/subject_with_mean_mae     \u001b[0m\u001b[36m \u001b[0m│\u001b[35m \u001b[0m\u001b[35m              3.094459853473427              \u001b[0m\u001b[35m \u001b[0m│\n",
       "│\u001b[36m \u001b[0m\u001b[36m     val_Regressor/subject_with_mean_mse     \u001b[0m\u001b[36m \u001b[0m│\u001b[35m \u001b[0m\u001b[35m             13.701255182324147              \u001b[0m\u001b[35m \u001b[0m│\n",
       "│\u001b[36m \u001b[0m\u001b[36m   val_Regressor/subject_with_median_NRMSE   \u001b[0m\u001b[36m \u001b[0m│\u001b[35m \u001b[0m\u001b[35m             0.3458302297595584              \u001b[0m\u001b[35m \u001b[0m│\n",
       "│\u001b[36m \u001b[0m\u001b[36m    val_Regressor/subject_with_median_R2     \u001b[0m\u001b[36m \u001b[0m│\u001b[35m \u001b[0m\u001b[35m             0.03558828892228649             \u001b[0m\u001b[35m \u001b[0m│\n",
       "│\u001b[36m \u001b[0m\u001b[36mval_Regressor/subject_with_median_concordance\u001b[0m\u001b[36m \u001b[0m│\u001b[35m \u001b[0m\u001b[35m             0.04421832828446011             \u001b[0m\u001b[35m \u001b[0m│\n",
       "│\u001b[36m \u001b[0m\u001b[36m    val_Regressor/subject_with_median_mae    \u001b[0m\u001b[36m \u001b[0m│\u001b[35m \u001b[0m\u001b[35m             3.1126704490473274              \u001b[0m\u001b[35m \u001b[0m│\n",
       "│\u001b[36m \u001b[0m\u001b[36m    val_Regressor/subject_with_median_mse    \u001b[0m\u001b[36m \u001b[0m│\u001b[35m \u001b[0m\u001b[35m             13.790152636457567              \u001b[0m\u001b[35m \u001b[0m│\n",
       "│\u001b[36m \u001b[0m\u001b[36m               val_loss_epoch                \u001b[0m\u001b[36m \u001b[0m│\u001b[35m \u001b[0m\u001b[35m            0.0034747819881886244            \u001b[0m\u001b[35m \u001b[0m│\n",
       "└───────────────────────────────────────────────┴───────────────────────────────────────────────┘\n"
      ]
     },
     "metadata": {},
     "output_type": "display_data"
    },
    {
     "name": "stdout",
     "output_type": "stream",
     "text": [
      "Loading model from artifacts/model-3k5y24ev:v6/model.ckpt...\n",
      "Using datasets: ['ds005505', 'ds005506', 'ds005507', 'ds005508', 'ds005509', 'ds005511', 'ds005512', 'ds005514', 'ds005515', 'ds005516']\n",
      "Validation release: ds005505\n",
      "Test release: ds005510\n"
     ]
    },
    {
     "name": "stderr",
     "output_type": "stream",
     "text": [
      "Restoring states from the checkpoint path at artifacts/model-3k5y24ev:v6/model.ckpt\n",
      "/home/dung/eeg-ssl/.venv/lib/python3.10/site-packages/lightning/pytorch/trainer/call.py:277: Be aware that when using `ckpt_path`, callbacks used to create the checkpoint need to be provided during `Trainer` instantiation. Please add the following callbacks: [\"ModelCheckpoint{'monitor': None, 'mode': 'min', 'every_n_train_steps': 0, 'every_n_epochs': 3, 'train_time_interval': None}\"].\n",
      "LOCAL_RANK: 0 - CUDA_VISIBLE_DEVICES: [0]\n",
      "Loaded model weights from the checkpoint at artifacts/model-3k5y24ev:v6/model.ckpt\n"
     ]
    },
    {
     "name": "stdout",
     "output_type": "stream",
     "text": [
      "test sampler None\n"
     ]
    },
    {
     "data": {
      "application/vnd.jupyter.widget-view+json": {
       "model_id": "5f773eed77db460fb88efbed4bbc0493",
       "version_major": 2,
       "version_minor": 0
      },
      "text/plain": [
       "Testing: |          | 0/? [00:00<?, ?it/s]"
      ]
     },
     "metadata": {},
     "output_type": "display_data"
    },
    {
     "name": "stdout",
     "output_type": "stream",
     "text": [
      "test_step\n",
      "test_step\n",
      "test_step\n",
      "test_step\n",
      "test_step\n",
      "test_step\n",
      "test_step\n",
      "test_step\n",
      "test_step\n",
      "test_step\n",
      "test_step\n",
      "test_step\n",
      "test_step\n",
      "test_step\n",
      "test_step\n",
      "test_step\n",
      "test_step\n",
      "test_step\n",
      "test_step\n",
      "test_step\n",
      "test_step\n"
     ]
    },
    {
     "data": {
      "text/html": [
       "<pre style=\"white-space:pre;overflow-x:auto;line-height:normal;font-family:Menlo,'DejaVu Sans Mono',consolas,'Courier New',monospace\">┏━━━━━━━━━━━━━━━━━━━━━━━━━━━━━━━━━━━━━━━━━━━━━━━┳━━━━━━━━━━━━━━━━━━━━━━━━━━━━━━━━━━━━━━━━━━━━━━━┓\n",
       "┃<span style=\"font-weight: bold\">                  Test metric                  </span>┃<span style=\"font-weight: bold\">                 DataLoader 0                  </span>┃\n",
       "┡━━━━━━━━━━━━━━━━━━━━━━━━━━━━━━━━━━━━━━━━━━━━━━━╇━━━━━━━━━━━━━━━━━━━━━━━━━━━━━━━━━━━━━━━━━━━━━━━┩\n",
       "│<span style=\"color: #008080; text-decoration-color: #008080\">              val_Regressor/NRMSE              </span>│<span style=\"color: #800080; text-decoration-color: #800080\">              0.3572245303184188               </span>│\n",
       "│<span style=\"color: #008080; text-decoration-color: #008080\">               val_Regressor/R2                </span>│<span style=\"color: #800080; text-decoration-color: #800080\">             0.009529108405306186              </span>│\n",
       "│<span style=\"color: #008080; text-decoration-color: #008080\">           val_Regressor/concordance           </span>│<span style=\"color: #800080; text-decoration-color: #800080\">              0.04522458327045801              </span>│\n",
       "│<span style=\"color: #008080; text-decoration-color: #008080\">               val_Regressor/mae               </span>│<span style=\"color: #800080; text-decoration-color: #800080\">              3.1886233937027746               </span>│\n",
       "│<span style=\"color: #008080; text-decoration-color: #008080\">               val_Regressor/mse               </span>│<span style=\"color: #800080; text-decoration-color: #800080\">              14.844170604152016               </span>│\n",
       "│<span style=\"color: #008080; text-decoration-color: #008080\">         val_Regressor/subject_iqr_iqr         </span>│<span style=\"color: #800080; text-decoration-color: #800080\">              0.37709057331085205              </span>│\n",
       "│<span style=\"color: #008080; text-decoration-color: #008080\">        val_Regressor/subject_iqr_mean         </span>│<span style=\"color: #800080; text-decoration-color: #800080\">              0.8448780179023743               </span>│\n",
       "│<span style=\"color: #008080; text-decoration-color: #008080\">       val_Regressor/subject_iqr_median        </span>│<span style=\"color: #800080; text-decoration-color: #800080\">              0.8322427272796631               </span>│\n",
       "│<span style=\"color: #008080; text-decoration-color: #008080\">         val_Regressor/subject_iqr_std         </span>│<span style=\"color: #800080; text-decoration-color: #800080\">              0.2690316140651703               </span>│\n",
       "│<span style=\"color: #008080; text-decoration-color: #008080\">         val_Regressor/subject_std_iqr         </span>│<span style=\"color: #800080; text-decoration-color: #800080\">              0.19250468909740448              </span>│\n",
       "│<span style=\"color: #008080; text-decoration-color: #008080\">        val_Regressor/subject_std_mean         </span>│<span style=\"color: #800080; text-decoration-color: #800080\">              0.6635162234306335               </span>│\n",
       "│<span style=\"color: #008080; text-decoration-color: #008080\">       val_Regressor/subject_std_median        </span>│<span style=\"color: #800080; text-decoration-color: #800080\">              0.6518614888191223               </span>│\n",
       "│<span style=\"color: #008080; text-decoration-color: #008080\">         val_Regressor/subject_std_std         </span>│<span style=\"color: #800080; text-decoration-color: #800080\">              0.16208873689174652              </span>│\n",
       "│<span style=\"color: #008080; text-decoration-color: #008080\">     val_Regressor/subject_with_mean_NRMSE     </span>│<span style=\"color: #800080; text-decoration-color: #800080\">              0.3454364204348542               </span>│\n",
       "│<span style=\"color: #008080; text-decoration-color: #008080\">      val_Regressor/subject_with_mean_R2       </span>│<span style=\"color: #800080; text-decoration-color: #800080\">              0.03778345897557844              </span>│\n",
       "│<span style=\"color: #008080; text-decoration-color: #008080\">  val_Regressor/subject_with_mean_concordance  </span>│<span style=\"color: #800080; text-decoration-color: #800080\">             0.044406746272944844              </span>│\n",
       "│<span style=\"color: #008080; text-decoration-color: #008080\">      val_Regressor/subject_with_mean_mae      </span>│<span style=\"color: #800080; text-decoration-color: #800080\">               3.094998922421591               </span>│\n",
       "│<span style=\"color: #008080; text-decoration-color: #008080\">      val_Regressor/subject_with_mean_mse      </span>│<span style=\"color: #800080; text-decoration-color: #800080\">              13.758763832536834               </span>│\n",
       "│<span style=\"color: #008080; text-decoration-color: #008080\">    val_Regressor/subject_with_median_NRMSE    </span>│<span style=\"color: #800080; text-decoration-color: #800080\">              0.34641404772305356              </span>│\n",
       "│<span style=\"color: #008080; text-decoration-color: #008080\">     val_Regressor/subject_with_median_R2      </span>│<span style=\"color: #800080; text-decoration-color: #800080\">              0.0323293711923347               </span>│\n",
       "│<span style=\"color: #008080; text-decoration-color: #008080\"> val_Regressor/subject_with_median_concordance </span>│<span style=\"color: #800080; text-decoration-color: #800080\">             0.040389566584074076              </span>│\n",
       "│<span style=\"color: #008080; text-decoration-color: #008080\">     val_Regressor/subject_with_median_mae     </span>│<span style=\"color: #800080; text-decoration-color: #800080\">               3.107550823521848               </span>│\n",
       "│<span style=\"color: #008080; text-decoration-color: #008080\">     val_Regressor/subject_with_median_mse     </span>│<span style=\"color: #800080; text-decoration-color: #800080\">               13.83675200103338               </span>│\n",
       "│<span style=\"color: #008080; text-decoration-color: #008080\">                val_loss_epoch                 </span>│<span style=\"color: #800080; text-decoration-color: #800080\">             0.0026544551365077496             </span>│\n",
       "└───────────────────────────────────────────────┴───────────────────────────────────────────────┘\n",
       "</pre>\n"
      ],
      "text/plain": [
       "┏━━━━━━━━━━━━━━━━━━━━━━━━━━━━━━━━━━━━━━━━━━━━━━━┳━━━━━━━━━━━━━━━━━━━━━━━━━━━━━━━━━━━━━━━━━━━━━━━┓\n",
       "┃\u001b[1m \u001b[0m\u001b[1m                 Test metric                 \u001b[0m\u001b[1m \u001b[0m┃\u001b[1m \u001b[0m\u001b[1m                DataLoader 0                 \u001b[0m\u001b[1m \u001b[0m┃\n",
       "┡━━━━━━━━━━━━━━━━━━━━━━━━━━━━━━━━━━━━━━━━━━━━━━━╇━━━━━━━━━━━━━━━━━━━━━━━━━━━━━━━━━━━━━━━━━━━━━━━┩\n",
       "│\u001b[36m \u001b[0m\u001b[36m             val_Regressor/NRMSE             \u001b[0m\u001b[36m \u001b[0m│\u001b[35m \u001b[0m\u001b[35m             0.3572245303184188              \u001b[0m\u001b[35m \u001b[0m│\n",
       "│\u001b[36m \u001b[0m\u001b[36m              val_Regressor/R2               \u001b[0m\u001b[36m \u001b[0m│\u001b[35m \u001b[0m\u001b[35m            0.009529108405306186             \u001b[0m\u001b[35m \u001b[0m│\n",
       "│\u001b[36m \u001b[0m\u001b[36m          val_Regressor/concordance          \u001b[0m\u001b[36m \u001b[0m│\u001b[35m \u001b[0m\u001b[35m             0.04522458327045801             \u001b[0m\u001b[35m \u001b[0m│\n",
       "│\u001b[36m \u001b[0m\u001b[36m              val_Regressor/mae              \u001b[0m\u001b[36m \u001b[0m│\u001b[35m \u001b[0m\u001b[35m             3.1886233937027746              \u001b[0m\u001b[35m \u001b[0m│\n",
       "│\u001b[36m \u001b[0m\u001b[36m              val_Regressor/mse              \u001b[0m\u001b[36m \u001b[0m│\u001b[35m \u001b[0m\u001b[35m             14.844170604152016              \u001b[0m\u001b[35m \u001b[0m│\n",
       "│\u001b[36m \u001b[0m\u001b[36m        val_Regressor/subject_iqr_iqr        \u001b[0m\u001b[36m \u001b[0m│\u001b[35m \u001b[0m\u001b[35m             0.37709057331085205             \u001b[0m\u001b[35m \u001b[0m│\n",
       "│\u001b[36m \u001b[0m\u001b[36m       val_Regressor/subject_iqr_mean        \u001b[0m\u001b[36m \u001b[0m│\u001b[35m \u001b[0m\u001b[35m             0.8448780179023743              \u001b[0m\u001b[35m \u001b[0m│\n",
       "│\u001b[36m \u001b[0m\u001b[36m      val_Regressor/subject_iqr_median       \u001b[0m\u001b[36m \u001b[0m│\u001b[35m \u001b[0m\u001b[35m             0.8322427272796631              \u001b[0m\u001b[35m \u001b[0m│\n",
       "│\u001b[36m \u001b[0m\u001b[36m        val_Regressor/subject_iqr_std        \u001b[0m\u001b[36m \u001b[0m│\u001b[35m \u001b[0m\u001b[35m             0.2690316140651703              \u001b[0m\u001b[35m \u001b[0m│\n",
       "│\u001b[36m \u001b[0m\u001b[36m        val_Regressor/subject_std_iqr        \u001b[0m\u001b[36m \u001b[0m│\u001b[35m \u001b[0m\u001b[35m             0.19250468909740448             \u001b[0m\u001b[35m \u001b[0m│\n",
       "│\u001b[36m \u001b[0m\u001b[36m       val_Regressor/subject_std_mean        \u001b[0m\u001b[36m \u001b[0m│\u001b[35m \u001b[0m\u001b[35m             0.6635162234306335              \u001b[0m\u001b[35m \u001b[0m│\n",
       "│\u001b[36m \u001b[0m\u001b[36m      val_Regressor/subject_std_median       \u001b[0m\u001b[36m \u001b[0m│\u001b[35m \u001b[0m\u001b[35m             0.6518614888191223              \u001b[0m\u001b[35m \u001b[0m│\n",
       "│\u001b[36m \u001b[0m\u001b[36m        val_Regressor/subject_std_std        \u001b[0m\u001b[36m \u001b[0m│\u001b[35m \u001b[0m\u001b[35m             0.16208873689174652             \u001b[0m\u001b[35m \u001b[0m│\n",
       "│\u001b[36m \u001b[0m\u001b[36m    val_Regressor/subject_with_mean_NRMSE    \u001b[0m\u001b[36m \u001b[0m│\u001b[35m \u001b[0m\u001b[35m             0.3454364204348542              \u001b[0m\u001b[35m \u001b[0m│\n",
       "│\u001b[36m \u001b[0m\u001b[36m     val_Regressor/subject_with_mean_R2      \u001b[0m\u001b[36m \u001b[0m│\u001b[35m \u001b[0m\u001b[35m             0.03778345897557844             \u001b[0m\u001b[35m \u001b[0m│\n",
       "│\u001b[36m \u001b[0m\u001b[36m val_Regressor/subject_with_mean_concordance \u001b[0m\u001b[36m \u001b[0m│\u001b[35m \u001b[0m\u001b[35m            0.044406746272944844             \u001b[0m\u001b[35m \u001b[0m│\n",
       "│\u001b[36m \u001b[0m\u001b[36m     val_Regressor/subject_with_mean_mae     \u001b[0m\u001b[36m \u001b[0m│\u001b[35m \u001b[0m\u001b[35m              3.094998922421591              \u001b[0m\u001b[35m \u001b[0m│\n",
       "│\u001b[36m \u001b[0m\u001b[36m     val_Regressor/subject_with_mean_mse     \u001b[0m\u001b[36m \u001b[0m│\u001b[35m \u001b[0m\u001b[35m             13.758763832536834              \u001b[0m\u001b[35m \u001b[0m│\n",
       "│\u001b[36m \u001b[0m\u001b[36m   val_Regressor/subject_with_median_NRMSE   \u001b[0m\u001b[36m \u001b[0m│\u001b[35m \u001b[0m\u001b[35m             0.34641404772305356             \u001b[0m\u001b[35m \u001b[0m│\n",
       "│\u001b[36m \u001b[0m\u001b[36m    val_Regressor/subject_with_median_R2     \u001b[0m\u001b[36m \u001b[0m│\u001b[35m \u001b[0m\u001b[35m             0.0323293711923347              \u001b[0m\u001b[35m \u001b[0m│\n",
       "│\u001b[36m \u001b[0m\u001b[36mval_Regressor/subject_with_median_concordance\u001b[0m\u001b[36m \u001b[0m│\u001b[35m \u001b[0m\u001b[35m            0.040389566584074076             \u001b[0m\u001b[35m \u001b[0m│\n",
       "│\u001b[36m \u001b[0m\u001b[36m    val_Regressor/subject_with_median_mae    \u001b[0m\u001b[36m \u001b[0m│\u001b[35m \u001b[0m\u001b[35m              3.107550823521848              \u001b[0m\u001b[35m \u001b[0m│\n",
       "│\u001b[36m \u001b[0m\u001b[36m    val_Regressor/subject_with_median_mse    \u001b[0m\u001b[36m \u001b[0m│\u001b[35m \u001b[0m\u001b[35m              13.83675200103338              \u001b[0m\u001b[35m \u001b[0m│\n",
       "│\u001b[36m \u001b[0m\u001b[36m               val_loss_epoch                \u001b[0m\u001b[36m \u001b[0m│\u001b[35m \u001b[0m\u001b[35m            0.0026544551365077496            \u001b[0m\u001b[35m \u001b[0m│\n",
       "└───────────────────────────────────────────────┴───────────────────────────────────────────────┘\n"
      ]
     },
     "metadata": {},
     "output_type": "display_data"
    },
    {
     "name": "stdout",
     "output_type": "stream",
     "text": [
      "Loading model from artifacts/model-3k5y24ev:v7/model.ckpt...\n",
      "Using datasets: ['ds005505', 'ds005506', 'ds005507', 'ds005508', 'ds005509', 'ds005511', 'ds005512', 'ds005514', 'ds005515', 'ds005516']\n",
      "Validation release: ds005505\n",
      "Test release: ds005510\n"
     ]
    },
    {
     "name": "stderr",
     "output_type": "stream",
     "text": [
      "Restoring states from the checkpoint path at artifacts/model-3k5y24ev:v7/model.ckpt\n",
      "/home/dung/eeg-ssl/.venv/lib/python3.10/site-packages/lightning/pytorch/trainer/call.py:277: Be aware that when using `ckpt_path`, callbacks used to create the checkpoint need to be provided during `Trainer` instantiation. Please add the following callbacks: [\"ModelCheckpoint{'monitor': None, 'mode': 'min', 'every_n_train_steps': 0, 'every_n_epochs': 3, 'train_time_interval': None}\"].\n",
      "LOCAL_RANK: 0 - CUDA_VISIBLE_DEVICES: [0]\n",
      "Loaded model weights from the checkpoint at artifacts/model-3k5y24ev:v7/model.ckpt\n"
     ]
    },
    {
     "name": "stdout",
     "output_type": "stream",
     "text": [
      "test sampler None\n"
     ]
    },
    {
     "data": {
      "application/vnd.jupyter.widget-view+json": {
       "model_id": "378fa315ebfa4087adaa2a8a4490ddd9",
       "version_major": 2,
       "version_minor": 0
      },
      "text/plain": [
       "Testing: |          | 0/? [00:00<?, ?it/s]"
      ]
     },
     "metadata": {},
     "output_type": "display_data"
    },
    {
     "name": "stdout",
     "output_type": "stream",
     "text": [
      "test_step\n",
      "test_step\n",
      "test_step\n",
      "test_step\n",
      "test_step\n",
      "test_step\n",
      "test_step\n",
      "test_step\n",
      "test_step\n",
      "test_step\n",
      "test_step\n",
      "test_step\n",
      "test_step\n",
      "test_step\n",
      "test_step\n",
      "test_step\n",
      "test_step\n",
      "test_step\n",
      "test_step\n",
      "test_step\n",
      "test_step\n"
     ]
    },
    {
     "data": {
      "text/html": [
       "<pre style=\"white-space:pre;overflow-x:auto;line-height:normal;font-family:Menlo,'DejaVu Sans Mono',consolas,'Courier New',monospace\">┏━━━━━━━━━━━━━━━━━━━━━━━━━━━━━━━━━━━━━━━━━━━━━━━┳━━━━━━━━━━━━━━━━━━━━━━━━━━━━━━━━━━━━━━━━━━━━━━━┓\n",
       "┃<span style=\"font-weight: bold\">                  Test metric                  </span>┃<span style=\"font-weight: bold\">                 DataLoader 0                  </span>┃\n",
       "┡━━━━━━━━━━━━━━━━━━━━━━━━━━━━━━━━━━━━━━━━━━━━━━━╇━━━━━━━━━━━━━━━━━━━━━━━━━━━━━━━━━━━━━━━━━━━━━━━┩\n",
       "│<span style=\"color: #008080; text-decoration-color: #008080\">              val_Regressor/NRMSE              </span>│<span style=\"color: #800080; text-decoration-color: #800080\">              0.3571089695506462               </span>│\n",
       "│<span style=\"color: #008080; text-decoration-color: #008080\">               val_Regressor/R2                </span>│<span style=\"color: #800080; text-decoration-color: #800080\">             0.010169831834739629              </span>│\n",
       "│<span style=\"color: #008080; text-decoration-color: #008080\">           val_Regressor/concordance           </span>│<span style=\"color: #800080; text-decoration-color: #800080\">              0.06538472759386978              </span>│\n",
       "│<span style=\"color: #008080; text-decoration-color: #008080\">               val_Regressor/mae               </span>│<span style=\"color: #800080; text-decoration-color: #800080\">              3.1794869755582202               </span>│\n",
       "│<span style=\"color: #008080; text-decoration-color: #008080\">               val_Regressor/mse               </span>│<span style=\"color: #800080; text-decoration-color: #800080\">              14.834568092884597               </span>│\n",
       "│<span style=\"color: #008080; text-decoration-color: #008080\">         val_Regressor/subject_iqr_iqr         </span>│<span style=\"color: #800080; text-decoration-color: #800080\">              0.3573724925518036               </span>│\n",
       "│<span style=\"color: #008080; text-decoration-color: #008080\">        val_Regressor/subject_iqr_mean         </span>│<span style=\"color: #800080; text-decoration-color: #800080\">              1.0624858140945435               </span>│\n",
       "│<span style=\"color: #008080; text-decoration-color: #008080\">       val_Regressor/subject_iqr_median        </span>│<span style=\"color: #800080; text-decoration-color: #800080\">               1.009055495262146               </span>│\n",
       "│<span style=\"color: #008080; text-decoration-color: #008080\">         val_Regressor/subject_iqr_std         </span>│<span style=\"color: #800080; text-decoration-color: #800080\">              0.33444544672966003              </span>│\n",
       "│<span style=\"color: #008080; text-decoration-color: #008080\">         val_Regressor/subject_std_iqr         </span>│<span style=\"color: #800080; text-decoration-color: #800080\">              0.2279895693063736               </span>│\n",
       "│<span style=\"color: #008080; text-decoration-color: #008080\">        val_Regressor/subject_std_mean         </span>│<span style=\"color: #800080; text-decoration-color: #800080\">              0.8513782620429993               </span>│\n",
       "│<span style=\"color: #008080; text-decoration-color: #008080\">       val_Regressor/subject_std_median        </span>│<span style=\"color: #800080; text-decoration-color: #800080\">              0.8263620138168335               </span>│\n",
       "│<span style=\"color: #008080; text-decoration-color: #008080\">         val_Regressor/subject_std_std         </span>│<span style=\"color: #800080; text-decoration-color: #800080\">              0.17756380140781403              </span>│\n",
       "│<span style=\"color: #008080; text-decoration-color: #008080\">     val_Regressor/subject_with_mean_NRMSE     </span>│<span style=\"color: #800080; text-decoration-color: #800080\">              0.3419412404421363               </span>│\n",
       "│<span style=\"color: #008080; text-decoration-color: #008080\">      val_Regressor/subject_with_mean_R2       </span>│<span style=\"color: #800080; text-decoration-color: #800080\">               0.057156666411323               </span>│\n",
       "│<span style=\"color: #008080; text-decoration-color: #008080\">  val_Regressor/subject_with_mean_concordance  </span>│<span style=\"color: #800080; text-decoration-color: #800080\">              0.0657076607631231               </span>│\n",
       "│<span style=\"color: #008080; text-decoration-color: #008080\">      val_Regressor/subject_with_mean_mae      </span>│<span style=\"color: #800080; text-decoration-color: #800080\">               3.068047290568195               </span>│\n",
       "│<span style=\"color: #008080; text-decoration-color: #008080\">      val_Regressor/subject_with_mean_mse      </span>│<span style=\"color: #800080; text-decoration-color: #800080\">              13.481745745211738               </span>│\n",
       "│<span style=\"color: #008080; text-decoration-color: #008080\">    val_Regressor/subject_with_median_NRMSE    </span>│<span style=\"color: #800080; text-decoration-color: #800080\">              0.33915770592660044              </span>│\n",
       "│<span style=\"color: #008080; text-decoration-color: #008080\">     val_Regressor/subject_with_median_R2      </span>│<span style=\"color: #800080; text-decoration-color: #800080\">              0.07244440994454038              </span>│\n",
       "│<span style=\"color: #008080; text-decoration-color: #008080\"> val_Regressor/subject_with_median_concordance </span>│<span style=\"color: #800080; text-decoration-color: #800080\">              0.0822747748593635               </span>│\n",
       "│<span style=\"color: #008080; text-decoration-color: #008080\">     val_Regressor/subject_with_median_mae     </span>│<span style=\"color: #800080; text-decoration-color: #800080\">              3.0415028485707456               </span>│\n",
       "│<span style=\"color: #008080; text-decoration-color: #008080\">     val_Regressor/subject_with_median_mse     </span>│<span style=\"color: #800080; text-decoration-color: #800080\">              13.263145831535352               </span>│\n",
       "│<span style=\"color: #008080; text-decoration-color: #008080\">                val_loss_epoch                 </span>│<span style=\"color: #800080; text-decoration-color: #800080\">              0.00371575471945107              </span>│\n",
       "└───────────────────────────────────────────────┴───────────────────────────────────────────────┘\n",
       "</pre>\n"
      ],
      "text/plain": [
       "┏━━━━━━━━━━━━━━━━━━━━━━━━━━━━━━━━━━━━━━━━━━━━━━━┳━━━━━━━━━━━━━━━━━━━━━━━━━━━━━━━━━━━━━━━━━━━━━━━┓\n",
       "┃\u001b[1m \u001b[0m\u001b[1m                 Test metric                 \u001b[0m\u001b[1m \u001b[0m┃\u001b[1m \u001b[0m\u001b[1m                DataLoader 0                 \u001b[0m\u001b[1m \u001b[0m┃\n",
       "┡━━━━━━━━━━━━━━━━━━━━━━━━━━━━━━━━━━━━━━━━━━━━━━━╇━━━━━━━━━━━━━━━━━━━━━━━━━━━━━━━━━━━━━━━━━━━━━━━┩\n",
       "│\u001b[36m \u001b[0m\u001b[36m             val_Regressor/NRMSE             \u001b[0m\u001b[36m \u001b[0m│\u001b[35m \u001b[0m\u001b[35m             0.3571089695506462              \u001b[0m\u001b[35m \u001b[0m│\n",
       "│\u001b[36m \u001b[0m\u001b[36m              val_Regressor/R2               \u001b[0m\u001b[36m \u001b[0m│\u001b[35m \u001b[0m\u001b[35m            0.010169831834739629             \u001b[0m\u001b[35m \u001b[0m│\n",
       "│\u001b[36m \u001b[0m\u001b[36m          val_Regressor/concordance          \u001b[0m\u001b[36m \u001b[0m│\u001b[35m \u001b[0m\u001b[35m             0.06538472759386978             \u001b[0m\u001b[35m \u001b[0m│\n",
       "│\u001b[36m \u001b[0m\u001b[36m              val_Regressor/mae              \u001b[0m\u001b[36m \u001b[0m│\u001b[35m \u001b[0m\u001b[35m             3.1794869755582202              \u001b[0m\u001b[35m \u001b[0m│\n",
       "│\u001b[36m \u001b[0m\u001b[36m              val_Regressor/mse              \u001b[0m\u001b[36m \u001b[0m│\u001b[35m \u001b[0m\u001b[35m             14.834568092884597              \u001b[0m\u001b[35m \u001b[0m│\n",
       "│\u001b[36m \u001b[0m\u001b[36m        val_Regressor/subject_iqr_iqr        \u001b[0m\u001b[36m \u001b[0m│\u001b[35m \u001b[0m\u001b[35m             0.3573724925518036              \u001b[0m\u001b[35m \u001b[0m│\n",
       "│\u001b[36m \u001b[0m\u001b[36m       val_Regressor/subject_iqr_mean        \u001b[0m\u001b[36m \u001b[0m│\u001b[35m \u001b[0m\u001b[35m             1.0624858140945435              \u001b[0m\u001b[35m \u001b[0m│\n",
       "│\u001b[36m \u001b[0m\u001b[36m      val_Regressor/subject_iqr_median       \u001b[0m\u001b[36m \u001b[0m│\u001b[35m \u001b[0m\u001b[35m              1.009055495262146              \u001b[0m\u001b[35m \u001b[0m│\n",
       "│\u001b[36m \u001b[0m\u001b[36m        val_Regressor/subject_iqr_std        \u001b[0m\u001b[36m \u001b[0m│\u001b[35m \u001b[0m\u001b[35m             0.33444544672966003             \u001b[0m\u001b[35m \u001b[0m│\n",
       "│\u001b[36m \u001b[0m\u001b[36m        val_Regressor/subject_std_iqr        \u001b[0m\u001b[36m \u001b[0m│\u001b[35m \u001b[0m\u001b[35m             0.2279895693063736              \u001b[0m\u001b[35m \u001b[0m│\n",
       "│\u001b[36m \u001b[0m\u001b[36m       val_Regressor/subject_std_mean        \u001b[0m\u001b[36m \u001b[0m│\u001b[35m \u001b[0m\u001b[35m             0.8513782620429993              \u001b[0m\u001b[35m \u001b[0m│\n",
       "│\u001b[36m \u001b[0m\u001b[36m      val_Regressor/subject_std_median       \u001b[0m\u001b[36m \u001b[0m│\u001b[35m \u001b[0m\u001b[35m             0.8263620138168335              \u001b[0m\u001b[35m \u001b[0m│\n",
       "│\u001b[36m \u001b[0m\u001b[36m        val_Regressor/subject_std_std        \u001b[0m\u001b[36m \u001b[0m│\u001b[35m \u001b[0m\u001b[35m             0.17756380140781403             \u001b[0m\u001b[35m \u001b[0m│\n",
       "│\u001b[36m \u001b[0m\u001b[36m    val_Regressor/subject_with_mean_NRMSE    \u001b[0m\u001b[36m \u001b[0m│\u001b[35m \u001b[0m\u001b[35m             0.3419412404421363              \u001b[0m\u001b[35m \u001b[0m│\n",
       "│\u001b[36m \u001b[0m\u001b[36m     val_Regressor/subject_with_mean_R2      \u001b[0m\u001b[36m \u001b[0m│\u001b[35m \u001b[0m\u001b[35m              0.057156666411323              \u001b[0m\u001b[35m \u001b[0m│\n",
       "│\u001b[36m \u001b[0m\u001b[36m val_Regressor/subject_with_mean_concordance \u001b[0m\u001b[36m \u001b[0m│\u001b[35m \u001b[0m\u001b[35m             0.0657076607631231              \u001b[0m\u001b[35m \u001b[0m│\n",
       "│\u001b[36m \u001b[0m\u001b[36m     val_Regressor/subject_with_mean_mae     \u001b[0m\u001b[36m \u001b[0m│\u001b[35m \u001b[0m\u001b[35m              3.068047290568195              \u001b[0m\u001b[35m \u001b[0m│\n",
       "│\u001b[36m \u001b[0m\u001b[36m     val_Regressor/subject_with_mean_mse     \u001b[0m\u001b[36m \u001b[0m│\u001b[35m \u001b[0m\u001b[35m             13.481745745211738              \u001b[0m\u001b[35m \u001b[0m│\n",
       "│\u001b[36m \u001b[0m\u001b[36m   val_Regressor/subject_with_median_NRMSE   \u001b[0m\u001b[36m \u001b[0m│\u001b[35m \u001b[0m\u001b[35m             0.33915770592660044             \u001b[0m\u001b[35m \u001b[0m│\n",
       "│\u001b[36m \u001b[0m\u001b[36m    val_Regressor/subject_with_median_R2     \u001b[0m\u001b[36m \u001b[0m│\u001b[35m \u001b[0m\u001b[35m             0.07244440994454038             \u001b[0m\u001b[35m \u001b[0m│\n",
       "│\u001b[36m \u001b[0m\u001b[36mval_Regressor/subject_with_median_concordance\u001b[0m\u001b[36m \u001b[0m│\u001b[35m \u001b[0m\u001b[35m             0.0822747748593635              \u001b[0m\u001b[35m \u001b[0m│\n",
       "│\u001b[36m \u001b[0m\u001b[36m    val_Regressor/subject_with_median_mae    \u001b[0m\u001b[36m \u001b[0m│\u001b[35m \u001b[0m\u001b[35m             3.0415028485707456              \u001b[0m\u001b[35m \u001b[0m│\n",
       "│\u001b[36m \u001b[0m\u001b[36m    val_Regressor/subject_with_median_mse    \u001b[0m\u001b[36m \u001b[0m│\u001b[35m \u001b[0m\u001b[35m             13.263145831535352              \u001b[0m\u001b[35m \u001b[0m│\n",
       "│\u001b[36m \u001b[0m\u001b[36m               val_loss_epoch                \u001b[0m\u001b[36m \u001b[0m│\u001b[35m \u001b[0m\u001b[35m             0.00371575471945107             \u001b[0m\u001b[35m \u001b[0m│\n",
       "└───────────────────────────────────────────────┴───────────────────────────────────────────────┘\n"
      ]
     },
     "metadata": {},
     "output_type": "display_data"
    },
    {
     "name": "stdout",
     "output_type": "stream",
     "text": [
      "Loading model from artifacts/model-3k5y24ev:v8/model.ckpt...\n",
      "Using datasets: ['ds005505', 'ds005506', 'ds005507', 'ds005508', 'ds005509', 'ds005511', 'ds005512', 'ds005514', 'ds005515', 'ds005516']\n",
      "Validation release: ds005505\n",
      "Test release: ds005510\n"
     ]
    },
    {
     "name": "stderr",
     "output_type": "stream",
     "text": [
      "Restoring states from the checkpoint path at artifacts/model-3k5y24ev:v8/model.ckpt\n",
      "/home/dung/eeg-ssl/.venv/lib/python3.10/site-packages/lightning/pytorch/trainer/call.py:277: Be aware that when using `ckpt_path`, callbacks used to create the checkpoint need to be provided during `Trainer` instantiation. Please add the following callbacks: [\"ModelCheckpoint{'monitor': None, 'mode': 'min', 'every_n_train_steps': 0, 'every_n_epochs': 3, 'train_time_interval': None}\"].\n",
      "LOCAL_RANK: 0 - CUDA_VISIBLE_DEVICES: [0]\n",
      "Loaded model weights from the checkpoint at artifacts/model-3k5y24ev:v8/model.ckpt\n"
     ]
    },
    {
     "name": "stdout",
     "output_type": "stream",
     "text": [
      "test sampler None\n"
     ]
    },
    {
     "data": {
      "application/vnd.jupyter.widget-view+json": {
       "model_id": "80c548f6ffc247d6a768264da5402cbf",
       "version_major": 2,
       "version_minor": 0
      },
      "text/plain": [
       "Testing: |          | 0/? [00:00<?, ?it/s]"
      ]
     },
     "metadata": {},
     "output_type": "display_data"
    },
    {
     "name": "stdout",
     "output_type": "stream",
     "text": [
      "test_step\n",
      "test_step\n",
      "test_step\n",
      "test_step\n",
      "test_step\n",
      "test_step\n",
      "test_step\n",
      "test_step\n",
      "test_step\n",
      "test_step\n",
      "test_step\n",
      "test_step\n",
      "test_step\n",
      "test_step\n",
      "test_step\n",
      "test_step\n",
      "test_step\n",
      "test_step\n",
      "test_step\n",
      "test_step\n",
      "test_step\n"
     ]
    },
    {
     "data": {
      "text/html": [
       "<pre style=\"white-space:pre;overflow-x:auto;line-height:normal;font-family:Menlo,'DejaVu Sans Mono',consolas,'Courier New',monospace\">┏━━━━━━━━━━━━━━━━━━━━━━━━━━━━━━━━━━━━━━━━━━━━━━━┳━━━━━━━━━━━━━━━━━━━━━━━━━━━━━━━━━━━━━━━━━━━━━━━┓\n",
       "┃<span style=\"font-weight: bold\">                  Test metric                  </span>┃<span style=\"font-weight: bold\">                 DataLoader 0                  </span>┃\n",
       "┡━━━━━━━━━━━━━━━━━━━━━━━━━━━━━━━━━━━━━━━━━━━━━━━╇━━━━━━━━━━━━━━━━━━━━━━━━━━━━━━━━━━━━━━━━━━━━━━━┩\n",
       "│<span style=\"color: #008080; text-decoration-color: #008080\">              val_Regressor/NRMSE              </span>│<span style=\"color: #800080; text-decoration-color: #800080\">              0.3593956408271617               </span>│\n",
       "│<span style=\"color: #008080; text-decoration-color: #008080\">               val_Regressor/R2                </span>│<span style=\"color: #800080; text-decoration-color: #800080\">            -0.0025470868638350908             </span>│\n",
       "│<span style=\"color: #008080; text-decoration-color: #008080\">           val_Regressor/concordance           </span>│<span style=\"color: #800080; text-decoration-color: #800080\">              0.04763131517883764              </span>│\n",
       "│<span style=\"color: #008080; text-decoration-color: #008080\">               val_Regressor/mae               </span>│<span style=\"color: #800080; text-decoration-color: #800080\">               3.182075226272943               </span>│\n",
       "│<span style=\"color: #008080; text-decoration-color: #008080\">               val_Regressor/mse               </span>│<span style=\"color: #800080; text-decoration-color: #800080\">              15.025156339669765               </span>│\n",
       "│<span style=\"color: #008080; text-decoration-color: #008080\">         val_Regressor/subject_iqr_iqr         </span>│<span style=\"color: #800080; text-decoration-color: #800080\">              0.42174115777015686              </span>│\n",
       "│<span style=\"color: #008080; text-decoration-color: #008080\">        val_Regressor/subject_iqr_mean         </span>│<span style=\"color: #800080; text-decoration-color: #800080\">              0.9784265756607056               </span>│\n",
       "│<span style=\"color: #008080; text-decoration-color: #008080\">       val_Regressor/subject_iqr_median        </span>│<span style=\"color: #800080; text-decoration-color: #800080\">              0.9116687774658203               </span>│\n",
       "│<span style=\"color: #008080; text-decoration-color: #008080\">         val_Regressor/subject_iqr_std         </span>│<span style=\"color: #800080; text-decoration-color: #800080\">              0.34789812564849854              </span>│\n",
       "│<span style=\"color: #008080; text-decoration-color: #008080\">         val_Regressor/subject_std_iqr         </span>│<span style=\"color: #800080; text-decoration-color: #800080\">              0.25442594289779663              </span>│\n",
       "│<span style=\"color: #008080; text-decoration-color: #008080\">        val_Regressor/subject_std_mean         </span>│<span style=\"color: #800080; text-decoration-color: #800080\">              0.7943403124809265               </span>│\n",
       "│<span style=\"color: #008080; text-decoration-color: #008080\">       val_Regressor/subject_std_median        </span>│<span style=\"color: #800080; text-decoration-color: #800080\">              0.7864989638328552               </span>│\n",
       "│<span style=\"color: #008080; text-decoration-color: #008080\">         val_Regressor/subject_std_std         </span>│<span style=\"color: #800080; text-decoration-color: #800080\">              0.1860811412334442               </span>│\n",
       "│<span style=\"color: #008080; text-decoration-color: #008080\">     val_Regressor/subject_with_mean_NRMSE     </span>│<span style=\"color: #800080; text-decoration-color: #800080\">              0.34454483348876186              </span>│\n",
       "│<span style=\"color: #008080; text-decoration-color: #008080\">      val_Regressor/subject_with_mean_R2       </span>│<span style=\"color: #800080; text-decoration-color: #800080\">             0.042744097273864745              </span>│\n",
       "│<span style=\"color: #008080; text-decoration-color: #008080\">  val_Regressor/subject_with_mean_concordance  </span>│<span style=\"color: #800080; text-decoration-color: #800080\">             0.051529723898581466              </span>│\n",
       "│<span style=\"color: #008080; text-decoration-color: #008080\">      val_Regressor/subject_with_mean_mae      </span>│<span style=\"color: #800080; text-decoration-color: #800080\">              3.0751608603659557               </span>│\n",
       "│<span style=\"color: #008080; text-decoration-color: #008080\">      val_Regressor/subject_with_mean_mse      </span>│<span style=\"color: #800080; text-decoration-color: #800080\">               13.68783151336043               </span>│\n",
       "│<span style=\"color: #008080; text-decoration-color: #008080\">    val_Regressor/subject_with_median_NRMSE    </span>│<span style=\"color: #800080; text-decoration-color: #800080\">              0.34577623903780874              </span>│\n",
       "│<span style=\"color: #008080; text-decoration-color: #008080\">     val_Regressor/subject_with_median_R2      </span>│<span style=\"color: #800080; text-decoration-color: #800080\">             0.035889391690976824              </span>│\n",
       "│<span style=\"color: #008080; text-decoration-color: #008080\"> val_Regressor/subject_with_median_concordance </span>│<span style=\"color: #800080; text-decoration-color: #800080\">              0.04598871681786587              </span>│\n",
       "│<span style=\"color: #008080; text-decoration-color: #008080\">     val_Regressor/subject_with_median_mae     </span>│<span style=\"color: #800080; text-decoration-color: #800080\">               3.085718811108105               </span>│\n",
       "│<span style=\"color: #008080; text-decoration-color: #008080\">     val_Regressor/subject_with_median_mse     </span>│<span style=\"color: #800080; text-decoration-color: #800080\">              13.785847158732853               </span>│\n",
       "│<span style=\"color: #008080; text-decoration-color: #008080\">                val_loss_epoch                 </span>│<span style=\"color: #800080; text-decoration-color: #800080\">              0.00179860123898834              </span>│\n",
       "└───────────────────────────────────────────────┴───────────────────────────────────────────────┘\n",
       "</pre>\n"
      ],
      "text/plain": [
       "┏━━━━━━━━━━━━━━━━━━━━━━━━━━━━━━━━━━━━━━━━━━━━━━━┳━━━━━━━━━━━━━━━━━━━━━━━━━━━━━━━━━━━━━━━━━━━━━━━┓\n",
       "┃\u001b[1m \u001b[0m\u001b[1m                 Test metric                 \u001b[0m\u001b[1m \u001b[0m┃\u001b[1m \u001b[0m\u001b[1m                DataLoader 0                 \u001b[0m\u001b[1m \u001b[0m┃\n",
       "┡━━━━━━━━━━━━━━━━━━━━━━━━━━━━━━━━━━━━━━━━━━━━━━━╇━━━━━━━━━━━━━━━━━━━━━━━━━━━━━━━━━━━━━━━━━━━━━━━┩\n",
       "│\u001b[36m \u001b[0m\u001b[36m             val_Regressor/NRMSE             \u001b[0m\u001b[36m \u001b[0m│\u001b[35m \u001b[0m\u001b[35m             0.3593956408271617              \u001b[0m\u001b[35m \u001b[0m│\n",
       "│\u001b[36m \u001b[0m\u001b[36m              val_Regressor/R2               \u001b[0m\u001b[36m \u001b[0m│\u001b[35m \u001b[0m\u001b[35m           -0.0025470868638350908            \u001b[0m\u001b[35m \u001b[0m│\n",
       "│\u001b[36m \u001b[0m\u001b[36m          val_Regressor/concordance          \u001b[0m\u001b[36m \u001b[0m│\u001b[35m \u001b[0m\u001b[35m             0.04763131517883764             \u001b[0m\u001b[35m \u001b[0m│\n",
       "│\u001b[36m \u001b[0m\u001b[36m              val_Regressor/mae              \u001b[0m\u001b[36m \u001b[0m│\u001b[35m \u001b[0m\u001b[35m              3.182075226272943              \u001b[0m\u001b[35m \u001b[0m│\n",
       "│\u001b[36m \u001b[0m\u001b[36m              val_Regressor/mse              \u001b[0m\u001b[36m \u001b[0m│\u001b[35m \u001b[0m\u001b[35m             15.025156339669765              \u001b[0m\u001b[35m \u001b[0m│\n",
       "│\u001b[36m \u001b[0m\u001b[36m        val_Regressor/subject_iqr_iqr        \u001b[0m\u001b[36m \u001b[0m│\u001b[35m \u001b[0m\u001b[35m             0.42174115777015686             \u001b[0m\u001b[35m \u001b[0m│\n",
       "│\u001b[36m \u001b[0m\u001b[36m       val_Regressor/subject_iqr_mean        \u001b[0m\u001b[36m \u001b[0m│\u001b[35m \u001b[0m\u001b[35m             0.9784265756607056              \u001b[0m\u001b[35m \u001b[0m│\n",
       "│\u001b[36m \u001b[0m\u001b[36m      val_Regressor/subject_iqr_median       \u001b[0m\u001b[36m \u001b[0m│\u001b[35m \u001b[0m\u001b[35m             0.9116687774658203              \u001b[0m\u001b[35m \u001b[0m│\n",
       "│\u001b[36m \u001b[0m\u001b[36m        val_Regressor/subject_iqr_std        \u001b[0m\u001b[36m \u001b[0m│\u001b[35m \u001b[0m\u001b[35m             0.34789812564849854             \u001b[0m\u001b[35m \u001b[0m│\n",
       "│\u001b[36m \u001b[0m\u001b[36m        val_Regressor/subject_std_iqr        \u001b[0m\u001b[36m \u001b[0m│\u001b[35m \u001b[0m\u001b[35m             0.25442594289779663             \u001b[0m\u001b[35m \u001b[0m│\n",
       "│\u001b[36m \u001b[0m\u001b[36m       val_Regressor/subject_std_mean        \u001b[0m\u001b[36m \u001b[0m│\u001b[35m \u001b[0m\u001b[35m             0.7943403124809265              \u001b[0m\u001b[35m \u001b[0m│\n",
       "│\u001b[36m \u001b[0m\u001b[36m      val_Regressor/subject_std_median       \u001b[0m\u001b[36m \u001b[0m│\u001b[35m \u001b[0m\u001b[35m             0.7864989638328552              \u001b[0m\u001b[35m \u001b[0m│\n",
       "│\u001b[36m \u001b[0m\u001b[36m        val_Regressor/subject_std_std        \u001b[0m\u001b[36m \u001b[0m│\u001b[35m \u001b[0m\u001b[35m             0.1860811412334442              \u001b[0m\u001b[35m \u001b[0m│\n",
       "│\u001b[36m \u001b[0m\u001b[36m    val_Regressor/subject_with_mean_NRMSE    \u001b[0m\u001b[36m \u001b[0m│\u001b[35m \u001b[0m\u001b[35m             0.34454483348876186             \u001b[0m\u001b[35m \u001b[0m│\n",
       "│\u001b[36m \u001b[0m\u001b[36m     val_Regressor/subject_with_mean_R2      \u001b[0m\u001b[36m \u001b[0m│\u001b[35m \u001b[0m\u001b[35m            0.042744097273864745             \u001b[0m\u001b[35m \u001b[0m│\n",
       "│\u001b[36m \u001b[0m\u001b[36m val_Regressor/subject_with_mean_concordance \u001b[0m\u001b[36m \u001b[0m│\u001b[35m \u001b[0m\u001b[35m            0.051529723898581466             \u001b[0m\u001b[35m \u001b[0m│\n",
       "│\u001b[36m \u001b[0m\u001b[36m     val_Regressor/subject_with_mean_mae     \u001b[0m\u001b[36m \u001b[0m│\u001b[35m \u001b[0m\u001b[35m             3.0751608603659557              \u001b[0m\u001b[35m \u001b[0m│\n",
       "│\u001b[36m \u001b[0m\u001b[36m     val_Regressor/subject_with_mean_mse     \u001b[0m\u001b[36m \u001b[0m│\u001b[35m \u001b[0m\u001b[35m              13.68783151336043              \u001b[0m\u001b[35m \u001b[0m│\n",
       "│\u001b[36m \u001b[0m\u001b[36m   val_Regressor/subject_with_median_NRMSE   \u001b[0m\u001b[36m \u001b[0m│\u001b[35m \u001b[0m\u001b[35m             0.34577623903780874             \u001b[0m\u001b[35m \u001b[0m│\n",
       "│\u001b[36m \u001b[0m\u001b[36m    val_Regressor/subject_with_median_R2     \u001b[0m\u001b[36m \u001b[0m│\u001b[35m \u001b[0m\u001b[35m            0.035889391690976824             \u001b[0m\u001b[35m \u001b[0m│\n",
       "│\u001b[36m \u001b[0m\u001b[36mval_Regressor/subject_with_median_concordance\u001b[0m\u001b[36m \u001b[0m│\u001b[35m \u001b[0m\u001b[35m             0.04598871681786587             \u001b[0m\u001b[35m \u001b[0m│\n",
       "│\u001b[36m \u001b[0m\u001b[36m    val_Regressor/subject_with_median_mae    \u001b[0m\u001b[36m \u001b[0m│\u001b[35m \u001b[0m\u001b[35m              3.085718811108105              \u001b[0m\u001b[35m \u001b[0m│\n",
       "│\u001b[36m \u001b[0m\u001b[36m    val_Regressor/subject_with_median_mse    \u001b[0m\u001b[36m \u001b[0m│\u001b[35m \u001b[0m\u001b[35m             13.785847158732853              \u001b[0m\u001b[35m \u001b[0m│\n",
       "│\u001b[36m \u001b[0m\u001b[36m               val_loss_epoch                \u001b[0m\u001b[36m \u001b[0m│\u001b[35m \u001b[0m\u001b[35m             0.00179860123898834             \u001b[0m\u001b[35m \u001b[0m│\n",
       "└───────────────────────────────────────────────┴───────────────────────────────────────────────┘\n"
      ]
     },
     "metadata": {},
     "output_type": "display_data"
    },
    {
     "name": "stdout",
     "output_type": "stream",
     "text": [
      "Loading model from artifacts/model-3k5y24ev:v9/model.ckpt...\n",
      "Using datasets: ['ds005505', 'ds005506', 'ds005507', 'ds005508', 'ds005509', 'ds005511', 'ds005512', 'ds005514', 'ds005515', 'ds005516']\n",
      "Validation release: ds005505\n",
      "Test release: ds005510\n"
     ]
    },
    {
     "name": "stderr",
     "output_type": "stream",
     "text": [
      "Restoring states from the checkpoint path at artifacts/model-3k5y24ev:v9/model.ckpt\n",
      "/home/dung/eeg-ssl/.venv/lib/python3.10/site-packages/lightning/pytorch/trainer/call.py:277: Be aware that when using `ckpt_path`, callbacks used to create the checkpoint need to be provided during `Trainer` instantiation. Please add the following callbacks: [\"ModelCheckpoint{'monitor': None, 'mode': 'min', 'every_n_train_steps': 0, 'every_n_epochs': 3, 'train_time_interval': None}\"].\n",
      "LOCAL_RANK: 0 - CUDA_VISIBLE_DEVICES: [0]\n",
      "Loaded model weights from the checkpoint at artifacts/model-3k5y24ev:v9/model.ckpt\n"
     ]
    },
    {
     "name": "stdout",
     "output_type": "stream",
     "text": [
      "test sampler None\n"
     ]
    },
    {
     "data": {
      "application/vnd.jupyter.widget-view+json": {
       "model_id": "05262e184559498f9fe2da6d750bdc7b",
       "version_major": 2,
       "version_minor": 0
      },
      "text/plain": [
       "Testing: |          | 0/? [00:00<?, ?it/s]"
      ]
     },
     "metadata": {},
     "output_type": "display_data"
    },
    {
     "name": "stdout",
     "output_type": "stream",
     "text": [
      "test_step\n",
      "test_step\n",
      "test_step\n",
      "test_step\n",
      "test_step\n",
      "test_step\n",
      "test_step\n",
      "test_step\n",
      "test_step\n",
      "test_step\n",
      "test_step\n",
      "test_step\n",
      "test_step\n",
      "test_step\n",
      "test_step\n",
      "test_step\n",
      "test_step\n",
      "test_step\n",
      "test_step\n",
      "test_step\n",
      "test_step\n"
     ]
    }
   ],
   "source": [
    "from collections import defaultdict\n",
    "import json\n",
    "mode = 'test'\n",
    "if os.path.exists(f'model-{model}_scores-{mode}.json'):\n",
    "    version_scores = json.load(open(f'model-{model}_scores.json'))\n",
    "else:\n",
    "    attributes = ['age', 'p_factor']\n",
    "    version_scores = defaultdict(list)\n",
    "    for attr in attributes:\n",
    "        config['data']['target_label'] = attr\n",
    "        print('Loading data module...')\n",
    "        litDataModule = SSLHBNDataModule(**config['data'])\n",
    "        litDataModule.setup(stage=mode)\n",
    "\n",
    "        artifact_dir = f'artifacts/model-{model}'\n",
    "        num_version = 11 if model == \"0cu5slnx\" else 31\n",
    "        for version in range(num_version):\n",
    "            artifact_path = f'{artifact_dir}:v{version}/model.ckpt'\n",
    "            print(f'Loading model from {artifact_path}...')\n",
    "            scores = trainer.test(model=cpc_model, ckpt_path=artifact_path, datamodule=litDataModule)\n",
    "            version_scores[attr].append(scores)\n",
    "\n",
    "    with open(f'model-{model}_scores-{mode}.json', 'w') as f:\n",
    "        json.dump(version_scores, f)\n"
   ]
  },
  {
   "cell_type": "code",
   "execution_count": null,
   "id": "91bcbe4f",
   "metadata": {},
   "outputs": [],
   "source": [
    "metrics = [f'{mode}_Regressor/mae', f'{mode}_Regressor/subject_with_mean_mae']"
   ]
  },
  {
   "cell_type": "code",
   "execution_count": null,
   "id": "1fe4d31f",
   "metadata": {},
   "outputs": [
    {
     "name": "stderr",
     "output_type": "stream",
     "text": [
      "/tmp/ipykernel_1622145/1628101466.py:14: MatplotlibDeprecationWarning: The get_cmap function was deprecated in Matplotlib 3.7 and will be removed in 3.11. Use ``matplotlib.colormaps[name]`` or ``matplotlib.colormaps.get_cmap()`` or ``pyplot.get_cmap()`` instead.\n",
      "  cmap = cm.get_cmap('viridis', len(models))\n"
     ]
    },
    {
     "data": {
      "image/png": "[encoded data removed]",
      "text/plain": [
       "<Figure size 1000x600 with 1 Axes>"
      ]
     },
     "metadata": {},
     "output_type": "display_data"
    }
   ],
   "source": [
    "# plot the metrics for each attribute for each version from scores\n",
    "import matplotlib.pyplot as plt\n",
    "import numpy as np\n",
    "import seaborn as sns\n",
    "import pandas as pd\n",
    "import matplotlib\n",
    "import matplotlib.pyplot as plt\n",
    "import matplotlib.ticker as ticker\n",
    "import matplotlib.dates as mdates\n",
    "import matplotlib.cm as cm\n",
    "import matplotlib.colors as mcolors\n",
    "def plot_metrics(scores, metrics, attributes, models):\n",
    "    # create a color map\n",
    "    cmap = cm.get_cmap('viridis', len(models))\n",
    "    colors = [cmap(i) for i in range(len(models))]\n",
    "\n",
    "    # create a figure and axis\n",
    "    fig, ax = plt.subplots(figsize=(10, 6))\n",
    "\n",
    "    # loop through each attribute and plot the metrics\n",
    "    for i, model in enumerate(models):\n",
    "        scores = json.load(open(f'model-{model}_scores-{mode}.json'))\n",
    "        for attr in attributes:\n",
    "            for metric in metrics:\n",
    "                # extract the scores for the current attribute and metric\n",
    "                scores_attr = [s[0][metric] for s in scores[attr]]\n",
    "                # plot the scores with a line and marker\n",
    "                ax.plot(range(len(scores_attr)), scores_attr, label=f'{model} - {attr} - {metric}', color=colors[i], marker='o')\n",
    "\n",
    "    # set the x-axis ticks and labels\n",
    "    ax.set_xticks(range(len(scores_attr)))\n",
    "    ax.set_xticklabels([f'v{v}' for v in range(len(scores_attr))])\n",
    "\n",
    "    # set the y-axis label\n",
    "    ax.set_ylabel('Score')\n",
    "\n",
    "    # set the title\n",
    "    ax.set_title('Metrics for each attribute and version')\n",
    "\n",
    "    # add a legend\n",
    "    ax.legend()\n",
    "\n",
    "    # show the plot\n",
    "    plt.show()\n",
    "attributes = ['p_factor']\n",
    "plot_metrics(version_scores, metrics, attributes, ['0cu5slnx', '3k5y24ev'])"
   ]
  },
  {
   "cell_type": "code",
   "execution_count": 8,
   "id": "0a14e981",
   "metadata": {},
   "outputs": [
    {
     "name": "stdout",
     "output_type": "stream",
     "text": [
      "Error in callback <bound method _WandbInit._resume_backend of <wandb.sdk.wandb_init._WandbInit object at 0x7fc057bb5ea0>> (for pre_run_cell), with arguments args (<ExecutionInfo object at 7fbf48fa6d40, raw_cell=\"# load output.png\n",
      "import matplotlib.pyplot as plt\n",
      "..\" store_history=True silent=False shell_futures=True cell_id=vscode-notebook-cell://ssh-remote%2B100.83.226.64/home/dung/eeg-ssl/notebooks/CPC_evaluation.ipynb#X10sdnNjb2RlLXJlbW90ZQ%3D%3D>,),kwargs {}:\n"
     ]
    },
    {
     "ename": "BrokenPipeError",
     "evalue": "[Errno 32] Broken pipe",
     "output_type": "error",
     "traceback": [
      "\u001b[0;31m---------------------------------------------------------------------------\u001b[0m",
      "\u001b[0;31mBrokenPipeError\u001b[0m                           Traceback (most recent call last)",
      "File \u001b[0;32m~/eeg-ssl/.venv/lib/python3.10/site-packages/wandb/sdk/wandb_init.py:560\u001b[0m, in \u001b[0;36m_WandbInit._resume_backend\u001b[0;34m(self, *args, **kwargs)\u001b[0m\n\u001b[1;32m    558\u001b[0m \u001b[38;5;28;01mif\u001b[39;00m \u001b[38;5;28mself\u001b[39m\u001b[38;5;241m.\u001b[39mbackend \u001b[38;5;129;01mis\u001b[39;00m \u001b[38;5;129;01mnot\u001b[39;00m \u001b[38;5;28;01mNone\u001b[39;00m \u001b[38;5;129;01mand\u001b[39;00m \u001b[38;5;28mself\u001b[39m\u001b[38;5;241m.\u001b[39mbackend\u001b[38;5;241m.\u001b[39minterface \u001b[38;5;129;01mis\u001b[39;00m \u001b[38;5;129;01mnot\u001b[39;00m \u001b[38;5;28;01mNone\u001b[39;00m:\n\u001b[1;32m    559\u001b[0m     \u001b[38;5;28mself\u001b[39m\u001b[38;5;241m.\u001b[39m_logger\u001b[38;5;241m.\u001b[39minfo(\u001b[38;5;124m\"\u001b[39m\u001b[38;5;124mresuming backend\u001b[39m\u001b[38;5;124m\"\u001b[39m)  \u001b[38;5;66;03m# type: ignore\u001b[39;00m\n\u001b[0;32m--> 560\u001b[0m     \u001b[38;5;28;43mself\u001b[39;49m\u001b[38;5;241;43m.\u001b[39;49m\u001b[43mbackend\u001b[49m\u001b[38;5;241;43m.\u001b[39;49m\u001b[43minterface\u001b[49m\u001b[38;5;241;43m.\u001b[39;49m\u001b[43mpublish_resume\u001b[49m\u001b[43m(\u001b[49m\u001b[43m)\u001b[49m\n",
      "File \u001b[0;32m~/eeg-ssl/.venv/lib/python3.10/site-packages/wandb/sdk/interface/interface.py:779\u001b[0m, in \u001b[0;36mInterfaceBase.publish_resume\u001b[0;34m(self)\u001b[0m\n\u001b[1;32m    777\u001b[0m \u001b[38;5;28;01mdef\u001b[39;00m\u001b[38;5;250m \u001b[39m\u001b[38;5;21mpublish_resume\u001b[39m(\u001b[38;5;28mself\u001b[39m) \u001b[38;5;241m-\u001b[39m\u001b[38;5;241m>\u001b[39m \u001b[38;5;28;01mNone\u001b[39;00m:\n\u001b[1;32m    778\u001b[0m     resume \u001b[38;5;241m=\u001b[39m pb\u001b[38;5;241m.\u001b[39mResumeRequest()\n\u001b[0;32m--> 779\u001b[0m     \u001b[38;5;28;43mself\u001b[39;49m\u001b[38;5;241;43m.\u001b[39;49m\u001b[43m_publish_resume\u001b[49m\u001b[43m(\u001b[49m\u001b[43mresume\u001b[49m\u001b[43m)\u001b[49m\n",
      "File \u001b[0;32m~/eeg-ssl/.venv/lib/python3.10/site-packages/wandb/sdk/interface/interface_shared.py:372\u001b[0m, in \u001b[0;36mInterfaceShared._publish_resume\u001b[0;34m(self, resume)\u001b[0m\n\u001b[1;32m    370\u001b[0m \u001b[38;5;28;01mdef\u001b[39;00m\u001b[38;5;250m \u001b[39m\u001b[38;5;21m_publish_resume\u001b[39m(\u001b[38;5;28mself\u001b[39m, resume: pb\u001b[38;5;241m.\u001b[39mResumeRequest) \u001b[38;5;241m-\u001b[39m\u001b[38;5;241m>\u001b[39m \u001b[38;5;28;01mNone\u001b[39;00m:\n\u001b[1;32m    371\u001b[0m     rec \u001b[38;5;241m=\u001b[39m \u001b[38;5;28mself\u001b[39m\u001b[38;5;241m.\u001b[39m_make_request(resume\u001b[38;5;241m=\u001b[39mresume)\n\u001b[0;32m--> 372\u001b[0m     \u001b[38;5;28;43mself\u001b[39;49m\u001b[38;5;241;43m.\u001b[39;49m\u001b[43m_publish\u001b[49m\u001b[43m(\u001b[49m\u001b[43mrec\u001b[49m\u001b[43m)\u001b[49m\n",
      "File \u001b[0;32m~/eeg-ssl/.venv/lib/python3.10/site-packages/wandb/sdk/interface/interface_sock.py:47\u001b[0m, in \u001b[0;36mInterfaceSock._publish\u001b[0;34m(self, record, local)\u001b[0m\n\u001b[1;32m     45\u001b[0m \u001b[38;5;28;01mdef\u001b[39;00m\u001b[38;5;250m \u001b[39m\u001b[38;5;21m_publish\u001b[39m(\u001b[38;5;28mself\u001b[39m, record: \u001b[38;5;124m\"\u001b[39m\u001b[38;5;124mpb.Record\u001b[39m\u001b[38;5;124m\"\u001b[39m, local: Optional[\u001b[38;5;28mbool\u001b[39m] \u001b[38;5;241m=\u001b[39m \u001b[38;5;28;01mNone\u001b[39;00m) \u001b[38;5;241m-\u001b[39m\u001b[38;5;241m>\u001b[39m \u001b[38;5;28;01mNone\u001b[39;00m:\n\u001b[1;32m     46\u001b[0m     \u001b[38;5;28mself\u001b[39m\u001b[38;5;241m.\u001b[39m_assign(record)\n\u001b[0;32m---> 47\u001b[0m     \u001b[38;5;28;43mself\u001b[39;49m\u001b[38;5;241;43m.\u001b[39;49m\u001b[43m_sock_client\u001b[49m\u001b[38;5;241;43m.\u001b[39;49m\u001b[43msend_record_publish\u001b[49m\u001b[43m(\u001b[49m\u001b[43mrecord\u001b[49m\u001b[43m)\u001b[49m\n",
      "File \u001b[0;32m~/eeg-ssl/.venv/lib/python3.10/site-packages/wandb/sdk/lib/sock_client.py:222\u001b[0m, in \u001b[0;36mSockClient.send_record_publish\u001b[0;34m(self, record)\u001b[0m\n\u001b[1;32m    220\u001b[0m server_req \u001b[38;5;241m=\u001b[39m spb\u001b[38;5;241m.\u001b[39mServerRequest()\n\u001b[1;32m    221\u001b[0m server_req\u001b[38;5;241m.\u001b[39mrecord_publish\u001b[38;5;241m.\u001b[39mCopyFrom(record)\n\u001b[0;32m--> 222\u001b[0m \u001b[38;5;28;43mself\u001b[39;49m\u001b[38;5;241;43m.\u001b[39;49m\u001b[43msend_server_request\u001b[49m\u001b[43m(\u001b[49m\u001b[43mserver_req\u001b[49m\u001b[43m)\u001b[49m\n",
      "File \u001b[0;32m~/eeg-ssl/.venv/lib/python3.10/site-packages/wandb/sdk/lib/sock_client.py:154\u001b[0m, in \u001b[0;36mSockClient.send_server_request\u001b[0;34m(self, msg)\u001b[0m\n\u001b[1;32m    153\u001b[0m \u001b[38;5;28;01mdef\u001b[39;00m\u001b[38;5;250m \u001b[39m\u001b[38;5;21msend_server_request\u001b[39m(\u001b[38;5;28mself\u001b[39m, msg: Any) \u001b[38;5;241m-\u001b[39m\u001b[38;5;241m>\u001b[39m \u001b[38;5;28;01mNone\u001b[39;00m:\n\u001b[0;32m--> 154\u001b[0m     \u001b[38;5;28;43mself\u001b[39;49m\u001b[38;5;241;43m.\u001b[39;49m\u001b[43m_send_message\u001b[49m\u001b[43m(\u001b[49m\u001b[43mmsg\u001b[49m\u001b[43m)\u001b[49m\n",
      "File \u001b[0;32m~/eeg-ssl/.venv/lib/python3.10/site-packages/wandb/sdk/lib/sock_client.py:151\u001b[0m, in \u001b[0;36mSockClient._send_message\u001b[0;34m(self, msg)\u001b[0m\n\u001b[1;32m    149\u001b[0m header \u001b[38;5;241m=\u001b[39m struct\u001b[38;5;241m.\u001b[39mpack(\u001b[38;5;124m\"\u001b[39m\u001b[38;5;124m<BI\u001b[39m\u001b[38;5;124m\"\u001b[39m, \u001b[38;5;28mord\u001b[39m(\u001b[38;5;124m\"\u001b[39m\u001b[38;5;124mW\u001b[39m\u001b[38;5;124m\"\u001b[39m), raw_size)\n\u001b[1;32m    150\u001b[0m \u001b[38;5;28;01mwith\u001b[39;00m \u001b[38;5;28mself\u001b[39m\u001b[38;5;241m.\u001b[39m_lock:\n\u001b[0;32m--> 151\u001b[0m     \u001b[38;5;28;43mself\u001b[39;49m\u001b[38;5;241;43m.\u001b[39;49m\u001b[43m_sendall_with_error_handle\u001b[49m\u001b[43m(\u001b[49m\u001b[43mheader\u001b[49m\u001b[43m \u001b[49m\u001b[38;5;241;43m+\u001b[39;49m\u001b[43m \u001b[49m\u001b[43mdata\u001b[49m\u001b[43m)\u001b[49m\n",
      "File \u001b[0;32m~/eeg-ssl/.venv/lib/python3.10/site-packages/wandb/sdk/lib/sock_client.py:130\u001b[0m, in \u001b[0;36mSockClient._sendall_with_error_handle\u001b[0;34m(self, data)\u001b[0m\n\u001b[1;32m    128\u001b[0m start_time \u001b[38;5;241m=\u001b[39m time\u001b[38;5;241m.\u001b[39mmonotonic()\n\u001b[1;32m    129\u001b[0m \u001b[38;5;28;01mtry\u001b[39;00m:\n\u001b[0;32m--> 130\u001b[0m     sent \u001b[38;5;241m=\u001b[39m \u001b[38;5;28;43mself\u001b[39;49m\u001b[38;5;241;43m.\u001b[39;49m\u001b[43m_sock\u001b[49m\u001b[38;5;241;43m.\u001b[39;49m\u001b[43msend\u001b[49m\u001b[43m(\u001b[49m\u001b[43mdata\u001b[49m\u001b[43m)\u001b[49m\n\u001b[1;32m    131\u001b[0m     \u001b[38;5;66;03m# sent equal to 0 indicates a closed socket\u001b[39;00m\n\u001b[1;32m    132\u001b[0m     \u001b[38;5;28;01mif\u001b[39;00m sent \u001b[38;5;241m==\u001b[39m \u001b[38;5;241m0\u001b[39m:\n",
      "\u001b[0;31mBrokenPipeError\u001b[0m: [Errno 32] Broken pipe"
     ]
    },
    {
     "ename": "FileNotFoundError",
     "evalue": "[Errno 2] No such file or directory: 'output.png'",
     "output_type": "error",
     "traceback": [
      "\u001b[0;31m---------------------------------------------------------------------------\u001b[0m",
      "\u001b[0;31mFileNotFoundError\u001b[0m                         Traceback (most recent call last)",
      "Cell \u001b[0;32mIn[8], line 4\u001b[0m\n\u001b[1;32m      2\u001b[0m \u001b[38;5;28;01mimport\u001b[39;00m\u001b[38;5;250m \u001b[39m\u001b[38;5;21;01mmatplotlib\u001b[39;00m\u001b[38;5;21;01m.\u001b[39;00m\u001b[38;5;21;01mpyplot\u001b[39;00m\u001b[38;5;250m \u001b[39m\u001b[38;5;28;01mas\u001b[39;00m\u001b[38;5;250m \u001b[39m\u001b[38;5;21;01mplt\u001b[39;00m\n\u001b[1;32m      3\u001b[0m \u001b[38;5;28;01mimport\u001b[39;00m\u001b[38;5;250m \u001b[39m\u001b[38;5;21;01mmatplotlib\u001b[39;00m\u001b[38;5;21;01m.\u001b[39;00m\u001b[38;5;21;01mimage\u001b[39;00m\u001b[38;5;250m \u001b[39m\u001b[38;5;28;01mas\u001b[39;00m\u001b[38;5;250m \u001b[39m\u001b[38;5;21;01mmpimg\u001b[39;00m\n\u001b[0;32m----> 4\u001b[0m img \u001b[38;5;241m=\u001b[39m \u001b[43mmpimg\u001b[49m\u001b[38;5;241;43m.\u001b[39;49m\u001b[43mimread\u001b[49m\u001b[43m(\u001b[49m\u001b[38;5;124;43m'\u001b[39;49m\u001b[38;5;124;43moutput.png\u001b[39;49m\u001b[38;5;124;43m'\u001b[39;49m\u001b[43m)\u001b[49m\n",
      "File \u001b[0;32m~/eeg-ssl/.venv/lib/python3.10/site-packages/matplotlib/image.py:1502\u001b[0m, in \u001b[0;36mimread\u001b[0;34m(fname, format)\u001b[0m\n\u001b[1;32m   1495\u001b[0m \u001b[38;5;28;01mif\u001b[39;00m \u001b[38;5;28misinstance\u001b[39m(fname, \u001b[38;5;28mstr\u001b[39m) \u001b[38;5;129;01mand\u001b[39;00m \u001b[38;5;28mlen\u001b[39m(parse\u001b[38;5;241m.\u001b[39murlparse(fname)\u001b[38;5;241m.\u001b[39mscheme) \u001b[38;5;241m>\u001b[39m \u001b[38;5;241m1\u001b[39m:\n\u001b[1;32m   1496\u001b[0m     \u001b[38;5;66;03m# Pillow doesn't handle URLs directly.\u001b[39;00m\n\u001b[1;32m   1497\u001b[0m     \u001b[38;5;28;01mraise\u001b[39;00m \u001b[38;5;167;01mValueError\u001b[39;00m(\n\u001b[1;32m   1498\u001b[0m         \u001b[38;5;124m\"\u001b[39m\u001b[38;5;124mPlease open the URL for reading and pass the \u001b[39m\u001b[38;5;124m\"\u001b[39m\n\u001b[1;32m   1499\u001b[0m         \u001b[38;5;124m\"\u001b[39m\u001b[38;5;124mresult to Pillow, e.g. with \u001b[39m\u001b[38;5;124m\"\u001b[39m\n\u001b[1;32m   1500\u001b[0m         \u001b[38;5;124m\"\u001b[39m\u001b[38;5;124m``np.array(PIL.Image.open(urllib.request.urlopen(url)))``.\u001b[39m\u001b[38;5;124m\"\u001b[39m\n\u001b[1;32m   1501\u001b[0m         )\n\u001b[0;32m-> 1502\u001b[0m \u001b[38;5;28;01mwith\u001b[39;00m \u001b[43mimg_open\u001b[49m\u001b[43m(\u001b[49m\u001b[43mfname\u001b[49m\u001b[43m)\u001b[49m \u001b[38;5;28;01mas\u001b[39;00m image:\n\u001b[1;32m   1503\u001b[0m     \u001b[38;5;28;01mreturn\u001b[39;00m (_pil_png_to_float_array(image)\n\u001b[1;32m   1504\u001b[0m             \u001b[38;5;28;01mif\u001b[39;00m \u001b[38;5;28misinstance\u001b[39m(image, PIL\u001b[38;5;241m.\u001b[39mPngImagePlugin\u001b[38;5;241m.\u001b[39mPngImageFile) \u001b[38;5;28;01melse\u001b[39;00m\n\u001b[1;32m   1505\u001b[0m             pil_to_array(image))\n",
      "File \u001b[0;32m~/eeg-ssl/.venv/lib/python3.10/site-packages/PIL/ImageFile.py:125\u001b[0m, in \u001b[0;36mImageFile.__init__\u001b[0;34m(self, fp, filename)\u001b[0m\n\u001b[1;32m    121\u001b[0m \u001b[38;5;28mself\u001b[39m\u001b[38;5;241m.\u001b[39mdecodermaxblock \u001b[38;5;241m=\u001b[39m MAXBLOCK\n\u001b[1;32m    123\u001b[0m \u001b[38;5;28;01mif\u001b[39;00m is_path(fp):\n\u001b[1;32m    124\u001b[0m     \u001b[38;5;66;03m# filename\u001b[39;00m\n\u001b[0;32m--> 125\u001b[0m     \u001b[38;5;28mself\u001b[39m\u001b[38;5;241m.\u001b[39mfp \u001b[38;5;241m=\u001b[39m \u001b[38;5;28;43mopen\u001b[39;49m\u001b[43m(\u001b[49m\u001b[43mfp\u001b[49m\u001b[43m,\u001b[49m\u001b[43m \u001b[49m\u001b[38;5;124;43m\"\u001b[39;49m\u001b[38;5;124;43mrb\u001b[39;49m\u001b[38;5;124;43m\"\u001b[39;49m\u001b[43m)\u001b[49m\n\u001b[1;32m    126\u001b[0m     \u001b[38;5;28mself\u001b[39m\u001b[38;5;241m.\u001b[39mfilename \u001b[38;5;241m=\u001b[39m fp\n\u001b[1;32m    127\u001b[0m     \u001b[38;5;28mself\u001b[39m\u001b[38;5;241m.\u001b[39m_exclusive_fp \u001b[38;5;241m=\u001b[39m \u001b[38;5;28;01mTrue\u001b[39;00m\n",
      "\u001b[0;31mFileNotFoundError\u001b[0m: [Errno 2] No such file or directory: 'output.png'"
     ]
    },
    {
     "name": "stdout",
     "output_type": "stream",
     "text": [
      "Error in callback <bound method _WandbInit._pause_backend of <wandb.sdk.wandb_init._WandbInit object at 0x7fc057bb5ea0>> (for post_run_cell), with arguments args (<ExecutionResult object at 7fbf48fa6ad0, execution_count=8 error_before_exec=None error_in_exec=[Errno 2] No such file or directory: 'output.png' info=<ExecutionInfo object at 7fbf48fa6d40, raw_cell=\"# load output.png\n",
      "import matplotlib.pyplot as plt\n",
      "..\" store_history=True silent=False shell_futures=True cell_id=vscode-notebook-cell://ssh-remote%2B100.83.226.64/home/dung/eeg-ssl/notebooks/CPC_evaluation.ipynb#X10sdnNjb2RlLXJlbW90ZQ%3D%3D> result=None>,),kwargs {}:\n"
     ]
    },
    {
     "ename": "BrokenPipeError",
     "evalue": "[Errno 32] Broken pipe",
     "output_type": "error",
     "traceback": [
      "\u001b[0;31m---------------------------------------------------------------------------\u001b[0m",
      "\u001b[0;31mBrokenPipeError\u001b[0m                           Traceback (most recent call last)",
      "File \u001b[0;32m~/eeg-ssl/.venv/lib/python3.10/site-packages/wandb/sdk/wandb_init.py:555\u001b[0m, in \u001b[0;36m_WandbInit._pause_backend\u001b[0;34m(self, *args, **kwargs)\u001b[0m\n\u001b[1;32m    553\u001b[0m \u001b[38;5;28;01mif\u001b[39;00m \u001b[38;5;28mself\u001b[39m\u001b[38;5;241m.\u001b[39mbackend\u001b[38;5;241m.\u001b[39minterface \u001b[38;5;129;01mis\u001b[39;00m \u001b[38;5;129;01mnot\u001b[39;00m \u001b[38;5;28;01mNone\u001b[39;00m:\n\u001b[1;32m    554\u001b[0m     \u001b[38;5;28mself\u001b[39m\u001b[38;5;241m.\u001b[39m_logger\u001b[38;5;241m.\u001b[39minfo(\u001b[38;5;124m\"\u001b[39m\u001b[38;5;124mpausing backend\u001b[39m\u001b[38;5;124m\"\u001b[39m)  \u001b[38;5;66;03m# type: ignore\u001b[39;00m\n\u001b[0;32m--> 555\u001b[0m     \u001b[38;5;28;43mself\u001b[39;49m\u001b[38;5;241;43m.\u001b[39;49m\u001b[43mbackend\u001b[49m\u001b[38;5;241;43m.\u001b[39;49m\u001b[43minterface\u001b[49m\u001b[38;5;241;43m.\u001b[39;49m\u001b[43mpublish_pause\u001b[49m\u001b[43m(\u001b[49m\u001b[43m)\u001b[49m\n",
      "File \u001b[0;32m~/eeg-ssl/.venv/lib/python3.10/site-packages/wandb/sdk/interface/interface.py:771\u001b[0m, in \u001b[0;36mInterfaceBase.publish_pause\u001b[0;34m(self)\u001b[0m\n\u001b[1;32m    769\u001b[0m \u001b[38;5;28;01mdef\u001b[39;00m\u001b[38;5;250m \u001b[39m\u001b[38;5;21mpublish_pause\u001b[39m(\u001b[38;5;28mself\u001b[39m) \u001b[38;5;241m-\u001b[39m\u001b[38;5;241m>\u001b[39m \u001b[38;5;28;01mNone\u001b[39;00m:\n\u001b[1;32m    770\u001b[0m     pause \u001b[38;5;241m=\u001b[39m pb\u001b[38;5;241m.\u001b[39mPauseRequest()\n\u001b[0;32m--> 771\u001b[0m     \u001b[38;5;28;43mself\u001b[39;49m\u001b[38;5;241;43m.\u001b[39;49m\u001b[43m_publish_pause\u001b[49m\u001b[43m(\u001b[49m\u001b[43mpause\u001b[49m\u001b[43m)\u001b[49m\n",
      "File \u001b[0;32m~/eeg-ssl/.venv/lib/python3.10/site-packages/wandb/sdk/interface/interface_shared.py:368\u001b[0m, in \u001b[0;36mInterfaceShared._publish_pause\u001b[0;34m(self, pause)\u001b[0m\n\u001b[1;32m    366\u001b[0m \u001b[38;5;28;01mdef\u001b[39;00m\u001b[38;5;250m \u001b[39m\u001b[38;5;21m_publish_pause\u001b[39m(\u001b[38;5;28mself\u001b[39m, pause: pb\u001b[38;5;241m.\u001b[39mPauseRequest) \u001b[38;5;241m-\u001b[39m\u001b[38;5;241m>\u001b[39m \u001b[38;5;28;01mNone\u001b[39;00m:\n\u001b[1;32m    367\u001b[0m     rec \u001b[38;5;241m=\u001b[39m \u001b[38;5;28mself\u001b[39m\u001b[38;5;241m.\u001b[39m_make_request(pause\u001b[38;5;241m=\u001b[39mpause)\n\u001b[0;32m--> 368\u001b[0m     \u001b[38;5;28;43mself\u001b[39;49m\u001b[38;5;241;43m.\u001b[39;49m\u001b[43m_publish\u001b[49m\u001b[43m(\u001b[49m\u001b[43mrec\u001b[49m\u001b[43m)\u001b[49m\n",
      "File \u001b[0;32m~/eeg-ssl/.venv/lib/python3.10/site-packages/wandb/sdk/interface/interface_sock.py:47\u001b[0m, in \u001b[0;36mInterfaceSock._publish\u001b[0;34m(self, record, local)\u001b[0m\n\u001b[1;32m     45\u001b[0m \u001b[38;5;28;01mdef\u001b[39;00m\u001b[38;5;250m \u001b[39m\u001b[38;5;21m_publish\u001b[39m(\u001b[38;5;28mself\u001b[39m, record: \u001b[38;5;124m\"\u001b[39m\u001b[38;5;124mpb.Record\u001b[39m\u001b[38;5;124m\"\u001b[39m, local: Optional[\u001b[38;5;28mbool\u001b[39m] \u001b[38;5;241m=\u001b[39m \u001b[38;5;28;01mNone\u001b[39;00m) \u001b[38;5;241m-\u001b[39m\u001b[38;5;241m>\u001b[39m \u001b[38;5;28;01mNone\u001b[39;00m:\n\u001b[1;32m     46\u001b[0m     \u001b[38;5;28mself\u001b[39m\u001b[38;5;241m.\u001b[39m_assign(record)\n\u001b[0;32m---> 47\u001b[0m     \u001b[38;5;28;43mself\u001b[39;49m\u001b[38;5;241;43m.\u001b[39;49m\u001b[43m_sock_client\u001b[49m\u001b[38;5;241;43m.\u001b[39;49m\u001b[43msend_record_publish\u001b[49m\u001b[43m(\u001b[49m\u001b[43mrecord\u001b[49m\u001b[43m)\u001b[49m\n",
      "File \u001b[0;32m~/eeg-ssl/.venv/lib/python3.10/site-packages/wandb/sdk/lib/sock_client.py:222\u001b[0m, in \u001b[0;36mSockClient.send_record_publish\u001b[0;34m(self, record)\u001b[0m\n\u001b[1;32m    220\u001b[0m server_req \u001b[38;5;241m=\u001b[39m spb\u001b[38;5;241m.\u001b[39mServerRequest()\n\u001b[1;32m    221\u001b[0m server_req\u001b[38;5;241m.\u001b[39mrecord_publish\u001b[38;5;241m.\u001b[39mCopyFrom(record)\n\u001b[0;32m--> 222\u001b[0m \u001b[38;5;28;43mself\u001b[39;49m\u001b[38;5;241;43m.\u001b[39;49m\u001b[43msend_server_request\u001b[49m\u001b[43m(\u001b[49m\u001b[43mserver_req\u001b[49m\u001b[43m)\u001b[49m\n",
      "File \u001b[0;32m~/eeg-ssl/.venv/lib/python3.10/site-packages/wandb/sdk/lib/sock_client.py:154\u001b[0m, in \u001b[0;36mSockClient.send_server_request\u001b[0;34m(self, msg)\u001b[0m\n\u001b[1;32m    153\u001b[0m \u001b[38;5;28;01mdef\u001b[39;00m\u001b[38;5;250m \u001b[39m\u001b[38;5;21msend_server_request\u001b[39m(\u001b[38;5;28mself\u001b[39m, msg: Any) \u001b[38;5;241m-\u001b[39m\u001b[38;5;241m>\u001b[39m \u001b[38;5;28;01mNone\u001b[39;00m:\n\u001b[0;32m--> 154\u001b[0m     \u001b[38;5;28;43mself\u001b[39;49m\u001b[38;5;241;43m.\u001b[39;49m\u001b[43m_send_message\u001b[49m\u001b[43m(\u001b[49m\u001b[43mmsg\u001b[49m\u001b[43m)\u001b[49m\n",
      "File \u001b[0;32m~/eeg-ssl/.venv/lib/python3.10/site-packages/wandb/sdk/lib/sock_client.py:151\u001b[0m, in \u001b[0;36mSockClient._send_message\u001b[0;34m(self, msg)\u001b[0m\n\u001b[1;32m    149\u001b[0m header \u001b[38;5;241m=\u001b[39m struct\u001b[38;5;241m.\u001b[39mpack(\u001b[38;5;124m\"\u001b[39m\u001b[38;5;124m<BI\u001b[39m\u001b[38;5;124m\"\u001b[39m, \u001b[38;5;28mord\u001b[39m(\u001b[38;5;124m\"\u001b[39m\u001b[38;5;124mW\u001b[39m\u001b[38;5;124m\"\u001b[39m), raw_size)\n\u001b[1;32m    150\u001b[0m \u001b[38;5;28;01mwith\u001b[39;00m \u001b[38;5;28mself\u001b[39m\u001b[38;5;241m.\u001b[39m_lock:\n\u001b[0;32m--> 151\u001b[0m     \u001b[38;5;28;43mself\u001b[39;49m\u001b[38;5;241;43m.\u001b[39;49m\u001b[43m_sendall_with_error_handle\u001b[49m\u001b[43m(\u001b[49m\u001b[43mheader\u001b[49m\u001b[43m \u001b[49m\u001b[38;5;241;43m+\u001b[39;49m\u001b[43m \u001b[49m\u001b[43mdata\u001b[49m\u001b[43m)\u001b[49m\n",
      "File \u001b[0;32m~/eeg-ssl/.venv/lib/python3.10/site-packages/wandb/sdk/lib/sock_client.py:130\u001b[0m, in \u001b[0;36mSockClient._sendall_with_error_handle\u001b[0;34m(self, data)\u001b[0m\n\u001b[1;32m    128\u001b[0m start_time \u001b[38;5;241m=\u001b[39m time\u001b[38;5;241m.\u001b[39mmonotonic()\n\u001b[1;32m    129\u001b[0m \u001b[38;5;28;01mtry\u001b[39;00m:\n\u001b[0;32m--> 130\u001b[0m     sent \u001b[38;5;241m=\u001b[39m \u001b[38;5;28;43mself\u001b[39;49m\u001b[38;5;241;43m.\u001b[39;49m\u001b[43m_sock\u001b[49m\u001b[38;5;241;43m.\u001b[39;49m\u001b[43msend\u001b[49m\u001b[43m(\u001b[49m\u001b[43mdata\u001b[49m\u001b[43m)\u001b[49m\n\u001b[1;32m    131\u001b[0m     \u001b[38;5;66;03m# sent equal to 0 indicates a closed socket\u001b[39;00m\n\u001b[1;32m    132\u001b[0m     \u001b[38;5;28;01mif\u001b[39;00m sent \u001b[38;5;241m==\u001b[39m \u001b[38;5;241m0\u001b[39m:\n",
      "\u001b[0;31mBrokenPipeError\u001b[0m: [Errno 32] Broken pipe"
     ]
    }
   ],
   "source": [
    "# load output.png\n",
    "import matplotlib.pyplot as plt\n",
    "import matplotlib.image as mpimg\n",
    "img = mpimg.imread('output.png')"
   ]
  },
  {
   "cell_type": "code",
   "execution_count": null,
   "id": "135452f3",
   "metadata": {},
   "outputs": [],
   "source": []
  }
 ],
 "metadata": {
  "kernelspec": {
   "display_name": ".venv",
   "language": "python",
   "name": "python3"
  },
  "language_info": {
   "codemirror_mode": {
    "name": "ipython",
    "version": 3
   },
   "file_extension": ".py",
   "mimetype": "text/x-python",
   "name": "python",
   "nbconvert_exporter": "python",
   "pygments_lexer": "ipython3",
   "version": "3.10.12"
  }
 },
 "nbformat": 4,
 "nbformat_minor": 5
}

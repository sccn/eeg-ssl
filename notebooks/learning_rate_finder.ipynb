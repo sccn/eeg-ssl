{
 "cells": [
  {
   "cell_type": "code",
   "execution_count": 1,
   "id": "341f170d",
   "metadata": {},
   "outputs": [],
   "source": [
    "import os\n",
    "import sys\n",
    "sys.path.insert(0,'../')\n",
    "from libs.ssl_data import *\n",
    "from libs.ssl_model import *\n",
    "from libs.ssl_utils import *\n",
    "from libs.ssl_task import *\n",
    "import lightning as L\n",
    "from lightning.pytorch.tuner import Tuner\n",
    "from lightning.pytorch import Trainer, seed_everything\n",
    "\n",
    "%load_ext autoreload\n",
    "%autoreload 2"
   ]
  },
  {
   "cell_type": "code",
   "execution_count": 2,
   "id": "826d5a79",
   "metadata": {},
   "outputs": [
    {
     "name": "stderr",
     "output_type": "stream",
     "text": [
      "Seed set to 3\n"
     ]
    },
    {
     "data": {
      "text/plain": [
       "3"
      ]
     },
     "execution_count": 2,
     "metadata": {},
     "output_type": "execute_result"
    }
   ],
   "source": [
    "seed_everything(3, workers=True)"
   ]
  },
  {
   "cell_type": "code",
   "execution_count": 6,
   "id": "d3e340a8",
   "metadata": {},
   "outputs": [
    {
     "name": "stderr",
     "output_type": "stream",
     "text": [
      "GPU available: True (cuda), used: True\n",
      "TPU available: False, using: 0 TPU cores\n",
      "HPU available: False, using: 0 HPUs\n",
      "/home/dung/eeg-ssl/.venv/lib/python3.10/site-packages/lightning/pytorch/loops/utilities.py:73: `max_epochs` was not set. Setting it to 1000 epochs. To train without an epoch limit, set `max_epochs=-1`.\n"
     ]
    },
    {
     "name": "stdout",
     "output_type": "stream",
     "text": [
      "Using datasets: ['ds005509', 'ds005508', 'ds005507', 'ds005505', 'ds005506', 'ds005515', 'ds005516', 'ds005510', 'ds005511', 'ds005512', 'ds005514']\n"
     ]
    },
    {
     "name": "stderr",
     "output_type": "stream",
     "text": [
      "LOCAL_RANK: 0 - CUDA_VISIBLE_DEVICES: [0]\n",
      "/home/dung/eeg-ssl/.venv/lib/python3.10/site-packages/braindecode/datasets/base.py:575: FutureWarning: The behavior of DataFrame concatenation with empty or all-NA entries is deprecated. In a future version, this will no longer exclude empty or all-NA columns when determining the result dtypes. To retain the old behavior, exclude the relevant entries before the concat operation.\n",
      "  return pd.concat(all_dfs)\n",
      "/home/dung/eeg-ssl/.venv/lib/python3.10/site-packages/lightning/pytorch/trainer/connectors/data_connector.py:425: The 'train_dataloader' does not have many workers which may be a bottleneck. Consider increasing the value of the `num_workers` argument` to `num_workers=31` in the `DataLoader` to improve performance.\n"
     ]
    },
    {
     "name": "stdout",
     "output_type": "stream",
     "text": [
      "Using SimCLRSampler sampler with shuffle False\n",
      "Number of datasets: 2589\n",
      "Number of examples: 529106\n"
     ]
    },
    {
     "name": "stderr",
     "output_type": "stream",
     "text": [
      "/home/dung/eeg-ssl/.venv/lib/python3.10/site-packages/lightning/pytorch/trainer/connectors/data_connector.py:425: The 'val_dataloader' does not have many workers which may be a bottleneck. Consider increasing the value of the `num_workers` argument` to `num_workers=31` in the `DataLoader` to improve performance.\n"
     ]
    },
    {
     "data": {
      "application/vnd.jupyter.widget-view+json": {
       "model_id": "061ef94f2b2347beaf1d1c55060af5f3",
       "version_major": 2,
       "version_minor": 0
      },
      "text/plain": [
       "Finding best initial lr:   0%|          | 0/100 [00:00<?, ?it/s]"
      ]
     },
     "metadata": {},
     "output_type": "display_data"
    },
    {
     "name": "stderr",
     "output_type": "stream",
     "text": [
      "`Trainer.fit` stopped: `max_steps=100` reached.\n",
      "Learning rate set to 2.2908676527677725e-05\n",
      "Restoring states from the checkpoint path at /home/dung/eeg-ssl/notebooks/.lr_find_1a78509f-f0a5-4e37-ba5c-6e77e95af1fa.ckpt\n",
      "Restored all states from the checkpoint at /home/dung/eeg-ssl/notebooks/.lr_find_1a78509f-f0a5-4e37-ba5c-6e77e95af1fa.ckpt\n"
     ]
    },
    {
     "name": "stdout",
     "output_type": "stream",
     "text": [
      "{'lr': [1e-08, 1.4454397707459274e-08, 1.7378008287493753e-08, 2.0892961308540398e-08, 2.51188643150958e-08, 3.019951720402016e-08, 3.630780547701014e-08, 4.36515832240166e-08, 5.248074602497726e-08, 6.309573444801934e-08, 7.585775750291837e-08, 9.120108393559096e-08, 1.0964781961431852e-07, 1.3182567385564074e-07, 1.5848931924611133e-07, 1.9054607179632475e-07, 2.2908676527677735e-07, 2.7542287033381663e-07, 3.311311214825911e-07, 3.9810717055349735e-07, 4.786300923226383e-07, 5.75439937337157e-07, 6.918309709189366e-07, 8.317637711026709e-07, 1e-06, 1.2022644346174132e-06, 1.445439770745928e-06, 1.7378008287493761e-06, 2.089296130854039e-06, 2.5118864315095797e-06, 3.0199517204020163e-06, 3.630780547701014e-06, 4.365158322401661e-06, 5.248074602497728e-06, 6.3095734448019305e-06, 7.585775750291836e-06, 9.120108393559096e-06, 1.0964781961431852e-05, 1.3182567385564076e-05, 1.584893192461114e-05, 1.9054607179632464e-05, 2.2908676527677725e-05, 2.7542287033381663e-05, 3.311311214825911e-05, 3.9810717055349735e-05, 4.786300923226385e-05, 5.7543993733715664e-05, 6.918309709189363e-05, 8.317637711026709e-05, 0.0001, 0.00012022644346174131, 0.0001445439770745928, 0.00017378008287493763, 0.0002089296130854041, 0.0002511886431509582, 0.0003019951720402019, 0.000363078054770101, 0.0004365158322401656, 0.0005248074602497723, 0.000630957344480193, 0.0007585775750291836, 0.0009120108393559097, 0.0010964781961431851, 0.0013182567385564075, 0.001584893192461114, 0.0019054607179632484, 0.0022908676527677745, 0.002754228703338169, 0.003311311214825908, 0.003981071705534969, 0.00478630092322638, 0.005754399373371567, 0.006918309709189364, 0.008317637711026709, 0.01, 0.012022644346174132, 0.01445439770745928, 0.017378008287493765, 0.02089296130854041, 0.025118864315095822, 0.030199517204020192, 0.036307805477010104, 0.04365158322401657, 0.05248074602497723, 0.0630957344480193, 0.07585775750291836, 0.09120108393559097, 0.10964781961431852, 0.13182567385564073, 0.15848931924611143, 0.19054607179632482, 0.2290867652767775, 0.2754228703338169, 0.3311311214825908, 0.3981071705534969, 0.47863009232263803, 0.5754399373371567, 0.6918309709189363, 0.8317637711026709, 1.0], 'loss': [3.593090808752807, 4.801895777038481, 5.494874007316641, 5.93044771643935, 6.125344159043739, 6.268173673134565, 6.383089604916686, 6.462094815029746, 6.525450350169462, 6.577258937617772, 6.609387113740837, 6.659467077374449, 6.691093278207632, 6.734204890935084, 6.760976357131291, 6.7782287843665205, 6.811751770334473, 6.83047738719737, 6.85349662722457, 6.882412128051214, 6.885481912333285, 6.888891015492724, 6.8802759802398, 6.900031575914021, 6.913485351731203, 6.93539610443332, 6.939125564233643, 6.949249409057999, 6.948673902794396, 6.966519787713451, 6.981549032405704, 6.987281676832083, 6.989850404494573, 6.995198337118644, 6.9938609228554585, 6.986877161191734, 6.982183415567461, 6.978139179490129, 6.969978685191008, 6.968140387907875, 6.955552830144047, 6.939364155765005, 6.917198861900656, 6.902842571926065, 6.88134928873888, 6.8828202938539205, 6.8724607836873925, 6.860668200153101, 6.886197494590195, 6.875705657034145, 6.854241588502269, 6.856486969362827, 6.846099806817427, 6.845196715625844, 6.845627035878998, 6.847842031585242, 6.836794605705575, 6.8280795654476885, 6.8205420804290835, 6.810168600767747, 6.805690676119305, 6.792811813131639, 6.785257765018794, 6.783326819805153, 6.778791060314492, 6.783214569057379, 6.779986377271383, 6.768690665528569, 6.76868460277373, 6.761462366474832, 6.758014351811388, 6.749401605320536, 6.749557080980061, 6.7658668986454, 6.7595131599630385, 6.765612401815755, 6.772267479838714, 6.779244180262036, 6.783498661351948, 6.798129872791104, 6.8158186293648315, 6.827134847000685, 6.836990697339582, 6.85903204011558, 6.88167140903266, 6.89430714572865, 6.911046957899566, 6.9252458854563645, 6.932975569034841, 6.945007872903519, 6.961675924704114, 6.975793188713285, 6.9841298275358366, 6.985906548902824, 7.003349548737285, 7.010829793940673, 7.018291155877586, 7.030362792007061, 7.034645963837615, 7.036583495458832]}\n"
     ]
    },
    {
     "data": {
      "text/plain": [
       "2.2908676527677725e-05"
      ]
     },
     "execution_count": 6,
     "metadata": {},
     "output_type": "execute_result"
    },
    {
     "data": {
      "image/png": "[encoded data removed]",
      "text/plain": [
       "<Figure size 640x480 with 1 Axes>"
      ]
     },
     "metadata": {},
     "output_type": "display_data"
    }
   ],
   "source": [
    "model = SimCLR.SimCLRLit(\n",
    "        encoder_path='braindecode.models.Deep4Net', \n",
    "        encoder_kwargs={\n",
    "                'n_outputs': 1024, \n",
    "                'n_chans': 129,\n",
    "                'n_times': 500,\n",
    "        },\n",
    "        emb_size=128,\n",
    "        encoder_emb_size=1024\n",
    ")\n",
    "trainer = L.Trainer()\n",
    "tuner = Tuner(trainer)\n",
    "datasets = ['ds005509','ds005508','ds005507','ds005505', 'ds005506', 'ds005515', 'ds005516', 'ds005510', 'ds005511', 'ds005512', 'ds005514']\n",
    "data = SSLHBNDataModule(ssl_task=SimCLR(tau_pos_s=10), datasets=datasets, window_len_s=2, cache_dir='data')\n",
    "# Run learning rate finder\n",
    "lr_finder = tuner.lr_find(model, datamodule=data)\n",
    "\n",
    "# Results can be found in\n",
    "print(lr_finder.results)\n",
    "\n",
    "# Plot with\n",
    "fig = lr_finder.plot(suggest=True)\n",
    "fig.show()\n",
    "\n",
    "# Pick point based on plot, or get suggestion\n",
    "new_lr = lr_finder.suggestion()\n",
    "new_lr\n",
    "# # update hparams of the model\n",
    "# model.hparams.lr = new_lr\n",
    "\n",
    "# # Fit model\n",
    "# trainer.fit(model,data)"
   ]
  },
  {
   "cell_type": "code",
   "execution_count": null,
   "id": "2561851a",
   "metadata": {},
   "outputs": [
    {
     "name": "stderr",
     "output_type": "stream",
     "text": [
      "GPU available: True (cuda), used: True\n",
      "TPU available: False, using: 0 TPU cores\n",
      "HPU available: False, using: 0 HPUs\n"
     ]
    },
    {
     "name": "stdout",
     "output_type": "stream",
     "text": [
      "=================================================================================================================================================\n",
      "Layer (type (var_name):depth-idx)             Input Shape               Output Shape              Param #                   Kernel Shape\n",
      "=================================================================================================================================================\n",
      "Deep4Net (Deep4Net)                           [1, 129, 500]             [1, 1]                    --                        --\n",
      "├─Ensure4d (ensuredims): 1-1                  [1, 129, 500]             [1, 129, 500, 1]          --                        --\n",
      "├─Rearrange (dimshuffle): 1-2                 [1, 129, 500, 1]          [1, 1, 500, 129]          --                        --\n",
      "├─CombinedConv (conv_time_spat): 1-3          [1, 1, 500, 129]          [1, 25, 491, 1]           80,900                    --\n",
      "├─BatchNorm2d (bnorm): 1-4                    [1, 25, 491, 1]           [1, 25, 491, 1]           50                        --\n",
      "├─ELU (conv_nonlin): 1-5                      [1, 25, 491, 1]           [1, 25, 491, 1]           --                        --\n",
      "├─MaxPool2d (pool): 1-6                       [1, 25, 491, 1]           [1, 25, 163, 1]           --                        [3, 1]\n",
      "├─Identity (pool_nonlin): 1-7                 [1, 25, 163, 1]           [1, 25, 163, 1]           --                        --\n",
      "├─Dropout (drop_2): 1-8                       [1, 25, 163, 1]           [1, 25, 163, 1]           --                        --\n",
      "├─Conv2d (conv_2): 1-9                        [1, 25, 163, 1]           [1, 50, 154, 1]           12,500                    [10, 1]\n",
      "├─BatchNorm2d (bnorm_2): 1-10                 [1, 50, 154, 1]           [1, 50, 154, 1]           100                       --\n",
      "├─ELU (nonlin_2): 1-11                        [1, 50, 154, 1]           [1, 50, 154, 1]           --                        --\n",
      "├─MaxPool2d (pool_2): 1-12                    [1, 50, 154, 1]           [1, 50, 51, 1]            --                        [3, 1]\n",
      "├─Identity (pool_nonlin_2): 1-13              [1, 50, 51, 1]            [1, 50, 51, 1]            --                        --\n",
      "├─Dropout (drop_3): 1-14                      [1, 50, 51, 1]            [1, 50, 51, 1]            --                        --\n",
      "├─Conv2d (conv_3): 1-15                       [1, 50, 51, 1]            [1, 100, 42, 1]           50,000                    [10, 1]\n",
      "├─BatchNorm2d (bnorm_3): 1-16                 [1, 100, 42, 1]           [1, 100, 42, 1]           200                       --\n",
      "├─ELU (nonlin_3): 1-17                        [1, 100, 42, 1]           [1, 100, 42, 1]           --                        --\n",
      "├─MaxPool2d (pool_3): 1-18                    [1, 100, 42, 1]           [1, 100, 14, 1]           --                        [3, 1]\n",
      "├─Identity (pool_nonlin_3): 1-19              [1, 100, 14, 1]           [1, 100, 14, 1]           --                        --\n",
      "├─Dropout (drop_4): 1-20                      [1, 100, 14, 1]           [1, 100, 14, 1]           --                        --\n",
      "├─Conv2d (conv_4): 1-21                       [1, 100, 14, 1]           [1, 200, 5, 1]            200,000                   [10, 1]\n",
      "├─BatchNorm2d (bnorm_4): 1-22                 [1, 200, 5, 1]            [1, 200, 5, 1]            400                       --\n",
      "├─ELU (nonlin_4): 1-23                        [1, 200, 5, 1]            [1, 200, 5, 1]            --                        --\n",
      "├─MaxPool2d (pool_4): 1-24                    [1, 200, 5, 1]            [1, 200, 1, 1]            --                        [3, 1]\n",
      "├─Identity (pool_nonlin_4): 1-25              [1, 200, 1, 1]            [1, 200, 1, 1]            --                        --\n",
      "├─Sequential (final_layer): 1-26              [1, 200, 1, 1]            [1, 1]                    --                        --\n",
      "│    └─Conv2d (conv_classifier): 2-1          [1, 200, 1, 1]            [1, 1, 1, 1]              201                       [1, 1]\n",
      "│    └─SqueezeFinalOutput (squeeze): 2-2      [1, 1, 1, 1]              [1, 1]                    --                        --\n",
      "│    │    └─Rearrange (squeeze): 3-1          [1, 1, 1, 1]              [1, 1, 1]                 --                        --\n",
      "=================================================================================================================================================\n",
      "Total params: 344,351\n",
      "Trainable params: 344,351\n",
      "Non-trainable params: 0\n",
      "Total mult-adds (M): 5.03\n",
      "=================================================================================================================================================\n",
      "Input size (MB): 0.26\n",
      "Forward/backward pass size (MB): 0.30\n",
      "Params size (MB): 1.05\n",
      "Estimated Total Size (MB): 1.62\n",
      "=================================================================================================================================================\n",
      "set bias\n",
      "Using datasets: ['ds005509', 'ds005508', 'ds005507', 'ds005505', 'ds005506', 'ds005515', 'ds005516', 'ds005510', 'ds005511', 'ds005512', 'ds005514']\n"
     ]
    },
    {
     "name": "stderr",
     "output_type": "stream",
     "text": [
      "/home/dung/eeg-ssl/.venv/lib/python3.10/site-packages/lightning/pytorch/loops/utilities.py:73: `max_epochs` was not set. Setting it to 1000 epochs. To train without an epoch limit, set `max_epochs=-1`.\n",
      "LOCAL_RANK: 0 - CUDA_VISIBLE_DEVICES: [0]\n"
     ]
    },
    {
     "name": "stdout",
     "output_type": "stream",
     "text": [
      "Number of datasets: 2589\n",
      "Number of examples: 529106\n"
     ]
    },
    {
     "name": "stderr",
     "output_type": "stream",
     "text": [
      "/home/dung/eeg-ssl/.venv/lib/python3.10/site-packages/lightning/pytorch/trainer/connectors/data_connector.py:425: The 'train_dataloader' does not have many workers which may be a bottleneck. Consider increasing the value of the `num_workers` argument` to `num_workers=31` in the `DataLoader` to improve performance.\n",
      "/home/dung/eeg-ssl/.venv/lib/python3.10/site-packages/lightning/pytorch/trainer/connectors/data_connector.py:425: The 'val_dataloader' does not have many workers which may be a bottleneck. Consider increasing the value of the `num_workers` argument` to `num_workers=31` in the `DataLoader` to improve performance.\n"
     ]
    },
    {
     "data": {
      "application/vnd.jupyter.widget-view+json": {
       "model_id": "3b1f1cb2161c4e33ba88a8340b9b43db",
       "version_major": 2,
       "version_minor": 0
      },
      "text/plain": [
       "Finding best initial lr:   0%|          | 0/100 [00:00<?, ?it/s]"
      ]
     },
     "metadata": {},
     "output_type": "display_data"
    },
    {
     "name": "stderr",
     "output_type": "stream",
     "text": [
      "`Trainer.fit` stopped: `max_steps=100` reached.\n",
      "Learning rate set to 0.008317637711026709\n",
      "Restoring states from the checkpoint path at /home/dung/eeg-ssl/notebooks/.lr_find_e028b8ec-35cf-49d2-ba6a-4903f9bade38.ckpt\n",
      "Restored all states from the checkpoint at /home/dung/eeg-ssl/notebooks/.lr_find_e028b8ec-35cf-49d2-ba6a-4903f9bade38.ckpt\n"
     ]
    },
    {
     "name": "stdout",
     "output_type": "stream",
     "text": [
      "{'lr': [1e-08, 1.4454397707459274e-08, 1.7378008287493753e-08, 2.0892961308540398e-08, 2.51188643150958e-08, 3.019951720402016e-08, 3.630780547701014e-08, 4.36515832240166e-08, 5.248074602497726e-08, 6.309573444801934e-08, 7.585775750291837e-08, 9.120108393559096e-08, 1.0964781961431852e-07, 1.3182567385564074e-07, 1.5848931924611133e-07, 1.9054607179632475e-07, 2.2908676527677735e-07, 2.7542287033381663e-07, 3.311311214825911e-07, 3.9810717055349735e-07, 4.786300923226383e-07, 5.75439937337157e-07, 6.918309709189366e-07, 8.317637711026709e-07, 1e-06, 1.2022644346174132e-06, 1.445439770745928e-06, 1.7378008287493761e-06, 2.089296130854039e-06, 2.5118864315095797e-06, 3.0199517204020163e-06, 3.630780547701014e-06, 4.365158322401661e-06, 5.248074602497728e-06, 6.3095734448019305e-06, 7.585775750291836e-06, 9.120108393559096e-06, 1.0964781961431852e-05, 1.3182567385564076e-05, 1.584893192461114e-05, 1.9054607179632464e-05, 2.2908676527677725e-05, 2.7542287033381663e-05, 3.311311214825911e-05, 3.9810717055349735e-05, 4.786300923226385e-05, 5.7543993733715664e-05, 6.918309709189363e-05, 8.317637711026709e-05, 0.0001, 0.00012022644346174131, 0.0001445439770745928, 0.00017378008287493763, 0.0002089296130854041, 0.0002511886431509582, 0.0003019951720402019, 0.000363078054770101, 0.0004365158322401656, 0.0005248074602497723, 0.000630957344480193, 0.0007585775750291836, 0.0009120108393559097, 0.0010964781961431851, 0.0013182567385564075, 0.001584893192461114, 0.0019054607179632484, 0.0022908676527677745, 0.002754228703338169, 0.003311311214825908, 0.003981071705534969, 0.00478630092322638, 0.005754399373371567, 0.006918309709189364, 0.008317637711026709, 0.01, 0.012022644346174132, 0.01445439770745928, 0.017378008287493765, 0.02089296130854041, 0.025118864315095822, 0.030199517204020192, 0.036307805477010104, 0.04365158322401657, 0.05248074602497723, 0.0630957344480193, 0.07585775750291836, 0.09120108393559097, 0.10964781961431852, 0.13182567385564073, 0.15848931924611143, 0.19054607179632482, 0.2290867652767775, 0.2754228703338169, 0.3311311214825908, 0.3981071705534969, 0.47863009232263803, 0.5754399373371567, 0.6918309709189363, 0.8317637711026709, 1.0], 'loss': [53.23896311750309, 68.16508739825865, 84.1007107870437, 93.02843365041232, 98.9274956553788, 102.61381102023809, 105.37817144308046, 105.04719492348733, 105.80892161369414, 106.48663714670727, 107.95772879926879, 108.08772419988698, 108.6009928902632, 110.42297970541784, 110.25551184684753, 109.57473073202678, 109.08807906067887, 109.49392315839094, 110.06960760581863, 110.04929416055401, 109.54782869604637, 110.35687978132519, 110.8912345488505, 110.49776831757856, 110.58083947531055, 110.89196850515896, 111.48472031042917, 111.62427662039963, 111.89947082319374, 111.83392867059254, 112.1597486226481, 111.70908039764599, 112.3133823076785, 112.11160985656535, 111.76204038736401, 112.26645114185352, 112.06439248504869, 111.8491078549444, 112.09269472053889, 112.18608056641675, 112.45895030513392, 112.64358978742396, 112.73556779761972, 112.50866916306127, 112.14646542560742, 111.98059298136856, 111.8408647167558, 112.08158374149217, 112.107478446622, 111.95094729505819, 112.04815382302455, 111.82546956129873, 111.79410032133757, 111.34501762973917, 111.11841974635733, 110.85033547974889, 109.83303066482264, 109.49902551073795, 109.20035979359245, 108.49846623947892, 107.63778914333216, 106.63651909804535, 106.01587907822004, 104.87934671293016, 104.60123171681153, 103.37522371803665, 102.85697124164766, 101.69126911275073, 100.40965346394741, 98.80673404605818, 97.61075284979948, 96.08721440260601, 94.56543551532722, 92.52641765104464, 90.73415227686756, 88.99398107006472, 87.87424701172897, 86.60331341381753, 85.04639686004325, 83.32982943555999, 81.56776138932216, 80.0736785913541, 78.60266260676825, 76.96710394847666, 75.72111195469398, 74.46458876023469, 73.26142599131654, 72.04442594945863, 70.74648657774112, 69.30979565834704, 68.13025977345691, 66.97113687167716, 65.99451918521426, 64.74828365110336, 63.79411088803002, 62.83084320806197, 62.03573254178172, 61.55704289841515, 60.8638921642181, 61.366365982145005]}\n"
     ]
    },
    {
     "data": {
      "text/plain": [
       "0.008317637711026709"
      ]
     },
     "execution_count": 35,
     "metadata": {},
     "output_type": "execute_result"
    },
    {
     "data": {
      "image/png": "[encoded data removed]",
      "text/plain": [
       "<Figure size 640x480 with 1 Axes>"
      ]
     },
     "metadata": {},
     "output_type": "display_data"
    }
   ],
   "source": [
    "model = Regression.RegressionLit(encoder_path='braindecode.models.Deep4Net', encoder_kwargs={\n",
    "        'n_outputs': 1, \n",
    "        'n_chans': 129,\n",
    "        'n_times': 500,\n",
    "})\n",
    "trainer = L.Trainer()\n",
    "tuner = Tuner(trainer)\n",
    "ssl_task = RelativePositioning(\n",
    "    tau_pos_s=100,\n",
    "    n_samples_per_dataset=100,\n",
    "    same_rec_neg=False\n",
    ")\n",
    "data = SSLHBNDataModule(ssl_task=ssl_task, datasets=datasets, window_len_s=2, cache_dir='data')\n",
    "# Run learning rate finder\n",
    "lr_finder = tuner.lr_find(model, datamodule=data)\n",
    "\n",
    "# Results can be found in\n",
    "print(lr_finder.results)\n",
    "\n",
    "# Plot with\n",
    "fig = lr_finder.plot(suggest=True)\n",
    "fig.show()\n",
    "\n",
    "# Pick point based on plot, or get suggestion\n",
    "new_lr = lr_finder.suggestion()\n",
    "new_lr\n",
    "# # update hparams of the model\n",
    "# model.hparams.lr = new_lr\n",
    "\n",
    "# # Fit model\n",
    "# trainer.fit(model,data)"
   ]
  },
  {
   "cell_type": "code",
   "execution_count": null,
   "id": "ef34655b",
   "metadata": {},
   "outputs": [],
   "source": []
  }
 ],
 "metadata": {
  "kernelspec": {
   "display_name": ".venv",
   "language": "python",
   "name": "python3"
  },
  "language_info": {
   "codemirror_mode": {
    "name": "ipython",
    "version": 3
   },
   "file_extension": ".py",
   "mimetype": "text/x-python",
   "name": "python",
   "nbconvert_exporter": "python",
   "pygments_lexer": "ipython3",
   "version": "3.10.12"
  }
 },
 "nbformat": 4,
 "nbformat_minor": 5
}

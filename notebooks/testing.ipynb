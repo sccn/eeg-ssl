{
  "nbformat": 4,
  "nbformat_minor": 0,
  "metadata": {
    "colab": {
      "provenance": []
    },
    "kernelspec": {
      "name": "python3",
      "display_name": "Python 3"
    },
    "language_info": {
      "name": "python"
    }
  },
  "cells": [
    {
      "cell_type": "code",
      "execution_count": null,
      "metadata": {
        "id": "jZjGE-n6-6yw"
      },
      "outputs": [],
      "source": [
        "from libs.ssl_model import Wav2Vec2\n",
        "from libs.ssl_utils import MaskedContrastiveLearningTask, RelativePositioningTask, TemporalShufflingTask\n",
        "\n",
        "data = RandomDataset()\n",
        "task = MaskedContrastiveLearningTask(data)\n",
        "model = Wav2Vec2([10, 3, 3, 3, 3, 2, 2], [2, 1, 1, 1, 1, 1, 1])\n",
        "task.train(model, {'num_epochs': 10, 'batch_size': 1, 'print_every': 1})"
      ]
    }
  ]
}
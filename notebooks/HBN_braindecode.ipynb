{
 "cells": [
  {
   "cell_type": "code",
   "execution_count": 2,
   "metadata": {},
   "outputs": [],
   "source": [
    "import os\n",
    "import sys\n",
    "sys.path.insert(0,'../')\n",
    "from libs.ssl_dataloader import *\n",
    "from libs.ssl_model import *\n",
    "from libs.ssl_utils import *\n",
    "from libs.eeg_utils import *\n",
    "from braindecode.preprocessing import (\n",
    "    preprocess, Preprocessor, create_fixed_length_windows)\n",
    "from braindecode.datasets import BaseDataset, BaseConcatDataset, WindowsDataset\n",
    "from braindecode.preprocessing.windowers import EEGWindowsDataset\n",
    "from braindecode.datautil import load_concat_dataset\n",
    "%load_ext autoreload\n",
    "%autoreload 2\n",
    "import torch\n",
    "from torch import nn, optim\n",
    "from torch.utils.data import DataLoader"
   ]
  },
  {
   "cell_type": "code",
   "execution_count": 3,
   "metadata": {},
   "outputs": [],
   "source": [
    "random_state = 87\n",
    "n_jobs = -1"
   ]
  },
  {
   "cell_type": "code",
   "execution_count": 4,
   "metadata": {},
   "outputs": [],
   "source": [
    "datasets = []\n",
    "releases = list(range(9,0,-1))\n",
    "hbn_datasets = ['ds005514','ds005512','ds005511','ds005510','ds005509','ds005508','ds005507','ds005506','ds005505']\n",
    "hbn_release_ds = dict(zip(releases,hbn_datasets))"
   ]
  },
  {
   "cell_type": "code",
   "execution_count": 5,
   "metadata": {},
   "outputs": [
    {
     "data": {
      "text/plain": [
       "{9: 'ds005514',\n",
       " 8: 'ds005512',\n",
       " 7: 'ds005511',\n",
       " 6: 'ds005510',\n",
       " 5: 'ds005509',\n",
       " 4: 'ds005508',\n",
       " 3: 'ds005507',\n",
       " 2: 'ds005506',\n",
       " 1: 'ds005505'}"
      ]
     },
     "execution_count": 5,
     "metadata": {},
     "output_type": "execute_result"
    }
   ],
   "source": [
    "hbn_release_ds"
   ]
  },
  {
   "cell_type": "code",
   "execution_count": 34,
   "metadata": {},
   "outputs": [
    {
     "name": "stdout",
     "output_type": "stream",
     "text": [
      "Reading /mnt/nemar/openneuro/ds005505/sub-NDARLV387GP4/eeg/sub-NDARLV387GP4_task-RestingState_eeg.set\n",
      "Reading /mnt/nemar/openneuro/ds005505/sub-NDARPL306LC6/eeg/sub-NDARPL306LC6_task-RestingState_eeg.set\n",
      "Reading /mnt/nemar/openneuro/ds005505/sub-NDARUW904FMQ/eeg/sub-NDARUW904FMQ_task-RestingState_eeg.set\n",
      "Reading /mnt/nemar/openneuro/ds005505/sub-NDARZC499NVX/eeg/sub-NDARZC499NVX_task-RestingState_eeg.set\n",
      "Reading /mnt/nemar/openneuro/ds005505/sub-NDARCJ594BWQ/eeg/sub-NDARCJ594BWQ_task-RestingState_eeg.set\n",
      "Reading /mnt/nemar/openneuro/ds005505/sub-NDARDL511UND/eeg/sub-NDARDL511UND_task-RestingState_eeg.set\n",
      "Reading /mnt/nemar/openneuro/ds005505/sub-NDARBK082PDD/eeg/sub-NDARBK082PDD_task-RestingState_eeg.set\n",
      "Reading /mnt/nemar/openneuro/ds005505/sub-NDARPC817XZ5/eeg/sub-NDARPC817XZ5_task-RestingState_eeg.set\n",
      "Reading /mnt/nemar/openneuro/ds005505/sub-NDARYD546HCB/eeg/sub-NDARYD546HCB_task-RestingState_eeg.set\n",
      "Reading /mnt/nemar/openneuro/ds005505/sub-NDARCE721YB5/eeg/sub-NDARCE721YB5_task-RestingState_eeg.set\n",
      "Reading /mnt/nemar/openneuro/ds005505/sub-NDARRD326KB9/eeg/sub-NDARRD326KB9_task-RestingState_eeg.set\n",
      "Reading /mnt/nemar/openneuro/ds005505/sub-NDARFT581ZW5/eeg/sub-NDARFT581ZW5_task-RestingState_eeg.set\n",
      "Reading /mnt/nemar/openneuro/ds005505/sub-NDARYZ770NA1/eeg/sub-NDARYZ770NA1_task-RestingState_eeg.set\n",
      "Reading /mnt/nemar/openneuro/ds005505/sub-NDARHR753ZKU/eeg/sub-NDARHR753ZKU_task-RestingState_eeg.set\n",
      "Reading /mnt/nemar/openneuro/ds005505/sub-NDARAW320CGR/eeg/sub-NDARAW320CGR_task-RestingState_eeg.set\n",
      "Reading /mnt/nemar/openneuro/ds005505/sub-NDARCA153NKE/eeg/sub-NDARCA153NKE_task-RestingState_eeg.set\n",
      "Reading /mnt/nemar/openneuro/ds005505/sub-NDARET632ELD/eeg/sub-NDARET632ELD_task-RestingState_eeg.set\n",
      "Reading /mnt/nemar/openneuro/ds005505/sub-NDARUR987CDM/eeg/sub-NDARUR987CDM_task-RestingState_eeg.set\n",
      "Reading /mnt/nemar/openneuro/ds005505/sub-NDARBM173BJG/eeg/sub-NDARBM173BJG_task-RestingState_eeg.set\n",
      "Reading /mnt/nemar/openneuro/ds005505/sub-NDARVD685RRJ/eeg/sub-NDARVD685RRJ_task-RestingState_eeg.set\n",
      "Reading /mnt/nemar/openneuro/ds005505/sub-NDARXH597ML1/eeg/sub-NDARXH597ML1_task-RestingState_eeg.set\n",
      "Reading /mnt/nemar/openneuro/ds005505/sub-NDARCZ947WU5/eeg/sub-NDARCZ947WU5_task-RestingState_eeg.set\n",
      "Reading /mnt/nemar/openneuro/ds005505/sub-NDARGJ627BL2/eeg/sub-NDARGJ627BL2_task-RestingState_eeg.set\n",
      "Reading /mnt/nemar/openneuro/ds005505/sub-NDARXY938XY7/eeg/sub-NDARXY938XY7_task-RestingState_eeg.set\n",
      "Reading /mnt/nemar/openneuro/ds005505/sub-NDARWP954GPJ/eeg/sub-NDARWP954GPJ_task-RestingState_eeg.set\n",
      "Reading /mnt/nemar/openneuro/ds005505/sub-NDARFK610GY5/eeg/sub-NDARFK610GY5_task-RestingState_eeg.set\n",
      "Reading /mnt/nemar/openneuro/ds005505/sub-NDARYF135ZHU/eeg/sub-NDARYF135ZHU_task-RestingState_eeg.set\n",
      "Reading /mnt/nemar/openneuro/ds005505/sub-NDARBX400RTC/eeg/sub-NDARBX400RTC_task-RestingState_eeg.set\n",
      "Reading /mnt/nemar/openneuro/ds005505/sub-NDARJK910PDK/eeg/sub-NDARJK910PDK_task-RestingState_eeg.set\n",
      "Reading /mnt/nemar/openneuro/ds005505/sub-NDARMD575AXD/eeg/sub-NDARMD575AXD_task-RestingState_eeg.set\n",
      "Reading /mnt/nemar/openneuro/ds005505/sub-NDARXZ685TU4/eeg/sub-NDARXZ685TU4_task-RestingState_eeg.set\n",
      "Reading /mnt/nemar/openneuro/ds005505/sub-NDARZD415ZZ1/eeg/sub-NDARZD415ZZ1_task-RestingState_eeg.set\n"
     ]
    },
    {
     "name": "stderr",
     "output_type": "stream",
     "text": [
      "/home/dung/eeg-ssl/notebooks/../libs/ssl_dataloader.py:48: RuntimeWarning: The data contains 'boundary' events, indicating data discontinuities. Be cautious of filtering and epoching around these events.\n",
      "  raw = mne.io.read_raw_eeglab(f, preload=preload)\n",
      "/home/dung/eeg-ssl/notebooks/../libs/ssl_dataloader.py:48: RuntimeWarning: The data contains 'boundary' events, indicating data discontinuities. Be cautious of filtering and epoching around these events.\n",
      "  raw = mne.io.read_raw_eeglab(f, preload=preload)\n",
      "/home/dung/eeg-ssl/notebooks/../libs/ssl_dataloader.py:48: RuntimeWarning: The data contains 'boundary' events, indicating data discontinuities. Be cautious of filtering and epoching around these events.\n",
      "  raw = mne.io.read_raw_eeglab(f, preload=preload)\n",
      "/home/dung/eeg-ssl/notebooks/../libs/ssl_dataloader.py:48: RuntimeWarning: The data contains 'boundary' events, indicating data discontinuities. Be cautious of filtering and epoching around these events.\n",
      "  raw = mne.io.read_raw_eeglab(f, preload=preload)\n",
      "/home/dung/eeg-ssl/notebooks/../libs/ssl_dataloader.py:48: RuntimeWarning: The data contains 'boundary' events, indicating data discontinuities. Be cautious of filtering and epoching around these events.\n",
      "  raw = mne.io.read_raw_eeglab(f, preload=preload)\n",
      "/home/dung/eeg-ssl/notebooks/../libs/ssl_dataloader.py:48: RuntimeWarning: The data contains 'boundary' events, indicating data discontinuities. Be cautious of filtering and epoching around these events.\n",
      "  raw = mne.io.read_raw_eeglab(f, preload=preload)\n",
      "/home/dung/eeg-ssl/notebooks/../libs/ssl_dataloader.py:48: RuntimeWarning: The data contains 'boundary' events, indicating data discontinuities. Be cautious of filtering and epoching around these events.\n",
      "  raw = mne.io.read_raw_eeglab(f, preload=preload)\n",
      "/home/dung/eeg-ssl/notebooks/../libs/ssl_dataloader.py:48: RuntimeWarning: The data contains 'boundary' events, indicating data discontinuities. Be cautious of filtering and epoching around these events.\n",
      "  raw = mne.io.read_raw_eeglab(f, preload=preload)\n",
      "/home/dung/eeg-ssl/notebooks/../libs/ssl_dataloader.py:48: RuntimeWarning: The data contains 'boundary' events, indicating data discontinuities. Be cautious of filtering and epoching around these events.\n",
      "  raw = mne.io.read_raw_eeglab(f, preload=preload)\n",
      "/home/dung/eeg-ssl/notebooks/../libs/ssl_dataloader.py:48: RuntimeWarning: The data contains 'boundary' events, indicating data discontinuities. Be cautious of filtering and epoching around these events.\n",
      "  raw = mne.io.read_raw_eeglab(f, preload=preload)\n",
      "/home/dung/eeg-ssl/notebooks/../libs/ssl_dataloader.py:48: RuntimeWarning: The data contains 'boundary' events, indicating data discontinuities. Be cautious of filtering and epoching around these events.\n",
      "  raw = mne.io.read_raw_eeglab(f, preload=preload)\n",
      "/home/dung/eeg-ssl/notebooks/../libs/ssl_dataloader.py:48: RuntimeWarning: The data contains 'boundary' events, indicating data discontinuities. Be cautious of filtering and epoching around these events.\n",
      "  raw = mne.io.read_raw_eeglab(f, preload=preload)\n",
      "/home/dung/eeg-ssl/notebooks/../libs/ssl_dataloader.py:48: RuntimeWarning: The data contains 'boundary' events, indicating data discontinuities. Be cautious of filtering and epoching around these events.\n",
      "  raw = mne.io.read_raw_eeglab(f, preload=preload)\n",
      "/home/dung/eeg-ssl/notebooks/../libs/ssl_dataloader.py:48: RuntimeWarning: The data contains 'boundary' events, indicating data discontinuities. Be cautious of filtering and epoching around these events.\n",
      "  raw = mne.io.read_raw_eeglab(f, preload=preload)\n",
      "/home/dung/eeg-ssl/notebooks/../libs/ssl_dataloader.py:48: RuntimeWarning: The data contains 'boundary' events, indicating data discontinuities. Be cautious of filtering and epoching around these events.\n",
      "  raw = mne.io.read_raw_eeglab(f, preload=preload)\n"
     ]
    },
    {
     "name": "stdout",
     "output_type": "stream",
     "text": [
      "Reading /mnt/nemar/openneuro/ds005505/sub-NDARCJ475WJP/eeg/sub-NDARCJ475WJP_task-RestingState_eeg.set\n",
      "Reading /mnt/nemar/openneuro/ds005505/sub-NDARUT607MWK/eeg/sub-NDARUT607MWK_task-RestingState_eeg.set\n",
      "Reading /mnt/nemar/openneuro/ds005505/sub-NDARZH761YA7/eeg/sub-NDARZH761YA7_task-RestingState_eeg.set\n",
      "Reading /mnt/nemar/openneuro/ds005505/sub-NDARZV608BL8/eeg/sub-NDARZV608BL8_task-RestingState_eeg.set\n",
      "Reading /mnt/nemar/openneuro/ds005505/sub-NDARRL660CME/eeg/sub-NDARRL660CME_task-RestingState_eeg.set\n",
      "Reading /mnt/nemar/openneuro/ds005505/sub-NDARUN300FG1/eeg/sub-NDARUN300FG1_task-RestingState_eeg.set\n",
      "Reading /mnt/nemar/openneuro/ds005505/sub-NDARXR965TFK/eeg/sub-NDARXR965TFK_task-RestingState_eeg.set\n"
     ]
    },
    {
     "name": "stderr",
     "output_type": "stream",
     "text": [
      "/home/dung/eeg-ssl/notebooks/../libs/ssl_dataloader.py:48: RuntimeWarning: The data contains 'boundary' events, indicating data discontinuities. Be cautious of filtering and epoching around these events.\n",
      "  raw = mne.io.read_raw_eeglab(f, preload=preload)\n",
      "/home/dung/eeg-ssl/notebooks/../libs/ssl_dataloader.py:48: RuntimeWarning: The data contains 'boundary' events, indicating data discontinuities. Be cautious of filtering and epoching around these events.\n",
      "  raw = mne.io.read_raw_eeglab(f, preload=preload)\n"
     ]
    },
    {
     "name": "stdout",
     "output_type": "stream",
     "text": [
      "Reading /mnt/nemar/openneuro/ds005505/sub-NDARJU805JG5/eeg/sub-NDARJU805JG5_task-RestingState_eeg.set\n",
      "Reading /mnt/nemar/openneuro/ds005505/sub-NDARDV088AA3/eeg/sub-NDARDV088AA3_task-RestingState_eeg.set\n",
      "Reading /mnt/nemar/openneuro/ds005505/sub-NDARUN221VCJ/eeg/sub-NDARUN221VCJ_task-RestingState_eeg.set\n",
      "Reading /mnt/nemar/openneuro/ds005505/sub-NDARVB297WUM/eeg/sub-NDARVB297WUM_task-RestingState_eeg.set\n"
     ]
    },
    {
     "name": "stderr",
     "output_type": "stream",
     "text": [
      "/home/dung/eeg-ssl/notebooks/../libs/ssl_dataloader.py:48: RuntimeWarning: The data contains 'boundary' events, indicating data discontinuities. Be cautious of filtering and epoching around these events.\n",
      "  raw = mne.io.read_raw_eeglab(f, preload=preload)\n"
     ]
    },
    {
     "name": "stdout",
     "output_type": "stream",
     "text": [
      "Reading /mnt/nemar/openneuro/ds005505/sub-NDARCJ170CT9/eeg/sub-NDARCJ170CT9_task-RestingState_eeg.set\n",
      "Reading /mnt/nemar/openneuro/ds005505/sub-NDARGB441VVD/eeg/sub-NDARGB441VVD_task-RestingState_eeg.set\n",
      "Reading /mnt/nemar/openneuro/ds005505/sub-NDARCR499NE4/eeg/sub-NDARCR499NE4_task-RestingState_eeg.set\n"
     ]
    },
    {
     "name": "stderr",
     "output_type": "stream",
     "text": [
      "/home/dung/eeg-ssl/notebooks/../libs/ssl_dataloader.py:48: RuntimeWarning: The data contains 'boundary' events, indicating data discontinuities. Be cautious of filtering and epoching around these events.\n",
      "  raw = mne.io.read_raw_eeglab(f, preload=preload)\n",
      "/home/dung/eeg-ssl/notebooks/../libs/ssl_dataloader.py:48: RuntimeWarning: The data contains 'boundary' events, indicating data discontinuities. Be cautious of filtering and epoching around these events.\n",
      "  raw = mne.io.read_raw_eeglab(f, preload=preload)\n"
     ]
    },
    {
     "name": "stdout",
     "output_type": "stream",
     "text": [
      "Reading /mnt/nemar/openneuro/ds005505/sub-NDARUX216VHK/eeg/sub-NDARUX216VHK_task-RestingState_eeg.set\n"
     ]
    },
    {
     "name": "stderr",
     "output_type": "stream",
     "text": [
      "/home/dung/eeg-ssl/notebooks/../libs/ssl_dataloader.py:48: RuntimeWarning: The data contains 'boundary' events, indicating data discontinuities. Be cautious of filtering and epoching around these events.\n",
      "  raw = mne.io.read_raw_eeglab(f, preload=preload)\n"
     ]
    },
    {
     "name": "stdout",
     "output_type": "stream",
     "text": [
      "Reading /mnt/nemar/openneuro/ds005505/sub-NDARVX337AC0/eeg/sub-NDARVX337AC0_task-RestingState_eeg.set\n",
      "Reading /mnt/nemar/openneuro/ds005505/sub-NDARYT885XH3/eeg/sub-NDARYT885XH3_task-RestingState_eeg.set\n"
     ]
    },
    {
     "name": "stderr",
     "output_type": "stream",
     "text": [
      "/home/dung/eeg-ssl/notebooks/../libs/ssl_dataloader.py:48: RuntimeWarning: The data contains 'boundary' events, indicating data discontinuities. Be cautious of filtering and epoching around these events.\n",
      "  raw = mne.io.read_raw_eeglab(f, preload=preload)\n",
      "/home/dung/eeg-ssl/notebooks/../libs/ssl_dataloader.py:48: RuntimeWarning: The data contains 'boundary' events, indicating data discontinuities. Be cautious of filtering and epoching around these events.\n",
      "  raw = mne.io.read_raw_eeglab(f, preload=preload)\n"
     ]
    },
    {
     "name": "stdout",
     "output_type": "stream",
     "text": [
      "Reading /mnt/nemar/openneuro/ds005505/sub-NDARTF133LLM/eeg/sub-NDARTF133LLM_task-RestingState_eeg.set\n",
      "Reading /mnt/nemar/openneuro/ds005505/sub-NDARAC904DMU/eeg/sub-NDARAC904DMU_task-RestingState_eeg.set\n",
      "Reading /mnt/nemar/openneuro/ds005505/sub-NDARWX338NDL/eeg/sub-NDARWX338NDL_task-RestingState_eeg.set\n"
     ]
    },
    {
     "name": "stderr",
     "output_type": "stream",
     "text": [
      "/home/dung/eeg-ssl/notebooks/../libs/ssl_dataloader.py:48: RuntimeWarning: The data contains 'boundary' events, indicating data discontinuities. Be cautious of filtering and epoching around these events.\n",
      "  raw = mne.io.read_raw_eeglab(f, preload=preload)\n"
     ]
    },
    {
     "name": "stdout",
     "output_type": "stream",
     "text": [
      "Reading /mnt/nemar/openneuro/ds005505/sub-NDARAP359UM6/eeg/sub-NDARAP359UM6_task-RestingState_eeg.set\n",
      "Reading /mnt/nemar/openneuro/ds005505/sub-NDARRM467NP2/eeg/sub-NDARRM467NP2_task-RestingState_eeg.set\n"
     ]
    },
    {
     "name": "stderr",
     "output_type": "stream",
     "text": [
      "/home/dung/eeg-ssl/notebooks/../libs/ssl_dataloader.py:48: RuntimeWarning: The data contains 'boundary' events, indicating data discontinuities. Be cautious of filtering and epoching around these events.\n",
      "  raw = mne.io.read_raw_eeglab(f, preload=preload)\n"
     ]
    },
    {
     "name": "stdout",
     "output_type": "stream",
     "text": [
      "Reading /mnt/nemar/openneuro/ds005505/sub-NDARNR773DL4/eeg/sub-NDARNR773DL4_task-RestingState_eeg.set\n"
     ]
    },
    {
     "name": "stderr",
     "output_type": "stream",
     "text": [
      "/home/dung/eeg-ssl/notebooks/../libs/ssl_dataloader.py:48: RuntimeWarning: The data contains 'boundary' events, indicating data discontinuities. Be cautious of filtering and epoching around these events.\n",
      "  raw = mne.io.read_raw_eeglab(f, preload=preload)\n"
     ]
    },
    {
     "name": "stdout",
     "output_type": "stream",
     "text": [
      "Reading /mnt/nemar/openneuro/ds005505/sub-NDARWW003WWW/eeg/sub-NDARWW003WWW_task-RestingState_eeg.set\n",
      "Reading /mnt/nemar/openneuro/ds005505/sub-NDARBD879MBX/eeg/sub-NDARBD879MBX_task-RestingState_eeg.set\n",
      "Reading /mnt/nemar/openneuro/ds005505/sub-NDARMR491LM5/eeg/sub-NDARMR491LM5_task-RestingState_eeg.set\n"
     ]
    },
    {
     "name": "stderr",
     "output_type": "stream",
     "text": [
      "/home/dung/eeg-ssl/notebooks/../libs/ssl_dataloader.py:48: RuntimeWarning: The data contains 'boundary' events, indicating data discontinuities. Be cautious of filtering and epoching around these events.\n",
      "  raw = mne.io.read_raw_eeglab(f, preload=preload)\n"
     ]
    },
    {
     "name": "stdout",
     "output_type": "stream",
     "text": [
      "Reading /mnt/nemar/openneuro/ds005505/sub-NDARGR106TJB/eeg/sub-NDARGR106TJB_task-RestingState_eeg.set\n"
     ]
    },
    {
     "name": "stderr",
     "output_type": "stream",
     "text": [
      "/home/dung/eeg-ssl/notebooks/../libs/ssl_dataloader.py:48: RuntimeWarning: The data contains 'boundary' events, indicating data discontinuities. Be cautious of filtering and epoching around these events.\n",
      "  raw = mne.io.read_raw_eeglab(f, preload=preload)\n"
     ]
    },
    {
     "name": "stdout",
     "output_type": "stream",
     "text": [
      "Reading /mnt/nemar/openneuro/ds005505/sub-NDAREG561ML5/eeg/sub-NDAREG561ML5_task-RestingState_eeg.set\n",
      "Reading /mnt/nemar/openneuro/ds005505/sub-NDARAM704GKZ/eeg/sub-NDARAM704GKZ_task-RestingState_eeg.set\n"
     ]
    },
    {
     "name": "stderr",
     "output_type": "stream",
     "text": [
      "/home/dung/eeg-ssl/notebooks/../libs/ssl_dataloader.py:48: RuntimeWarning: The data contains 'boundary' events, indicating data discontinuities. Be cautious of filtering and epoching around these events.\n",
      "  raw = mne.io.read_raw_eeglab(f, preload=preload)\n"
     ]
    },
    {
     "name": "stdout",
     "output_type": "stream",
     "text": [
      "Reading /mnt/nemar/openneuro/ds005505/sub-NDARLH979WFX/eeg/sub-NDARLH979WFX_task-RestingState_eeg.set\n"
     ]
    },
    {
     "name": "stderr",
     "output_type": "stream",
     "text": [
      "/home/dung/eeg-ssl/notebooks/../libs/ssl_dataloader.py:48: RuntimeWarning: The data contains 'boundary' events, indicating data discontinuities. Be cautious of filtering and epoching around these events.\n",
      "  raw = mne.io.read_raw_eeglab(f, preload=preload)\n"
     ]
    },
    {
     "name": "stdout",
     "output_type": "stream",
     "text": [
      "Reading /mnt/nemar/openneuro/ds005505/sub-NDARTP313AGH/eeg/sub-NDARTP313AGH_task-RestingState_eeg.set\n"
     ]
    },
    {
     "name": "stderr",
     "output_type": "stream",
     "text": [
      "/home/dung/eeg-ssl/notebooks/../libs/ssl_dataloader.py:48: RuntimeWarning: The data contains 'boundary' events, indicating data discontinuities. Be cautious of filtering and epoching around these events.\n",
      "  raw = mne.io.read_raw_eeglab(f, preload=preload)\n",
      "/home/dung/eeg-ssl/notebooks/../libs/ssl_dataloader.py:48: RuntimeWarning: The data contains 'boundary' events, indicating data discontinuities. Be cautious of filtering and epoching around these events.\n",
      "  raw = mne.io.read_raw_eeglab(f, preload=preload)\n",
      "/home/dung/eeg-ssl/notebooks/../libs/ssl_dataloader.py:48: RuntimeWarning: The data contains 'boundary' events, indicating data discontinuities. Be cautious of filtering and epoching around these events.\n",
      "  raw = mne.io.read_raw_eeglab(f, preload=preload)\n",
      "/home/dung/eeg-ssl/notebooks/../libs/ssl_dataloader.py:48: RuntimeWarning: The data contains 'boundary' events, indicating data discontinuities. Be cautious of filtering and epoching around these events.\n",
      "  raw = mne.io.read_raw_eeglab(f, preload=preload)\n"
     ]
    },
    {
     "name": "stdout",
     "output_type": "stream",
     "text": [
      "Reading /mnt/nemar/openneuro/ds005505/sub-NDARKA627LF8/eeg/sub-NDARKA627LF8_task-RestingState_eeg.set\n"
     ]
    },
    {
     "name": "stderr",
     "output_type": "stream",
     "text": [
      "/home/dung/eeg-ssl/notebooks/../libs/ssl_dataloader.py:48: RuntimeWarning: The data contains 'boundary' events, indicating data discontinuities. Be cautious of filtering and epoching around these events.\n",
      "  raw = mne.io.read_raw_eeglab(f, preload=preload)\n"
     ]
    },
    {
     "name": "stdout",
     "output_type": "stream",
     "text": [
      "Reading /mnt/nemar/openneuro/ds005505/sub-NDARFW972KFQ/eeg/sub-NDARFW972KFQ_task-RestingState_eeg.set\n"
     ]
    },
    {
     "name": "stderr",
     "output_type": "stream",
     "text": [
      "/home/dung/eeg-ssl/notebooks/../libs/ssl_dataloader.py:48: RuntimeWarning: The data contains 'boundary' events, indicating data discontinuities. Be cautious of filtering and epoching around these events.\n",
      "  raw = mne.io.read_raw_eeglab(f, preload=preload)\n",
      "/home/dung/eeg-ssl/notebooks/../libs/ssl_dataloader.py:48: RuntimeWarning: The data contains 'boundary' events, indicating data discontinuities. Be cautious of filtering and epoching around these events.\n",
      "  raw = mne.io.read_raw_eeglab(f, preload=preload)\n"
     ]
    },
    {
     "name": "stdout",
     "output_type": "stream",
     "text": [
      "Reading /mnt/nemar/openneuro/ds005505/sub-NDAREN519BLJ/eeg/sub-NDAREN519BLJ_task-RestingState_eeg.set\n"
     ]
    },
    {
     "name": "stderr",
     "output_type": "stream",
     "text": [
      "/home/dung/eeg-ssl/notebooks/../libs/ssl_dataloader.py:48: RuntimeWarning: The data contains 'boundary' events, indicating data discontinuities. Be cautious of filtering and epoching around these events.\n",
      "  raw = mne.io.read_raw_eeglab(f, preload=preload)\n",
      "/home/dung/eeg-ssl/notebooks/../libs/ssl_dataloader.py:48: RuntimeWarning: The data contains 'boundary' events, indicating data discontinuities. Be cautious of filtering and epoching around these events.\n",
      "  raw = mne.io.read_raw_eeglab(f, preload=preload)\n"
     ]
    },
    {
     "name": "stdout",
     "output_type": "stream",
     "text": [
      "Reading /mnt/nemar/openneuro/ds005505/sub-NDARLL720BGU/eeg/sub-NDARLL720BGU_task-RestingState_eeg.set\n"
     ]
    },
    {
     "name": "stderr",
     "output_type": "stream",
     "text": [
      "/home/dung/eeg-ssl/notebooks/../libs/ssl_dataloader.py:48: RuntimeWarning: The data contains 'boundary' events, indicating data discontinuities. Be cautious of filtering and epoching around these events.\n",
      "  raw = mne.io.read_raw_eeglab(f, preload=preload)\n"
     ]
    },
    {
     "name": "stdout",
     "output_type": "stream",
     "text": [
      "Reading /mnt/nemar/openneuro/ds005505/sub-NDARWA622HHZ/eeg/sub-NDARWA622HHZ_task-RestingState_eeg.set\n"
     ]
    },
    {
     "name": "stderr",
     "output_type": "stream",
     "text": [
      "/home/dung/eeg-ssl/notebooks/../libs/ssl_dataloader.py:48: RuntimeWarning: The data contains 'boundary' events, indicating data discontinuities. Be cautious of filtering and epoching around these events.\n",
      "  raw = mne.io.read_raw_eeglab(f, preload=preload)\n"
     ]
    },
    {
     "name": "stdout",
     "output_type": "stream",
     "text": [
      "Reading /mnt/nemar/openneuro/ds005505/sub-NDARGD507TDZ/eeg/sub-NDARGD507TDZ_task-RestingState_eeg.set\n",
      "Reading /mnt/nemar/openneuro/ds005505/sub-NDARTX934NH6/eeg/sub-NDARTX934NH6_task-RestingState_eeg.set\n",
      "Reading /mnt/nemar/openneuro/ds005505/sub-NDARFD316UD2/eeg/sub-NDARFD316UD2_task-RestingState_eeg.set\n",
      "Reading /mnt/nemar/openneuro/ds005505/sub-NDARNW687HMZ/eeg/sub-NDARNW687HMZ_task-RestingState_eeg.set\n",
      "Reading /mnt/nemar/openneuro/ds005505/sub-NDARZX561DR9/eeg/sub-NDARZX561DR9_task-RestingState_eeg.set\n"
     ]
    },
    {
     "name": "stderr",
     "output_type": "stream",
     "text": [
      "/home/dung/eeg-ssl/notebooks/../libs/ssl_dataloader.py:48: RuntimeWarning: The data contains 'boundary' events, indicating data discontinuities. Be cautious of filtering and epoching around these events.\n",
      "  raw = mne.io.read_raw_eeglab(f, preload=preload)\n"
     ]
    },
    {
     "name": "stdout",
     "output_type": "stream",
     "text": [
      "Reading /mnt/nemar/openneuro/ds005505/sub-NDARXY162ERA/eeg/sub-NDARXY162ERA_task-RestingState_eeg.set\n"
     ]
    },
    {
     "name": "stderr",
     "output_type": "stream",
     "text": [
      "/home/dung/eeg-ssl/notebooks/../libs/ssl_dataloader.py:48: RuntimeWarning: The data contains 'boundary' events, indicating data discontinuities. Be cautious of filtering and epoching around these events.\n",
      "  raw = mne.io.read_raw_eeglab(f, preload=preload)\n",
      "/home/dung/eeg-ssl/notebooks/../libs/ssl_dataloader.py:48: RuntimeWarning: The data contains 'boundary' events, indicating data discontinuities. Be cautious of filtering and epoching around these events.\n",
      "  raw = mne.io.read_raw_eeglab(f, preload=preload)\n"
     ]
    },
    {
     "name": "stdout",
     "output_type": "stream",
     "text": [
      "Reading /mnt/nemar/openneuro/ds005505/sub-NDARGB040MGR/eeg/sub-NDARGB040MGR_task-RestingState_eeg.set\n"
     ]
    },
    {
     "name": "stderr",
     "output_type": "stream",
     "text": [
      "/home/dung/eeg-ssl/notebooks/../libs/ssl_dataloader.py:48: RuntimeWarning: The data contains 'boundary' events, indicating data discontinuities. Be cautious of filtering and epoching around these events.\n",
      "  raw = mne.io.read_raw_eeglab(f, preload=preload)\n",
      "/home/dung/eeg-ssl/notebooks/../libs/ssl_dataloader.py:48: RuntimeWarning: The data contains 'boundary' events, indicating data discontinuities. Be cautious of filtering and epoching around these events.\n",
      "  raw = mne.io.read_raw_eeglab(f, preload=preload)\n"
     ]
    },
    {
     "name": "stdout",
     "output_type": "stream",
     "text": [
      "Reading /mnt/nemar/openneuro/ds005505/sub-NDARJM828PAL/eeg/sub-NDARJM828PAL_task-RestingState_eeg.set\n",
      "Reading /mnt/nemar/openneuro/ds005505/sub-NDARTD468TUH/eeg/sub-NDARTD468TUH_task-RestingState_eeg.set\n",
      "Reading /mnt/nemar/openneuro/ds005505/sub-NDARZJ016GL0/eeg/sub-NDARZJ016GL0_task-RestingState_eeg.set\n"
     ]
    },
    {
     "name": "stderr",
     "output_type": "stream",
     "text": [
      "/home/dung/eeg-ssl/notebooks/../libs/ssl_dataloader.py:48: RuntimeWarning: The data contains 'boundary' events, indicating data discontinuities. Be cautious of filtering and epoching around these events.\n",
      "  raw = mne.io.read_raw_eeglab(f, preload=preload)\n"
     ]
    },
    {
     "name": "stdout",
     "output_type": "stream",
     "text": [
      "Reading /mnt/nemar/openneuro/ds005505/sub-NDARBX121UM9/eeg/sub-NDARBX121UM9_task-RestingState_eeg.set\n",
      "Reading /mnt/nemar/openneuro/ds005505/sub-NDARTX659HAF/eeg/sub-NDARTX659HAF_task-RestingState_eeg.set\n",
      "Reading /mnt/nemar/openneuro/ds005505/sub-NDARKM635UY0/eeg/sub-NDARKM635UY0_task-RestingState_eeg.set\n"
     ]
    },
    {
     "name": "stderr",
     "output_type": "stream",
     "text": [
      "/home/dung/eeg-ssl/notebooks/../libs/ssl_dataloader.py:48: RuntimeWarning: The data contains 'boundary' events, indicating data discontinuities. Be cautious of filtering and epoching around these events.\n",
      "  raw = mne.io.read_raw_eeglab(f, preload=preload)\n",
      "/home/dung/eeg-ssl/notebooks/../libs/ssl_dataloader.py:48: RuntimeWarning: The data contains 'boundary' events, indicating data discontinuities. Be cautious of filtering and epoching around these events.\n",
      "  raw = mne.io.read_raw_eeglab(f, preload=preload)\n"
     ]
    },
    {
     "name": "stdout",
     "output_type": "stream",
     "text": [
      "Reading /mnt/nemar/openneuro/ds005505/sub-NDARWV405ZW0/eeg/sub-NDARWV405ZW0_task-RestingState_eeg.set\n",
      "Reading /mnt/nemar/openneuro/ds005505/sub-NDARPN418ZKT/eeg/sub-NDARPN418ZKT_task-RestingState_eeg.set\n",
      "Reading /mnt/nemar/openneuro/ds005505/sub-NDARKD134TCX/eeg/sub-NDARKD134TCX_task-RestingState_eeg.set\n"
     ]
    },
    {
     "name": "stderr",
     "output_type": "stream",
     "text": [
      "/home/dung/eeg-ssl/notebooks/../libs/ssl_dataloader.py:48: RuntimeWarning: The data contains 'boundary' events, indicating data discontinuities. Be cautious of filtering and epoching around these events.\n",
      "  raw = mne.io.read_raw_eeglab(f, preload=preload)\n",
      "/home/dung/eeg-ssl/notebooks/../libs/ssl_dataloader.py:48: RuntimeWarning: The data contains 'boundary' events, indicating data discontinuities. Be cautious of filtering and epoching around these events.\n",
      "  raw = mne.io.read_raw_eeglab(f, preload=preload)\n",
      "/home/dung/eeg-ssl/notebooks/../libs/ssl_dataloader.py:48: RuntimeWarning: The data contains 'boundary' events, indicating data discontinuities. Be cautious of filtering and epoching around these events.\n",
      "  raw = mne.io.read_raw_eeglab(f, preload=preload)\n"
     ]
    },
    {
     "name": "stdout",
     "output_type": "stream",
     "text": [
      "Reading /mnt/nemar/openneuro/ds005505/sub-NDARAG143ARJ/eeg/sub-NDARAG143ARJ_task-RestingState_eeg.set\n",
      "Reading /mnt/nemar/openneuro/ds005505/sub-NDARCN669XPR/eeg/sub-NDARCN669XPR_task-RestingState_eeg.set\n",
      "Reading /mnt/nemar/openneuro/ds005505/sub-NDARYL758JGG/eeg/sub-NDARYL758JGG_task-RestingState_eeg.set\n"
     ]
    },
    {
     "name": "stderr",
     "output_type": "stream",
     "text": [
      "/home/dung/eeg-ssl/notebooks/../libs/ssl_dataloader.py:48: RuntimeWarning: The data contains 'boundary' events, indicating data discontinuities. Be cautious of filtering and epoching around these events.\n",
      "  raw = mne.io.read_raw_eeglab(f, preload=preload)\n",
      "/home/dung/eeg-ssl/notebooks/../libs/ssl_dataloader.py:48: RuntimeWarning: The data contains 'boundary' events, indicating data discontinuities. Be cautious of filtering and epoching around these events.\n",
      "  raw = mne.io.read_raw_eeglab(f, preload=preload)\n"
     ]
    },
    {
     "name": "stdout",
     "output_type": "stream",
     "text": [
      "Reading /mnt/nemar/openneuro/ds005505/sub-NDARCW071AU5/eeg/sub-NDARCW071AU5_task-RestingState_eeg.set\n",
      "Reading /mnt/nemar/openneuro/ds005505/sub-NDARRP818DWL/eeg/sub-NDARRP818DWL_task-RestingState_eeg.set\n",
      "Reading /mnt/nemar/openneuro/ds005505/sub-NDARGL800LDW/eeg/sub-NDARGL800LDW_task-RestingState_eeg.set\n",
      "Reading /mnt/nemar/openneuro/ds005505/sub-NDARWW005GCU/eeg/sub-NDARWW005GCU_task-RestingState_eeg.set\n"
     ]
    },
    {
     "name": "stderr",
     "output_type": "stream",
     "text": [
      "/home/dung/eeg-ssl/notebooks/../libs/ssl_dataloader.py:48: RuntimeWarning: The data contains 'boundary' events, indicating data discontinuities. Be cautious of filtering and epoching around these events.\n",
      "  raw = mne.io.read_raw_eeglab(f, preload=preload)\n",
      "/home/dung/eeg-ssl/notebooks/../libs/ssl_dataloader.py:48: RuntimeWarning: The data contains 'boundary' events, indicating data discontinuities. Be cautious of filtering and epoching around these events.\n",
      "  raw = mne.io.read_raw_eeglab(f, preload=preload)\n"
     ]
    },
    {
     "name": "stdout",
     "output_type": "stream",
     "text": [
      "Reading /mnt/nemar/openneuro/ds005505/sub-NDARXG469XGP/eeg/sub-NDARXG469XGP_task-RestingState_eeg.set\n",
      "Reading /mnt/nemar/openneuro/ds005505/sub-NDARXU253JHC/eeg/sub-NDARXU253JHC_task-RestingState_eeg.set\n"
     ]
    },
    {
     "name": "stderr",
     "output_type": "stream",
     "text": [
      "/home/dung/eeg-ssl/notebooks/../libs/ssl_dataloader.py:48: RuntimeWarning: The data contains 'boundary' events, indicating data discontinuities. Be cautious of filtering and epoching around these events.\n",
      "  raw = mne.io.read_raw_eeglab(f, preload=preload)\n",
      "/home/dung/eeg-ssl/notebooks/../libs/ssl_dataloader.py:48: RuntimeWarning: The data contains 'boundary' events, indicating data discontinuities. Be cautious of filtering and epoching around these events.\n",
      "  raw = mne.io.read_raw_eeglab(f, preload=preload)\n"
     ]
    },
    {
     "name": "stdout",
     "output_type": "stream",
     "text": [
      "Reading /mnt/nemar/openneuro/ds005505/sub-NDARAN385MDH/eeg/sub-NDARAN385MDH_task-RestingState_eeg.set\n"
     ]
    },
    {
     "name": "stderr",
     "output_type": "stream",
     "text": [
      "/home/dung/eeg-ssl/notebooks/../libs/ssl_dataloader.py:48: RuntimeWarning: The data contains 'boundary' events, indicating data discontinuities. Be cautious of filtering and epoching around these events.\n",
      "  raw = mne.io.read_raw_eeglab(f, preload=preload)\n",
      "/home/dung/eeg-ssl/notebooks/../libs/ssl_dataloader.py:48: RuntimeWarning: The data contains 'boundary' events, indicating data discontinuities. Be cautious of filtering and epoching around these events.\n",
      "  raw = mne.io.read_raw_eeglab(f, preload=preload)\n"
     ]
    },
    {
     "name": "stdout",
     "output_type": "stream",
     "text": [
      "Reading /mnt/nemar/openneuro/ds005505/sub-NDARJY033DKZ/eeg/sub-NDARJY033DKZ_task-RestingState_eeg.set\n"
     ]
    },
    {
     "name": "stderr",
     "output_type": "stream",
     "text": [
      "/home/dung/eeg-ssl/notebooks/../libs/ssl_dataloader.py:48: RuntimeWarning: The data contains 'boundary' events, indicating data discontinuities. Be cautious of filtering and epoching around these events.\n",
      "  raw = mne.io.read_raw_eeglab(f, preload=preload)\n",
      "/home/dung/eeg-ssl/notebooks/../libs/ssl_dataloader.py:48: RuntimeWarning: The data contains 'boundary' events, indicating data discontinuities. Be cautious of filtering and epoching around these events.\n",
      "  raw = mne.io.read_raw_eeglab(f, preload=preload)\n",
      "/home/dung/eeg-ssl/notebooks/../libs/ssl_dataloader.py:48: RuntimeWarning: The data contains 'boundary' events, indicating data discontinuities. Be cautious of filtering and epoching around these events.\n",
      "  raw = mne.io.read_raw_eeglab(f, preload=preload)\n",
      "/home/dung/eeg-ssl/notebooks/../libs/ssl_dataloader.py:48: RuntimeWarning: The data contains 'boundary' events, indicating data discontinuities. Be cautious of filtering and epoching around these events.\n",
      "  raw = mne.io.read_raw_eeglab(f, preload=preload)\n",
      "/home/dung/eeg-ssl/notebooks/../libs/ssl_dataloader.py:48: RuntimeWarning: The data contains 'boundary' events, indicating data discontinuities. Be cautious of filtering and epoching around these events.\n",
      "  raw = mne.io.read_raw_eeglab(f, preload=preload)\n"
     ]
    },
    {
     "name": "stdout",
     "output_type": "stream",
     "text": [
      "Reading /mnt/nemar/openneuro/ds005505/sub-NDARLY585ZVN/eeg/sub-NDARLY585ZVN_task-RestingState_eeg.set\n"
     ]
    },
    {
     "name": "stderr",
     "output_type": "stream",
     "text": [
      "/home/dung/eeg-ssl/notebooks/../libs/ssl_dataloader.py:48: RuntimeWarning: The data contains 'boundary' events, indicating data discontinuities. Be cautious of filtering and epoching around these events.\n",
      "  raw = mne.io.read_raw_eeglab(f, preload=preload)\n"
     ]
    },
    {
     "name": "stdout",
     "output_type": "stream",
     "text": [
      "Reading /mnt/nemar/openneuro/ds005505/sub-NDARMU053YEU/eeg/sub-NDARMU053YEU_task-RestingState_eeg.set\n",
      "Reading /mnt/nemar/openneuro/ds005505/sub-NDARVU683CTN/eeg/sub-NDARVU683CTN_task-RestingState_eeg.set\n",
      "Reading /mnt/nemar/openneuro/ds005505/sub-NDARPX219TW0/eeg/sub-NDARPX219TW0_task-RestingState_eeg.set\n"
     ]
    },
    {
     "name": "stderr",
     "output_type": "stream",
     "text": [
      "/home/dung/eeg-ssl/notebooks/../libs/ssl_dataloader.py:48: RuntimeWarning: The data contains 'boundary' events, indicating data discontinuities. Be cautious of filtering and epoching around these events.\n",
      "  raw = mne.io.read_raw_eeglab(f, preload=preload)\n"
     ]
    },
    {
     "name": "stdout",
     "output_type": "stream",
     "text": [
      "Reading /mnt/nemar/openneuro/ds005505/sub-NDARND085WZK/eeg/sub-NDARND085WZK_task-RestingState_eeg.set\n",
      "Reading /mnt/nemar/openneuro/ds005505/sub-NDARUL224GN6/eeg/sub-NDARUL224GN6_task-RestingState_eeg.set\n",
      "Reading /mnt/nemar/openneuro/ds005505/sub-NDARNE758RD6/eeg/sub-NDARNE758RD6_task-RestingState_eeg.set\n",
      "Reading /mnt/nemar/openneuro/ds005505/sub-NDARWR732NZE/eeg/sub-NDARWR732NZE_task-RestingState_eeg.set\n"
     ]
    },
    {
     "name": "stderr",
     "output_type": "stream",
     "text": [
      "/home/dung/eeg-ssl/notebooks/../libs/ssl_dataloader.py:48: RuntimeWarning: The data contains 'boundary' events, indicating data discontinuities. Be cautious of filtering and epoching around these events.\n",
      "  raw = mne.io.read_raw_eeglab(f, preload=preload)\n",
      "/home/dung/eeg-ssl/notebooks/../libs/ssl_dataloader.py:48: RuntimeWarning: The data contains 'boundary' events, indicating data discontinuities. Be cautious of filtering and epoching around these events.\n",
      "  raw = mne.io.read_raw_eeglab(f, preload=preload)\n"
     ]
    },
    {
     "name": "stdout",
     "output_type": "stream",
     "text": [
      "Reading /mnt/nemar/openneuro/ds005505/sub-NDARZP630WYL/eeg/sub-NDARZP630WYL_task-RestingState_eeg.set\n",
      "Reading /mnt/nemar/openneuro/ds005505/sub-NDARXF203DCD/eeg/sub-NDARXF203DCD_task-RestingState_eeg.set\n",
      "Reading /mnt/nemar/openneuro/ds005505/sub-NDARGU729WUR/eeg/sub-NDARGU729WUR_task-RestingState_eeg.set\n",
      "Reading /mnt/nemar/openneuro/ds005505/sub-NDARTN158LRF/eeg/sub-NDARTN158LRF_task-RestingState_eeg.set\n"
     ]
    },
    {
     "name": "stderr",
     "output_type": "stream",
     "text": [
      "/home/dung/eeg-ssl/notebooks/../libs/ssl_dataloader.py:48: RuntimeWarning: The data contains 'boundary' events, indicating data discontinuities. Be cautious of filtering and epoching around these events.\n",
      "  raw = mne.io.read_raw_eeglab(f, preload=preload)\n",
      "/home/dung/eeg-ssl/notebooks/../libs/ssl_dataloader.py:48: RuntimeWarning: The data contains 'boundary' events, indicating data discontinuities. Be cautious of filtering and epoching around these events.\n",
      "  raw = mne.io.read_raw_eeglab(f, preload=preload)\n"
     ]
    },
    {
     "name": "stdout",
     "output_type": "stream",
     "text": [
      "Reading /mnt/nemar/openneuro/ds005505/sub-NDARCW094JCG/eeg/sub-NDARCW094JCG_task-RestingState_eeg.set\n",
      "Reading /mnt/nemar/openneuro/ds005505/sub-NDARET550NXC/eeg/sub-NDARET550NXC_task-RestingState_eeg.set\n"
     ]
    },
    {
     "name": "stderr",
     "output_type": "stream",
     "text": [
      "/home/dung/eeg-ssl/notebooks/../libs/ssl_dataloader.py:48: RuntimeWarning: The data contains 'boundary' events, indicating data discontinuities. Be cautious of filtering and epoching around these events.\n",
      "  raw = mne.io.read_raw_eeglab(f, preload=preload)\n",
      "/home/dung/eeg-ssl/notebooks/../libs/ssl_dataloader.py:48: RuntimeWarning: The data contains 'boundary' events, indicating data discontinuities. Be cautious of filtering and epoching around these events.\n",
      "  raw = mne.io.read_raw_eeglab(f, preload=preload)\n"
     ]
    },
    {
     "name": "stdout",
     "output_type": "stream",
     "text": [
      "Reading /mnt/nemar/openneuro/ds005505/sub-NDARDC704GKW/eeg/sub-NDARDC704GKW_task-RestingState_eeg.set\n"
     ]
    },
    {
     "name": "stderr",
     "output_type": "stream",
     "text": [
      "/home/dung/eeg-ssl/notebooks/../libs/ssl_dataloader.py:48: RuntimeWarning: The data contains 'boundary' events, indicating data discontinuities. Be cautious of filtering and epoching around these events.\n",
      "  raw = mne.io.read_raw_eeglab(f, preload=preload)\n"
     ]
    },
    {
     "name": "stdout",
     "output_type": "stream",
     "text": [
      "Reading /mnt/nemar/openneuro/ds005505/sub-NDARVL555VVA/eeg/sub-NDARVL555VVA_task-RestingState_eeg.set\n"
     ]
    },
    {
     "name": "stderr",
     "output_type": "stream",
     "text": [
      "/home/dung/eeg-ssl/notebooks/../libs/ssl_dataloader.py:48: RuntimeWarning: The data contains 'boundary' events, indicating data discontinuities. Be cautious of filtering and epoching around these events.\n",
      "  raw = mne.io.read_raw_eeglab(f, preload=preload)\n"
     ]
    },
    {
     "name": "stdout",
     "output_type": "stream",
     "text": [
      "Reading /mnt/nemar/openneuro/ds005505/sub-NDARZN277NR6/eeg/sub-NDARZN277NR6_task-RestingState_eeg.set\n",
      "Reading /mnt/nemar/openneuro/ds005505/sub-NDARWA513WM2/eeg/sub-NDARWA513WM2_task-RestingState_eeg.set\n"
     ]
    },
    {
     "name": "stderr",
     "output_type": "stream",
     "text": [
      "/home/dung/eeg-ssl/notebooks/../libs/ssl_dataloader.py:48: RuntimeWarning: The data contains 'boundary' events, indicating data discontinuities. Be cautious of filtering and epoching around these events.\n",
      "  raw = mne.io.read_raw_eeglab(f, preload=preload)\n",
      "/home/dung/eeg-ssl/notebooks/../libs/ssl_dataloader.py:48: RuntimeWarning: The data contains 'boundary' events, indicating data discontinuities. Be cautious of filtering and epoching around these events.\n",
      "  raw = mne.io.read_raw_eeglab(f, preload=preload)\n"
     ]
    },
    {
     "name": "stdout",
     "output_type": "stream",
     "text": [
      "Reading /mnt/nemar/openneuro/ds005505/sub-NDARET332CTB/eeg/sub-NDARET332CTB_task-RestingState_eeg.set\n",
      "Reading /mnt/nemar/openneuro/ds005505/sub-NDARTE785ZMJ/eeg/sub-NDARTE785ZMJ_task-RestingState_eeg.set\n"
     ]
    },
    {
     "name": "stderr",
     "output_type": "stream",
     "text": [
      "/home/dung/eeg-ssl/notebooks/../libs/ssl_dataloader.py:48: RuntimeWarning: The data contains 'boundary' events, indicating data discontinuities. Be cautious of filtering and epoching around these events.\n",
      "  raw = mne.io.read_raw_eeglab(f, preload=preload)\n"
     ]
    },
    {
     "name": "stdout",
     "output_type": "stream",
     "text": [
      "Reading /mnt/nemar/openneuro/ds005505/sub-NDARGJ395FKP/eeg/sub-NDARGJ395FKP_task-RestingState_eeg.set\n"
     ]
    },
    {
     "name": "stderr",
     "output_type": "stream",
     "text": [
      "/home/dung/eeg-ssl/notebooks/../libs/ssl_dataloader.py:48: RuntimeWarning: The data contains 'boundary' events, indicating data discontinuities. Be cautious of filtering and epoching around these events.\n",
      "  raw = mne.io.read_raw_eeglab(f, preload=preload)\n"
     ]
    },
    {
     "name": "stdout",
     "output_type": "stream",
     "text": [
      "Reading /mnt/nemar/openneuro/ds005505/sub-NDARWZ495PG4/eeg/sub-NDARWZ495PG4_task-RestingState_eeg.set\n",
      "Reading /mnt/nemar/openneuro/ds005505/sub-NDARHY177LY9/eeg/sub-NDARHY177LY9_task-RestingState_eeg.set\n"
     ]
    },
    {
     "name": "stderr",
     "output_type": "stream",
     "text": [
      "/home/dung/eeg-ssl/notebooks/../libs/ssl_dataloader.py:48: RuntimeWarning: The data contains 'boundary' events, indicating data discontinuities. Be cautious of filtering and epoching around these events.\n",
      "  raw = mne.io.read_raw_eeglab(f, preload=preload)\n"
     ]
    },
    {
     "name": "stdout",
     "output_type": "stream",
     "text": [
      "Reading /mnt/nemar/openneuro/ds005505/sub-NDARXG736VP9/eeg/sub-NDARXG736VP9_task-RestingState_eeg.set\n",
      "Reading /mnt/nemar/openneuro/ds005505/sub-NDARYY218LU2/eeg/sub-NDARYY218LU2_task-RestingState_eeg.set\n"
     ]
    },
    {
     "name": "stderr",
     "output_type": "stream",
     "text": [
      "/home/dung/eeg-ssl/notebooks/../libs/ssl_dataloader.py:48: RuntimeWarning: The data contains 'boundary' events, indicating data discontinuities. Be cautious of filtering and epoching around these events.\n",
      "  raw = mne.io.read_raw_eeglab(f, preload=preload)\n",
      "/home/dung/eeg-ssl/notebooks/../libs/ssl_dataloader.py:48: RuntimeWarning: The data contains 'boundary' events, indicating data discontinuities. Be cautious of filtering and epoching around these events.\n",
      "  raw = mne.io.read_raw_eeglab(f, preload=preload)\n",
      "/home/dung/eeg-ssl/notebooks/../libs/ssl_dataloader.py:48: RuntimeWarning: The data contains 'boundary' events, indicating data discontinuities. Be cautious of filtering and epoching around these events.\n",
      "  raw = mne.io.read_raw_eeglab(f, preload=preload)\n",
      "/home/dung/eeg-ssl/notebooks/../libs/ssl_dataloader.py:48: RuntimeWarning: The data contains 'boundary' events, indicating data discontinuities. Be cautious of filtering and epoching around these events.\n",
      "  raw = mne.io.read_raw_eeglab(f, preload=preload)\n"
     ]
    },
    {
     "name": "stdout",
     "output_type": "stream",
     "text": [
      "Reading /mnt/nemar/openneuro/ds005505/sub-NDARRF897HB5/eeg/sub-NDARRF897HB5_task-RestingState_eeg.set\n",
      "Reading /mnt/nemar/openneuro/ds005505/sub-NDARGX001CB1/eeg/sub-NDARGX001CB1_task-RestingState_eeg.set\n"
     ]
    },
    {
     "name": "stderr",
     "output_type": "stream",
     "text": [
      "/home/dung/eeg-ssl/notebooks/../libs/ssl_dataloader.py:48: RuntimeWarning: The data contains 'boundary' events, indicating data discontinuities. Be cautious of filtering and epoching around these events.\n",
      "  raw = mne.io.read_raw_eeglab(f, preload=preload)\n"
     ]
    },
    {
     "name": "stdout",
     "output_type": "stream",
     "text": [
      "Reading /mnt/nemar/openneuro/ds005505/sub-NDARHR443EHF/eeg/sub-NDARHR443EHF_task-RestingState_eeg.set\n",
      "Reading /mnt/nemar/openneuro/ds005505/sub-NDARKU278YRR/eeg/sub-NDARKU278YRR_task-RestingState_eeg.set\n"
     ]
    },
    {
     "name": "stderr",
     "output_type": "stream",
     "text": [
      "/home/dung/eeg-ssl/notebooks/../libs/ssl_dataloader.py:48: RuntimeWarning: The data contains 'boundary' events, indicating data discontinuities. Be cautious of filtering and epoching around these events.\n",
      "  raw = mne.io.read_raw_eeglab(f, preload=preload)\n"
     ]
    },
    {
     "name": "stdout",
     "output_type": "stream",
     "text": [
      "Reading /mnt/nemar/openneuro/ds005505/sub-NDARBH024NH2/eeg/sub-NDARBH024NH2_task-RestingState_eeg.set\n",
      "Reading /mnt/nemar/openneuro/ds005505/sub-NDAREM731BYM/eeg/sub-NDAREM731BYM_task-RestingState_eeg.set\n"
     ]
    },
    {
     "name": "stderr",
     "output_type": "stream",
     "text": [
      "/home/dung/eeg-ssl/notebooks/../libs/ssl_dataloader.py:48: RuntimeWarning: The data contains 'boundary' events, indicating data discontinuities. Be cautious of filtering and epoching around these events.\n",
      "  raw = mne.io.read_raw_eeglab(f, preload=preload)\n",
      "/home/dung/eeg-ssl/notebooks/../libs/ssl_dataloader.py:48: RuntimeWarning: The data contains 'boundary' events, indicating data discontinuities. Be cautious of filtering and epoching around these events.\n",
      "  raw = mne.io.read_raw_eeglab(f, preload=preload)\n",
      "/home/dung/eeg-ssl/notebooks/../libs/ssl_dataloader.py:48: RuntimeWarning: The data contains 'boundary' events, indicating data discontinuities. Be cautious of filtering and epoching around these events.\n",
      "  raw = mne.io.read_raw_eeglab(f, preload=preload)\n"
     ]
    },
    {
     "name": "stdout",
     "output_type": "stream",
     "text": [
      "Reading /mnt/nemar/openneuro/ds005505/sub-NDARXD388TTE/eeg/sub-NDARXD388TTE_task-RestingState_eeg.set\n",
      "Reading /mnt/nemar/openneuro/ds005505/sub-NDARTJ032FJ2/eeg/sub-NDARTJ032FJ2_task-RestingState_eeg.set\n",
      "Reading /mnt/nemar/openneuro/ds005505/sub-NDARRH407MEY/eeg/sub-NDARRH407MEY_task-RestingState_eeg.set\n"
     ]
    },
    {
     "name": "stderr",
     "output_type": "stream",
     "text": [
      "/home/dung/eeg-ssl/notebooks/../libs/ssl_dataloader.py:48: RuntimeWarning: The data contains 'boundary' events, indicating data discontinuities. Be cautious of filtering and epoching around these events.\n",
      "  raw = mne.io.read_raw_eeglab(f, preload=preload)\n"
     ]
    },
    {
     "name": "stdout",
     "output_type": "stream",
     "text": [
      "Reading /mnt/nemar/openneuro/ds005505/sub-NDARDU986RBM/eeg/sub-NDARDU986RBM_task-RestingState_eeg.set\n",
      "Reading /mnt/nemar/openneuro/ds005505/sub-NDARXT792GY8/eeg/sub-NDARXT792GY8_task-RestingState_eeg.set\n"
     ]
    },
    {
     "name": "stderr",
     "output_type": "stream",
     "text": [
      "/home/dung/eeg-ssl/notebooks/../libs/ssl_dataloader.py:48: RuntimeWarning: The data contains 'boundary' events, indicating data discontinuities. Be cautious of filtering and epoching around these events.\n",
      "  raw = mne.io.read_raw_eeglab(f, preload=preload)\n",
      "/home/dung/eeg-ssl/notebooks/../libs/ssl_dataloader.py:48: RuntimeWarning: The data contains 'boundary' events, indicating data discontinuities. Be cautious of filtering and epoching around these events.\n",
      "  raw = mne.io.read_raw_eeglab(f, preload=preload)\n",
      "/home/dung/eeg-ssl/notebooks/../libs/ssl_dataloader.py:48: RuntimeWarning: The data contains 'boundary' events, indicating data discontinuities. Be cautious of filtering and epoching around these events.\n",
      "  raw = mne.io.read_raw_eeglab(f, preload=preload)\n",
      "/home/dung/eeg-ssl/notebooks/../libs/ssl_dataloader.py:48: RuntimeWarning: The data contains 'boundary' events, indicating data discontinuities. Be cautious of filtering and epoching around these events.\n",
      "  raw = mne.io.read_raw_eeglab(f, preload=preload)\n"
     ]
    },
    {
     "name": "stdout",
     "output_type": "stream",
     "text": [
      "Reading /mnt/nemar/openneuro/ds005505/sub-NDARDH670PXH/eeg/sub-NDARDH670PXH_task-RestingState_eeg.set\n"
     ]
    },
    {
     "name": "stderr",
     "output_type": "stream",
     "text": [
      "/home/dung/eeg-ssl/notebooks/../libs/ssl_dataloader.py:48: RuntimeWarning: The data contains 'boundary' events, indicating data discontinuities. Be cautious of filtering and epoching around these events.\n",
      "  raw = mne.io.read_raw_eeglab(f, preload=preload)\n",
      "/home/dung/eeg-ssl/notebooks/../libs/ssl_dataloader.py:48: RuntimeWarning: The data contains 'boundary' events, indicating data discontinuities. Be cautious of filtering and epoching around these events.\n",
      "  raw = mne.io.read_raw_eeglab(f, preload=preload)\n"
     ]
    },
    {
     "name": "stdout",
     "output_type": "stream",
     "text": [
      "Reading /mnt/nemar/openneuro/ds005505/sub-NDARNZ615UEU/eeg/sub-NDARNZ615UEU_task-RestingState_eeg.set\n"
     ]
    },
    {
     "name": "stderr",
     "output_type": "stream",
     "text": [
      "/home/dung/eeg-ssl/notebooks/../libs/ssl_dataloader.py:48: RuntimeWarning: The data contains 'boundary' events, indicating data discontinuities. Be cautious of filtering and epoching around these events.\n",
      "  raw = mne.io.read_raw_eeglab(f, preload=preload)\n"
     ]
    },
    {
     "name": "stdout",
     "output_type": "stream",
     "text": [
      "Reading /mnt/nemar/openneuro/ds005505/sub-NDARPU897CM5/eeg/sub-NDARPU897CM5_task-RestingState_eeg.set\n",
      "Reading /mnt/nemar/openneuro/ds005505/sub-NDARLF616PBU/eeg/sub-NDARLF616PBU_task-RestingState_eeg.set\n",
      "Reading /mnt/nemar/openneuro/ds005505/sub-NDARJZ679KXJ/eeg/sub-NDARJZ679KXJ_task-RestingState_eeg.set\n"
     ]
    },
    {
     "name": "stderr",
     "output_type": "stream",
     "text": [
      "/home/dung/eeg-ssl/notebooks/../libs/ssl_dataloader.py:48: RuntimeWarning: The data contains 'boundary' events, indicating data discontinuities. Be cautious of filtering and epoching around these events.\n",
      "  raw = mne.io.read_raw_eeglab(f, preload=preload)\n",
      "/home/dung/eeg-ssl/notebooks/../libs/ssl_dataloader.py:48: RuntimeWarning: The data contains 'boundary' events, indicating data discontinuities. Be cautious of filtering and epoching around these events.\n",
      "  raw = mne.io.read_raw_eeglab(f, preload=preload)\n",
      "/home/dung/eeg-ssl/notebooks/../libs/ssl_dataloader.py:48: RuntimeWarning: The data contains 'boundary' events, indicating data discontinuities. Be cautious of filtering and epoching around these events.\n",
      "  raw = mne.io.read_raw_eeglab(f, preload=preload)\n",
      "/home/dung/eeg-ssl/notebooks/../libs/ssl_dataloader.py:48: RuntimeWarning: The data contains 'boundary' events, indicating data discontinuities. Be cautious of filtering and epoching around these events.\n",
      "  raw = mne.io.read_raw_eeglab(f, preload=preload)\n",
      "/home/dung/eeg-ssl/notebooks/../libs/ssl_dataloader.py:48: RuntimeWarning: The data contains 'boundary' events, indicating data discontinuities. Be cautious of filtering and epoching around these events.\n",
      "  raw = mne.io.read_raw_eeglab(f, preload=preload)\n",
      "/home/dung/eeg-ssl/notebooks/../libs/ssl_dataloader.py:48: RuntimeWarning: The data contains 'boundary' events, indicating data discontinuities. Be cautious of filtering and epoching around these events.\n",
      "  raw = mne.io.read_raw_eeglab(f, preload=preload)\n",
      "/home/dung/eeg-ssl/notebooks/../libs/ssl_dataloader.py:48: RuntimeWarning: The data contains 'boundary' events, indicating data discontinuities. Be cautious of filtering and epoching around these events.\n",
      "  raw = mne.io.read_raw_eeglab(f, preload=preload)\n",
      "/home/dung/eeg-ssl/notebooks/../libs/ssl_dataloader.py:48: RuntimeWarning: The data contains 'boundary' events, indicating data discontinuities. Be cautious of filtering and epoching around these events.\n",
      "  raw = mne.io.read_raw_eeglab(f, preload=preload)\n",
      "/home/dung/eeg-ssl/notebooks/../libs/ssl_dataloader.py:48: RuntimeWarning: The data contains 'boundary' events, indicating data discontinuities. Be cautious of filtering and epoching around these events.\n",
      "  raw = mne.io.read_raw_eeglab(f, preload=preload)\n",
      "/home/dung/eeg-ssl/notebooks/../libs/ssl_dataloader.py:48: RuntimeWarning: The data contains 'boundary' events, indicating data discontinuities. Be cautious of filtering and epoching around these events.\n",
      "  raw = mne.io.read_raw_eeglab(f, preload=preload)\n",
      "/home/dung/eeg-ssl/notebooks/../libs/ssl_dataloader.py:48: RuntimeWarning: The data contains 'boundary' events, indicating data discontinuities. Be cautious of filtering and epoching around these events.\n",
      "  raw = mne.io.read_raw_eeglab(f, preload=preload)\n",
      "/home/dung/eeg-ssl/notebooks/../libs/ssl_dataloader.py:48: RuntimeWarning: The data contains 'boundary' events, indicating data discontinuities. Be cautious of filtering and epoching around these events.\n",
      "  raw = mne.io.read_raw_eeglab(f, preload=preload)\n",
      "/home/dung/eeg-ssl/notebooks/../libs/ssl_dataloader.py:48: RuntimeWarning: The data contains 'boundary' events, indicating data discontinuities. Be cautious of filtering and epoching around these events.\n",
      "  raw = mne.io.read_raw_eeglab(f, preload=preload)\n",
      "/home/dung/eeg-ssl/notebooks/../libs/ssl_dataloader.py:48: RuntimeWarning: The data contains 'boundary' events, indicating data discontinuities. Be cautious of filtering and epoching around these events.\n",
      "  raw = mne.io.read_raw_eeglab(f, preload=preload)\n",
      "/home/dung/eeg-ssl/notebooks/../libs/ssl_dataloader.py:48: RuntimeWarning: The data contains 'boundary' events, indicating data discontinuities. Be cautious of filtering and epoching around these events.\n",
      "  raw = mne.io.read_raw_eeglab(f, preload=preload)\n",
      "/home/dung/eeg-ssl/notebooks/../libs/ssl_dataloader.py:48: RuntimeWarning: The data contains 'boundary' events, indicating data discontinuities. Be cautious of filtering and epoching around these events.\n",
      "  raw = mne.io.read_raw_eeglab(f, preload=preload)\n",
      "/home/dung/eeg-ssl/notebooks/../libs/ssl_dataloader.py:48: RuntimeWarning: The data contains 'boundary' events, indicating data discontinuities. Be cautious of filtering and epoching around these events.\n",
      "  raw = mne.io.read_raw_eeglab(f, preload=preload)\n",
      "/home/dung/eeg-ssl/notebooks/../libs/ssl_dataloader.py:48: RuntimeWarning: The data contains 'boundary' events, indicating data discontinuities. Be cautious of filtering and epoching around these events.\n",
      "  raw = mne.io.read_raw_eeglab(f, preload=preload)\n",
      "/home/dung/eeg-ssl/notebooks/../libs/ssl_dataloader.py:48: RuntimeWarning: The data contains 'boundary' events, indicating data discontinuities. Be cautious of filtering and epoching around these events.\n",
      "  raw = mne.io.read_raw_eeglab(f, preload=preload)\n",
      "/home/dung/eeg-ssl/notebooks/../libs/ssl_dataloader.py:48: RuntimeWarning: The data contains 'boundary' events, indicating data discontinuities. Be cautious of filtering and epoching around these events.\n",
      "  raw = mne.io.read_raw_eeglab(f, preload=preload)\n",
      "/home/dung/eeg-ssl/notebooks/../libs/ssl_dataloader.py:48: RuntimeWarning: The data contains 'boundary' events, indicating data discontinuities. Be cautious of filtering and epoching around these events.\n",
      "  raw = mne.io.read_raw_eeglab(f, preload=preload)\n",
      "/home/dung/eeg-ssl/notebooks/../libs/ssl_dataloader.py:48: RuntimeWarning: The data contains 'boundary' events, indicating data discontinuities. Be cautious of filtering and epoching around these events.\n",
      "  raw = mne.io.read_raw_eeglab(f, preload=preload)\n",
      "/home/dung/eeg-ssl/notebooks/../libs/ssl_dataloader.py:48: RuntimeWarning: The data contains 'boundary' events, indicating data discontinuities. Be cautious of filtering and epoching around these events.\n",
      "  raw = mne.io.read_raw_eeglab(f, preload=preload)\n"
     ]
    },
    {
     "name": "stdout",
     "output_type": "stream",
     "text": [
      "Reading /mnt/nemar/openneuro/ds005510/sub-NDARAE877NER/eeg/sub-NDARAE877NER_task-RestingState_eeg.set\n",
      "Reading /mnt/nemar/openneuro/ds005510/sub-NDARKN346XZH/eeg/sub-NDARKN346XZH_task-RestingState_eeg.set\n",
      "Reading /mnt/nemar/openneuro/ds005510/sub-NDARYW984FLT/eeg/sub-NDARYW984FLT_task-RestingState_eeg.set\n",
      "Reading /mnt/nemar/openneuro/ds005510/sub-NDARFX710UZA/eeg/sub-NDARFX710UZA_task-RestingState_eeg.set\n",
      "Reading /mnt/nemar/openneuro/ds005510/sub-NDARAX277ATU/eeg/sub-NDARAX277ATU_task-RestingState_eeg.set\n",
      "Reading /mnt/nemar/openneuro/ds005510/sub-NDARBM197EFF/eeg/sub-NDARBM197EFF_task-RestingState_eeg.set\n",
      "Reading /mnt/nemar/openneuro/ds005510/sub-NDARCA578CEB/eeg/sub-NDARCA578CEB_task-RestingState_eeg.set\n",
      "Reading /mnt/nemar/openneuro/ds005510/sub-NDARWX605LAD/eeg/sub-NDARWX605LAD_task-RestingState_eeg.set\n",
      "Reading /mnt/nemar/openneuro/ds005510/sub-NDARYA955CY1/eeg/sub-NDARYA955CY1_task-RestingState_eeg.set\n",
      "Reading /mnt/nemar/openneuro/ds005510/sub-NDARWT694TXM/eeg/sub-NDARWT694TXM_task-RestingState_eeg.set\n",
      "Reading /mnt/nemar/openneuro/ds005510/sub-NDARWV452YZN/eeg/sub-NDARWV452YZN_task-RestingState_eeg.set\n",
      "Reading /mnt/nemar/openneuro/ds005510/sub-NDARAD224CRB/eeg/sub-NDARAD224CRB_task-RestingState_eeg.set\n",
      "Reading /mnt/nemar/openneuro/ds005510/sub-NDARHN482HPM/eeg/sub-NDARHN482HPM_task-RestingState_eeg.set\n",
      "Reading /mnt/nemar/openneuro/ds005510/sub-NDARJG687YYX/eeg/sub-NDARJG687YYX_task-RestingState_eeg.set\n",
      "Reading /mnt/nemar/openneuro/ds005510/sub-NDARRV688GUX/eeg/sub-NDARRV688GUX_task-RestingState_eeg.set\n",
      "Reading /mnt/nemar/openneuro/ds005510/sub-NDARRW643DHJ/eeg/sub-NDARRW643DHJ_task-RestingState_eeg.set\n",
      "Reading /mnt/nemar/openneuro/ds005510/sub-NDARAB348EWR/eeg/sub-NDARAB348EWR_task-RestingState_eeg.set\n",
      "Reading /mnt/nemar/openneuro/ds005510/sub-NDARYZ986HEW/eeg/sub-NDARYZ986HEW_task-RestingState_eeg.set\n",
      "Reading /mnt/nemar/openneuro/ds005510/sub-NDARCP292KPA/eeg/sub-NDARCP292KPA_task-RestingState_eeg.set\n",
      "Reading /mnt/nemar/openneuro/ds005510/sub-NDARKN175HWB/eeg/sub-NDARKN175HWB_task-RestingState_eeg.set\n",
      "Reading /mnt/nemar/openneuro/ds005510/sub-NDARPY297MD8/eeg/sub-NDARPY297MD8_task-RestingState_eeg.set\n",
      "Reading /mnt/nemar/openneuro/ds005510/sub-NDARBN611GRA/eeg/sub-NDARBN611GRA_task-RestingState_eeg.set\n",
      "Reading /mnt/nemar/openneuro/ds005510/sub-NDARUP067TM8/eeg/sub-NDARUP067TM8_task-RestingState_eeg.set\n",
      "Reading /mnt/nemar/openneuro/ds005510/sub-NDARFX455JFY/eeg/sub-NDARFX455JFY_task-RestingState_eeg.set\n",
      "Reading /mnt/nemar/openneuro/ds005510/sub-NDARTU644WHZ/eeg/sub-NDARTU644WHZ_task-RestingState_eeg.set\n",
      "Reading /mnt/nemar/openneuro/ds005510/sub-NDARWB782FLR/eeg/sub-NDARWB782FLR_task-RestingState_eeg.set\n",
      "Reading /mnt/nemar/openneuro/ds005510/sub-NDARVZ525AA0/eeg/sub-NDARVZ525AA0_task-RestingState_eeg.set\n",
      "Reading /mnt/nemar/openneuro/ds005510/sub-NDARHP039DBU/eeg/sub-NDARHP039DBU_task-RestingState_eeg.set\n",
      "Reading /mnt/nemar/openneuro/ds005510/sub-NDARKZ085UKQ/eeg/sub-NDARKZ085UKQ_task-RestingState_eeg.set\n",
      "Reading /mnt/nemar/openneuro/ds005510/sub-NDARAB708LM5/eeg/sub-NDARAB708LM5_task-RestingState_eeg.set\n",
      "Reading /mnt/nemar/openneuro/ds005510/sub-NDARYZ871DXQ/eeg/sub-NDARYZ871DXQ_task-RestingState_eeg.set\n",
      "Reading /mnt/nemar/openneuro/ds005510/sub-NDAREC277JCP/eeg/sub-NDAREC277JCP_task-RestingState_eeg.set\n"
     ]
    },
    {
     "name": "stderr",
     "output_type": "stream",
     "text": [
      "/home/dung/eeg-ssl/notebooks/../libs/ssl_dataloader.py:48: RuntimeWarning: The data contains 'boundary' events, indicating data discontinuities. Be cautious of filtering and epoching around these events.\n",
      "  raw = mne.io.read_raw_eeglab(f, preload=preload)\n",
      "/home/dung/eeg-ssl/notebooks/../libs/ssl_dataloader.py:48: RuntimeWarning: The data contains 'boundary' events, indicating data discontinuities. Be cautious of filtering and epoching around these events.\n",
      "  raw = mne.io.read_raw_eeglab(f, preload=preload)\n",
      "/home/dung/eeg-ssl/notebooks/../libs/ssl_dataloader.py:48: RuntimeWarning: The data contains 'boundary' events, indicating data discontinuities. Be cautious of filtering and epoching around these events.\n",
      "  raw = mne.io.read_raw_eeglab(f, preload=preload)\n",
      "/home/dung/eeg-ssl/notebooks/../libs/ssl_dataloader.py:48: RuntimeWarning: The data contains 'boundary' events, indicating data discontinuities. Be cautious of filtering and epoching around these events.\n",
      "  raw = mne.io.read_raw_eeglab(f, preload=preload)\n",
      "/home/dung/eeg-ssl/notebooks/../libs/ssl_dataloader.py:48: RuntimeWarning: The data contains 'boundary' events, indicating data discontinuities. Be cautious of filtering and epoching around these events.\n",
      "  raw = mne.io.read_raw_eeglab(f, preload=preload)\n",
      "/home/dung/eeg-ssl/notebooks/../libs/ssl_dataloader.py:48: RuntimeWarning: The data contains 'boundary' events, indicating data discontinuities. Be cautious of filtering and epoching around these events.\n",
      "  raw = mne.io.read_raw_eeglab(f, preload=preload)\n",
      "/home/dung/eeg-ssl/notebooks/../libs/ssl_dataloader.py:48: RuntimeWarning: The data contains 'boundary' events, indicating data discontinuities. Be cautious of filtering and epoching around these events.\n",
      "  raw = mne.io.read_raw_eeglab(f, preload=preload)\n",
      "/home/dung/eeg-ssl/notebooks/../libs/ssl_dataloader.py:48: RuntimeWarning: The data contains 'boundary' events, indicating data discontinuities. Be cautious of filtering and epoching around these events.\n",
      "  raw = mne.io.read_raw_eeglab(f, preload=preload)\n",
      "/home/dung/eeg-ssl/notebooks/../libs/ssl_dataloader.py:48: RuntimeWarning: The data contains 'boundary' events, indicating data discontinuities. Be cautious of filtering and epoching around these events.\n",
      "  raw = mne.io.read_raw_eeglab(f, preload=preload)\n",
      "/home/dung/eeg-ssl/notebooks/../libs/ssl_dataloader.py:48: RuntimeWarning: The data contains 'boundary' events, indicating data discontinuities. Be cautious of filtering and epoching around these events.\n",
      "  raw = mne.io.read_raw_eeglab(f, preload=preload)\n",
      "/home/dung/eeg-ssl/notebooks/../libs/ssl_dataloader.py:48: RuntimeWarning: The data contains 'boundary' events, indicating data discontinuities. Be cautious of filtering and epoching around these events.\n",
      "  raw = mne.io.read_raw_eeglab(f, preload=preload)\n",
      "/home/dung/eeg-ssl/notebooks/../libs/ssl_dataloader.py:48: RuntimeWarning: The data contains 'boundary' events, indicating data discontinuities. Be cautious of filtering and epoching around these events.\n",
      "  raw = mne.io.read_raw_eeglab(f, preload=preload)\n",
      "/home/dung/eeg-ssl/notebooks/../libs/ssl_dataloader.py:48: RuntimeWarning: The data contains 'boundary' events, indicating data discontinuities. Be cautious of filtering and epoching around these events.\n",
      "  raw = mne.io.read_raw_eeglab(f, preload=preload)\n",
      "/home/dung/eeg-ssl/notebooks/../libs/ssl_dataloader.py:48: RuntimeWarning: The data contains 'boundary' events, indicating data discontinuities. Be cautious of filtering and epoching around these events.\n",
      "  raw = mne.io.read_raw_eeglab(f, preload=preload)\n",
      "/home/dung/eeg-ssl/notebooks/../libs/ssl_dataloader.py:48: RuntimeWarning: The data contains 'boundary' events, indicating data discontinuities. Be cautious of filtering and epoching around these events.\n",
      "  raw = mne.io.read_raw_eeglab(f, preload=preload)\n",
      "/home/dung/eeg-ssl/notebooks/../libs/ssl_dataloader.py:48: RuntimeWarning: The data contains 'boundary' events, indicating data discontinuities. Be cautious of filtering and epoching around these events.\n",
      "  raw = mne.io.read_raw_eeglab(f, preload=preload)\n"
     ]
    },
    {
     "name": "stdout",
     "output_type": "stream",
     "text": [
      "Reading /mnt/nemar/openneuro/ds005510/sub-NDARDE827UF0/eeg/sub-NDARDE827UF0_task-RestingState_eeg.set\n",
      "Reading /mnt/nemar/openneuro/ds005510/sub-NDARFX626DFH/eeg/sub-NDARFX626DFH_task-RestingState_eeg.set\n",
      "Reading /mnt/nemar/openneuro/ds005510/sub-NDARZC058BA5/eeg/sub-NDARZC058BA5_task-RestingState_eeg.set\n"
     ]
    },
    {
     "name": "stderr",
     "output_type": "stream",
     "text": [
      "/home/dung/eeg-ssl/notebooks/../libs/ssl_dataloader.py:48: RuntimeWarning: The data contains 'boundary' events, indicating data discontinuities. Be cautious of filtering and epoching around these events.\n",
      "  raw = mne.io.read_raw_eeglab(f, preload=preload)\n"
     ]
    },
    {
     "name": "stdout",
     "output_type": "stream",
     "text": [
      "Reading /mnt/nemar/openneuro/ds005510/sub-NDARGP399TDM/eeg/sub-NDARGP399TDM_task-RestingState_eeg.set\n",
      "Reading /mnt/nemar/openneuro/ds005510/sub-NDARRD943ZWU/eeg/sub-NDARRD943ZWU_task-RestingState_eeg.set\n",
      "Reading /mnt/nemar/openneuro/ds005510/sub-NDARNE729PN2/eeg/sub-NDARNE729PN2_task-RestingState_eeg.set\n",
      "Reading /mnt/nemar/openneuro/ds005510/sub-NDARWN424BPK/eeg/sub-NDARWN424BPK_task-RestingState_eeg.set\n",
      "Reading /mnt/nemar/openneuro/ds005510/sub-NDARGZ553TMQ/eeg/sub-NDARGZ553TMQ_task-RestingState_eeg.set\n",
      "Reading /mnt/nemar/openneuro/ds005510/sub-NDARUL454XRE/eeg/sub-NDARUL454XRE_task-RestingState_eeg.set\n",
      "Reading /mnt/nemar/openneuro/ds005510/sub-NDARPM572ZZV/eeg/sub-NDARPM572ZZV_task-RestingState_eeg.set\n"
     ]
    },
    {
     "name": "stderr",
     "output_type": "stream",
     "text": [
      "/home/dung/eeg-ssl/notebooks/../libs/ssl_dataloader.py:48: RuntimeWarning: The data contains 'boundary' events, indicating data discontinuities. Be cautious of filtering and epoching around these events.\n",
      "  raw = mne.io.read_raw_eeglab(f, preload=preload)\n",
      "/home/dung/eeg-ssl/notebooks/../libs/ssl_dataloader.py:48: RuntimeWarning: The data contains 'boundary' events, indicating data discontinuities. Be cautious of filtering and epoching around these events.\n",
      "  raw = mne.io.read_raw_eeglab(f, preload=preload)\n"
     ]
    },
    {
     "name": "stdout",
     "output_type": "stream",
     "text": [
      "Reading /mnt/nemar/openneuro/ds005510/sub-NDARLJ168LXY/eeg/sub-NDARLJ168LXY_task-RestingState_eeg.set\n",
      "Reading /mnt/nemar/openneuro/ds005510/sub-NDARHT774ZK1/eeg/sub-NDARHT774ZK1_task-RestingState_eeg.set\n",
      "Reading /mnt/nemar/openneuro/ds005510/sub-NDARTN483XE4/eeg/sub-NDARTN483XE4_task-RestingState_eeg.set\n",
      "Reading /mnt/nemar/openneuro/ds005510/sub-NDARLT314TWP/eeg/sub-NDARLT314TWP_task-RestingState_eeg.set\n",
      "Reading /mnt/nemar/openneuro/ds005510/sub-NDARLV155RW0/eeg/sub-NDARLV155RW0_task-RestingState_eeg.set\n",
      "Reading /mnt/nemar/openneuro/ds005510/sub-NDARCN500KJG/eeg/sub-NDARCN500KJG_task-RestingState_eeg.set\n"
     ]
    },
    {
     "name": "stderr",
     "output_type": "stream",
     "text": [
      "/home/dung/eeg-ssl/notebooks/../libs/ssl_dataloader.py:48: RuntimeWarning: The data contains 'boundary' events, indicating data discontinuities. Be cautious of filtering and epoching around these events.\n",
      "  raw = mne.io.read_raw_eeglab(f, preload=preload)\n",
      "/home/dung/eeg-ssl/notebooks/../libs/ssl_dataloader.py:48: RuntimeWarning: The data contains 'boundary' events, indicating data discontinuities. Be cautious of filtering and epoching around these events.\n",
      "  raw = mne.io.read_raw_eeglab(f, preload=preload)\n"
     ]
    },
    {
     "name": "stdout",
     "output_type": "stream",
     "text": [
      "Reading /mnt/nemar/openneuro/ds005510/sub-NDARXE542EMB/eeg/sub-NDARXE542EMB_task-RestingState_eeg.set\n",
      "Reading /mnt/nemar/openneuro/ds005510/sub-NDARAB756JDJ/eeg/sub-NDARAB756JDJ_task-RestingState_eeg.set\n"
     ]
    },
    {
     "name": "stderr",
     "output_type": "stream",
     "text": [
      "/home/dung/eeg-ssl/notebooks/../libs/ssl_dataloader.py:48: RuntimeWarning: The data contains 'boundary' events, indicating data discontinuities. Be cautious of filtering and epoching around these events.\n",
      "  raw = mne.io.read_raw_eeglab(f, preload=preload)\n",
      "/home/dung/eeg-ssl/notebooks/../libs/ssl_dataloader.py:48: RuntimeWarning: The data contains 'boundary' events, indicating data discontinuities. Be cautious of filtering and epoching around these events.\n",
      "  raw = mne.io.read_raw_eeglab(f, preload=preload)\n"
     ]
    },
    {
     "name": "stdout",
     "output_type": "stream",
     "text": [
      "Reading /mnt/nemar/openneuro/ds005510/sub-NDARGP191YHN/eeg/sub-NDARGP191YHN_task-RestingState_eeg.set\n",
      "Reading /mnt/nemar/openneuro/ds005510/sub-NDARAB458VK9/eeg/sub-NDARAB458VK9_task-RestingState_eeg.set\n",
      "Reading /mnt/nemar/openneuro/ds005510/sub-NDARFA780CUG/eeg/sub-NDARFA780CUG_task-RestingState_eeg.set\n"
     ]
    },
    {
     "name": "stderr",
     "output_type": "stream",
     "text": [
      "/home/dung/eeg-ssl/notebooks/../libs/ssl_dataloader.py:48: RuntimeWarning: The data contains 'boundary' events, indicating data discontinuities. Be cautious of filtering and epoching around these events.\n",
      "  raw = mne.io.read_raw_eeglab(f, preload=preload)\n"
     ]
    },
    {
     "name": "stdout",
     "output_type": "stream",
     "text": [
      "Reading /mnt/nemar/openneuro/ds005510/sub-NDARAE301XTM/eeg/sub-NDARAE301XTM_task-RestingState_eeg.set\n",
      "Reading /mnt/nemar/openneuro/ds005510/sub-NDARCR594JN0/eeg/sub-NDARCR594JN0_task-RestingState_eeg.set\n"
     ]
    },
    {
     "name": "stderr",
     "output_type": "stream",
     "text": [
      "/home/dung/eeg-ssl/notebooks/../libs/ssl_dataloader.py:48: RuntimeWarning: The data contains 'boundary' events, indicating data discontinuities. Be cautious of filtering and epoching around these events.\n",
      "  raw = mne.io.read_raw_eeglab(f, preload=preload)\n"
     ]
    },
    {
     "name": "stdout",
     "output_type": "stream",
     "text": [
      "Reading /mnt/nemar/openneuro/ds005510/sub-NDARKT952ML4/eeg/sub-NDARKT952ML4_task-RestingState_eeg.set\n"
     ]
    },
    {
     "name": "stderr",
     "output_type": "stream",
     "text": [
      "/home/dung/eeg-ssl/notebooks/../libs/ssl_dataloader.py:48: RuntimeWarning: The data contains 'boundary' events, indicating data discontinuities. Be cautious of filtering and epoching around these events.\n",
      "  raw = mne.io.read_raw_eeglab(f, preload=preload)\n"
     ]
    },
    {
     "name": "stdout",
     "output_type": "stream",
     "text": [
      "Reading /mnt/nemar/openneuro/ds005510/sub-NDARTV107XD4/eeg/sub-NDARTV107XD4_task-RestingState_eeg.set\n",
      "Reading /mnt/nemar/openneuro/ds005510/sub-NDARZR538EZH/eeg/sub-NDARZR538EZH_task-RestingState_eeg.set\n"
     ]
    },
    {
     "name": "stderr",
     "output_type": "stream",
     "text": [
      "/home/dung/eeg-ssl/notebooks/../libs/ssl_dataloader.py:48: RuntimeWarning: The data contains 'boundary' events, indicating data discontinuities. Be cautious of filtering and epoching around these events.\n",
      "  raw = mne.io.read_raw_eeglab(f, preload=preload)\n",
      "/home/dung/eeg-ssl/notebooks/../libs/ssl_dataloader.py:48: RuntimeWarning: The data contains 'boundary' events, indicating data discontinuities. Be cautious of filtering and epoching around these events.\n",
      "  raw = mne.io.read_raw_eeglab(f, preload=preload)\n",
      "/home/dung/eeg-ssl/notebooks/../libs/ssl_dataloader.py:48: RuntimeWarning: The data contains 'boundary' events, indicating data discontinuities. Be cautious of filtering and epoching around these events.\n",
      "  raw = mne.io.read_raw_eeglab(f, preload=preload)\n"
     ]
    },
    {
     "name": "stdout",
     "output_type": "stream",
     "text": [
      "Reading /mnt/nemar/openneuro/ds005510/sub-NDARAT680GJA/eeg/sub-NDARAT680GJA_task-RestingState_eeg.set\n"
     ]
    },
    {
     "name": "stderr",
     "output_type": "stream",
     "text": [
      "/home/dung/eeg-ssl/notebooks/../libs/ssl_dataloader.py:48: RuntimeWarning: The data contains 'boundary' events, indicating data discontinuities. Be cautious of filtering and epoching around these events.\n",
      "  raw = mne.io.read_raw_eeglab(f, preload=preload)\n"
     ]
    },
    {
     "name": "stdout",
     "output_type": "stream",
     "text": [
      "Reading /mnt/nemar/openneuro/ds005510/sub-NDARNE906EJA/eeg/sub-NDARNE906EJA_task-RestingState_eeg.set\n",
      "Reading /mnt/nemar/openneuro/ds005510/sub-NDARTT979FDD/eeg/sub-NDARTT979FDD_task-RestingState_eeg.set\n",
      "Reading /mnt/nemar/openneuro/ds005510/sub-NDARKG697CEW/eeg/sub-NDARKG697CEW_task-RestingState_eeg.set\n",
      "Reading /mnt/nemar/openneuro/ds005510/sub-NDARDV865ENP/eeg/sub-NDARDV865ENP_task-RestingState_eeg.set\n"
     ]
    },
    {
     "name": "stderr",
     "output_type": "stream",
     "text": [
      "/home/dung/eeg-ssl/notebooks/../libs/ssl_dataloader.py:48: RuntimeWarning: The data contains 'boundary' events, indicating data discontinuities. Be cautious of filtering and epoching around these events.\n",
      "  raw = mne.io.read_raw_eeglab(f, preload=preload)\n"
     ]
    },
    {
     "name": "stdout",
     "output_type": "stream",
     "text": [
      "Reading /mnt/nemar/openneuro/ds005510/sub-NDARPG847LB8/eeg/sub-NDARPG847LB8_task-RestingState_eeg.set\n"
     ]
    },
    {
     "name": "stderr",
     "output_type": "stream",
     "text": [
      "/home/dung/eeg-ssl/notebooks/../libs/ssl_dataloader.py:48: RuntimeWarning: The data contains 'boundary' events, indicating data discontinuities. Be cautious of filtering and epoching around these events.\n",
      "  raw = mne.io.read_raw_eeglab(f, preload=preload)\n",
      "/home/dung/eeg-ssl/notebooks/../libs/ssl_dataloader.py:48: RuntimeWarning: The data contains 'boundary' events, indicating data discontinuities. Be cautious of filtering and epoching around these events.\n",
      "  raw = mne.io.read_raw_eeglab(f, preload=preload)\n",
      "/home/dung/eeg-ssl/notebooks/../libs/ssl_dataloader.py:48: RuntimeWarning: The data contains 'boundary' events, indicating data discontinuities. Be cautious of filtering and epoching around these events.\n",
      "  raw = mne.io.read_raw_eeglab(f, preload=preload)\n",
      "/home/dung/eeg-ssl/notebooks/../libs/ssl_dataloader.py:48: RuntimeWarning: The data contains 'boundary' events, indicating data discontinuities. Be cautious of filtering and epoching around these events.\n",
      "  raw = mne.io.read_raw_eeglab(f, preload=preload)\n",
      "/home/dung/eeg-ssl/notebooks/../libs/ssl_dataloader.py:48: RuntimeWarning: The data contains 'boundary' events, indicating data discontinuities. Be cautious of filtering and epoching around these events.\n",
      "  raw = mne.io.read_raw_eeglab(f, preload=preload)\n",
      "/home/dung/eeg-ssl/notebooks/../libs/ssl_dataloader.py:48: RuntimeWarning: The data contains 'boundary' events, indicating data discontinuities. Be cautious of filtering and epoching around these events.\n",
      "  raw = mne.io.read_raw_eeglab(f, preload=preload)\n",
      "/home/dung/eeg-ssl/notebooks/../libs/ssl_dataloader.py:48: RuntimeWarning: The data contains 'boundary' events, indicating data discontinuities. Be cautious of filtering and epoching around these events.\n",
      "  raw = mne.io.read_raw_eeglab(f, preload=preload)\n",
      "/home/dung/eeg-ssl/notebooks/../libs/ssl_dataloader.py:48: RuntimeWarning: The data contains 'boundary' events, indicating data discontinuities. Be cautious of filtering and epoching around these events.\n",
      "  raw = mne.io.read_raw_eeglab(f, preload=preload)\n",
      "/home/dung/eeg-ssl/notebooks/../libs/ssl_dataloader.py:48: RuntimeWarning: The data contains 'boundary' events, indicating data discontinuities. Be cautious of filtering and epoching around these events.\n",
      "  raw = mne.io.read_raw_eeglab(f, preload=preload)\n",
      "/home/dung/eeg-ssl/notebooks/../libs/ssl_dataloader.py:48: RuntimeWarning: The data contains 'boundary' events, indicating data discontinuities. Be cautious of filtering and epoching around these events.\n",
      "  raw = mne.io.read_raw_eeglab(f, preload=preload)\n",
      "/home/dung/eeg-ssl/notebooks/../libs/ssl_dataloader.py:48: RuntimeWarning: The data contains 'boundary' events, indicating data discontinuities. Be cautious of filtering and epoching around these events.\n",
      "  raw = mne.io.read_raw_eeglab(f, preload=preload)\n"
     ]
    },
    {
     "name": "stdout",
     "output_type": "stream",
     "text": [
      "Reading /mnt/nemar/openneuro/ds005510/sub-NDARWR448MER/eeg/sub-NDARWR448MER_task-RestingState_eeg.set\n",
      "Reading /mnt/nemar/openneuro/ds005510/sub-NDARAN262WK6/eeg/sub-NDARAN262WK6_task-RestingState_eeg.set\n"
     ]
    },
    {
     "name": "stderr",
     "output_type": "stream",
     "text": [
      "/home/dung/eeg-ssl/notebooks/../libs/ssl_dataloader.py:48: RuntimeWarning: The data contains 'boundary' events, indicating data discontinuities. Be cautious of filtering and epoching around these events.\n",
      "  raw = mne.io.read_raw_eeglab(f, preload=preload)\n",
      "/home/dung/eeg-ssl/notebooks/../libs/ssl_dataloader.py:48: RuntimeWarning: The data contains 'boundary' events, indicating data discontinuities. Be cautious of filtering and epoching around these events.\n",
      "  raw = mne.io.read_raw_eeglab(f, preload=preload)\n"
     ]
    },
    {
     "name": "stdout",
     "output_type": "stream",
     "text": [
      "Reading /mnt/nemar/openneuro/ds005510/sub-NDARYL090TGH/eeg/sub-NDARYL090TGH_task-RestingState_eeg.set\n",
      "Reading /mnt/nemar/openneuro/ds005510/sub-NDARFD552FRH/eeg/sub-NDARFD552FRH_task-RestingState_eeg.set\n",
      "Reading /mnt/nemar/openneuro/ds005510/sub-NDARGH592NZ2/eeg/sub-NDARGH592NZ2_task-RestingState_eeg.set\n",
      "Reading /mnt/nemar/openneuro/ds005510/sub-NDARMA154FAK/eeg/sub-NDARMA154FAK_task-RestingState_eeg.set\n",
      "Reading /mnt/nemar/openneuro/ds005510/sub-NDARDZ425JVB/eeg/sub-NDARDZ425JVB_task-RestingState_eeg.set\n",
      "Reading /mnt/nemar/openneuro/ds005510/sub-NDARCJ011TTG/eeg/sub-NDARCJ011TTG_task-RestingState_eeg.set\n"
     ]
    },
    {
     "name": "stderr",
     "output_type": "stream",
     "text": [
      "/home/dung/eeg-ssl/notebooks/../libs/ssl_dataloader.py:48: RuntimeWarning: The data contains 'boundary' events, indicating data discontinuities. Be cautious of filtering and epoching around these events.\n",
      "  raw = mne.io.read_raw_eeglab(f, preload=preload)\n",
      "/home/dung/eeg-ssl/notebooks/../libs/ssl_dataloader.py:48: RuntimeWarning: The data contains 'boundary' events, indicating data discontinuities. Be cautious of filtering and epoching around these events.\n",
      "  raw = mne.io.read_raw_eeglab(f, preload=preload)\n",
      "/home/dung/eeg-ssl/notebooks/../libs/ssl_dataloader.py:48: RuntimeWarning: The data contains 'boundary' events, indicating data discontinuities. Be cautious of filtering and epoching around these events.\n",
      "  raw = mne.io.read_raw_eeglab(f, preload=preload)\n"
     ]
    },
    {
     "name": "stdout",
     "output_type": "stream",
     "text": [
      "Reading /mnt/nemar/openneuro/ds005510/sub-NDARNJ899HW7/eeg/sub-NDARNJ899HW7_task-RestingState_eeg.set\n",
      "Reading /mnt/nemar/openneuro/ds005510/sub-NDARNK489GNR/eeg/sub-NDARNK489GNR_task-RestingState_eeg.set\n",
      "Reading /mnt/nemar/openneuro/ds005510/sub-NDARKT032RYR/eeg/sub-NDARKT032RYR_task-RestingState_eeg.set\n"
     ]
    },
    {
     "name": "stderr",
     "output_type": "stream",
     "text": [
      "/home/dung/eeg-ssl/notebooks/../libs/ssl_dataloader.py:48: RuntimeWarning: The data contains 'boundary' events, indicating data discontinuities. Be cautious of filtering and epoching around these events.\n",
      "  raw = mne.io.read_raw_eeglab(f, preload=preload)\n"
     ]
    },
    {
     "name": "stdout",
     "output_type": "stream",
     "text": [
      "Reading /mnt/nemar/openneuro/ds005510/sub-NDARTY549YDG/eeg/sub-NDARTY549YDG_task-RestingState_eeg.set\n"
     ]
    },
    {
     "name": "stderr",
     "output_type": "stream",
     "text": [
      "/home/dung/eeg-ssl/notebooks/../libs/ssl_dataloader.py:48: RuntimeWarning: The data contains 'boundary' events, indicating data discontinuities. Be cautious of filtering and epoching around these events.\n",
      "  raw = mne.io.read_raw_eeglab(f, preload=preload)\n"
     ]
    },
    {
     "name": "stdout",
     "output_type": "stream",
     "text": [
      "Reading /mnt/nemar/openneuro/ds005510/sub-NDARLW312JT8/eeg/sub-NDARLW312JT8_task-RestingState_eeg.set\n"
     ]
    },
    {
     "name": "stderr",
     "output_type": "stream",
     "text": [
      "/home/dung/eeg-ssl/notebooks/../libs/ssl_dataloader.py:48: RuntimeWarning: The data contains 'boundary' events, indicating data discontinuities. Be cautious of filtering and epoching around these events.\n",
      "  raw = mne.io.read_raw_eeglab(f, preload=preload)\n"
     ]
    },
    {
     "name": "stdout",
     "output_type": "stream",
     "text": [
      "Reading /mnt/nemar/openneuro/ds005510/sub-NDARTC710UM1/eeg/sub-NDARTC710UM1_task-RestingState_eeg.set\n",
      "Reading /mnt/nemar/openneuro/ds005510/sub-NDARCH628LKW/eeg/sub-NDARCH628LKW_task-RestingState_eeg.set\n",
      "Reading /mnt/nemar/openneuro/ds005510/sub-NDARTT383DPY/eeg/sub-NDARTT383DPY_task-RestingState_eeg.set\n",
      "Reading /mnt/nemar/openneuro/ds005510/sub-NDARRZ606EDP/eeg/sub-NDARRZ606EDP_task-RestingState_eeg.set\n"
     ]
    },
    {
     "name": "stderr",
     "output_type": "stream",
     "text": [
      "/home/dung/eeg-ssl/notebooks/../libs/ssl_dataloader.py:48: RuntimeWarning: The data contains 'boundary' events, indicating data discontinuities. Be cautious of filtering and epoching around these events.\n",
      "  raw = mne.io.read_raw_eeglab(f, preload=preload)\n"
     ]
    },
    {
     "name": "stdout",
     "output_type": "stream",
     "text": [
      "Reading /mnt/nemar/openneuro/ds005510/sub-NDARMW088NNR/eeg/sub-NDARMW088NNR_task-RestingState_eeg.set\n",
      "Reading /mnt/nemar/openneuro/ds005510/sub-NDARGE994BMX/eeg/sub-NDARGE994BMX_task-RestingState_eeg.set\n"
     ]
    },
    {
     "name": "stderr",
     "output_type": "stream",
     "text": [
      "/home/dung/eeg-ssl/notebooks/../libs/ssl_dataloader.py:48: RuntimeWarning: The data contains 'boundary' events, indicating data discontinuities. Be cautious of filtering and epoching around these events.\n",
      "  raw = mne.io.read_raw_eeglab(f, preload=preload)\n"
     ]
    },
    {
     "name": "stdout",
     "output_type": "stream",
     "text": [
      "Reading /mnt/nemar/openneuro/ds005510/sub-NDARFG118DW3/eeg/sub-NDARFG118DW3_task-RestingState_eeg.set\n"
     ]
    },
    {
     "name": "stderr",
     "output_type": "stream",
     "text": [
      "/home/dung/eeg-ssl/notebooks/../libs/ssl_dataloader.py:48: RuntimeWarning: The data contains 'boundary' events, indicating data discontinuities. Be cautious of filtering and epoching around these events.\n",
      "  raw = mne.io.read_raw_eeglab(f, preload=preload)\n"
     ]
    },
    {
     "name": "stdout",
     "output_type": "stream",
     "text": [
      "Reading /mnt/nemar/openneuro/ds005510/sub-NDARWM683XYZ/eeg/sub-NDARWM683XYZ_task-RestingState_eeg.set\n"
     ]
    },
    {
     "name": "stderr",
     "output_type": "stream",
     "text": [
      "/home/dung/eeg-ssl/notebooks/../libs/ssl_dataloader.py:48: RuntimeWarning: The data contains 'boundary' events, indicating data discontinuities. Be cautious of filtering and epoching around these events.\n",
      "  raw = mne.io.read_raw_eeglab(f, preload=preload)\n",
      "/home/dung/eeg-ssl/notebooks/../libs/ssl_dataloader.py:48: RuntimeWarning: The data contains 'boundary' events, indicating data discontinuities. Be cautious of filtering and epoching around these events.\n",
      "  raw = mne.io.read_raw_eeglab(f, preload=preload)\n"
     ]
    },
    {
     "name": "stdout",
     "output_type": "stream",
     "text": [
      "Reading /mnt/nemar/openneuro/ds005510/sub-NDARUK101YT3/eeg/sub-NDARUK101YT3_task-RestingState_eeg.set\n"
     ]
    },
    {
     "name": "stderr",
     "output_type": "stream",
     "text": [
      "/home/dung/eeg-ssl/notebooks/../libs/ssl_dataloader.py:48: RuntimeWarning: The data contains 'boundary' events, indicating data discontinuities. Be cautious of filtering and epoching around these events.\n",
      "  raw = mne.io.read_raw_eeglab(f, preload=preload)\n",
      "/home/dung/eeg-ssl/notebooks/../libs/ssl_dataloader.py:48: RuntimeWarning: The data contains 'boundary' events, indicating data discontinuities. Be cautious of filtering and epoching around these events.\n",
      "  raw = mne.io.read_raw_eeglab(f, preload=preload)\n"
     ]
    },
    {
     "name": "stdout",
     "output_type": "stream",
     "text": [
      "Reading /mnt/nemar/openneuro/ds005510/sub-NDARAB055BPR/eeg/sub-NDARAB055BPR_task-RestingState_eeg.set\n",
      "Reading /mnt/nemar/openneuro/ds005510/sub-NDARVK847ZRT/eeg/sub-NDARVK847ZRT_task-RestingState_eeg.set\n",
      "Reading /mnt/nemar/openneuro/ds005510/sub-NDARUD306BB0/eeg/sub-NDARUD306BB0_task-RestingState_eeg.set\n",
      "Reading /mnt/nemar/openneuro/ds005510/sub-NDARWN709HA2/eeg/sub-NDARWN709HA2_task-RestingState_eeg.set\n",
      "Reading /mnt/nemar/openneuro/ds005510/sub-NDARBK106KRH/eeg/sub-NDARBK106KRH_task-RestingState_eeg.set\n"
     ]
    },
    {
     "name": "stderr",
     "output_type": "stream",
     "text": [
      "/home/dung/eeg-ssl/notebooks/../libs/ssl_dataloader.py:48: RuntimeWarning: The data contains 'boundary' events, indicating data discontinuities. Be cautious of filtering and epoching around these events.\n",
      "  raw = mne.io.read_raw_eeglab(f, preload=preload)\n",
      "/home/dung/eeg-ssl/notebooks/../libs/ssl_dataloader.py:48: RuntimeWarning: The data contains 'boundary' events, indicating data discontinuities. Be cautious of filtering and epoching around these events.\n",
      "  raw = mne.io.read_raw_eeglab(f, preload=preload)\n"
     ]
    },
    {
     "name": "stdout",
     "output_type": "stream",
     "text": [
      "Reading /mnt/nemar/openneuro/ds005510/sub-NDARZG081LYG/eeg/sub-NDARZG081LYG_task-RestingState_eeg.set\n",
      "Reading /mnt/nemar/openneuro/ds005510/sub-NDARJG740PM8/eeg/sub-NDARJG740PM8_task-RestingState_eeg.set\n"
     ]
    },
    {
     "name": "stderr",
     "output_type": "stream",
     "text": [
      "/home/dung/eeg-ssl/notebooks/../libs/ssl_dataloader.py:48: RuntimeWarning: The data contains 'boundary' events, indicating data discontinuities. Be cautious of filtering and epoching around these events.\n",
      "  raw = mne.io.read_raw_eeglab(f, preload=preload)\n",
      "/home/dung/eeg-ssl/notebooks/../libs/ssl_dataloader.py:48: RuntimeWarning: The data contains 'boundary' events, indicating data discontinuities. Be cautious of filtering and epoching around these events.\n",
      "  raw = mne.io.read_raw_eeglab(f, preload=preload)\n"
     ]
    },
    {
     "name": "stdout",
     "output_type": "stream",
     "text": [
      "Reading /mnt/nemar/openneuro/ds005510/sub-NDARWF086XF8/eeg/sub-NDARWF086XF8_task-RestingState_eeg.set\n",
      "Reading /mnt/nemar/openneuro/ds005510/sub-NDARZY224TFX/eeg/sub-NDARZY224TFX_task-RestingState_eeg.set\n"
     ]
    },
    {
     "name": "stderr",
     "output_type": "stream",
     "text": [
      "/home/dung/eeg-ssl/notebooks/../libs/ssl_dataloader.py:48: RuntimeWarning: The data contains 'boundary' events, indicating data discontinuities. Be cautious of filtering and epoching around these events.\n",
      "  raw = mne.io.read_raw_eeglab(f, preload=preload)\n",
      "/home/dung/eeg-ssl/notebooks/../libs/ssl_dataloader.py:48: RuntimeWarning: The data contains 'boundary' events, indicating data discontinuities. Be cautious of filtering and epoching around these events.\n",
      "  raw = mne.io.read_raw_eeglab(f, preload=preload)\n",
      "/home/dung/eeg-ssl/notebooks/../libs/ssl_dataloader.py:48: RuntimeWarning: The data contains 'boundary' events, indicating data discontinuities. Be cautious of filtering and epoching around these events.\n",
      "  raw = mne.io.read_raw_eeglab(f, preload=preload)\n",
      "/home/dung/eeg-ssl/notebooks/../libs/ssl_dataloader.py:48: RuntimeWarning: The data contains 'boundary' events, indicating data discontinuities. Be cautious of filtering and epoching around these events.\n",
      "  raw = mne.io.read_raw_eeglab(f, preload=preload)\n",
      "/home/dung/eeg-ssl/notebooks/../libs/ssl_dataloader.py:48: RuntimeWarning: The data contains 'boundary' events, indicating data discontinuities. Be cautious of filtering and epoching around these events.\n",
      "  raw = mne.io.read_raw_eeglab(f, preload=preload)\n",
      "/home/dung/eeg-ssl/notebooks/../libs/ssl_dataloader.py:48: RuntimeWarning: The data contains 'boundary' events, indicating data discontinuities. Be cautious of filtering and epoching around these events.\n",
      "  raw = mne.io.read_raw_eeglab(f, preload=preload)\n",
      "/home/dung/eeg-ssl/notebooks/../libs/ssl_dataloader.py:48: RuntimeWarning: The data contains 'boundary' events, indicating data discontinuities. Be cautious of filtering and epoching around these events.\n",
      "  raw = mne.io.read_raw_eeglab(f, preload=preload)\n",
      "/home/dung/eeg-ssl/notebooks/../libs/ssl_dataloader.py:48: RuntimeWarning: The data contains 'boundary' events, indicating data discontinuities. Be cautious of filtering and epoching around these events.\n",
      "  raw = mne.io.read_raw_eeglab(f, preload=preload)\n",
      "/home/dung/eeg-ssl/notebooks/../libs/ssl_dataloader.py:48: RuntimeWarning: The data contains 'boundary' events, indicating data discontinuities. Be cautious of filtering and epoching around these events.\n",
      "  raw = mne.io.read_raw_eeglab(f, preload=preload)\n"
     ]
    },
    {
     "name": "stdout",
     "output_type": "stream",
     "text": [
      "Reading /mnt/nemar/openneuro/ds005510/sub-NDARKK597VDH/eeg/sub-NDARKK597VDH_task-RestingState_eeg.set\n",
      "Reading /mnt/nemar/openneuro/ds005510/sub-NDARTA344CCA/eeg/sub-NDARTA344CCA_task-RestingState_eeg.set\n",
      "Reading /mnt/nemar/openneuro/ds005510/sub-NDARRY126FA5/eeg/sub-NDARRY126FA5_task-RestingState_eeg.set\n"
     ]
    },
    {
     "name": "stderr",
     "output_type": "stream",
     "text": [
      "/home/dung/eeg-ssl/notebooks/../libs/ssl_dataloader.py:48: RuntimeWarning: The data contains 'boundary' events, indicating data discontinuities. Be cautious of filtering and epoching around these events.\n",
      "  raw = mne.io.read_raw_eeglab(f, preload=preload)\n"
     ]
    },
    {
     "name": "stdout",
     "output_type": "stream",
     "text": [
      "Reading /mnt/nemar/openneuro/ds005510/sub-NDARYN474PEK/eeg/sub-NDARYN474PEK_task-RestingState_eeg.set\n",
      "Reading /mnt/nemar/openneuro/ds005510/sub-NDARLB581AXF/eeg/sub-NDARLB581AXF_task-RestingState_eeg.set\n",
      "Reading /mnt/nemar/openneuro/ds005510/sub-NDARMA598JTX/eeg/sub-NDARMA598JTX_task-RestingState_eeg.set\n"
     ]
    },
    {
     "name": "stderr",
     "output_type": "stream",
     "text": [
      "/home/dung/eeg-ssl/notebooks/../libs/ssl_dataloader.py:48: RuntimeWarning: The data contains 'boundary' events, indicating data discontinuities. Be cautious of filtering and epoching around these events.\n",
      "  raw = mne.io.read_raw_eeglab(f, preload=preload)\n"
     ]
    },
    {
     "name": "stdout",
     "output_type": "stream",
     "text": [
      "Reading /mnt/nemar/openneuro/ds005510/sub-NDARWD911WBU/eeg/sub-NDARWD911WBU_task-RestingState_eeg.set\n",
      "Reading /mnt/nemar/openneuro/ds005510/sub-NDARYJ301DYN/eeg/sub-NDARYJ301DYN_task-RestingState_eeg.set\n",
      "Reading /mnt/nemar/openneuro/ds005510/sub-NDARJA830BYV/eeg/sub-NDARJA830BYV_task-RestingState_eeg.set\n"
     ]
    },
    {
     "name": "stderr",
     "output_type": "stream",
     "text": [
      "/home/dung/eeg-ssl/notebooks/../libs/ssl_dataloader.py:48: RuntimeWarning: The data contains 'boundary' events, indicating data discontinuities. Be cautious of filtering and epoching around these events.\n",
      "  raw = mne.io.read_raw_eeglab(f, preload=preload)\n"
     ]
    },
    {
     "name": "stdout",
     "output_type": "stream",
     "text": [
      "Reading /mnt/nemar/openneuro/ds005510/sub-NDARVN270UU2/eeg/sub-NDARVN270UU2_task-RestingState_eeg.set\n"
     ]
    },
    {
     "name": "stderr",
     "output_type": "stream",
     "text": [
      "/home/dung/eeg-ssl/notebooks/../libs/ssl_dataloader.py:48: RuntimeWarning: The data contains 'boundary' events, indicating data discontinuities. Be cautious of filtering and epoching around these events.\n",
      "  raw = mne.io.read_raw_eeglab(f, preload=preload)\n"
     ]
    },
    {
     "name": "stdout",
     "output_type": "stream",
     "text": [
      "Reading /mnt/nemar/openneuro/ds005510/sub-NDARAY283AU1/eeg/sub-NDARAY283AU1_task-RestingState_eeg.set\n",
      "Reading /mnt/nemar/openneuro/ds005510/sub-NDARKM250ET5/eeg/sub-NDARKM250ET5_task-RestingState_eeg.set\n",
      "Reading /mnt/nemar/openneuro/ds005510/sub-NDARLY947EXR/eeg/sub-NDARLY947EXR_task-RestingState_eeg.set\n",
      "Reading /mnt/nemar/openneuro/ds005510/sub-NDAREW661NZJ/eeg/sub-NDAREW661NZJ_task-RestingState_eeg.set\n"
     ]
    },
    {
     "name": "stderr",
     "output_type": "stream",
     "text": [
      "/home/dung/eeg-ssl/notebooks/../libs/ssl_dataloader.py:48: RuntimeWarning: The data contains 'boundary' events, indicating data discontinuities. Be cautious of filtering and epoching around these events.\n",
      "  raw = mne.io.read_raw_eeglab(f, preload=preload)\n",
      "/home/dung/eeg-ssl/notebooks/../libs/ssl_dataloader.py:48: RuntimeWarning: The data contains 'boundary' events, indicating data discontinuities. Be cautious of filtering and epoching around these events.\n",
      "  raw = mne.io.read_raw_eeglab(f, preload=preload)\n",
      "/home/dung/eeg-ssl/notebooks/../libs/ssl_dataloader.py:48: RuntimeWarning: The data contains 'boundary' events, indicating data discontinuities. Be cautious of filtering and epoching around these events.\n",
      "  raw = mne.io.read_raw_eeglab(f, preload=preload)\n",
      "/home/dung/eeg-ssl/notebooks/../libs/ssl_dataloader.py:48: RuntimeWarning: The data contains 'boundary' events, indicating data discontinuities. Be cautious of filtering and epoching around these events.\n",
      "  raw = mne.io.read_raw_eeglab(f, preload=preload)\n",
      "/home/dung/eeg-ssl/notebooks/../libs/ssl_dataloader.py:48: RuntimeWarning: The data contains 'boundary' events, indicating data discontinuities. Be cautious of filtering and epoching around these events.\n",
      "  raw = mne.io.read_raw_eeglab(f, preload=preload)\n"
     ]
    },
    {
     "name": "stdout",
     "output_type": "stream",
     "text": [
      "Reading /mnt/nemar/openneuro/ds005510/sub-NDARFL793LDE/eeg/sub-NDARFL793LDE_task-RestingState_eeg.set\n",
      "Reading /mnt/nemar/openneuro/ds005510/sub-NDARVP109DF0/eeg/sub-NDARVP109DF0_task-RestingState_eeg.set\n",
      "Reading /mnt/nemar/openneuro/ds005510/sub-NDARTV776ZJ8/eeg/sub-NDARTV776ZJ8_task-RestingState_eeg.set\n",
      "Reading /mnt/nemar/openneuro/ds005510/sub-NDARYN152YMW/eeg/sub-NDARYN152YMW_task-RestingState_eeg.set\n"
     ]
    },
    {
     "name": "stderr",
     "output_type": "stream",
     "text": [
      "/home/dung/eeg-ssl/notebooks/../libs/ssl_dataloader.py:48: RuntimeWarning: The data contains 'boundary' events, indicating data discontinuities. Be cautious of filtering and epoching around these events.\n",
      "  raw = mne.io.read_raw_eeglab(f, preload=preload)\n",
      "/home/dung/eeg-ssl/notebooks/../libs/ssl_dataloader.py:48: RuntimeWarning: The data contains 'boundary' events, indicating data discontinuities. Be cautious of filtering and epoching around these events.\n",
      "  raw = mne.io.read_raw_eeglab(f, preload=preload)\n",
      "/home/dung/eeg-ssl/notebooks/../libs/ssl_dataloader.py:48: RuntimeWarning: The data contains 'boundary' events, indicating data discontinuities. Be cautious of filtering and epoching around these events.\n",
      "  raw = mne.io.read_raw_eeglab(f, preload=preload)\n"
     ]
    },
    {
     "name": "stdout",
     "output_type": "stream",
     "text": [
      "Reading /mnt/nemar/openneuro/ds005510/sub-NDARCL008HLA/eeg/sub-NDARCL008HLA_task-RestingState_eeg.set\n"
     ]
    },
    {
     "name": "stderr",
     "output_type": "stream",
     "text": [
      "/home/dung/eeg-ssl/notebooks/../libs/ssl_dataloader.py:48: RuntimeWarning: The data contains 'boundary' events, indicating data discontinuities. Be cautious of filtering and epoching around these events.\n",
      "  raw = mne.io.read_raw_eeglab(f, preload=preload)\n"
     ]
    },
    {
     "name": "stdout",
     "output_type": "stream",
     "text": [
      "Reading /mnt/nemar/openneuro/ds005510/sub-NDARMH364EMW/eeg/sub-NDARMH364EMW_task-RestingState_eeg.set\n"
     ]
    },
    {
     "name": "stderr",
     "output_type": "stream",
     "text": [
      "/home/dung/eeg-ssl/notebooks/../libs/ssl_dataloader.py:48: RuntimeWarning: The data contains 'boundary' events, indicating data discontinuities. Be cautious of filtering and epoching around these events.\n",
      "  raw = mne.io.read_raw_eeglab(f, preload=preload)\n"
     ]
    },
    {
     "name": "stdout",
     "output_type": "stream",
     "text": [
      "Reading /mnt/nemar/openneuro/ds005510/sub-NDARDZ147ETZ/eeg/sub-NDARDZ147ETZ_task-RestingState_eeg.set\n",
      "Reading /mnt/nemar/openneuro/ds005510/sub-NDARWX173EFW/eeg/sub-NDARWX173EFW_task-RestingState_eeg.set\n",
      "Reading /mnt/nemar/openneuro/ds005510/sub-NDARUT651WFC/eeg/sub-NDARUT651WFC_task-RestingState_eeg.set\n",
      "Reading /mnt/nemar/openneuro/ds005510/sub-NDARFU786BN4/eeg/sub-NDARFU786BN4_task-RestingState_eeg.set\n"
     ]
    },
    {
     "name": "stderr",
     "output_type": "stream",
     "text": [
      "/home/dung/eeg-ssl/notebooks/../libs/ssl_dataloader.py:48: RuntimeWarning: The data contains 'boundary' events, indicating data discontinuities. Be cautious of filtering and epoching around these events.\n",
      "  raw = mne.io.read_raw_eeglab(f, preload=preload)\n"
     ]
    },
    {
     "name": "stdout",
     "output_type": "stream",
     "text": [
      "Reading /mnt/nemar/openneuro/ds005510/sub-NDARKB614KGY/eeg/sub-NDARKB614KGY_task-RestingState_eeg.set\n"
     ]
    },
    {
     "name": "stderr",
     "output_type": "stream",
     "text": [
      "/home/dung/eeg-ssl/notebooks/../libs/ssl_dataloader.py:48: RuntimeWarning: The data contains 'boundary' events, indicating data discontinuities. Be cautious of filtering and epoching around these events.\n",
      "  raw = mne.io.read_raw_eeglab(f, preload=preload)\n"
     ]
    },
    {
     "name": "stdout",
     "output_type": "stream",
     "text": [
      "Reading /mnt/nemar/openneuro/ds005510/sub-NDARWV938NKD/eeg/sub-NDARWV938NKD_task-RestingState_eeg.set\n",
      "Reading /mnt/nemar/openneuro/ds005510/sub-NDARHF545HFW/eeg/sub-NDARHF545HFW_task-RestingState_eeg.set\n"
     ]
    },
    {
     "name": "stderr",
     "output_type": "stream",
     "text": [
      "/home/dung/eeg-ssl/notebooks/../libs/ssl_dataloader.py:48: RuntimeWarning: The data contains 'boundary' events, indicating data discontinuities. Be cautious of filtering and epoching around these events.\n",
      "  raw = mne.io.read_raw_eeglab(f, preload=preload)\n",
      "/home/dung/eeg-ssl/notebooks/../libs/ssl_dataloader.py:48: RuntimeWarning: The data contains 'boundary' events, indicating data discontinuities. Be cautious of filtering and epoching around these events.\n",
      "  raw = mne.io.read_raw_eeglab(f, preload=preload)\n"
     ]
    },
    {
     "name": "stdout",
     "output_type": "stream",
     "text": [
      "Reading /mnt/nemar/openneuro/ds005510/sub-NDARGV436PFT/eeg/sub-NDARGV436PFT_task-RestingState_eeg.set\n"
     ]
    },
    {
     "name": "stderr",
     "output_type": "stream",
     "text": [
      "/home/dung/eeg-ssl/notebooks/../libs/ssl_dataloader.py:48: RuntimeWarning: The data contains 'boundary' events, indicating data discontinuities. Be cautious of filtering and epoching around these events.\n",
      "  raw = mne.io.read_raw_eeglab(f, preload=preload)\n"
     ]
    },
    {
     "name": "stdout",
     "output_type": "stream",
     "text": [
      "Reading /mnt/nemar/openneuro/ds005510/sub-NDARUC022JWT/eeg/sub-NDARUC022JWT_task-RestingState_eeg.set\n",
      "Reading /mnt/nemar/openneuro/ds005510/sub-NDARPH474YF3/eeg/sub-NDARPH474YF3_task-RestingState_eeg.set\n"
     ]
    },
    {
     "name": "stderr",
     "output_type": "stream",
     "text": [
      "/home/dung/eeg-ssl/notebooks/../libs/ssl_dataloader.py:48: RuntimeWarning: The data contains 'boundary' events, indicating data discontinuities. Be cautious of filtering and epoching around these events.\n",
      "  raw = mne.io.read_raw_eeglab(f, preload=preload)\n"
     ]
    },
    {
     "name": "stdout",
     "output_type": "stream",
     "text": [
      "Reading /mnt/nemar/openneuro/ds005510/sub-NDARJJ817UP1/eeg/sub-NDARJJ817UP1_task-RestingState_eeg.set\n"
     ]
    },
    {
     "name": "stderr",
     "output_type": "stream",
     "text": [
      "/home/dung/eeg-ssl/notebooks/../libs/ssl_dataloader.py:48: RuntimeWarning: The data contains 'boundary' events, indicating data discontinuities. Be cautious of filtering and epoching around these events.\n",
      "  raw = mne.io.read_raw_eeglab(f, preload=preload)\n",
      "/home/dung/eeg-ssl/notebooks/../libs/ssl_dataloader.py:48: RuntimeWarning: The data contains 'boundary' events, indicating data discontinuities. Be cautious of filtering and epoching around these events.\n",
      "  raw = mne.io.read_raw_eeglab(f, preload=preload)\n",
      "/home/dung/eeg-ssl/notebooks/../libs/ssl_dataloader.py:48: RuntimeWarning: The data contains 'boundary' events, indicating data discontinuities. Be cautious of filtering and epoching around these events.\n",
      "  raw = mne.io.read_raw_eeglab(f, preload=preload)\n",
      "/home/dung/eeg-ssl/notebooks/../libs/ssl_dataloader.py:48: RuntimeWarning: The data contains 'boundary' events, indicating data discontinuities. Be cautious of filtering and epoching around these events.\n",
      "  raw = mne.io.read_raw_eeglab(f, preload=preload)\n",
      "/home/dung/eeg-ssl/notebooks/../libs/ssl_dataloader.py:48: RuntimeWarning: The data contains 'boundary' events, indicating data discontinuities. Be cautious of filtering and epoching around these events.\n",
      "  raw = mne.io.read_raw_eeglab(f, preload=preload)\n",
      "/home/dung/eeg-ssl/notebooks/../libs/ssl_dataloader.py:48: RuntimeWarning: The data contains 'boundary' events, indicating data discontinuities. Be cautious of filtering and epoching around these events.\n",
      "  raw = mne.io.read_raw_eeglab(f, preload=preload)\n",
      "/home/dung/eeg-ssl/notebooks/../libs/ssl_dataloader.py:48: RuntimeWarning: The data contains 'boundary' events, indicating data discontinuities. Be cautious of filtering and epoching around these events.\n",
      "  raw = mne.io.read_raw_eeglab(f, preload=preload)\n",
      "/home/dung/eeg-ssl/notebooks/../libs/ssl_dataloader.py:48: RuntimeWarning: The data contains 'boundary' events, indicating data discontinuities. Be cautious of filtering and epoching around these events.\n",
      "  raw = mne.io.read_raw_eeglab(f, preload=preload)\n"
     ]
    },
    {
     "name": "stdout",
     "output_type": "stream",
     "text": [
      "Reading /mnt/nemar/openneuro/ds005510/sub-NDARFD453NPR/eeg/sub-NDARFD453NPR_task-RestingState_eeg.set\n",
      "Reading /mnt/nemar/openneuro/ds005510/sub-NDARNB674VMY/eeg/sub-NDARNB674VMY_task-RestingState_eeg.set\n",
      "Reading /mnt/nemar/openneuro/ds005510/sub-NDARJA737FAJ/eeg/sub-NDARJA737FAJ_task-RestingState_eeg.set\n",
      "Reading /mnt/nemar/openneuro/ds005510/sub-NDARFR301KKP/eeg/sub-NDARFR301KKP_task-RestingState_eeg.set\n",
      "Reading /mnt/nemar/openneuro/ds005510/sub-NDARVD194JX2/eeg/sub-NDARVD194JX2_task-RestingState_eeg.set\n",
      "Reading /mnt/nemar/openneuro/ds005510/sub-NDARHW575ZJ5/eeg/sub-NDARHW575ZJ5_task-RestingState_eeg.set\n",
      "Reading /mnt/nemar/openneuro/ds005510/sub-NDARKC978MR4/eeg/sub-NDARKC978MR4_task-RestingState_eeg.set\n",
      "Reading /mnt/nemar/openneuro/ds005510/sub-NDARTH433TE0/eeg/sub-NDARTH433TE0_task-RestingState_eeg.set\n"
     ]
    },
    {
     "name": "stderr",
     "output_type": "stream",
     "text": [
      "/home/dung/eeg-ssl/notebooks/../libs/ssl_dataloader.py:48: RuntimeWarning: The data contains 'boundary' events, indicating data discontinuities. Be cautious of filtering and epoching around these events.\n",
      "  raw = mne.io.read_raw_eeglab(f, preload=preload)\n",
      "/home/dung/eeg-ssl/notebooks/../libs/ssl_dataloader.py:48: RuntimeWarning: The data contains 'boundary' events, indicating data discontinuities. Be cautious of filtering and epoching around these events.\n",
      "  raw = mne.io.read_raw_eeglab(f, preload=preload)\n"
     ]
    },
    {
     "name": "stdout",
     "output_type": "stream",
     "text": [
      "Reading /mnt/nemar/openneuro/ds005510/sub-NDARNL587LVL/eeg/sub-NDARNL587LVL_task-RestingState_eeg.set\n"
     ]
    },
    {
     "name": "stderr",
     "output_type": "stream",
     "text": [
      "/home/dung/eeg-ssl/notebooks/../libs/ssl_dataloader.py:48: RuntimeWarning: The data contains 'boundary' events, indicating data discontinuities. Be cautious of filtering and epoching around these events.\n",
      "  raw = mne.io.read_raw_eeglab(f, preload=preload)\n",
      "/home/dung/eeg-ssl/notebooks/../libs/ssl_dataloader.py:48: RuntimeWarning: The data contains 'boundary' events, indicating data discontinuities. Be cautious of filtering and epoching around these events.\n",
      "  raw = mne.io.read_raw_eeglab(f, preload=preload)\n",
      "/home/dung/eeg-ssl/notebooks/../libs/ssl_dataloader.py:48: RuntimeWarning: The data contains 'boundary' events, indicating data discontinuities. Be cautious of filtering and epoching around these events.\n",
      "  raw = mne.io.read_raw_eeglab(f, preload=preload)\n",
      "/home/dung/eeg-ssl/notebooks/../libs/ssl_dataloader.py:48: RuntimeWarning: The data contains 'boundary' events, indicating data discontinuities. Be cautious of filtering and epoching around these events.\n",
      "  raw = mne.io.read_raw_eeglab(f, preload=preload)\n",
      "/home/dung/eeg-ssl/notebooks/../libs/ssl_dataloader.py:48: RuntimeWarning: The data contains 'boundary' events, indicating data discontinuities. Be cautious of filtering and epoching around these events.\n",
      "  raw = mne.io.read_raw_eeglab(f, preload=preload)\n",
      "/home/dung/eeg-ssl/notebooks/../libs/ssl_dataloader.py:48: RuntimeWarning: The data contains 'boundary' events, indicating data discontinuities. Be cautious of filtering and epoching around these events.\n",
      "  raw = mne.io.read_raw_eeglab(f, preload=preload)\n",
      "/home/dung/eeg-ssl/notebooks/../libs/ssl_dataloader.py:48: RuntimeWarning: The data contains 'boundary' events, indicating data discontinuities. Be cautious of filtering and epoching around these events.\n",
      "  raw = mne.io.read_raw_eeglab(f, preload=preload)\n",
      "/home/dung/eeg-ssl/notebooks/../libs/ssl_dataloader.py:48: RuntimeWarning: The data contains 'boundary' events, indicating data discontinuities. Be cautious of filtering and epoching around these events.\n",
      "  raw = mne.io.read_raw_eeglab(f, preload=preload)\n",
      "/home/dung/eeg-ssl/notebooks/../libs/ssl_dataloader.py:48: RuntimeWarning: The data contains 'boundary' events, indicating data discontinuities. Be cautious of filtering and epoching around these events.\n",
      "  raw = mne.io.read_raw_eeglab(f, preload=preload)\n",
      "/home/dung/eeg-ssl/notebooks/../libs/ssl_dataloader.py:48: RuntimeWarning: The data contains 'boundary' events, indicating data discontinuities. Be cautious of filtering and epoching around these events.\n",
      "  raw = mne.io.read_raw_eeglab(f, preload=preload)\n",
      "/home/dung/eeg-ssl/notebooks/../libs/ssl_dataloader.py:48: RuntimeWarning: The data contains 'boundary' events, indicating data discontinuities. Be cautious of filtering and epoching around these events.\n",
      "  raw = mne.io.read_raw_eeglab(f, preload=preload)\n",
      "/home/dung/eeg-ssl/notebooks/../libs/ssl_dataloader.py:48: RuntimeWarning: The data contains 'boundary' events, indicating data discontinuities. Be cautious of filtering and epoching around these events.\n",
      "  raw = mne.io.read_raw_eeglab(f, preload=preload)\n",
      "/home/dung/eeg-ssl/notebooks/../libs/ssl_dataloader.py:48: RuntimeWarning: The data contains 'boundary' events, indicating data discontinuities. Be cautious of filtering and epoching around these events.\n",
      "  raw = mne.io.read_raw_eeglab(f, preload=preload)\n",
      "/home/dung/eeg-ssl/notebooks/../libs/ssl_dataloader.py:48: RuntimeWarning: The data contains 'boundary' events, indicating data discontinuities. Be cautious of filtering and epoching around these events.\n",
      "  raw = mne.io.read_raw_eeglab(f, preload=preload)\n",
      "/home/dung/eeg-ssl/notebooks/../libs/ssl_dataloader.py:48: RuntimeWarning: The data contains 'boundary' events, indicating data discontinuities. Be cautious of filtering and epoching around these events.\n",
      "  raw = mne.io.read_raw_eeglab(f, preload=preload)\n",
      "/home/dung/eeg-ssl/notebooks/../libs/ssl_dataloader.py:48: RuntimeWarning: The data contains 'boundary' events, indicating data discontinuities. Be cautious of filtering and epoching around these events.\n",
      "  raw = mne.io.read_raw_eeglab(f, preload=preload)\n",
      "/home/dung/eeg-ssl/notebooks/../libs/ssl_dataloader.py:48: RuntimeWarning: The data contains 'boundary' events, indicating data discontinuities. Be cautious of filtering and epoching around these events.\n",
      "  raw = mne.io.read_raw_eeglab(f, preload=preload)\n",
      "/home/dung/eeg-ssl/notebooks/../libs/ssl_dataloader.py:48: RuntimeWarning: The data contains 'boundary' events, indicating data discontinuities. Be cautious of filtering and epoching around these events.\n",
      "  raw = mne.io.read_raw_eeglab(f, preload=preload)\n",
      "/home/dung/eeg-ssl/notebooks/../libs/ssl_dataloader.py:48: RuntimeWarning: The data contains 'boundary' events, indicating data discontinuities. Be cautious of filtering and epoching around these events.\n",
      "  raw = mne.io.read_raw_eeglab(f, preload=preload)\n",
      "/home/dung/eeg-ssl/notebooks/../libs/ssl_dataloader.py:48: RuntimeWarning: The data contains 'boundary' events, indicating data discontinuities. Be cautious of filtering and epoching around these events.\n",
      "  raw = mne.io.read_raw_eeglab(f, preload=preload)\n",
      "/home/dung/eeg-ssl/notebooks/../libs/ssl_dataloader.py:48: RuntimeWarning: The data contains 'boundary' events, indicating data discontinuities. Be cautious of filtering and epoching around these events.\n",
      "  raw = mne.io.read_raw_eeglab(f, preload=preload)\n",
      "/home/dung/eeg-ssl/notebooks/../libs/ssl_dataloader.py:48: RuntimeWarning: The data contains 'boundary' events, indicating data discontinuities. Be cautious of filtering and epoching around these events.\n",
      "  raw = mne.io.read_raw_eeglab(f, preload=preload)\n",
      "/home/dung/eeg-ssl/notebooks/../libs/ssl_dataloader.py:48: RuntimeWarning: The data contains 'boundary' events, indicating data discontinuities. Be cautious of filtering and epoching around these events.\n",
      "  raw = mne.io.read_raw_eeglab(f, preload=preload)\n",
      "/home/dung/eeg-ssl/notebooks/../libs/ssl_dataloader.py:48: RuntimeWarning: The data contains 'boundary' events, indicating data discontinuities. Be cautious of filtering and epoching around these events.\n",
      "  raw = mne.io.read_raw_eeglab(f, preload=preload)\n",
      "/home/dung/eeg-ssl/notebooks/../libs/ssl_dataloader.py:48: RuntimeWarning: The data contains 'boundary' events, indicating data discontinuities. Be cautious of filtering and epoching around these events.\n",
      "  raw = mne.io.read_raw_eeglab(f, preload=preload)\n",
      "/home/dung/eeg-ssl/notebooks/../libs/ssl_dataloader.py:48: RuntimeWarning: The data contains 'boundary' events, indicating data discontinuities. Be cautious of filtering and epoching around these events.\n",
      "  raw = mne.io.read_raw_eeglab(f, preload=preload)\n",
      "/home/dung/eeg-ssl/notebooks/../libs/ssl_dataloader.py:48: RuntimeWarning: The data contains 'boundary' events, indicating data discontinuities. Be cautious of filtering and epoching around these events.\n",
      "  raw = mne.io.read_raw_eeglab(f, preload=preload)\n",
      "/home/dung/eeg-ssl/notebooks/../libs/ssl_dataloader.py:48: RuntimeWarning: The data contains 'boundary' events, indicating data discontinuities. Be cautious of filtering and epoching around these events.\n",
      "  raw = mne.io.read_raw_eeglab(f, preload=preload)\n",
      "/home/dung/eeg-ssl/notebooks/../libs/ssl_dataloader.py:48: RuntimeWarning: The data contains 'boundary' events, indicating data discontinuities. Be cautious of filtering and epoching around these events.\n",
      "  raw = mne.io.read_raw_eeglab(f, preload=preload)\n",
      "/home/dung/eeg-ssl/notebooks/../libs/ssl_dataloader.py:48: RuntimeWarning: The data contains 'boundary' events, indicating data discontinuities. Be cautious of filtering and epoching around these events.\n",
      "  raw = mne.io.read_raw_eeglab(f, preload=preload)\n",
      "/home/dung/eeg-ssl/notebooks/../libs/ssl_dataloader.py:48: RuntimeWarning: The data contains 'boundary' events, indicating data discontinuities. Be cautious of filtering and epoching around these events.\n",
      "  raw = mne.io.read_raw_eeglab(f, preload=preload)\n"
     ]
    }
   ],
   "source": [
    "ds1 = HBNDataset(hbn_release_ds[1], tasks=['RestingState'], num_workers=n_jobs)\n",
    "ds2 = HBNDataset(hbn_release_ds[6], tasks=['RestingState'], num_workers=n_jobs)"
   ]
  },
  {
   "cell_type": "code",
   "execution_count": 35,
   "metadata": {},
   "outputs": [
    {
     "data": {
      "text/plain": [
       "task             RestingState\n",
       "session                      \n",
       "run                          \n",
       "subject          NDARZD415ZZ1\n",
       "sfreq                     500\n",
       "age                    7.6979\n",
       "sex                         M\n",
       "ehq_total               93.38\n",
       "p_factor                -0.66\n",
       "attention               0.786\n",
       "internalizing           0.657\n",
       "externalizing          -0.398\n",
       "dtype: object"
      ]
     },
     "execution_count": 35,
     "metadata": {},
     "output_type": "execute_result"
    }
   ],
   "source": [
    "ds1.datasets[1].description"
   ]
  },
  {
   "cell_type": "code",
   "execution_count": 36,
   "metadata": {},
   "outputs": [],
   "source": [
    "all_ds = BaseConcatDataset([ds1, ds2])"
   ]
  },
  {
   "cell_type": "code",
   "execution_count": 37,
   "metadata": {},
   "outputs": [
    {
     "name": "stdout",
     "output_type": "stream",
     "text": [
      "Writing /home/dung/eeg-ssl/notebooks/data/hbn/0/0-raw.fif\n"
     ]
    },
    {
     "name": "stdout",
     "output_type": "stream",
     "text": [
      "Closing /home/dung/eeg-ssl/notebooks/data/hbn/0/0-raw.fif\n",
      "[done]\n",
      "Writing /home/dung/eeg-ssl/notebooks/data/hbn/1/1-raw.fif\n",
      "Closing /home/dung/eeg-ssl/notebooks/data/hbn/1/1-raw.fif\n",
      "[done]\n",
      "Writing /home/dung/eeg-ssl/notebooks/data/hbn/2/2-raw.fif\n",
      "Closing /home/dung/eeg-ssl/notebooks/data/hbn/2/2-raw.fif\n",
      "[done]\n",
      "Writing /home/dung/eeg-ssl/notebooks/data/hbn/3/3-raw.fif\n",
      "Closing /home/dung/eeg-ssl/notebooks/data/hbn/3/3-raw.fif\n",
      "[done]\n",
      "Writing /home/dung/eeg-ssl/notebooks/data/hbn/4/4-raw.fif\n",
      "Closing /home/dung/eeg-ssl/notebooks/data/hbn/4/4-raw.fif\n",
      "[done]\n",
      "Writing /home/dung/eeg-ssl/notebooks/data/hbn/5/5-raw.fif\n",
      "Closing /home/dung/eeg-ssl/notebooks/data/hbn/5/5-raw.fif\n",
      "[done]\n",
      "Writing /home/dung/eeg-ssl/notebooks/data/hbn/6/6-raw.fif\n",
      "Closing /home/dung/eeg-ssl/notebooks/data/hbn/6/6-raw.fif\n",
      "[done]\n",
      "Writing /home/dung/eeg-ssl/notebooks/data/hbn/7/7-raw.fif\n",
      "Closing /home/dung/eeg-ssl/notebooks/data/hbn/7/7-raw.fif\n",
      "[done]\n",
      "Writing /home/dung/eeg-ssl/notebooks/data/hbn/8/8-raw.fif\n",
      "Closing /home/dung/eeg-ssl/notebooks/data/hbn/8/8-raw.fif\n",
      "[done]\n",
      "Writing /home/dung/eeg-ssl/notebooks/data/hbn/9/9-raw.fif\n",
      "Closing /home/dung/eeg-ssl/notebooks/data/hbn/9/9-raw.fif\n",
      "[done]\n",
      "Writing /home/dung/eeg-ssl/notebooks/data/hbn/10/10-raw.fif\n",
      "Closing /home/dung/eeg-ssl/notebooks/data/hbn/10/10-raw.fif\n",
      "[done]\n",
      "Writing /home/dung/eeg-ssl/notebooks/data/hbn/11/11-raw.fif\n",
      "Closing /home/dung/eeg-ssl/notebooks/data/hbn/11/11-raw.fif\n",
      "[done]\n",
      "Writing /home/dung/eeg-ssl/notebooks/data/hbn/12/12-raw.fif\n",
      "Closing /home/dung/eeg-ssl/notebooks/data/hbn/12/12-raw.fif\n",
      "[done]\n",
      "Writing /home/dung/eeg-ssl/notebooks/data/hbn/13/13-raw.fif\n",
      "Closing /home/dung/eeg-ssl/notebooks/data/hbn/13/13-raw.fif\n",
      "[done]\n",
      "Writing /home/dung/eeg-ssl/notebooks/data/hbn/14/14-raw.fif\n",
      "Closing /home/dung/eeg-ssl/notebooks/data/hbn/14/14-raw.fif\n",
      "[done]\n",
      "Writing /home/dung/eeg-ssl/notebooks/data/hbn/15/15-raw.fif\n",
      "Closing /home/dung/eeg-ssl/notebooks/data/hbn/15/15-raw.fif\n",
      "[done]\n",
      "Writing /home/dung/eeg-ssl/notebooks/data/hbn/16/16-raw.fif\n",
      "Closing /home/dung/eeg-ssl/notebooks/data/hbn/16/16-raw.fif\n",
      "[done]\n",
      "Writing /home/dung/eeg-ssl/notebooks/data/hbn/17/17-raw.fif\n",
      "Closing /home/dung/eeg-ssl/notebooks/data/hbn/17/17-raw.fif\n",
      "[done]\n",
      "Writing /home/dung/eeg-ssl/notebooks/data/hbn/18/18-raw.fif\n",
      "Closing /home/dung/eeg-ssl/notebooks/data/hbn/18/18-raw.fif\n",
      "[done]\n",
      "Writing /home/dung/eeg-ssl/notebooks/data/hbn/19/19-raw.fif\n",
      "Closing /home/dung/eeg-ssl/notebooks/data/hbn/19/19-raw.fif\n",
      "[done]\n",
      "Writing /home/dung/eeg-ssl/notebooks/data/hbn/20/20-raw.fif\n",
      "Closing /home/dung/eeg-ssl/notebooks/data/hbn/20/20-raw.fif\n",
      "[done]\n",
      "Writing /home/dung/eeg-ssl/notebooks/data/hbn/21/21-raw.fif\n",
      "Closing /home/dung/eeg-ssl/notebooks/data/hbn/21/21-raw.fif\n",
      "[done]\n",
      "Writing /home/dung/eeg-ssl/notebooks/data/hbn/22/22-raw.fif\n",
      "Closing /home/dung/eeg-ssl/notebooks/data/hbn/22/22-raw.fif\n",
      "[done]\n",
      "Writing /home/dung/eeg-ssl/notebooks/data/hbn/23/23-raw.fif\n",
      "Closing /home/dung/eeg-ssl/notebooks/data/hbn/23/23-raw.fif\n",
      "[done]\n",
      "Writing /home/dung/eeg-ssl/notebooks/data/hbn/24/24-raw.fif\n",
      "Closing /home/dung/eeg-ssl/notebooks/data/hbn/24/24-raw.fif\n",
      "[done]\n",
      "Writing /home/dung/eeg-ssl/notebooks/data/hbn/25/25-raw.fif\n",
      "Closing /home/dung/eeg-ssl/notebooks/data/hbn/25/25-raw.fif\n",
      "[done]\n",
      "Writing /home/dung/eeg-ssl/notebooks/data/hbn/26/26-raw.fif\n",
      "Closing /home/dung/eeg-ssl/notebooks/data/hbn/26/26-raw.fif\n",
      "[done]\n",
      "Writing /home/dung/eeg-ssl/notebooks/data/hbn/27/27-raw.fif\n",
      "Closing /home/dung/eeg-ssl/notebooks/data/hbn/27/27-raw.fif\n",
      "[done]\n",
      "Writing /home/dung/eeg-ssl/notebooks/data/hbn/28/28-raw.fif\n",
      "Closing /home/dung/eeg-ssl/notebooks/data/hbn/28/28-raw.fif\n",
      "[done]\n",
      "Writing /home/dung/eeg-ssl/notebooks/data/hbn/29/29-raw.fif\n",
      "Closing /home/dung/eeg-ssl/notebooks/data/hbn/29/29-raw.fif\n",
      "[done]\n",
      "Writing /home/dung/eeg-ssl/notebooks/data/hbn/30/30-raw.fif\n",
      "Closing /home/dung/eeg-ssl/notebooks/data/hbn/30/30-raw.fif\n",
      "[done]\n",
      "Writing /home/dung/eeg-ssl/notebooks/data/hbn/31/31-raw.fif\n",
      "Closing /home/dung/eeg-ssl/notebooks/data/hbn/31/31-raw.fif\n",
      "[done]\n",
      "Writing /home/dung/eeg-ssl/notebooks/data/hbn/32/32-raw.fif\n",
      "Closing /home/dung/eeg-ssl/notebooks/data/hbn/32/32-raw.fif\n",
      "[done]\n",
      "Writing /home/dung/eeg-ssl/notebooks/data/hbn/33/33-raw.fif\n",
      "Closing /home/dung/eeg-ssl/notebooks/data/hbn/33/33-raw.fif\n",
      "[done]\n",
      "Writing /home/dung/eeg-ssl/notebooks/data/hbn/34/34-raw.fif\n",
      "Closing /home/dung/eeg-ssl/notebooks/data/hbn/34/34-raw.fif\n",
      "[done]\n",
      "Writing /home/dung/eeg-ssl/notebooks/data/hbn/35/35-raw.fif\n",
      "Closing /home/dung/eeg-ssl/notebooks/data/hbn/35/35-raw.fif\n",
      "[done]\n",
      "Writing /home/dung/eeg-ssl/notebooks/data/hbn/36/36-raw.fif\n",
      "Closing /home/dung/eeg-ssl/notebooks/data/hbn/36/36-raw.fif\n",
      "[done]\n",
      "Writing /home/dung/eeg-ssl/notebooks/data/hbn/37/37-raw.fif\n",
      "Closing /home/dung/eeg-ssl/notebooks/data/hbn/37/37-raw.fif\n",
      "[done]\n",
      "Writing /home/dung/eeg-ssl/notebooks/data/hbn/38/38-raw.fif\n",
      "Closing /home/dung/eeg-ssl/notebooks/data/hbn/38/38-raw.fif\n",
      "[done]\n",
      "Writing /home/dung/eeg-ssl/notebooks/data/hbn/39/39-raw.fif\n",
      "Closing /home/dung/eeg-ssl/notebooks/data/hbn/39/39-raw.fif\n",
      "[done]\n",
      "Writing /home/dung/eeg-ssl/notebooks/data/hbn/40/40-raw.fif\n",
      "Closing /home/dung/eeg-ssl/notebooks/data/hbn/40/40-raw.fif\n",
      "[done]\n",
      "Writing /home/dung/eeg-ssl/notebooks/data/hbn/41/41-raw.fif\n",
      "Closing /home/dung/eeg-ssl/notebooks/data/hbn/41/41-raw.fif\n",
      "[done]\n",
      "Writing /home/dung/eeg-ssl/notebooks/data/hbn/42/42-raw.fif\n",
      "Closing /home/dung/eeg-ssl/notebooks/data/hbn/42/42-raw.fif\n",
      "[done]\n",
      "Writing /home/dung/eeg-ssl/notebooks/data/hbn/43/43-raw.fif\n",
      "Closing /home/dung/eeg-ssl/notebooks/data/hbn/43/43-raw.fif\n",
      "[done]\n",
      "Writing /home/dung/eeg-ssl/notebooks/data/hbn/44/44-raw.fif\n",
      "Closing /home/dung/eeg-ssl/notebooks/data/hbn/44/44-raw.fif\n",
      "[done]\n",
      "Writing /home/dung/eeg-ssl/notebooks/data/hbn/45/45-raw.fif\n",
      "Closing /home/dung/eeg-ssl/notebooks/data/hbn/45/45-raw.fif\n",
      "[done]\n",
      "Writing /home/dung/eeg-ssl/notebooks/data/hbn/46/46-raw.fif\n",
      "Closing /home/dung/eeg-ssl/notebooks/data/hbn/46/46-raw.fif\n",
      "[done]\n",
      "Writing /home/dung/eeg-ssl/notebooks/data/hbn/47/47-raw.fif\n",
      "Closing /home/dung/eeg-ssl/notebooks/data/hbn/47/47-raw.fif\n",
      "[done]\n",
      "Writing /home/dung/eeg-ssl/notebooks/data/hbn/48/48-raw.fif\n",
      "Closing /home/dung/eeg-ssl/notebooks/data/hbn/48/48-raw.fif\n",
      "[done]\n",
      "Writing /home/dung/eeg-ssl/notebooks/data/hbn/49/49-raw.fif\n",
      "Closing /home/dung/eeg-ssl/notebooks/data/hbn/49/49-raw.fif\n",
      "[done]\n",
      "Writing /home/dung/eeg-ssl/notebooks/data/hbn/50/50-raw.fif\n",
      "Closing /home/dung/eeg-ssl/notebooks/data/hbn/50/50-raw.fif\n",
      "[done]\n",
      "Writing /home/dung/eeg-ssl/notebooks/data/hbn/51/51-raw.fif\n",
      "Closing /home/dung/eeg-ssl/notebooks/data/hbn/51/51-raw.fif\n",
      "[done]\n",
      "Writing /home/dung/eeg-ssl/notebooks/data/hbn/52/52-raw.fif\n",
      "Closing /home/dung/eeg-ssl/notebooks/data/hbn/52/52-raw.fif\n",
      "[done]\n",
      "Writing /home/dung/eeg-ssl/notebooks/data/hbn/53/53-raw.fif\n",
      "Closing /home/dung/eeg-ssl/notebooks/data/hbn/53/53-raw.fif\n",
      "[done]\n",
      "Writing /home/dung/eeg-ssl/notebooks/data/hbn/54/54-raw.fif\n",
      "Closing /home/dung/eeg-ssl/notebooks/data/hbn/54/54-raw.fif\n",
      "[done]\n",
      "Writing /home/dung/eeg-ssl/notebooks/data/hbn/55/55-raw.fif\n",
      "Closing /home/dung/eeg-ssl/notebooks/data/hbn/55/55-raw.fif\n",
      "[done]\n",
      "Writing /home/dung/eeg-ssl/notebooks/data/hbn/56/56-raw.fif\n",
      "Closing /home/dung/eeg-ssl/notebooks/data/hbn/56/56-raw.fif\n",
      "[done]\n",
      "Writing /home/dung/eeg-ssl/notebooks/data/hbn/57/57-raw.fif\n",
      "Closing /home/dung/eeg-ssl/notebooks/data/hbn/57/57-raw.fif\n",
      "[done]\n",
      "Writing /home/dung/eeg-ssl/notebooks/data/hbn/58/58-raw.fif\n",
      "Closing /home/dung/eeg-ssl/notebooks/data/hbn/58/58-raw.fif\n",
      "[done]\n",
      "Writing /home/dung/eeg-ssl/notebooks/data/hbn/59/59-raw.fif\n",
      "Closing /home/dung/eeg-ssl/notebooks/data/hbn/59/59-raw.fif\n",
      "[done]\n",
      "Writing /home/dung/eeg-ssl/notebooks/data/hbn/60/60-raw.fif\n",
      "Closing /home/dung/eeg-ssl/notebooks/data/hbn/60/60-raw.fif\n",
      "[done]\n",
      "Writing /home/dung/eeg-ssl/notebooks/data/hbn/61/61-raw.fif\n",
      "Closing /home/dung/eeg-ssl/notebooks/data/hbn/61/61-raw.fif\n",
      "[done]\n",
      "Writing /home/dung/eeg-ssl/notebooks/data/hbn/62/62-raw.fif\n",
      "Closing /home/dung/eeg-ssl/notebooks/data/hbn/62/62-raw.fif\n",
      "[done]\n",
      "Writing /home/dung/eeg-ssl/notebooks/data/hbn/63/63-raw.fif\n",
      "Closing /home/dung/eeg-ssl/notebooks/data/hbn/63/63-raw.fif\n",
      "[done]\n",
      "Writing /home/dung/eeg-ssl/notebooks/data/hbn/64/64-raw.fif\n",
      "Closing /home/dung/eeg-ssl/notebooks/data/hbn/64/64-raw.fif\n",
      "[done]\n",
      "Writing /home/dung/eeg-ssl/notebooks/data/hbn/65/65-raw.fif\n",
      "Closing /home/dung/eeg-ssl/notebooks/data/hbn/65/65-raw.fif\n",
      "[done]\n",
      "Writing /home/dung/eeg-ssl/notebooks/data/hbn/66/66-raw.fif\n",
      "Closing /home/dung/eeg-ssl/notebooks/data/hbn/66/66-raw.fif\n",
      "[done]\n",
      "Writing /home/dung/eeg-ssl/notebooks/data/hbn/67/67-raw.fif\n",
      "Closing /home/dung/eeg-ssl/notebooks/data/hbn/67/67-raw.fif\n",
      "[done]\n",
      "Writing /home/dung/eeg-ssl/notebooks/data/hbn/68/68-raw.fif\n",
      "Closing /home/dung/eeg-ssl/notebooks/data/hbn/68/68-raw.fif\n",
      "[done]\n",
      "Writing /home/dung/eeg-ssl/notebooks/data/hbn/69/69-raw.fif\n",
      "Closing /home/dung/eeg-ssl/notebooks/data/hbn/69/69-raw.fif\n",
      "[done]\n",
      "Writing /home/dung/eeg-ssl/notebooks/data/hbn/70/70-raw.fif\n",
      "Closing /home/dung/eeg-ssl/notebooks/data/hbn/70/70-raw.fif\n",
      "[done]\n",
      "Writing /home/dung/eeg-ssl/notebooks/data/hbn/71/71-raw.fif\n",
      "Closing /home/dung/eeg-ssl/notebooks/data/hbn/71/71-raw.fif\n",
      "[done]\n",
      "Writing /home/dung/eeg-ssl/notebooks/data/hbn/72/72-raw.fif\n",
      "Closing /home/dung/eeg-ssl/notebooks/data/hbn/72/72-raw.fif\n",
      "[done]\n",
      "Writing /home/dung/eeg-ssl/notebooks/data/hbn/73/73-raw.fif\n",
      "Closing /home/dung/eeg-ssl/notebooks/data/hbn/73/73-raw.fif\n",
      "[done]\n",
      "Writing /home/dung/eeg-ssl/notebooks/data/hbn/74/74-raw.fif\n",
      "Closing /home/dung/eeg-ssl/notebooks/data/hbn/74/74-raw.fif\n",
      "[done]\n",
      "Writing /home/dung/eeg-ssl/notebooks/data/hbn/75/75-raw.fif\n",
      "Closing /home/dung/eeg-ssl/notebooks/data/hbn/75/75-raw.fif\n",
      "[done]\n",
      "Writing /home/dung/eeg-ssl/notebooks/data/hbn/76/76-raw.fif\n",
      "Closing /home/dung/eeg-ssl/notebooks/data/hbn/76/76-raw.fif\n",
      "[done]\n",
      "Writing /home/dung/eeg-ssl/notebooks/data/hbn/77/77-raw.fif\n",
      "Closing /home/dung/eeg-ssl/notebooks/data/hbn/77/77-raw.fif\n",
      "[done]\n",
      "Writing /home/dung/eeg-ssl/notebooks/data/hbn/78/78-raw.fif\n",
      "Closing /home/dung/eeg-ssl/notebooks/data/hbn/78/78-raw.fif\n",
      "[done]\n",
      "Writing /home/dung/eeg-ssl/notebooks/data/hbn/79/79-raw.fif\n",
      "Closing /home/dung/eeg-ssl/notebooks/data/hbn/79/79-raw.fif\n",
      "[done]\n",
      "Writing /home/dung/eeg-ssl/notebooks/data/hbn/80/80-raw.fif\n",
      "Closing /home/dung/eeg-ssl/notebooks/data/hbn/80/80-raw.fif\n",
      "[done]\n",
      "Writing /home/dung/eeg-ssl/notebooks/data/hbn/81/81-raw.fif\n",
      "Closing /home/dung/eeg-ssl/notebooks/data/hbn/81/81-raw.fif\n",
      "[done]\n",
      "Writing /home/dung/eeg-ssl/notebooks/data/hbn/82/82-raw.fif\n",
      "Closing /home/dung/eeg-ssl/notebooks/data/hbn/82/82-raw.fif\n",
      "[done]\n",
      "Writing /home/dung/eeg-ssl/notebooks/data/hbn/83/83-raw.fif\n",
      "Closing /home/dung/eeg-ssl/notebooks/data/hbn/83/83-raw.fif\n",
      "[done]\n",
      "Writing /home/dung/eeg-ssl/notebooks/data/hbn/84/84-raw.fif\n",
      "Closing /home/dung/eeg-ssl/notebooks/data/hbn/84/84-raw.fif\n",
      "[done]\n",
      "Writing /home/dung/eeg-ssl/notebooks/data/hbn/85/85-raw.fif\n",
      "Closing /home/dung/eeg-ssl/notebooks/data/hbn/85/85-raw.fif\n",
      "[done]\n",
      "Writing /home/dung/eeg-ssl/notebooks/data/hbn/86/86-raw.fif\n",
      "Closing /home/dung/eeg-ssl/notebooks/data/hbn/86/86-raw.fif\n",
      "[done]\n",
      "Writing /home/dung/eeg-ssl/notebooks/data/hbn/87/87-raw.fif\n",
      "Closing /home/dung/eeg-ssl/notebooks/data/hbn/87/87-raw.fif\n",
      "[done]\n",
      "Writing /home/dung/eeg-ssl/notebooks/data/hbn/88/88-raw.fif\n",
      "Closing /home/dung/eeg-ssl/notebooks/data/hbn/88/88-raw.fif\n",
      "[done]\n",
      "Writing /home/dung/eeg-ssl/notebooks/data/hbn/89/89-raw.fif\n",
      "Closing /home/dung/eeg-ssl/notebooks/data/hbn/89/89-raw.fif\n",
      "[done]\n",
      "Writing /home/dung/eeg-ssl/notebooks/data/hbn/90/90-raw.fif\n",
      "Closing /home/dung/eeg-ssl/notebooks/data/hbn/90/90-raw.fif\n",
      "[done]\n",
      "Writing /home/dung/eeg-ssl/notebooks/data/hbn/91/91-raw.fif\n",
      "Closing /home/dung/eeg-ssl/notebooks/data/hbn/91/91-raw.fif\n",
      "[done]\n",
      "Writing /home/dung/eeg-ssl/notebooks/data/hbn/92/92-raw.fif\n",
      "Closing /home/dung/eeg-ssl/notebooks/data/hbn/92/92-raw.fif\n",
      "[done]\n",
      "Writing /home/dung/eeg-ssl/notebooks/data/hbn/93/93-raw.fif\n",
      "Closing /home/dung/eeg-ssl/notebooks/data/hbn/93/93-raw.fif\n",
      "[done]\n",
      "Writing /home/dung/eeg-ssl/notebooks/data/hbn/94/94-raw.fif\n",
      "Closing /home/dung/eeg-ssl/notebooks/data/hbn/94/94-raw.fif\n",
      "[done]\n",
      "Writing /home/dung/eeg-ssl/notebooks/data/hbn/95/95-raw.fif\n",
      "Closing /home/dung/eeg-ssl/notebooks/data/hbn/95/95-raw.fif\n",
      "[done]\n",
      "Writing /home/dung/eeg-ssl/notebooks/data/hbn/96/96-raw.fif\n",
      "Closing /home/dung/eeg-ssl/notebooks/data/hbn/96/96-raw.fif\n",
      "[done]\n",
      "Writing /home/dung/eeg-ssl/notebooks/data/hbn/97/97-raw.fif\n",
      "Closing /home/dung/eeg-ssl/notebooks/data/hbn/97/97-raw.fif\n",
      "[done]\n",
      "Writing /home/dung/eeg-ssl/notebooks/data/hbn/98/98-raw.fif\n",
      "Closing /home/dung/eeg-ssl/notebooks/data/hbn/98/98-raw.fif\n",
      "[done]\n",
      "Writing /home/dung/eeg-ssl/notebooks/data/hbn/99/99-raw.fif\n",
      "Closing /home/dung/eeg-ssl/notebooks/data/hbn/99/99-raw.fif\n",
      "[done]\n",
      "Writing /home/dung/eeg-ssl/notebooks/data/hbn/100/100-raw.fif\n",
      "Closing /home/dung/eeg-ssl/notebooks/data/hbn/100/100-raw.fif\n",
      "[done]\n",
      "Writing /home/dung/eeg-ssl/notebooks/data/hbn/101/101-raw.fif\n",
      "Closing /home/dung/eeg-ssl/notebooks/data/hbn/101/101-raw.fif\n",
      "[done]\n",
      "Writing /home/dung/eeg-ssl/notebooks/data/hbn/102/102-raw.fif\n",
      "Closing /home/dung/eeg-ssl/notebooks/data/hbn/102/102-raw.fif\n",
      "[done]\n",
      "Writing /home/dung/eeg-ssl/notebooks/data/hbn/103/103-raw.fif\n",
      "Closing /home/dung/eeg-ssl/notebooks/data/hbn/103/103-raw.fif\n",
      "[done]\n",
      "Writing /home/dung/eeg-ssl/notebooks/data/hbn/104/104-raw.fif\n",
      "Closing /home/dung/eeg-ssl/notebooks/data/hbn/104/104-raw.fif\n",
      "[done]\n",
      "Writing /home/dung/eeg-ssl/notebooks/data/hbn/105/105-raw.fif\n",
      "Closing /home/dung/eeg-ssl/notebooks/data/hbn/105/105-raw.fif\n",
      "[done]\n",
      "Writing /home/dung/eeg-ssl/notebooks/data/hbn/106/106-raw.fif\n",
      "Closing /home/dung/eeg-ssl/notebooks/data/hbn/106/106-raw.fif\n",
      "[done]\n",
      "Writing /home/dung/eeg-ssl/notebooks/data/hbn/107/107-raw.fif\n",
      "Closing /home/dung/eeg-ssl/notebooks/data/hbn/107/107-raw.fif\n",
      "[done]\n",
      "Writing /home/dung/eeg-ssl/notebooks/data/hbn/108/108-raw.fif\n",
      "Closing /home/dung/eeg-ssl/notebooks/data/hbn/108/108-raw.fif\n",
      "[done]\n",
      "Writing /home/dung/eeg-ssl/notebooks/data/hbn/109/109-raw.fif\n",
      "Closing /home/dung/eeg-ssl/notebooks/data/hbn/109/109-raw.fif\n",
      "[done]\n",
      "Writing /home/dung/eeg-ssl/notebooks/data/hbn/110/110-raw.fif\n",
      "Closing /home/dung/eeg-ssl/notebooks/data/hbn/110/110-raw.fif\n",
      "[done]\n",
      "Writing /home/dung/eeg-ssl/notebooks/data/hbn/111/111-raw.fif\n",
      "Closing /home/dung/eeg-ssl/notebooks/data/hbn/111/111-raw.fif\n",
      "[done]\n",
      "Writing /home/dung/eeg-ssl/notebooks/data/hbn/112/112-raw.fif\n",
      "Closing /home/dung/eeg-ssl/notebooks/data/hbn/112/112-raw.fif\n",
      "[done]\n",
      "Writing /home/dung/eeg-ssl/notebooks/data/hbn/113/113-raw.fif\n",
      "Closing /home/dung/eeg-ssl/notebooks/data/hbn/113/113-raw.fif\n",
      "[done]\n",
      "Writing /home/dung/eeg-ssl/notebooks/data/hbn/114/114-raw.fif\n",
      "Closing /home/dung/eeg-ssl/notebooks/data/hbn/114/114-raw.fif\n",
      "[done]\n",
      "Writing /home/dung/eeg-ssl/notebooks/data/hbn/115/115-raw.fif\n",
      "Closing /home/dung/eeg-ssl/notebooks/data/hbn/115/115-raw.fif\n",
      "[done]\n",
      "Writing /home/dung/eeg-ssl/notebooks/data/hbn/116/116-raw.fif\n",
      "Closing /home/dung/eeg-ssl/notebooks/data/hbn/116/116-raw.fif\n",
      "[done]\n",
      "Writing /home/dung/eeg-ssl/notebooks/data/hbn/117/117-raw.fif\n",
      "Closing /home/dung/eeg-ssl/notebooks/data/hbn/117/117-raw.fif\n",
      "[done]\n",
      "Writing /home/dung/eeg-ssl/notebooks/data/hbn/118/118-raw.fif\n",
      "Closing /home/dung/eeg-ssl/notebooks/data/hbn/118/118-raw.fif\n",
      "[done]\n",
      "Writing /home/dung/eeg-ssl/notebooks/data/hbn/119/119-raw.fif\n",
      "Closing /home/dung/eeg-ssl/notebooks/data/hbn/119/119-raw.fif\n",
      "[done]\n",
      "Writing /home/dung/eeg-ssl/notebooks/data/hbn/120/120-raw.fif\n",
      "Closing /home/dung/eeg-ssl/notebooks/data/hbn/120/120-raw.fif\n",
      "[done]\n",
      "Writing /home/dung/eeg-ssl/notebooks/data/hbn/121/121-raw.fif\n",
      "Closing /home/dung/eeg-ssl/notebooks/data/hbn/121/121-raw.fif\n",
      "[done]\n",
      "Writing /home/dung/eeg-ssl/notebooks/data/hbn/122/122-raw.fif\n",
      "Closing /home/dung/eeg-ssl/notebooks/data/hbn/122/122-raw.fif\n",
      "[done]\n",
      "Writing /home/dung/eeg-ssl/notebooks/data/hbn/123/123-raw.fif\n",
      "Closing /home/dung/eeg-ssl/notebooks/data/hbn/123/123-raw.fif\n",
      "[done]\n",
      "Writing /home/dung/eeg-ssl/notebooks/data/hbn/124/124-raw.fif\n",
      "Closing /home/dung/eeg-ssl/notebooks/data/hbn/124/124-raw.fif\n",
      "[done]\n",
      "Writing /home/dung/eeg-ssl/notebooks/data/hbn/125/125-raw.fif\n",
      "Closing /home/dung/eeg-ssl/notebooks/data/hbn/125/125-raw.fif\n",
      "[done]\n",
      "Writing /home/dung/eeg-ssl/notebooks/data/hbn/126/126-raw.fif\n",
      "Closing /home/dung/eeg-ssl/notebooks/data/hbn/126/126-raw.fif\n",
      "[done]\n",
      "Writing /home/dung/eeg-ssl/notebooks/data/hbn/127/127-raw.fif\n",
      "Closing /home/dung/eeg-ssl/notebooks/data/hbn/127/127-raw.fif\n",
      "[done]\n",
      "Writing /home/dung/eeg-ssl/notebooks/data/hbn/128/128-raw.fif\n",
      "Closing /home/dung/eeg-ssl/notebooks/data/hbn/128/128-raw.fif\n",
      "[done]\n",
      "Writing /home/dung/eeg-ssl/notebooks/data/hbn/129/129-raw.fif\n",
      "Closing /home/dung/eeg-ssl/notebooks/data/hbn/129/129-raw.fif\n",
      "[done]\n",
      "Writing /home/dung/eeg-ssl/notebooks/data/hbn/130/130-raw.fif\n",
      "Closing /home/dung/eeg-ssl/notebooks/data/hbn/130/130-raw.fif\n",
      "[done]\n",
      "Writing /home/dung/eeg-ssl/notebooks/data/hbn/131/131-raw.fif\n",
      "Closing /home/dung/eeg-ssl/notebooks/data/hbn/131/131-raw.fif\n",
      "[done]\n",
      "Writing /home/dung/eeg-ssl/notebooks/data/hbn/132/132-raw.fif\n",
      "Closing /home/dung/eeg-ssl/notebooks/data/hbn/132/132-raw.fif\n",
      "[done]\n",
      "Writing /home/dung/eeg-ssl/notebooks/data/hbn/133/133-raw.fif\n",
      "Closing /home/dung/eeg-ssl/notebooks/data/hbn/133/133-raw.fif\n",
      "[done]\n",
      "Writing /home/dung/eeg-ssl/notebooks/data/hbn/134/134-raw.fif\n",
      "Closing /home/dung/eeg-ssl/notebooks/data/hbn/134/134-raw.fif\n",
      "[done]\n",
      "Writing /home/dung/eeg-ssl/notebooks/data/hbn/135/135-raw.fif\n",
      "Closing /home/dung/eeg-ssl/notebooks/data/hbn/135/135-raw.fif\n",
      "[done]\n",
      "Writing /home/dung/eeg-ssl/notebooks/data/hbn/136/136-raw.fif\n",
      "Closing /home/dung/eeg-ssl/notebooks/data/hbn/136/136-raw.fif\n",
      "[done]\n",
      "Writing /home/dung/eeg-ssl/notebooks/data/hbn/137/137-raw.fif\n",
      "Closing /home/dung/eeg-ssl/notebooks/data/hbn/137/137-raw.fif\n",
      "[done]\n",
      "Writing /home/dung/eeg-ssl/notebooks/data/hbn/138/138-raw.fif\n",
      "Closing /home/dung/eeg-ssl/notebooks/data/hbn/138/138-raw.fif\n",
      "[done]\n",
      "Writing /home/dung/eeg-ssl/notebooks/data/hbn/139/139-raw.fif\n",
      "Closing /home/dung/eeg-ssl/notebooks/data/hbn/139/139-raw.fif\n",
      "[done]\n",
      "Writing /home/dung/eeg-ssl/notebooks/data/hbn/140/140-raw.fif\n",
      "Closing /home/dung/eeg-ssl/notebooks/data/hbn/140/140-raw.fif\n",
      "[done]\n",
      "Writing /home/dung/eeg-ssl/notebooks/data/hbn/141/141-raw.fif\n",
      "Closing /home/dung/eeg-ssl/notebooks/data/hbn/141/141-raw.fif\n",
      "[done]\n",
      "Writing /home/dung/eeg-ssl/notebooks/data/hbn/142/142-raw.fif\n",
      "Closing /home/dung/eeg-ssl/notebooks/data/hbn/142/142-raw.fif\n",
      "[done]\n",
      "Writing /home/dung/eeg-ssl/notebooks/data/hbn/143/143-raw.fif\n",
      "Closing /home/dung/eeg-ssl/notebooks/data/hbn/143/143-raw.fif\n",
      "[done]\n",
      "Writing /home/dung/eeg-ssl/notebooks/data/hbn/144/144-raw.fif\n",
      "Closing /home/dung/eeg-ssl/notebooks/data/hbn/144/144-raw.fif\n",
      "[done]\n",
      "Writing /home/dung/eeg-ssl/notebooks/data/hbn/145/145-raw.fif\n",
      "Closing /home/dung/eeg-ssl/notebooks/data/hbn/145/145-raw.fif\n",
      "[done]\n",
      "Writing /home/dung/eeg-ssl/notebooks/data/hbn/146/146-raw.fif\n",
      "Closing /home/dung/eeg-ssl/notebooks/data/hbn/146/146-raw.fif\n",
      "[done]\n",
      "Writing /home/dung/eeg-ssl/notebooks/data/hbn/147/147-raw.fif\n",
      "Closing /home/dung/eeg-ssl/notebooks/data/hbn/147/147-raw.fif\n",
      "[done]\n",
      "Writing /home/dung/eeg-ssl/notebooks/data/hbn/148/148-raw.fif\n",
      "Closing /home/dung/eeg-ssl/notebooks/data/hbn/148/148-raw.fif\n",
      "[done]\n",
      "Writing /home/dung/eeg-ssl/notebooks/data/hbn/149/149-raw.fif\n",
      "Closing /home/dung/eeg-ssl/notebooks/data/hbn/149/149-raw.fif\n",
      "[done]\n",
      "Writing /home/dung/eeg-ssl/notebooks/data/hbn/150/150-raw.fif\n",
      "Closing /home/dung/eeg-ssl/notebooks/data/hbn/150/150-raw.fif\n",
      "[done]\n",
      "Writing /home/dung/eeg-ssl/notebooks/data/hbn/151/151-raw.fif\n",
      "Closing /home/dung/eeg-ssl/notebooks/data/hbn/151/151-raw.fif\n",
      "[done]\n",
      "Writing /home/dung/eeg-ssl/notebooks/data/hbn/152/152-raw.fif\n",
      "Closing /home/dung/eeg-ssl/notebooks/data/hbn/152/152-raw.fif\n",
      "[done]\n",
      "Writing /home/dung/eeg-ssl/notebooks/data/hbn/153/153-raw.fif\n",
      "Closing /home/dung/eeg-ssl/notebooks/data/hbn/153/153-raw.fif\n",
      "[done]\n",
      "Writing /home/dung/eeg-ssl/notebooks/data/hbn/154/154-raw.fif\n",
      "Closing /home/dung/eeg-ssl/notebooks/data/hbn/154/154-raw.fif\n",
      "[done]\n",
      "Writing /home/dung/eeg-ssl/notebooks/data/hbn/155/155-raw.fif\n",
      "Closing /home/dung/eeg-ssl/notebooks/data/hbn/155/155-raw.fif\n",
      "[done]\n",
      "Writing /home/dung/eeg-ssl/notebooks/data/hbn/156/156-raw.fif\n",
      "Closing /home/dung/eeg-ssl/notebooks/data/hbn/156/156-raw.fif\n",
      "[done]\n",
      "Writing /home/dung/eeg-ssl/notebooks/data/hbn/157/157-raw.fif\n",
      "Closing /home/dung/eeg-ssl/notebooks/data/hbn/157/157-raw.fif\n",
      "[done]\n",
      "Writing /home/dung/eeg-ssl/notebooks/data/hbn/158/158-raw.fif\n",
      "Closing /home/dung/eeg-ssl/notebooks/data/hbn/158/158-raw.fif\n",
      "[done]\n",
      "Writing /home/dung/eeg-ssl/notebooks/data/hbn/159/159-raw.fif\n",
      "Closing /home/dung/eeg-ssl/notebooks/data/hbn/159/159-raw.fif\n",
      "[done]\n",
      "Writing /home/dung/eeg-ssl/notebooks/data/hbn/160/160-raw.fif\n",
      "Closing /home/dung/eeg-ssl/notebooks/data/hbn/160/160-raw.fif\n",
      "[done]\n",
      "Writing /home/dung/eeg-ssl/notebooks/data/hbn/161/161-raw.fif\n",
      "Closing /home/dung/eeg-ssl/notebooks/data/hbn/161/161-raw.fif\n",
      "[done]\n",
      "Writing /home/dung/eeg-ssl/notebooks/data/hbn/162/162-raw.fif\n",
      "Closing /home/dung/eeg-ssl/notebooks/data/hbn/162/162-raw.fif\n",
      "[done]\n",
      "Writing /home/dung/eeg-ssl/notebooks/data/hbn/163/163-raw.fif\n",
      "Closing /home/dung/eeg-ssl/notebooks/data/hbn/163/163-raw.fif\n",
      "[done]\n",
      "Writing /home/dung/eeg-ssl/notebooks/data/hbn/164/164-raw.fif\n",
      "Closing /home/dung/eeg-ssl/notebooks/data/hbn/164/164-raw.fif\n",
      "[done]\n",
      "Writing /home/dung/eeg-ssl/notebooks/data/hbn/165/165-raw.fif\n",
      "Closing /home/dung/eeg-ssl/notebooks/data/hbn/165/165-raw.fif\n",
      "[done]\n",
      "Writing /home/dung/eeg-ssl/notebooks/data/hbn/166/166-raw.fif\n",
      "Closing /home/dung/eeg-ssl/notebooks/data/hbn/166/166-raw.fif\n",
      "[done]\n",
      "Writing /home/dung/eeg-ssl/notebooks/data/hbn/167/167-raw.fif\n",
      "Closing /home/dung/eeg-ssl/notebooks/data/hbn/167/167-raw.fif\n",
      "[done]\n",
      "Writing /home/dung/eeg-ssl/notebooks/data/hbn/168/168-raw.fif\n",
      "Closing /home/dung/eeg-ssl/notebooks/data/hbn/168/168-raw.fif\n",
      "[done]\n",
      "Writing /home/dung/eeg-ssl/notebooks/data/hbn/169/169-raw.fif\n",
      "Closing /home/dung/eeg-ssl/notebooks/data/hbn/169/169-raw.fif\n",
      "[done]\n",
      "Writing /home/dung/eeg-ssl/notebooks/data/hbn/170/170-raw.fif\n",
      "Closing /home/dung/eeg-ssl/notebooks/data/hbn/170/170-raw.fif\n",
      "[done]\n",
      "Writing /home/dung/eeg-ssl/notebooks/data/hbn/171/171-raw.fif\n",
      "Closing /home/dung/eeg-ssl/notebooks/data/hbn/171/171-raw.fif\n",
      "[done]\n",
      "Writing /home/dung/eeg-ssl/notebooks/data/hbn/172/172-raw.fif\n",
      "Closing /home/dung/eeg-ssl/notebooks/data/hbn/172/172-raw.fif\n",
      "[done]\n",
      "Writing /home/dung/eeg-ssl/notebooks/data/hbn/173/173-raw.fif\n",
      "Closing /home/dung/eeg-ssl/notebooks/data/hbn/173/173-raw.fif\n",
      "[done]\n",
      "Writing /home/dung/eeg-ssl/notebooks/data/hbn/174/174-raw.fif\n",
      "Closing /home/dung/eeg-ssl/notebooks/data/hbn/174/174-raw.fif\n",
      "[done]\n",
      "Writing /home/dung/eeg-ssl/notebooks/data/hbn/175/175-raw.fif\n",
      "Closing /home/dung/eeg-ssl/notebooks/data/hbn/175/175-raw.fif\n",
      "[done]\n",
      "Writing /home/dung/eeg-ssl/notebooks/data/hbn/176/176-raw.fif\n",
      "Closing /home/dung/eeg-ssl/notebooks/data/hbn/176/176-raw.fif\n",
      "[done]\n",
      "Writing /home/dung/eeg-ssl/notebooks/data/hbn/177/177-raw.fif\n",
      "Closing /home/dung/eeg-ssl/notebooks/data/hbn/177/177-raw.fif\n",
      "[done]\n",
      "Writing /home/dung/eeg-ssl/notebooks/data/hbn/178/178-raw.fif\n",
      "Closing /home/dung/eeg-ssl/notebooks/data/hbn/178/178-raw.fif\n",
      "[done]\n",
      "Writing /home/dung/eeg-ssl/notebooks/data/hbn/179/179-raw.fif\n",
      "Closing /home/dung/eeg-ssl/notebooks/data/hbn/179/179-raw.fif\n",
      "[done]\n",
      "Writing /home/dung/eeg-ssl/notebooks/data/hbn/180/180-raw.fif\n",
      "Closing /home/dung/eeg-ssl/notebooks/data/hbn/180/180-raw.fif\n",
      "[done]\n",
      "Writing /home/dung/eeg-ssl/notebooks/data/hbn/181/181-raw.fif\n",
      "Closing /home/dung/eeg-ssl/notebooks/data/hbn/181/181-raw.fif\n",
      "[done]\n",
      "Writing /home/dung/eeg-ssl/notebooks/data/hbn/182/182-raw.fif\n",
      "Closing /home/dung/eeg-ssl/notebooks/data/hbn/182/182-raw.fif\n",
      "[done]\n",
      "Writing /home/dung/eeg-ssl/notebooks/data/hbn/183/183-raw.fif\n",
      "Closing /home/dung/eeg-ssl/notebooks/data/hbn/183/183-raw.fif\n",
      "[done]\n",
      "Writing /home/dung/eeg-ssl/notebooks/data/hbn/184/184-raw.fif\n",
      "Closing /home/dung/eeg-ssl/notebooks/data/hbn/184/184-raw.fif\n",
      "[done]\n",
      "Writing /home/dung/eeg-ssl/notebooks/data/hbn/185/185-raw.fif\n",
      "Closing /home/dung/eeg-ssl/notebooks/data/hbn/185/185-raw.fif\n",
      "[done]\n",
      "Writing /home/dung/eeg-ssl/notebooks/data/hbn/186/186-raw.fif\n",
      "Closing /home/dung/eeg-ssl/notebooks/data/hbn/186/186-raw.fif\n",
      "[done]\n",
      "Writing /home/dung/eeg-ssl/notebooks/data/hbn/187/187-raw.fif\n",
      "Closing /home/dung/eeg-ssl/notebooks/data/hbn/187/187-raw.fif\n",
      "[done]\n",
      "Writing /home/dung/eeg-ssl/notebooks/data/hbn/188/188-raw.fif\n",
      "Closing /home/dung/eeg-ssl/notebooks/data/hbn/188/188-raw.fif\n",
      "[done]\n",
      "Writing /home/dung/eeg-ssl/notebooks/data/hbn/189/189-raw.fif\n",
      "Closing /home/dung/eeg-ssl/notebooks/data/hbn/189/189-raw.fif\n",
      "[done]\n",
      "Writing /home/dung/eeg-ssl/notebooks/data/hbn/190/190-raw.fif\n",
      "Closing /home/dung/eeg-ssl/notebooks/data/hbn/190/190-raw.fif\n",
      "[done]\n",
      "Writing /home/dung/eeg-ssl/notebooks/data/hbn/191/191-raw.fif\n",
      "Closing /home/dung/eeg-ssl/notebooks/data/hbn/191/191-raw.fif\n",
      "[done]\n",
      "Writing /home/dung/eeg-ssl/notebooks/data/hbn/192/192-raw.fif\n",
      "Closing /home/dung/eeg-ssl/notebooks/data/hbn/192/192-raw.fif\n",
      "[done]\n",
      "Writing /home/dung/eeg-ssl/notebooks/data/hbn/193/193-raw.fif\n",
      "Closing /home/dung/eeg-ssl/notebooks/data/hbn/193/193-raw.fif\n",
      "[done]\n",
      "Writing /home/dung/eeg-ssl/notebooks/data/hbn/194/194-raw.fif\n",
      "Closing /home/dung/eeg-ssl/notebooks/data/hbn/194/194-raw.fif\n",
      "[done]\n",
      "Writing /home/dung/eeg-ssl/notebooks/data/hbn/195/195-raw.fif\n",
      "Closing /home/dung/eeg-ssl/notebooks/data/hbn/195/195-raw.fif\n",
      "[done]\n",
      "Writing /home/dung/eeg-ssl/notebooks/data/hbn/196/196-raw.fif\n",
      "Closing /home/dung/eeg-ssl/notebooks/data/hbn/196/196-raw.fif\n",
      "[done]\n",
      "Writing /home/dung/eeg-ssl/notebooks/data/hbn/197/197-raw.fif\n",
      "Closing /home/dung/eeg-ssl/notebooks/data/hbn/197/197-raw.fif\n",
      "[done]\n",
      "Writing /home/dung/eeg-ssl/notebooks/data/hbn/198/198-raw.fif\n",
      "Closing /home/dung/eeg-ssl/notebooks/data/hbn/198/198-raw.fif\n",
      "[done]\n",
      "Writing /home/dung/eeg-ssl/notebooks/data/hbn/199/199-raw.fif\n",
      "Closing /home/dung/eeg-ssl/notebooks/data/hbn/199/199-raw.fif\n",
      "[done]\n",
      "Writing /home/dung/eeg-ssl/notebooks/data/hbn/200/200-raw.fif\n",
      "Closing /home/dung/eeg-ssl/notebooks/data/hbn/200/200-raw.fif\n",
      "[done]\n",
      "Writing /home/dung/eeg-ssl/notebooks/data/hbn/201/201-raw.fif\n",
      "Closing /home/dung/eeg-ssl/notebooks/data/hbn/201/201-raw.fif\n",
      "[done]\n",
      "Writing /home/dung/eeg-ssl/notebooks/data/hbn/202/202-raw.fif\n",
      "Closing /home/dung/eeg-ssl/notebooks/data/hbn/202/202-raw.fif\n",
      "[done]\n",
      "Writing /home/dung/eeg-ssl/notebooks/data/hbn/203/203-raw.fif\n",
      "Closing /home/dung/eeg-ssl/notebooks/data/hbn/203/203-raw.fif\n",
      "[done]\n",
      "Writing /home/dung/eeg-ssl/notebooks/data/hbn/204/204-raw.fif\n",
      "Closing /home/dung/eeg-ssl/notebooks/data/hbn/204/204-raw.fif\n",
      "[done]\n",
      "Writing /home/dung/eeg-ssl/notebooks/data/hbn/205/205-raw.fif\n",
      "Closing /home/dung/eeg-ssl/notebooks/data/hbn/205/205-raw.fif\n",
      "[done]\n",
      "Writing /home/dung/eeg-ssl/notebooks/data/hbn/206/206-raw.fif\n",
      "Closing /home/dung/eeg-ssl/notebooks/data/hbn/206/206-raw.fif\n",
      "[done]\n",
      "Writing /home/dung/eeg-ssl/notebooks/data/hbn/207/207-raw.fif\n",
      "Closing /home/dung/eeg-ssl/notebooks/data/hbn/207/207-raw.fif\n",
      "[done]\n",
      "Writing /home/dung/eeg-ssl/notebooks/data/hbn/208/208-raw.fif\n",
      "Closing /home/dung/eeg-ssl/notebooks/data/hbn/208/208-raw.fif\n",
      "[done]\n",
      "Writing /home/dung/eeg-ssl/notebooks/data/hbn/209/209-raw.fif\n",
      "Closing /home/dung/eeg-ssl/notebooks/data/hbn/209/209-raw.fif\n",
      "[done]\n",
      "Writing /home/dung/eeg-ssl/notebooks/data/hbn/210/210-raw.fif\n",
      "Closing /home/dung/eeg-ssl/notebooks/data/hbn/210/210-raw.fif\n",
      "[done]\n",
      "Writing /home/dung/eeg-ssl/notebooks/data/hbn/211/211-raw.fif\n",
      "Closing /home/dung/eeg-ssl/notebooks/data/hbn/211/211-raw.fif\n",
      "[done]\n",
      "Writing /home/dung/eeg-ssl/notebooks/data/hbn/212/212-raw.fif\n",
      "Closing /home/dung/eeg-ssl/notebooks/data/hbn/212/212-raw.fif\n",
      "[done]\n",
      "Writing /home/dung/eeg-ssl/notebooks/data/hbn/213/213-raw.fif\n",
      "Closing /home/dung/eeg-ssl/notebooks/data/hbn/213/213-raw.fif\n",
      "[done]\n",
      "Writing /home/dung/eeg-ssl/notebooks/data/hbn/214/214-raw.fif\n",
      "Closing /home/dung/eeg-ssl/notebooks/data/hbn/214/214-raw.fif\n",
      "[done]\n",
      "Writing /home/dung/eeg-ssl/notebooks/data/hbn/215/215-raw.fif\n",
      "Closing /home/dung/eeg-ssl/notebooks/data/hbn/215/215-raw.fif\n",
      "[done]\n",
      "Writing /home/dung/eeg-ssl/notebooks/data/hbn/216/216-raw.fif\n",
      "Closing /home/dung/eeg-ssl/notebooks/data/hbn/216/216-raw.fif\n",
      "[done]\n",
      "Writing /home/dung/eeg-ssl/notebooks/data/hbn/217/217-raw.fif\n",
      "Closing /home/dung/eeg-ssl/notebooks/data/hbn/217/217-raw.fif\n",
      "[done]\n",
      "Writing /home/dung/eeg-ssl/notebooks/data/hbn/218/218-raw.fif\n",
      "Closing /home/dung/eeg-ssl/notebooks/data/hbn/218/218-raw.fif\n",
      "[done]\n",
      "Writing /home/dung/eeg-ssl/notebooks/data/hbn/219/219-raw.fif\n",
      "Closing /home/dung/eeg-ssl/notebooks/data/hbn/219/219-raw.fif\n",
      "[done]\n",
      "Writing /home/dung/eeg-ssl/notebooks/data/hbn/220/220-raw.fif\n",
      "Closing /home/dung/eeg-ssl/notebooks/data/hbn/220/220-raw.fif\n",
      "[done]\n",
      "Writing /home/dung/eeg-ssl/notebooks/data/hbn/221/221-raw.fif\n",
      "Closing /home/dung/eeg-ssl/notebooks/data/hbn/221/221-raw.fif\n",
      "[done]\n",
      "Writing /home/dung/eeg-ssl/notebooks/data/hbn/222/222-raw.fif\n",
      "Closing /home/dung/eeg-ssl/notebooks/data/hbn/222/222-raw.fif\n",
      "[done]\n",
      "Writing /home/dung/eeg-ssl/notebooks/data/hbn/223/223-raw.fif\n",
      "Closing /home/dung/eeg-ssl/notebooks/data/hbn/223/223-raw.fif\n",
      "[done]\n",
      "Writing /home/dung/eeg-ssl/notebooks/data/hbn/224/224-raw.fif\n",
      "Closing /home/dung/eeg-ssl/notebooks/data/hbn/224/224-raw.fif\n",
      "[done]\n",
      "Writing /home/dung/eeg-ssl/notebooks/data/hbn/225/225-raw.fif\n",
      "Closing /home/dung/eeg-ssl/notebooks/data/hbn/225/225-raw.fif\n",
      "[done]\n",
      "Writing /home/dung/eeg-ssl/notebooks/data/hbn/226/226-raw.fif\n",
      "Closing /home/dung/eeg-ssl/notebooks/data/hbn/226/226-raw.fif\n",
      "[done]\n",
      "Writing /home/dung/eeg-ssl/notebooks/data/hbn/227/227-raw.fif\n",
      "Closing /home/dung/eeg-ssl/notebooks/data/hbn/227/227-raw.fif\n",
      "[done]\n",
      "Writing /home/dung/eeg-ssl/notebooks/data/hbn/228/228-raw.fif\n",
      "Closing /home/dung/eeg-ssl/notebooks/data/hbn/228/228-raw.fif\n",
      "[done]\n",
      "Writing /home/dung/eeg-ssl/notebooks/data/hbn/229/229-raw.fif\n",
      "Closing /home/dung/eeg-ssl/notebooks/data/hbn/229/229-raw.fif\n",
      "[done]\n",
      "Writing /home/dung/eeg-ssl/notebooks/data/hbn/230/230-raw.fif\n",
      "Closing /home/dung/eeg-ssl/notebooks/data/hbn/230/230-raw.fif\n",
      "[done]\n",
      "Writing /home/dung/eeg-ssl/notebooks/data/hbn/231/231-raw.fif\n",
      "Closing /home/dung/eeg-ssl/notebooks/data/hbn/231/231-raw.fif\n",
      "[done]\n",
      "Writing /home/dung/eeg-ssl/notebooks/data/hbn/232/232-raw.fif\n",
      "Closing /home/dung/eeg-ssl/notebooks/data/hbn/232/232-raw.fif\n",
      "[done]\n",
      "Writing /home/dung/eeg-ssl/notebooks/data/hbn/233/233-raw.fif\n",
      "Closing /home/dung/eeg-ssl/notebooks/data/hbn/233/233-raw.fif\n",
      "[done]\n",
      "Writing /home/dung/eeg-ssl/notebooks/data/hbn/234/234-raw.fif\n",
      "Closing /home/dung/eeg-ssl/notebooks/data/hbn/234/234-raw.fif\n",
      "[done]\n",
      "Writing /home/dung/eeg-ssl/notebooks/data/hbn/235/235-raw.fif\n",
      "Closing /home/dung/eeg-ssl/notebooks/data/hbn/235/235-raw.fif\n",
      "[done]\n",
      "Writing /home/dung/eeg-ssl/notebooks/data/hbn/236/236-raw.fif\n",
      "Closing /home/dung/eeg-ssl/notebooks/data/hbn/236/236-raw.fif\n",
      "[done]\n",
      "Writing /home/dung/eeg-ssl/notebooks/data/hbn/237/237-raw.fif\n",
      "Closing /home/dung/eeg-ssl/notebooks/data/hbn/237/237-raw.fif\n",
      "[done]\n",
      "Writing /home/dung/eeg-ssl/notebooks/data/hbn/238/238-raw.fif\n",
      "Closing /home/dung/eeg-ssl/notebooks/data/hbn/238/238-raw.fif\n",
      "[done]\n",
      "Writing /home/dung/eeg-ssl/notebooks/data/hbn/239/239-raw.fif\n",
      "Closing /home/dung/eeg-ssl/notebooks/data/hbn/239/239-raw.fif\n",
      "[done]\n",
      "Writing /home/dung/eeg-ssl/notebooks/data/hbn/240/240-raw.fif\n",
      "Closing /home/dung/eeg-ssl/notebooks/data/hbn/240/240-raw.fif\n",
      "[done]\n",
      "Writing /home/dung/eeg-ssl/notebooks/data/hbn/241/241-raw.fif\n",
      "Closing /home/dung/eeg-ssl/notebooks/data/hbn/241/241-raw.fif\n",
      "[done]\n",
      "Writing /home/dung/eeg-ssl/notebooks/data/hbn/242/242-raw.fif\n",
      "Closing /home/dung/eeg-ssl/notebooks/data/hbn/242/242-raw.fif\n",
      "[done]\n",
      "Writing /home/dung/eeg-ssl/notebooks/data/hbn/243/243-raw.fif\n",
      "Closing /home/dung/eeg-ssl/notebooks/data/hbn/243/243-raw.fif\n",
      "[done]\n",
      "Writing /home/dung/eeg-ssl/notebooks/data/hbn/244/244-raw.fif\n",
      "Closing /home/dung/eeg-ssl/notebooks/data/hbn/244/244-raw.fif\n",
      "[done]\n",
      "Writing /home/dung/eeg-ssl/notebooks/data/hbn/245/245-raw.fif\n",
      "Closing /home/dung/eeg-ssl/notebooks/data/hbn/245/245-raw.fif\n",
      "[done]\n",
      "Writing /home/dung/eeg-ssl/notebooks/data/hbn/246/246-raw.fif\n",
      "Closing /home/dung/eeg-ssl/notebooks/data/hbn/246/246-raw.fif\n",
      "[done]\n",
      "Writing /home/dung/eeg-ssl/notebooks/data/hbn/247/247-raw.fif\n",
      "Closing /home/dung/eeg-ssl/notebooks/data/hbn/247/247-raw.fif\n",
      "[done]\n",
      "Writing /home/dung/eeg-ssl/notebooks/data/hbn/248/248-raw.fif\n",
      "Closing /home/dung/eeg-ssl/notebooks/data/hbn/248/248-raw.fif\n",
      "[done]\n",
      "Writing /home/dung/eeg-ssl/notebooks/data/hbn/249/249-raw.fif\n",
      "Closing /home/dung/eeg-ssl/notebooks/data/hbn/249/249-raw.fif\n",
      "[done]\n",
      "Writing /home/dung/eeg-ssl/notebooks/data/hbn/250/250-raw.fif\n",
      "Closing /home/dung/eeg-ssl/notebooks/data/hbn/250/250-raw.fif\n",
      "[done]\n",
      "Writing /home/dung/eeg-ssl/notebooks/data/hbn/251/251-raw.fif\n",
      "Closing /home/dung/eeg-ssl/notebooks/data/hbn/251/251-raw.fif\n",
      "[done]\n",
      "Writing /home/dung/eeg-ssl/notebooks/data/hbn/252/252-raw.fif\n",
      "Closing /home/dung/eeg-ssl/notebooks/data/hbn/252/252-raw.fif\n",
      "[done]\n",
      "Writing /home/dung/eeg-ssl/notebooks/data/hbn/253/253-raw.fif\n",
      "Closing /home/dung/eeg-ssl/notebooks/data/hbn/253/253-raw.fif\n",
      "[done]\n",
      "Writing /home/dung/eeg-ssl/notebooks/data/hbn/254/254-raw.fif\n",
      "Closing /home/dung/eeg-ssl/notebooks/data/hbn/254/254-raw.fif\n",
      "[done]\n",
      "Writing /home/dung/eeg-ssl/notebooks/data/hbn/255/255-raw.fif\n",
      "Closing /home/dung/eeg-ssl/notebooks/data/hbn/255/255-raw.fif\n",
      "[done]\n",
      "Writing /home/dung/eeg-ssl/notebooks/data/hbn/256/256-raw.fif\n",
      "Closing /home/dung/eeg-ssl/notebooks/data/hbn/256/256-raw.fif\n",
      "[done]\n",
      "Writing /home/dung/eeg-ssl/notebooks/data/hbn/257/257-raw.fif\n",
      "Closing /home/dung/eeg-ssl/notebooks/data/hbn/257/257-raw.fif\n",
      "[done]\n",
      "Writing /home/dung/eeg-ssl/notebooks/data/hbn/258/258-raw.fif\n",
      "Closing /home/dung/eeg-ssl/notebooks/data/hbn/258/258-raw.fif\n",
      "[done]\n",
      "Writing /home/dung/eeg-ssl/notebooks/data/hbn/259/259-raw.fif\n",
      "Closing /home/dung/eeg-ssl/notebooks/data/hbn/259/259-raw.fif\n",
      "[done]\n",
      "Writing /home/dung/eeg-ssl/notebooks/data/hbn/260/260-raw.fif\n",
      "Closing /home/dung/eeg-ssl/notebooks/data/hbn/260/260-raw.fif\n",
      "[done]\n",
      "Writing /home/dung/eeg-ssl/notebooks/data/hbn/261/261-raw.fif\n",
      "Closing /home/dung/eeg-ssl/notebooks/data/hbn/261/261-raw.fif\n",
      "[done]\n",
      "Writing /home/dung/eeg-ssl/notebooks/data/hbn/262/262-raw.fif\n",
      "Closing /home/dung/eeg-ssl/notebooks/data/hbn/262/262-raw.fif\n",
      "[done]\n",
      "Writing /home/dung/eeg-ssl/notebooks/data/hbn/263/263-raw.fif\n",
      "Closing /home/dung/eeg-ssl/notebooks/data/hbn/263/263-raw.fif\n",
      "[done]\n",
      "Writing /home/dung/eeg-ssl/notebooks/data/hbn/264/264-raw.fif\n",
      "Closing /home/dung/eeg-ssl/notebooks/data/hbn/264/264-raw.fif\n",
      "[done]\n",
      "Writing /home/dung/eeg-ssl/notebooks/data/hbn/265/265-raw.fif\n",
      "Closing /home/dung/eeg-ssl/notebooks/data/hbn/265/265-raw.fif\n",
      "[done]\n",
      "Writing /home/dung/eeg-ssl/notebooks/data/hbn/266/266-raw.fif\n",
      "Closing /home/dung/eeg-ssl/notebooks/data/hbn/266/266-raw.fif\n",
      "[done]\n",
      "Writing /home/dung/eeg-ssl/notebooks/data/hbn/267/267-raw.fif\n",
      "Closing /home/dung/eeg-ssl/notebooks/data/hbn/267/267-raw.fif\n",
      "[done]\n",
      "Writing /home/dung/eeg-ssl/notebooks/data/hbn/268/268-raw.fif\n",
      "Closing /home/dung/eeg-ssl/notebooks/data/hbn/268/268-raw.fif\n",
      "[done]\n",
      "Writing /home/dung/eeg-ssl/notebooks/data/hbn/269/269-raw.fif\n",
      "Closing /home/dung/eeg-ssl/notebooks/data/hbn/269/269-raw.fif\n",
      "[done]\n",
      "Writing /home/dung/eeg-ssl/notebooks/data/hbn/270/270-raw.fif\n",
      "Closing /home/dung/eeg-ssl/notebooks/data/hbn/270/270-raw.fif\n",
      "[done]\n"
     ]
    }
   ],
   "source": [
    "all_ds.save('data/hbn', overwrite=True)"
   ]
  },
  {
   "cell_type": "code",
   "execution_count": 72,
   "metadata": {},
   "outputs": [],
   "source": [
    "loaded_dataset = load_concat_dataset(path='data/hbn', preload=False)\n",
    "all_ds = loaded_dataset"
   ]
  },
  {
   "cell_type": "code",
   "execution_count": null,
   "metadata": {},
   "outputs": [
    {
     "name": "stdout",
     "output_type": "stream",
     "text": [
      "Effective window size : 4.096 (s)\n"
     ]
    },
    {
     "name": "stdout",
     "output_type": "stream",
     "text": [
      "(array([[0.0036655 , 0.00366356, 0.0036618 , ..., 0.00285055, 0.00284741,\n",
      "        0.00284229]]), array([ 10.   ,  10.002,  10.004, ..., 352.21 , 352.212, 352.214]))\n",
      "0.0028126064382113514 0.004163150380114056\n"
     ]
    },
    {
     "data": {
      "image/png": "[encoded data removed]",
      "text/plain": [
       "<MNELineFigure size 1000x350 with 1 Axes>"
      ]
     },
     "metadata": {},
     "output_type": "display_data"
    },
    {
     "ename": "",
     "evalue": "",
     "output_type": "error",
     "traceback": [
      "\u001b[1;31mThe Kernel crashed while executing code in the current cell or a previous cell. \n",
      "\u001b[1;31mPlease review the code in the cell(s) to identify a possible cause of the failure. \n",
      "\u001b[1;31mClick <a href='https://aka.ms/vscodeJupyterKernelCrash'>here</a> for more info. \n",
      "\u001b[1;31mView Jupyter <a href='command:jupyter.viewOutput'>log</a> for further details."
     ]
    }
   ],
   "source": [
    "raw = all_ds.datasets[11].raw\n",
    "fig = raw.compute_psd(fmax=70).plot(\n",
    "    average=True, amplitude=False, picks=\"data\", exclude=\"bads\"\n",
    ")\n",
    "sampling_freq = raw.info[\"sfreq\"]\n",
    "start_stop_seconds = np.array([10, 500])\n",
    "start_sample, stop_sample = (start_stop_seconds * sampling_freq).astype(int)\n",
    "channel_index = 0\n",
    "raw_selection = raw[channel_index, start_sample:stop_sample]\n",
    "print(raw_selection)\n",
    "x = raw_selection[1]\n",
    "y = raw_selection[0].T\n",
    "print(np.min(y),np.max(y))\n",
    "# plt.plot(x, y)"
   ]
  },
  {
   "cell_type": "code",
   "execution_count": null,
   "metadata": {},
   "outputs": [
    {
     "name": "stderr",
     "output_type": "stream",
     "text": [
      "/home/dung/eeg-ssl/.venv/lib/python3.10/site-packages/braindecode/preprocessing/preprocess.py:55: UserWarning: Preprocessing choices with lambda functions cannot be saved.\n",
      "  warn('Preprocessing choices with lambda functions cannot be saved.')\n"
     ]
    },
    {
     "ename": "NameError",
     "evalue": "name 'n_jobs' is not defined",
     "output_type": "error",
     "traceback": [
      "\u001b[0;31m---------------------------------------------------------------------------\u001b[0m",
      "\u001b[0;31mNameError\u001b[0m                                 Traceback (most recent call last)",
      "Cell \u001b[0;32mIn[48], line 10\u001b[0m\n\u001b[1;32m      4\u001b[0m \u001b[38;5;66;03m# Factor to convert from V to uV\u001b[39;00m\n\u001b[1;32m      5\u001b[0m factor \u001b[38;5;241m=\u001b[39m \u001b[38;5;241m1e4\u001b[39m\n\u001b[1;32m      6\u001b[0m preprocessors \u001b[38;5;241m=\u001b[39m [\n\u001b[1;32m      7\u001b[0m     Preprocessor(\u001b[38;5;28;01mlambda\u001b[39;00m data: multiply(data, factor)),  \u001b[38;5;66;03m# Convert from V to uV\u001b[39;00m\n\u001b[1;32m      8\u001b[0m     Preprocessor(\u001b[38;5;124m'\u001b[39m\u001b[38;5;124mcrop\u001b[39m\u001b[38;5;124m'\u001b[39m, tmin\u001b[38;5;241m=\u001b[39m\u001b[38;5;241m10\u001b[39m),  \u001b[38;5;66;03m# crop first 10 seconds as begining of noise recording\u001b[39;00m\n\u001b[1;32m      9\u001b[0m     Preprocessor(\u001b[38;5;124m'\u001b[39m\u001b[38;5;124mresample\u001b[39m\u001b[38;5;124m'\u001b[39m, sfreq\u001b[38;5;241m=\u001b[39msampling_rate),\n\u001b[0;32m---> 10\u001b[0m     Preprocessor(\u001b[38;5;124m'\u001b[39m\u001b[38;5;124mfilter\u001b[39m\u001b[38;5;124m'\u001b[39m, l_freq\u001b[38;5;241m=\u001b[39m\u001b[38;5;28;01mNone\u001b[39;00m, h_freq\u001b[38;5;241m=\u001b[39mhigh_cut_hz, n_jobs\u001b[38;5;241m=\u001b[39m\u001b[43mn_jobs\u001b[49m)\n\u001b[1;32m     11\u001b[0m ]\n\u001b[1;32m     13\u001b[0m \u001b[38;5;66;03m# Transform the data\u001b[39;00m\n\u001b[1;32m     14\u001b[0m preprocess(all_ds, preprocessors)\n",
      "\u001b[0;31mNameError\u001b[0m: name 'n_jobs' is not defined"
     ]
    }
   ],
   "source": [
    "from numpy import multiply\n",
    "sampling_rate = 250 # resample to follow the tutorial sampling rate\n",
    "high_cut_hz = 30\n",
    "# Factor to convert from V to uV\n",
    "factor = 1e4\n",
    "preprocessors = [\n",
    "    Preprocessor(lambda data: multiply(data, factor)),  # Convert from V to uV\n",
    "    Preprocessor('crop', tmin=10),  # crop first 10 seconds as begining of noise recording\n",
    "    Preprocessor('resample', sfreq=sampling_rate),\n",
    "    Preprocessor('notch_filter', freqs=(60, 120)),\n",
    "    Preprocessor('filter', l_freq=None, h_freq=high_cut_hz, n_jobs=n_jobs)\n",
    "]\n",
    "\n",
    "# Transform the data\n",
    "preprocess(all_ds, preprocessors)\n",
    "# all_ds.save('data/hbn_preprocessed')"
   ]
  },
  {
   "cell_type": "code",
   "execution_count": 6,
   "metadata": {},
   "outputs": [
    {
     "name": "stdout",
     "output_type": "stream",
     "text": [
      "Opening raw data file data/hbn_preprocessed/0/0-raw.fif...\n",
      "    Range : 2500 ... 87928 =     10.000 ...   351.712 secs\n",
      "Ready.\n",
      "Opening raw data file data/hbn_preprocessed/1/1-raw.fif...\n",
      "    Range : 2500 ... 144627 =     10.000 ...   578.508 secs\n",
      "Ready.\n",
      "Opening raw data file data/hbn_preprocessed/2/2-raw.fif...\n",
      "    Range : 2500 ... 87715 =     10.000 ...   350.860 secs\n",
      "Ready.\n",
      "Opening raw data file data/hbn_preprocessed/3/3-raw.fif...\n",
      "    Range : 2500 ... 94714 =     10.000 ...   378.856 secs\n",
      "Ready.\n",
      "Opening raw data file data/hbn_preprocessed/4/4-raw.fif...\n",
      "    Range : 2500 ... 86753 =     10.000 ...   347.012 secs\n",
      "Ready.\n",
      "Opening raw data file data/hbn_preprocessed/5/5-raw.fif...\n",
      "    Range : 2500 ... 87177 =     10.000 ...   348.708 secs\n",
      "Ready.\n",
      "Opening raw data file data/hbn_preprocessed/6/6-raw.fif...\n",
      "    Range : 2500 ... 87816 =     10.000 ...   351.264 secs\n",
      "Ready.\n",
      "Opening raw data file data/hbn_preprocessed/7/7-raw.fif...\n",
      "    Range : 2500 ... 92002 =     10.000 ...   368.008 secs\n",
      "Ready.\n",
      "Opening raw data file data/hbn_preprocessed/8/8-raw.fif...\n",
      "    Range : 2500 ... 87315 =     10.000 ...   349.260 secs\n",
      "Ready.\n",
      "Opening raw data file data/hbn_preprocessed/9/9-raw.fif...\n",
      "    Range : 2500 ... 92028 =     10.000 ...   368.112 secs\n",
      "Ready.\n",
      "Opening raw data file data/hbn_preprocessed/10/10-raw.fif...\n",
      "    Range : 2500 ... 115737 =     10.000 ...   462.948 secs\n",
      "Ready.\n"
     ]
    },
    {
     "name": "stdout",
     "output_type": "stream",
     "text": [
      "Opening raw data file data/hbn_preprocessed/11/11-raw.fif...\n",
      "    Range : 2500 ... 88053 =     10.000 ...   352.212 secs\n",
      "Ready.\n",
      "Opening raw data file data/hbn_preprocessed/12/12-raw.fif...\n",
      "    Range : 2500 ... 97989 =     10.000 ...   391.956 secs\n",
      "Ready.\n",
      "Opening raw data file data/hbn_preprocessed/13/13-raw.fif...\n",
      "    Range : 2500 ... 86752 =     10.000 ...   347.008 secs\n",
      "Ready.\n",
      "Opening raw data file data/hbn_preprocessed/14/14-raw.fif...\n",
      "    Range : 2500 ... 94513 =     10.000 ...   378.052 secs\n",
      "Ready.\n",
      "Opening raw data file data/hbn_preprocessed/15/15-raw.fif...\n",
      "    Range : 2500 ... 106914 =     10.000 ...   427.656 secs\n",
      "Ready.\n",
      "Opening raw data file data/hbn_preprocessed/16/16-raw.fif...\n",
      "    Range : 2500 ... 107476 =     10.000 ...   429.904 secs\n",
      "Ready.\n",
      "Opening raw data file data/hbn_preprocessed/17/17-raw.fif...\n",
      "    Range : 2500 ... 182509 =     10.000 ...   730.036 secs\n",
      "Ready.\n",
      "Opening raw data file data/hbn_preprocessed/18/18-raw.fif...\n",
      "    Range : 2500 ... 102038 =     10.000 ...   408.152 secs\n",
      "Ready.\n",
      "Opening raw data file data/hbn_preprocessed/19/19-raw.fif...\n",
      "    Range : 2500 ... 105513 =     10.000 ...   422.052 secs\n",
      "Ready.\n",
      "Opening raw data file data/hbn_preprocessed/20/20-raw.fif...\n",
      "    Range : 2500 ... 121712 =     10.000 ...   486.848 secs\n",
      "Ready.\n",
      "Opening raw data file data/hbn_preprocessed/21/21-raw.fif...\n",
      "    Range : 2500 ... 101151 =     10.000 ...   404.604 secs\n",
      "Ready.\n",
      "Opening raw data file data/hbn_preprocessed/22/22-raw.fif...\n",
      "    Range : 2500 ... 86615 =     10.000 ...   346.460 secs\n",
      "Ready.\n",
      "Opening raw data file data/hbn_preprocessed/23/23-raw.fif...\n",
      "    Range : 2500 ... 164315 =     10.000 ...   657.260 secs\n",
      "Ready.\n",
      "Opening raw data file data/hbn_preprocessed/24/24-raw.fif...\n",
      "    Range : 2500 ... 96753 =     10.000 ...   387.012 secs\n",
      "Ready.\n",
      "Opening raw data file data/hbn_preprocessed/25/25-raw.fif...\n",
      "    Range : 2500 ... 98401 =     10.000 ...   393.604 secs\n",
      "Ready.\n",
      "Opening raw data file data/hbn_preprocessed/26/26-raw.fif...\n",
      "    Range : 2500 ... 90253 =     10.000 ...   361.012 secs\n",
      "Ready.\n",
      "Opening raw data file data/hbn_preprocessed/27/27-raw.fif...\n",
      "    Range : 2500 ... 88365 =     10.000 ...   353.460 secs\n",
      "Ready.\n",
      "Opening raw data file data/hbn_preprocessed/28/28-raw.fif...\n",
      "    Range : 2500 ... 86228 =     10.000 ...   344.912 secs\n",
      "Ready.\n",
      "Opening raw data file data/hbn_preprocessed/29/29-raw.fif...\n",
      "    Range : 2500 ... 98715 =     10.000 ...   394.860 secs\n",
      "Ready.\n",
      "Opening raw data file data/hbn_preprocessed/30/30-raw.fif...\n",
      "    Range : 2500 ... 92891 =     10.000 ...   371.564 secs\n",
      "Ready.\n",
      "Opening raw data file data/hbn_preprocessed/31/31-raw.fif...\n",
      "    Range : 2500 ... 140707 =     10.000 ...   562.828 secs\n",
      "Ready.\n",
      "Opening raw data file data/hbn_preprocessed/32/32-raw.fif...\n",
      "    Range : 2500 ... 123177 =     10.000 ...   492.708 secs\n",
      "Ready.\n",
      "Opening raw data file data/hbn_preprocessed/33/33-raw.fif...\n",
      "    Range : 2500 ... 86653 =     10.000 ...   346.612 secs\n",
      "Ready.\n",
      "Opening raw data file data/hbn_preprocessed/34/34-raw.fif...\n",
      "    Range : 2500 ... 86929 =     10.000 ...   347.716 secs\n",
      "Ready.\n",
      "Opening raw data file data/hbn_preprocessed/35/35-raw.fif...\n",
      "    Range : 2500 ... 124826 =     10.000 ...   499.304 secs\n",
      "Ready.\n",
      "Opening raw data file data/hbn_preprocessed/36/36-raw.fif...\n",
      "    Range : 2500 ... 91938 =     10.000 ...   367.752 secs\n",
      "Ready.\n",
      "Opening raw data file data/hbn_preprocessed/37/37-raw.fif...\n",
      "    Range : 2500 ... 89525 =     10.000 ...   358.100 secs\n",
      "Ready.\n",
      "Opening raw data file data/hbn_preprocessed/38/38-raw.fif...\n",
      "    Range : 2500 ... 88528 =     10.000 ...   354.112 secs\n",
      "Ready.\n",
      "Opening raw data file data/hbn_preprocessed/39/39-raw.fif...\n",
      "    Range : 2500 ... 90675 =     10.000 ...   362.700 secs\n",
      "Ready.\n",
      "Opening raw data file data/hbn_preprocessed/40/40-raw.fif...\n",
      "    Range : 2500 ... 153340 =     10.000 ...   613.360 secs\n",
      "Ready.\n",
      "Opening raw data file data/hbn_preprocessed/41/41-raw.fif...\n",
      "    Range : 2500 ... 110651 =     10.000 ...   442.604 secs\n",
      "Ready.\n",
      "Opening raw data file data/hbn_preprocessed/42/42-raw.fif...\n",
      "    Range : 2500 ... 86553 =     10.000 ...   346.212 secs\n",
      "Ready.\n",
      "Opening raw data file data/hbn_preprocessed/43/43-raw.fif...\n",
      "    Range : 2500 ... 90604 =     10.000 ...   362.416 secs\n",
      "Ready.\n",
      "Opening raw data file data/hbn_preprocessed/44/44-raw.fif...\n",
      "    Range : 2500 ... 95413 =     10.000 ...   381.652 secs\n",
      "Ready.\n",
      "Opening raw data file data/hbn_preprocessed/45/45-raw.fif...\n",
      "    Range : 2500 ... 88577 =     10.000 ...   354.308 secs\n",
      "Ready.\n",
      "Opening raw data file data/hbn_preprocessed/46/46-raw.fif...\n",
      "    Range : 2500 ... 86241 =     10.000 ...   344.964 secs\n",
      "Ready.\n",
      "Opening raw data file data/hbn_preprocessed/47/47-raw.fif...\n",
      "    Range : 2500 ... 95901 =     10.000 ...   383.604 secs\n",
      "Ready.\n",
      "Opening raw data file data/hbn_preprocessed/48/48-raw.fif...\n",
      "    Range : 2500 ... 98091 =     10.000 ...   392.364 secs\n",
      "Ready.\n",
      "Opening raw data file data/hbn_preprocessed/49/49-raw.fif...\n",
      "    Range : 2500 ... 86517 =     10.000 ...   346.068 secs\n",
      "Ready.\n",
      "Opening raw data file data/hbn_preprocessed/50/50-raw.fif...\n",
      "    Range : 2500 ... 88890 =     10.000 ...   355.560 secs\n",
      "Ready.\n",
      "Opening raw data file data/hbn_preprocessed/51/51-raw.fif...\n",
      "    Range : 2500 ... 100867 =     10.000 ...   403.468 secs\n",
      "Ready.\n",
      "Opening raw data file data/hbn_preprocessed/52/52-raw.fif...\n",
      "    Range : 2500 ... 94389 =     10.000 ...   377.556 secs\n",
      "Ready.\n",
      "Opening raw data file data/hbn_preprocessed/53/53-raw.fif...\n",
      "    Range : 2500 ... 142857 =     10.000 ...   571.428 secs\n",
      "Ready.\n",
      "Opening raw data file data/hbn_preprocessed/54/54-raw.fif...\n",
      "    Range : 2500 ... 87677 =     10.000 ...   350.708 secs\n",
      "Ready.\n",
      "Opening raw data file data/hbn_preprocessed/55/55-raw.fif...\n",
      "    Range : 2500 ... 242731 =     10.000 ...   970.924 secs\n",
      "Ready.\n",
      "Opening raw data file data/hbn_preprocessed/56/56-raw.fif...\n",
      "    Range : 2500 ... 107039 =     10.000 ...   428.156 secs\n",
      "Ready.\n",
      "Opening raw data file data/hbn_preprocessed/57/57-raw.fif...\n",
      "    Range : 2500 ... 94677 =     10.000 ...   378.708 secs\n",
      "Ready.\n",
      "Opening raw data file data/hbn_preprocessed/58/58-raw.fif...\n",
      "    Range : 2500 ... 138501 =     10.000 ...   554.004 secs\n",
      "Ready.\n",
      "Opening raw data file data/hbn_preprocessed/59/59-raw.fif...\n",
      "    Range : 2500 ... 97988 =     10.000 ...   391.952 secs\n",
      "Ready.\n",
      "Opening raw data file data/hbn_preprocessed/60/60-raw.fif...\n",
      "    Range : 2500 ... 86403 =     10.000 ...   345.612 secs\n",
      "Ready.\n",
      "Opening raw data file data/hbn_preprocessed/61/61-raw.fif...\n",
      "    Range : 2500 ... 102713 =     10.000 ...   410.852 secs\n",
      "Ready.\n",
      "Opening raw data file data/hbn_preprocessed/62/62-raw.fif...\n",
      "    Range : 2500 ... 110815 =     10.000 ...   443.260 secs\n",
      "Ready.\n",
      "Opening raw data file data/hbn_preprocessed/63/63-raw.fif...\n",
      "    Range : 2500 ... 86715 =     10.000 ...   346.860 secs\n",
      "Ready.\n",
      "Opening raw data file data/hbn_preprocessed/64/64-raw.fif...\n",
      "    Range : 2500 ... 92428 =     10.000 ...   369.712 secs\n",
      "Ready.\n",
      "Opening raw data file data/hbn_preprocessed/65/65-raw.fif...\n",
      "    Range : 2500 ... 87191 =     10.000 ...   348.764 secs\n",
      "Ready.\n",
      "Opening raw data file data/hbn_preprocessed/66/66-raw.fif...\n",
      "    Range : 2500 ... 89965 =     10.000 ...   359.860 secs\n",
      "Ready.\n",
      "Opening raw data file data/hbn_preprocessed/67/67-raw.fif...\n",
      "    Range : 2500 ... 95225 =     10.000 ...   380.900 secs\n",
      "Ready.\n",
      "Opening raw data file data/hbn_preprocessed/68/68-raw.fif...\n",
      "    Range : 2500 ... 152927 =     10.000 ...   611.708 secs\n",
      "Ready.\n",
      "Opening raw data file data/hbn_preprocessed/69/69-raw.fif...\n",
      "    Range : 2500 ... 99189 =     10.000 ...   396.756 secs\n",
      "Ready.\n",
      "Opening raw data file data/hbn_preprocessed/70/70-raw.fif...\n",
      "    Range : 2500 ... 97024 =     10.000 ...   388.096 secs\n",
      "Ready.\n",
      "Opening raw data file data/hbn_preprocessed/71/71-raw.fif...\n",
      "    Range : 2500 ... 87629 =     10.000 ...   350.516 secs\n",
      "Ready.\n",
      "Opening raw data file data/hbn_preprocessed/72/72-raw.fif...\n",
      "    Range : 2500 ... 86817 =     10.000 ...   347.268 secs\n",
      "Ready.\n",
      "Opening raw data file data/hbn_preprocessed/73/73-raw.fif...\n",
      "    Range : 2500 ... 87429 =     10.000 ...   349.716 secs\n",
      "Ready.\n",
      "Opening raw data file data/hbn_preprocessed/74/74-raw.fif...\n",
      "    Range : 2500 ... 86678 =     10.000 ...   346.712 secs\n",
      "Ready.\n",
      "Opening raw data file data/hbn_preprocessed/75/75-raw.fif...\n",
      "    Range : 2500 ... 251785 =     10.000 ...  1007.140 secs\n",
      "Ready.\n",
      "Opening raw data file data/hbn_preprocessed/76/76-raw.fif...\n",
      "    Range : 2500 ... 212585 =     10.000 ...   850.340 secs\n",
      "Ready.\n",
      "Opening raw data file data/hbn_preprocessed/77/77-raw.fif...\n",
      "    Range : 2500 ... 85903 =     10.000 ...   343.612 secs\n",
      "Ready.\n",
      "Opening raw data file data/hbn_preprocessed/78/78-raw.fif...\n",
      "    Range : 2500 ... 88704 =     10.000 ...   354.816 secs\n",
      "Ready.\n",
      "Opening raw data file data/hbn_preprocessed/79/79-raw.fif...\n",
      "    Range : 2500 ... 93301 =     10.000 ...   373.204 secs\n",
      "Ready.\n",
      "Opening raw data file data/hbn_preprocessed/80/80-raw.fif...\n",
      "    Range : 2500 ... 106439 =     10.000 ...   425.756 secs\n",
      "Ready.\n",
      "Opening raw data file data/hbn_preprocessed/81/81-raw.fif...\n",
      "    Range : 2500 ... 88153 =     10.000 ...   352.612 secs\n",
      "Ready.\n",
      "Opening raw data file data/hbn_preprocessed/82/82-raw.fif...\n",
      "    Range : 2500 ... 109651 =     10.000 ...   438.604 secs\n",
      "Ready.\n",
      "Opening raw data file data/hbn_preprocessed/83/83-raw.fif...\n",
      "    Range : 2500 ... 100489 =     10.000 ...   401.956 secs\n",
      "Ready.\n",
      "Opening raw data file data/hbn_preprocessed/84/84-raw.fif...\n",
      "    Range : 2500 ... 96377 =     10.000 ...   385.508 secs\n",
      "Ready.\n",
      "Opening raw data file data/hbn_preprocessed/85/85-raw.fif...\n",
      "    Range : 2500 ... 139026 =     10.000 ...   556.104 secs\n",
      "Ready.\n",
      "Opening raw data file data/hbn_preprocessed/86/86-raw.fif...\n",
      "    Range : 2500 ... 103450 =     10.000 ...   413.800 secs\n",
      "Ready.\n",
      "Opening raw data file data/hbn_preprocessed/87/87-raw.fif...\n",
      "    Range : 2500 ... 101939 =     10.000 ...   407.756 secs\n",
      "Ready.\n",
      "Opening raw data file data/hbn_preprocessed/88/88-raw.fif...\n",
      "    Range : 2500 ... 91652 =     10.000 ...   366.608 secs\n",
      "Ready.\n",
      "Opening raw data file data/hbn_preprocessed/89/89-raw.fif...\n",
      "    Range : 2500 ... 91115 =     10.000 ...   364.460 secs\n",
      "Ready.\n",
      "Opening raw data file data/hbn_preprocessed/90/90-raw.fif...\n",
      "    Range : 2500 ... 116338 =     10.000 ...   465.352 secs\n",
      "Ready.\n",
      "Opening raw data file data/hbn_preprocessed/91/91-raw.fif...\n",
      "    Range : 2500 ... 129036 =     10.000 ...   516.144 secs\n",
      "Ready.\n",
      "Opening raw data file data/hbn_preprocessed/92/92-raw.fif...\n",
      "    Range : 2500 ... 86529 =     10.000 ...   346.116 secs\n",
      "Ready.\n",
      "Opening raw data file data/hbn_preprocessed/93/93-raw.fif...\n",
      "    Range : 2500 ... 87127 =     10.000 ...   348.508 secs\n",
      "Ready.\n",
      "Opening raw data file data/hbn_preprocessed/94/94-raw.fif...\n",
      "    Range : 2500 ... 133784 =     10.000 ...   535.136 secs\n",
      "Ready.\n",
      "Opening raw data file data/hbn_preprocessed/95/95-raw.fif...\n",
      "    Range : 2500 ... 86355 =     10.000 ...   345.420 secs\n",
      "Ready.\n",
      "Opening raw data file data/hbn_preprocessed/96/96-raw.fif...\n",
      "    Range : 2500 ... 126101 =     10.000 ...   504.404 secs\n",
      "Ready.\n",
      "Opening raw data file data/hbn_preprocessed/97/97-raw.fif...\n",
      "    Range : 2500 ... 87728 =     10.000 ...   350.912 secs\n",
      "Ready.\n",
      "Opening raw data file data/hbn_preprocessed/98/98-raw.fif...\n",
      "    Range : 2500 ... 176103 =     10.000 ...   704.412 secs\n",
      "Ready.\n",
      "Opening raw data file data/hbn_preprocessed/99/99-raw.fif...\n",
      "    Range : 2500 ... 119507 =     10.000 ...   478.028 secs\n",
      "Ready.\n",
      "Opening raw data file data/hbn_preprocessed/100/100-raw.fif...\n",
      "    Range : 2500 ... 100338 =     10.000 ...   401.352 secs\n",
      "Ready.\n",
      "Opening raw data file data/hbn_preprocessed/101/101-raw.fif...\n",
      "    Range : 2500 ... 87853 =     10.000 ...   351.412 secs\n",
      "Ready.\n",
      "Opening raw data file data/hbn_preprocessed/102/102-raw.fif...\n",
      "    Range : 2500 ... 99525 =     10.000 ...   398.100 secs\n",
      "Ready.\n",
      "Opening raw data file data/hbn_preprocessed/103/103-raw.fif...\n",
      "    Range : 2500 ... 147762 =     10.000 ...   591.048 secs\n",
      "Ready.\n",
      "Opening raw data file data/hbn_preprocessed/104/104-raw.fif...\n",
      "    Range : 2500 ... 102689 =     10.000 ...   410.756 secs\n",
      "Ready.\n",
      "Opening raw data file data/hbn_preprocessed/105/105-raw.fif...\n",
      "    Range : 2500 ... 92389 =     10.000 ...   369.556 secs\n",
      "Ready.\n",
      "Opening raw data file data/hbn_preprocessed/106/106-raw.fif...\n",
      "    Range : 2500 ... 111302 =     10.000 ...   445.208 secs\n",
      "Ready.\n",
      "Opening raw data file data/hbn_preprocessed/107/107-raw.fif...\n",
      "    Range : 2500 ... 102263 =     10.000 ...   409.052 secs\n",
      "Ready.\n",
      "Opening raw data file data/hbn_preprocessed/108/108-raw.fif...\n",
      "    Range : 2500 ... 98263 =     10.000 ...   393.052 secs\n",
      "Ready.\n",
      "Opening raw data file data/hbn_preprocessed/109/109-raw.fif...\n",
      "    Range : 2500 ... 132299 =     10.000 ...   529.196 secs\n",
      "Ready.\n",
      "Opening raw data file data/hbn_preprocessed/110/110-raw.fif...\n",
      "    Range : 2500 ... 86177 =     10.000 ...   344.708 secs\n",
      "Ready.\n",
      "Opening raw data file data/hbn_preprocessed/111/111-raw.fif...\n",
      "    Range : 2500 ... 97501 =     10.000 ...   390.004 secs\n",
      "Ready.\n",
      "Opening raw data file data/hbn_preprocessed/112/112-raw.fif...\n",
      "    Range : 2500 ... 85816 =     10.000 ...   343.264 secs\n",
      "Ready.\n",
      "Opening raw data file data/hbn_preprocessed/113/113-raw.fif...\n",
      "    Range : 2500 ... 148505 =     10.000 ...   594.020 secs\n",
      "Ready.\n",
      "Opening raw data file data/hbn_preprocessed/114/114-raw.fif...\n",
      "    Range : 2500 ... 90540 =     10.000 ...   362.160 secs\n",
      "Ready.\n",
      "Opening raw data file data/hbn_preprocessed/115/115-raw.fif...\n",
      "    Range : 2500 ... 88866 =     10.000 ...   355.464 secs\n",
      "Ready.\n",
      "Opening raw data file data/hbn_preprocessed/116/116-raw.fif...\n",
      "    Range : 2500 ... 90303 =     10.000 ...   361.212 secs\n",
      "Ready.\n",
      "Opening raw data file data/hbn_preprocessed/117/117-raw.fif...\n",
      "    Range : 2500 ... 87878 =     10.000 ...   351.512 secs\n",
      "Ready.\n",
      "Opening raw data file data/hbn_preprocessed/118/118-raw.fif...\n",
      "    Range : 2500 ... 98689 =     10.000 ...   394.756 secs\n",
      "Ready.\n",
      "Opening raw data file data/hbn_preprocessed/119/119-raw.fif...\n",
      "    Range : 2500 ... 251603 =     10.000 ...  1006.412 secs\n",
      "Ready.\n",
      "Opening raw data file data/hbn_preprocessed/120/120-raw.fif...\n",
      "    Range : 2500 ... 87291 =     10.000 ...   349.164 secs\n",
      "Ready.\n",
      "Opening raw data file data/hbn_preprocessed/121/121-raw.fif...\n",
      "    Range : 2500 ... 97013 =     10.000 ...   388.052 secs\n",
      "Ready.\n",
      "Opening raw data file data/hbn_preprocessed/122/122-raw.fif...\n",
      "    Range : 2500 ... 87166 =     10.000 ...   348.664 secs\n",
      "Ready.\n",
      "Opening raw data file data/hbn_preprocessed/123/123-raw.fif...\n",
      "    Range : 2500 ... 95775 =     10.000 ...   383.100 secs\n",
      "Ready.\n",
      "Opening raw data file data/hbn_preprocessed/124/124-raw.fif...\n",
      "    Range : 2500 ... 103251 =     10.000 ...   413.004 secs\n",
      "Ready.\n",
      "Opening raw data file data/hbn_preprocessed/125/125-raw.fif...\n",
      "    Range : 2500 ... 86590 =     10.000 ...   346.360 secs\n",
      "Ready.\n",
      "Opening raw data file data/hbn_preprocessed/126/126-raw.fif...\n",
      "    Range : 2500 ... 108751 =     10.000 ...   435.004 secs\n",
      "Ready.\n",
      "Opening raw data file data/hbn_preprocessed/127/127-raw.fif...\n",
      "    Range : 2500 ... 88065 =     10.000 ...   352.260 secs\n",
      "Ready.\n",
      "Opening raw data file data/hbn_preprocessed/128/128-raw.fif...\n",
      "    Range : 2500 ... 94501 =     10.000 ...   378.004 secs\n",
      "Ready.\n",
      "Opening raw data file data/hbn_preprocessed/129/129-raw.fif...\n",
      "    Range : 2500 ... 95365 =     10.000 ...   381.460 secs\n",
      "Ready.\n",
      "Opening raw data file data/hbn_preprocessed/130/130-raw.fif...\n",
      "    Range : 2500 ... 90115 =     10.000 ...   360.460 secs\n",
      "Ready.\n",
      "Opening raw data file data/hbn_preprocessed/131/131-raw.fif...\n",
      "    Range : 2500 ... 102526 =     10.000 ...   410.104 secs\n",
      "Ready.\n",
      "Opening raw data file data/hbn_preprocessed/132/132-raw.fif...\n",
      "    Range : 2500 ... 104977 =     10.000 ...   419.908 secs\n",
      "Ready.\n",
      "Opening raw data file data/hbn_preprocessed/133/133-raw.fif...\n",
      "    Range : 2500 ... 178455 =     10.000 ...   713.820 secs\n",
      "Ready.\n",
      "Opening raw data file data/hbn_preprocessed/134/134-raw.fif...\n",
      "    Range : 2500 ... 86779 =     10.000 ...   347.116 secs\n",
      "Ready.\n",
      "Opening raw data file data/hbn_preprocessed/135/135-raw.fif...\n",
      "    Range : 2500 ... 90491 =     10.000 ...   361.964 secs\n",
      "Ready.\n",
      "Opening raw data file data/hbn_preprocessed/136/136-raw.fif...\n",
      "    Range : 2500 ... 87951 =     10.000 ...   351.804 secs\n",
      "Ready.\n",
      "Opening raw data file data/hbn_preprocessed/137/137-raw.fif...\n",
      "    Range : 2500 ... 88601 =     10.000 ...   354.404 secs\n",
      "Ready.\n",
      "Opening raw data file data/hbn_preprocessed/138/138-raw.fif...\n",
      "    Range : 2500 ... 89580 =     10.000 ...   358.320 secs\n",
      "Ready.\n",
      "Opening raw data file data/hbn_preprocessed/139/139-raw.fif...\n",
      "    Range : 2500 ... 115628 =     10.000 ...   462.512 secs\n",
      "Ready.\n",
      "Opening raw data file data/hbn_preprocessed/140/140-raw.fif...\n",
      "    Range : 2500 ... 93275 =     10.000 ...   373.100 secs\n",
      "Ready.\n",
      "Opening raw data file data/hbn_preprocessed/141/141-raw.fif...\n",
      "    Range : 2500 ... 117901 =     10.000 ...   471.604 secs\n",
      "Ready.\n",
      "Opening raw data file data/hbn_preprocessed/142/142-raw.fif...\n",
      "    Range : 2500 ... 88151 =     10.000 ...   352.604 secs\n",
      "Ready.\n",
      "Opening raw data file data/hbn_preprocessed/143/143-raw.fif...\n",
      "    Range : 2500 ... 88743 =     10.000 ...   354.972 secs\n",
      "Ready.\n",
      "Opening raw data file data/hbn_preprocessed/144/144-raw.fif...\n",
      "    Range : 2500 ... 89576 =     10.000 ...   358.304 secs\n",
      "Ready.\n",
      "Opening raw data file data/hbn_preprocessed/145/145-raw.fif...\n",
      "    Range : 2500 ... 88626 =     10.000 ...   354.504 secs\n",
      "Ready.\n",
      "Opening raw data file data/hbn_preprocessed/146/146-raw.fif...\n",
      "    Range : 2500 ... 89363 =     10.000 ...   357.452 secs\n",
      "Ready.\n",
      "Opening raw data file data/hbn_preprocessed/147/147-raw.fif...\n",
      "    Range : 2500 ... 119801 =     10.000 ...   479.204 secs\n",
      "Ready.\n",
      "Opening raw data file data/hbn_preprocessed/148/148-raw.fif...\n",
      "    Range : 2500 ... 109466 =     10.000 ...   437.864 secs\n",
      "Ready.\n",
      "Opening raw data file data/hbn_preprocessed/149/149-raw.fif...\n",
      "    Range : 2500 ... 116989 =     10.000 ...   467.956 secs\n",
      "Ready.\n",
      "Opening raw data file data/hbn_preprocessed/150/150-raw.fif...\n",
      "    Range : 2500 ... 87805 =     10.000 ...   351.220 secs\n",
      "Ready.\n",
      "Opening raw data file data/hbn_preprocessed/151/151-raw.fif...\n",
      "    Range : 2500 ... 116963 =     10.000 ...   467.852 secs\n",
      "Ready.\n",
      "Opening raw data file data/hbn_preprocessed/152/152-raw.fif...\n",
      "    Range : 2500 ... 104951 =     10.000 ...   419.804 secs\n",
      "Ready.\n",
      "Opening raw data file data/hbn_preprocessed/153/153-raw.fif...\n",
      "    Range : 2500 ... 89637 =     10.000 ...   358.548 secs\n",
      "Ready.\n",
      "Opening raw data file data/hbn_preprocessed/154/154-raw.fif...\n",
      "    Range : 2500 ... 100951 =     10.000 ...   403.804 secs\n",
      "Ready.\n",
      "Opening raw data file data/hbn_preprocessed/155/155-raw.fif...\n",
      "    Range : 2500 ... 98951 =     10.000 ...   395.804 secs\n",
      "Ready.\n",
      "Opening raw data file data/hbn_preprocessed/156/156-raw.fif...\n",
      "    Range : 2500 ... 91939 =     10.000 ...   367.756 secs\n",
      "Ready.\n",
      "Opening raw data file data/hbn_preprocessed/157/157-raw.fif...\n",
      "    Range : 2500 ... 103039 =     10.000 ...   412.156 secs\n",
      "Ready.\n",
      "Opening raw data file data/hbn_preprocessed/158/158-raw.fif...\n",
      "    Range : 2500 ... 99591 =     10.000 ...   398.364 secs\n",
      "Ready.\n",
      "Opening raw data file data/hbn_preprocessed/159/159-raw.fif...\n",
      "    Range : 2500 ... 99726 =     10.000 ...   398.904 secs\n",
      "Ready.\n",
      "Opening raw data file data/hbn_preprocessed/160/160-raw.fif...\n",
      "    Range : 2500 ... 90766 =     10.000 ...   363.064 secs\n",
      "Ready.\n",
      "Opening raw data file data/hbn_preprocessed/161/161-raw.fif...\n",
      "    Range : 2500 ... 86778 =     10.000 ...   347.112 secs\n",
      "Ready.\n",
      "Opening raw data file data/hbn_preprocessed/162/162-raw.fif...\n",
      "    Range : 2500 ... 108453 =     10.000 ...   433.812 secs\n",
      "Ready.\n",
      "Opening raw data file data/hbn_preprocessed/163/163-raw.fif...\n",
      "    Range : 2500 ... 111037 =     10.000 ...   444.148 secs\n",
      "Ready.\n",
      "Opening raw data file data/hbn_preprocessed/164/164-raw.fif...\n",
      "    Range : 2500 ... 131303 =     10.000 ...   525.212 secs\n",
      "Ready.\n",
      "Opening raw data file data/hbn_preprocessed/165/165-raw.fif...\n",
      "    Range : 2500 ... 85967 =     10.000 ...   343.868 secs\n",
      "Ready.\n",
      "Opening raw data file data/hbn_preprocessed/166/166-raw.fif...\n",
      "    Range : 2500 ... 94776 =     10.000 ...   379.104 secs\n",
      "Ready.\n",
      "Opening raw data file data/hbn_preprocessed/167/167-raw.fif...\n",
      "    Range : 2500 ... 86480 =     10.000 ...   345.920 secs\n",
      "Ready.\n",
      "Opening raw data file data/hbn_preprocessed/168/168-raw.fif...\n",
      "    Range : 2500 ... 126331 =     10.000 ...   505.324 secs\n",
      "Ready.\n",
      "Opening raw data file data/hbn_preprocessed/169/169-raw.fif...\n",
      "    Range : 2500 ... 90513 =     10.000 ...   362.052 secs\n",
      "Ready.\n",
      "Opening raw data file data/hbn_preprocessed/170/170-raw.fif...\n",
      "    Range : 2500 ... 89162 =     10.000 ...   356.648 secs\n",
      "Ready.\n",
      "Opening raw data file data/hbn_preprocessed/171/171-raw.fif...\n",
      "    Range : 2500 ... 90151 =     10.000 ...   360.604 secs\n",
      "Ready.\n",
      "Opening raw data file data/hbn_preprocessed/172/172-raw.fif...\n",
      "    Range : 2500 ... 97951 =     10.000 ...   391.804 secs\n",
      "Ready.\n",
      "Opening raw data file data/hbn_preprocessed/173/173-raw.fif...\n",
      "    Range : 2500 ... 89888 =     10.000 ...   359.552 secs\n",
      "Ready.\n",
      "Opening raw data file data/hbn_preprocessed/174/174-raw.fif...\n",
      "    Range : 2500 ... 88692 =     10.000 ...   354.768 secs\n",
      "Ready.\n",
      "Opening raw data file data/hbn_preprocessed/175/175-raw.fif...\n",
      "    Range : 2500 ... 88939 =     10.000 ...   355.756 secs\n",
      "Ready.\n",
      "Opening raw data file data/hbn_preprocessed/176/176-raw.fif...\n",
      "    Range : 2500 ... 88312 =     10.000 ...   353.248 secs\n",
      "Ready.\n",
      "Opening raw data file data/hbn_preprocessed/177/177-raw.fif...\n",
      "    Range : 2500 ... 92650 =     10.000 ...   370.600 secs\n",
      "Ready.\n",
      "Opening raw data file data/hbn_preprocessed/178/178-raw.fif...\n",
      "    Range : 2500 ... 89663 =     10.000 ...   358.652 secs\n",
      "Ready.\n",
      "Opening raw data file data/hbn_preprocessed/179/179-raw.fif...\n",
      "    Range : 2500 ... 85467 =     10.000 ...   341.868 secs\n",
      "Ready.\n",
      "Opening raw data file data/hbn_preprocessed/180/180-raw.fif...\n",
      "    Range : 2500 ... 89989 =     10.000 ...   359.956 secs\n",
      "Ready.\n",
      "Opening raw data file data/hbn_preprocessed/181/181-raw.fif...\n",
      "    Range : 2500 ... 89951 =     10.000 ...   359.804 secs\n",
      "Ready.\n",
      "Opening raw data file data/hbn_preprocessed/182/182-raw.fif...\n",
      "    Range : 2500 ... 93863 =     10.000 ...   375.452 secs\n",
      "Ready.\n",
      "Opening raw data file data/hbn_preprocessed/183/183-raw.fif...\n",
      "    Range : 2500 ... 90126 =     10.000 ...   360.504 secs\n",
      "Ready.\n",
      "Opening raw data file data/hbn_preprocessed/184/184-raw.fif...\n",
      "    Range : 2500 ... 115115 =     10.000 ...   460.460 secs\n",
      "Ready.\n",
      "Opening raw data file data/hbn_preprocessed/185/185-raw.fif...\n",
      "    Range : 2500 ... 102589 =     10.000 ...   410.356 secs\n",
      "Ready.\n",
      "Opening raw data file data/hbn_preprocessed/186/186-raw.fif...\n",
      "    Range : 2500 ... 88117 =     10.000 ...   352.468 secs\n",
      "Ready.\n",
      "Opening raw data file data/hbn_preprocessed/187/187-raw.fif...\n",
      "    Range : 2500 ... 109551 =     10.000 ...   438.204 secs\n",
      "Ready.\n",
      "Opening raw data file data/hbn_preprocessed/188/188-raw.fif...\n",
      "    Range : 2500 ... 88438 =     10.000 ...   353.752 secs\n",
      "Ready.\n",
      "Opening raw data file data/hbn_preprocessed/189/189-raw.fif...\n",
      "    Range : 2500 ... 89529 =     10.000 ...   358.116 secs\n",
      "Ready.\n",
      "Opening raw data file data/hbn_preprocessed/190/190-raw.fif...\n",
      "    Range : 2500 ... 87030 =     10.000 ...   348.120 secs\n",
      "Ready.\n",
      "Opening raw data file data/hbn_preprocessed/191/191-raw.fif...\n",
      "    Range : 2500 ... 94475 =     10.000 ...   377.900 secs\n",
      "Ready.\n",
      "Opening raw data file data/hbn_preprocessed/192/192-raw.fif...\n",
      "    Range : 2500 ... 98513 =     10.000 ...   394.052 secs\n",
      "Ready.\n",
      "Opening raw data file data/hbn_preprocessed/193/193-raw.fif...\n",
      "    Range : 2500 ... 86930 =     10.000 ...   347.720 secs\n",
      "Ready.\n",
      "Opening raw data file data/hbn_preprocessed/194/194-raw.fif...\n",
      "    Range : 2500 ... 115977 =     10.000 ...   463.908 secs\n",
      "Ready.\n",
      "Opening raw data file data/hbn_preprocessed/195/195-raw.fif...\n",
      "    Range : 2500 ... 161383 =     10.000 ...   645.532 secs\n",
      "Ready.\n",
      "Opening raw data file data/hbn_preprocessed/196/196-raw.fif...\n",
      "    Range : 2500 ... 105526 =     10.000 ...   422.104 secs\n",
      "Ready.\n",
      "Opening raw data file data/hbn_preprocessed/197/197-raw.fif...\n",
      "    Range : 2500 ... 114526 =     10.000 ...   458.104 secs\n",
      "Ready.\n",
      "Opening raw data file data/hbn_preprocessed/198/198-raw.fif...\n",
      "    Range : 2500 ... 89663 =     10.000 ...   358.652 secs\n",
      "Ready.\n",
      "Opening raw data file data/hbn_preprocessed/199/199-raw.fif...\n",
      "    Range : 2500 ... 87343 =     10.000 ...   349.372 secs\n",
      "Ready.\n",
      "Opening raw data file data/hbn_preprocessed/200/200-raw.fif...\n",
      "    Range : 2500 ... 91363 =     10.000 ...   365.452 secs\n",
      "Ready.\n",
      "Opening raw data file data/hbn_preprocessed/201/201-raw.fif...\n",
      "    Range : 2500 ... 120739 =     10.000 ...   482.956 secs\n",
      "Ready.\n",
      "Opening raw data file data/hbn_preprocessed/202/202-raw.fif...\n",
      "    Range : 2500 ... 90587 =     10.000 ...   362.348 secs\n",
      "Ready.\n",
      "Opening raw data file data/hbn_preprocessed/203/203-raw.fif...\n",
      "    Range : 2500 ... 88713 =     10.000 ...   354.852 secs\n",
      "Ready.\n",
      "Opening raw data file data/hbn_preprocessed/204/204-raw.fif...\n",
      "    Range : 2500 ... 137327 =     10.000 ...   549.308 secs\n",
      "Ready.\n",
      "Opening raw data file data/hbn_preprocessed/205/205-raw.fif...\n",
      "    Range : 2500 ... 114201 =     10.000 ...   456.804 secs\n",
      "Ready.\n",
      "Opening raw data file data/hbn_preprocessed/206/206-raw.fif...\n",
      "    Range : 2500 ... 87950 =     10.000 ...   351.800 secs\n",
      "Ready.\n",
      "Opening raw data file data/hbn_preprocessed/207/207-raw.fif...\n",
      "    Range : 2500 ... 87938 =     10.000 ...   351.752 secs\n",
      "Ready.\n",
      "Opening raw data file data/hbn_preprocessed/208/208-raw.fif...\n",
      "    Range : 2500 ... 87041 =     10.000 ...   348.164 secs\n",
      "Ready.\n",
      "Opening raw data file data/hbn_preprocessed/209/209-raw.fif...\n",
      "    Range : 2500 ... 103451 =     10.000 ...   413.804 secs\n",
      "Ready.\n",
      "Opening raw data file data/hbn_preprocessed/210/210-raw.fif...\n",
      "    Range : 2500 ... 88193 =     10.000 ...   352.772 secs\n",
      "Ready.\n",
      "Opening raw data file data/hbn_preprocessed/211/211-raw.fif...\n",
      "    Range : 2500 ... 87803 =     10.000 ...   351.212 secs\n",
      "Ready.\n",
      "Opening raw data file data/hbn_preprocessed/212/212-raw.fif...\n",
      "    Range : 2500 ... 107754 =     10.000 ...   431.016 secs\n",
      "Ready.\n",
      "Opening raw data file data/hbn_preprocessed/213/213-raw.fif...\n",
      "    Range : 2500 ... 86055 =     10.000 ...   344.220 secs\n",
      "Ready.\n",
      "Opening raw data file data/hbn_preprocessed/214/214-raw.fif...\n",
      "    Range : 2500 ... 92025 =     10.000 ...   368.100 secs\n",
      "Ready.\n",
      "Opening raw data file data/hbn_preprocessed/215/215-raw.fif...\n",
      "    Range : 2500 ... 87650 =     10.000 ...   350.600 secs\n",
      "Ready.\n",
      "Opening raw data file data/hbn_preprocessed/216/216-raw.fif...\n",
      "    Range : 2500 ... 98030 =     10.000 ...   392.120 secs\n",
      "Ready.\n",
      "Opening raw data file data/hbn_preprocessed/217/217-raw.fif...\n",
      "    Range : 2500 ... 85579 =     10.000 ...   342.316 secs\n",
      "Ready.\n",
      "Opening raw data file data/hbn_preprocessed/218/218-raw.fif...\n",
      "    Range : 2500 ... 86731 =     10.000 ...   346.924 secs\n",
      "Ready.\n",
      "Opening raw data file data/hbn_preprocessed/219/219-raw.fif...\n",
      "    Range : 2500 ... 93739 =     10.000 ...   374.956 secs\n",
      "Ready.\n",
      "Opening raw data file data/hbn_preprocessed/220/220-raw.fif...\n",
      "    Range : 2500 ... 100559 =     10.000 ...   402.236 secs\n",
      "Ready.\n",
      "Opening raw data file data/hbn_preprocessed/221/221-raw.fif...\n",
      "    Range : 2500 ... 90688 =     10.000 ...   362.752 secs\n",
      "Ready.\n",
      "Opening raw data file data/hbn_preprocessed/222/222-raw.fif...\n",
      "    Range : 2500 ... 89791 =     10.000 ...   359.164 secs\n",
      "Ready.\n",
      "Opening raw data file data/hbn_preprocessed/223/223-raw.fif...\n",
      "    Range : 2500 ... 98179 =     10.000 ...   392.716 secs\n",
      "Ready.\n",
      "Opening raw data file data/hbn_preprocessed/224/224-raw.fif...\n",
      "    Range : 2500 ... 88088 =     10.000 ...   352.352 secs\n",
      "Ready.\n",
      "Opening raw data file data/hbn_preprocessed/225/225-raw.fif...\n",
      "    Range : 2500 ... 105851 =     10.000 ...   423.404 secs\n",
      "Ready.\n",
      "Opening raw data file data/hbn_preprocessed/226/226-raw.fif...\n",
      "    Range : 2500 ... 90863 =     10.000 ...   363.452 secs\n",
      "Ready.\n",
      "Opening raw data file data/hbn_preprocessed/227/227-raw.fif...\n",
      "    Range : 2500 ... 213783 =     10.000 ...   855.132 secs\n",
      "Ready.\n",
      "Opening raw data file data/hbn_preprocessed/228/228-raw.fif...\n",
      "    Range : 2500 ... 91125 =     10.000 ...   364.500 secs\n",
      "Ready.\n",
      "Opening raw data file data/hbn_preprocessed/229/229-raw.fif...\n",
      "    Range : 2500 ... 92439 =     10.000 ...   369.756 secs\n",
      "Ready.\n",
      "Opening raw data file data/hbn_preprocessed/230/230-raw.fif...\n",
      "    Range : 2500 ... 107927 =     10.000 ...   431.708 secs\n",
      "Ready.\n",
      "Opening raw data file data/hbn_preprocessed/231/231-raw.fif...\n",
      "    Range : 2500 ... 156961 =     10.000 ...   627.844 secs\n",
      "Ready.\n",
      "Opening raw data file data/hbn_preprocessed/232/232-raw.fif...\n",
      "    Range : 2500 ... 100601 =     10.000 ...   402.404 secs\n",
      "Ready.\n",
      "Opening raw data file data/hbn_preprocessed/233/233-raw.fif...\n",
      "    Range : 2500 ... 143726 =     10.000 ...   574.904 secs\n",
      "Ready.\n",
      "Opening raw data file data/hbn_preprocessed/234/234-raw.fif...\n",
      "    Range : 2500 ... 88050 =     10.000 ...   352.200 secs\n",
      "Ready.\n",
      "Opening raw data file data/hbn_preprocessed/235/235-raw.fif...\n",
      "    Range : 2500 ... 103638 =     10.000 ...   414.552 secs\n",
      "Ready.\n",
      "Opening raw data file data/hbn_preprocessed/236/236-raw.fif...\n",
      "    Range : 2500 ... 91917 =     10.000 ...   367.668 secs\n",
      "Ready.\n",
      "Opening raw data file data/hbn_preprocessed/237/237-raw.fif...\n",
      "    Range : 2500 ... 86193 =     10.000 ...   344.772 secs\n",
      "Ready.\n",
      "Opening raw data file data/hbn_preprocessed/238/238-raw.fif...\n",
      "    Range : 2500 ... 86219 =     10.000 ...   344.876 secs\n",
      "Ready.\n",
      "Opening raw data file data/hbn_preprocessed/239/239-raw.fif...\n",
      "    Range : 2500 ... 86804 =     10.000 ...   347.216 secs\n",
      "Ready.\n",
      "Opening raw data file data/hbn_preprocessed/240/240-raw.fif...\n",
      "    Range : 2500 ... 87005 =     10.000 ...   348.020 secs\n",
      "Ready.\n",
      "Opening raw data file data/hbn_preprocessed/241/241-raw.fif...\n",
      "    Range : 2500 ... 86855 =     10.000 ...   347.420 secs\n",
      "Ready.\n",
      "Opening raw data file data/hbn_preprocessed/242/242-raw.fif...\n",
      "    Range : 2500 ... 85693 =     10.000 ...   342.772 secs\n",
      "Ready.\n",
      "Opening raw data file data/hbn_preprocessed/243/243-raw.fif...\n",
      "    Range : 2500 ... 102751 =     10.000 ...   411.004 secs\n",
      "Ready.\n",
      "Opening raw data file data/hbn_preprocessed/244/244-raw.fif...\n",
      "    Range : 2500 ... 97175 =     10.000 ...   388.700 secs\n",
      "Ready.\n",
      "Opening raw data file data/hbn_preprocessed/245/245-raw.fif...\n",
      "    Range : 2500 ... 86142 =     10.000 ...   344.568 secs\n",
      "Ready.\n",
      "Opening raw data file data/hbn_preprocessed/246/246-raw.fif...\n",
      "    Range : 2500 ... 142123 =     10.000 ...   568.492 secs\n",
      "Ready.\n",
      "Opening raw data file data/hbn_preprocessed/247/247-raw.fif...\n",
      "    Range : 2500 ... 90563 =     10.000 ...   362.252 secs\n",
      "Ready.\n",
      "Opening raw data file data/hbn_preprocessed/248/248-raw.fif...\n",
      "    Range : 2500 ... 88188 =     10.000 ...   352.752 secs\n",
      "Ready.\n",
      "Opening raw data file data/hbn_preprocessed/249/249-raw.fif...\n",
      "    Range : 2500 ... 86726 =     10.000 ...   346.904 secs\n",
      "Ready.\n",
      "Opening raw data file data/hbn_preprocessed/250/250-raw.fif...\n",
      "    Range : 2500 ... 87889 =     10.000 ...   351.556 secs\n",
      "Ready.\n",
      "Opening raw data file data/hbn_preprocessed/251/251-raw.fif...\n",
      "    Range : 2500 ... 96667 =     10.000 ...   386.668 secs\n",
      "Ready.\n",
      "Opening raw data file data/hbn_preprocessed/252/252-raw.fif...\n",
      "    Range : 2500 ... 96613 =     10.000 ...   386.452 secs\n",
      "Ready.\n",
      "Opening raw data file data/hbn_preprocessed/253/253-raw.fif...\n",
      "    Range : 2500 ... 88613 =     10.000 ...   354.452 secs\n",
      "Ready.\n",
      "Opening raw data file data/hbn_preprocessed/254/254-raw.fif...\n",
      "    Range : 2500 ... 110676 =     10.000 ...   442.704 secs\n",
      "Ready.\n",
      "Opening raw data file data/hbn_preprocessed/255/255-raw.fif...\n",
      "    Range : 2500 ... 85255 =     10.000 ...   341.020 secs\n",
      "Ready.\n",
      "Opening raw data file data/hbn_preprocessed/256/256-raw.fif...\n",
      "    Range : 2500 ... 93476 =     10.000 ...   373.904 secs\n",
      "Ready.\n",
      "Opening raw data file data/hbn_preprocessed/257/257-raw.fif...\n",
      "    Range : 2500 ... 86317 =     10.000 ...   345.268 secs\n",
      "Ready.\n",
      "Opening raw data file data/hbn_preprocessed/258/258-raw.fif...\n",
      "    Range : 2500 ... 86605 =     10.000 ...   346.420 secs\n",
      "Ready.\n",
      "Opening raw data file data/hbn_preprocessed/259/259-raw.fif...\n",
      "    Range : 2500 ... 85367 =     10.000 ...   341.468 secs\n",
      "Ready.\n",
      "Opening raw data file data/hbn_preprocessed/260/260-raw.fif...\n",
      "    Range : 2500 ... 112051 =     10.000 ...   448.204 secs\n",
      "Ready.\n",
      "Opening raw data file data/hbn_preprocessed/261/261-raw.fif...\n",
      "    Range : 2500 ... 106477 =     10.000 ...   425.908 secs\n",
      "Ready.\n",
      "Opening raw data file data/hbn_preprocessed/262/262-raw.fif...\n",
      "    Range : 2500 ... 108401 =     10.000 ...   433.604 secs\n",
      "Ready.\n",
      "Opening raw data file data/hbn_preprocessed/263/263-raw.fif...\n",
      "    Range : 2500 ... 105275 =     10.000 ...   421.100 secs\n",
      "Ready.\n",
      "Opening raw data file data/hbn_preprocessed/264/264-raw.fif...\n",
      "    Range : 2500 ... 87142 =     10.000 ...   348.568 secs\n",
      "Ready.\n",
      "Opening raw data file data/hbn_preprocessed/265/265-raw.fif...\n",
      "    Range : 2500 ... 88475 =     10.000 ...   353.900 secs\n",
      "Ready.\n",
      "Opening raw data file data/hbn_preprocessed/266/266-raw.fif...\n",
      "    Range : 2500 ... 87093 =     10.000 ...   348.372 secs\n",
      "Ready.\n",
      "Opening raw data file data/hbn_preprocessed/267/267-raw.fif...\n",
      "    Range : 2500 ... 103051 =     10.000 ...   412.204 secs\n",
      "Ready.\n",
      "Opening raw data file data/hbn_preprocessed/268/268-raw.fif...\n",
      "    Range : 2500 ... 106613 =     10.000 ...   426.452 secs\n",
      "Ready.\n",
      "Opening raw data file data/hbn_preprocessed/269/269-raw.fif...\n",
      "    Range : 2500 ... 88456 =     10.000 ...   353.824 secs\n",
      "Ready.\n",
      "Opening raw data file data/hbn_preprocessed/270/270-raw.fif...\n",
      "    Range : 2500 ... 93238 =     10.000 ...   372.952 secs\n",
      "Ready.\n"
     ]
    }
   ],
   "source": [
    "loaded_dataset = load_concat_dataset(path='data/hbn_preprocessed', preload=False)\n",
    "all_ds = loaded_dataset"
   ]
  },
  {
   "cell_type": "code",
   "execution_count": 7,
   "metadata": {},
   "outputs": [
    {
     "data": {
      "text/plain": [
       "task             RestingState\n",
       "session                      \n",
       "run                          \n",
       "subject          NDARRD326KB9\n",
       "sfreq                     500\n",
       "age                   13.0092\n",
       "sex                         F\n",
       "ehq_total               57.83\n",
       "p_factor               -0.648\n",
       "attention              -0.055\n",
       "internalizing          -0.051\n",
       "externalizing          -0.109\n",
       "dtype: object"
      ]
     },
     "execution_count": 7,
     "metadata": {},
     "output_type": "execute_result"
    }
   ],
   "source": [
    "all_ds.datasets[0].description"
   ]
  },
  {
   "cell_type": "code",
   "execution_count": 8,
   "metadata": {},
   "outputs": [
    {
     "name": "stdout",
     "output_type": "stream",
     "text": [
      "(array([[37.09259991, 37.09679191, 37.09481991, ..., 36.60017591,\n",
      "        36.65189191, 36.71610791]]), array([10.   , 10.004, 10.008, ..., 99.988, 99.992, 99.996]))\n",
      "35.91583190932124 41.60955589494597\n"
     ]
    },
    {
     "data": {
      "image/png": "[encoded data removed]",
      "text/plain": [
       "<Figure size 640x480 with 1 Axes>"
      ]
     },
     "metadata": {},
     "output_type": "display_data"
    }
   ],
   "source": [
    "raw = all_ds.datasets[11].raw\n",
    "sampling_freq = raw.info[\"sfreq\"]\n",
    "start_stop_seconds = np.array([10, 100])\n",
    "start_sample, stop_sample = (start_stop_seconds * sampling_freq).astype(int)\n",
    "channel_index = 0\n",
    "raw_selection = raw[channel_index, start_sample:stop_sample]\n",
    "print(raw_selection)\n",
    "x = raw_selection[1]\n",
    "y = raw_selection[0].T\n",
    "print(np.min(y),np.max(y))\n",
    "plt.plot(x, y)\n",
    "plt.show()"
   ]
  },
  {
   "cell_type": "code",
   "execution_count": 9,
   "metadata": {},
   "outputs": [
    {
     "name": "stdout",
     "output_type": "stream",
     "text": [
      "sampling rate 250.0\n"
     ]
    }
   ],
   "source": [
    "window_len_s = 2\n",
    "fs = all_ds.datasets[0].raw.info['sfreq']\n",
    "print('sampling rate', fs)\n",
    "window_len_samples = int(fs * window_len_s)\n",
    "window_stride_samples = int(fs * window_len_s) # non-overlapping\n",
    "windows_ds = create_fixed_length_windows(\n",
    "    all_ds, start_offset_samples=0, stop_offset_samples=None,\n",
    "    window_size_samples=window_len_samples,\n",
    "    window_stride_samples=window_stride_samples, drop_last_window=True,\n",
    "    preload=False)"
   ]
  },
  {
   "cell_type": "code",
   "execution_count": 10,
   "metadata": {},
   "outputs": [
    {
     "name": "stdout",
     "output_type": "stream",
     "text": [
      "Reading 0 ... 85428  =      0.000 ...   341.712 secs...\n"
     ]
    },
    {
     "name": "stdout",
     "output_type": "stream",
     "text": [
      "Reading 0 ... 142127  =      0.000 ...   568.508 secs...\n",
      "Reading 0 ... 85215  =      0.000 ...   340.860 secs...\n",
      "Reading 0 ... 92214  =      0.000 ...   368.856 secs...\n",
      "Reading 0 ... 84253  =      0.000 ...   337.012 secs...\n",
      "Reading 0 ... 84677  =      0.000 ...   338.708 secs...\n",
      "Reading 0 ... 85316  =      0.000 ...   341.264 secs...\n"
     ]
    },
    {
     "name": "stderr",
     "output_type": "stream",
     "text": [
      "/home/dung/eeg-ssl/.venv/lib/python3.10/site-packages/sklearn/preprocessing/_data.py:265: UserWarning: Numerical issues were encountered when scaling the data and might not be solved. The standard deviation of the data is probably very close to 0. \n",
      "  warnings.warn(\n"
     ]
    },
    {
     "name": "stdout",
     "output_type": "stream",
     "text": [
      "Reading 0 ... 89502  =      0.000 ...   358.008 secs...\n",
      "Reading 0 ... 84815  =      0.000 ...   339.260 secs...\n",
      "Reading 0 ... 89528  =      0.000 ...   358.112 secs...\n",
      "Reading 0 ... 113237  =      0.000 ...   452.948 secs...\n",
      "Reading 0 ... 85553  =      0.000 ...   342.212 secs...\n",
      "Reading 0 ... 95489  =      0.000 ...   381.956 secs...\n",
      "Reading 0 ... 84252  =      0.000 ...   337.008 secs...\n",
      "Reading 0 ... 92013  =      0.000 ...   368.052 secs...\n",
      "Reading 0 ... 104414  =      0.000 ...   417.656 secs...\n",
      "Reading 0 ... 104976  =      0.000 ...   419.904 secs...\n",
      "Reading 0 ... 180009  =      0.000 ...   720.036 secs...\n",
      "Reading 0 ... 99538  =      0.000 ...   398.152 secs...\n",
      "Reading 0 ... 103013  =      0.000 ...   412.052 secs...\n",
      "Reading 0 ... 119212  =      0.000 ...   476.848 secs...\n",
      "Reading 0 ... 98651  =      0.000 ...   394.604 secs...\n",
      "Reading 0 ... 84115  =      0.000 ...   336.460 secs...\n",
      "Reading 0 ... 161815  =      0.000 ...   647.260 secs...\n"
     ]
    },
    {
     "name": "stderr",
     "output_type": "stream",
     "text": [
      "/home/dung/eeg-ssl/.venv/lib/python3.10/site-packages/sklearn/preprocessing/_data.py:265: UserWarning: Numerical issues were encountered when scaling the data and might not be solved. The standard deviation of the data is probably very close to 0. \n",
      "  warnings.warn(\n",
      "/home/dung/eeg-ssl/.venv/lib/python3.10/site-packages/sklearn/preprocessing/_data.py:265: UserWarning: Numerical issues were encountered when scaling the data and might not be solved. The standard deviation of the data is probably very close to 0. \n",
      "  warnings.warn(\n",
      "/home/dung/eeg-ssl/.venv/lib/python3.10/site-packages/sklearn/preprocessing/_data.py:265: UserWarning: Numerical issues were encountered when scaling the data and might not be solved. The standard deviation of the data is probably very close to 0. \n",
      "  warnings.warn(\n",
      "/home/dung/eeg-ssl/.venv/lib/python3.10/site-packages/sklearn/preprocessing/_data.py:265: UserWarning: Numerical issues were encountered when scaling the data and might not be solved. The standard deviation of the data is probably very close to 0. \n",
      "  warnings.warn(\n",
      "/home/dung/eeg-ssl/.venv/lib/python3.10/site-packages/sklearn/preprocessing/_data.py:265: UserWarning: Numerical issues were encountered when scaling the data and might not be solved. The standard deviation of the data is probably very close to 0. \n",
      "  warnings.warn(\n",
      "/home/dung/eeg-ssl/.venv/lib/python3.10/site-packages/sklearn/preprocessing/_data.py:265: UserWarning: Numerical issues were encountered when scaling the data and might not be solved. The standard deviation of the data is probably very close to 0. \n",
      "  warnings.warn(\n",
      "/home/dung/eeg-ssl/.venv/lib/python3.10/site-packages/sklearn/preprocessing/_data.py:265: UserWarning: Numerical issues were encountered when scaling the data and might not be solved. The standard deviation of the data is probably very close to 0. \n",
      "  warnings.warn(\n",
      "/home/dung/eeg-ssl/.venv/lib/python3.10/site-packages/sklearn/preprocessing/_data.py:265: UserWarning: Numerical issues were encountered when scaling the data and might not be solved. The standard deviation of the data is probably very close to 0. \n",
      "  warnings.warn(\n",
      "/home/dung/eeg-ssl/.venv/lib/python3.10/site-packages/sklearn/preprocessing/_data.py:265: UserWarning: Numerical issues were encountered when scaling the data and might not be solved. The standard deviation of the data is probably very close to 0. \n",
      "  warnings.warn(\n",
      "/home/dung/eeg-ssl/.venv/lib/python3.10/site-packages/sklearn/preprocessing/_data.py:265: UserWarning: Numerical issues were encountered when scaling the data and might not be solved. The standard deviation of the data is probably very close to 0. \n",
      "  warnings.warn(\n",
      "/home/dung/eeg-ssl/.venv/lib/python3.10/site-packages/sklearn/preprocessing/_data.py:265: UserWarning: Numerical issues were encountered when scaling the data and might not be solved. The standard deviation of the data is probably very close to 0. \n",
      "  warnings.warn(\n",
      "/home/dung/eeg-ssl/.venv/lib/python3.10/site-packages/sklearn/preprocessing/_data.py:265: UserWarning: Numerical issues were encountered when scaling the data and might not be solved. The standard deviation of the data is probably very close to 0. \n",
      "  warnings.warn(\n",
      "/home/dung/eeg-ssl/.venv/lib/python3.10/site-packages/sklearn/preprocessing/_data.py:265: UserWarning: Numerical issues were encountered when scaling the data and might not be solved. The standard deviation of the data is probably very close to 0. \n",
      "  warnings.warn(\n"
     ]
    },
    {
     "name": "stdout",
     "output_type": "stream",
     "text": [
      "Reading 0 ... 94253  =      0.000 ...   377.012 secs...\n",
      "Reading 0 ... 95901  =      0.000 ...   383.604 secs...\n"
     ]
    },
    {
     "name": "stderr",
     "output_type": "stream",
     "text": [
      "/home/dung/eeg-ssl/.venv/lib/python3.10/site-packages/sklearn/preprocessing/_data.py:246: UserWarning: Numerical issues were encountered when centering the data and might not be solved. Dataset may contain too large values. You may need to prescale your features.\n",
      "  warnings.warn(\n",
      "/home/dung/eeg-ssl/.venv/lib/python3.10/site-packages/sklearn/preprocessing/_data.py:265: UserWarning: Numerical issues were encountered when scaling the data and might not be solved. The standard deviation of the data is probably very close to 0. \n",
      "  warnings.warn(\n",
      "/home/dung/eeg-ssl/.venv/lib/python3.10/site-packages/sklearn/preprocessing/_data.py:265: UserWarning: Numerical issues were encountered when scaling the data and might not be solved. The standard deviation of the data is probably very close to 0. \n",
      "  warnings.warn(\n",
      "/home/dung/eeg-ssl/.venv/lib/python3.10/site-packages/sklearn/preprocessing/_data.py:265: UserWarning: Numerical issues were encountered when scaling the data and might not be solved. The standard deviation of the data is probably very close to 0. \n",
      "  warnings.warn(\n",
      "/home/dung/eeg-ssl/.venv/lib/python3.10/site-packages/sklearn/preprocessing/_data.py:265: UserWarning: Numerical issues were encountered when scaling the data and might not be solved. The standard deviation of the data is probably very close to 0. \n",
      "  warnings.warn(\n",
      "/home/dung/eeg-ssl/.venv/lib/python3.10/site-packages/sklearn/preprocessing/_data.py:265: UserWarning: Numerical issues were encountered when scaling the data and might not be solved. The standard deviation of the data is probably very close to 0. \n",
      "  warnings.warn(\n",
      "/home/dung/eeg-ssl/.venv/lib/python3.10/site-packages/sklearn/preprocessing/_data.py:265: UserWarning: Numerical issues were encountered when scaling the data and might not be solved. The standard deviation of the data is probably very close to 0. \n",
      "  warnings.warn(\n",
      "/home/dung/eeg-ssl/.venv/lib/python3.10/site-packages/sklearn/preprocessing/_data.py:265: UserWarning: Numerical issues were encountered when scaling the data and might not be solved. The standard deviation of the data is probably very close to 0. \n",
      "  warnings.warn(\n",
      "/home/dung/eeg-ssl/.venv/lib/python3.10/site-packages/sklearn/preprocessing/_data.py:265: UserWarning: Numerical issues were encountered when scaling the data and might not be solved. The standard deviation of the data is probably very close to 0. \n",
      "  warnings.warn(\n"
     ]
    },
    {
     "name": "stdout",
     "output_type": "stream",
     "text": [
      "Reading 0 ... 87753  =      0.000 ...   351.012 secs...\n",
      "Reading 0 ... 85865  =      0.000 ...   343.460 secs...\n",
      "Reading 0 ... 83728  =      0.000 ...   334.912 secs...\n",
      "Reading 0 ... 96215  =      0.000 ...   384.860 secs...\n"
     ]
    },
    {
     "name": "stderr",
     "output_type": "stream",
     "text": [
      "/home/dung/eeg-ssl/.venv/lib/python3.10/site-packages/sklearn/preprocessing/_data.py:265: UserWarning: Numerical issues were encountered when scaling the data and might not be solved. The standard deviation of the data is probably very close to 0. \n",
      "  warnings.warn(\n",
      "/home/dung/eeg-ssl/.venv/lib/python3.10/site-packages/sklearn/preprocessing/_data.py:265: UserWarning: Numerical issues were encountered when scaling the data and might not be solved. The standard deviation of the data is probably very close to 0. \n",
      "  warnings.warn(\n"
     ]
    },
    {
     "name": "stdout",
     "output_type": "stream",
     "text": [
      "Reading 0 ... 90391  =      0.000 ...   361.564 secs...\n",
      "Reading 0 ... 138207  =      0.000 ...   552.828 secs...\n",
      "Reading 0 ... 120677  =      0.000 ...   482.708 secs...\n",
      "Reading 0 ... 84153  =      0.000 ...   336.612 secs...\n",
      "Reading 0 ... 84429  =      0.000 ...   337.716 secs...\n",
      "Reading 0 ... 122326  =      0.000 ...   489.304 secs...\n",
      "Reading 0 ... 89438  =      0.000 ...   357.752 secs...\n",
      "Reading 0 ... 87025  =      0.000 ...   348.100 secs...\n",
      "Reading 0 ... 86028  =      0.000 ...   344.112 secs...\n",
      "Reading 0 ... 88175  =      0.000 ...   352.700 secs...\n",
      "Reading 0 ... 150840  =      0.000 ...   603.360 secs...\n"
     ]
    },
    {
     "name": "stderr",
     "output_type": "stream",
     "text": [
      "/home/dung/eeg-ssl/.venv/lib/python3.10/site-packages/sklearn/preprocessing/_data.py:265: UserWarning: Numerical issues were encountered when scaling the data and might not be solved. The standard deviation of the data is probably very close to 0. \n",
      "  warnings.warn(\n"
     ]
    },
    {
     "name": "stdout",
     "output_type": "stream",
     "text": [
      "Reading 0 ... 108151  =      0.000 ...   432.604 secs...\n",
      "Reading 0 ... 84053  =      0.000 ...   336.212 secs...\n",
      "Reading 0 ... 88104  =      0.000 ...   352.416 secs...\n",
      "Reading 0 ... 92913  =      0.000 ...   371.652 secs...\n",
      "Reading 0 ... 86077  =      0.000 ...   344.308 secs...\n",
      "Reading 0 ... 83741  =      0.000 ...   334.964 secs...\n",
      "Reading 0 ... 93401  =      0.000 ...   373.604 secs...\n",
      "Reading 0 ... 95591  =      0.000 ...   382.364 secs...\n",
      "Reading 0 ... 84017  =      0.000 ...   336.068 secs...\n"
     ]
    },
    {
     "name": "stderr",
     "output_type": "stream",
     "text": [
      "/home/dung/eeg-ssl/.venv/lib/python3.10/site-packages/sklearn/preprocessing/_data.py:265: UserWarning: Numerical issues were encountered when scaling the data and might not be solved. The standard deviation of the data is probably very close to 0. \n",
      "  warnings.warn(\n",
      "/home/dung/eeg-ssl/.venv/lib/python3.10/site-packages/sklearn/preprocessing/_data.py:265: UserWarning: Numerical issues were encountered when scaling the data and might not be solved. The standard deviation of the data is probably very close to 0. \n",
      "  warnings.warn(\n"
     ]
    },
    {
     "name": "stdout",
     "output_type": "stream",
     "text": [
      "Reading 0 ... 86390  =      0.000 ...   345.560 secs...\n",
      "Reading 0 ... 98367  =      0.000 ...   393.468 secs...\n",
      "Reading 0 ... 91889  =      0.000 ...   367.556 secs...\n",
      "Reading 0 ... 140357  =      0.000 ...   561.428 secs...\n",
      "Reading 0 ... 85177  =      0.000 ...   340.708 secs...\n",
      "Reading 0 ... 240231  =      0.000 ...   960.924 secs...\n",
      "Reading 0 ... 104539  =      0.000 ...   418.156 secs...\n",
      "Reading 0 ... 92177  =      0.000 ...   368.708 secs...\n",
      "Reading 0 ... 136001  =      0.000 ...   544.004 secs...\n",
      "Reading 0 ... 95488  =      0.000 ...   381.952 secs...\n",
      "Reading 0 ... 83903  =      0.000 ...   335.612 secs...\n",
      "Reading 0 ... 100213  =      0.000 ...   400.852 secs...\n",
      "Reading 0 ... 108315  =      0.000 ...   433.260 secs...\n"
     ]
    },
    {
     "name": "stderr",
     "output_type": "stream",
     "text": [
      "/home/dung/eeg-ssl/.venv/lib/python3.10/site-packages/sklearn/preprocessing/_data.py:265: UserWarning: Numerical issues were encountered when scaling the data and might not be solved. The standard deviation of the data is probably very close to 0. \n",
      "  warnings.warn(\n"
     ]
    },
    {
     "name": "stdout",
     "output_type": "stream",
     "text": [
      "Reading 0 ... 84215  =      0.000 ...   336.860 secs...\n",
      "Reading 0 ... 89928  =      0.000 ...   359.712 secs...\n",
      "Reading 0 ... 84691  =      0.000 ...   338.764 secs...\n",
      "Reading 0 ... 87465  =      0.000 ...   349.860 secs...\n",
      "Reading 0 ... 92725  =      0.000 ...   370.900 secs...\n",
      "Reading 0 ... 150427  =      0.000 ...   601.708 secs...\n",
      "Reading 0 ... 96689  =      0.000 ...   386.756 secs...\n",
      "Reading 0 ... 94524  =      0.000 ...   378.096 secs...\n",
      "Reading 0 ... 85129  =      0.000 ...   340.516 secs...\n",
      "Reading 0 ... 84317  =      0.000 ...   337.268 secs...\n",
      "Reading 0 ... 84929  =      0.000 ...   339.716 secs...\n",
      "Reading 0 ... 84178  =      0.000 ...   336.712 secs...\n",
      "Reading 0 ... 249285  =      0.000 ...   997.140 secs...\n",
      "Reading 0 ... 210085  =      0.000 ...   840.340 secs...\n",
      "Reading 0 ... 83403  =      0.000 ...   333.612 secs...\n",
      "Reading 0 ... 86204  =      0.000 ...   344.816 secs...\n",
      "Reading 0 ... 90801  =      0.000 ...   363.204 secs...\n",
      "Reading 0 ... 103939  =      0.000 ...   415.756 secs...\n",
      "Reading 0 ... 85653  =      0.000 ...   342.612 secs...\n",
      "Reading 0 ... 107151  =      0.000 ...   428.604 secs...\n"
     ]
    },
    {
     "name": "stderr",
     "output_type": "stream",
     "text": [
      "/home/dung/eeg-ssl/.venv/lib/python3.10/site-packages/sklearn/preprocessing/_data.py:265: UserWarning: Numerical issues were encountered when scaling the data and might not be solved. The standard deviation of the data is probably very close to 0. \n",
      "  warnings.warn(\n",
      "/home/dung/eeg-ssl/.venv/lib/python3.10/site-packages/sklearn/preprocessing/_data.py:265: UserWarning: Numerical issues were encountered when scaling the data and might not be solved. The standard deviation of the data is probably very close to 0. \n",
      "  warnings.warn(\n",
      "/home/dung/eeg-ssl/.venv/lib/python3.10/site-packages/sklearn/preprocessing/_data.py:265: UserWarning: Numerical issues were encountered when scaling the data and might not be solved. The standard deviation of the data is probably very close to 0. \n",
      "  warnings.warn(\n"
     ]
    },
    {
     "name": "stdout",
     "output_type": "stream",
     "text": [
      "Reading 0 ... 97989  =      0.000 ...   391.956 secs...\n",
      "Reading 0 ... 93877  =      0.000 ...   375.508 secs...\n",
      "Reading 0 ... 136526  =      0.000 ...   546.104 secs...\n",
      "Reading 0 ... 100950  =      0.000 ...   403.800 secs...\n",
      "Reading 0 ... 99439  =      0.000 ...   397.756 secs...\n",
      "Reading 0 ... 89152  =      0.000 ...   356.608 secs...\n",
      "Reading 0 ... 88615  =      0.000 ...   354.460 secs...\n",
      "Reading 0 ... 113838  =      0.000 ...   455.352 secs...\n"
     ]
    },
    {
     "name": "stderr",
     "output_type": "stream",
     "text": [
      "/home/dung/eeg-ssl/.venv/lib/python3.10/site-packages/sklearn/preprocessing/_data.py:265: UserWarning: Numerical issues were encountered when scaling the data and might not be solved. The standard deviation of the data is probably very close to 0. \n",
      "  warnings.warn(\n"
     ]
    },
    {
     "name": "stdout",
     "output_type": "stream",
     "text": [
      "Reading 0 ... 126536  =      0.000 ...   506.144 secs...\n",
      "Reading 0 ... 84029  =      0.000 ...   336.116 secs...\n",
      "Reading 0 ... 84627  =      0.000 ...   338.508 secs...\n",
      "Reading 0 ... 131284  =      0.000 ...   525.136 secs...\n",
      "Reading 0 ... 83855  =      0.000 ...   335.420 secs...\n"
     ]
    },
    {
     "name": "stderr",
     "output_type": "stream",
     "text": [
      "/home/dung/eeg-ssl/.venv/lib/python3.10/site-packages/sklearn/preprocessing/_data.py:265: UserWarning: Numerical issues were encountered when scaling the data and might not be solved. The standard deviation of the data is probably very close to 0. \n",
      "  warnings.warn(\n"
     ]
    },
    {
     "name": "stdout",
     "output_type": "stream",
     "text": [
      "Reading 0 ... 123601  =      0.000 ...   494.404 secs...\n",
      "Reading 0 ... 85228  =      0.000 ...   340.912 secs...\n",
      "Reading 0 ... 173603  =      0.000 ...   694.412 secs...\n",
      "Reading 0 ... 117007  =      0.000 ...   468.028 secs...\n"
     ]
    },
    {
     "name": "stderr",
     "output_type": "stream",
     "text": [
      "/home/dung/eeg-ssl/.venv/lib/python3.10/site-packages/sklearn/preprocessing/_data.py:246: UserWarning: Numerical issues were encountered when centering the data and might not be solved. Dataset may contain too large values. You may need to prescale your features.\n",
      "  warnings.warn(\n"
     ]
    },
    {
     "name": "stdout",
     "output_type": "stream",
     "text": [
      "Reading 0 ... 97838  =      0.000 ...   391.352 secs...\n",
      "Reading 0 ... 85353  =      0.000 ...   341.412 secs...\n",
      "Reading 0 ... 97025  =      0.000 ...   388.100 secs...\n",
      "Reading 0 ... 145262  =      0.000 ...   581.048 secs...\n",
      "Reading 0 ... 100189  =      0.000 ...   400.756 secs...\n",
      "Reading 0 ... 89889  =      0.000 ...   359.556 secs...\n",
      "Reading 0 ... 108802  =      0.000 ...   435.208 secs...\n",
      "Reading 0 ... 99763  =      0.000 ...   399.052 secs...\n",
      "Reading 0 ... 95763  =      0.000 ...   383.052 secs...\n",
      "Reading 0 ... 129799  =      0.000 ...   519.196 secs...\n",
      "Reading 0 ... 83677  =      0.000 ...   334.708 secs...\n",
      "Reading 0 ... 95001  =      0.000 ...   380.004 secs...\n",
      "Reading 0 ... 83316  =      0.000 ...   333.264 secs...\n",
      "Reading 0 ... 146005  =      0.000 ...   584.020 secs...\n",
      "Reading 0 ... 88040  =      0.000 ...   352.160 secs...\n",
      "Reading 0 ... 86366  =      0.000 ...   345.464 secs...\n",
      "Reading 0 ... 87803  =      0.000 ...   351.212 secs...\n",
      "Reading 0 ... 85378  =      0.000 ...   341.512 secs...\n",
      "Reading 0 ... 96189  =      0.000 ...   384.756 secs...\n"
     ]
    },
    {
     "name": "stderr",
     "output_type": "stream",
     "text": [
      "/home/dung/eeg-ssl/.venv/lib/python3.10/site-packages/sklearn/preprocessing/_data.py:265: UserWarning: Numerical issues were encountered when scaling the data and might not be solved. The standard deviation of the data is probably very close to 0. \n",
      "  warnings.warn(\n",
      "/home/dung/eeg-ssl/.venv/lib/python3.10/site-packages/sklearn/preprocessing/_data.py:265: UserWarning: Numerical issues were encountered when scaling the data and might not be solved. The standard deviation of the data is probably very close to 0. \n",
      "  warnings.warn(\n",
      "/home/dung/eeg-ssl/.venv/lib/python3.10/site-packages/sklearn/preprocessing/_data.py:265: UserWarning: Numerical issues were encountered when scaling the data and might not be solved. The standard deviation of the data is probably very close to 0. \n",
      "  warnings.warn(\n",
      "/home/dung/eeg-ssl/.venv/lib/python3.10/site-packages/sklearn/preprocessing/_data.py:265: UserWarning: Numerical issues were encountered when scaling the data and might not be solved. The standard deviation of the data is probably very close to 0. \n",
      "  warnings.warn(\n"
     ]
    },
    {
     "name": "stdout",
     "output_type": "stream",
     "text": [
      "Reading 0 ... 249103  =      0.000 ...   996.412 secs...\n",
      "Reading 0 ... 84791  =      0.000 ...   339.164 secs...\n",
      "Reading 0 ... 94513  =      0.000 ...   378.052 secs...\n",
      "Reading 0 ... 84666  =      0.000 ...   338.664 secs...\n",
      "Reading 0 ... 93275  =      0.000 ...   373.100 secs...\n",
      "Reading 0 ... 100751  =      0.000 ...   403.004 secs...\n",
      "Reading 0 ... 84090  =      0.000 ...   336.360 secs...\n",
      "Reading 0 ... 106251  =      0.000 ...   425.004 secs...\n",
      "Reading 0 ... 85565  =      0.000 ...   342.260 secs...\n"
     ]
    },
    {
     "name": "stderr",
     "output_type": "stream",
     "text": [
      "/home/dung/eeg-ssl/.venv/lib/python3.10/site-packages/sklearn/preprocessing/_data.py:265: UserWarning: Numerical issues were encountered when scaling the data and might not be solved. The standard deviation of the data is probably very close to 0. \n",
      "  warnings.warn(\n",
      "/home/dung/eeg-ssl/.venv/lib/python3.10/site-packages/sklearn/preprocessing/_data.py:265: UserWarning: Numerical issues were encountered when scaling the data and might not be solved. The standard deviation of the data is probably very close to 0. \n",
      "  warnings.warn(\n"
     ]
    },
    {
     "name": "stdout",
     "output_type": "stream",
     "text": [
      "Reading 0 ... 92001  =      0.000 ...   368.004 secs...\n",
      "Reading 0 ... 92865  =      0.000 ...   371.460 secs...\n",
      "Reading 0 ... 87615  =      0.000 ...   350.460 secs...\n",
      "Reading 0 ... 100026  =      0.000 ...   400.104 secs...\n",
      "Reading 0 ... 102477  =      0.000 ...   409.908 secs...\n"
     ]
    },
    {
     "name": "stderr",
     "output_type": "stream",
     "text": [
      "/home/dung/eeg-ssl/.venv/lib/python3.10/site-packages/sklearn/preprocessing/_data.py:265: UserWarning: Numerical issues were encountered when scaling the data and might not be solved. The standard deviation of the data is probably very close to 0. \n",
      "  warnings.warn(\n"
     ]
    },
    {
     "name": "stdout",
     "output_type": "stream",
     "text": [
      "Reading 0 ... 175955  =      0.000 ...   703.820 secs...\n",
      "Reading 0 ... 84279  =      0.000 ...   337.116 secs...\n"
     ]
    },
    {
     "name": "stderr",
     "output_type": "stream",
     "text": [
      "/home/dung/eeg-ssl/.venv/lib/python3.10/site-packages/sklearn/preprocessing/_data.py:246: UserWarning: Numerical issues were encountered when centering the data and might not be solved. Dataset may contain too large values. You may need to prescale your features.\n",
      "  warnings.warn(\n"
     ]
    },
    {
     "name": "stdout",
     "output_type": "stream",
     "text": [
      "Reading 0 ... 87991  =      0.000 ...   351.964 secs...\n",
      "Reading 0 ... 85451  =      0.000 ...   341.804 secs...\n",
      "Reading 0 ... 86101  =      0.000 ...   344.404 secs...\n"
     ]
    },
    {
     "name": "stderr",
     "output_type": "stream",
     "text": [
      "/home/dung/eeg-ssl/.venv/lib/python3.10/site-packages/sklearn/preprocessing/_data.py:265: UserWarning: Numerical issues were encountered when scaling the data and might not be solved. The standard deviation of the data is probably very close to 0. \n",
      "  warnings.warn(\n"
     ]
    },
    {
     "name": "stdout",
     "output_type": "stream",
     "text": [
      "Reading 0 ... 87080  =      0.000 ...   348.320 secs...\n",
      "Reading 0 ... 113128  =      0.000 ...   452.512 secs...\n",
      "Reading 0 ... 90775  =      0.000 ...   363.100 secs...\n",
      "Reading 0 ... 115401  =      0.000 ...   461.604 secs...\n",
      "Reading 0 ... 85651  =      0.000 ...   342.604 secs...\n",
      "Reading 0 ... 86243  =      0.000 ...   344.972 secs...\n",
      "Reading 0 ... 87076  =      0.000 ...   348.304 secs...\n",
      "Reading 0 ... 86126  =      0.000 ...   344.504 secs...\n",
      "Reading 0 ... 86863  =      0.000 ...   347.452 secs...\n",
      "Reading 0 ... 117301  =      0.000 ...   469.204 secs...\n",
      "Reading 0 ... 106966  =      0.000 ...   427.864 secs...\n",
      "Reading 0 ... 114489  =      0.000 ...   457.956 secs...\n"
     ]
    },
    {
     "name": "stderr",
     "output_type": "stream",
     "text": [
      "/home/dung/eeg-ssl/.venv/lib/python3.10/site-packages/sklearn/preprocessing/_data.py:265: UserWarning: Numerical issues were encountered when scaling the data and might not be solved. The standard deviation of the data is probably very close to 0. \n",
      "  warnings.warn(\n"
     ]
    },
    {
     "name": "stdout",
     "output_type": "stream",
     "text": [
      "Reading 0 ... 85305  =      0.000 ...   341.220 secs...\n",
      "Reading 0 ... 114463  =      0.000 ...   457.852 secs...\n",
      "Reading 0 ... 102451  =      0.000 ...   409.804 secs...\n",
      "Reading 0 ... 87137  =      0.000 ...   348.548 secs...\n",
      "Reading 0 ... 98451  =      0.000 ...   393.804 secs...\n",
      "Reading 0 ... 96451  =      0.000 ...   385.804 secs...\n",
      "Reading 0 ... 89439  =      0.000 ...   357.756 secs...\n",
      "Reading 0 ... 100539  =      0.000 ...   402.156 secs...\n",
      "Reading 0 ... 97091  =      0.000 ...   388.364 secs...\n",
      "Reading 0 ... 97226  =      0.000 ...   388.904 secs...\n",
      "Reading 0 ... 88266  =      0.000 ...   353.064 secs...\n",
      "Reading 0 ... 84278  =      0.000 ...   337.112 secs...\n",
      "Reading 0 ... 105953  =      0.000 ...   423.812 secs...\n"
     ]
    },
    {
     "name": "stderr",
     "output_type": "stream",
     "text": [
      "/home/dung/eeg-ssl/.venv/lib/python3.10/site-packages/sklearn/preprocessing/_data.py:265: UserWarning: Numerical issues were encountered when scaling the data and might not be solved. The standard deviation of the data is probably very close to 0. \n",
      "  warnings.warn(\n",
      "/home/dung/eeg-ssl/.venv/lib/python3.10/site-packages/sklearn/preprocessing/_data.py:265: UserWarning: Numerical issues were encountered when scaling the data and might not be solved. The standard deviation of the data is probably very close to 0. \n",
      "  warnings.warn(\n",
      "/home/dung/eeg-ssl/.venv/lib/python3.10/site-packages/sklearn/preprocessing/_data.py:265: UserWarning: Numerical issues were encountered when scaling the data and might not be solved. The standard deviation of the data is probably very close to 0. \n",
      "  warnings.warn(\n",
      "/home/dung/eeg-ssl/.venv/lib/python3.10/site-packages/sklearn/preprocessing/_data.py:265: UserWarning: Numerical issues were encountered when scaling the data and might not be solved. The standard deviation of the data is probably very close to 0. \n",
      "  warnings.warn(\n",
      "/home/dung/eeg-ssl/.venv/lib/python3.10/site-packages/sklearn/preprocessing/_data.py:265: UserWarning: Numerical issues were encountered when scaling the data and might not be solved. The standard deviation of the data is probably very close to 0. \n",
      "  warnings.warn(\n",
      "/home/dung/eeg-ssl/.venv/lib/python3.10/site-packages/sklearn/preprocessing/_data.py:265: UserWarning: Numerical issues were encountered when scaling the data and might not be solved. The standard deviation of the data is probably very close to 0. \n",
      "  warnings.warn(\n",
      "/home/dung/eeg-ssl/.venv/lib/python3.10/site-packages/sklearn/preprocessing/_data.py:265: UserWarning: Numerical issues were encountered when scaling the data and might not be solved. The standard deviation of the data is probably very close to 0. \n",
      "  warnings.warn(\n",
      "/home/dung/eeg-ssl/.venv/lib/python3.10/site-packages/sklearn/preprocessing/_data.py:265: UserWarning: Numerical issues were encountered when scaling the data and might not be solved. The standard deviation of the data is probably very close to 0. \n",
      "  warnings.warn(\n",
      "/home/dung/eeg-ssl/.venv/lib/python3.10/site-packages/sklearn/preprocessing/_data.py:265: UserWarning: Numerical issues were encountered when scaling the data and might not be solved. The standard deviation of the data is probably very close to 0. \n",
      "  warnings.warn(\n",
      "/home/dung/eeg-ssl/.venv/lib/python3.10/site-packages/sklearn/preprocessing/_data.py:265: UserWarning: Numerical issues were encountered when scaling the data and might not be solved. The standard deviation of the data is probably very close to 0. \n",
      "  warnings.warn(\n",
      "/home/dung/eeg-ssl/.venv/lib/python3.10/site-packages/sklearn/preprocessing/_data.py:265: UserWarning: Numerical issues were encountered when scaling the data and might not be solved. The standard deviation of the data is probably very close to 0. \n",
      "  warnings.warn(\n",
      "/home/dung/eeg-ssl/.venv/lib/python3.10/site-packages/sklearn/preprocessing/_data.py:265: UserWarning: Numerical issues were encountered when scaling the data and might not be solved. The standard deviation of the data is probably very close to 0. \n",
      "  warnings.warn(\n",
      "/home/dung/eeg-ssl/.venv/lib/python3.10/site-packages/sklearn/preprocessing/_data.py:265: UserWarning: Numerical issues were encountered when scaling the data and might not be solved. The standard deviation of the data is probably very close to 0. \n",
      "  warnings.warn(\n",
      "/home/dung/eeg-ssl/.venv/lib/python3.10/site-packages/sklearn/preprocessing/_data.py:265: UserWarning: Numerical issues were encountered when scaling the data and might not be solved. The standard deviation of the data is probably very close to 0. \n",
      "  warnings.warn(\n",
      "/home/dung/eeg-ssl/.venv/lib/python3.10/site-packages/sklearn/preprocessing/_data.py:265: UserWarning: Numerical issues were encountered when scaling the data and might not be solved. The standard deviation of the data is probably very close to 0. \n",
      "  warnings.warn(\n",
      "/home/dung/eeg-ssl/.venv/lib/python3.10/site-packages/sklearn/preprocessing/_data.py:265: UserWarning: Numerical issues were encountered when scaling the data and might not be solved. The standard deviation of the data is probably very close to 0. \n",
      "  warnings.warn(\n",
      "/home/dung/eeg-ssl/.venv/lib/python3.10/site-packages/sklearn/preprocessing/_data.py:265: UserWarning: Numerical issues were encountered when scaling the data and might not be solved. The standard deviation of the data is probably very close to 0. \n",
      "  warnings.warn(\n",
      "/home/dung/eeg-ssl/.venv/lib/python3.10/site-packages/sklearn/preprocessing/_data.py:265: UserWarning: Numerical issues were encountered when scaling the data and might not be solved. The standard deviation of the data is probably very close to 0. \n",
      "  warnings.warn(\n",
      "/home/dung/eeg-ssl/.venv/lib/python3.10/site-packages/sklearn/preprocessing/_data.py:265: UserWarning: Numerical issues were encountered when scaling the data and might not be solved. The standard deviation of the data is probably very close to 0. \n",
      "  warnings.warn(\n",
      "/home/dung/eeg-ssl/.venv/lib/python3.10/site-packages/sklearn/preprocessing/_data.py:265: UserWarning: Numerical issues were encountered when scaling the data and might not be solved. The standard deviation of the data is probably very close to 0. \n",
      "  warnings.warn(\n",
      "/home/dung/eeg-ssl/.venv/lib/python3.10/site-packages/sklearn/preprocessing/_data.py:265: UserWarning: Numerical issues were encountered when scaling the data and might not be solved. The standard deviation of the data is probably very close to 0. \n",
      "  warnings.warn(\n",
      "/home/dung/eeg-ssl/.venv/lib/python3.10/site-packages/sklearn/preprocessing/_data.py:265: UserWarning: Numerical issues were encountered when scaling the data and might not be solved. The standard deviation of the data is probably very close to 0. \n",
      "  warnings.warn(\n"
     ]
    },
    {
     "name": "stdout",
     "output_type": "stream",
     "text": [
      "Reading 0 ... 108537  =      0.000 ...   434.148 secs...\n",
      "Reading 0 ... 128803  =      0.000 ...   515.212 secs...\n",
      "Reading 0 ... 83467  =      0.000 ...   333.868 secs...\n",
      "Reading 0 ... 92276  =      0.000 ...   369.104 secs...\n",
      "Reading 0 ... 83980  =      0.000 ...   335.920 secs...\n"
     ]
    },
    {
     "name": "stderr",
     "output_type": "stream",
     "text": [
      "/home/dung/eeg-ssl/.venv/lib/python3.10/site-packages/sklearn/preprocessing/_data.py:265: UserWarning: Numerical issues were encountered when scaling the data and might not be solved. The standard deviation of the data is probably very close to 0. \n",
      "  warnings.warn(\n",
      "/home/dung/eeg-ssl/.venv/lib/python3.10/site-packages/sklearn/preprocessing/_data.py:265: UserWarning: Numerical issues were encountered when scaling the data and might not be solved. The standard deviation of the data is probably very close to 0. \n",
      "  warnings.warn(\n"
     ]
    },
    {
     "name": "stdout",
     "output_type": "stream",
     "text": [
      "Reading 0 ... 123831  =      0.000 ...   495.324 secs...\n",
      "Reading 0 ... 88013  =      0.000 ...   352.052 secs...\n"
     ]
    },
    {
     "name": "stderr",
     "output_type": "stream",
     "text": [
      "/home/dung/eeg-ssl/.venv/lib/python3.10/site-packages/sklearn/preprocessing/_data.py:265: UserWarning: Numerical issues were encountered when scaling the data and might not be solved. The standard deviation of the data is probably very close to 0. \n",
      "  warnings.warn(\n"
     ]
    },
    {
     "name": "stdout",
     "output_type": "stream",
     "text": [
      "Reading 0 ... 86662  =      0.000 ...   346.648 secs...\n",
      "Reading 0 ... 87651  =      0.000 ...   350.604 secs...\n",
      "Reading 0 ... 95451  =      0.000 ...   381.804 secs...\n",
      "Reading 0 ... 87388  =      0.000 ...   349.552 secs...\n",
      "Reading 0 ... 86192  =      0.000 ...   344.768 secs...\n",
      "Reading 0 ... 86439  =      0.000 ...   345.756 secs...\n",
      "Reading 0 ... 85812  =      0.000 ...   343.248 secs...\n",
      "Reading 0 ... 90150  =      0.000 ...   360.600 secs...\n",
      "Reading 0 ... 87163  =      0.000 ...   348.652 secs...\n",
      "Reading 0 ... 82967  =      0.000 ...   331.868 secs...\n",
      "Reading 0 ... 87489  =      0.000 ...   349.956 secs...\n"
     ]
    },
    {
     "name": "stderr",
     "output_type": "stream",
     "text": [
      "/home/dung/eeg-ssl/.venv/lib/python3.10/site-packages/sklearn/preprocessing/_data.py:265: UserWarning: Numerical issues were encountered when scaling the data and might not be solved. The standard deviation of the data is probably very close to 0. \n",
      "  warnings.warn(\n"
     ]
    },
    {
     "name": "stdout",
     "output_type": "stream",
     "text": [
      "Reading 0 ... 87451  =      0.000 ...   349.804 secs...\n",
      "Reading 0 ... 91363  =      0.000 ...   365.452 secs...\n",
      "Reading 0 ... 87626  =      0.000 ...   350.504 secs...\n",
      "Reading 0 ... 112615  =      0.000 ...   450.460 secs...\n",
      "Reading 0 ... 100089  =      0.000 ...   400.356 secs...\n",
      "Reading 0 ... 85617  =      0.000 ...   342.468 secs...\n",
      "Reading 0 ... 107051  =      0.000 ...   428.204 secs...\n",
      "Reading 0 ... 85938  =      0.000 ...   343.752 secs...\n"
     ]
    },
    {
     "name": "stderr",
     "output_type": "stream",
     "text": [
      "/home/dung/eeg-ssl/.venv/lib/python3.10/site-packages/sklearn/preprocessing/_data.py:265: UserWarning: Numerical issues were encountered when scaling the data and might not be solved. The standard deviation of the data is probably very close to 0. \n",
      "  warnings.warn(\n",
      "/home/dung/eeg-ssl/.venv/lib/python3.10/site-packages/sklearn/preprocessing/_data.py:265: UserWarning: Numerical issues were encountered when scaling the data and might not be solved. The standard deviation of the data is probably very close to 0. \n",
      "  warnings.warn(\n"
     ]
    },
    {
     "name": "stdout",
     "output_type": "stream",
     "text": [
      "Reading 0 ... 87029  =      0.000 ...   348.116 secs...\n",
      "Reading 0 ... 84530  =      0.000 ...   338.120 secs...\n",
      "Reading 0 ... 91975  =      0.000 ...   367.900 secs...\n",
      "Reading 0 ... 96013  =      0.000 ...   384.052 secs...\n",
      "Reading 0 ... 84430  =      0.000 ...   337.720 secs...\n",
      "Reading 0 ... 113477  =      0.000 ...   453.908 secs...\n",
      "Reading 0 ... 158883  =      0.000 ...   635.532 secs...\n",
      "Reading 0 ... 103026  =      0.000 ...   412.104 secs...\n",
      "Reading 0 ... 112026  =      0.000 ...   448.104 secs...\n",
      "Reading 0 ... 87163  =      0.000 ...   348.652 secs...\n",
      "Reading 0 ... 84843  =      0.000 ...   339.372 secs...\n",
      "Reading 0 ... 88863  =      0.000 ...   355.452 secs...\n",
      "Reading 0 ... 118239  =      0.000 ...   472.956 secs...\n"
     ]
    },
    {
     "name": "stderr",
     "output_type": "stream",
     "text": [
      "/home/dung/eeg-ssl/.venv/lib/python3.10/site-packages/sklearn/preprocessing/_data.py:265: UserWarning: Numerical issues were encountered when scaling the data and might not be solved. The standard deviation of the data is probably very close to 0. \n",
      "  warnings.warn(\n"
     ]
    },
    {
     "name": "stdout",
     "output_type": "stream",
     "text": [
      "Reading 0 ... 88087  =      0.000 ...   352.348 secs...\n",
      "Reading 0 ... 86213  =      0.000 ...   344.852 secs...\n",
      "Reading 0 ... 134827  =      0.000 ...   539.308 secs...\n",
      "Reading 0 ... 111701  =      0.000 ...   446.804 secs...\n",
      "Reading 0 ... 85450  =      0.000 ...   341.800 secs...\n",
      "Reading 0 ... 85438  =      0.000 ...   341.752 secs...\n",
      "Reading 0 ... 84541  =      0.000 ...   338.164 secs...\n",
      "Reading 0 ... 100951  =      0.000 ...   403.804 secs...\n",
      "Reading 0 ... 85693  =      0.000 ...   342.772 secs...\n",
      "Reading 0 ... 85303  =      0.000 ...   341.212 secs...\n",
      "Reading 0 ... 105254  =      0.000 ...   421.016 secs...\n",
      "Reading 0 ... 83555  =      0.000 ...   334.220 secs...\n"
     ]
    },
    {
     "name": "stderr",
     "output_type": "stream",
     "text": [
      "/home/dung/eeg-ssl/.venv/lib/python3.10/site-packages/sklearn/preprocessing/_data.py:265: UserWarning: Numerical issues were encountered when scaling the data and might not be solved. The standard deviation of the data is probably very close to 0. \n",
      "  warnings.warn(\n",
      "/home/dung/eeg-ssl/.venv/lib/python3.10/site-packages/sklearn/preprocessing/_data.py:265: UserWarning: Numerical issues were encountered when scaling the data and might not be solved. The standard deviation of the data is probably very close to 0. \n",
      "  warnings.warn(\n",
      "/home/dung/eeg-ssl/.venv/lib/python3.10/site-packages/sklearn/preprocessing/_data.py:265: UserWarning: Numerical issues were encountered when scaling the data and might not be solved. The standard deviation of the data is probably very close to 0. \n",
      "  warnings.warn(\n",
      "/home/dung/eeg-ssl/.venv/lib/python3.10/site-packages/sklearn/preprocessing/_data.py:265: UserWarning: Numerical issues were encountered when scaling the data and might not be solved. The standard deviation of the data is probably very close to 0. \n",
      "  warnings.warn(\n"
     ]
    },
    {
     "name": "stdout",
     "output_type": "stream",
     "text": [
      "Reading 0 ... 89525  =      0.000 ...   358.100 secs...\n",
      "Reading 0 ... 85150  =      0.000 ...   340.600 secs...\n",
      "Reading 0 ... 95530  =      0.000 ...   382.120 secs...\n",
      "Reading 0 ... 83079  =      0.000 ...   332.316 secs...\n",
      "Reading 0 ... 84231  =      0.000 ...   336.924 secs...\n",
      "Reading 0 ... 91239  =      0.000 ...   364.956 secs...\n",
      "Reading 0 ... 98059  =      0.000 ...   392.236 secs...\n",
      "Reading 0 ... 88188  =      0.000 ...   352.752 secs...\n",
      "Reading 0 ... 87291  =      0.000 ...   349.164 secs...\n",
      "Reading 0 ... 95679  =      0.000 ...   382.716 secs...\n",
      "Reading 0 ... 85588  =      0.000 ...   342.352 secs...\n",
      "Reading 0 ... 103351  =      0.000 ...   413.404 secs...\n"
     ]
    },
    {
     "name": "stderr",
     "output_type": "stream",
     "text": [
      "/home/dung/eeg-ssl/.venv/lib/python3.10/site-packages/sklearn/preprocessing/_data.py:265: UserWarning: Numerical issues were encountered when scaling the data and might not be solved. The standard deviation of the data is probably very close to 0. \n",
      "  warnings.warn(\n",
      "/home/dung/eeg-ssl/.venv/lib/python3.10/site-packages/sklearn/preprocessing/_data.py:265: UserWarning: Numerical issues were encountered when scaling the data and might not be solved. The standard deviation of the data is probably very close to 0. \n",
      "  warnings.warn(\n",
      "/home/dung/eeg-ssl/.venv/lib/python3.10/site-packages/sklearn/preprocessing/_data.py:265: UserWarning: Numerical issues were encountered when scaling the data and might not be solved. The standard deviation of the data is probably very close to 0. \n",
      "  warnings.warn(\n",
      "/home/dung/eeg-ssl/.venv/lib/python3.10/site-packages/sklearn/preprocessing/_data.py:265: UserWarning: Numerical issues were encountered when scaling the data and might not be solved. The standard deviation of the data is probably very close to 0. \n",
      "  warnings.warn(\n"
     ]
    },
    {
     "name": "stdout",
     "output_type": "stream",
     "text": [
      "Reading 0 ... 88363  =      0.000 ...   353.452 secs...\n",
      "Reading 0 ... 211283  =      0.000 ...   845.132 secs...\n"
     ]
    },
    {
     "name": "stderr",
     "output_type": "stream",
     "text": [
      "/home/dung/eeg-ssl/.venv/lib/python3.10/site-packages/sklearn/preprocessing/_data.py:265: UserWarning: Numerical issues were encountered when scaling the data and might not be solved. The standard deviation of the data is probably very close to 0. \n",
      "  warnings.warn(\n"
     ]
    },
    {
     "name": "stdout",
     "output_type": "stream",
     "text": [
      "Reading 0 ... 88625  =      0.000 ...   354.500 secs...\n",
      "Reading 0 ... 89939  =      0.000 ...   359.756 secs...\n"
     ]
    },
    {
     "name": "stderr",
     "output_type": "stream",
     "text": [
      "/home/dung/eeg-ssl/.venv/lib/python3.10/site-packages/sklearn/preprocessing/_data.py:246: UserWarning: Numerical issues were encountered when centering the data and might not be solved. Dataset may contain too large values. You may need to prescale your features.\n",
      "  warnings.warn(\n"
     ]
    },
    {
     "name": "stdout",
     "output_type": "stream",
     "text": [
      "Reading 0 ... 105427  =      0.000 ...   421.708 secs...\n",
      "Reading 0 ... 154461  =      0.000 ...   617.844 secs...\n",
      "Reading 0 ... 98101  =      0.000 ...   392.404 secs...\n",
      "Reading 0 ... 141226  =      0.000 ...   564.904 secs...\n",
      "Reading 0 ... 85550  =      0.000 ...   342.200 secs...\n",
      "Reading 0 ... 101138  =      0.000 ...   404.552 secs...\n",
      "Reading 0 ... 89417  =      0.000 ...   357.668 secs...\n"
     ]
    },
    {
     "name": "stderr",
     "output_type": "stream",
     "text": [
      "/home/dung/eeg-ssl/.venv/lib/python3.10/site-packages/sklearn/preprocessing/_data.py:265: UserWarning: Numerical issues were encountered when scaling the data and might not be solved. The standard deviation of the data is probably very close to 0. \n",
      "  warnings.warn(\n"
     ]
    },
    {
     "name": "stdout",
     "output_type": "stream",
     "text": [
      "Reading 0 ... 83693  =      0.000 ...   334.772 secs...\n",
      "Reading 0 ... 83719  =      0.000 ...   334.876 secs...\n",
      "Reading 0 ... 84304  =      0.000 ...   337.216 secs...\n",
      "Reading 0 ... 84505  =      0.000 ...   338.020 secs...\n",
      "Reading 0 ... 84355  =      0.000 ...   337.420 secs...\n"
     ]
    },
    {
     "name": "stderr",
     "output_type": "stream",
     "text": [
      "/home/dung/eeg-ssl/.venv/lib/python3.10/site-packages/sklearn/preprocessing/_data.py:265: UserWarning: Numerical issues were encountered when scaling the data and might not be solved. The standard deviation of the data is probably very close to 0. \n",
      "  warnings.warn(\n"
     ]
    },
    {
     "name": "stdout",
     "output_type": "stream",
     "text": [
      "Reading 0 ... 83193  =      0.000 ...   332.772 secs...\n",
      "Reading 0 ... 100251  =      0.000 ...   401.004 secs...\n"
     ]
    },
    {
     "name": "stderr",
     "output_type": "stream",
     "text": [
      "/home/dung/eeg-ssl/.venv/lib/python3.10/site-packages/sklearn/preprocessing/_data.py:265: UserWarning: Numerical issues were encountered when scaling the data and might not be solved. The standard deviation of the data is probably very close to 0. \n",
      "  warnings.warn(\n"
     ]
    },
    {
     "name": "stdout",
     "output_type": "stream",
     "text": [
      "Reading 0 ... 94675  =      0.000 ...   378.700 secs...\n",
      "Reading 0 ... 83642  =      0.000 ...   334.568 secs...\n",
      "Reading 0 ... 139623  =      0.000 ...   558.492 secs...\n",
      "Reading 0 ... 88063  =      0.000 ...   352.252 secs...\n",
      "Reading 0 ... 85688  =      0.000 ...   342.752 secs...\n",
      "Reading 0 ... 84226  =      0.000 ...   336.904 secs...\n",
      "Reading 0 ... 85389  =      0.000 ...   341.556 secs...\n",
      "Reading 0 ... 94167  =      0.000 ...   376.668 secs...\n",
      "Reading 0 ... 94113  =      0.000 ...   376.452 secs...\n",
      "Reading 0 ... 86113  =      0.000 ...   344.452 secs...\n",
      "Reading 0 ... 108176  =      0.000 ...   432.704 secs...\n",
      "Reading 0 ... 82755  =      0.000 ...   331.020 secs...\n",
      "Reading 0 ... 90976  =      0.000 ...   363.904 secs...\n",
      "Reading 0 ... 83817  =      0.000 ...   335.268 secs...\n",
      "Reading 0 ... 84105  =      0.000 ...   336.420 secs...\n",
      "Reading 0 ... 82867  =      0.000 ...   331.468 secs...\n"
     ]
    },
    {
     "name": "stderr",
     "output_type": "stream",
     "text": [
      "/home/dung/eeg-ssl/.venv/lib/python3.10/site-packages/sklearn/preprocessing/_data.py:265: UserWarning: Numerical issues were encountered when scaling the data and might not be solved. The standard deviation of the data is probably very close to 0. \n",
      "  warnings.warn(\n",
      "/home/dung/eeg-ssl/.venv/lib/python3.10/site-packages/sklearn/preprocessing/_data.py:265: UserWarning: Numerical issues were encountered when scaling the data and might not be solved. The standard deviation of the data is probably very close to 0. \n",
      "  warnings.warn(\n",
      "/home/dung/eeg-ssl/.venv/lib/python3.10/site-packages/sklearn/preprocessing/_data.py:265: UserWarning: Numerical issues were encountered when scaling the data and might not be solved. The standard deviation of the data is probably very close to 0. \n",
      "  warnings.warn(\n",
      "/home/dung/eeg-ssl/.venv/lib/python3.10/site-packages/sklearn/preprocessing/_data.py:265: UserWarning: Numerical issues were encountered when scaling the data and might not be solved. The standard deviation of the data is probably very close to 0. \n",
      "  warnings.warn(\n",
      "/home/dung/eeg-ssl/.venv/lib/python3.10/site-packages/sklearn/preprocessing/_data.py:265: UserWarning: Numerical issues were encountered when scaling the data and might not be solved. The standard deviation of the data is probably very close to 0. \n",
      "  warnings.warn(\n",
      "/home/dung/eeg-ssl/.venv/lib/python3.10/site-packages/sklearn/preprocessing/_data.py:265: UserWarning: Numerical issues were encountered when scaling the data and might not be solved. The standard deviation of the data is probably very close to 0. \n",
      "  warnings.warn(\n",
      "/home/dung/eeg-ssl/.venv/lib/python3.10/site-packages/sklearn/preprocessing/_data.py:265: UserWarning: Numerical issues were encountered when scaling the data and might not be solved. The standard deviation of the data is probably very close to 0. \n",
      "  warnings.warn(\n",
      "/home/dung/eeg-ssl/.venv/lib/python3.10/site-packages/sklearn/preprocessing/_data.py:265: UserWarning: Numerical issues were encountered when scaling the data and might not be solved. The standard deviation of the data is probably very close to 0. \n",
      "  warnings.warn(\n"
     ]
    },
    {
     "name": "stdout",
     "output_type": "stream",
     "text": [
      "Reading 0 ... 109551  =      0.000 ...   438.204 secs...\n",
      "Reading 0 ... 103977  =      0.000 ...   415.908 secs...\n",
      "Reading 0 ... 105901  =      0.000 ...   423.604 secs...\n",
      "Reading 0 ... 102775  =      0.000 ...   411.100 secs...\n",
      "Reading 0 ... 84642  =      0.000 ...   338.568 secs...\n",
      "Reading 0 ... 85975  =      0.000 ...   343.900 secs...\n",
      "Reading 0 ... 84593  =      0.000 ...   338.372 secs...\n",
      "Reading 0 ... 100551  =      0.000 ...   402.204 secs...\n",
      "Reading 0 ... 104113  =      0.000 ...   416.452 secs...\n"
     ]
    },
    {
     "name": "stderr",
     "output_type": "stream",
     "text": [
      "/home/dung/eeg-ssl/.venv/lib/python3.10/site-packages/sklearn/preprocessing/_data.py:265: UserWarning: Numerical issues were encountered when scaling the data and might not be solved. The standard deviation of the data is probably very close to 0. \n",
      "  warnings.warn(\n"
     ]
    },
    {
     "name": "stdout",
     "output_type": "stream",
     "text": [
      "Reading 0 ... 85956  =      0.000 ...   343.824 secs...\n",
      "Reading 0 ... 90738  =      0.000 ...   362.952 secs...\n"
     ]
    },
    {
     "data": {
      "text/plain": [
       "<braindecode.datasets.base.BaseConcatDataset at 0x7f0433d4f1c0>"
      ]
     },
     "execution_count": 10,
     "metadata": {},
     "output_type": "execute_result"
    }
   ],
   "source": [
    "from sklearn.preprocessing import scale as standard_scale\n",
    "\n",
    "preprocess(windows_ds, [Preprocessor(standard_scale, channel_wise=True)])"
   ]
  },
  {
   "cell_type": "code",
   "execution_count": 11,
   "metadata": {},
   "outputs": [
    {
     "data": {
      "image/png": "[encoded data removed]",
      "text/plain": [
       "<Figure size 640x480 with 1 Axes>"
      ]
     },
     "metadata": {},
     "output_type": "display_data"
    }
   ],
   "source": [
    "sample_range = list(range(300))\n",
    "plt.plot(sample_range, windows_ds[100][0][0,sample_range])\n",
    "plt.show()"
   ]
  },
  {
   "cell_type": "code",
   "execution_count": 12,
   "metadata": {},
   "outputs": [],
   "source": [
    "import numpy as np\n",
    "from sklearn.model_selection import train_test_split\n",
    "from braindecode.datasets import BaseConcatDataset\n",
    "\n",
    "subjects = np.unique(windows_ds.description['subject'])\n",
    "subj_train, subj_test = train_test_split(\n",
    "    subjects, test_size=0.4, random_state=random_state)\n",
    "subj_valid, subj_test = train_test_split(\n",
    "    subj_test, test_size=0.5, random_state=random_state)"
   ]
  },
  {
   "cell_type": "code",
   "execution_count": 13,
   "metadata": {},
   "outputs": [],
   "source": [
    "class RelativePositioningDataset(BaseConcatDataset):\n",
    "    \"\"\"BaseConcatDataset with __getitem__ that expects 2 indices and a target.\n",
    "    \"\"\"\n",
    "\n",
    "    def __init__(self, list_of_ds):\n",
    "        super().__init__(list_of_ds)\n",
    "        self.return_pair = True\n",
    "\n",
    "    def __getitem__(self, index):\n",
    "        if self.return_pair:\n",
    "            ind1, ind2, y = index\n",
    "            return (super().__getitem__(ind1)[0],\n",
    "                    super().__getitem__(ind2)[0]), y\n",
    "        else:\n",
    "            return super().__getitem__(index)\n",
    "\n",
    "    @property\n",
    "    def return_pair(self):\n",
    "        return self._return_pair\n",
    "\n",
    "    @return_pair.setter\n",
    "    def return_pair(self, value):\n",
    "        self._return_pair = value\n",
    "\n",
    "\n",
    "split_ids = {'train': subj_train, 'valid': subj_valid, 'test': subj_test}\n",
    "splitted = dict()\n",
    "for name, values in split_ids.items():\n",
    "    splitted[name] = RelativePositioningDataset(\n",
    "        [ds for ds in windows_ds.datasets\n",
    "         if ds.description['subject'] in values])\n"
   ]
  },
  {
   "cell_type": "code",
   "execution_count": 14,
   "metadata": {},
   "outputs": [
    {
     "name": "stderr",
     "output_type": "stream",
     "text": [
      "/home/dung/eeg-ssl/.venv/lib/python3.10/site-packages/braindecode/datasets/base.py:514: FutureWarning: The behavior of DataFrame concatenation with empty or all-NA entries is deprecated. In a future version, this will no longer exclude empty or all-NA columns when determining the result dtypes. To retain the old behavior, exclude the relevant entries before the concat operation.\n",
      "  return pd.concat(all_dfs)\n"
     ]
    },
    {
     "data": {
      "text/html": [
       "<div>\n",
       "<style scoped>\n",
       "    .dataframe tbody tr th:only-of-type {\n",
       "        vertical-align: middle;\n",
       "    }\n",
       "\n",
       "    .dataframe tbody tr th {\n",
       "        vertical-align: top;\n",
       "    }\n",
       "\n",
       "    .dataframe thead th {\n",
       "        text-align: right;\n",
       "    }\n",
       "</style>\n",
       "<table border=\"1\" class=\"dataframe\">\n",
       "  <thead>\n",
       "    <tr style=\"text-align: right;\">\n",
       "      <th></th>\n",
       "      <th>i_window_in_trial</th>\n",
       "      <th>i_start_in_trial</th>\n",
       "      <th>i_stop_in_trial</th>\n",
       "      <th>target</th>\n",
       "      <th>task</th>\n",
       "      <th>session</th>\n",
       "      <th>run</th>\n",
       "      <th>subject</th>\n",
       "      <th>sfreq</th>\n",
       "      <th>age</th>\n",
       "      <th>sex</th>\n",
       "      <th>ehq_total</th>\n",
       "      <th>p_factor</th>\n",
       "      <th>attention</th>\n",
       "      <th>internalizing</th>\n",
       "      <th>externalizing</th>\n",
       "    </tr>\n",
       "  </thead>\n",
       "  <tbody>\n",
       "    <tr>\n",
       "      <th>0</th>\n",
       "      <td>0</td>\n",
       "      <td>0</td>\n",
       "      <td>500</td>\n",
       "      <td>-1</td>\n",
       "      <td>RestingState</td>\n",
       "      <td></td>\n",
       "      <td></td>\n",
       "      <td>NDARZD415ZZ1</td>\n",
       "      <td>500</td>\n",
       "      <td>7.6979</td>\n",
       "      <td>M</td>\n",
       "      <td>93.38</td>\n",
       "      <td>-0.66</td>\n",
       "      <td>0.786</td>\n",
       "      <td>0.657</td>\n",
       "      <td>-0.398</td>\n",
       "    </tr>\n",
       "    <tr>\n",
       "      <th>1</th>\n",
       "      <td>1</td>\n",
       "      <td>500</td>\n",
       "      <td>1000</td>\n",
       "      <td>-1</td>\n",
       "      <td>RestingState</td>\n",
       "      <td></td>\n",
       "      <td></td>\n",
       "      <td>NDARZD415ZZ1</td>\n",
       "      <td>500</td>\n",
       "      <td>7.6979</td>\n",
       "      <td>M</td>\n",
       "      <td>93.38</td>\n",
       "      <td>-0.66</td>\n",
       "      <td>0.786</td>\n",
       "      <td>0.657</td>\n",
       "      <td>-0.398</td>\n",
       "    </tr>\n",
       "    <tr>\n",
       "      <th>2</th>\n",
       "      <td>2</td>\n",
       "      <td>1000</td>\n",
       "      <td>1500</td>\n",
       "      <td>-1</td>\n",
       "      <td>RestingState</td>\n",
       "      <td></td>\n",
       "      <td></td>\n",
       "      <td>NDARZD415ZZ1</td>\n",
       "      <td>500</td>\n",
       "      <td>7.6979</td>\n",
       "      <td>M</td>\n",
       "      <td>93.38</td>\n",
       "      <td>-0.66</td>\n",
       "      <td>0.786</td>\n",
       "      <td>0.657</td>\n",
       "      <td>-0.398</td>\n",
       "    </tr>\n",
       "    <tr>\n",
       "      <th>3</th>\n",
       "      <td>3</td>\n",
       "      <td>1500</td>\n",
       "      <td>2000</td>\n",
       "      <td>-1</td>\n",
       "      <td>RestingState</td>\n",
       "      <td></td>\n",
       "      <td></td>\n",
       "      <td>NDARZD415ZZ1</td>\n",
       "      <td>500</td>\n",
       "      <td>7.6979</td>\n",
       "      <td>M</td>\n",
       "      <td>93.38</td>\n",
       "      <td>-0.66</td>\n",
       "      <td>0.786</td>\n",
       "      <td>0.657</td>\n",
       "      <td>-0.398</td>\n",
       "    </tr>\n",
       "    <tr>\n",
       "      <th>4</th>\n",
       "      <td>4</td>\n",
       "      <td>2000</td>\n",
       "      <td>2500</td>\n",
       "      <td>-1</td>\n",
       "      <td>RestingState</td>\n",
       "      <td></td>\n",
       "      <td></td>\n",
       "      <td>NDARZD415ZZ1</td>\n",
       "      <td>500</td>\n",
       "      <td>7.6979</td>\n",
       "      <td>M</td>\n",
       "      <td>93.38</td>\n",
       "      <td>-0.66</td>\n",
       "      <td>0.786</td>\n",
       "      <td>0.657</td>\n",
       "      <td>-0.398</td>\n",
       "    </tr>\n",
       "    <tr>\n",
       "      <th>...</th>\n",
       "      <td>...</td>\n",
       "      <td>...</td>\n",
       "      <td>...</td>\n",
       "      <td>...</td>\n",
       "      <td>...</td>\n",
       "      <td>...</td>\n",
       "      <td>...</td>\n",
       "      <td>...</td>\n",
       "      <td>...</td>\n",
       "      <td>...</td>\n",
       "      <td>...</td>\n",
       "      <td>...</td>\n",
       "      <td>...</td>\n",
       "      <td>...</td>\n",
       "      <td>...</td>\n",
       "      <td>...</td>\n",
       "    </tr>\n",
       "    <tr>\n",
       "      <th>166</th>\n",
       "      <td>166</td>\n",
       "      <td>83000</td>\n",
       "      <td>83500</td>\n",
       "      <td>-1</td>\n",
       "      <td>RestingState</td>\n",
       "      <td></td>\n",
       "      <td></td>\n",
       "      <td>NDARTH433TE0</td>\n",
       "      <td>500</td>\n",
       "      <td>5.4358</td>\n",
       "      <td>M</td>\n",
       "      <td>100.05</td>\n",
       "      <td>0.94</td>\n",
       "      <td>-0.637</td>\n",
       "      <td>-0.349</td>\n",
       "      <td>1.055</td>\n",
       "    </tr>\n",
       "    <tr>\n",
       "      <th>167</th>\n",
       "      <td>167</td>\n",
       "      <td>83500</td>\n",
       "      <td>84000</td>\n",
       "      <td>-1</td>\n",
       "      <td>RestingState</td>\n",
       "      <td></td>\n",
       "      <td></td>\n",
       "      <td>NDARTH433TE0</td>\n",
       "      <td>500</td>\n",
       "      <td>5.4358</td>\n",
       "      <td>M</td>\n",
       "      <td>100.05</td>\n",
       "      <td>0.94</td>\n",
       "      <td>-0.637</td>\n",
       "      <td>-0.349</td>\n",
       "      <td>1.055</td>\n",
       "    </tr>\n",
       "    <tr>\n",
       "      <th>168</th>\n",
       "      <td>168</td>\n",
       "      <td>84000</td>\n",
       "      <td>84500</td>\n",
       "      <td>-1</td>\n",
       "      <td>RestingState</td>\n",
       "      <td></td>\n",
       "      <td></td>\n",
       "      <td>NDARTH433TE0</td>\n",
       "      <td>500</td>\n",
       "      <td>5.4358</td>\n",
       "      <td>M</td>\n",
       "      <td>100.05</td>\n",
       "      <td>0.94</td>\n",
       "      <td>-0.637</td>\n",
       "      <td>-0.349</td>\n",
       "      <td>1.055</td>\n",
       "    </tr>\n",
       "    <tr>\n",
       "      <th>169</th>\n",
       "      <td>169</td>\n",
       "      <td>84500</td>\n",
       "      <td>85000</td>\n",
       "      <td>-1</td>\n",
       "      <td>RestingState</td>\n",
       "      <td></td>\n",
       "      <td></td>\n",
       "      <td>NDARTH433TE0</td>\n",
       "      <td>500</td>\n",
       "      <td>5.4358</td>\n",
       "      <td>M</td>\n",
       "      <td>100.05</td>\n",
       "      <td>0.94</td>\n",
       "      <td>-0.637</td>\n",
       "      <td>-0.349</td>\n",
       "      <td>1.055</td>\n",
       "    </tr>\n",
       "    <tr>\n",
       "      <th>170</th>\n",
       "      <td>170</td>\n",
       "      <td>85000</td>\n",
       "      <td>85500</td>\n",
       "      <td>-1</td>\n",
       "      <td>RestingState</td>\n",
       "      <td></td>\n",
       "      <td></td>\n",
       "      <td>NDARTH433TE0</td>\n",
       "      <td>500</td>\n",
       "      <td>5.4358</td>\n",
       "      <td>M</td>\n",
       "      <td>100.05</td>\n",
       "      <td>0.94</td>\n",
       "      <td>-0.637</td>\n",
       "      <td>-0.349</td>\n",
       "      <td>1.055</td>\n",
       "    </tr>\n",
       "  </tbody>\n",
       "</table>\n",
       "<p>32162 rows × 16 columns</p>\n",
       "</div>"
      ],
      "text/plain": [
       "     i_window_in_trial  i_start_in_trial  i_stop_in_trial  target  \\\n",
       "0                    0                 0              500      -1   \n",
       "1                    1               500             1000      -1   \n",
       "2                    2              1000             1500      -1   \n",
       "3                    3              1500             2000      -1   \n",
       "4                    4              2000             2500      -1   \n",
       "..                 ...               ...              ...     ...   \n",
       "166                166             83000            83500      -1   \n",
       "167                167             83500            84000      -1   \n",
       "168                168             84000            84500      -1   \n",
       "169                169             84500            85000      -1   \n",
       "170                170             85000            85500      -1   \n",
       "\n",
       "             task session run       subject  sfreq     age sex  ehq_total  \\\n",
       "0    RestingState              NDARZD415ZZ1    500  7.6979   M      93.38   \n",
       "1    RestingState              NDARZD415ZZ1    500  7.6979   M      93.38   \n",
       "2    RestingState              NDARZD415ZZ1    500  7.6979   M      93.38   \n",
       "3    RestingState              NDARZD415ZZ1    500  7.6979   M      93.38   \n",
       "4    RestingState              NDARZD415ZZ1    500  7.6979   M      93.38   \n",
       "..            ...     ...  ..           ...    ...     ...  ..        ...   \n",
       "166  RestingState              NDARTH433TE0    500  5.4358   M     100.05   \n",
       "167  RestingState              NDARTH433TE0    500  5.4358   M     100.05   \n",
       "168  RestingState              NDARTH433TE0    500  5.4358   M     100.05   \n",
       "169  RestingState              NDARTH433TE0    500  5.4358   M     100.05   \n",
       "170  RestingState              NDARTH433TE0    500  5.4358   M     100.05   \n",
       "\n",
       "     p_factor  attention  internalizing  externalizing  \n",
       "0       -0.66      0.786          0.657         -0.398  \n",
       "1       -0.66      0.786          0.657         -0.398  \n",
       "2       -0.66      0.786          0.657         -0.398  \n",
       "3       -0.66      0.786          0.657         -0.398  \n",
       "4       -0.66      0.786          0.657         -0.398  \n",
       "..        ...        ...            ...            ...  \n",
       "166      0.94     -0.637         -0.349          1.055  \n",
       "167      0.94     -0.637         -0.349          1.055  \n",
       "168      0.94     -0.637         -0.349          1.055  \n",
       "169      0.94     -0.637         -0.349          1.055  \n",
       "170      0.94     -0.637         -0.349          1.055  \n",
       "\n",
       "[32162 rows x 16 columns]"
      ]
     },
     "execution_count": 14,
     "metadata": {},
     "output_type": "execute_result"
    }
   ],
   "source": [
    "splitted['train'].get_metadata()"
   ]
  },
  {
   "cell_type": "code",
   "execution_count": 15,
   "metadata": {},
   "outputs": [
    {
     "name": "stderr",
     "output_type": "stream",
     "text": [
      "/home/dung/eeg-ssl/.venv/lib/python3.10/site-packages/braindecode/datasets/base.py:514: FutureWarning: The behavior of DataFrame concatenation with empty or all-NA entries is deprecated. In a future version, this will no longer exclude empty or all-NA columns when determining the result dtypes. To retain the old behavior, exclude the relevant entries before the concat operation.\n",
      "  return pd.concat(all_dfs)\n",
      "/home/dung/eeg-ssl/.venv/lib/python3.10/site-packages/braindecode/datasets/base.py:514: FutureWarning: The behavior of DataFrame concatenation with empty or all-NA entries is deprecated. In a future version, this will no longer exclude empty or all-NA columns when determining the result dtypes. To retain the old behavior, exclude the relevant entries before the concat operation.\n",
      "  return pd.concat(all_dfs)\n",
      "/home/dung/eeg-ssl/.venv/lib/python3.10/site-packages/braindecode/datasets/base.py:514: FutureWarning: The behavior of DataFrame concatenation with empty or all-NA entries is deprecated. In a future version, this will no longer exclude empty or all-NA columns when determining the result dtypes. To retain the old behavior, exclude the relevant entries before the concat operation.\n",
      "  return pd.concat(all_dfs)\n"
     ]
    }
   ],
   "source": [
    "from braindecode.samplers import RelativePositioningSampler\n",
    "\n",
    "sfreq = 250\n",
    "tau_pos, tau_neg = int(sfreq * 10), int(sfreq * 2 * 10)\n",
    "n_examples_train = 250 * len(splitted['train'].datasets)\n",
    "n_examples_valid = 250 * len(splitted['valid'].datasets)\n",
    "n_examples_test = 250 * len(splitted['test'].datasets)\n",
    "\n",
    "train_sampler = RelativePositioningSampler(\n",
    "    splitted['train'].get_metadata(), tau_pos=tau_pos, tau_neg=tau_neg,\n",
    "    n_examples=n_examples_train, same_rec_neg=True, random_state=random_state)\n",
    "valid_sampler = RelativePositioningSampler(\n",
    "    splitted['valid'].get_metadata(), tau_pos=tau_pos, tau_neg=tau_neg,\n",
    "    n_examples=n_examples_valid, same_rec_neg=True,\n",
    "    random_state=random_state).presample()\n",
    "test_sampler = RelativePositioningSampler(\n",
    "    splitted['test'].get_metadata(), tau_pos=tau_pos, tau_neg=tau_neg,\n",
    "    n_examples=n_examples_test, same_rec_neg=True,\n",
    "    random_state=random_state).presample()"
   ]
  },
  {
   "cell_type": "code",
   "execution_count": 18,
   "metadata": {},
   "outputs": [
    {
     "name": "stdout",
     "output_type": "stream",
     "text": [
      "129 500\n"
     ]
    },
    {
     "ename": "ValueError",
     "evalue": "n_times=500 different from input_window_seconds=30 * sfreq=250",
     "output_type": "error",
     "traceback": [
      "\u001b[0;31m---------------------------------------------------------------------------\u001b[0m",
      "\u001b[0;31mValueError\u001b[0m                                Traceback (most recent call last)",
      "Cell \u001b[0;32mIn[18], line 23\u001b[0m\n\u001b[1;32m     20\u001b[0m emb_size \u001b[38;5;241m=\u001b[39m \u001b[38;5;241m100\u001b[39m\n\u001b[1;32m     21\u001b[0m classes \u001b[38;5;241m=\u001b[39m \u001b[38;5;28mlist\u001b[39m(\u001b[38;5;28mrange\u001b[39m(\u001b[38;5;241m5\u001b[39m))\n\u001b[0;32m---> 23\u001b[0m emb \u001b[38;5;241m=\u001b[39m \u001b[43mSleepStagerChambon2018\u001b[49m\u001b[43m(\u001b[49m\n\u001b[1;32m     24\u001b[0m \u001b[43m    \u001b[49m\u001b[43mn_channels\u001b[49m\u001b[43m,\u001b[49m\n\u001b[1;32m     25\u001b[0m \u001b[43m    \u001b[49m\u001b[43msfreq\u001b[49m\u001b[43m,\u001b[49m\n\u001b[1;32m     26\u001b[0m \u001b[43m    \u001b[49m\u001b[43mn_outputs\u001b[49m\u001b[38;5;241;43m=\u001b[39;49m\u001b[43memb_size\u001b[49m\u001b[43m,\u001b[49m\n\u001b[1;32m     27\u001b[0m \u001b[43m    \u001b[49m\u001b[43mn_conv_chs\u001b[49m\u001b[38;5;241;43m=\u001b[39;49m\u001b[38;5;241;43m16\u001b[39;49m\u001b[43m,\u001b[49m\n\u001b[1;32m     28\u001b[0m \u001b[43m    \u001b[49m\u001b[43mn_times\u001b[49m\u001b[38;5;241;43m=\u001b[39;49m\u001b[43minput_size_samples\u001b[49m\u001b[43m,\u001b[49m\n\u001b[1;32m     29\u001b[0m \u001b[43m    \u001b[49m\u001b[43mdropout\u001b[49m\u001b[38;5;241;43m=\u001b[39;49m\u001b[38;5;241;43m0\u001b[39;49m\u001b[43m,\u001b[49m\n\u001b[1;32m     30\u001b[0m \u001b[43m    \u001b[49m\u001b[43mapply_batch_norm\u001b[49m\u001b[38;5;241;43m=\u001b[39;49m\u001b[38;5;28;43;01mTrue\u001b[39;49;00m\u001b[43m,\u001b[49m\n\u001b[1;32m     31\u001b[0m \u001b[43m)\u001b[49m\n\u001b[1;32m     34\u001b[0m \u001b[38;5;28;01mclass\u001b[39;00m \u001b[38;5;21;01mContrastiveNet\u001b[39;00m(nn\u001b[38;5;241m.\u001b[39mModule):\n\u001b[1;32m     35\u001b[0m \u001b[38;5;250m    \u001b[39m\u001b[38;5;124;03m\"\"\"Contrastive module with linear layer on top of siamese embedder.\u001b[39;00m\n\u001b[1;32m     36\u001b[0m \n\u001b[1;32m     37\u001b[0m \u001b[38;5;124;03m    Parameters\u001b[39;00m\n\u001b[0;32m   (...)\u001b[0m\n\u001b[1;32m     44\u001b[0m \u001b[38;5;124;03m        Dropout rate applied to the linear layer of the contrastive module.\u001b[39;00m\n\u001b[1;32m     45\u001b[0m \u001b[38;5;124;03m    \"\"\"\u001b[39;00m\n",
      "File \u001b[0;32m~/eeg-ssl/.venv/lib/python3.10/site-packages/braindecode/models/sleep_stager_chambon_2018.py:79\u001b[0m, in \u001b[0;36mSleepStagerChambon2018.__init__\u001b[0;34m(self, n_chans, sfreq, n_conv_chs, time_conv_size_s, max_pool_size_s, pad_size_s, input_window_seconds, n_outputs, dropout, apply_batch_norm, return_feats, chs_info, n_times, n_channels, input_size_s, n_classes)\u001b[0m\n\u001b[1;32m     54\u001b[0m \u001b[38;5;28;01mdef\u001b[39;00m \u001b[38;5;21m__init__\u001b[39m(\n\u001b[1;32m     55\u001b[0m         \u001b[38;5;28mself\u001b[39m,\n\u001b[1;32m     56\u001b[0m         n_chans\u001b[38;5;241m=\u001b[39m\u001b[38;5;28;01mNone\u001b[39;00m,\n\u001b[0;32m   (...)\u001b[0m\n\u001b[1;32m     71\u001b[0m         n_classes\u001b[38;5;241m=\u001b[39m\u001b[38;5;28;01mNone\u001b[39;00m,\n\u001b[1;32m     72\u001b[0m ):\n\u001b[1;32m     73\u001b[0m     n_chans, n_outputs, input_window_seconds, \u001b[38;5;241m=\u001b[39m deprecated_args(\n\u001b[1;32m     74\u001b[0m         \u001b[38;5;28mself\u001b[39m,\n\u001b[1;32m     75\u001b[0m         (\u001b[38;5;124m\"\u001b[39m\u001b[38;5;124mn_channels\u001b[39m\u001b[38;5;124m\"\u001b[39m, \u001b[38;5;124m\"\u001b[39m\u001b[38;5;124mn_chans\u001b[39m\u001b[38;5;124m\"\u001b[39m, n_channels, n_chans),\n\u001b[1;32m     76\u001b[0m         (\u001b[38;5;124m\"\u001b[39m\u001b[38;5;124mn_classes\u001b[39m\u001b[38;5;124m\"\u001b[39m, \u001b[38;5;124m\"\u001b[39m\u001b[38;5;124mn_outputs\u001b[39m\u001b[38;5;124m\"\u001b[39m, n_classes, n_outputs),\n\u001b[1;32m     77\u001b[0m         (\u001b[38;5;124m\"\u001b[39m\u001b[38;5;124minput_size_s\u001b[39m\u001b[38;5;124m\"\u001b[39m, \u001b[38;5;124m\"\u001b[39m\u001b[38;5;124minput_window_seconds\u001b[39m\u001b[38;5;124m\"\u001b[39m, input_size_s, input_window_seconds),\n\u001b[1;32m     78\u001b[0m     )\n\u001b[0;32m---> 79\u001b[0m     \u001b[38;5;28;43msuper\u001b[39;49m\u001b[43m(\u001b[49m\u001b[43m)\u001b[49m\u001b[38;5;241;43m.\u001b[39;49m\u001b[38;5;21;43m__init__\u001b[39;49m\u001b[43m(\u001b[49m\n\u001b[1;32m     80\u001b[0m \u001b[43m        \u001b[49m\u001b[43mn_outputs\u001b[49m\u001b[38;5;241;43m=\u001b[39;49m\u001b[43mn_outputs\u001b[49m\u001b[43m,\u001b[49m\n\u001b[1;32m     81\u001b[0m \u001b[43m        \u001b[49m\u001b[43mn_chans\u001b[49m\u001b[38;5;241;43m=\u001b[39;49m\u001b[43mn_chans\u001b[49m\u001b[43m,\u001b[49m\n\u001b[1;32m     82\u001b[0m \u001b[43m        \u001b[49m\u001b[43mchs_info\u001b[49m\u001b[38;5;241;43m=\u001b[39;49m\u001b[43mchs_info\u001b[49m\u001b[43m,\u001b[49m\n\u001b[1;32m     83\u001b[0m \u001b[43m        \u001b[49m\u001b[43mn_times\u001b[49m\u001b[38;5;241;43m=\u001b[39;49m\u001b[43mn_times\u001b[49m\u001b[43m,\u001b[49m\n\u001b[1;32m     84\u001b[0m \u001b[43m        \u001b[49m\u001b[43minput_window_seconds\u001b[49m\u001b[38;5;241;43m=\u001b[39;49m\u001b[43minput_window_seconds\u001b[49m\u001b[43m,\u001b[49m\n\u001b[1;32m     85\u001b[0m \u001b[43m        \u001b[49m\u001b[43msfreq\u001b[49m\u001b[38;5;241;43m=\u001b[39;49m\u001b[43msfreq\u001b[49m\u001b[43m,\u001b[49m\n\u001b[1;32m     86\u001b[0m \u001b[43m    \u001b[49m\u001b[43m)\u001b[49m\n\u001b[1;32m     87\u001b[0m     \u001b[38;5;28;01mdel\u001b[39;00m n_outputs, n_chans, chs_info, n_times, input_window_seconds, sfreq\n\u001b[1;32m     88\u001b[0m     \u001b[38;5;28;01mdel\u001b[39;00m n_channels, n_classes, input_size_s\n",
      "File \u001b[0;32m~/eeg-ssl/.venv/lib/python3.10/site-packages/braindecode/models/base.py:97\u001b[0m, in \u001b[0;36mEEGModuleMixin.__init__\u001b[0;34m(self, n_outputs, n_chans, chs_info, n_times, input_window_seconds, sfreq, add_log_softmax)\u001b[0m\n\u001b[1;32m     90\u001b[0m     \u001b[38;5;28;01mraise\u001b[39;00m \u001b[38;5;167;01mValueError\u001b[39;00m(\u001b[38;5;124mf\u001b[39m\u001b[38;5;124m'\u001b[39m\u001b[38;5;132;01m{\u001b[39;00mn_chans\u001b[38;5;132;01m=}\u001b[39;00m\u001b[38;5;124m different from \u001b[39m\u001b[38;5;132;01m{\u001b[39;00mchs_info\u001b[38;5;132;01m=}\u001b[39;00m\u001b[38;5;124m length\u001b[39m\u001b[38;5;124m'\u001b[39m)\n\u001b[1;32m     91\u001b[0m \u001b[38;5;28;01mif\u001b[39;00m (\n\u001b[1;32m     92\u001b[0m         n_times \u001b[38;5;129;01mis\u001b[39;00m \u001b[38;5;129;01mnot\u001b[39;00m \u001b[38;5;28;01mNone\u001b[39;00m \u001b[38;5;129;01mand\u001b[39;00m\n\u001b[1;32m     93\u001b[0m         input_window_seconds \u001b[38;5;129;01mis\u001b[39;00m \u001b[38;5;129;01mnot\u001b[39;00m \u001b[38;5;28;01mNone\u001b[39;00m \u001b[38;5;129;01mand\u001b[39;00m\n\u001b[1;32m     94\u001b[0m         sfreq \u001b[38;5;129;01mis\u001b[39;00m \u001b[38;5;129;01mnot\u001b[39;00m \u001b[38;5;28;01mNone\u001b[39;00m \u001b[38;5;129;01mand\u001b[39;00m\n\u001b[1;32m     95\u001b[0m         n_times \u001b[38;5;241m!=\u001b[39m \u001b[38;5;28mint\u001b[39m(input_window_seconds \u001b[38;5;241m*\u001b[39m sfreq)\n\u001b[1;32m     96\u001b[0m ):\n\u001b[0;32m---> 97\u001b[0m     \u001b[38;5;28;01mraise\u001b[39;00m \u001b[38;5;167;01mValueError\u001b[39;00m(\n\u001b[1;32m     98\u001b[0m         \u001b[38;5;124mf\u001b[39m\u001b[38;5;124m'\u001b[39m\u001b[38;5;132;01m{\u001b[39;00mn_times\u001b[38;5;132;01m=}\u001b[39;00m\u001b[38;5;124m different from \u001b[39m\u001b[38;5;124m'\u001b[39m\n\u001b[1;32m     99\u001b[0m         \u001b[38;5;124mf\u001b[39m\u001b[38;5;124m'\u001b[39m\u001b[38;5;132;01m{\u001b[39;00minput_window_seconds\u001b[38;5;132;01m=}\u001b[39;00m\u001b[38;5;124m * \u001b[39m\u001b[38;5;132;01m{\u001b[39;00msfreq\u001b[38;5;132;01m=}\u001b[39;00m\u001b[38;5;124m'\u001b[39m\n\u001b[1;32m    100\u001b[0m     )\n\u001b[1;32m    101\u001b[0m \u001b[38;5;28mself\u001b[39m\u001b[38;5;241m.\u001b[39m_n_outputs \u001b[38;5;241m=\u001b[39m n_outputs\n\u001b[1;32m    102\u001b[0m \u001b[38;5;28mself\u001b[39m\u001b[38;5;241m.\u001b[39m_n_chans \u001b[38;5;241m=\u001b[39m n_chans\n",
      "\u001b[0;31mValueError\u001b[0m: n_times=500 different from input_window_seconds=30 * sfreq=250"
     ]
    }
   ],
   "source": [
    "import torch\n",
    "from torch import nn\n",
    "from braindecode.util import set_random_seeds\n",
    "from braindecode.models import SleepStagerChambon2018\n",
    "\n",
    "device = 'cuda' if torch.cuda.is_available() else 'cpu'\n",
    "if device == 'cuda':\n",
    "    torch.backends.cudnn.benchmark = False\n",
    "# Set random seed to be able to roughly reproduce results\n",
    "# Note that with cudnn benchmark set to True, GPU indeterminism\n",
    "# may still make results substantially different between runs.\n",
    "# To obtain more consistent results at the cost of increased computation time,\n",
    "# you can set `cudnn_benchmark=False` in `set_random_seeds`\n",
    "# or remove `torch.backends.cudnn.benchmark = True`\n",
    "set_random_seeds(seed=random_state, cuda=device == 'cuda')\n",
    "\n",
    "# Extract number of channels and time steps from dataset\n",
    "n_channels, input_size_samples = windows_ds[0][0].shape\n",
    "print(n_channels, input_size_samples)\n",
    "emb_size = 100\n",
    "classes = list(range(5))\n",
    "\n",
    "emb = SleepStagerChambon2018(\n",
    "    n_channels,\n",
    "    sfreq,\n",
    "    n_outputs=emb_size,\n",
    "    n_conv_chs=16,\n",
    "    n_times=input_size_samples,\n",
    "    dropout=0,\n",
    "    apply_batch_norm=True,\n",
    ")\n",
    "\n",
    "\n",
    "class ContrastiveNet(nn.Module):\n",
    "    \"\"\"Contrastive module with linear layer on top of siamese embedder.\n",
    "\n",
    "    Parameters\n",
    "    ----------\n",
    "    emb : nn.Module\n",
    "        Embedder architecture.\n",
    "    emb_size : int\n",
    "        Output size of the embedder.\n",
    "    dropout : float\n",
    "        Dropout rate applied to the linear layer of the contrastive module.\n",
    "    \"\"\"\n",
    "\n",
    "    def __init__(self, emb, emb_size, dropout=0.5):\n",
    "        super().__init__()\n",
    "        self.emb = emb\n",
    "        self.clf = nn.Sequential(\n",
    "            nn.Dropout(dropout),\n",
    "            nn.Linear(emb_size, 1)\n",
    "        )\n",
    "\n",
    "    def forward(self, x):\n",
    "        x1, x2 = x\n",
    "        z1, z2 = self.emb(x1), self.emb(x2)\n",
    "        return self.clf(torch.abs(z1 - z2)).flatten()\n",
    "\n",
    "\n",
    "model = ContrastiveNet(emb, emb_size).to(device)"
   ]
  },
  {
   "cell_type": "code",
   "execution_count": 17,
   "metadata": {},
   "outputs": [
    {
     "ename": "NameError",
     "evalue": "name 'model' is not defined",
     "output_type": "error",
     "traceback": [
      "\u001b[0;31m---------------------------------------------------------------------------\u001b[0m",
      "\u001b[0;31mNameError\u001b[0m                                 Traceback (most recent call last)",
      "Cell \u001b[0;32mIn[17], line 24\u001b[0m\n\u001b[1;32m     14\u001b[0m train_acc \u001b[38;5;241m=\u001b[39m EpochScoring(\n\u001b[1;32m     15\u001b[0m     scoring\u001b[38;5;241m=\u001b[39m\u001b[38;5;124m'\u001b[39m\u001b[38;5;124maccuracy\u001b[39m\u001b[38;5;124m'\u001b[39m, on_train\u001b[38;5;241m=\u001b[39m\u001b[38;5;28;01mTrue\u001b[39;00m, name\u001b[38;5;241m=\u001b[39m\u001b[38;5;124m'\u001b[39m\u001b[38;5;124mtrain_acc\u001b[39m\u001b[38;5;124m'\u001b[39m, lower_is_better\u001b[38;5;241m=\u001b[39m\u001b[38;5;28;01mFalse\u001b[39;00m)\n\u001b[1;32m     17\u001b[0m callbacks \u001b[38;5;241m=\u001b[39m [\n\u001b[1;32m     18\u001b[0m     (\u001b[38;5;124m'\u001b[39m\u001b[38;5;124mcp\u001b[39m\u001b[38;5;124m'\u001b[39m, cp),\n\u001b[1;32m     19\u001b[0m     (\u001b[38;5;124m'\u001b[39m\u001b[38;5;124mpatience\u001b[39m\u001b[38;5;124m'\u001b[39m, early_stopping),\n\u001b[1;32m     20\u001b[0m     (\u001b[38;5;124m'\u001b[39m\u001b[38;5;124mtrain_acc\u001b[39m\u001b[38;5;124m'\u001b[39m, train_acc),\n\u001b[1;32m     21\u001b[0m ]\n\u001b[1;32m     23\u001b[0m clf \u001b[38;5;241m=\u001b[39m EEGClassifier(\n\u001b[0;32m---> 24\u001b[0m     \u001b[43mmodel\u001b[49m,\n\u001b[1;32m     25\u001b[0m     criterion\u001b[38;5;241m=\u001b[39mtorch\u001b[38;5;241m.\u001b[39mnn\u001b[38;5;241m.\u001b[39mBCEWithLogitsLoss,\n\u001b[1;32m     26\u001b[0m     optimizer\u001b[38;5;241m=\u001b[39mtorch\u001b[38;5;241m.\u001b[39moptim\u001b[38;5;241m.\u001b[39mAdam,\n\u001b[1;32m     27\u001b[0m     max_epochs\u001b[38;5;241m=\u001b[39mn_epochs,\n\u001b[1;32m     28\u001b[0m     iterator_train__shuffle\u001b[38;5;241m=\u001b[39m\u001b[38;5;28;01mFalse\u001b[39;00m,\n\u001b[1;32m     29\u001b[0m     iterator_train__sampler\u001b[38;5;241m=\u001b[39mtrain_sampler,\n\u001b[1;32m     30\u001b[0m     iterator_valid__sampler\u001b[38;5;241m=\u001b[39mvalid_sampler,\n\u001b[1;32m     31\u001b[0m     iterator_train__num_workers\u001b[38;5;241m=\u001b[39mnum_workers,\n\u001b[1;32m     32\u001b[0m     iterator_valid__num_workers\u001b[38;5;241m=\u001b[39mnum_workers,\n\u001b[1;32m     33\u001b[0m     train_split\u001b[38;5;241m=\u001b[39mpredefined_split(splitted[\u001b[38;5;124m'\u001b[39m\u001b[38;5;124mvalid\u001b[39m\u001b[38;5;124m'\u001b[39m]),\n\u001b[1;32m     34\u001b[0m     optimizer__lr\u001b[38;5;241m=\u001b[39mlr,\n\u001b[1;32m     35\u001b[0m     batch_size\u001b[38;5;241m=\u001b[39mbatch_size,\n\u001b[1;32m     36\u001b[0m     callbacks\u001b[38;5;241m=\u001b[39mcallbacks,\n\u001b[1;32m     37\u001b[0m     device\u001b[38;5;241m=\u001b[39mdevice,\n\u001b[1;32m     38\u001b[0m     classes\u001b[38;5;241m=\u001b[39mclasses,\n\u001b[1;32m     39\u001b[0m )\n\u001b[1;32m     40\u001b[0m \u001b[38;5;66;03m# Model training for a specified number of epochs. `y` is None as it is already\u001b[39;00m\n\u001b[1;32m     41\u001b[0m \u001b[38;5;66;03m# supplied in the dataset.\u001b[39;00m\n\u001b[1;32m     42\u001b[0m clf\u001b[38;5;241m.\u001b[39mfit(splitted[\u001b[38;5;124m'\u001b[39m\u001b[38;5;124mtrain\u001b[39m\u001b[38;5;124m'\u001b[39m], y\u001b[38;5;241m=\u001b[39m\u001b[38;5;28;01mNone\u001b[39;00m)\n",
      "\u001b[0;31mNameError\u001b[0m: name 'model' is not defined"
     ]
    }
   ],
   "source": [
    "import os\n",
    "\n",
    "from skorch.helper import predefined_split\n",
    "from skorch.callbacks import Checkpoint, EarlyStopping, EpochScoring\n",
    "from braindecode import EEGClassifier\n",
    "\n",
    "lr = 5e-3\n",
    "batch_size = 12  # 512 if data large enough\n",
    "n_epochs = 25\n",
    "num_workers = 0 if n_jobs <= 1 else n_jobs\n",
    "\n",
    "cp = Checkpoint(dirname='', f_criterion=None, f_optimizer=None, f_history=None)\n",
    "early_stopping = EarlyStopping(patience=10)\n",
    "train_acc = EpochScoring(\n",
    "    scoring='accuracy', on_train=True, name='train_acc', lower_is_better=False)\n",
    "\n",
    "callbacks = [\n",
    "    ('cp', cp),\n",
    "    ('patience', early_stopping),\n",
    "    ('train_acc', train_acc),\n",
    "]\n",
    "\n",
    "clf = EEGClassifier(\n",
    "    model,\n",
    "    criterion=torch.nn.BCEWithLogitsLoss,\n",
    "    optimizer=torch.optim.Adam,\n",
    "    max_epochs=n_epochs,\n",
    "    iterator_train__shuffle=False,\n",
    "    iterator_train__sampler=train_sampler,\n",
    "    iterator_valid__sampler=valid_sampler,\n",
    "    iterator_train__num_workers=num_workers,\n",
    "    iterator_valid__num_workers=num_workers,\n",
    "    train_split=predefined_split(splitted['valid']),\n",
    "    optimizer__lr=lr,\n",
    "    batch_size=batch_size,\n",
    "    callbacks=callbacks,\n",
    "    device=device,\n",
    "    classes=classes,\n",
    ")\n",
    "# Model training for a specified number of epochs. `y` is None as it is already\n",
    "# supplied in the dataset.\n",
    "clf.fit(splitted['train'], y=None)\n",
    "clf.load_params(checkpoint=cp)  # Load the model with the lowest valid_loss\n",
    "\n",
    "os.remove('./params.pt')  # Delete parameters file"
   ]
  },
  {
   "cell_type": "markdown",
   "metadata": {},
   "source": [
    "# Torch Lightning"
   ]
  },
  {
   "cell_type": "code",
   "execution_count": 34,
   "metadata": {},
   "outputs": [],
   "source": [
    "import lightning as L\n",
    "import torch\n",
    "from torch import nn\n",
    "from braindecode.util import set_random_seeds\n",
    "from braindecode.models import SleepStagerChambon2018\n",
    "# Extract number of channels and time steps from dataset\n",
    "n_channels, input_size_samples = windows_ds[0][0].shape\n",
    "emb_size = 100\n",
    "classes = list(range(5))\n",
    "\n",
    "emb = SleepStagerChambon2018(\n",
    "    n_channels,\n",
    "    sfreq,\n",
    "    n_outputs=emb_size,\n",
    "    n_conv_chs=16,\n",
    "    n_times=input_size_samples,\n",
    "    dropout=0,\n",
    "    apply_batch_norm=True,\n",
    ")\n",
    "\n",
    "# define the LightningModule\n",
    "class LitSSL(L.LightningModule):\n",
    "    def __init__(self, emb, emb_size, dropout=0.5):\n",
    "        super().__init__()\n",
    "        self.emb = emb\n",
    "        self.clf = nn.Sequential(\n",
    "            nn.Dropout(dropout),\n",
    "            nn.Linear(emb_size, 1)\n",
    "        )\n",
    "\n",
    "    def training_step(self, batch, batch_idx):\n",
    "        # training_step defines the train loop.\n",
    "        # it is independent of forward\n",
    "        X, y = batch\n",
    "        x1, x2 = X[0], X[1]\n",
    "        z1, z2 = self.emb(x1), self.emb(x2)\n",
    "        loss = nn.functional.binary_cross_entropy_with_logits(self.clf(torch.abs(z1 - z2)).flatten(), y)\n",
    "\n",
    "        # Logging to TensorBoard (if installed) by default\n",
    "        self.log(\"train_loss\", loss)\n",
    "        return loss\n",
    "\n",
    "    def configure_optimizers(self):\n",
    "        optimizer = optim.Adam(self.parameters(), lr=1e-3)\n",
    "        return optimizer\n",
    "\n",
    "model =  LitSSL(emb, emb_size)"
   ]
  },
  {
   "cell_type": "code",
   "execution_count": 35,
   "metadata": {},
   "outputs": [
    {
     "name": "stderr",
     "output_type": "stream",
     "text": [
      "GPU available: True (cuda), used: True\n",
      "TPU available: False, using: 0 TPU cores\n",
      "HPU available: False, using: 0 HPUs\n",
      "You are using a CUDA device ('NVIDIA GeForce RTX 4090') that has Tensor Cores. To properly utilize them, you should set `torch.set_float32_matmul_precision('medium' | 'high')` which will trade-off precision for performance. For more details, read https://pytorch.org/docs/stable/generated/torch.set_float32_matmul_precision.html#torch.set_float32_matmul_precision\n"
     ]
    },
    {
     "name": "stderr",
     "output_type": "stream",
     "text": [
      "LOCAL_RANK: 0 - CUDA_VISIBLE_DEVICES: [0]\n",
      "\n",
      "  | Name | Type                   | Params | Mode \n",
      "--------------------------------------------------------\n",
      "0 | emb  | SleepStagerChambon2018 | 704 K  | train\n",
      "1 | clf  | Sequential             | 101    | train\n",
      "--------------------------------------------------------\n",
      "704 K     Trainable params\n",
      "0         Non-trainable params\n",
      "704 K     Total params\n",
      "2.817     Total estimated model params size (MB)\n",
      "17        Modules in train mode\n",
      "0         Modules in eval mode\n"
     ]
    },
    {
     "name": "stdout",
     "output_type": "stream",
     "text": [
      "Epoch 2:  81%|████████  | 81/100 [00:34<00:08,  2.33it/s, v_num=7] "
     ]
    },
    {
     "name": "stderr",
     "output_type": "stream",
     "text": [
      "\n",
      "Detected KeyboardInterrupt, attempting graceful shutdown ...\n"
     ]
    },
    {
     "ename": "NameError",
     "evalue": "name 'exit' is not defined",
     "output_type": "error",
     "traceback": [
      "\u001b[0;31m---------------------------------------------------------------------------\u001b[0m",
      "\u001b[0;31mKeyboardInterrupt\u001b[0m                         Traceback (most recent call last)",
      "File \u001b[0;32m~/eeg-ssl/.venv/lib/python3.10/site-packages/lightning/pytorch/trainer/call.py:47\u001b[0m, in \u001b[0;36m_call_and_handle_interrupt\u001b[0;34m(trainer, trainer_fn, *args, **kwargs)\u001b[0m\n\u001b[1;32m     46\u001b[0m         \u001b[38;5;28;01mreturn\u001b[39;00m trainer\u001b[38;5;241m.\u001b[39mstrategy\u001b[38;5;241m.\u001b[39mlauncher\u001b[38;5;241m.\u001b[39mlaunch(trainer_fn, \u001b[38;5;241m*\u001b[39margs, trainer\u001b[38;5;241m=\u001b[39mtrainer, \u001b[38;5;241m*\u001b[39m\u001b[38;5;241m*\u001b[39mkwargs)\n\u001b[0;32m---> 47\u001b[0m     \u001b[38;5;28;01mreturn\u001b[39;00m \u001b[43mtrainer_fn\u001b[49m\u001b[43m(\u001b[49m\u001b[38;5;241;43m*\u001b[39;49m\u001b[43margs\u001b[49m\u001b[43m,\u001b[49m\u001b[43m \u001b[49m\u001b[38;5;241;43m*\u001b[39;49m\u001b[38;5;241;43m*\u001b[39;49m\u001b[43mkwargs\u001b[49m\u001b[43m)\u001b[49m\n\u001b[1;32m     49\u001b[0m \u001b[38;5;28;01mexcept\u001b[39;00m _TunerExitException:\n",
      "File \u001b[0;32m~/eeg-ssl/.venv/lib/python3.10/site-packages/lightning/pytorch/trainer/trainer.py:574\u001b[0m, in \u001b[0;36mTrainer._fit_impl\u001b[0;34m(self, model, train_dataloaders, val_dataloaders, datamodule, ckpt_path)\u001b[0m\n\u001b[1;32m    568\u001b[0m ckpt_path \u001b[38;5;241m=\u001b[39m \u001b[38;5;28mself\u001b[39m\u001b[38;5;241m.\u001b[39m_checkpoint_connector\u001b[38;5;241m.\u001b[39m_select_ckpt_path(\n\u001b[1;32m    569\u001b[0m     \u001b[38;5;28mself\u001b[39m\u001b[38;5;241m.\u001b[39mstate\u001b[38;5;241m.\u001b[39mfn,\n\u001b[1;32m    570\u001b[0m     ckpt_path,\n\u001b[1;32m    571\u001b[0m     model_provided\u001b[38;5;241m=\u001b[39m\u001b[38;5;28;01mTrue\u001b[39;00m,\n\u001b[1;32m    572\u001b[0m     model_connected\u001b[38;5;241m=\u001b[39m\u001b[38;5;28mself\u001b[39m\u001b[38;5;241m.\u001b[39mlightning_module \u001b[38;5;129;01mis\u001b[39;00m \u001b[38;5;129;01mnot\u001b[39;00m \u001b[38;5;28;01mNone\u001b[39;00m,\n\u001b[1;32m    573\u001b[0m )\n\u001b[0;32m--> 574\u001b[0m \u001b[38;5;28;43mself\u001b[39;49m\u001b[38;5;241;43m.\u001b[39;49m\u001b[43m_run\u001b[49m\u001b[43m(\u001b[49m\u001b[43mmodel\u001b[49m\u001b[43m,\u001b[49m\u001b[43m \u001b[49m\u001b[43mckpt_path\u001b[49m\u001b[38;5;241;43m=\u001b[39;49m\u001b[43mckpt_path\u001b[49m\u001b[43m)\u001b[49m\n\u001b[1;32m    576\u001b[0m \u001b[38;5;28;01massert\u001b[39;00m \u001b[38;5;28mself\u001b[39m\u001b[38;5;241m.\u001b[39mstate\u001b[38;5;241m.\u001b[39mstopped\n",
      "File \u001b[0;32m~/eeg-ssl/.venv/lib/python3.10/site-packages/lightning/pytorch/trainer/trainer.py:981\u001b[0m, in \u001b[0;36mTrainer._run\u001b[0;34m(self, model, ckpt_path)\u001b[0m\n\u001b[1;32m    978\u001b[0m \u001b[38;5;66;03m# ----------------------------\u001b[39;00m\n\u001b[1;32m    979\u001b[0m \u001b[38;5;66;03m# RUN THE TRAINER\u001b[39;00m\n\u001b[1;32m    980\u001b[0m \u001b[38;5;66;03m# ----------------------------\u001b[39;00m\n\u001b[0;32m--> 981\u001b[0m results \u001b[38;5;241m=\u001b[39m \u001b[38;5;28;43mself\u001b[39;49m\u001b[38;5;241;43m.\u001b[39;49m\u001b[43m_run_stage\u001b[49m\u001b[43m(\u001b[49m\u001b[43m)\u001b[49m\n\u001b[1;32m    983\u001b[0m \u001b[38;5;66;03m# ----------------------------\u001b[39;00m\n\u001b[1;32m    984\u001b[0m \u001b[38;5;66;03m# POST-Training CLEAN UP\u001b[39;00m\n\u001b[1;32m    985\u001b[0m \u001b[38;5;66;03m# ----------------------------\u001b[39;00m\n",
      "File \u001b[0;32m~/eeg-ssl/.venv/lib/python3.10/site-packages/lightning/pytorch/trainer/trainer.py:1025\u001b[0m, in \u001b[0;36mTrainer._run_stage\u001b[0;34m(self)\u001b[0m\n\u001b[1;32m   1024\u001b[0m \u001b[38;5;28;01mwith\u001b[39;00m torch\u001b[38;5;241m.\u001b[39mautograd\u001b[38;5;241m.\u001b[39mset_detect_anomaly(\u001b[38;5;28mself\u001b[39m\u001b[38;5;241m.\u001b[39m_detect_anomaly):\n\u001b[0;32m-> 1025\u001b[0m     \u001b[38;5;28;43mself\u001b[39;49m\u001b[38;5;241;43m.\u001b[39;49m\u001b[43mfit_loop\u001b[49m\u001b[38;5;241;43m.\u001b[39;49m\u001b[43mrun\u001b[49m\u001b[43m(\u001b[49m\u001b[43m)\u001b[49m\n\u001b[1;32m   1026\u001b[0m \u001b[38;5;28;01mreturn\u001b[39;00m \u001b[38;5;28;01mNone\u001b[39;00m\n",
      "File \u001b[0;32m~/eeg-ssl/.venv/lib/python3.10/site-packages/lightning/pytorch/loops/fit_loop.py:205\u001b[0m, in \u001b[0;36m_FitLoop.run\u001b[0;34m(self)\u001b[0m\n\u001b[1;32m    204\u001b[0m \u001b[38;5;28mself\u001b[39m\u001b[38;5;241m.\u001b[39mon_advance_start()\n\u001b[0;32m--> 205\u001b[0m \u001b[38;5;28;43mself\u001b[39;49m\u001b[38;5;241;43m.\u001b[39;49m\u001b[43madvance\u001b[49m\u001b[43m(\u001b[49m\u001b[43m)\u001b[49m\n\u001b[1;32m    206\u001b[0m \u001b[38;5;28mself\u001b[39m\u001b[38;5;241m.\u001b[39mon_advance_end()\n",
      "File \u001b[0;32m~/eeg-ssl/.venv/lib/python3.10/site-packages/lightning/pytorch/loops/fit_loop.py:363\u001b[0m, in \u001b[0;36m_FitLoop.advance\u001b[0;34m(self)\u001b[0m\n\u001b[1;32m    362\u001b[0m \u001b[38;5;28;01massert\u001b[39;00m \u001b[38;5;28mself\u001b[39m\u001b[38;5;241m.\u001b[39m_data_fetcher \u001b[38;5;129;01mis\u001b[39;00m \u001b[38;5;129;01mnot\u001b[39;00m \u001b[38;5;28;01mNone\u001b[39;00m\n\u001b[0;32m--> 363\u001b[0m \u001b[38;5;28;43mself\u001b[39;49m\u001b[38;5;241;43m.\u001b[39;49m\u001b[43mepoch_loop\u001b[49m\u001b[38;5;241;43m.\u001b[39;49m\u001b[43mrun\u001b[49m\u001b[43m(\u001b[49m\u001b[38;5;28;43mself\u001b[39;49m\u001b[38;5;241;43m.\u001b[39;49m\u001b[43m_data_fetcher\u001b[49m\u001b[43m)\u001b[49m\n",
      "File \u001b[0;32m~/eeg-ssl/.venv/lib/python3.10/site-packages/lightning/pytorch/loops/training_epoch_loop.py:140\u001b[0m, in \u001b[0;36m_TrainingEpochLoop.run\u001b[0;34m(self, data_fetcher)\u001b[0m\n\u001b[1;32m    139\u001b[0m \u001b[38;5;28;01mtry\u001b[39;00m:\n\u001b[0;32m--> 140\u001b[0m     \u001b[38;5;28;43mself\u001b[39;49m\u001b[38;5;241;43m.\u001b[39;49m\u001b[43madvance\u001b[49m\u001b[43m(\u001b[49m\u001b[43mdata_fetcher\u001b[49m\u001b[43m)\u001b[49m\n\u001b[1;32m    141\u001b[0m     \u001b[38;5;28mself\u001b[39m\u001b[38;5;241m.\u001b[39mon_advance_end(data_fetcher)\n",
      "File \u001b[0;32m~/eeg-ssl/.venv/lib/python3.10/site-packages/lightning/pytorch/loops/training_epoch_loop.py:223\u001b[0m, in \u001b[0;36m_TrainingEpochLoop.advance\u001b[0;34m(self, data_fetcher)\u001b[0m\n\u001b[1;32m    222\u001b[0m     batch \u001b[38;5;241m=\u001b[39m trainer\u001b[38;5;241m.\u001b[39mlightning_module\u001b[38;5;241m.\u001b[39m_on_before_batch_transfer(batch, dataloader_idx\u001b[38;5;241m=\u001b[39m\u001b[38;5;241m0\u001b[39m)\n\u001b[0;32m--> 223\u001b[0m     batch \u001b[38;5;241m=\u001b[39m \u001b[43mcall\u001b[49m\u001b[38;5;241;43m.\u001b[39;49m\u001b[43m_call_strategy_hook\u001b[49m\u001b[43m(\u001b[49m\u001b[43mtrainer\u001b[49m\u001b[43m,\u001b[49m\u001b[43m \u001b[49m\u001b[38;5;124;43m\"\u001b[39;49m\u001b[38;5;124;43mbatch_to_device\u001b[39;49m\u001b[38;5;124;43m\"\u001b[39;49m\u001b[43m,\u001b[49m\u001b[43m \u001b[49m\u001b[43mbatch\u001b[49m\u001b[43m,\u001b[49m\u001b[43m \u001b[49m\u001b[43mdataloader_idx\u001b[49m\u001b[38;5;241;43m=\u001b[39;49m\u001b[38;5;241;43m0\u001b[39;49m\u001b[43m)\u001b[49m\n\u001b[1;32m    225\u001b[0m \u001b[38;5;28mself\u001b[39m\u001b[38;5;241m.\u001b[39mbatch_progress\u001b[38;5;241m.\u001b[39mincrement_ready()\n",
      "File \u001b[0;32m~/eeg-ssl/.venv/lib/python3.10/site-packages/lightning/pytorch/trainer/call.py:319\u001b[0m, in \u001b[0;36m_call_strategy_hook\u001b[0;34m(trainer, hook_name, *args, **kwargs)\u001b[0m\n\u001b[1;32m    318\u001b[0m \u001b[38;5;28;01mwith\u001b[39;00m trainer\u001b[38;5;241m.\u001b[39mprofiler\u001b[38;5;241m.\u001b[39mprofile(\u001b[38;5;124mf\u001b[39m\u001b[38;5;124m\"\u001b[39m\u001b[38;5;124m[Strategy]\u001b[39m\u001b[38;5;132;01m{\u001b[39;00mtrainer\u001b[38;5;241m.\u001b[39mstrategy\u001b[38;5;241m.\u001b[39m\u001b[38;5;18m__class__\u001b[39m\u001b[38;5;241m.\u001b[39m\u001b[38;5;18m__name__\u001b[39m\u001b[38;5;132;01m}\u001b[39;00m\u001b[38;5;124m.\u001b[39m\u001b[38;5;132;01m{\u001b[39;00mhook_name\u001b[38;5;132;01m}\u001b[39;00m\u001b[38;5;124m\"\u001b[39m):\n\u001b[0;32m--> 319\u001b[0m     output \u001b[38;5;241m=\u001b[39m \u001b[43mfn\u001b[49m\u001b[43m(\u001b[49m\u001b[38;5;241;43m*\u001b[39;49m\u001b[43margs\u001b[49m\u001b[43m,\u001b[49m\u001b[43m \u001b[49m\u001b[38;5;241;43m*\u001b[39;49m\u001b[38;5;241;43m*\u001b[39;49m\u001b[43mkwargs\u001b[49m\u001b[43m)\u001b[49m\n\u001b[1;32m    321\u001b[0m \u001b[38;5;66;03m# restore current_fx when nested context\u001b[39;00m\n",
      "File \u001b[0;32m~/eeg-ssl/.venv/lib/python3.10/site-packages/lightning/pytorch/strategies/strategy.py:277\u001b[0m, in \u001b[0;36mStrategy.batch_to_device\u001b[0;34m(self, batch, device, dataloader_idx)\u001b[0m\n\u001b[1;32m    276\u001b[0m \u001b[38;5;28;01mif\u001b[39;00m model \u001b[38;5;129;01mis\u001b[39;00m \u001b[38;5;129;01mnot\u001b[39;00m \u001b[38;5;28;01mNone\u001b[39;00m:\n\u001b[0;32m--> 277\u001b[0m     \u001b[38;5;28;01mreturn\u001b[39;00m \u001b[43mmodel\u001b[49m\u001b[38;5;241;43m.\u001b[39;49m\u001b[43m_apply_batch_transfer_handler\u001b[49m\u001b[43m(\u001b[49m\u001b[43mbatch\u001b[49m\u001b[43m,\u001b[49m\u001b[43m \u001b[49m\u001b[43mdevice\u001b[49m\u001b[38;5;241;43m=\u001b[39;49m\u001b[43mdevice\u001b[49m\u001b[43m,\u001b[49m\u001b[43m \u001b[49m\u001b[43mdataloader_idx\u001b[49m\u001b[38;5;241;43m=\u001b[39;49m\u001b[43mdataloader_idx\u001b[49m\u001b[43m)\u001b[49m\n\u001b[1;32m    278\u001b[0m \u001b[38;5;28;01mreturn\u001b[39;00m move_data_to_device(batch, device)\n",
      "File \u001b[0;32m~/eeg-ssl/.venv/lib/python3.10/site-packages/lightning/pytorch/core/module.py:356\u001b[0m, in \u001b[0;36mLightningModule._apply_batch_transfer_handler\u001b[0;34m(self, batch, device, dataloader_idx)\u001b[0m\n\u001b[1;32m    355\u001b[0m device \u001b[38;5;241m=\u001b[39m device \u001b[38;5;129;01mor\u001b[39;00m \u001b[38;5;28mself\u001b[39m\u001b[38;5;241m.\u001b[39mdevice\n\u001b[0;32m--> 356\u001b[0m batch \u001b[38;5;241m=\u001b[39m \u001b[38;5;28;43mself\u001b[39;49m\u001b[38;5;241;43m.\u001b[39;49m\u001b[43m_call_batch_hook\u001b[49m\u001b[43m(\u001b[49m\u001b[38;5;124;43m\"\u001b[39;49m\u001b[38;5;124;43mtransfer_batch_to_device\u001b[39;49m\u001b[38;5;124;43m\"\u001b[39;49m\u001b[43m,\u001b[49m\u001b[43m \u001b[49m\u001b[43mbatch\u001b[49m\u001b[43m,\u001b[49m\u001b[43m \u001b[49m\u001b[43mdevice\u001b[49m\u001b[43m,\u001b[49m\u001b[43m \u001b[49m\u001b[43mdataloader_idx\u001b[49m\u001b[43m)\u001b[49m\n\u001b[1;32m    357\u001b[0m batch \u001b[38;5;241m=\u001b[39m \u001b[38;5;28mself\u001b[39m\u001b[38;5;241m.\u001b[39m_call_batch_hook(\u001b[38;5;124m\"\u001b[39m\u001b[38;5;124mon_after_batch_transfer\u001b[39m\u001b[38;5;124m\"\u001b[39m, batch, dataloader_idx)\n",
      "File \u001b[0;32m~/eeg-ssl/.venv/lib/python3.10/site-packages/lightning/pytorch/core/module.py:345\u001b[0m, in \u001b[0;36mLightningModule._call_batch_hook\u001b[0;34m(self, hook_name, *args)\u001b[0m\n\u001b[1;32m    343\u001b[0m         trainer_method \u001b[38;5;241m=\u001b[39m call\u001b[38;5;241m.\u001b[39m_call_lightning_datamodule_hook\n\u001b[0;32m--> 345\u001b[0m     \u001b[38;5;28;01mreturn\u001b[39;00m \u001b[43mtrainer_method\u001b[49m\u001b[43m(\u001b[49m\u001b[43mtrainer\u001b[49m\u001b[43m,\u001b[49m\u001b[43m \u001b[49m\u001b[43mhook_name\u001b[49m\u001b[43m,\u001b[49m\u001b[43m \u001b[49m\u001b[38;5;241;43m*\u001b[39;49m\u001b[43margs\u001b[49m\u001b[43m)\u001b[49m\n\u001b[1;32m    346\u001b[0m hook \u001b[38;5;241m=\u001b[39m \u001b[38;5;28mgetattr\u001b[39m(\u001b[38;5;28mself\u001b[39m, hook_name)\n",
      "File \u001b[0;32m~/eeg-ssl/.venv/lib/python3.10/site-packages/lightning/pytorch/trainer/call.py:167\u001b[0m, in \u001b[0;36m_call_lightning_module_hook\u001b[0;34m(trainer, hook_name, pl_module, *args, **kwargs)\u001b[0m\n\u001b[1;32m    166\u001b[0m \u001b[38;5;28;01mwith\u001b[39;00m trainer\u001b[38;5;241m.\u001b[39mprofiler\u001b[38;5;241m.\u001b[39mprofile(\u001b[38;5;124mf\u001b[39m\u001b[38;5;124m\"\u001b[39m\u001b[38;5;124m[LightningModule]\u001b[39m\u001b[38;5;132;01m{\u001b[39;00mpl_module\u001b[38;5;241m.\u001b[39m\u001b[38;5;18m__class__\u001b[39m\u001b[38;5;241m.\u001b[39m\u001b[38;5;18m__name__\u001b[39m\u001b[38;5;132;01m}\u001b[39;00m\u001b[38;5;124m.\u001b[39m\u001b[38;5;132;01m{\u001b[39;00mhook_name\u001b[38;5;132;01m}\u001b[39;00m\u001b[38;5;124m\"\u001b[39m):\n\u001b[0;32m--> 167\u001b[0m     output \u001b[38;5;241m=\u001b[39m \u001b[43mfn\u001b[49m\u001b[43m(\u001b[49m\u001b[38;5;241;43m*\u001b[39;49m\u001b[43margs\u001b[49m\u001b[43m,\u001b[49m\u001b[43m \u001b[49m\u001b[38;5;241;43m*\u001b[39;49m\u001b[38;5;241;43m*\u001b[39;49m\u001b[43mkwargs\u001b[49m\u001b[43m)\u001b[49m\n\u001b[1;32m    169\u001b[0m \u001b[38;5;66;03m# restore current_fx when nested context\u001b[39;00m\n",
      "File \u001b[0;32m~/eeg-ssl/.venv/lib/python3.10/site-packages/lightning/pytorch/core/hooks.py:611\u001b[0m, in \u001b[0;36mDataHooks.transfer_batch_to_device\u001b[0;34m(self, batch, device, dataloader_idx)\u001b[0m\n\u001b[1;32m    565\u001b[0m \u001b[38;5;250m\u001b[39m\u001b[38;5;124;03m\"\"\"Override this hook if your :class:`~torch.utils.data.DataLoader` returns tensors wrapped in a custom data\u001b[39;00m\n\u001b[1;32m    566\u001b[0m \u001b[38;5;124;03mstructure.\u001b[39;00m\n\u001b[1;32m    567\u001b[0m \n\u001b[0;32m   (...)\u001b[0m\n\u001b[1;32m    609\u001b[0m \n\u001b[1;32m    610\u001b[0m \u001b[38;5;124;03m\"\"\"\u001b[39;00m\n\u001b[0;32m--> 611\u001b[0m \u001b[38;5;28;01mreturn\u001b[39;00m \u001b[43mmove_data_to_device\u001b[49m\u001b[43m(\u001b[49m\u001b[43mbatch\u001b[49m\u001b[43m,\u001b[49m\u001b[43m \u001b[49m\u001b[43mdevice\u001b[49m\u001b[43m)\u001b[49m\n",
      "File \u001b[0;32m~/eeg-ssl/.venv/lib/python3.10/site-packages/lightning/fabric/utilities/apply_func.py:110\u001b[0m, in \u001b[0;36mmove_data_to_device\u001b[0;34m(batch, device)\u001b[0m\n\u001b[1;32m    108\u001b[0m     \u001b[38;5;28;01mreturn\u001b[39;00m data\n\u001b[0;32m--> 110\u001b[0m \u001b[38;5;28;01mreturn\u001b[39;00m \u001b[43mapply_to_collection\u001b[49m\u001b[43m(\u001b[49m\u001b[43mbatch\u001b[49m\u001b[43m,\u001b[49m\u001b[43m \u001b[49m\u001b[43mdtype\u001b[49m\u001b[38;5;241;43m=\u001b[39;49m\u001b[43m_TransferableDataType\u001b[49m\u001b[43m,\u001b[49m\u001b[43m \u001b[49m\u001b[43mfunction\u001b[49m\u001b[38;5;241;43m=\u001b[39;49m\u001b[43mbatch_to\u001b[49m\u001b[43m)\u001b[49m\n",
      "File \u001b[0;32m~/eeg-ssl/.venv/lib/python3.10/site-packages/lightning_utilities/core/apply_func.py:72\u001b[0m, in \u001b[0;36mapply_to_collection\u001b[0;34m(data, dtype, function, wrong_dtype, include_none, allow_frozen, *args, **kwargs)\u001b[0m\n\u001b[1;32m     71\u001b[0m \u001b[38;5;66;03m# slow path for everything else\u001b[39;00m\n\u001b[0;32m---> 72\u001b[0m \u001b[38;5;28;01mreturn\u001b[39;00m \u001b[43m_apply_to_collection_slow\u001b[49m\u001b[43m(\u001b[49m\n\u001b[1;32m     73\u001b[0m \u001b[43m    \u001b[49m\u001b[43mdata\u001b[49m\u001b[43m,\u001b[49m\n\u001b[1;32m     74\u001b[0m \u001b[43m    \u001b[49m\u001b[43mdtype\u001b[49m\u001b[43m,\u001b[49m\n\u001b[1;32m     75\u001b[0m \u001b[43m    \u001b[49m\u001b[43mfunction\u001b[49m\u001b[43m,\u001b[49m\n\u001b[1;32m     76\u001b[0m \u001b[43m    \u001b[49m\u001b[38;5;241;43m*\u001b[39;49m\u001b[43margs\u001b[49m\u001b[43m,\u001b[49m\n\u001b[1;32m     77\u001b[0m \u001b[43m    \u001b[49m\u001b[43mwrong_dtype\u001b[49m\u001b[38;5;241;43m=\u001b[39;49m\u001b[43mwrong_dtype\u001b[49m\u001b[43m,\u001b[49m\n\u001b[1;32m     78\u001b[0m \u001b[43m    \u001b[49m\u001b[43minclude_none\u001b[49m\u001b[38;5;241;43m=\u001b[39;49m\u001b[43minclude_none\u001b[49m\u001b[43m,\u001b[49m\n\u001b[1;32m     79\u001b[0m \u001b[43m    \u001b[49m\u001b[43mallow_frozen\u001b[49m\u001b[38;5;241;43m=\u001b[39;49m\u001b[43mallow_frozen\u001b[49m\u001b[43m,\u001b[49m\n\u001b[1;32m     80\u001b[0m \u001b[43m    \u001b[49m\u001b[38;5;241;43m*\u001b[39;49m\u001b[38;5;241;43m*\u001b[39;49m\u001b[43mkwargs\u001b[49m\u001b[43m,\u001b[49m\n\u001b[1;32m     81\u001b[0m \u001b[43m\u001b[49m\u001b[43m)\u001b[49m\n",
      "File \u001b[0;32m~/eeg-ssl/.venv/lib/python3.10/site-packages/lightning_utilities/core/apply_func.py:125\u001b[0m, in \u001b[0;36m_apply_to_collection_slow\u001b[0;34m(data, dtype, function, wrong_dtype, include_none, allow_frozen, *args, **kwargs)\u001b[0m\n\u001b[1;32m    124\u001b[0m \u001b[38;5;28;01mfor\u001b[39;00m d \u001b[38;5;129;01min\u001b[39;00m data:\n\u001b[0;32m--> 125\u001b[0m     v \u001b[38;5;241m=\u001b[39m \u001b[43m_apply_to_collection_slow\u001b[49m\u001b[43m(\u001b[49m\n\u001b[1;32m    126\u001b[0m \u001b[43m        \u001b[49m\u001b[43md\u001b[49m\u001b[43m,\u001b[49m\n\u001b[1;32m    127\u001b[0m \u001b[43m        \u001b[49m\u001b[43mdtype\u001b[49m\u001b[43m,\u001b[49m\n\u001b[1;32m    128\u001b[0m \u001b[43m        \u001b[49m\u001b[43mfunction\u001b[49m\u001b[43m,\u001b[49m\n\u001b[1;32m    129\u001b[0m \u001b[43m        \u001b[49m\u001b[38;5;241;43m*\u001b[39;49m\u001b[43margs\u001b[49m\u001b[43m,\u001b[49m\n\u001b[1;32m    130\u001b[0m \u001b[43m        \u001b[49m\u001b[43mwrong_dtype\u001b[49m\u001b[38;5;241;43m=\u001b[39;49m\u001b[43mwrong_dtype\u001b[49m\u001b[43m,\u001b[49m\n\u001b[1;32m    131\u001b[0m \u001b[43m        \u001b[49m\u001b[43minclude_none\u001b[49m\u001b[38;5;241;43m=\u001b[39;49m\u001b[43minclude_none\u001b[49m\u001b[43m,\u001b[49m\n\u001b[1;32m    132\u001b[0m \u001b[43m        \u001b[49m\u001b[43mallow_frozen\u001b[49m\u001b[38;5;241;43m=\u001b[39;49m\u001b[43mallow_frozen\u001b[49m\u001b[43m,\u001b[49m\n\u001b[1;32m    133\u001b[0m \u001b[43m        \u001b[49m\u001b[38;5;241;43m*\u001b[39;49m\u001b[38;5;241;43m*\u001b[39;49m\u001b[43mkwargs\u001b[49m\u001b[43m,\u001b[49m\n\u001b[1;32m    134\u001b[0m \u001b[43m    \u001b[49m\u001b[43m)\u001b[49m\n\u001b[1;32m    135\u001b[0m     \u001b[38;5;28;01mif\u001b[39;00m include_none \u001b[38;5;129;01mor\u001b[39;00m v \u001b[38;5;129;01mis\u001b[39;00m \u001b[38;5;129;01mnot\u001b[39;00m \u001b[38;5;28;01mNone\u001b[39;00m:\n",
      "File \u001b[0;32m~/eeg-ssl/.venv/lib/python3.10/site-packages/lightning_utilities/core/apply_func.py:125\u001b[0m, in \u001b[0;36m_apply_to_collection_slow\u001b[0;34m(data, dtype, function, wrong_dtype, include_none, allow_frozen, *args, **kwargs)\u001b[0m\n\u001b[1;32m    124\u001b[0m \u001b[38;5;28;01mfor\u001b[39;00m d \u001b[38;5;129;01min\u001b[39;00m data:\n\u001b[0;32m--> 125\u001b[0m     v \u001b[38;5;241m=\u001b[39m \u001b[43m_apply_to_collection_slow\u001b[49m\u001b[43m(\u001b[49m\n\u001b[1;32m    126\u001b[0m \u001b[43m        \u001b[49m\u001b[43md\u001b[49m\u001b[43m,\u001b[49m\n\u001b[1;32m    127\u001b[0m \u001b[43m        \u001b[49m\u001b[43mdtype\u001b[49m\u001b[43m,\u001b[49m\n\u001b[1;32m    128\u001b[0m \u001b[43m        \u001b[49m\u001b[43mfunction\u001b[49m\u001b[43m,\u001b[49m\n\u001b[1;32m    129\u001b[0m \u001b[43m        \u001b[49m\u001b[38;5;241;43m*\u001b[39;49m\u001b[43margs\u001b[49m\u001b[43m,\u001b[49m\n\u001b[1;32m    130\u001b[0m \u001b[43m        \u001b[49m\u001b[43mwrong_dtype\u001b[49m\u001b[38;5;241;43m=\u001b[39;49m\u001b[43mwrong_dtype\u001b[49m\u001b[43m,\u001b[49m\n\u001b[1;32m    131\u001b[0m \u001b[43m        \u001b[49m\u001b[43minclude_none\u001b[49m\u001b[38;5;241;43m=\u001b[39;49m\u001b[43minclude_none\u001b[49m\u001b[43m,\u001b[49m\n\u001b[1;32m    132\u001b[0m \u001b[43m        \u001b[49m\u001b[43mallow_frozen\u001b[49m\u001b[38;5;241;43m=\u001b[39;49m\u001b[43mallow_frozen\u001b[49m\u001b[43m,\u001b[49m\n\u001b[1;32m    133\u001b[0m \u001b[43m        \u001b[49m\u001b[38;5;241;43m*\u001b[39;49m\u001b[38;5;241;43m*\u001b[39;49m\u001b[43mkwargs\u001b[49m\u001b[43m,\u001b[49m\n\u001b[1;32m    134\u001b[0m \u001b[43m    \u001b[49m\u001b[43m)\u001b[49m\n\u001b[1;32m    135\u001b[0m     \u001b[38;5;28;01mif\u001b[39;00m include_none \u001b[38;5;129;01mor\u001b[39;00m v \u001b[38;5;129;01mis\u001b[39;00m \u001b[38;5;129;01mnot\u001b[39;00m \u001b[38;5;28;01mNone\u001b[39;00m:\n",
      "File \u001b[0;32m~/eeg-ssl/.venv/lib/python3.10/site-packages/lightning_utilities/core/apply_func.py:96\u001b[0m, in \u001b[0;36m_apply_to_collection_slow\u001b[0;34m(data, dtype, function, wrong_dtype, include_none, allow_frozen, *args, **kwargs)\u001b[0m\n\u001b[1;32m     95\u001b[0m \u001b[38;5;28;01mif\u001b[39;00m \u001b[38;5;28misinstance\u001b[39m(data, dtype) \u001b[38;5;129;01mand\u001b[39;00m (wrong_dtype \u001b[38;5;129;01mis\u001b[39;00m \u001b[38;5;28;01mNone\u001b[39;00m \u001b[38;5;129;01mor\u001b[39;00m \u001b[38;5;129;01mnot\u001b[39;00m \u001b[38;5;28misinstance\u001b[39m(data, wrong_dtype)):\n\u001b[0;32m---> 96\u001b[0m     \u001b[38;5;28;01mreturn\u001b[39;00m \u001b[43mfunction\u001b[49m\u001b[43m(\u001b[49m\u001b[43mdata\u001b[49m\u001b[43m,\u001b[49m\u001b[43m \u001b[49m\u001b[38;5;241;43m*\u001b[39;49m\u001b[43margs\u001b[49m\u001b[43m,\u001b[49m\u001b[43m \u001b[49m\u001b[38;5;241;43m*\u001b[39;49m\u001b[38;5;241;43m*\u001b[39;49m\u001b[43mkwargs\u001b[49m\u001b[43m)\u001b[49m\n\u001b[1;32m     98\u001b[0m elem_type \u001b[38;5;241m=\u001b[39m \u001b[38;5;28mtype\u001b[39m(data)\n",
      "File \u001b[0;32m~/eeg-ssl/.venv/lib/python3.10/site-packages/lightning/fabric/utilities/apply_func.py:104\u001b[0m, in \u001b[0;36mmove_data_to_device.<locals>.batch_to\u001b[0;34m(data)\u001b[0m\n\u001b[1;32m    103\u001b[0m     kwargs[\u001b[38;5;124m\"\u001b[39m\u001b[38;5;124mnon_blocking\u001b[39m\u001b[38;5;124m\"\u001b[39m] \u001b[38;5;241m=\u001b[39m \u001b[38;5;28;01mTrue\u001b[39;00m\n\u001b[0;32m--> 104\u001b[0m data_output \u001b[38;5;241m=\u001b[39m \u001b[43mdata\u001b[49m\u001b[38;5;241;43m.\u001b[39;49m\u001b[43mto\u001b[49m\u001b[43m(\u001b[49m\u001b[43mdevice\u001b[49m\u001b[43m,\u001b[49m\u001b[43m \u001b[49m\u001b[38;5;241;43m*\u001b[39;49m\u001b[38;5;241;43m*\u001b[39;49m\u001b[43mkwargs\u001b[49m\u001b[43m)\u001b[49m\n\u001b[1;32m    105\u001b[0m \u001b[38;5;28;01mif\u001b[39;00m data_output \u001b[38;5;129;01mis\u001b[39;00m \u001b[38;5;129;01mnot\u001b[39;00m \u001b[38;5;28;01mNone\u001b[39;00m:\n",
      "\u001b[0;31mKeyboardInterrupt\u001b[0m: ",
      "\nDuring handling of the above exception, another exception occurred:\n",
      "\u001b[0;31mNameError\u001b[0m                                 Traceback (most recent call last)",
      "Cell \u001b[0;32mIn[35], line 4\u001b[0m\n\u001b[1;32m      2\u001b[0m \u001b[38;5;66;03m# train the model (hint: here are some helpful Trainer arguments for rapid idea iteration)\u001b[39;00m\n\u001b[1;32m      3\u001b[0m trainer \u001b[38;5;241m=\u001b[39m L\u001b[38;5;241m.\u001b[39mTrainer(limit_train_batches\u001b[38;5;241m=\u001b[39m\u001b[38;5;241m100\u001b[39m, max_epochs\u001b[38;5;241m=\u001b[39m\u001b[38;5;241m10\u001b[39m, accelerator\u001b[38;5;241m=\u001b[39m\u001b[38;5;124m'\u001b[39m\u001b[38;5;124mgpu\u001b[39m\u001b[38;5;124m'\u001b[39m)\n\u001b[0;32m----> 4\u001b[0m \u001b[43mtrainer\u001b[49m\u001b[38;5;241;43m.\u001b[39;49m\u001b[43mfit\u001b[49m\u001b[43m(\u001b[49m\u001b[43mmodel\u001b[49m\u001b[38;5;241;43m=\u001b[39;49m\u001b[43mmodel\u001b[49m\u001b[43m,\u001b[49m\u001b[43m \u001b[49m\u001b[43mtrain_dataloaders\u001b[49m\u001b[38;5;241;43m=\u001b[39;49m\u001b[43mtrain_loader\u001b[49m\u001b[43m)\u001b[49m\n",
      "File \u001b[0;32m~/eeg-ssl/.venv/lib/python3.10/site-packages/lightning/pytorch/trainer/trainer.py:538\u001b[0m, in \u001b[0;36mTrainer.fit\u001b[0;34m(self, model, train_dataloaders, val_dataloaders, datamodule, ckpt_path)\u001b[0m\n\u001b[1;32m    536\u001b[0m \u001b[38;5;28mself\u001b[39m\u001b[38;5;241m.\u001b[39mstate\u001b[38;5;241m.\u001b[39mstatus \u001b[38;5;241m=\u001b[39m TrainerStatus\u001b[38;5;241m.\u001b[39mRUNNING\n\u001b[1;32m    537\u001b[0m \u001b[38;5;28mself\u001b[39m\u001b[38;5;241m.\u001b[39mtraining \u001b[38;5;241m=\u001b[39m \u001b[38;5;28;01mTrue\u001b[39;00m\n\u001b[0;32m--> 538\u001b[0m \u001b[43mcall\u001b[49m\u001b[38;5;241;43m.\u001b[39;49m\u001b[43m_call_and_handle_interrupt\u001b[49m\u001b[43m(\u001b[49m\n\u001b[1;32m    539\u001b[0m \u001b[43m    \u001b[49m\u001b[38;5;28;43mself\u001b[39;49m\u001b[43m,\u001b[49m\u001b[43m \u001b[49m\u001b[38;5;28;43mself\u001b[39;49m\u001b[38;5;241;43m.\u001b[39;49m\u001b[43m_fit_impl\u001b[49m\u001b[43m,\u001b[49m\u001b[43m \u001b[49m\u001b[43mmodel\u001b[49m\u001b[43m,\u001b[49m\u001b[43m \u001b[49m\u001b[43mtrain_dataloaders\u001b[49m\u001b[43m,\u001b[49m\u001b[43m \u001b[49m\u001b[43mval_dataloaders\u001b[49m\u001b[43m,\u001b[49m\u001b[43m \u001b[49m\u001b[43mdatamodule\u001b[49m\u001b[43m,\u001b[49m\u001b[43m \u001b[49m\u001b[43mckpt_path\u001b[49m\n\u001b[1;32m    540\u001b[0m \u001b[43m\u001b[49m\u001b[43m)\u001b[49m\n",
      "File \u001b[0;32m~/eeg-ssl/.venv/lib/python3.10/site-packages/lightning/pytorch/trainer/call.py:64\u001b[0m, in \u001b[0;36m_call_and_handle_interrupt\u001b[0;34m(trainer, trainer_fn, *args, **kwargs)\u001b[0m\n\u001b[1;32m     62\u001b[0m     \u001b[38;5;28;01mif\u001b[39;00m \u001b[38;5;28misinstance\u001b[39m(launcher, _SubprocessScriptLauncher):\n\u001b[1;32m     63\u001b[0m         launcher\u001b[38;5;241m.\u001b[39mkill(_get_sigkill_signal())\n\u001b[0;32m---> 64\u001b[0m     \u001b[43mexit\u001b[49m(\u001b[38;5;241m1\u001b[39m)\n\u001b[1;32m     66\u001b[0m \u001b[38;5;28;01mexcept\u001b[39;00m \u001b[38;5;167;01mBaseException\u001b[39;00m \u001b[38;5;28;01mas\u001b[39;00m exception:\n\u001b[1;32m     67\u001b[0m     _interrupt(trainer, exception)\n",
      "\u001b[0;31mNameError\u001b[0m: name 'exit' is not defined"
     ]
    }
   ],
   "source": [
    "train_loader = DataLoader(splitted['train'], sampler=train_sampler, batch_size=12, num_workers=4)\n",
    "# train the model (hint: here are some helpful Trainer arguments for rapid idea iteration)\n",
    "trainer = L.Trainer(limit_train_batches=100, max_epochs=10, accelerator='gpu')\n",
    "trainer.fit(model=model, train_dataloaders=train_loader)"
   ]
  },
  {
   "cell_type": "code",
   "execution_count": null,
   "metadata": {},
   "outputs": [],
   "source": []
  }
 ],
 "metadata": {
  "kernelspec": {
   "display_name": ".venv",
   "language": "python",
   "name": "python3"
  },
  "language_info": {
   "codemirror_mode": {
    "name": "ipython",
    "version": 3
   },
   "file_extension": ".py",
   "mimetype": "text/x-python",
   "name": "python",
   "nbconvert_exporter": "python",
   "pygments_lexer": "ipython3",
   "version": "3.10.12"
  }
 },
 "nbformat": 4,
 "nbformat_minor": 2
}

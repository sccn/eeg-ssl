{
 "cells": [
  {
   "cell_type": "code",
   "execution_count": 1,
   "metadata": {},
   "outputs": [],
   "source": [
    "import os\n",
    "import sys\n",
    "sys.path.insert(0,'../')\n",
    "from libs.ssl_dataloader import *\n",
    "from libs.ssl_model import *\n",
    "from libs.ssl_utils import *\n",
    "from libs.eeg_utils import *\n",
    "from braindecode.preprocessing import (\n",
    "    preprocess, Preprocessor, create_fixed_length_windows)\n",
    "from braindecode.datasets import BaseDataset, BaseConcatDataset\n",
    "%load_ext autoreload\n",
    "%autoreload 2\n",
    "import torch\n",
    "from torch import nn, optim\n",
    "from torch.utils.data import DataLoader"
   ]
  },
  {
   "cell_type": "code",
   "execution_count": null,
   "metadata": {},
   "outputs": [],
   "source": [
    "datasets = []\n",
    "hbn_datasets = ['ds005514','ds005512','ds005511','ds005510','ds005509','ds005508','ds005507','ds005506','ds005505']"
   ]
  },
  {
   "cell_type": "code",
   "execution_count": 15,
   "metadata": {},
   "outputs": [
    {
     "name": "stdout",
     "output_type": "stream",
     "text": [
      "Loading /mnt/nemar/openneuro/ds005505/sub-NDARRD326KB9/eeg/sub-NDARRD326KB9_task-RestingState_eeg.set\n",
      "Loading /mnt/nemar/openneuro/ds005505/sub-NDARZD415ZZ1/eeg/sub-NDARZD415ZZ1_task-RestingState_eeg.set\n",
      "Loading /mnt/nemar/openneuro/ds005505/sub-NDARXH597ML1/eeg/sub-NDARXH597ML1_task-RestingState_eeg.set\n",
      "Loading /mnt/nemar/openneuro/ds005510/sub-NDARAE877NER/eeg/sub-NDARAE877NER_task-RestingState_eeg.set\n",
      "Loading /mnt/nemar/openneuro/ds005510/sub-NDARYW984FLT/eeg/sub-NDARYW984FLT_task-RestingState_eeg.set\n",
      "Loading /mnt/nemar/openneuro/ds005510/sub-NDARFX710UZA/eeg/sub-NDARFX710UZA_task-RestingState_eeg.set\n"
     ]
    }
   ],
   "source": [
    "ds1 = HBNDataset('ds005505', tasks=['RestingState'], subjects=['NDARRD326KB9', 'NDARZD415ZZ1', 'NDARXH597ML1'])\n",
    "ds2 = HBNDataset('ds005510', tasks=['RestingState'], subjects=['NDARAE877NER', 'NDARYW984FLT', 'NDARFX710UZA'])"
   ]
  },
  {
   "cell_type": "code",
   "execution_count": 16,
   "metadata": {},
   "outputs": [],
   "source": [
    "all_ds = BaseConcatDataset([ds1, ds2])"
   ]
  },
  {
   "cell_type": "code",
   "execution_count": 17,
   "metadata": {},
   "outputs": [],
   "source": [
    "window_len_s = 2\n",
    "fs = all_ds.datasets[0].raw.info['sfreq']\n",
    "window_len_samples = int(fs * window_len_s)\n",
    "window_stride_samples = int(fs * 4)\n",
    "# window_stride_samples = int(fs * window_len_s)\n",
    "windows_ds = create_fixed_length_windows(\n",
    "    all_ds, start_offset_samples=0, stop_offset_samples=None,\n",
    "    window_size_samples=window_len_samples,\n",
    "    window_stride_samples=window_stride_samples, drop_last_window=True,\n",
    "    preload=False)"
   ]
  },
  {
   "cell_type": "code",
   "execution_count": 18,
   "metadata": {},
   "outputs": [
    {
     "name": "stdout",
     "output_type": "stream",
     "text": [
      "tensor([[[-6.6219e-03, -6.6984e-03, -6.7410e-03,  ..., -6.7668e-03,\n",
      "          -6.6746e-03, -6.6051e-03],\n",
      "         [-6.3035e-03, -6.3509e-03, -6.4162e-03,  ..., -6.4719e-03,\n",
      "          -6.3800e-03, -6.2900e-03],\n",
      "         [-8.3630e-03, -8.4100e-03, -8.4701e-03,  ..., -8.5641e-03,\n",
      "          -8.4676e-03, -8.3817e-03],\n",
      "         ...,\n",
      "         [ 1.8477e-04,  1.5949e-04,  9.7502e-05,  ..., -2.1671e-04,\n",
      "          -1.3200e-04, -5.3741e-05],\n",
      "         [-5.6502e-03, -5.7106e-03, -5.7451e-03,  ..., -5.9163e-03,\n",
      "          -5.8231e-03, -5.7548e-03],\n",
      "         [ 0.0000e+00,  0.0000e+00,  0.0000e+00,  ...,  0.0000e+00,\n",
      "           0.0000e+00,  0.0000e+00]],\n",
      "\n",
      "        [[-6.7643e-03, -6.8234e-03, -6.8756e-03,  ..., -6.8925e-03,\n",
      "          -6.8053e-03, -6.7479e-03],\n",
      "         [-6.4459e-03, -6.5046e-03, -6.5534e-03,  ..., -6.6023e-03,\n",
      "          -6.5085e-03, -6.4453e-03],\n",
      "         [-8.5088e-03, -8.5684e-03, -8.6178e-03,  ..., -8.6686e-03,\n",
      "          -8.5737e-03, -8.5115e-03],\n",
      "         ...,\n",
      "         [-4.1474e-04, -4.7517e-04, -5.1327e-04,  ..., -9.1495e-04,\n",
      "          -8.2730e-04, -7.6387e-04],\n",
      "         [-5.7667e-03, -5.8274e-03, -5.8714e-03,  ..., -5.9799e-03,\n",
      "          -5.8888e-03, -5.8337e-03],\n",
      "         [ 0.0000e+00,  0.0000e+00,  0.0000e+00,  ...,  0.0000e+00,\n",
      "           0.0000e+00,  0.0000e+00]],\n",
      "\n",
      "        [[-6.7675e-03, -6.8381e-03, -6.8985e-03,  ..., -6.8509e-03,\n",
      "          -6.7566e-03, -6.7291e-03],\n",
      "         [-6.4998e-03, -6.5650e-03, -6.6271e-03,  ..., -6.5959e-03,\n",
      "          -6.4989e-03, -6.4683e-03],\n",
      "         [-8.5629e-03, -8.6258e-03, -8.6889e-03,  ..., -8.6532e-03,\n",
      "          -8.5577e-03, -8.5247e-03],\n",
      "         ...,\n",
      "         [-1.0274e-03, -1.0935e-03, -1.1381e-03,  ..., -1.3950e-03,\n",
      "          -1.3022e-03, -1.2654e-03],\n",
      "         [-5.8934e-03, -5.9490e-03, -6.0040e-03,  ..., -6.0778e-03,\n",
      "          -5.9835e-03, -5.9499e-03],\n",
      "         [ 0.0000e+00,  0.0000e+00,  0.0000e+00,  ...,  0.0000e+00,\n",
      "           0.0000e+00,  0.0000e+00]],\n",
      "\n",
      "        ...,\n",
      "\n",
      "        [[-7.1341e-03, -7.1897e-03, -7.2481e-03,  ..., -7.1012e-03,\n",
      "          -7.0497e-03, -7.0861e-03],\n",
      "         [-7.0151e-03, -7.0710e-03, -7.1313e-03,  ..., -6.9963e-03,\n",
      "          -6.9401e-03, -6.9801e-03],\n",
      "         [-8.1560e-03, -8.2138e-03, -8.2762e-03,  ..., -8.0630e-03,\n",
      "          -8.0075e-03, -8.0483e-03],\n",
      "         ...,\n",
      "         [-1.8850e-03, -1.9431e-03, -2.0048e-03,  ..., -1.8574e-03,\n",
      "          -1.8029e-03, -1.8430e-03],\n",
      "         [-6.1447e-03, -6.1974e-03, -6.2580e-03,  ..., -6.1177e-03,\n",
      "          -6.0638e-03, -6.1094e-03],\n",
      "         [ 0.0000e+00,  0.0000e+00,  0.0000e+00,  ...,  0.0000e+00,\n",
      "           0.0000e+00,  0.0000e+00]],\n",
      "\n",
      "        [[-7.1475e-03, -7.2052e-03, -7.2720e-03,  ..., -7.1160e-03,\n",
      "          -7.0578e-03, -7.1043e-03],\n",
      "         [-7.0489e-03, -7.1050e-03, -7.1671e-03,  ..., -7.0363e-03,\n",
      "          -6.9759e-03, -7.0158e-03],\n",
      "         [-8.0210e-03, -8.0801e-03, -8.1422e-03,  ..., -7.9045e-03,\n",
      "          -7.8442e-03, -7.8845e-03],\n",
      "         ...,\n",
      "         [-1.8569e-03, -1.9115e-03, -1.9764e-03,  ..., -1.8106e-03,\n",
      "          -1.7474e-03, -1.7848e-03],\n",
      "         [-6.1615e-03, -6.2140e-03, -6.2850e-03,  ..., -6.1456e-03,\n",
      "          -6.0825e-03, -6.1194e-03],\n",
      "         [ 0.0000e+00,  0.0000e+00,  0.0000e+00,  ...,  0.0000e+00,\n",
      "           0.0000e+00,  0.0000e+00]],\n",
      "\n",
      "        [[-7.2003e-03, -7.2525e-03, -7.3199e-03,  ..., -7.1891e-03,\n",
      "          -7.1204e-03, -7.1520e-03],\n",
      "         [-7.1200e-03, -7.1743e-03, -7.2424e-03,  ..., -7.1218e-03,\n",
      "          -7.0527e-03, -7.0847e-03],\n",
      "         [-7.8810e-03, -7.9336e-03, -8.0028e-03,  ..., -7.7725e-03,\n",
      "          -7.7028e-03, -7.7351e-03],\n",
      "         ...,\n",
      "         [-1.8444e-03, -1.9032e-03, -1.9779e-03,  ..., -1.7715e-03,\n",
      "          -1.6933e-03, -1.7248e-03],\n",
      "         [-6.2141e-03, -6.2729e-03, -6.3484e-03,  ..., -6.1863e-03,\n",
      "          -6.1142e-03, -6.1449e-03],\n",
      "         [ 0.0000e+00,  0.0000e+00,  0.0000e+00,  ...,  0.0000e+00,\n",
      "           0.0000e+00,  0.0000e+00]]])\n",
      "torch.Size([12, 129, 1000])\n"
     ]
    }
   ],
   "source": [
    "dataloader = DataLoader(\n",
    "        windows_ds, batch_size=12, shuffle=False, pin_memory=False,\n",
    "        num_workers=3, worker_init_fn=None)\n",
    "for X, y, _ in dataloader:\n",
    "    print(X)\n",
    "    print(X.shape)\n",
    "    break"
   ]
  },
  {
   "cell_type": "code",
   "execution_count": null,
   "metadata": {},
   "outputs": [],
   "source": []
  }
 ],
 "metadata": {
  "kernelspec": {
   "display_name": ".venv",
   "language": "python",
   "name": "python3"
  },
  "language_info": {
   "codemirror_mode": {
    "name": "ipython",
    "version": 3
   },
   "file_extension": ".py",
   "mimetype": "text/x-python",
   "name": "python",
   "nbconvert_exporter": "python",
   "pygments_lexer": "ipython3",
   "version": "3.10.12"
  }
 },
 "nbformat": 4,
 "nbformat_minor": 2
}

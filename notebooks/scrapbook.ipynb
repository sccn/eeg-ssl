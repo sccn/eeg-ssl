{
 "cells": [
  {
   "cell_type": "code",
   "execution_count": 3,
   "metadata": {},
   "outputs": [],
   "source": [
    "import os\n",
    "import sys\n",
    "sys.path.insert(0,'../')\n",
    "from libs.ssl_data import *\n",
    "from libs.ssl_model import *\n",
    "from libs.ssl_utils import *\n",
    "from libs.ssl_task import *\n",
    "from libs import eeg_utils\n",
    "from sklearn.model_selection import train_test_split\n",
    "# Use these commands in the same cell to autoreload local library source code\n",
    "# https://stackoverflow.com/questions/45807760/change-source-code-and-update-jupyter-notebook-but-retain-variables\n",
    "%load_ext autoreload\n",
    "%autoreload 2"
   ]
  },
  {
   "cell_type": "code",
   "execution_count": null,
   "metadata": {},
   "outputs": [],
   "source": [
    "bad_subjects = ['NDARJP304NK1', 'NDARME789TD2', 'NDARUA442ZVF', 'NDARTY128YLU', 'NDARDW550GU6','NDARLD243KRE']\n",
    "for dsnumber in ['ds005505','ds005506','ds005507','ds005508','ds005509','ds005510','ds005511','ds005512','ds005514','ds005515','ds005516']:\n",
    "    files = np.load(f'data/{dsnumber}_files.npy')\n",
    "    for f in files:\n",
    "        if 'RestingState' not in f or any(x in f for x in bad_subjects):\n",
    "            continue\n",
    "        print(f)\n",
    "        # Load the raw data\n",
    "        raw = mne.io.read_raw_eeglab(f, preload=False)\n",
    "        raw.crop(tmin=10)  # crop first 10 seconds as begining of noise recording"
   ]
  }
 ],
 "metadata": {
  "kernelspec": {
   "display_name": ".venv",
   "language": "python",
   "name": "python3"
  },
  "language_info": {
   "codemirror_mode": {
    "name": "ipython",
    "version": 3
   },
   "file_extension": ".py",
   "mimetype": "text/x-python",
   "name": "python",
   "nbconvert_exporter": "python",
   "pygments_lexer": "ipython3",
   "version": "3.10.12"
  }
 },
 "nbformat": 4,
 "nbformat_minor": 4
}

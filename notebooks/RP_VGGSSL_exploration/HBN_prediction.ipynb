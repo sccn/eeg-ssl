{
 "cells": [
  {
   "cell_type": "code",
   "execution_count": 1,
   "metadata": {},
   "outputs": [
    {
     "name": "stderr",
     "output_type": "stream",
     "text": [
      "/home/dung/eeg-ssl/.venv/lib/python3.10/site-packages/tqdm/auto.py:21: TqdmWarning: IProgress not found. Please update jupyter and ipywidgets. See https://ipywidgets.readthedocs.io/en/stable/user_install.html\n",
      "  from .autonotebook import tqdm as notebook_tqdm\n"
     ]
    }
   ],
   "source": [
    "import sys\n",
    "sys.path.insert(0,'../..')\n",
    "from libs.vis_utils import *\n",
    "from libs.evaluation import *\n",
    "from libs.ssl_model import VGGSSL\n",
    "%load_ext autoreload\n",
    "%autoreload 2"
   ]
  },
  {
   "cell_type": "code",
   "execution_count": 7,
   "metadata": {},
   "outputs": [],
   "source": [
    "%reload_ext autoreload"
   ]
  },
  {
   "cell_type": "code",
   "execution_count": 2,
   "metadata": {},
   "outputs": [],
   "source": [
    "data_path = '../data/hbn_preprocessed_windowed_scaled'\n",
    "checkpoint = 'RP_VGGSSL/checkpoints/epoch=7-step=5064.ckpt'"
   ]
  },
  {
   "cell_type": "code",
   "execution_count": 8,
   "metadata": {},
   "outputs": [
    {
     "name": "stderr",
     "output_type": "stream",
     "text": [
      "/home/dung/eeg-ssl/notebooks/RP_VGGSSL_exploration/../../libs/evaluation.py:49: FutureWarning: You are using `torch.load` with `weights_only=False` (the current default value), which uses the default pickle module implicitly. It is possible to construct malicious pickle data which will execute arbitrary code during unpickling (See https://github.com/pytorch/pytorch/blob/main/SECURITY.md#untrusted-models for more details). In a future release, the default value for `weights_only` will be flipped to `True`. This limits the functions that could be executed during unpickling. Arbitrary objects will no longer be allowed to be loaded via this mode unless they are explicitly allowlisted by the user via `torch.serialization.add_safe_globals`. We recommend you start setting `weights_only=True` for any use case where you don't have full control of the loaded file. Please open an issue on GitHub for any issues related to this experimental feature.\n",
      "  \n"
     ]
    },
    {
     "data": {
      "text/plain": [
       "(10679, 100)"
      ]
     },
     "execution_count": 8,
     "metadata": {},
     "output_type": "execute_result"
    }
   ],
   "source": [
    "embs = get_embs(data_path, checkpoint, VGGSSL(), '.')\n",
    "embs.shape"
   ]
  },
  {
   "cell_type": "code",
   "execution_count": 4,
   "metadata": {},
   "outputs": [
    {
     "name": "stderr",
     "output_type": "stream",
     "text": [
      "/home/dung/eeg-ssl/.venv/lib/python3.10/site-packages/braindecode/datasets/base.py:514: FutureWarning: The behavior of DataFrame concatenation with empty or all-NA entries is deprecated. In a future version, this will no longer exclude empty or all-NA columns when determining the result dtypes. To retain the old behavior, exclude the relevant entries before the concat operation.\n",
      "  return pd.concat(all_dfs)\n"
     ]
    },
    {
     "data": {
      "text/plain": [
       "(10679,)"
      ]
     },
     "execution_count": 4,
     "metadata": {},
     "output_type": "execute_result"
    }
   ],
   "source": [
    "labels = get_labels('p_factor', data_path)\n",
    "labels.shape"
   ]
  },
  {
   "cell_type": "code",
   "execution_count": 5,
   "metadata": {},
   "outputs": [
    {
     "name": "stderr",
     "output_type": "stream",
     "text": [
      "/home/dung/eeg-ssl/.venv/lib/python3.10/site-packages/braindecode/datasets/base.py:514: FutureWarning: The behavior of DataFrame concatenation with empty or all-NA entries is deprecated. In a future version, this will no longer exclude empty or all-NA columns when determining the result dtypes. To retain the old behavior, exclude the relevant entries before the concat operation.\n",
      "  return pd.concat(all_dfs)\n"
     ]
    },
    {
     "data": {
      "text/plain": [
       "(10679,)"
      ]
     },
     "execution_count": 5,
     "metadata": {},
     "output_type": "execute_result"
    }
   ],
   "source": [
    "subjects = get_labels('subject', data_path)\n",
    "subjects.shape"
   ]
  },
  {
   "cell_type": "code",
   "execution_count": 6,
   "metadata": {},
   "outputs": [
    {
     "data": {
      "text/plain": [
       "array(['NDARRD326KB9', 'NDARRD326KB9', 'NDARRD326KB9', ...,\n",
       "       'NDARNL587LVL', 'NDARNL587LVL', 'NDARNL587LVL'], dtype=object)"
      ]
     },
     "execution_count": 6,
     "metadata": {},
     "output_type": "execute_result"
    }
   ],
   "source": [
    "subjects"
   ]
  },
  {
   "cell_type": "code",
   "execution_count": 18,
   "metadata": {},
   "outputs": [
    {
     "data": {
      "text/plain": [
       "8.953045"
      ]
     },
     "execution_count": 18,
     "metadata": {},
     "output_type": "execute_result"
    }
   ],
   "source": [
    "rankme(embs)"
   ]
  },
  {
   "cell_type": "code",
   "execution_count": 41,
   "metadata": {},
   "outputs": [],
   "source": [
    "def train_regressor(regr, embs, labels):\n",
    "    isnan = np.isnan(labels)\n",
    "    X, Y= embs[~isnan], labels[~isnan]\n",
    "    assert X.shape[0] == Y.shape[0]\n",
    "    regr.fit(X, Y)\n",
    "    score = regr.score(X, Y) \n",
    "    return regr, score"
   ]
  },
  {
   "cell_type": "code",
   "execution_count": 49,
   "metadata": {},
   "outputs": [
    {
     "name": "stdout",
     "output_type": "stream",
     "text": [
      "-0.12673694155976478 0.515983706430404\n"
     ]
    }
   ],
   "source": [
    "def get_prediction_for_subject(subject, embs, labels, regr, subjects):\n",
    "    subject_embs = embs[subjects==subject]\n",
    "    subject_labels = labels[subjects==subject]\n",
    "    return regr.predict(subject_embs).mean(), subject_labels.mean()\n",
    "\n",
    "def subject_level_score(embs, labels, regr, subjects):\n",
    "    unique_subjects = np.unique(subjects)\n",
    "    subject_level_predictions = np.array([get_prediction_for_subject(subject, embs, labels, regr, subjects) for subject in unique_subjects])\n",
    "    res_sum = ((subject_level_predictions[1] - subject_level_predictions[0])**2).sum()\n",
    "    total_sum = ((subject_level_predictions[1] - subject_level_predictions[1].mean())**2).sum()\n",
    "    \n",
    "    return 1-res_sum/total_sum\n",
    "from sklearn.neural_network import MLPRegressor\n",
    "regr = MLPRegressor(random_state=1, max_iter=1000)\n",
    "regressor, sample_level_score = train_regressor(regr, embs, labels)\n",
    "print(subject_level_score(embs, labels, regressor, subjects), sample_level_score)\n"
   ]
  },
  {
   "cell_type": "code",
   "execution_count": 50,
   "metadata": {},
   "outputs": [
    {
     "name": "stdout",
     "output_type": "stream",
     "text": [
      "0.39130477026591604 0.031188187069314033\n"
     ]
    }
   ],
   "source": [
    "from sklearn.linear_model import LinearRegression\n",
    "regr = LinearRegression()\n",
    "regressor, sample_level_score = train_regressor(regr, embs, labels)\n",
    "print(subject_level_score(embs, labels, regressor, subjects), sample_level_score)"
   ]
  },
  {
   "cell_type": "code",
   "execution_count": 51,
   "metadata": {},
   "outputs": [],
   "source": [
    "from braindecode.datautil import load_concat_dataset\n",
    "windows_ds = load_concat_dataset(path=data_path, preload=False)"
   ]
  },
  {
   "cell_type": "code",
   "execution_count": null,
   "metadata": {},
   "outputs": [],
   "source": []
  }
 ],
 "metadata": {
  "kernelspec": {
   "display_name": ".venv",
   "language": "python",
   "name": "python3"
  },
  "language_info": {
   "codemirror_mode": {
    "name": "ipython",
    "version": 3
   },
   "file_extension": ".py",
   "mimetype": "text/x-python",
   "name": "python",
   "nbconvert_exporter": "python",
   "pygments_lexer": "ipython3",
   "version": "3.10.12"
  }
 },
 "nbformat": 4,
 "nbformat_minor": 2
}
